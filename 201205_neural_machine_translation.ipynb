{
  "nbformat": 4,
  "nbformat_minor": 0,
  "metadata": {
    "colab": {
      "name": "201205_neural_machine_translation.ipynb",
      "provenance": [],
      "collapsed_sections": [],
      "authorship_tag": "ABX9TyNAniiDE0bepmXXUCV/w45O",
      "include_colab_link": true
    },
    "kernelspec": {
      "name": "python3",
      "display_name": "Python 3"
    }
  },
  "cells": [
    {
      "cell_type": "markdown",
      "metadata": {
        "id": "view-in-github",
        "colab_type": "text"
      },
      "source": [
        "<a href=\"https://colab.research.google.com/github/JoonYoung-Sohn/practice/blob/master/201205_neural_machine_translation.ipynb\" target=\"_parent\"><img src=\"https://colab.research.google.com/assets/colab-badge.svg\" alt=\"Open In Colab\"/></a>"
      ]
    },
    {
      "cell_type": "code",
      "metadata": {
        "id": "Zamkyo7-jwCK"
      },
      "source": [
        "import numpy as np\n",
        "import pandas as pd\n",
        "import re\n",
        "import shutil\n",
        "import os\n",
        "import unicodedata\n",
        "import urllib3\n",
        "import zipfile\n",
        "import tensorflow as tf\n",
        "from tensorflow.keras.preprocessing.text import Tokenizer\n",
        "from tensorflow.keras.preprocessing.sequence import pad_sequences"
      ],
      "execution_count": 1,
      "outputs": []
    },
    {
      "cell_type": "code",
      "metadata": {
        "id": "rM0b7yj02_t3"
      },
      "source": [
        "http = urllib3.PoolManager()\n",
        "url ='http://www.manythings.org/anki/fra-eng.zip'\n",
        "filename = 'fra-eng.zip'\n",
        "path = os.getcwd()\n",
        "zipfilename = os.path.join(path, filename)\n",
        "with http.request('GET', url, preload_content=False) as r, open(zipfilename, 'wb') as out_file:       \n",
        "    shutil.copyfileobj(r, out_file)\n",
        "\n",
        "with zipfile.ZipFile(zipfilename, 'r') as zip_ref:\n",
        "    zip_ref.extractall(path)"
      ],
      "execution_count": 2,
      "outputs": []
    },
    {
      "cell_type": "code",
      "metadata": {
        "id": "0DzHtTwQ3ERZ"
      },
      "source": [
        "num_samples = 33000"
      ],
      "execution_count": 3,
      "outputs": []
    },
    {
      "cell_type": "code",
      "metadata": {
        "id": "Rp4NanKI3H6s"
      },
      "source": [
        "def unicode_to_ascii(s):\n",
        "  return ''.join(c for c in unicodedata.normalize('NFD', s)\n",
        "      if unicodedata.category(c) != 'Mn')"
      ],
      "execution_count": 4,
      "outputs": []
    },
    {
      "cell_type": "code",
      "metadata": {
        "id": "zFU92dYv3P-7"
      },
      "source": [
        "def preprocess_sentence(sent):\n",
        "    # 위에서 구현한 함수를 내부적으로 호출\n",
        "    sent = unicode_to_ascii(sent.lower())\n",
        "\n",
        "    # 단어와 구두점 사이에 공백을 만듭니다.\n",
        "    # Ex) \"he is a boy.\" => \"he is a boy .\"\n",
        "    sent = re.sub(r\"([?.!,¿])\", r\" \\1\", sent)\n",
        "\n",
        "    # (a-z, A-Z, \".\", \"?\", \"!\", \",\") 이들을 제외하고는 전부 공백으로 변환합니다.\n",
        "    sent = re.sub(r\"[^a-zA-Z!.?]+\", r\" \", sent)\n",
        "\n",
        "    sent = re.sub(r\"\\s+\", \" \", sent)\n",
        "    return sent"
      ],
      "execution_count": 5,
      "outputs": []
    },
    {
      "cell_type": "code",
      "metadata": {
        "colab": {
          "base_uri": "https://localhost:8080/"
        },
        "id": "pKN9f8113cEJ",
        "outputId": "2d9ed20c-1d9a-4920-c862-a343d2ff4a65"
      },
      "source": [
        "en_sent = u\"Have you had dinner?\"\n",
        "fr_sent = u\"Avez-vous déjà diné?\"\n",
        "print(preprocess_sentence(en_sent))\n",
        "print(preprocess_sentence(fr_sent).encode('utf-8'))"
      ],
      "execution_count": 6,
      "outputs": [
        {
          "output_type": "stream",
          "text": [
            "have you had dinner ?\n",
            "b'avez vous deja dine ?'\n"
          ],
          "name": "stdout"
        }
      ]
    },
    {
      "cell_type": "code",
      "metadata": {
        "id": "vOSbLOCM3jKS"
      },
      "source": [
        "def load_preprocessed_data():\n",
        "    encoder_input, decoder_input, decoder_target = [], [], []\n",
        "\n",
        "    with open(\"fra.txt\", \"r\") as lines:\n",
        "        for i, line in enumerate(lines):\n",
        "\n",
        "            # source 데이터와 target 데이터 분리\n",
        "            src_line, tar_line, _ = line.strip().split('\\t')\n",
        "\n",
        "            # source 데이터 전처리\n",
        "            src_line_input = [w for w in preprocess_sentence(src_line).split()]\n",
        "\n",
        "            # target 데이터 전처리\n",
        "            tar_line = preprocess_sentence(tar_line)\n",
        "            tar_line_input = [w for w in (\"<sos> \" + tar_line).split()]\n",
        "            tar_line_target = [w for w in (tar_line + \" <eos>\").split()]\n",
        "\n",
        "            encoder_input.append(src_line_input)\n",
        "            decoder_input.append(tar_line_input)\n",
        "            decoder_target.append(tar_line_target)\n",
        "\n",
        "            if i == num_samples - 1:\n",
        "                break\n",
        "\n",
        "    return encoder_input, decoder_input, decoder_target"
      ],
      "execution_count": 7,
      "outputs": []
    },
    {
      "cell_type": "code",
      "metadata": {
        "colab": {
          "base_uri": "https://localhost:8080/"
        },
        "id": "4QyIsrY8329o",
        "outputId": "69f5f053-1125-42bf-f355-f36d9712a7ee"
      },
      "source": [
        "sents_en_in, sents_fra_in, sents_fra_out = load_preprocessed_data()\n",
        "print(sents_en_in[:5])\n",
        "print(sents_fra_in[:5])\n",
        "print(sents_fra_out[:5])"
      ],
      "execution_count": 8,
      "outputs": [
        {
          "output_type": "stream",
          "text": [
            "[['go', '.'], ['hi', '.'], ['hi', '.'], ['run', '!'], ['run', '!']]\n",
            "[['<sos>', 'va', '!'], ['<sos>', 'salut', '!'], ['<sos>', 'salut', '.'], ['<sos>', 'cours', '!'], ['<sos>', 'courez', '!']]\n",
            "[['va', '!', '<eos>'], ['salut', '!', '<eos>'], ['salut', '.', '<eos>'], ['cours', '!', '<eos>'], ['courez', '!', '<eos>']]\n"
          ],
          "name": "stdout"
        }
      ]
    },
    {
      "cell_type": "code",
      "metadata": {
        "id": "gF0GgHLj6cQZ"
      },
      "source": [
        "tokenizer_en = Tokenizer(filters=\"\", lower=False)\n",
        "tokenizer_en.fit_on_texts(sents_en_in)\n",
        "encoder_input = tokenizer_en.texts_to_sequences(sents_en_in)\n",
        "\n",
        "tokenizer_fra = Tokenizer(filters=\"\", lower=False)\n",
        "tokenizer_fra.fit_on_texts(sents_fra_in)\n",
        "tokenizer_fra.fit_on_texts(sents_fra_out)\n",
        "decoder_input = tokenizer_fra.texts_to_sequences(sents_fra_in)\n",
        "decoder_target = tokenizer_fra.texts_to_sequences(sents_fra_out)"
      ],
      "execution_count": 9,
      "outputs": []
    },
    {
      "cell_type": "code",
      "metadata": {
        "id": "1RwKGWH86ehl"
      },
      "source": [
        "encoder_input = pad_sequences(encoder_input, padding=\"post\")\n",
        "decoder_input = pad_sequences(decoder_input, padding=\"post\")\n",
        "decoder_target = pad_sequences(decoder_target, padding=\"post\")"
      ],
      "execution_count": 10,
      "outputs": []
    },
    {
      "cell_type": "code",
      "metadata": {
        "colab": {
          "base_uri": "https://localhost:8080/"
        },
        "id": "mBnB07Jg6gHS",
        "outputId": "fd482d04-af06-4917-bad8-01b9c4b1e82b"
      },
      "source": [
        "src_vocab_size = len(tokenizer_en.word_index) + 1\n",
        "tar_vocab_size = len(tokenizer_fra.word_index) + 1\n",
        "print(\"영어 단어 집합의 크기 : {:d}, 프랑스어 단어 집합의 크기 : {:d}\".format(src_vocab_size, tar_vocab_size))"
      ],
      "execution_count": 11,
      "outputs": [
        {
          "output_type": "stream",
          "text": [
            "영어 단어 집합의 크기 : 4678, 프랑스어 단어 집합의 크기 : 8032\n"
          ],
          "name": "stdout"
        }
      ]
    },
    {
      "cell_type": "code",
      "metadata": {
        "id": "mpk-YFpF6iFq"
      },
      "source": [
        "src_to_index = tokenizer_en.word_index\n",
        "index_to_src = tokenizer_en.index_word # 훈련 후 결과 비교할 때 사용\n",
        "\n",
        "tar_to_index = tokenizer_fra.word_index # 훈련 후 예측 과정에서 사용\n",
        "index_to_tar = tokenizer_fra.index_word # 훈련 후 결과 비교할 때 사용"
      ],
      "execution_count": 12,
      "outputs": []
    },
    {
      "cell_type": "code",
      "metadata": {
        "colab": {
          "base_uri": "https://localhost:8080/"
        },
        "id": "siCVcH1J6jdy",
        "outputId": "afb630f4-7d38-432e-8984-49246f5c4643"
      },
      "source": [
        "indices = np.arange(encoder_input.shape[0])\n",
        "np.random.shuffle(indices)\n",
        "print(indices)"
      ],
      "execution_count": 13,
      "outputs": [
        {
          "output_type": "stream",
          "text": [
            "[ 4768  3962 27867 ... 14893  5172  6588]\n"
          ],
          "name": "stdout"
        }
      ]
    },
    {
      "cell_type": "code",
      "metadata": {
        "id": "sYjjsul_6lCD"
      },
      "source": [
        "encoder_input = encoder_input[indices]\n",
        "decoder_input = decoder_input[indices]\n",
        "decoder_target = decoder_target[indices]"
      ],
      "execution_count": 14,
      "outputs": []
    },
    {
      "cell_type": "code",
      "metadata": {
        "colab": {
          "base_uri": "https://localhost:8080/"
        },
        "id": "JTcsmjFl6nHZ",
        "outputId": "c9dd03fb-e709-4c4a-fae1-3b55e6206a29"
      },
      "source": [
        "encoder_input[30997]"
      ],
      "execution_count": 15,
      "outputs": [
        {
          "output_type": "execute_result",
          "data": {
            "text/plain": [
              "array([ 213, 1266,    1,    0,    0,    0,    0,    0], dtype=int32)"
            ]
          },
          "metadata": {
            "tags": []
          },
          "execution_count": 15
        }
      ]
    },
    {
      "cell_type": "code",
      "metadata": {
        "colab": {
          "base_uri": "https://localhost:8080/"
        },
        "id": "y_INkoVq6osB",
        "outputId": "34d4f22b-2bfd-40bf-d294-9a5345b04d6a"
      },
      "source": [
        "decoder_input[30997]"
      ],
      "execution_count": 16,
      "outputs": [
        {
          "output_type": "execute_result",
          "data": {
            "text/plain": [
              "array([  2, 266,  16, 587,  12,   0,   0,   0,   0,   0,   0,   0,   0,\n",
              "         0,   0,   0], dtype=int32)"
            ]
          },
          "metadata": {
            "tags": []
          },
          "execution_count": 16
        }
      ]
    },
    {
      "cell_type": "code",
      "metadata": {
        "colab": {
          "base_uri": "https://localhost:8080/"
        },
        "id": "qteFCoKg6p_d",
        "outputId": "ea4a87d5-6eed-4868-97e6-aa781e004d17"
      },
      "source": [
        "decoder_target[30997]"
      ],
      "execution_count": 17,
      "outputs": [
        {
          "output_type": "execute_result",
          "data": {
            "text/plain": [
              "array([266,  16, 587,  12,   3,   0,   0,   0,   0,   0,   0,   0,   0,\n",
              "         0,   0,   0], dtype=int32)"
            ]
          },
          "metadata": {
            "tags": []
          },
          "execution_count": 17
        }
      ]
    },
    {
      "cell_type": "code",
      "metadata": {
        "colab": {
          "base_uri": "https://localhost:8080/"
        },
        "id": "OQmYxRi46reC",
        "outputId": "fab997c5-c976-49b5-d9e6-0b39cec7b0c5"
      },
      "source": [
        "n_of_val = int(33000*0.1)\n",
        "print(n_of_val)"
      ],
      "execution_count": 18,
      "outputs": [
        {
          "output_type": "stream",
          "text": [
            "3300\n"
          ],
          "name": "stdout"
        }
      ]
    },
    {
      "cell_type": "code",
      "metadata": {
        "id": "uuk-Xr946tE8"
      },
      "source": [
        "encoder_input_train = encoder_input[:-n_of_val]\n",
        "decoder_input_train = decoder_input[:-n_of_val]\n",
        "decoder_target_train = decoder_target[:-n_of_val]\n",
        "\n",
        "encoder_input_test = encoder_input[-n_of_val:]\n",
        "decoder_input_test = decoder_input[-n_of_val:]\n",
        "decoder_target_test = decoder_target[-n_of_val:]"
      ],
      "execution_count": 19,
      "outputs": []
    },
    {
      "cell_type": "code",
      "metadata": {
        "colab": {
          "base_uri": "https://localhost:8080/"
        },
        "id": "bX0eIeWm6un4",
        "outputId": "03eefeee-b342-4467-a309-e47bd3b94082"
      },
      "source": [
        "print(encoder_input_train.shape)\n",
        "print(decoder_input_train.shape)\n",
        "print(decoder_target_train.shape)\n",
        "print(encoder_input_test.shape)\n",
        "print(decoder_input_test.shape)\n",
        "print(decoder_target_test.shape)"
      ],
      "execution_count": 20,
      "outputs": [
        {
          "output_type": "stream",
          "text": [
            "(29700, 8)\n",
            "(29700, 16)\n",
            "(29700, 16)\n",
            "(3300, 8)\n",
            "(3300, 16)\n",
            "(3300, 16)\n"
          ],
          "name": "stdout"
        }
      ]
    },
    {
      "cell_type": "code",
      "metadata": {
        "id": "2P0OFeTr6wBn"
      },
      "source": [
        "from tensorflow.keras.layers import Input, LSTM, Embedding, Dense, Masking\n",
        "from tensorflow.keras.models import Model"
      ],
      "execution_count": 21,
      "outputs": []
    },
    {
      "cell_type": "code",
      "metadata": {
        "id": "j0HVhFce60to"
      },
      "source": [
        "latent_dim = 50"
      ],
      "execution_count": 22,
      "outputs": []
    },
    {
      "cell_type": "code",
      "metadata": {
        "id": "txcwTEe-612z"
      },
      "source": [
        "encoder_inputs = Input(shape=(None,))\n",
        "enc_emb =  Embedding(src_vocab_size, latent_dim)(encoder_inputs) # 임베딩 층\n",
        "enc_masking = Masking(mask_value=0.0)(enc_emb) # 패딩 0은 연산에서 제외\n",
        "encoder_lstm = LSTM(latent_dim, return_state=True) # 상태값 리턴을 위해 return_state는 True\n",
        "encoder_outputs, state_h, state_c = encoder_lstm(enc_masking) # 은닉 상태와 셀 상태를 리턴\n",
        "encoder_states = [state_h, state_c] # 인코더의 은닉 상태와 셀 상태를 저장"
      ],
      "execution_count": 23,
      "outputs": []
    },
    {
      "cell_type": "code",
      "metadata": {
        "id": "nOLrcbW963EP"
      },
      "source": [
        "decoder_inputs = Input(shape=(None,))\n",
        "dec_emb_layer = Embedding(tar_vocab_size, latent_dim) # 임베딩 층\n",
        "dec_emb = dec_emb_layer(decoder_inputs) # 패딩 0은 연산에서 제외\n",
        "dec_masking = Masking(mask_value=0.0)(dec_emb)\n",
        "\n",
        "# 상태값 리턴을 위해 return_state는 True, 모든 시점에 대해서 단어를 예측하기 위해 return_sequences는 True\n",
        "decoder_lstm = LSTM(latent_dim, return_sequences=True, return_state=True) \n",
        "\n",
        "# 인코더의 은닉 상태를 초기 은닉 상태(initial_state)로 사용\n",
        "decoder_outputs, _, _ = decoder_lstm(dec_masking,\n",
        "                                     initial_state=encoder_states)\n",
        "\n",
        "# 모든 시점의 결과에 대해서 소프트맥스 함수를 사용한 출력층을 통해 단어 예측\n",
        "decoder_dense = Dense(tar_vocab_size, activation='softmax')\n",
        "decoder_outputs = decoder_dense(decoder_outputs)"
      ],
      "execution_count": 24,
      "outputs": []
    },
    {
      "cell_type": "code",
      "metadata": {
        "id": "LKDbBY2f649Q"
      },
      "source": [
        "model = Model([encoder_inputs, decoder_inputs], decoder_outputs)"
      ],
      "execution_count": 25,
      "outputs": []
    },
    {
      "cell_type": "code",
      "metadata": {
        "id": "s8PhJsyH66Ap"
      },
      "source": [
        "model.compile(optimizer='rmsprop', loss='sparse_categorical_crossentropy', metrics=['acc'])"
      ],
      "execution_count": 26,
      "outputs": []
    },
    {
      "cell_type": "code",
      "metadata": {
        "colab": {
          "base_uri": "https://localhost:8080/"
        },
        "id": "zxLNx-Vu67Xz",
        "outputId": "7efdea36-d8d4-484b-d9fa-49db2763c6fe"
      },
      "source": [
        "model.summary()"
      ],
      "execution_count": 27,
      "outputs": [
        {
          "output_type": "stream",
          "text": [
            "Model: \"functional_1\"\n",
            "__________________________________________________________________________________________________\n",
            "Layer (type)                    Output Shape         Param #     Connected to                     \n",
            "==================================================================================================\n",
            "input_1 (InputLayer)            [(None, None)]       0                                            \n",
            "__________________________________________________________________________________________________\n",
            "input_2 (InputLayer)            [(None, None)]       0                                            \n",
            "__________________________________________________________________________________________________\n",
            "embedding (Embedding)           (None, None, 50)     233900      input_1[0][0]                    \n",
            "__________________________________________________________________________________________________\n",
            "embedding_1 (Embedding)         (None, None, 50)     401600      input_2[0][0]                    \n",
            "__________________________________________________________________________________________________\n",
            "masking (Masking)               (None, None, 50)     0           embedding[0][0]                  \n",
            "__________________________________________________________________________________________________\n",
            "masking_1 (Masking)             (None, None, 50)     0           embedding_1[0][0]                \n",
            "__________________________________________________________________________________________________\n",
            "lstm (LSTM)                     [(None, 50), (None,  20200       masking[0][0]                    \n",
            "__________________________________________________________________________________________________\n",
            "lstm_1 (LSTM)                   [(None, None, 50), ( 20200       masking_1[0][0]                  \n",
            "                                                                 lstm[0][1]                       \n",
            "                                                                 lstm[0][2]                       \n",
            "__________________________________________________________________________________________________\n",
            "dense (Dense)                   (None, None, 8032)   409632      lstm_1[0][0]                     \n",
            "==================================================================================================\n",
            "Total params: 1,085,532\n",
            "Trainable params: 1,085,532\n",
            "Non-trainable params: 0\n",
            "__________________________________________________________________________________________________\n"
          ],
          "name": "stdout"
        }
      ]
    },
    {
      "cell_type": "code",
      "metadata": {
        "colab": {
          "base_uri": "https://localhost:8080/"
        },
        "id": "_OtDbH5668MW",
        "outputId": "61b04533-55fc-45ce-fb54-10d5a92f65ad"
      },
      "source": [
        "model.fit(x = [encoder_input_train, decoder_input_train], y = decoder_target_train, \\\n",
        "          validation_data = ([encoder_input_test, decoder_input_test], decoder_target_test),\n",
        "          batch_size = 128, epochs = 30)"
      ],
      "execution_count": 28,
      "outputs": [
        {
          "output_type": "stream",
          "text": [
            "Epoch 1/30\n",
            "233/233 [==============================] - 171s 735ms/step - loss: 3.1569 - acc: 0.6105 - val_loss: 1.8902 - val_acc: 0.6991\n",
            "Epoch 2/30\n",
            "233/233 [==============================] - 168s 722ms/step - loss: 1.7200 - acc: 0.7293 - val_loss: 1.6273 - val_acc: 0.7443\n",
            "Epoch 3/30\n",
            "233/233 [==============================] - 168s 722ms/step - loss: 1.5400 - acc: 0.7489 - val_loss: 1.5082 - val_acc: 0.7550\n",
            "Epoch 4/30\n",
            "233/233 [==============================] - 168s 722ms/step - loss: 1.4424 - acc: 0.7656 - val_loss: 1.4518 - val_acc: 0.7684\n",
            "Epoch 5/30\n",
            "233/233 [==============================] - 169s 725ms/step - loss: 1.3712 - acc: 0.7785 - val_loss: 1.3840 - val_acc: 0.7797\n",
            "Epoch 6/30\n",
            "233/233 [==============================] - 169s 725ms/step - loss: 1.3046 - acc: 0.7889 - val_loss: 1.3202 - val_acc: 0.7877\n",
            "Epoch 7/30\n",
            "233/233 [==============================] - 169s 724ms/step - loss: 1.2443 - acc: 0.7971 - val_loss: 1.2676 - val_acc: 0.7989\n",
            "Epoch 8/30\n",
            "233/233 [==============================] - 169s 727ms/step - loss: 1.1938 - acc: 0.8048 - val_loss: 1.2387 - val_acc: 0.8036\n",
            "Epoch 9/30\n",
            "233/233 [==============================] - 170s 730ms/step - loss: 1.1509 - acc: 0.8118 - val_loss: 1.2045 - val_acc: 0.8087\n",
            "Epoch 10/30\n",
            "233/233 [==============================] - 169s 727ms/step - loss: 1.1134 - acc: 0.8172 - val_loss: 1.1825 - val_acc: 0.8122\n",
            "Epoch 11/30\n",
            "233/233 [==============================] - 169s 727ms/step - loss: 1.0807 - acc: 0.8212 - val_loss: 1.1320 - val_acc: 0.8185\n",
            "Epoch 12/30\n",
            "233/233 [==============================] - 169s 726ms/step - loss: 1.0518 - acc: 0.8247 - val_loss: 1.1055 - val_acc: 0.8218\n",
            "Epoch 13/30\n",
            "233/233 [==============================] - 169s 725ms/step - loss: 1.0260 - acc: 0.8279 - val_loss: 1.0955 - val_acc: 0.8230\n",
            "Epoch 14/30\n",
            "233/233 [==============================] - 169s 723ms/step - loss: 1.0022 - acc: 0.8313 - val_loss: 1.0734 - val_acc: 0.8250\n",
            "Epoch 15/30\n",
            "233/233 [==============================] - 169s 727ms/step - loss: 0.9798 - acc: 0.8339 - val_loss: 1.0588 - val_acc: 0.8277\n",
            "Epoch 16/30\n",
            "233/233 [==============================] - 169s 724ms/step - loss: 0.9595 - acc: 0.8366 - val_loss: 1.0421 - val_acc: 0.8315\n",
            "Epoch 17/30\n",
            "233/233 [==============================] - 169s 727ms/step - loss: 0.9411 - acc: 0.8391 - val_loss: 1.0345 - val_acc: 0.8309\n",
            "Epoch 18/30\n",
            "233/233 [==============================] - 169s 726ms/step - loss: 0.9246 - acc: 0.8415 - val_loss: 1.0230 - val_acc: 0.8320\n",
            "Epoch 19/30\n",
            "233/233 [==============================] - 169s 726ms/step - loss: 0.9094 - acc: 0.8434 - val_loss: 1.0158 - val_acc: 0.8333\n",
            "Epoch 20/30\n",
            "233/233 [==============================] - 169s 724ms/step - loss: 0.8936 - acc: 0.8456 - val_loss: 0.9952 - val_acc: 0.8362\n",
            "Epoch 21/30\n",
            "233/233 [==============================] - 169s 726ms/step - loss: 0.8778 - acc: 0.8474 - val_loss: 0.9851 - val_acc: 0.8378\n",
            "Epoch 22/30\n",
            "233/233 [==============================] - 171s 733ms/step - loss: 0.8632 - acc: 0.8493 - val_loss: 0.9841 - val_acc: 0.8383\n",
            "Epoch 23/30\n",
            "233/233 [==============================] - 170s 729ms/step - loss: 0.8492 - acc: 0.8515 - val_loss: 0.9631 - val_acc: 0.8413\n",
            "Epoch 24/30\n",
            "233/233 [==============================] - 169s 725ms/step - loss: 0.8356 - acc: 0.8532 - val_loss: 0.9588 - val_acc: 0.8411\n",
            "Epoch 25/30\n",
            "233/233 [==============================] - 169s 723ms/step - loss: 0.8234 - acc: 0.8553 - val_loss: 0.9628 - val_acc: 0.8409\n",
            "Epoch 26/30\n",
            "233/233 [==============================] - 169s 725ms/step - loss: 0.8124 - acc: 0.8568 - val_loss: 0.9407 - val_acc: 0.8442\n",
            "Epoch 27/30\n",
            "233/233 [==============================] - 169s 725ms/step - loss: 0.8022 - acc: 0.8584 - val_loss: 0.9427 - val_acc: 0.8445\n",
            "Epoch 28/30\n",
            "233/233 [==============================] - 169s 724ms/step - loss: 0.7927 - acc: 0.8604 - val_loss: 0.9373 - val_acc: 0.8456\n",
            "Epoch 29/30\n",
            "233/233 [==============================] - 169s 723ms/step - loss: 0.7839 - acc: 0.8619 - val_loss: 0.9345 - val_acc: 0.8458\n",
            "Epoch 30/30\n",
            "233/233 [==============================] - 169s 725ms/step - loss: 0.7753 - acc: 0.8635 - val_loss: 0.9194 - val_acc: 0.8482\n"
          ],
          "name": "stdout"
        },
        {
          "output_type": "execute_result",
          "data": {
            "text/plain": [
              "<tensorflow.python.keras.callbacks.History at 0x7fea97351198>"
            ]
          },
          "metadata": {
            "tags": []
          },
          "execution_count": 28
        }
      ]
    },
    {
      "cell_type": "code",
      "metadata": {
        "id": "ZcBMV9ar6-lr"
      },
      "source": [
        "encoder_model = Model(encoder_inputs, encoder_states)"
      ],
      "execution_count": 29,
      "outputs": []
    },
    {
      "cell_type": "code",
      "metadata": {
        "id": "goZUDHaUSnr3"
      },
      "source": [
        "# 이전 시점의 상태를 보관할 텐서\n",
        "decoder_state_input_h = Input(shape=(latent_dim,))\n",
        "decoder_state_input_c = Input(shape=(latent_dim,))\n",
        "decoder_states_inputs = [decoder_state_input_h, decoder_state_input_c]\n",
        "\n",
        "# 훈련 때 사용했던 임베딩 층을 재사용\n",
        "dec_emb2= dec_emb_layer(decoder_inputs)\n",
        "\n",
        "# 다음 단어 예측을 위해 이전 시점의 상태를 현 시점의 초기 상태로 사용\n",
        "decoder_outputs2, state_h2, state_c2 = decoder_lstm(dec_emb2, initial_state=decoder_states_inputs)\n",
        "decoder_states2 = [state_h2, state_c2]\n",
        "\n",
        "# 모든 시점에 대해서 단어 예측\n",
        "decoder_outputs2 = decoder_dense(decoder_outputs2)"
      ],
      "execution_count": 30,
      "outputs": []
    },
    {
      "cell_type": "code",
      "metadata": {
        "id": "2PYj_pKjSp0p"
      },
      "source": [
        "decoder_model = Model(\n",
        "    [decoder_inputs] + decoder_states_inputs,\n",
        "    [decoder_outputs2] + decoder_states2)"
      ],
      "execution_count": 31,
      "outputs": []
    },
    {
      "cell_type": "code",
      "metadata": {
        "id": "ZwsMwzOYSrua"
      },
      "source": [
        "def decode_sequence(input_seq):\n",
        "    # 입력으로부터 인코더의 상태를 얻음\n",
        "    states_value = encoder_model.predict(input_seq)\n",
        "\n",
        "    # <SOS>에 해당하는 정수 생성\n",
        "    target_seq = np.zeros((1,1))\n",
        "    target_seq[0, 0] = tar_to_index['<sos>']\n",
        "\n",
        "    stop_condition = False\n",
        "    decoded_sentence = ''\n",
        "\n",
        "    # stop_condition이 True가 될 때까지 루프 반복\n",
        "    # 구현의 간소화를 위해서 이 함수는 배치 크기를 1로 가정합니다.\n",
        "    while not stop_condition:\n",
        "        # 이점 시점의 상태 states_value를 현 시점의 초기 상태로 사용\n",
        "        output_tokens, h, c = decoder_model.predict([target_seq] + states_value)\n",
        "\n",
        "        # 예측 결과를 단어로 변환\n",
        "        sampled_token_index = np.argmax(output_tokens[0, -1, :])\n",
        "        sampled_char = index_to_tar[sampled_token_index]\n",
        "\n",
        "         # 현재 시점의 예측 단어를 예측 문장에 추가\n",
        "        decoded_sentence += ' '+sampled_char\n",
        "\n",
        "        # <eos>에 도달하거나 정해진 길이를 넘으면 중단.\n",
        "        if (sampled_char == '<eos>' or\n",
        "           len(decoded_sentence) > 50):\n",
        "            stop_condition = True\n",
        "\n",
        "        # 현재 시점의 예측 결과를 다음 시점의 입력으로 사용하기 위해 저장\n",
        "        target_seq = np.zeros((1,1))\n",
        "        target_seq[0, 0] = sampled_token_index\n",
        "\n",
        "        # 현재 시점의 상태를 다음 시점의 상태로 사용하기 위해 저장\n",
        "        states_value = [h, c]\n",
        "\n",
        "    return decoded_sentence"
      ],
      "execution_count": 32,
      "outputs": []
    },
    {
      "cell_type": "code",
      "metadata": {
        "id": "L_sliTuySuAT"
      },
      "source": [
        "# 원문의 정수 시퀀스를 텍스트 시퀀스로 변환\n",
        "def seq2src(input_seq):\n",
        "    temp=''\n",
        "    for i in input_seq:\n",
        "        if(i!=0):\n",
        "            temp = temp + index_to_src[i]+' '\n",
        "    return temp\n",
        "\n",
        "# 번역문의 정수 시퀀스를 텍스트 시퀀스로 변환\n",
        "def seq2tar(input_seq):\n",
        "    temp=''\n",
        "    for i in input_seq:\n",
        "        if((i!=0 and i!=tar_to_index['<sos>']) and i!=tar_to_index['<eos>']):\n",
        "            temp = temp + index_to_tar[i] + ' '\n",
        "    return temp"
      ],
      "execution_count": 33,
      "outputs": []
    },
    {
      "cell_type": "code",
      "metadata": {
        "colab": {
          "base_uri": "https://localhost:8080/"
        },
        "id": "5ltTVt4hSxCg",
        "outputId": "ad82b4fc-981f-457c-e472-691dd6a9b0c8"
      },
      "source": [
        "for seq_index in [3,50,100,300,1001]:\n",
        "  input_seq = encoder_input_train[seq_index: seq_index + 1]\n",
        "  decoded_sentence = decode_sequence(input_seq)\n",
        "\n",
        "  print(\"원문 : \",seq2src(encoder_input_train[seq_index]))\n",
        "  print(\"번역문 :\",seq2tar(decoder_input_train[seq_index]))\n",
        "  print(\"예측문 :\",decoded_sentence[:-5])\n",
        "  print(\"\\n\")"
      ],
      "execution_count": 34,
      "outputs": [
        {
          "output_type": "stream",
          "text": [
            "원문 :  we re ok . \n",
            "번역문 : nous allons bien . \n",
            "예측문 :  nous sommes en train de faire de chance . \n",
            "\n",
            "\n",
            "원문 :  keep the door open . \n",
            "번역문 : garde la porte ouverte . \n",
            "예측문 :  la chambre est pas ! \n",
            "\n",
            "\n",
            "원문 :  be prepared . \n",
            "번역문 : tiens toi prete ! \n",
            "예측문 :  soyez pret ! \n",
            "\n",
            "\n",
            "원문 :  how rude ! \n",
            "번역문 : quelle grossierete ! \n",
            "예측문 :  quelle ! \n",
            "\n",
            "\n",
            "원문 :  who gave you this ? \n",
            "번역문 : qui vous a donne ca ? \n",
            "예측문 :  qui l a t il ? \n",
            "\n",
            "\n"
          ],
          "name": "stdout"
        }
      ]
    },
    {
      "cell_type": "code",
      "metadata": {
        "colab": {
          "base_uri": "https://localhost:8080/"
        },
        "id": "U7P-nW-0SyYf",
        "outputId": "873f0f89-352a-4a04-9cf8-6c60ba8ec706"
      },
      "source": [
        "for seq_index in [3,50,100,300,1001]:\n",
        "  input_seq = encoder_input_test[seq_index: seq_index + 1]\n",
        "  decoded_sentence = decode_sequence(input_seq)\n",
        "\n",
        "  print(\"원문 : \",seq2src(encoder_input_test[seq_index]))\n",
        "  print(\"번역문 :\",seq2tar(decoder_input_test[seq_index]))\n",
        "  print(\"예측문 :\",decoded_sentence[:-5])\n",
        "  print(\"\\n\")"
      ],
      "execution_count": 35,
      "outputs": [
        {
          "output_type": "stream",
          "text": [
            "원문 :  we ll check . \n",
            "번역문 : nous verifierons . \n",
            "예측문 :  nous nous . \n",
            "\n",
            "\n",
            "원문 :  you re so paranoid . \n",
            "번역문 : vous etes tellement paranoiaque ! \n",
            "예측문 :  vous etes si tu en train de faire tom . \n",
            "\n",
            "\n",
            "원문 :  i m heartbroken . \n",
            "번역문 : j ai le c ur brise . \n",
            "예측문 :  je suis le train de travailler . \n",
            "\n",
            "\n",
            "원문 :  turn it up . \n",
            "번역문 : augmentez le . \n",
            "예측문 :  prends le . \n",
            "\n",
            "\n",
            "원문 :  did tom buy it ? \n",
            "번역문 : tom l a t il achete ? \n",
            "예측문 :  tom a t il ete ? \n",
            "\n",
            "\n"
          ],
          "name": "stdout"
        }
      ]
    },
    {
      "cell_type": "code",
      "metadata": {
        "id": "yfJ2jMMAS1BL"
      },
      "source": [
        ""
      ],
      "execution_count": null,
      "outputs": []
    }
  ]
}