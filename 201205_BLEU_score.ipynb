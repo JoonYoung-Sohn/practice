{
  "nbformat": 4,
  "nbformat_minor": 0,
  "metadata": {
    "colab": {
      "name": "201205_BLEU_score.ipynb",
      "provenance": [],
      "collapsed_sections": [],
      "authorship_tag": "ABX9TyPlFZBPtLxUE4eC5Uqjictc",
      "include_colab_link": true
    },
    "kernelspec": {
      "name": "python3",
      "display_name": "Python 3"
    },
    "accelerator": "TPU"
  },
  "cells": [
    {
      "cell_type": "markdown",
      "metadata": {
        "id": "view-in-github",
        "colab_type": "text"
      },
      "source": [
        "<a href=\"https://colab.research.google.com/github/JoonYoung-Sohn/practice/blob/master/201205_BLEU_score.ipynb\" target=\"_parent\"><img src=\"https://colab.research.google.com/assets/colab-badge.svg\" alt=\"Open In Colab\"/></a>"
      ]
    },
    {
      "cell_type": "code",
      "metadata": {
        "id": "naljVAHIf8z2"
      },
      "source": [
        "from collections import Counter\n",
        "import numpy as np\n",
        "from nltk import ngrams"
      ],
      "execution_count": 1,
      "outputs": []
    },
    {
      "cell_type": "code",
      "metadata": {
        "id": "obZeKesxh2X6"
      },
      "source": [
        "def simple_count(tokens, n): # 토큰화 된 candidate 문장, n-gram에서의 n 이 두 가지를 인자로 받음.\n",
        "    return Counter(ngrams(tokens, n)) "
      ],
      "execution_count": 2,
      "outputs": []
    },
    {
      "cell_type": "code",
      "metadata": {
        "colab": {
          "base_uri": "https://localhost:8080/"
        },
        "id": "ObBhUAOajTHA",
        "outputId": "c15fa64c-33cc-45e7-951b-56875b187191"
      },
      "source": [
        "candidate = \"It is a guide to action which ensures that the military always obeys the commands of the party.\"\n",
        "tokens = candidate.split() \n",
        "result = simple_count(tokens, 1) \n",
        "print(result)"
      ],
      "execution_count": 3,
      "outputs": [
        {
          "output_type": "stream",
          "text": [
            "Counter({('the',): 3, ('It',): 1, ('is',): 1, ('a',): 1, ('guide',): 1, ('to',): 1, ('action',): 1, ('which',): 1, ('ensures',): 1, ('that',): 1, ('military',): 1, ('always',): 1, ('obeys',): 1, ('commands',): 1, ('of',): 1, ('party.',): 1})\n"
          ],
          "name": "stdout"
        }
      ]
    },
    {
      "cell_type": "code",
      "metadata": {
        "colab": {
          "base_uri": "https://localhost:8080/"
        },
        "id": "tg80s2mzjYGq",
        "outputId": "b4a94e65-e146-4831-86b6-8fe97e57c213"
      },
      "source": [
        "candidate = 'the the the the the the the'\n",
        "tokens = candidate.split() \n",
        "result = simple_count(tokens, 1)\n",
        "print(result)"
      ],
      "execution_count": 4,
      "outputs": [
        {
          "output_type": "stream",
          "text": [
            "Counter({('the',): 7})\n"
          ],
          "name": "stdout"
        }
      ]
    },
    {
      "cell_type": "code",
      "metadata": {
        "id": "QsklIrgjjp3Z"
      },
      "source": [
        "def count_clip(candidate, reference_list, n):\n",
        "    cnt_ca = simple_count(candidate, n)\n",
        "    temp = dict()\n",
        "\n",
        "    for ref in reference_list: \n",
        "        cnt_ref = simple_count(ref, n)\n",
        "        for n_gram in cnt_ref:\n",
        "            if n_gram in temp:\n",
        "                temp[n_gram] = max(cnt_ref[n_gram], temp[n_gram]) # max_ref_count\n",
        "            else:\n",
        "                temp[n_gram] = cnt_ref[n_gram]\n",
        "\n",
        "    return {\n",
        "        n_gram: min(cnt_ca.get(n_gram, 0), temp.get(n_gram, 0)) for n_gram in cnt_ca\n",
        "        # count_clip=min(count, max_ref_count)\n",
        "        # 위의 get은 찾고자 하는 n-gram이 없으면 0을 반환한다.\n",
        "     }"
      ],
      "execution_count": 5,
      "outputs": []
    },
    {
      "cell_type": "code",
      "metadata": {
        "colab": {
          "base_uri": "https://localhost:8080/"
        },
        "id": "I41qQpUIk6am",
        "outputId": "f6901e81-d395-4db7-c6e3-8eb8cadcec4f"
      },
      "source": [
        "candidate = 'the the the the the the the'\n",
        "references = [\n",
        "    'the cat is on the mat',\n",
        "    'there is a cat on the mat'\n",
        "]\n",
        "result = count_clip(candidate.split(),list(map(lambda ref: ref.split(), references)),1)\n",
        "print(result)"
      ],
      "execution_count": 6,
      "outputs": [
        {
          "output_type": "stream",
          "text": [
            "{('the',): 2}\n"
          ],
          "name": "stdout"
        }
      ]
    },
    {
      "cell_type": "code",
      "metadata": {
        "id": "nG7huBxKk9g6"
      },
      "source": [
        "def modified_precision(candidate, reference_list, n):\n",
        "    clip = count_clip(candidate, reference_list, n) \n",
        "    total_clip = sum(clip.values()) # 분자\n",
        "\n",
        "    ct = simple_count(candidate, n)\n",
        "    total_ct = sum(ct.values()) #분모\n",
        "\n",
        "    if total_ct==0: \n",
        "      total_ct=1\n",
        "\n",
        "    return (total_clip / total_ct) "
      ],
      "execution_count": 7,
      "outputs": []
    },
    {
      "cell_type": "code",
      "metadata": {
        "colab": {
          "base_uri": "https://localhost:8080/"
        },
        "id": "6JIiEjxYlQkM",
        "outputId": "8f3de593-8daa-47b0-9f26-c5abeeac5eed"
      },
      "source": [
        "result=modified_precision(candidate.split(),list(map(lambda ref: ref.split(), references)),1) # 유니그램이므로 n=1\n",
        "print(result)"
      ],
      "execution_count": 8,
      "outputs": [
        {
          "output_type": "stream",
          "text": [
            "0.2857142857142857\n"
          ],
          "name": "stdout"
        }
      ]
    },
    {
      "cell_type": "code",
      "metadata": {
        "id": "mlCCNd4qlSg8"
      },
      "source": [
        "def closest_ref_length(candidate, reference_list): # Ca 길이와 가장 근접한 Ref의 길이를 리턴하는 함수\n",
        "    ca_len = len(candidate) \n",
        "    ref_lens = (len(ref) for ref in reference_list)\n",
        "    closest_ref_len = min(ref_lens, key=lambda ref_len: (abs(ref_len - ca_len), ref_len))\n",
        "    return closest_ref_len"
      ],
      "execution_count": 9,
      "outputs": []
    },
    {
      "cell_type": "code",
      "metadata": {
        "id": "SLIqydIGlwvz"
      },
      "source": [
        "def brevity_penalty(candidate, reference_list):\n",
        "    ca_len = len(candidate)\n",
        "    ref_len = closest_ref_length(candidate, reference_list)\n",
        "\n",
        "    if ca_len > ref_len:\n",
        "        return 1\n",
        "    elif ca_len == 0 :\n",
        "        return 0\n",
        "    else:\n",
        "        return np.exp(1 - ref_len/ca_len)"
      ],
      "execution_count": 10,
      "outputs": []
    },
    {
      "cell_type": "code",
      "metadata": {
        "id": "LEYr_i5vl1dA"
      },
      "source": [
        "def bleu_score(candidate, reference_list, weights=[0.25, 0.25, 0.25, 0.25]):\n",
        "    bp = brevity_penalty(candidate, reference_list) \n",
        "    p_n = [modified_precision(candidate, reference_list, n=n) for n, _ in enumerate(weights,start=1)] \n",
        "    score = np.sum([w_i * np.log(p_i) if p_i != 0 else 0 for w_i, p_i in zip(weights, p_n)])\n",
        "    return bp * np.exp(score)"
      ],
      "execution_count": 11,
      "outputs": []
    },
    {
      "cell_type": "code",
      "metadata": {
        "colab": {
          "base_uri": "https://localhost:8080/"
        },
        "id": "3pXssbkJmAn2",
        "outputId": "fbc042d9-5a7e-453b-82a1-1e8ec558d7b9"
      },
      "source": [
        "import nltk.translate.bleu_score as bleu\n",
        "\n",
        "\n",
        "candidate = 'It is a guide to action which ensures that the military always obeys the commands of the party'\n",
        "references = [\n",
        "    'It is a guide to action that ensures that the military will forever heed Party commands',\n",
        "    'It is the guiding principle which guarantees the military forces always being under the command of the Party',\n",
        "    'It is the practical guide for the army always to heed the directions of the party'\n",
        "]\n",
        "\n",
        "print(bleu_score(candidate.split(),list(map(lambda ref: ref.split(), references))))\n",
        "\n",
        "print(bleu.sentence_bleu(list(map(lambda ref: ref.split(), references)),candidate.split()))"
      ],
      "execution_count": 12,
      "outputs": [
        {
          "output_type": "stream",
          "text": [
            "0.5045666840058485\n",
            "0.5045666840058485\n"
          ],
          "name": "stdout"
        }
      ]
    },
    {
      "cell_type": "code",
      "metadata": {
        "id": "0MMtGmp5mHle"
      },
      "source": [
        ""
      ],
      "execution_count": null,
      "outputs": []
    }
  ]
}