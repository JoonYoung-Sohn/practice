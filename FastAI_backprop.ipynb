{
  "nbformat": 4,
  "nbformat_minor": 0,
  "metadata": {
    "colab": {
      "name": "FastAI-backprop.ipynb",
      "provenance": [],
      "collapsed_sections": [],
      "authorship_tag": "ABX9TyN3gwnpcVARATk2xppeA5Ne",
      "include_colab_link": true
    },
    "kernelspec": {
      "name": "python3",
      "display_name": "Python 3"
    },
    "accelerator": "GPU"
  },
  "cells": [
    {
      "cell_type": "markdown",
      "metadata": {
        "id": "view-in-github",
        "colab_type": "text"
      },
      "source": [
        "<a href=\"https://colab.research.google.com/github/JoonYoung-Sohn/practice/blob/master/FastAI_backprop.ipynb\" target=\"_parent\"><img src=\"https://colab.research.google.com/assets/colab-badge.svg\" alt=\"Open In Colab\"/></a>"
      ]
    },
    {
      "cell_type": "markdown",
      "metadata": {
        "id": "ZpJFlF79gy07"
      },
      "source": [
        "Matrix multiplication"
      ]
    },
    {
      "cell_type": "code",
      "metadata": {
        "id": "uNCSX8x0az0W"
      },
      "source": [
        "from pathlib import Path\n",
        "from IPython.core.debugger import set_trace\n",
        "from fastai import datasets\n",
        "import pickle, gzip, math, torch, matplotlib as mpl\n",
        "import matplotlib.pyplot as plt\n",
        "from torch import tensor\n",
        "from keras.datasets import mnist\n",
        "import tensorflow as tf"
      ],
      "execution_count": 157,
      "outputs": []
    },
    {
      "cell_type": "code",
      "metadata": {
        "id": "i8-nUKY_8RV-"
      },
      "source": [
        "(x_train, y_train), (x_test, y_test) = mnist.load_data()"
      ],
      "execution_count": 158,
      "outputs": []
    },
    {
      "cell_type": "code",
      "metadata": {
        "id": "NOApKeku9uBT"
      },
      "source": [
        "x_train,y_train,x_test,y_test = map(tensor, (x_train,y_train,x_test,y_test))\n",
        "x_train = torch.reshape(x_train, shape=[x_train.shape[0],x_train.shape[1]*x_train.shape[2]])\n",
        "x_test = torch.reshape(x_test, shape=[x_test.shape[0],x_test.shape[1]*x_test.shape[2]])"
      ],
      "execution_count": 159,
      "outputs": []
    },
    {
      "cell_type": "code",
      "metadata": {
        "colab": {
          "base_uri": "https://localhost:8080/"
        },
        "id": "_OpWnUcL_QxE",
        "outputId": "334c821d-40ca-44ca-d50e-79b2aaaf4848"
      },
      "source": [
        "#n,c = x_train.shape\n",
        "x_train, x_train.shape, y_train, y_train.shape, y_train.min(), y_train.max()"
      ],
      "execution_count": 160,
      "outputs": [
        {
          "output_type": "execute_result",
          "data": {
            "text/plain": [
              "(tensor([[0, 0, 0,  ..., 0, 0, 0],\n",
              "         [0, 0, 0,  ..., 0, 0, 0],\n",
              "         [0, 0, 0,  ..., 0, 0, 0],\n",
              "         ...,\n",
              "         [0, 0, 0,  ..., 0, 0, 0],\n",
              "         [0, 0, 0,  ..., 0, 0, 0],\n",
              "         [0, 0, 0,  ..., 0, 0, 0]], dtype=torch.uint8),\n",
              " torch.Size([60000, 784]),\n",
              " tensor([5, 0, 4,  ..., 5, 6, 8], dtype=torch.uint8),\n",
              " torch.Size([60000]),\n",
              " tensor(0, dtype=torch.uint8),\n",
              " tensor(9, dtype=torch.uint8))"
            ]
          },
          "metadata": {
            "tags": []
          },
          "execution_count": 160
        }
      ]
    },
    {
      "cell_type": "code",
      "metadata": {
        "id": "QY3NgPXnDyeI"
      },
      "source": [
        "mpl.rcParams['image.cmap'] = 'gray'"
      ],
      "execution_count": 161,
      "outputs": []
    },
    {
      "cell_type": "code",
      "metadata": {
        "colab": {
          "base_uri": "https://localhost:8080/",
          "height": 35
        },
        "id": "VGgeddWrD_JI",
        "outputId": "717668bd-12f8-4fac-a7ef-18ba17f98844"
      },
      "source": [
        "img = x_train[0]\n",
        "img.view(28,28).type()"
      ],
      "execution_count": 162,
      "outputs": [
        {
          "output_type": "execute_result",
          "data": {
            "application/vnd.google.colaboratory.intrinsic+json": {
              "type": "string"
            },
            "text/plain": [
              "'torch.ByteTensor'"
            ]
          },
          "metadata": {
            "tags": []
          },
          "execution_count": 162
        }
      ]
    },
    {
      "cell_type": "code",
      "metadata": {
        "colab": {
          "base_uri": "https://localhost:8080/",
          "height": 265
        },
        "id": "l50x7c3vIKD3",
        "outputId": "0f937638-e459-4d36-bead-bcc343558a74"
      },
      "source": [
        "plt.imshow(img.view((28,28)));"
      ],
      "execution_count": 163,
      "outputs": [
        {
          "output_type": "display_data",
          "data": {
            "image/png": "[encoded data removed]",
            "text/plain": [
              "<Figure size 432x288 with 1 Axes>"
            ]
          },
          "metadata": {
            "tags": [],
            "needs_background": "light"
          }
        }
      ]
    },
    {
      "cell_type": "code",
      "metadata": {
        "id": "vCx5H2s2Incw"
      },
      "source": [
        "weights = torch.randn(784,10)\n",
        "bias = torch.zeros(10)"
      ],
      "execution_count": 164,
      "outputs": []
    },
    {
      "cell_type": "code",
      "metadata": {
        "id": "L3noDgwoIqje"
      },
      "source": [
        "def matmul(a,b):\n",
        "    ar,ac = a.shape # n_rows * n_cols\n",
        "    br,bc = b.shape\n",
        "    assert ac==br\n",
        "    c = torch.zeros(ar, bc)\n",
        "    for i in range(ar):\n",
        "        for j in range(bc):\n",
        "            for k in range(ac): # or br\n",
        "                c[i,j] += a[i,k] * b[k,j]\n",
        "    return c"
      ],
      "execution_count": 165,
      "outputs": []
    },
    {
      "cell_type": "code",
      "metadata": {
        "colab": {
          "base_uri": "https://localhost:8080/"
        },
        "id": "q9AX5riEIyAE",
        "outputId": "695446c9-91b9-4477-e7fb-34ca7fb644ae"
      },
      "source": [
        "m1 = x_test[:5]\n",
        "m2 = weights\n",
        "m1.shape,m2.shape"
      ],
      "execution_count": 166,
      "outputs": [
        {
          "output_type": "execute_result",
          "data": {
            "text/plain": [
              "(torch.Size([5, 784]), torch.Size([784, 10]))"
            ]
          },
          "metadata": {
            "tags": []
          },
          "execution_count": 166
        }
      ]
    },
    {
      "cell_type": "code",
      "metadata": {
        "colab": {
          "base_uri": "https://localhost:8080/"
        },
        "id": "iFZyyiAsI4Pg",
        "outputId": "30ab78f3-1bff-4ff6-b5db-0225e5498c53"
      },
      "source": [
        "%time t1=matmul(m1, m2)"
      ],
      "execution_count": 167,
      "outputs": [
        {
          "output_type": "stream",
          "text": [
            "CPU times: user 886 ms, sys: 1.17 ms, total: 887 ms\n",
            "Wall time: 891 ms\n"
          ],
          "name": "stdout"
        }
      ]
    },
    {
      "cell_type": "code",
      "metadata": {
        "colab": {
          "base_uri": "https://localhost:8080/"
        },
        "id": "TMehAcBWLE3q",
        "outputId": "20cf8e3c-1347-41b7-de6a-90639d432080"
      },
      "source": [
        "t1.shape"
      ],
      "execution_count": 168,
      "outputs": [
        {
          "output_type": "execute_result",
          "data": {
            "text/plain": [
              "torch.Size([5, 10])"
            ]
          },
          "metadata": {
            "tags": []
          },
          "execution_count": 168
        }
      ]
    },
    {
      "cell_type": "code",
      "metadata": {
        "colab": {
          "base_uri": "https://localhost:8080/"
        },
        "id": "twWkDoKNLMuh",
        "outputId": "78c87325-28af-4988-8a0c-e0aa7e6c6ef2"
      },
      "source": [
        "len(x_train)"
      ],
      "execution_count": 169,
      "outputs": [
        {
          "output_type": "execute_result",
          "data": {
            "text/plain": [
              "60000"
            ]
          },
          "metadata": {
            "tags": []
          },
          "execution_count": 169
        }
      ]
    },
    {
      "cell_type": "code",
      "metadata": {
        "id": "RakNFQgZLfQ9"
      },
      "source": [
        "def matmul(a,b):\n",
        "    ar,ac = a.shape\n",
        "    br,bc = b.shape\n",
        "    assert ac==br\n",
        "    c = torch.zeros(ar, bc)\n",
        "    for i in range(ar):\n",
        "        for j in range(bc):\n",
        "            # Any trailing \",:\" can be removed\n",
        "            c[i,j] = (a[i,:] * b[:,j]).sum()\n",
        "    return c"
      ],
      "execution_count": 170,
      "outputs": []
    },
    {
      "cell_type": "code",
      "metadata": {
        "colab": {
          "base_uri": "https://localhost:8080/"
        },
        "id": "P4yvjC5rLhVE",
        "outputId": "d072c75a-1bdf-4223-91e1-90ec6c702791"
      },
      "source": [
        "%timeit -n 10 _=matmul(m1, m2)"
      ],
      "execution_count": 171,
      "outputs": [
        {
          "output_type": "stream",
          "text": [
            "10 loops, best of 3: 1.16 ms per loop\n"
          ],
          "name": "stdout"
        }
      ]
    },
    {
      "cell_type": "markdown",
      "metadata": {
        "id": "UMB3YTFdNsY4"
      },
      "source": [
        "Fully connected"
      ]
    },
    {
      "cell_type": "code",
      "metadata": {
        "id": "pyKN6lZNNvQa"
      },
      "source": [
        "def normalize(x, m, s): return (x-m)/s"
      ],
      "execution_count": 172,
      "outputs": []
    },
    {
      "cell_type": "code",
      "metadata": {
        "colab": {
          "base_uri": "https://localhost:8080/"
        },
        "id": "20Ne-N4EOZVr",
        "outputId": "321c69e3-781c-4c98-edbd-5d2e4eed5a35"
      },
      "source": [
        "train_mean,train_std = x_train.float().mean(),x_train.float().std()\n",
        "train_mean,train_std"
      ],
      "execution_count": 173,
      "outputs": [
        {
          "output_type": "execute_result",
          "data": {
            "text/plain": [
              "(tensor(33.3184), tensor(78.5675))"
            ]
          },
          "metadata": {
            "tags": []
          },
          "execution_count": 173
        }
      ]
    },
    {
      "cell_type": "code",
      "metadata": {
        "id": "TnUEbBPaSo8b"
      },
      "source": [
        "x_train = normalize(x_train, train_mean, train_std)\n",
        "x_test = normalize(x_test, train_mean, train_std)"
      ],
      "execution_count": 174,
      "outputs": []
    },
    {
      "cell_type": "code",
      "metadata": {
        "colab": {
          "base_uri": "https://localhost:8080/"
        },
        "id": "9XIN1bQeSxAo",
        "outputId": "6e2b4d41-e533-4058-a655-9301dfa70e9c"
      },
      "source": [
        "train_mean,train_std = x_train.mean(),x_train.std()\n",
        "train_mean,train_std"
      ],
      "execution_count": 175,
      "outputs": [
        {
          "output_type": "execute_result",
          "data": {
            "text/plain": [
              "(tensor(1.8892e-08), tensor(1.))"
            ]
          },
          "metadata": {
            "tags": []
          },
          "execution_count": 175
        }
      ]
    },
    {
      "cell_type": "code",
      "metadata": {
        "colab": {
          "base_uri": "https://localhost:8080/"
        },
        "id": "9AZ4rqlOS9QI",
        "outputId": "a4f1e05b-051f-441e-c3e6-eef93877be2e"
      },
      "source": [
        "n,m = x_train.shape\n",
        "c = y_train.max()+1\n",
        "n,m,c"
      ],
      "execution_count": 176,
      "outputs": [
        {
          "output_type": "execute_result",
          "data": {
            "text/plain": [
              "(60000, 784, tensor(10, dtype=torch.uint8))"
            ]
          },
          "metadata": {
            "tags": []
          },
          "execution_count": 176
        }
      ]
    },
    {
      "cell_type": "code",
      "metadata": {
        "id": "nYjTXGfyTF2v"
      },
      "source": [
        "# num hidden\n",
        "nh = 50"
      ],
      "execution_count": 177,
      "outputs": []
    },
    {
      "cell_type": "code",
      "metadata": {
        "id": "r_hWInz3THxp"
      },
      "source": [
        "# standard xavier init\n",
        "w1 = torch.randn(m,nh)/math.sqrt(m)\n",
        "b1 = torch.zeros(nh)\n",
        "w2 = torch.randn(nh,1)/math.sqrt(nh)\n",
        "b2 = torch.zeros(1)"
      ],
      "execution_count": 178,
      "outputs": []
    },
    {
      "cell_type": "code",
      "metadata": {
        "id": "bCNpuTUrTQAx"
      },
      "source": [
        "def test_near_zero(a,tol=1e-3): assert a.abs()<tol, f\"Near zero: {a}\""
      ],
      "execution_count": 179,
      "outputs": []
    },
    {
      "cell_type": "code",
      "metadata": {
        "id": "JeREfm_JTSok"
      },
      "source": [
        "test_near_zero(w1.mean())\n",
        "test_near_zero(w1.std()-1/math.sqrt(m))"
      ],
      "execution_count": 180,
      "outputs": []
    },
    {
      "cell_type": "code",
      "metadata": {
        "colab": {
          "base_uri": "https://localhost:8080/"
        },
        "id": "9KJNgxUaTzXp",
        "outputId": "af3a8537-34f7-4b2f-99f6-ce421dad72b7"
      },
      "source": [
        "x_test.mean(),x_test.std()"
      ],
      "execution_count": 181,
      "outputs": [
        {
          "output_type": "execute_result",
          "data": {
            "text/plain": [
              "(tensor(0.0060), tensor(1.0077))"
            ]
          },
          "metadata": {
            "tags": []
          },
          "execution_count": 181
        }
      ]
    },
    {
      "cell_type": "code",
      "metadata": {
        "id": "0Nj3dyoQT4sQ"
      },
      "source": [
        "def lin(x, w, b): return x@w + b"
      ],
      "execution_count": 182,
      "outputs": []
    },
    {
      "cell_type": "code",
      "metadata": {
        "id": "SvekJmMgT6qH"
      },
      "source": [
        "t = lin(x_test, w1, b1)"
      ],
      "execution_count": 183,
      "outputs": []
    },
    {
      "cell_type": "code",
      "metadata": {
        "colab": {
          "base_uri": "https://localhost:8080/"
        },
        "id": "mkhgzTJQT_Uo",
        "outputId": "17b407e9-4ea1-411c-fa6e-2ec8e8ab65b7"
      },
      "source": [
        "t.mean(),t.std()"
      ],
      "execution_count": 184,
      "outputs": [
        {
          "output_type": "execute_result",
          "data": {
            "text/plain": [
              "(tensor(0.0299), tensor(0.9907))"
            ]
          },
          "metadata": {
            "tags": []
          },
          "execution_count": 184
        }
      ]
    },
    {
      "cell_type": "code",
      "metadata": {
        "id": "gReYM3ufUK_G"
      },
      "source": [
        "def relu(x): return x.clamp_min(0.)"
      ],
      "execution_count": 185,
      "outputs": []
    },
    {
      "cell_type": "code",
      "metadata": {
        "id": "1nVlVMjkUMiA"
      },
      "source": [
        "t = relu(lin(x_test, w1, b1))"
      ],
      "execution_count": 186,
      "outputs": []
    },
    {
      "cell_type": "code",
      "metadata": {
        "colab": {
          "base_uri": "https://localhost:8080/"
        },
        "id": "x8ChMNMvURZv",
        "outputId": "cb4a360e-c03b-40dc-9cce-44d46e9d3377"
      },
      "source": [
        "t.mean(),t.std()"
      ],
      "execution_count": 187,
      "outputs": [
        {
          "output_type": "execute_result",
          "data": {
            "text/plain": [
              "(tensor(0.4064), tensor(0.5901))"
            ]
          },
          "metadata": {
            "tags": []
          },
          "execution_count": 187
        }
      ]
    },
    {
      "cell_type": "code",
      "metadata": {
        "id": "04xUUtriUX_E"
      },
      "source": [
        "w1 = torch.randn(m,nh)*math.sqrt(2/m)"
      ],
      "execution_count": 188,
      "outputs": []
    },
    {
      "cell_type": "code",
      "metadata": {
        "colab": {
          "base_uri": "https://localhost:8080/"
        },
        "id": "tT-9TmOEUbM_",
        "outputId": "733a2eda-5a8b-4bfc-e4de-ec60e54bd7e5"
      },
      "source": [
        "w1.mean(),w1.std()"
      ],
      "execution_count": 189,
      "outputs": [
        {
          "output_type": "execute_result",
          "data": {
            "text/plain": [
              "(tensor(0.0001), tensor(0.0506))"
            ]
          },
          "metadata": {
            "tags": []
          },
          "execution_count": 189
        }
      ]
    },
    {
      "cell_type": "code",
      "metadata": {
        "colab": {
          "base_uri": "https://localhost:8080/"
        },
        "id": "vmTevAxLUezF",
        "outputId": "b20d397d-6da8-415c-ae78-43d74c31f3dd"
      },
      "source": [
        "t = relu(lin(x_test, w1, b1))\n",
        "t.mean(),t.std()"
      ],
      "execution_count": 190,
      "outputs": [
        {
          "output_type": "execute_result",
          "data": {
            "text/plain": [
              "(tensor(0.6659), tensor(0.8637))"
            ]
          },
          "metadata": {
            "tags": []
          },
          "execution_count": 190
        }
      ]
    },
    {
      "cell_type": "code",
      "metadata": {
        "id": "8c6C33IIUkXe"
      },
      "source": [
        "from torch.nn import *"
      ],
      "execution_count": 191,
      "outputs": []
    },
    {
      "cell_type": "code",
      "metadata": {
        "id": "AkwwIjr9Un01"
      },
      "source": [
        "w1 = torch.zeros(m,nh)\n",
        "init.kaiming_normal_(w1, mode='fan_out')\n",
        "t = relu(lin(x_test, w1, b1))"
      ],
      "execution_count": 192,
      "outputs": []
    },
    {
      "cell_type": "code",
      "metadata": {
        "colab": {
          "base_uri": "https://localhost:8080/"
        },
        "id": "loGsoM_BU2G4",
        "outputId": "801687bb-e9ee-4132-88a4-b165b3fcbc7a"
      },
      "source": [
        "init.kaiming_normal_ # He initialization ??"
      ],
      "execution_count": 193,
      "outputs": [
        {
          "output_type": "execute_result",
          "data": {
            "text/plain": [
              "<function torch.nn.init.kaiming_normal_>"
            ]
          },
          "metadata": {
            "tags": []
          },
          "execution_count": 193
        }
      ]
    },
    {
      "cell_type": "code",
      "metadata": {
        "colab": {
          "base_uri": "https://localhost:8080/"
        },
        "id": "NxA0ZZc2U6GK",
        "outputId": "34af6987-ed6b-4b77-be6d-f5060fc9844d"
      },
      "source": [
        "w1.mean(),w1.std()"
      ],
      "execution_count": 194,
      "outputs": [
        {
          "output_type": "execute_result",
          "data": {
            "text/plain": [
              "(tensor(3.0734e-05), tensor(0.0502))"
            ]
          },
          "metadata": {
            "tags": []
          },
          "execution_count": 194
        }
      ]
    },
    {
      "cell_type": "code",
      "metadata": {
        "colab": {
          "base_uri": "https://localhost:8080/"
        },
        "id": "qdBeUdSpU7KO",
        "outputId": "1ab2a33b-b0f7-4788-965d-898b1a9887f8"
      },
      "source": [
        "t.mean(),t.std()"
      ],
      "execution_count": 195,
      "outputs": [
        {
          "output_type": "execute_result",
          "data": {
            "text/plain": [
              "(tensor(0.5756), tensor(0.8598))"
            ]
          },
          "metadata": {
            "tags": []
          },
          "execution_count": 195
        }
      ]
    },
    {
      "cell_type": "code",
      "metadata": {
        "colab": {
          "base_uri": "https://localhost:8080/"
        },
        "id": "j7_AS1nFVG8y",
        "outputId": "08753c46-24d5-4ad6-d341-b429ada482b1"
      },
      "source": [
        "torch.nn.Linear(m,nh).weight.shape"
      ],
      "execution_count": 196,
      "outputs": [
        {
          "output_type": "execute_result",
          "data": {
            "text/plain": [
              "torch.Size([50, 784])"
            ]
          },
          "metadata": {
            "tags": []
          },
          "execution_count": 196
        }
      ]
    },
    {
      "cell_type": "code",
      "metadata": {
        "colab": {
          "base_uri": "https://localhost:8080/"
        },
        "id": "KO5vq9iBVupB",
        "outputId": "11ad7d19-99e1-42d1-c984-981c22f232a4"
      },
      "source": [
        "torch.nn.Linear.forward"
      ],
      "execution_count": 197,
      "outputs": [
        {
          "output_type": "execute_result",
          "data": {
            "text/plain": [
              "<function torch.nn.modules.linear.Linear.forward>"
            ]
          },
          "metadata": {
            "tags": []
          },
          "execution_count": 197
        }
      ]
    },
    {
      "cell_type": "code",
      "metadata": {
        "colab": {
          "base_uri": "https://localhost:8080/"
        },
        "id": "APRnkE28VwYo",
        "outputId": "12624f7b-c585-46bf-da59-674100f0ab87"
      },
      "source": [
        "torch.nn.functional.linear"
      ],
      "execution_count": 198,
      "outputs": [
        {
          "output_type": "execute_result",
          "data": {
            "text/plain": [
              "<function torch.nn.functional.linear>"
            ]
          },
          "metadata": {
            "tags": []
          },
          "execution_count": 198
        }
      ]
    },
    {
      "cell_type": "code",
      "metadata": {
        "colab": {
          "base_uri": "https://localhost:8080/"
        },
        "id": "dDEAwfmqVzCG",
        "outputId": "21c2c8cb-ff08-47ee-d74d-e857fac2b111"
      },
      "source": [
        "torch.nn.Conv2d"
      ],
      "execution_count": 199,
      "outputs": [
        {
          "output_type": "execute_result",
          "data": {
            "text/plain": [
              "torch.nn.modules.conv.Conv2d"
            ]
          },
          "metadata": {
            "tags": []
          },
          "execution_count": 199
        }
      ]
    },
    {
      "cell_type": "code",
      "metadata": {
        "colab": {
          "base_uri": "https://localhost:8080/"
        },
        "id": "p-ySMuZbV34r",
        "outputId": "e033793c-097a-4435-b558-1375b2f70591"
      },
      "source": [
        "torch.nn.modules.conv._ConvNd.reset_parameters"
      ],
      "execution_count": 200,
      "outputs": [
        {
          "output_type": "execute_result",
          "data": {
            "text/plain": [
              "<function torch.nn.modules.conv._ConvNd.reset_parameters>"
            ]
          },
          "metadata": {
            "tags": []
          },
          "execution_count": 200
        }
      ]
    },
    {
      "cell_type": "code",
      "metadata": {
        "id": "U59PQg_9Zxyt"
      },
      "source": [
        "def model(xb):\n",
        "    l1 = lin(xb, w1, b1)\n",
        "    l2 = relu(l1)\n",
        "    l3 = lin(l2, w2, b2)\n",
        "    return l3"
      ],
      "execution_count": 201,
      "outputs": []
    },
    {
      "cell_type": "code",
      "metadata": {
        "colab": {
          "base_uri": "https://localhost:8080/"
        },
        "id": "Zllk-6g3aOnS",
        "outputId": "852bd395-6b56-40db-db9e-d87c940d6048"
      },
      "source": [
        "%timeit -n 10 _=model(x_test)"
      ],
      "execution_count": 202,
      "outputs": [
        {
          "output_type": "stream",
          "text": [
            "10 loops, best of 3: 15.2 ms per loop\n"
          ],
          "name": "stdout"
        }
      ]
    },
    {
      "cell_type": "code",
      "metadata": {
        "id": "-2EVoZbhaTUZ"
      },
      "source": [
        "assert model(x_test).shape==torch.Size([x_test.shape[0],1])"
      ],
      "execution_count": 203,
      "outputs": []
    },
    {
      "cell_type": "code",
      "metadata": {
        "colab": {
          "base_uri": "https://localhost:8080/"
        },
        "id": "fkF7ZWTSaa2V",
        "outputId": "8452bfc4-a22e-4064-f258-cef5e4fac434"
      },
      "source": [
        "model(x_test).shape"
      ],
      "execution_count": 204,
      "outputs": [
        {
          "output_type": "execute_result",
          "data": {
            "text/plain": [
              "torch.Size([10000, 1])"
            ]
          },
          "metadata": {
            "tags": []
          },
          "execution_count": 204
        }
      ]
    },
    {
      "cell_type": "code",
      "metadata": {
        "id": "kKx3AmeFaeLR"
      },
      "source": [
        "def mse(output, targ):\n",
        "  return (output.squeeze(-1) - targ).pow(2).mean()"
      ],
      "execution_count": 205,
      "outputs": []
    },
    {
      "cell_type": "code",
      "metadata": {
        "id": "heUNH85kahqJ"
      },
      "source": [
        "y_train,y_test = y_train.float(),y_test.float()"
      ],
      "execution_count": 206,
      "outputs": []
    },
    {
      "cell_type": "code",
      "metadata": {
        "id": "U-PntmvHambR"
      },
      "source": [
        "preds = model(x_train)"
      ],
      "execution_count": 207,
      "outputs": []
    },
    {
      "cell_type": "code",
      "metadata": {
        "colab": {
          "base_uri": "https://localhost:8080/"
        },
        "id": "xdGexyHUaoL5",
        "outputId": "8af7c34a-4d7c-44c8-9f86-1de05485b5ae"
      },
      "source": [
        "preds.shape"
      ],
      "execution_count": 208,
      "outputs": [
        {
          "output_type": "execute_result",
          "data": {
            "text/plain": [
              "torch.Size([60000, 1])"
            ]
          },
          "metadata": {
            "tags": []
          },
          "execution_count": 208
        }
      ]
    },
    {
      "cell_type": "code",
      "metadata": {
        "colab": {
          "base_uri": "https://localhost:8080/"
        },
        "id": "sEZbsqeIaqQJ",
        "outputId": "178e41bb-d0f8-4ff4-9024-4a348516bcec"
      },
      "source": [
        "mse(preds, y_train)"
      ],
      "execution_count": 209,
      "outputs": [
        {
          "output_type": "execute_result",
          "data": {
            "text/plain": [
              "tensor(33.6389)"
            ]
          },
          "metadata": {
            "tags": []
          },
          "execution_count": 209
        }
      ]
    },
    {
      "cell_type": "code",
      "metadata": {
        "id": "FfSGyrRSavq-"
      },
      "source": [
        "def mse_grad(inp, targ): \n",
        "  # grad of loss with respect to output of previous layer\n",
        "  inp.g = 2. * (inp.squeeze() - targ).unsqueeze(-1) / inp.shape[0]"
      ],
      "execution_count": 210,
      "outputs": []
    },
    {
      "cell_type": "code",
      "metadata": {
        "id": "AV-j0YRka7cw"
      },
      "source": [
        "def relu_grad(inp, out):\n",
        "  # grad of relu with respect to input activations\n",
        "  inp.g = (inp>0).float() * out.g"
      ],
      "execution_count": 211,
      "outputs": []
    },
    {
      "cell_type": "code",
      "metadata": {
        "id": "T6FbNmbTbDaZ"
      },
      "source": [
        "def lin_grad(inp, out, w, b):\n",
        "  # grad of matmul with respect to input\n",
        "  inp.g = out.g @ w.t()\n",
        "  w.g = (inp.unsqueeze(-1) * out.g.unsqueeze(1)).sum(0)\n",
        "  b.g = out.g.sum(0)"
      ],
      "execution_count": 212,
      "outputs": []
    },
    {
      "cell_type": "code",
      "metadata": {
        "id": "LZ6GpA68bQCd"
      },
      "source": [
        "def forward_and_backward(inp, targ):\n",
        "  # forward pass:\n",
        "  l1 = inp @ w1 + b1\n",
        "  l2 = relu(l1)\n",
        "  out = l2 @ w2 + b2\n",
        "  # we don't actually need the loss in backward!\n",
        "  loss = mse(out, targ)\n",
        "    \n",
        "  # backward pass:\n",
        "  mse_grad(out, targ)\n",
        "  lin_grad(l2, out, w2, b2)\n",
        "  relu_grad(l1, l2)\n",
        "  lin_grad(inp, l1, w1, b1)"
      ],
      "execution_count": 213,
      "outputs": []
    },
    {
      "cell_type": "code",
      "metadata": {
        "id": "MFd-oP_9blY5"
      },
      "source": [
        "forward_and_backward(x_train, y_train)"
      ],
      "execution_count": 214,
      "outputs": []
    },
    {
      "cell_type": "code",
      "metadata": {
        "id": "oA_uhmUJbrK6"
      },
      "source": [
        "# Save for testing against later\n",
        "w1g = w1.g.clone()\n",
        "w2g = w2.g.clone()\n",
        "b1g = b1.g.clone()\n",
        "b2g = b2.g.clone()\n",
        "ig  = x_train.g.clone()"
      ],
      "execution_count": 215,
      "outputs": []
    },
    {
      "cell_type": "code",
      "metadata": {
        "id": "9q5satAkb_oB"
      },
      "source": [
        "xt2 = x_train.clone().requires_grad_(True)\n",
        "w12 = w1.clone().requires_grad_(True)\n",
        "w22 = w2.clone().requires_grad_(True)\n",
        "b12 = b1.clone().requires_grad_(True)\n",
        "b22 = b2.clone().requires_grad_(True)"
      ],
      "execution_count": 216,
      "outputs": []
    },
    {
      "cell_type": "code",
      "metadata": {
        "id": "ryeQu7XqdjQH"
      },
      "source": [
        "def forward(inp, targ):\n",
        "    # forward pass:\n",
        "    l1 = inp @ w12 + b12\n",
        "    l2 = relu(l1)\n",
        "    out = l2 @ w22 + b22\n",
        "    # we don't actually need the loss in backward!\n",
        "    return mse(out, targ)"
      ],
      "execution_count": 217,
      "outputs": []
    },
    {
      "cell_type": "code",
      "metadata": {
        "id": "-72MCEosdlGM"
      },
      "source": [
        "loss = forward(xt2, y_train)\n",
        "loss.backward()"
      ],
      "execution_count": 218,
      "outputs": []
    },
    {
      "cell_type": "code",
      "metadata": {
        "colab": {
          "base_uri": "https://localhost:8080/"
        },
        "id": "WoKygzeud4pd",
        "outputId": "c47f63f8-e550-4405-d546-a44de68c68f3"
      },
      "source": [
        "print(w22.grad, w2g)\n",
        "print(b22.grad, b2g)\n",
        "print(w12.grad, w1g)\n",
        "print(b12.grad, b1g)\n",
        "print(xt2.grad, ig )"
      ],
      "execution_count": 219,
      "outputs": [
        {
          "output_type": "stream",
          "text": [
            "tensor([[ -1.8823],\n",
            "        [ -5.6293],\n",
            "        [ -2.3935],\n",
            "        [ -0.3677],\n",
            "        [-13.0085],\n",
            "        [ -4.6367],\n",
            "        [-15.9594],\n",
            "        [ -3.3735],\n",
            "        [ -5.8322],\n",
            "        [ -5.4624],\n",
            "        [ -7.0381],\n",
            "        [ -4.1382],\n",
            "        [ -1.0075],\n",
            "        [-10.5820],\n",
            "        [ -6.8411],\n",
            "        [ -8.1842],\n",
            "        [ -1.3238],\n",
            "        [-10.5828],\n",
            "        [ -5.7098],\n",
            "        [-10.5315],\n",
            "        [ -9.5829],\n",
            "        [ -2.3183],\n",
            "        [-22.4376],\n",
            "        [ -3.6281],\n",
            "        [ -2.9852],\n",
            "        [ -1.4885],\n",
            "        [ -2.5195],\n",
            "        [-18.3640],\n",
            "        [ -3.2372],\n",
            "        [ -8.1833],\n",
            "        [ -5.8164],\n",
            "        [ -0.8848],\n",
            "        [ -1.6302],\n",
            "        [ -2.5014],\n",
            "        [ -3.1072],\n",
            "        [ -2.0093],\n",
            "        [ -1.2332],\n",
            "        [-13.8961],\n",
            "        [ -4.6922],\n",
            "        [ -7.9555],\n",
            "        [ -4.7114],\n",
            "        [ -1.0696],\n",
            "        [ -4.3091],\n",
            "        [ -3.9524],\n",
            "        [-15.4197],\n",
            "        [ -1.4192],\n",
            "        [ -0.4760],\n",
            "        [ -2.8275],\n",
            "        [ -9.8383],\n",
            "        [ -0.7783]]) tensor([[ -1.8823],\n",
            "        [ -5.6292],\n",
            "        [ -2.3935],\n",
            "        [ -0.3677],\n",
            "        [-13.0085],\n",
            "        [ -4.6367],\n",
            "        [-15.9594],\n",
            "        [ -3.3735],\n",
            "        [ -5.8322],\n",
            "        [ -5.4623],\n",
            "        [ -7.0381],\n",
            "        [ -4.1382],\n",
            "        [ -1.0075],\n",
            "        [-10.5821],\n",
            "        [ -6.8411],\n",
            "        [ -8.1841],\n",
            "        [ -1.3238],\n",
            "        [-10.5827],\n",
            "        [ -5.7099],\n",
            "        [-10.5314],\n",
            "        [ -9.5829],\n",
            "        [ -2.3183],\n",
            "        [-22.4376],\n",
            "        [ -3.6281],\n",
            "        [ -2.9852],\n",
            "        [ -1.4885],\n",
            "        [ -2.5195],\n",
            "        [-18.3639],\n",
            "        [ -3.2372],\n",
            "        [ -8.1833],\n",
            "        [ -5.8164],\n",
            "        [ -0.8848],\n",
            "        [ -1.6302],\n",
            "        [ -2.5014],\n",
            "        [ -3.1072],\n",
            "        [ -2.0093],\n",
            "        [ -1.2332],\n",
            "        [-13.8962],\n",
            "        [ -4.6922],\n",
            "        [ -7.9555],\n",
            "        [ -4.7115],\n",
            "        [ -1.0696],\n",
            "        [ -4.3091],\n",
            "        [ -3.9524],\n",
            "        [-15.4196],\n",
            "        [ -1.4192],\n",
            "        [ -0.4760],\n",
            "        [ -2.8275],\n",
            "        [ -9.8382],\n",
            "        [ -0.7783]])\n",
            "tensor([-9.9956]) tensor([-9.9956])\n",
            "tensor([[-0.0181, -0.1333, -0.0835,  ..., -0.1032,  0.0662, -0.0770],\n",
            "        [-0.0181, -0.1333, -0.0835,  ..., -0.1032,  0.0662, -0.0770],\n",
            "        [-0.0181, -0.1333, -0.0835,  ..., -0.1032,  0.0662, -0.0770],\n",
            "        ...,\n",
            "        [-0.0181, -0.1333, -0.0835,  ..., -0.1032,  0.0662, -0.0770],\n",
            "        [-0.0181, -0.1333, -0.0835,  ..., -0.1032,  0.0662, -0.0770],\n",
            "        [-0.0181, -0.1333, -0.0835,  ..., -0.1032,  0.0662, -0.0770]]) tensor([[-0.0181, -0.1333, -0.0835,  ..., -0.1032,  0.0662, -0.0770],\n",
            "        [-0.0181, -0.1333, -0.0835,  ..., -0.1032,  0.0662, -0.0770],\n",
            "        [-0.0181, -0.1333, -0.0835,  ..., -0.1032,  0.0662, -0.0770],\n",
            "        ...,\n",
            "        [-0.0181, -0.1333, -0.0835,  ..., -0.1032,  0.0662, -0.0770],\n",
            "        [-0.0181, -0.1333, -0.0835,  ..., -0.1032,  0.0662, -0.0770],\n",
            "        [-0.0181, -0.1333, -0.0835,  ..., -0.1032,  0.0662, -0.0770]])\n",
            "tensor([ 0.0427,  0.3144,  0.1969, -0.0444, -0.2490, -0.2648,  1.2647, -1.1093,\n",
            "         0.1138, -1.3007, -0.6066,  0.3753, -0.0619,  1.1295, -1.0379, -0.5936,\n",
            "        -0.3526,  0.3616, -0.3733,  2.6685,  0.0411, -0.3737,  0.3171, -0.4598,\n",
            "         0.9345, -0.2832, -0.4119,  1.0065, -0.1736, -0.2812, -1.4151, -0.2861,\n",
            "         0.4155,  1.3542, -0.4627,  0.1607, -0.0559, -1.6889,  1.0302,  0.8923,\n",
            "        -0.8486, -0.4523,  1.3826, -0.1175,  1.6364, -0.3251,  0.1189,  0.2433,\n",
            "        -0.1561,  0.1815]) tensor([ 0.0427,  0.3144,  0.1969, -0.0444, -0.2490, -0.2648,  1.2647, -1.1093,\n",
            "         0.1138, -1.3007, -0.6066,  0.3753, -0.0619,  1.1295, -1.0379, -0.5936,\n",
            "        -0.3526,  0.3616, -0.3733,  2.6685,  0.0411, -0.3737,  0.3171, -0.4598,\n",
            "         0.9345, -0.2832, -0.4119,  1.0065, -0.1736, -0.2812, -1.4151, -0.2861,\n",
            "         0.4155,  1.3542, -0.4627,  0.1607, -0.0559, -1.6889,  1.0302,  0.8923,\n",
            "        -0.8486, -0.4523,  1.3826, -0.1175,  1.6364, -0.3251,  0.1189,  0.2433,\n",
            "        -0.1561,  0.1815])\n",
            "tensor([[ 1.9006e-07,  1.0340e-06,  1.9965e-07,  ...,  5.0929e-06,\n",
            "         -2.2924e-06,  9.1470e-06],\n",
            "        [ 2.3133e-07,  2.8459e-08,  3.2055e-08,  ...,  7.3201e-08,\n",
            "          1.4785e-07, -2.2123e-07],\n",
            "        [ 1.6144e-06, -1.5597e-06,  1.3671e-06,  ..., -3.8385e-06,\n",
            "         -7.0677e-06,  2.4813e-06],\n",
            "        ...,\n",
            "        [-6.5068e-07,  2.2221e-06,  6.5621e-06,  ...,  7.7836e-08,\n",
            "         -7.9940e-06,  8.6807e-06],\n",
            "        [-8.2202e-06, -2.4941e-06, -4.3639e-06,  ..., -1.8126e-06,\n",
            "         -2.1989e-06, -1.5153e-06],\n",
            "        [-3.3029e-06,  1.1492e-05,  3.2107e-06,  ...,  2.8496e-06,\n",
            "         -1.2451e-05,  8.1072e-06]]) tensor([[ 1.9006e-07,  1.0340e-06,  1.9965e-07,  ...,  5.0929e-06,\n",
            "         -2.2924e-06,  9.1470e-06],\n",
            "        [ 2.3133e-07,  2.8459e-08,  3.2055e-08,  ...,  7.3201e-08,\n",
            "          1.4785e-07, -2.2123e-07],\n",
            "        [ 1.6144e-06, -1.5597e-06,  1.3671e-06,  ..., -3.8385e-06,\n",
            "         -7.0677e-06,  2.4813e-06],\n",
            "        ...,\n",
            "        [-6.5068e-07,  2.2221e-06,  6.5621e-06,  ...,  7.7836e-08,\n",
            "         -7.9940e-06,  8.6807e-06],\n",
            "        [-8.2202e-06, -2.4941e-06, -4.3639e-06,  ..., -1.8126e-06,\n",
            "         -2.1989e-06, -1.5153e-06],\n",
            "        [-3.3029e-06,  1.1492e-05,  3.2107e-06,  ...,  2.8496e-06,\n",
            "         -1.2451e-05,  8.1072e-06]])\n"
          ],
          "name": "stdout"
        }
      ]
    },
    {
      "cell_type": "markdown",
      "metadata": {
        "id": "9CiPebK2eGob"
      },
      "source": [
        "Layer as class"
      ]
    },
    {
      "cell_type": "code",
      "metadata": {
        "id": "vQ1o8JByeIby"
      },
      "source": [
        "class Relu():\n",
        "    def __call__(self, inp):\n",
        "        self.inp = inp\n",
        "        self.out = inp.clamp_min(0.)-0.5\n",
        "        return self.out\n",
        "    \n",
        "    def backward(self):\n",
        "        self.inp.g = (self.inp>0).float() * self.out.g"
      ],
      "execution_count": 220,
      "outputs": []
    },
    {
      "cell_type": "code",
      "metadata": {
        "id": "bjqbRFq-fxrW"
      },
      "source": [
        "class Lin():\n",
        "    def __init__(self, w, b):\n",
        "        self.w,self.b = w,b\n",
        "        \n",
        "    def __call__(self, inp):\n",
        "        self.inp = inp\n",
        "        self.out = inp@self.w + self.b\n",
        "        return self.out\n",
        "    \n",
        "    def backward(self):\n",
        "        self.inp.g = self.out.g @ self.w.t()\n",
        "        # Creating a giant outer product, just to sum it, is inefficient!\n",
        "        self.w.g = (self.inp.unsqueeze(-1) * self.out.g.unsqueeze(1)).sum(0)\n",
        "        self.b.g = self.out.g.sum(0)"
      ],
      "execution_count": 221,
      "outputs": []
    },
    {
      "cell_type": "code",
      "metadata": {
        "id": "vFgiyDNKgVDk"
      },
      "source": [
        "class Mse():\n",
        "    def __call__(self, inp, targ):\n",
        "        self.inp = inp\n",
        "        self.targ = targ\n",
        "        self.out = (inp.squeeze() - targ).pow(2).mean()\n",
        "        return self.out\n",
        "    \n",
        "    def backward(self):\n",
        "        self.inp.g = 2. * (self.inp.squeeze() - self.targ).unsqueeze(-1) / self.targ.shape[0]"
      ],
      "execution_count": 222,
      "outputs": []
    },
    {
      "cell_type": "code",
      "metadata": {
        "id": "eAVfxxR0gnHP"
      },
      "source": [
        "class Model():\n",
        "    def __init__(self, w1, b1, w2, b2):\n",
        "        self.layers = [Lin(w1,b1), Relu(), Lin(w2,b2)]\n",
        "        self.loss = Mse()\n",
        "        \n",
        "    def __call__(self, x, targ):\n",
        "        for l in self.layers: x = l(x)\n",
        "        return self.loss(x, targ)\n",
        "    \n",
        "    def backward(self):\n",
        "        self.loss.backward()\n",
        "        for l in reversed(self.layers):\n",
        "            l.backward()"
      ],
      "execution_count": 223,
      "outputs": []
    },
    {
      "cell_type": "code",
      "metadata": {
        "id": "i3abK05HhJAi"
      },
      "source": [
        "w1.g,b1.g,w2.g,b2.g = [None]*4\n",
        "model = Model(w1, b1, w2, b2)"
      ],
      "execution_count": 224,
      "outputs": []
    },
    {
      "cell_type": "code",
      "metadata": {
        "colab": {
          "base_uri": "https://localhost:8080/"
        },
        "id": "wroxu5Noh4wU",
        "outputId": "8bc3b145-b4ff-4041-e014-60a619f777cb"
      },
      "source": [
        "%time loss = model(x_train, y_train)"
      ],
      "execution_count": 225,
      "outputs": [
        {
          "output_type": "stream",
          "text": [
            "CPU times: user 107 ms, sys: 480 µs, total: 107 ms\n",
            "Wall time: 111 ms\n"
          ],
          "name": "stdout"
        }
      ]
    },
    {
      "cell_type": "code",
      "metadata": {
        "colab": {
          "base_uri": "https://localhost:8080/"
        },
        "id": "YgwMVRySiASF",
        "outputId": "774c8542-a126-4526-8b38-453583c31970"
      },
      "source": [
        "%time model.backward()"
      ],
      "execution_count": 226,
      "outputs": [
        {
          "output_type": "stream",
          "text": [
            "CPU times: user 3.72 s, sys: 48.6 ms, total: 3.77 s\n",
            "Wall time: 3.77 s\n"
          ],
          "name": "stdout"
        }
      ]
    },
    {
      "cell_type": "code",
      "metadata": {
        "id": "LgiZ_XCZmrxI"
      },
      "source": [
        "class Module():\n",
        "    def __call__(self, *args):\n",
        "        self.args = args\n",
        "        self.out = self.forward(*args)\n",
        "        return self.out\n",
        "    \n",
        "    def forward(self): raise Exception('not implemented')\n",
        "    def backward(self): self.bwd(self.out, *self.args)"
      ],
      "execution_count": 227,
      "outputs": []
    },
    {
      "cell_type": "code",
      "metadata": {
        "id": "Tc0G6Th0m1Ig"
      },
      "source": [
        "class Relu(Module):\n",
        "    def forward(self, inp): return inp.clamp_min(0.)-0.5\n",
        "    def bwd(self, out, inp): inp.g = (inp>0).float() * out.g"
      ],
      "execution_count": 228,
      "outputs": []
    },
    {
      "cell_type": "code",
      "metadata": {
        "id": "Nx5gfRRKm46V"
      },
      "source": [
        "class Lin(Module):\n",
        "    def __init__(self, w, b): self.w,self.b = w,b\n",
        "        \n",
        "    def forward(self, inp): return inp@self.w + self.b\n",
        "    \n",
        "    def bwd(self, out, inp):\n",
        "        inp.g = out.g @ self.w.t()\n",
        "        self.w.g = inp.t() @ out.g\n",
        "        self.b.g = out.g.sum(0)"
      ],
      "execution_count": 229,
      "outputs": []
    },
    {
      "cell_type": "code",
      "metadata": {
        "id": "coPLflX9m7XJ"
      },
      "source": [
        "class Mse(Module):\n",
        "    def forward (self, inp, targ): return (inp.squeeze() - targ).pow(2).mean()\n",
        "    def bwd(self, out, inp, targ): inp.g = 2*(inp.squeeze()-targ).unsqueeze(-1) / targ.shape[0]"
      ],
      "execution_count": 230,
      "outputs": []
    },
    {
      "cell_type": "code",
      "metadata": {
        "id": "vqYyXi1ymm-D"
      },
      "source": [
        "from torch import nn\n",
        "\n",
        "class Model(nn.Module):\n",
        "    def __init__(self, n_in, nh, n_out):\n",
        "        super().__init__()\n",
        "        self.layers = [nn.Linear(n_in,nh), nn.ReLU(), nn.Linear(nh,n_out)]\n",
        "        self.loss = mse\n",
        "        \n",
        "    def __call__(self, x, targ):\n",
        "        for l in self.layers: x = l(x)\n",
        "        return self.loss(x.squeeze(), targ)"
      ],
      "execution_count": 231,
      "outputs": []
    },
    {
      "cell_type": "code",
      "metadata": {
        "id": "BNuYgVgXnD4I"
      },
      "source": [
        "model = Model(m, nh, 1)"
      ],
      "execution_count": 232,
      "outputs": []
    },
    {
      "cell_type": "code",
      "metadata": {
        "colab": {
          "base_uri": "https://localhost:8080/"
        },
        "id": "zwGJxvpEnG_y",
        "outputId": "3cab034c-67f3-49fb-c21d-0f437a82cb14"
      },
      "source": [
        "%time loss = model(x_train, y_train)"
      ],
      "execution_count": 233,
      "outputs": [
        {
          "output_type": "stream",
          "text": [
            "CPU times: user 90.4 ms, sys: 86 µs, total: 90.5 ms\n",
            "Wall time: 93 ms\n"
          ],
          "name": "stdout"
        }
      ]
    },
    {
      "cell_type": "code",
      "metadata": {
        "colab": {
          "base_uri": "https://localhost:8080/"
        },
        "id": "w3GD5TRvnI2j",
        "outputId": "60efcac5-34a1-44f0-8c8c-b1125256c054"
      },
      "source": [
        "%time loss.backward()"
      ],
      "execution_count": 234,
      "outputs": [
        {
          "output_type": "stream",
          "text": [
            "CPU times: user 67.7 ms, sys: 0 ns, total: 67.7 ms\n",
            "Wall time: 68.4 ms\n"
          ],
          "name": "stdout"
        }
      ]
    },
    {
      "cell_type": "markdown",
      "metadata": {
        "id": "yOUL0cEkskMz"
      },
      "source": [
        "Mini batch training"
      ]
    },
    {
      "cell_type": "code",
      "metadata": {
        "id": "srOPCN4KsmaH"
      },
      "source": [
        "import torch.nn.functional as F"
      ],
      "execution_count": 235,
      "outputs": []
    },
    {
      "cell_type": "code",
      "metadata": {
        "id": "DZi6jC_6spT8"
      },
      "source": [
        "mpl.rcParams['image.cmap'] = 'gray'"
      ],
      "execution_count": 236,
      "outputs": []
    },
    {
      "cell_type": "code",
      "metadata": {
        "id": "rpVMv4Xls1Vm"
      },
      "source": [
        "n,m = x_train.shape\n",
        "c = y_train.max()+1\n",
        "nh = 50"
      ],
      "execution_count": 237,
      "outputs": []
    },
    {
      "cell_type": "code",
      "metadata": {
        "id": "_Z1KCnWCs4Cr"
      },
      "source": [
        "class Model(nn.Module):\n",
        "    def __init__(self, n_in, nh, n_out):\n",
        "        super().__init__()\n",
        "        self.layers = [nn.Linear(n_in,nh), nn.ReLU(), nn.Linear(nh,n_out)]\n",
        "        \n",
        "    def __call__(self, x):\n",
        "        for l in self.layers: x = l(x)\n",
        "        return x"
      ],
      "execution_count": 238,
      "outputs": []
    },
    {
      "cell_type": "code",
      "metadata": {
        "id": "mJUZpnCRs7YC"
      },
      "source": [
        "model = Model(m, nh, 10)\n",
        "pred = model(x_train)"
      ],
      "execution_count": 239,
      "outputs": []
    },
    {
      "cell_type": "code",
      "metadata": {
        "id": "aMsefya8tufa"
      },
      "source": [
        "def log_softmax(x):\n",
        "  return (x.exp()/(x.exp().sum(-1,keepdim=True))).log()"
      ],
      "execution_count": 240,
      "outputs": []
    },
    {
      "cell_type": "code",
      "metadata": {
        "id": "pWAr4Q74tw_z"
      },
      "source": [
        "sm_pred = log_softmax(pred)"
      ],
      "execution_count": 241,
      "outputs": []
    },
    {
      "cell_type": "code",
      "metadata": {
        "colab": {
          "base_uri": "https://localhost:8080/"
        },
        "id": "xdTGiUEXu1xn",
        "outputId": "e7aa6e45-27a9-4077-b361-badf385c7387"
      },
      "source": [
        "y_train[:3]"
      ],
      "execution_count": 242,
      "outputs": [
        {
          "output_type": "execute_result",
          "data": {
            "text/plain": [
              "tensor([5., 0., 4.])"
            ]
          },
          "metadata": {
            "tags": []
          },
          "execution_count": 242
        }
      ]
    },
    {
      "cell_type": "code",
      "metadata": {
        "colab": {
          "base_uri": "https://localhost:8080/"
        },
        "id": "LBjGcIzpu64g",
        "outputId": "1f5f99a9-4d0b-4662-f05e-e2a307cc4c33"
      },
      "source": [
        "sm_pred[[0,1,2], [5,0,4]]\n",
        "#sm_pred[[0,1,2]]"
      ],
      "execution_count": 243,
      "outputs": [
        {
          "output_type": "execute_result",
          "data": {
            "text/plain": [
              "tensor([-2.5176, -2.2627, -2.3583], grad_fn=<IndexBackward>)"
            ]
          },
          "metadata": {
            "tags": []
          },
          "execution_count": 243
        }
      ]
    },
    {
      "cell_type": "code",
      "metadata": {
        "colab": {
          "base_uri": "https://localhost:8080/"
        },
        "id": "Md5rs8gLvPMM",
        "outputId": "a02e1712-00c3-4a2a-e110-13bb7b474d66"
      },
      "source": [
        "y_train.shape[0]"
      ],
      "execution_count": 244,
      "outputs": [
        {
          "output_type": "execute_result",
          "data": {
            "text/plain": [
              "60000"
            ]
          },
          "metadata": {
            "tags": []
          },
          "execution_count": 244
        }
      ]
    },
    {
      "cell_type": "code",
      "metadata": {
        "id": "JvjA9lLaCyIc"
      },
      "source": [
        "loss_func = F.cross_entropy"
      ],
      "execution_count": 245,
      "outputs": []
    },
    {
      "cell_type": "code",
      "metadata": {
        "id": "Q0n37nMDC0LD"
      },
      "source": [
        "def accuracy(out, yb):\n",
        "  return (torch.argmax(out, dim=1)==yb).float().mean()"
      ],
      "execution_count": 246,
      "outputs": []
    },
    {
      "cell_type": "code",
      "metadata": {
        "colab": {
          "base_uri": "https://localhost:8080/"
        },
        "id": "M_vfVZIvC4VX",
        "outputId": "0032339b-be2c-476a-c74c-7f55be351277"
      },
      "source": [
        "bs=64                  # batch size\n",
        "xb = x_train[0:bs]     # a mini-batch from x\n",
        "preds = model(xb)      # predictions\n",
        "preds[0], preds.shape"
      ],
      "execution_count": 247,
      "outputs": [
        {
          "output_type": "execute_result",
          "data": {
            "text/plain": [
              "(tensor([-0.2840,  0.2108, -0.2606,  0.2574, -0.0494, -0.2671,  0.0783, -0.1005,\n",
              "         -0.1084, -0.1741], grad_fn=<SelectBackward>), torch.Size([64, 10]))"
            ]
          },
          "metadata": {
            "tags": []
          },
          "execution_count": 247
        }
      ]
    },
    {
      "cell_type": "code",
      "metadata": {
        "colab": {
          "base_uri": "https://localhost:8080/"
        },
        "id": "2ZMp06PWEyHX",
        "outputId": "3e85debe-d1a6-49ff-cce8-ff136bce81c2"
      },
      "source": [
        "yb = y_train[0:bs]\n",
        "loss_func(preds, yb.long())"
      ],
      "execution_count": 248,
      "outputs": [
        {
          "output_type": "execute_result",
          "data": {
            "text/plain": [
              "tensor(2.3143, grad_fn=<NllLossBackward>)"
            ]
          },
          "metadata": {
            "tags": []
          },
          "execution_count": 248
        }
      ]
    },
    {
      "cell_type": "code",
      "metadata": {
        "colab": {
          "base_uri": "https://localhost:8080/"
        },
        "id": "vG38z7OHE-X2",
        "outputId": "bec5b986-7cdd-4cd1-8a34-b501e19789f8"
      },
      "source": [
        "accuracy(preds, yb)"
      ],
      "execution_count": 249,
      "outputs": [
        {
          "output_type": "execute_result",
          "data": {
            "text/plain": [
              "tensor(0.0625)"
            ]
          },
          "metadata": {
            "tags": []
          },
          "execution_count": 249
        }
      ]
    },
    {
      "cell_type": "code",
      "metadata": {
        "id": "ue4Z-9C5FCcZ"
      },
      "source": [
        "lr = 0.5   # learning rate\n",
        "epochs = 1 # how many epochs to train for"
      ],
      "execution_count": 250,
      "outputs": []
    },
    {
      "cell_type": "code",
      "metadata": {
        "id": "nN5zvWZYFGcQ"
      },
      "source": [
        "for epoch in range(epochs):\n",
        "    for i in range((n-1)//bs + 1):\n",
        "#         set_trace()\n",
        "        start_i = i*bs\n",
        "        end_i = start_i+bs\n",
        "        xb = x_train[start_i:end_i]\n",
        "        yb = y_train[start_i:end_i]\n",
        "        loss = loss_func(model(xb), yb.long())\n",
        "\n",
        "        loss.backward()\n",
        "        with torch.no_grad():\n",
        "            for l in model.layers:\n",
        "                if hasattr(l, 'weight'):\n",
        "                    l.weight -= l.weight.grad * lr\n",
        "                    l.bias   -= l.bias.grad   * lr\n",
        "                    l.weight.grad.zero_()\n",
        "                    l.bias  .grad.zero_()"
      ],
      "execution_count": 251,
      "outputs": []
    },
    {
      "cell_type": "code",
      "metadata": {
        "colab": {
          "base_uri": "https://localhost:8080/"
        },
        "id": "ic-2kTcSFN6k",
        "outputId": "cfda0db4-a201-4edd-9386-d502aebdc4eb"
      },
      "source": [
        "loss_func(model(xb), yb.long()), accuracy(model(xb), yb)"
      ],
      "execution_count": 252,
      "outputs": [
        {
          "output_type": "execute_result",
          "data": {
            "text/plain": [
              "(tensor(0.0069, grad_fn=<NllLossBackward>), tensor(1.))"
            ]
          },
          "metadata": {
            "tags": []
          },
          "execution_count": 252
        }
      ]
    },
    {
      "cell_type": "code",
      "metadata": {
        "id": "mZ7yIVPzL6pb"
      },
      "source": [
        "class Model(nn.Module):\n",
        "    def __init__(self, n_in, nh, n_out):\n",
        "        super().__init__()\n",
        "        self.l1 = nn.Linear(n_in,nh)\n",
        "        self.l2 = nn.Linear(nh,n_out)\n",
        "        \n",
        "    def __call__(self, x):\n",
        "      return self.l2(F.relu(self.l1(x)))"
      ],
      "execution_count": 253,
      "outputs": []
    },
    {
      "cell_type": "code",
      "metadata": {
        "id": "v_fatttCMSKU"
      },
      "source": [
        "model = Model(m, nh, 10)"
      ],
      "execution_count": 254,
      "outputs": []
    },
    {
      "cell_type": "code",
      "metadata": {
        "colab": {
          "base_uri": "https://localhost:8080/"
        },
        "id": "EWlnzBnWMUeu",
        "outputId": "75fd50b2-9f6e-4b47-c2cb-59c36b5ffce0"
      },
      "source": [
        "for name,l in model.named_children():\n",
        "  print(f\"{name}: {l}\")"
      ],
      "execution_count": 255,
      "outputs": [
        {
          "output_type": "stream",
          "text": [
            "l1: Linear(in_features=784, out_features=50, bias=True)\n",
            "l2: Linear(in_features=50, out_features=10, bias=True)\n"
          ],
          "name": "stdout"
        }
      ]
    },
    {
      "cell_type": "code",
      "metadata": {
        "colab": {
          "base_uri": "https://localhost:8080/"
        },
        "id": "oo5yoPywMbaj",
        "outputId": "1d50e676-7707-490d-982c-685aa6a50cc4"
      },
      "source": [
        "model"
      ],
      "execution_count": 256,
      "outputs": [
        {
          "output_type": "execute_result",
          "data": {
            "text/plain": [
              "Model(\n",
              "  (l1): Linear(in_features=784, out_features=50, bias=True)\n",
              "  (l2): Linear(in_features=50, out_features=10, bias=True)\n",
              ")"
            ]
          },
          "metadata": {
            "tags": []
          },
          "execution_count": 256
        }
      ]
    },
    {
      "cell_type": "code",
      "metadata": {
        "colab": {
          "base_uri": "https://localhost:8080/"
        },
        "id": "s1HGZwctMlsO",
        "outputId": "a6efdda3-7203-4202-ecf7-507fe0e30426"
      },
      "source": [
        "model.l1"
      ],
      "execution_count": 257,
      "outputs": [
        {
          "output_type": "execute_result",
          "data": {
            "text/plain": [
              "Linear(in_features=784, out_features=50, bias=True)"
            ]
          },
          "metadata": {
            "tags": []
          },
          "execution_count": 257
        }
      ]
    },
    {
      "cell_type": "code",
      "metadata": {
        "id": "2En8NJgPMpab"
      },
      "source": [
        "def fit():\n",
        "    for epoch in range(epochs):\n",
        "        for i in range((n-1)//bs + 1):\n",
        "            start_i = i*bs\n",
        "            end_i = start_i+bs\n",
        "            xb = x_train[start_i:end_i]\n",
        "            yb = y_train[start_i:end_i]\n",
        "            loss = loss_func(model(xb), yb.long())\n",
        "\n",
        "            loss.backward()\n",
        "            with torch.no_grad():\n",
        "                for p in model.parameters(): p -= p.grad * lr\n",
        "                model.zero_grad()"
      ],
      "execution_count": 258,
      "outputs": []
    },
    {
      "cell_type": "code",
      "metadata": {
        "colab": {
          "base_uri": "https://localhost:8080/"
        },
        "id": "xI8yIQMlM80n",
        "outputId": "3cc6a818-34c5-4e66-9be3-eb0fe5633050"
      },
      "source": [
        "fit()\n",
        "loss_func(model(xb), yb.long()), accuracy(model(xb), yb.long())"
      ],
      "execution_count": 259,
      "outputs": [
        {
          "output_type": "execute_result",
          "data": {
            "text/plain": [
              "(tensor(0.0073, grad_fn=<NllLossBackward>), tensor(1.))"
            ]
          },
          "metadata": {
            "tags": []
          },
          "execution_count": 259
        }
      ]
    },
    {
      "cell_type": "code",
      "metadata": {
        "id": "a_3P46PKNYxY"
      },
      "source": [
        "layers = [nn.Linear(m,nh), nn.ReLU(), nn.Linear(nh,10)]"
      ],
      "execution_count": 260,
      "outputs": []
    },
    {
      "cell_type": "code",
      "metadata": {
        "id": "mx_uUIM8Nbiz"
      },
      "source": [
        "class Model(nn.Module):\n",
        "    def __init__(self, layers):\n",
        "        super().__init__()\n",
        "        self.layers = layers\n",
        "        for i,l in enumerate(self.layers): self.add_module(f'layer_{i}', l)\n",
        "        \n",
        "    def __call__(self, x):\n",
        "        for l in self.layers: x = l(x)\n",
        "        return x"
      ],
      "execution_count": 261,
      "outputs": []
    },
    {
      "cell_type": "code",
      "metadata": {
        "id": "slrLXE2PNfwn"
      },
      "source": [
        "model = Model(layers)"
      ],
      "execution_count": 262,
      "outputs": []
    },
    {
      "cell_type": "code",
      "metadata": {
        "colab": {
          "base_uri": "https://localhost:8080/"
        },
        "id": "usu-GiKdNhmt",
        "outputId": "8b0e30ba-42cf-4ab3-cbe1-e1f4c8684469"
      },
      "source": [
        "model"
      ],
      "execution_count": 263,
      "outputs": [
        {
          "output_type": "execute_result",
          "data": {
            "text/plain": [
              "Model(\n",
              "  (layer_0): Linear(in_features=784, out_features=50, bias=True)\n",
              "  (layer_1): ReLU()\n",
              "  (layer_2): Linear(in_features=50, out_features=10, bias=True)\n",
              ")"
            ]
          },
          "metadata": {
            "tags": []
          },
          "execution_count": 263
        }
      ]
    },
    {
      "cell_type": "code",
      "metadata": {
        "id": "OG6wd0jvnJle"
      },
      "source": [
        "class SequentialModel(nn.Module):\n",
        "    def __init__(self, layers):\n",
        "        super().__init__()\n",
        "        self.layers = nn.ModuleList(layers)\n",
        "        \n",
        "    def __call__(self, x):\n",
        "        for l in self.layers: x = l(x)\n",
        "        return x"
      ],
      "execution_count": 264,
      "outputs": []
    },
    {
      "cell_type": "code",
      "metadata": {
        "id": "AKi940JinUq7"
      },
      "source": [
        "model = SequentialModel(layers)"
      ],
      "execution_count": 265,
      "outputs": []
    },
    {
      "cell_type": "code",
      "metadata": {
        "colab": {
          "base_uri": "https://localhost:8080/"
        },
        "id": "quWC8KiznWLG",
        "outputId": "23c6127d-21d7-46e0-9a36-71bb6b5d2e66"
      },
      "source": [
        "model"
      ],
      "execution_count": 266,
      "outputs": [
        {
          "output_type": "execute_result",
          "data": {
            "text/plain": [
              "SequentialModel(\n",
              "  (layers): ModuleList(\n",
              "    (0): Linear(in_features=784, out_features=50, bias=True)\n",
              "    (1): ReLU()\n",
              "    (2): Linear(in_features=50, out_features=10, bias=True)\n",
              "  )\n",
              ")"
            ]
          },
          "metadata": {
            "tags": []
          },
          "execution_count": 266
        }
      ]
    },
    {
      "cell_type": "code",
      "metadata": {
        "id": "AvB7VhuAnbLU"
      },
      "source": [
        "fit()"
      ],
      "execution_count": 267,
      "outputs": []
    },
    {
      "cell_type": "code",
      "metadata": {
        "colab": {
          "base_uri": "https://localhost:8080/"
        },
        "id": "av3y3WqOncq4",
        "outputId": "49772109-d8fd-416e-bfd9-45abc5b99c48"
      },
      "source": [
        "loss_func(model(xb), yb.long()), accuracy(model(xb), yb)"
      ],
      "execution_count": 268,
      "outputs": [
        {
          "output_type": "execute_result",
          "data": {
            "text/plain": [
              "(tensor(0.0127, grad_fn=<NllLossBackward>), tensor(1.))"
            ]
          },
          "metadata": {
            "tags": []
          },
          "execution_count": 268
        }
      ]
    },
    {
      "cell_type": "code",
      "metadata": {
        "id": "rcsZCm4MoF8N"
      },
      "source": [
        "model = nn.Sequential(nn.Linear(m,nh), nn.ReLU(), nn.Linear(nh,10))"
      ],
      "execution_count": 269,
      "outputs": []
    },
    {
      "cell_type": "code",
      "metadata": {
        "colab": {
          "base_uri": "https://localhost:8080/"
        },
        "id": "ZU1QwONKoQRH",
        "outputId": "8f8cba9b-c558-420d-b536-40fc3c0de4ac"
      },
      "source": [
        "fit()\n",
        "loss_func(model(xb), yb.long()), accuracy(model(xb), yb)"
      ],
      "execution_count": 270,
      "outputs": [
        {
          "output_type": "execute_result",
          "data": {
            "text/plain": [
              "(tensor(0.0061, grad_fn=<NllLossBackward>), tensor(1.))"
            ]
          },
          "metadata": {
            "tags": []
          },
          "execution_count": 270
        }
      ]
    },
    {
      "cell_type": "code",
      "metadata": {
        "colab": {
          "base_uri": "https://localhost:8080/"
        },
        "id": "cRZkX2BcoVkm",
        "outputId": "bca70fab-3d31-451f-b6f8-a1fd4033d2c1"
      },
      "source": [
        "nn.Sequential"
      ],
      "execution_count": 271,
      "outputs": [
        {
          "output_type": "execute_result",
          "data": {
            "text/plain": [
              "torch.nn.modules.container.Sequential"
            ]
          },
          "metadata": {
            "tags": []
          },
          "execution_count": 271
        }
      ]
    },
    {
      "cell_type": "code",
      "metadata": {
        "colab": {
          "base_uri": "https://localhost:8080/"
        },
        "id": "E_icXi1NoXpa",
        "outputId": "2a1196a8-92cf-40fb-a55d-d44f8bea081e"
      },
      "source": [
        "model"
      ],
      "execution_count": 272,
      "outputs": [
        {
          "output_type": "execute_result",
          "data": {
            "text/plain": [
              "Sequential(\n",
              "  (0): Linear(in_features=784, out_features=50, bias=True)\n",
              "  (1): ReLU()\n",
              "  (2): Linear(in_features=50, out_features=10, bias=True)\n",
              ")"
            ]
          },
          "metadata": {
            "tags": []
          },
          "execution_count": 272
        }
      ]
    },
    {
      "cell_type": "code",
      "metadata": {
        "id": "DHit9a4IqACL"
      },
      "source": [
        "class Optimizer():\n",
        "    def __init__(self, params, lr=0.5):\n",
        "        self.params,self.lr=list(params),lr\n",
        "        \n",
        "    def step(self):\n",
        "        with torch.no_grad():\n",
        "            for p in self.params: p -= p.grad * self.lr\n",
        "\n",
        "    def zero_grad(self):\n",
        "        for p in self.params: p.grad.data.zero_()"
      ],
      "execution_count": 273,
      "outputs": []
    },
    {
      "cell_type": "code",
      "metadata": {
        "id": "Y5HAwWH3qeRV"
      },
      "source": [
        "model = nn.Sequential(nn.Linear(m,nh), nn.ReLU(), nn.Linear(nh,10))"
      ],
      "execution_count": 274,
      "outputs": []
    },
    {
      "cell_type": "code",
      "metadata": {
        "id": "lRfZf49dqf8y"
      },
      "source": [
        "opt = Optimizer(model.parameters())"
      ],
      "execution_count": 275,
      "outputs": []
    },
    {
      "cell_type": "code",
      "metadata": {
        "id": "K7viwqpTqpfm"
      },
      "source": [
        "for epoch in range(epochs):\n",
        "    for i in range((n-1)//bs + 1):\n",
        "        start_i = i*bs\n",
        "        end_i = start_i+bs\n",
        "        xb = x_train[start_i:end_i]\n",
        "        yb = y_train[start_i:end_i]\n",
        "        pred = model(xb)\n",
        "        loss = loss_func(pred, yb.long())\n",
        "\n",
        "        loss.backward()\n",
        "        opt.step()\n",
        "        opt.zero_grad()"
      ],
      "execution_count": 276,
      "outputs": []
    },
    {
      "cell_type": "code",
      "metadata": {
        "colab": {
          "base_uri": "https://localhost:8080/"
        },
        "id": "ktJ8tAQLs2uK",
        "outputId": "5c268350-f48b-4ba4-fe1f-15c0f7f5d172"
      },
      "source": [
        "loss,acc = loss_func(model(xb), yb.long()), accuracy(model(xb), yb)\n",
        "loss,acc"
      ],
      "execution_count": 277,
      "outputs": [
        {
          "output_type": "execute_result",
          "data": {
            "text/plain": [
              "(tensor(0.0422, grad_fn=<NllLossBackward>), tensor(1.))"
            ]
          },
          "metadata": {
            "tags": []
          },
          "execution_count": 277
        }
      ]
    },
    {
      "cell_type": "code",
      "metadata": {
        "id": "PbRTB5UEujFB"
      },
      "source": [
        "from torch import optim"
      ],
      "execution_count": 278,
      "outputs": []
    },
    {
      "cell_type": "code",
      "metadata": {
        "colab": {
          "base_uri": "https://localhost:8080/"
        },
        "id": "EaQq7tJzul7-",
        "outputId": "10bdc79b-285f-439b-bce8-a85026f8fe56"
      },
      "source": [
        "optim.SGD.step"
      ],
      "execution_count": 279,
      "outputs": [
        {
          "output_type": "execute_result",
          "data": {
            "text/plain": [
              "<function torch.optim.sgd.SGD.step>"
            ]
          },
          "metadata": {
            "tags": []
          },
          "execution_count": 279
        }
      ]
    },
    {
      "cell_type": "code",
      "metadata": {
        "id": "0NiHv9sHuo4k"
      },
      "source": [
        "def get_model():\n",
        "    model = nn.Sequential(nn.Linear(m,nh), nn.ReLU(), nn.Linear(nh,10))\n",
        "    return model, optim.SGD(model.parameters(), lr=lr)"
      ],
      "execution_count": 280,
      "outputs": []
    },
    {
      "cell_type": "code",
      "metadata": {
        "colab": {
          "base_uri": "https://localhost:8080/"
        },
        "id": "OK9jYA3SuwAr",
        "outputId": "20e0772c-761d-4c46-8c7e-259d118c1f82"
      },
      "source": [
        "model,opt = get_model()\n",
        "loss_func(model(xb), yb.long())"
      ],
      "execution_count": 281,
      "outputs": [
        {
          "output_type": "execute_result",
          "data": {
            "text/plain": [
              "tensor(2.3517, grad_fn=<NllLossBackward>)"
            ]
          },
          "metadata": {
            "tags": []
          },
          "execution_count": 281
        }
      ]
    },
    {
      "cell_type": "code",
      "metadata": {
        "id": "GCi9wHIevq71"
      },
      "source": [
        "for epoch in range(epochs):\n",
        "    for i in range((n-1)//bs + 1):\n",
        "        start_i = i*bs\n",
        "        end_i = start_i+bs\n",
        "        xb = x_train[start_i:end_i]\n",
        "        yb = y_train[start_i:end_i]\n",
        "        pred = model(xb)\n",
        "        loss = loss_func(pred, yb.long())\n",
        "\n",
        "        loss.backward()\n",
        "        opt.step()\n",
        "        opt.zero_grad()"
      ],
      "execution_count": 282,
      "outputs": []
    },
    {
      "cell_type": "code",
      "metadata": {
        "colab": {
          "base_uri": "https://localhost:8080/"
        },
        "id": "qxp9iw0JvarJ",
        "outputId": "cf6e936a-b8da-463c-9d5a-78de3bdd5a38"
      },
      "source": [
        "loss,acc = loss_func(model(xb), yb.long()), accuracy(model(xb), yb)\n",
        "loss,acc"
      ],
      "execution_count": 283,
      "outputs": [
        {
          "output_type": "execute_result",
          "data": {
            "text/plain": [
              "(tensor(0.0103, grad_fn=<NllLossBackward>), tensor(1.))"
            ]
          },
          "metadata": {
            "tags": []
          },
          "execution_count": 283
        }
      ]
    },
    {
      "cell_type": "code",
      "metadata": {
        "id": "EujmvCzn0gBm"
      },
      "source": [
        "class Dataset():\n",
        "    def __init__(self, x, y): self.x,self.y = x,y\n",
        "    def __len__(self): return len(self.x)\n",
        "    def __getitem__(self, i): return self.x[i],self.y[i]"
      ],
      "execution_count": 284,
      "outputs": []
    },
    {
      "cell_type": "code",
      "metadata": {
        "id": "GMyp1bXr0u4g"
      },
      "source": [
        "train_ds,test_ds = Dataset(x_train, y_train),Dataset(x_test, y_test)"
      ],
      "execution_count": 285,
      "outputs": []
    },
    {
      "cell_type": "code",
      "metadata": {
        "colab": {
          "base_uri": "https://localhost:8080/"
        },
        "id": "DjC809YS0z3h",
        "outputId": "b77db083-ac5c-46cf-ee64-ba30ed666221"
      },
      "source": [
        "xb,yb = train_ds[0:5]\n",
        "xb,yb"
      ],
      "execution_count": 286,
      "outputs": [
        {
          "output_type": "execute_result",
          "data": {
            "text/plain": [
              "(tensor([[-0.4241, -0.4241, -0.4241,  ..., -0.4241, -0.4241, -0.4241],\n",
              "         [-0.4241, -0.4241, -0.4241,  ..., -0.4241, -0.4241, -0.4241],\n",
              "         [-0.4241, -0.4241, -0.4241,  ..., -0.4241, -0.4241, -0.4241],\n",
              "         [-0.4241, -0.4241, -0.4241,  ..., -0.4241, -0.4241, -0.4241],\n",
              "         [-0.4241, -0.4241, -0.4241,  ..., -0.4241, -0.4241, -0.4241]]),\n",
              " tensor([5., 0., 4., 1., 9.]))"
            ]
          },
          "metadata": {
            "tags": []
          },
          "execution_count": 286
        }
      ]
    },
    {
      "cell_type": "code",
      "metadata": {
        "id": "qLwumj1Z07gc"
      },
      "source": [
        "model,opt = get_model()"
      ],
      "execution_count": 287,
      "outputs": []
    },
    {
      "cell_type": "code",
      "metadata": {
        "id": "ctmjr5vD01cc"
      },
      "source": [
        "for epoch in range(epochs):\n",
        "    for i in range((n-1)//bs + 1):\n",
        "        xb,yb = train_ds[i*bs : i*bs+bs]\n",
        "        pred = model(xb)\n",
        "        loss = loss_func(pred, yb.long())\n",
        "\n",
        "        loss.backward()\n",
        "        opt.step()\n",
        "        opt.zero_grad()"
      ],
      "execution_count": 288,
      "outputs": []
    },
    {
      "cell_type": "code",
      "metadata": {
        "colab": {
          "base_uri": "https://localhost:8080/"
        },
        "id": "Q8xuagam1soF",
        "outputId": "767f4124-482c-4723-a65a-faf14d8994a8"
      },
      "source": [
        "loss,acc = loss_func(model(xb), yb.long()), accuracy(model(xb), yb)\n",
        "loss,acc"
      ],
      "execution_count": 289,
      "outputs": [
        {
          "output_type": "execute_result",
          "data": {
            "text/plain": [
              "(tensor(0.0192, grad_fn=<NllLossBackward>), tensor(1.))"
            ]
          },
          "metadata": {
            "tags": []
          },
          "execution_count": 289
        }
      ]
    },
    {
      "cell_type": "code",
      "metadata": {
        "id": "6TyaJ2an11Sv"
      },
      "source": [
        "class Sampler():\n",
        "    def __init__(self, ds, bs, shuffle=False):\n",
        "        self.n,self.bs,self.shuffle = len(ds),bs,shuffle\n",
        "        \n",
        "    def __iter__(self):\n",
        "        self.idxs = torch.randperm(self.n) if self.shuffle else torch.arange(self.n)\n",
        "        for i in range(0, self.n, self.bs): yield self.idxs[i:i+self.bs]"
      ],
      "execution_count": 290,
      "outputs": []
    },
    {
      "cell_type": "code",
      "metadata": {
        "id": "g9b23WaK3Faw"
      },
      "source": [
        "small_ds = Dataset(*train_ds[:10])"
      ],
      "execution_count": 291,
      "outputs": []
    },
    {
      "cell_type": "code",
      "metadata": {
        "colab": {
          "base_uri": "https://localhost:8080/"
        },
        "id": "59UYjJUZ3vuK",
        "outputId": "3329c95a-ddd5-43e1-933e-668c4f152c19"
      },
      "source": [
        "s = Sampler(small_ds,3,False)\n",
        "[o for o in s]"
      ],
      "execution_count": 292,
      "outputs": [
        {
          "output_type": "execute_result",
          "data": {
            "text/plain": [
              "[tensor([0, 1, 2]), tensor([3, 4, 5]), tensor([6, 7, 8]), tensor([9])]"
            ]
          },
          "metadata": {
            "tags": []
          },
          "execution_count": 292
        }
      ]
    },
    {
      "cell_type": "code",
      "metadata": {
        "colab": {
          "base_uri": "https://localhost:8080/"
        },
        "id": "d8sBq5I_30sp",
        "outputId": "e62409df-1712-4185-d82c-959314bf5caa"
      },
      "source": [
        "s = Sampler(small_ds,3,True)\n",
        "[o for o in s]"
      ],
      "execution_count": 293,
      "outputs": [
        {
          "output_type": "execute_result",
          "data": {
            "text/plain": [
              "[tensor([7, 6, 5]), tensor([4, 0, 1]), tensor([8, 2, 3]), tensor([9])]"
            ]
          },
          "metadata": {
            "tags": []
          },
          "execution_count": 293
        }
      ]
    },
    {
      "cell_type": "code",
      "metadata": {
        "id": "Nr3d8Ekd4EKK"
      },
      "source": [
        "def collate(b):\n",
        "    xs,ys = zip(*b)\n",
        "    return torch.stack(xs),torch.stack(ys)"
      ],
      "execution_count": 294,
      "outputs": []
    },
    {
      "cell_type": "code",
      "metadata": {
        "id": "OSVBVkbn4-ZT"
      },
      "source": [
        "class DataLoader():\n",
        "    def __init__(self, ds, sampler, collate_fn=collate):\n",
        "        self.ds,self.sampler,self.collate_fn = ds,sampler,collate_fn\n",
        "        \n",
        "    def __iter__(self):\n",
        "        for s in self.sampler: yield self.collate_fn([self.ds[i] for i in s])"
      ],
      "execution_count": 295,
      "outputs": []
    },
    {
      "cell_type": "code",
      "metadata": {
        "id": "rUUCQu1q5By2"
      },
      "source": [
        "train_samp = Sampler(train_ds, bs, shuffle=True)\n",
        "test_samp = Sampler(test_ds, bs, shuffle=False)"
      ],
      "execution_count": 296,
      "outputs": []
    },
    {
      "cell_type": "code",
      "metadata": {
        "id": "wIQVF63d5Gux"
      },
      "source": [
        "train_dl = DataLoader(train_ds, sampler=train_samp, collate_fn=collate)\n",
        "test_dl = DataLoader(test_ds, sampler=test_samp, collate_fn=collate)"
      ],
      "execution_count": 297,
      "outputs": []
    },
    {
      "cell_type": "code",
      "metadata": {
        "colab": {
          "base_uri": "https://localhost:8080/",
          "height": 282
        },
        "id": "i0c1U9gV5RMU",
        "outputId": "29e9af0f-89b1-46b3-a604-58601ea49bc6"
      },
      "source": [
        "xb,yb = next(iter(test_dl))\n",
        "plt.imshow(xb[0].view(28,28))\n",
        "yb[0]"
      ],
      "execution_count": 298,
      "outputs": [
        {
          "output_type": "execute_result",
          "data": {
            "text/plain": [
              "tensor(7.)"
            ]
          },
          "metadata": {
            "tags": []
          },
          "execution_count": 298
        },
        {
          "output_type": "display_data",
          "data": {
            "image/png": "[encoded data removed]",
            "text/plain": [
              "<Figure size 432x288 with 1 Axes>"
            ]
          },
          "metadata": {
            "tags": [],
            "needs_background": "light"
          }
        }
      ]
    },
    {
      "cell_type": "code",
      "metadata": {
        "colab": {
          "base_uri": "https://localhost:8080/",
          "height": 282
        },
        "id": "1-6De9M65WR-",
        "outputId": "de88b7ac-cc0b-4aaa-9544-8b4729f93320"
      },
      "source": [
        "xb,yb = next(iter(train_dl))\n",
        "plt.imshow(xb[0].view(28,28))\n",
        "yb[0]"
      ],
      "execution_count": 299,
      "outputs": [
        {
          "output_type": "execute_result",
          "data": {
            "text/plain": [
              "tensor(6.)"
            ]
          },
          "metadata": {
            "tags": []
          },
          "execution_count": 299
        },
        {
          "output_type": "display_data",
          "data": {
            "image/png": "[encoded data removed]",
            "text/plain": [
              "<Figure size 432x288 with 1 Axes>"
            ]
          },
          "metadata": {
            "tags": [],
            "needs_background": "light"
          }
        }
      ]
    },
    {
      "cell_type": "code",
      "metadata": {
        "id": "7KDsNH6w-6Tg"
      },
      "source": [
        "def fit(epochs, model, loss_func, opt, train_dl, valid_dl):\n",
        "    for epoch in range(epochs):\n",
        "        # Handle batchnorm / dropout\n",
        "        model.train()\n",
        "#         print(model.training)\n",
        "        for xb,yb in train_dl:\n",
        "            loss = loss_func(model(xb), yb.long())\n",
        "            loss.backward()\n",
        "            opt.step()\n",
        "            opt.zero_grad()\n",
        "\n",
        "        model.eval()\n",
        "#         print(model.training)\n",
        "        with torch.no_grad():\n",
        "            tot_loss,tot_acc = 0.,0.\n",
        "            for xb,yb in valid_dl:\n",
        "                pred = model(xb)\n",
        "                tot_loss += loss_func(pred, yb.long())\n",
        "                tot_acc  += accuracy (pred,yb)\n",
        "        nv = len(valid_dl)\n",
        "        print(epoch, tot_loss/nv, tot_acc/nv)\n",
        "    return tot_loss/nv, tot_acc/nv"
      ],
      "execution_count": 300,
      "outputs": []
    },
    {
      "cell_type": "code",
      "metadata": {
        "id": "C0ZqcNur--bN"
      },
      "source": [
        "def get_dls(train_ds, valid_ds, bs, **kwargs):\n",
        "    return (DataLoader(train_ds, batch_size=bs, shuffle=True, **kwargs),\n",
        "            DataLoader(valid_ds, batch_size=bs*2, **kwargs))"
      ],
      "execution_count": 301,
      "outputs": []
    },
    {
      "cell_type": "code",
      "metadata": {
        "id": "UOODR7aNAXiC"
      },
      "source": [
        "from torch.utils.data import DataLoader, SequentialSampler, RandomSampler"
      ],
      "execution_count": 302,
      "outputs": []
    },
    {
      "cell_type": "code",
      "metadata": {
        "colab": {
          "base_uri": "https://localhost:8080/"
        },
        "id": "J2S4mOVI_DHO",
        "outputId": "87fec0f2-c93a-4943-e328-45342b804354"
      },
      "source": [
        "train_dl,test_dl = get_dls(train_ds, test_ds, bs)\n",
        "model,opt = get_model()\n",
        "loss,acc = fit(5, model, loss_func, opt, train_dl, test_dl)"
      ],
      "execution_count": 303,
      "outputs": [
        {
          "output_type": "stream",
          "text": [
            "0 tensor(0.3061) tensor(0.9027)\n",
            "1 tensor(0.2903) tensor(0.9161)\n",
            "2 tensor(0.2633) tensor(0.9343)\n",
            "3 tensor(0.1858) tensor(0.9482)\n",
            "4 tensor(0.1853) tensor(0.9482)\n"
          ],
          "name": "stdout"
        }
      ]
    },
    {
      "cell_type": "markdown",
      "metadata": {
        "id": "dImfLg5_7Tf1"
      },
      "source": [
        "Callbacks"
      ]
    },
    {
      "cell_type": "code",
      "metadata": {
        "id": "Z5mSnzfH7WKR"
      },
      "source": [
        "(x_train, y_train), (x_valid, y_valid) = mnist.load_data()\n",
        "x_train,y_train,x_valid,y_valid = map(tensor, (x_train,y_train,x_valid,y_valid))\n",
        "x_train = torch.reshape(x_train, shape=[x_train.shape[0],x_train.shape[1]*x_train.shape[2]])\n",
        "x_valid = torch.reshape(x_valid, shape=[x_valid.shape[0],x_valid.shape[1]*x_valid.shape[2]])\n",
        "train_ds,valid_ds = Dataset(x_train, y_train),Dataset(x_valid, y_valid)"
      ],
      "execution_count": 304,
      "outputs": []
    },
    {
      "cell_type": "code",
      "metadata": {
        "id": "yYBA5X5w9wqW"
      },
      "source": [
        "nh,bs = 50,64\n",
        "c = y_train.max().item()+1\n",
        "loss_func = F.cross_entropy"
      ],
      "execution_count": 305,
      "outputs": []
    },
    {
      "cell_type": "code",
      "metadata": {
        "id": "GF9pZo1B9zRf"
      },
      "source": [
        "class DataBunch():\n",
        "    def __init__(self, train_dl, valid_dl, c=None):\n",
        "        self.train_dl,self.valid_dl,self.c = train_dl,valid_dl,c\n",
        "        \n",
        "    @property\n",
        "    def train_ds(self): return self.train_dl.dataset\n",
        "        \n",
        "    @property\n",
        "    def valid_ds(self): return self.valid_dl.dataset"
      ],
      "execution_count": 306,
      "outputs": []
    },
    {
      "cell_type": "code",
      "metadata": {
        "id": "4OxeOmY7_tug"
      },
      "source": [
        "#data = DataBunch(*get_dls(train_ds, valid_ds, bs), c)"
      ],
      "execution_count": 307,
      "outputs": []
    },
    {
      "cell_type": "code",
      "metadata": {
        "colab": {
          "base_uri": "https://localhost:8080/",
          "height": 69
        },
        "id": "Tz-H4HEWAGmF",
        "outputId": "066507f2-96bf-457a-bb88-69d8be42d5db"
      },
      "source": [
        "'''\n",
        "def get_model(data, lr=0.5, nh=50):\n",
        "    m = data.train_ds.x.shape[1]\n",
        "    model = nn.Sequential(nn.Linear(m,nh), nn.ReLU(), nn.Linear(nh,data.c))\n",
        "    return model, optim.SGD(model.parameters(), lr=lr)\n",
        "\n",
        "class Learner():\n",
        "    def __init__(self, model, opt, loss_func, data):\n",
        "        self.model,self.opt,self.loss_func,self.data = model,opt,loss_func,data\n",
        "'''"
      ],
      "execution_count": 308,
      "outputs": [
        {
          "output_type": "execute_result",
          "data": {
            "application/vnd.google.colaboratory.intrinsic+json": {
              "type": "string"
            },
            "text/plain": [
              "'\\ndef get_model(data, lr=0.5, nh=50):\\n    m = data.train_ds.x.shape[1]\\n    model = nn.Sequential(nn.Linear(m,nh), nn.ReLU(), nn.Linear(nh,data.c))\\n    return model, optim.SGD(model.parameters(), lr=lr)\\n\\nclass Learner():\\n    def __init__(self, model, opt, loss_func, data):\\n        self.model,self.opt,self.loss_func,self.data = model,opt,loss_func,data\\n'"
            ]
          },
          "metadata": {
            "tags": []
          },
          "execution_count": 308
        }
      ]
    },
    {
      "cell_type": "code",
      "metadata": {
        "id": "_xmKiH3VAQop"
      },
      "source": [
        "#learn = Learner(*get_model(data), loss_func, data)"
      ],
      "execution_count": 309,
      "outputs": []
    },
    {
      "cell_type": "code",
      "metadata": {
        "colab": {
          "base_uri": "https://localhost:8080/",
          "height": 120
        },
        "id": "bUSfAuF4ATtn",
        "outputId": "d8282b49-8ba3-4b53-f04a-e542cc20cb57"
      },
      "source": [
        "'''\n",
        "def fit(epochs, learn):\n",
        "    for epoch in range(epochs):\n",
        "        learn.model.train()\n",
        "        for xb,yb in learn.data.train_dl:\n",
        "            loss = learn.loss_func(learn.model(xb), yb)\n",
        "            loss.backward()\n",
        "            learn.opt.step()\n",
        "            learn.opt.zero_grad()\n",
        "\n",
        "        learn.model.eval()\n",
        "        with torch.no_grad():\n",
        "            tot_loss,tot_acc = 0.,0.\n",
        "            for xb,yb in learn.data.valid_dl:\n",
        "                pred = learn.model(xb)\n",
        "                tot_loss += learn.loss_func(pred, yb)\n",
        "                tot_acc  += accuracy (pred,yb)\n",
        "        nv = len(learn.data.valid_dl)\n",
        "        print(epoch, tot_loss/nv, tot_acc/nv)\n",
        "    return tot_loss/nv, tot_acc/nv\n",
        "'''"
      ],
      "execution_count": 310,
      "outputs": [
        {
          "output_type": "execute_result",
          "data": {
            "application/vnd.google.colaboratory.intrinsic+json": {
              "type": "string"
            },
            "text/plain": [
              "'\\ndef fit(epochs, learn):\\n    for epoch in range(epochs):\\n        learn.model.train()\\n        for xb,yb in learn.data.train_dl:\\n            loss = learn.loss_func(learn.model(xb), yb)\\n            loss.backward()\\n            learn.opt.step()\\n            learn.opt.zero_grad()\\n\\n        learn.model.eval()\\n        with torch.no_grad():\\n            tot_loss,tot_acc = 0.,0.\\n            for xb,yb in learn.data.valid_dl:\\n                pred = learn.model(xb)\\n                tot_loss += learn.loss_func(pred, yb)\\n                tot_acc  += accuracy (pred,yb)\\n        nv = len(learn.data.valid_dl)\\n        print(epoch, tot_loss/nv, tot_acc/nv)\\n    return tot_loss/nv, tot_acc/nv\\n'"
            ]
          },
          "metadata": {
            "tags": []
          },
          "execution_count": 310
        }
      ]
    },
    {
      "cell_type": "code",
      "metadata": {
        "id": "6XJhML5OA1P6"
      },
      "source": [
        "#loss,acc = fit(1, learn)"
      ],
      "execution_count": 311,
      "outputs": []
    }
  ]
}