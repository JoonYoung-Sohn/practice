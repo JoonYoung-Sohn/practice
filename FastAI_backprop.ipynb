{
  "nbformat": 4,
  "nbformat_minor": 0,
  "metadata": {
    "colab": {
      "name": "FastAI-backprop.ipynb",
      "provenance": [],
      "collapsed_sections": [],
      "authorship_tag": "ABX9TyOPEfWr4r4LYxpLkiOj2rVK",
      "include_colab_link": true
    },
    "kernelspec": {
      "name": "python3",
      "display_name": "Python 3"
    },
    "accelerator": "GPU"
  },
  "cells": [
    {
      "cell_type": "markdown",
      "metadata": {
        "id": "view-in-github",
        "colab_type": "text"
      },
      "source": [
        "<a href=\"https://colab.research.google.com/github/JoonYoung-Sohn/practice/blob/master/FastAI_backprop.ipynb\" target=\"_parent\"><img src=\"https://colab.research.google.com/assets/colab-badge.svg\" alt=\"Open In Colab\"/></a>"
      ]
    },
    {
      "cell_type": "markdown",
      "metadata": {
        "id": "ZpJFlF79gy07"
      },
      "source": [
        "Matrix multiplication"
      ]
    },
    {
      "cell_type": "code",
      "metadata": {
        "id": "uNCSX8x0az0W"
      },
      "source": [
        "from pathlib import Path\n",
        "from IPython.core.debugger import set_trace\n",
        "from fastai import datasets\n",
        "import pickle, gzip, math, torch, matplotlib as mpl\n",
        "import matplotlib.pyplot as plt\n",
        "from torch import tensor\n",
        "from keras.datasets import mnist\n",
        "import tensorflow as tf"
      ],
      "execution_count": 1,
      "outputs": []
    },
    {
      "cell_type": "code",
      "metadata": {
        "colab": {
          "base_uri": "https://localhost:8080/"
        },
        "id": "i8-nUKY_8RV-",
        "outputId": "db306dfc-d64d-42f5-dedd-c2d00c7df57b"
      },
      "source": [
        "(x_train, y_train), (x_test, y_test) = mnist.load_data()"
      ],
      "execution_count": 2,
      "outputs": [
        {
          "output_type": "stream",
          "text": [
            "Downloading data from https://storage.googleapis.com/tensorflow/tf-keras-datasets/mnist.npz\n",
            "11493376/11490434 [==============================] - 0s 0us/step\n"
          ],
          "name": "stdout"
        }
      ]
    },
    {
      "cell_type": "code",
      "metadata": {
        "id": "NOApKeku9uBT"
      },
      "source": [
        "x_train,y_train,x_test,y_test = map(tensor, (x_train,y_train,x_test,y_test))\n",
        "x_train = torch.reshape(x_train, shape=[x_train.shape[0],x_train.shape[1]*x_train.shape[2]])\n",
        "x_test = torch.reshape(x_test, shape=[x_test.shape[0],x_test.shape[1]*x_test.shape[2]])"
      ],
      "execution_count": 3,
      "outputs": []
    },
    {
      "cell_type": "code",
      "metadata": {
        "colab": {
          "base_uri": "https://localhost:8080/"
        },
        "id": "_OpWnUcL_QxE",
        "outputId": "af8d4db7-b46a-488f-d95a-dd6d5e689710"
      },
      "source": [
        "#n,c = x_train.shape\n",
        "x_train, x_train.shape, y_train, y_train.shape, y_train.min(), y_train.max()"
      ],
      "execution_count": 4,
      "outputs": [
        {
          "output_type": "execute_result",
          "data": {
            "text/plain": [
              "(tensor([[0, 0, 0,  ..., 0, 0, 0],\n",
              "         [0, 0, 0,  ..., 0, 0, 0],\n",
              "         [0, 0, 0,  ..., 0, 0, 0],\n",
              "         ...,\n",
              "         [0, 0, 0,  ..., 0, 0, 0],\n",
              "         [0, 0, 0,  ..., 0, 0, 0],\n",
              "         [0, 0, 0,  ..., 0, 0, 0]], dtype=torch.uint8),\n",
              " torch.Size([60000, 784]),\n",
              " tensor([5, 0, 4,  ..., 5, 6, 8], dtype=torch.uint8),\n",
              " torch.Size([60000]),\n",
              " tensor(0, dtype=torch.uint8),\n",
              " tensor(9, dtype=torch.uint8))"
            ]
          },
          "metadata": {
            "tags": []
          },
          "execution_count": 4
        }
      ]
    },
    {
      "cell_type": "code",
      "metadata": {
        "id": "QY3NgPXnDyeI"
      },
      "source": [
        "mpl.rcParams['image.cmap'] = 'gray'"
      ],
      "execution_count": 5,
      "outputs": []
    },
    {
      "cell_type": "code",
      "metadata": {
        "colab": {
          "base_uri": "https://localhost:8080/",
          "height": 35
        },
        "id": "VGgeddWrD_JI",
        "outputId": "d7784187-5c00-44ee-dbc5-be93ec9e3bdd"
      },
      "source": [
        "img = x_train[0]\n",
        "img.view(28,28).type()"
      ],
      "execution_count": 6,
      "outputs": [
        {
          "output_type": "execute_result",
          "data": {
            "application/vnd.google.colaboratory.intrinsic+json": {
              "type": "string"
            },
            "text/plain": [
              "'torch.ByteTensor'"
            ]
          },
          "metadata": {
            "tags": []
          },
          "execution_count": 6
        }
      ]
    },
    {
      "cell_type": "code",
      "metadata": {
        "colab": {
          "base_uri": "https://localhost:8080/",
          "height": 265
        },
        "id": "l50x7c3vIKD3",
        "outputId": "f68fb42d-4e3f-47e9-c16f-94c3c2d39d0e"
      },
      "source": [
        "plt.imshow(img.view((28,28)));"
      ],
      "execution_count": 7,
      "outputs": [
        {
          "output_type": "display_data",
          "data": {
            "image/png": "[encoded data removed]",
            "text/plain": [
              "<Figure size 432x288 with 1 Axes>"
            ]
          },
          "metadata": {
            "tags": [],
            "needs_background": "light"
          }
        }
      ]
    },
    {
      "cell_type": "code",
      "metadata": {
        "id": "vCx5H2s2Incw"
      },
      "source": [
        "weights = torch.randn(784,10)\n",
        "bias = torch.zeros(10)"
      ],
      "execution_count": 8,
      "outputs": []
    },
    {
      "cell_type": "code",
      "metadata": {
        "id": "L3noDgwoIqje"
      },
      "source": [
        "def matmul(a,b):\n",
        "    ar,ac = a.shape # n_rows * n_cols\n",
        "    br,bc = b.shape\n",
        "    assert ac==br\n",
        "    c = torch.zeros(ar, bc)\n",
        "    for i in range(ar):\n",
        "        for j in range(bc):\n",
        "            for k in range(ac): # or br\n",
        "                c[i,j] += a[i,k] * b[k,j]\n",
        "    return c"
      ],
      "execution_count": 9,
      "outputs": []
    },
    {
      "cell_type": "code",
      "metadata": {
        "colab": {
          "base_uri": "https://localhost:8080/"
        },
        "id": "q9AX5riEIyAE",
        "outputId": "d5c3a2fd-d7d4-4ce4-89b4-7d2f4a6d68a2"
      },
      "source": [
        "m1 = x_test[:5]\n",
        "m2 = weights\n",
        "m1.shape,m2.shape"
      ],
      "execution_count": 10,
      "outputs": [
        {
          "output_type": "execute_result",
          "data": {
            "text/plain": [
              "(torch.Size([5, 784]), torch.Size([784, 10]))"
            ]
          },
          "metadata": {
            "tags": []
          },
          "execution_count": 10
        }
      ]
    },
    {
      "cell_type": "code",
      "metadata": {
        "colab": {
          "base_uri": "https://localhost:8080/"
        },
        "id": "iFZyyiAsI4Pg",
        "outputId": "d232e110-eb8f-4afc-ccad-e40de15d0b16"
      },
      "source": [
        "%time t1=matmul(m1, m2)"
      ],
      "execution_count": 11,
      "outputs": [
        {
          "output_type": "stream",
          "text": [
            "CPU times: user 969 ms, sys: 0 ns, total: 969 ms\n",
            "Wall time: 987 ms\n"
          ],
          "name": "stdout"
        }
      ]
    },
    {
      "cell_type": "code",
      "metadata": {
        "colab": {
          "base_uri": "https://localhost:8080/"
        },
        "id": "TMehAcBWLE3q",
        "outputId": "124b36a4-43ef-4a62-e4e4-295dec128d2f"
      },
      "source": [
        "t1.shape"
      ],
      "execution_count": 12,
      "outputs": [
        {
          "output_type": "execute_result",
          "data": {
            "text/plain": [
              "torch.Size([5, 10])"
            ]
          },
          "metadata": {
            "tags": []
          },
          "execution_count": 12
        }
      ]
    },
    {
      "cell_type": "code",
      "metadata": {
        "colab": {
          "base_uri": "https://localhost:8080/"
        },
        "id": "twWkDoKNLMuh",
        "outputId": "988232b4-8c9b-457c-a514-1169bb8f7091"
      },
      "source": [
        "len(x_train)"
      ],
      "execution_count": 13,
      "outputs": [
        {
          "output_type": "execute_result",
          "data": {
            "text/plain": [
              "60000"
            ]
          },
          "metadata": {
            "tags": []
          },
          "execution_count": 13
        }
      ]
    },
    {
      "cell_type": "code",
      "metadata": {
        "id": "RakNFQgZLfQ9"
      },
      "source": [
        "def matmul(a,b):\n",
        "    ar,ac = a.shape\n",
        "    br,bc = b.shape\n",
        "    assert ac==br\n",
        "    c = torch.zeros(ar, bc)\n",
        "    for i in range(ar):\n",
        "        for j in range(bc):\n",
        "            # Any trailing \",:\" can be removed\n",
        "            c[i,j] = (a[i,:] * b[:,j]).sum()\n",
        "    return c"
      ],
      "execution_count": 14,
      "outputs": []
    },
    {
      "cell_type": "code",
      "metadata": {
        "colab": {
          "base_uri": "https://localhost:8080/"
        },
        "id": "P4yvjC5rLhVE",
        "outputId": "96cd6763-d4b3-4815-e714-4fd1e55a789e"
      },
      "source": [
        "%timeit -n 10 _=matmul(m1, m2)"
      ],
      "execution_count": 15,
      "outputs": [
        {
          "output_type": "stream",
          "text": [
            "10 loops, best of 3: 1.6 ms per loop\n"
          ],
          "name": "stdout"
        }
      ]
    },
    {
      "cell_type": "markdown",
      "metadata": {
        "id": "UMB3YTFdNsY4"
      },
      "source": [
        "Fully connected"
      ]
    },
    {
      "cell_type": "code",
      "metadata": {
        "id": "pyKN6lZNNvQa"
      },
      "source": [
        "def normalize(x, m, s): return (x-m)/s"
      ],
      "execution_count": 16,
      "outputs": []
    },
    {
      "cell_type": "code",
      "metadata": {
        "colab": {
          "base_uri": "https://localhost:8080/"
        },
        "id": "20Ne-N4EOZVr",
        "outputId": "c888c34d-1014-4249-c4dc-a427460e6c76"
      },
      "source": [
        "train_mean,train_std = x_train.float().mean(),x_train.float().std()\n",
        "train_mean,train_std"
      ],
      "execution_count": 17,
      "outputs": [
        {
          "output_type": "execute_result",
          "data": {
            "text/plain": [
              "(tensor(33.3184), tensor(78.5675))"
            ]
          },
          "metadata": {
            "tags": []
          },
          "execution_count": 17
        }
      ]
    },
    {
      "cell_type": "code",
      "metadata": {
        "id": "TnUEbBPaSo8b"
      },
      "source": [
        "x_train = normalize(x_train, train_mean, train_std)\n",
        "x_test = normalize(x_test, train_mean, train_std)"
      ],
      "execution_count": 18,
      "outputs": []
    },
    {
      "cell_type": "code",
      "metadata": {
        "colab": {
          "base_uri": "https://localhost:8080/"
        },
        "id": "9XIN1bQeSxAo",
        "outputId": "5fde049e-f9f2-46dd-c344-f2d64a141573"
      },
      "source": [
        "train_mean,train_std = x_train.mean(),x_train.std()\n",
        "train_mean,train_std"
      ],
      "execution_count": 19,
      "outputs": [
        {
          "output_type": "execute_result",
          "data": {
            "text/plain": [
              "(tensor(1.8892e-08), tensor(1.))"
            ]
          },
          "metadata": {
            "tags": []
          },
          "execution_count": 19
        }
      ]
    },
    {
      "cell_type": "code",
      "metadata": {
        "colab": {
          "base_uri": "https://localhost:8080/"
        },
        "id": "9AZ4rqlOS9QI",
        "outputId": "15b2510f-0c87-4042-b113-64407fb2b5c3"
      },
      "source": [
        "n,m = x_train.shape\n",
        "c = y_train.max()+1\n",
        "n,m,c"
      ],
      "execution_count": 20,
      "outputs": [
        {
          "output_type": "execute_result",
          "data": {
            "text/plain": [
              "(60000, 784, tensor(10, dtype=torch.uint8))"
            ]
          },
          "metadata": {
            "tags": []
          },
          "execution_count": 20
        }
      ]
    },
    {
      "cell_type": "code",
      "metadata": {
        "id": "nYjTXGfyTF2v"
      },
      "source": [
        "# num hidden\n",
        "nh = 50"
      ],
      "execution_count": 21,
      "outputs": []
    },
    {
      "cell_type": "code",
      "metadata": {
        "id": "r_hWInz3THxp"
      },
      "source": [
        "# standard xavier init\n",
        "w1 = torch.randn(m,nh)/math.sqrt(m)\n",
        "b1 = torch.zeros(nh)\n",
        "w2 = torch.randn(nh,1)/math.sqrt(nh)\n",
        "b2 = torch.zeros(1)"
      ],
      "execution_count": 22,
      "outputs": []
    },
    {
      "cell_type": "code",
      "metadata": {
        "id": "bCNpuTUrTQAx"
      },
      "source": [
        "def test_near_zero(a,tol=1e-3): assert a.abs()<tol, f\"Near zero: {a}\""
      ],
      "execution_count": 23,
      "outputs": []
    },
    {
      "cell_type": "code",
      "metadata": {
        "id": "JeREfm_JTSok"
      },
      "source": [
        "test_near_zero(w1.mean())\n",
        "test_near_zero(w1.std()-1/math.sqrt(m))"
      ],
      "execution_count": 24,
      "outputs": []
    },
    {
      "cell_type": "code",
      "metadata": {
        "colab": {
          "base_uri": "https://localhost:8080/"
        },
        "id": "9KJNgxUaTzXp",
        "outputId": "b8296efd-552e-4b84-e52f-bdeb154b761c"
      },
      "source": [
        "x_test.mean(),x_test.std()"
      ],
      "execution_count": 25,
      "outputs": [
        {
          "output_type": "execute_result",
          "data": {
            "text/plain": [
              "(tensor(0.0060), tensor(1.0077))"
            ]
          },
          "metadata": {
            "tags": []
          },
          "execution_count": 25
        }
      ]
    },
    {
      "cell_type": "code",
      "metadata": {
        "id": "0Nj3dyoQT4sQ"
      },
      "source": [
        "def lin(x, w, b): return x@w + b"
      ],
      "execution_count": 26,
      "outputs": []
    },
    {
      "cell_type": "code",
      "metadata": {
        "id": "SvekJmMgT6qH"
      },
      "source": [
        "t = lin(x_test, w1, b1)"
      ],
      "execution_count": 27,
      "outputs": []
    },
    {
      "cell_type": "code",
      "metadata": {
        "colab": {
          "base_uri": "https://localhost:8080/"
        },
        "id": "mkhgzTJQT_Uo",
        "outputId": "68acf549-63fa-4ba4-f8f2-10e1d887aa96"
      },
      "source": [
        "t.mean(),t.std()"
      ],
      "execution_count": 28,
      "outputs": [
        {
          "output_type": "execute_result",
          "data": {
            "text/plain": [
              "(tensor(-0.1172), tensor(1.0347))"
            ]
          },
          "metadata": {
            "tags": []
          },
          "execution_count": 28
        }
      ]
    },
    {
      "cell_type": "code",
      "metadata": {
        "id": "gReYM3ufUK_G"
      },
      "source": [
        "def relu(x): return x.clamp_min(0.)"
      ],
      "execution_count": 29,
      "outputs": []
    },
    {
      "cell_type": "code",
      "metadata": {
        "id": "1nVlVMjkUMiA"
      },
      "source": [
        "t = relu(lin(x_test, w1, b1))"
      ],
      "execution_count": 30,
      "outputs": []
    },
    {
      "cell_type": "code",
      "metadata": {
        "colab": {
          "base_uri": "https://localhost:8080/"
        },
        "id": "x8ChMNMvURZv",
        "outputId": "6bfdc091-abb2-40fb-9e94-f770f56cb431"
      },
      "source": [
        "t.mean(),t.std()"
      ],
      "execution_count": 31,
      "outputs": [
        {
          "output_type": "execute_result",
          "data": {
            "text/plain": [
              "(tensor(0.3512), tensor(0.5640))"
            ]
          },
          "metadata": {
            "tags": []
          },
          "execution_count": 31
        }
      ]
    },
    {
      "cell_type": "code",
      "metadata": {
        "id": "04xUUtriUX_E"
      },
      "source": [
        "w1 = torch.randn(m,nh)*math.sqrt(2/m)"
      ],
      "execution_count": 32,
      "outputs": []
    },
    {
      "cell_type": "code",
      "metadata": {
        "colab": {
          "base_uri": "https://localhost:8080/"
        },
        "id": "tT-9TmOEUbM_",
        "outputId": "75d48d59-1bdb-40e4-9ffa-ddc6ddcd4589"
      },
      "source": [
        "w1.mean(),w1.std()"
      ],
      "execution_count": 33,
      "outputs": [
        {
          "output_type": "execute_result",
          "data": {
            "text/plain": [
              "(tensor(7.8470e-05), tensor(0.0507))"
            ]
          },
          "metadata": {
            "tags": []
          },
          "execution_count": 33
        }
      ]
    },
    {
      "cell_type": "code",
      "metadata": {
        "colab": {
          "base_uri": "https://localhost:8080/"
        },
        "id": "vmTevAxLUezF",
        "outputId": "37d26f7a-0358-4a6d-883a-aad807349a97"
      },
      "source": [
        "t = relu(lin(x_test, w1, b1))\n",
        "t.mean(),t.std()"
      ],
      "execution_count": 34,
      "outputs": [
        {
          "output_type": "execute_result",
          "data": {
            "text/plain": [
              "(tensor(0.5140), tensor(0.8091))"
            ]
          },
          "metadata": {
            "tags": []
          },
          "execution_count": 34
        }
      ]
    },
    {
      "cell_type": "code",
      "metadata": {
        "id": "8c6C33IIUkXe"
      },
      "source": [
        "from torch.nn import *"
      ],
      "execution_count": 35,
      "outputs": []
    },
    {
      "cell_type": "code",
      "metadata": {
        "id": "AkwwIjr9Un01"
      },
      "source": [
        "w1 = torch.zeros(m,nh)\n",
        "init.kaiming_normal_(w1, mode='fan_out')\n",
        "t = relu(lin(x_test, w1, b1))"
      ],
      "execution_count": 36,
      "outputs": []
    },
    {
      "cell_type": "code",
      "metadata": {
        "colab": {
          "base_uri": "https://localhost:8080/"
        },
        "id": "loGsoM_BU2G4",
        "outputId": "75abf356-8188-4029-f307-428ef8a44e86"
      },
      "source": [
        "init.kaiming_normal_ # He initialization ??"
      ],
      "execution_count": 37,
      "outputs": [
        {
          "output_type": "execute_result",
          "data": {
            "text/plain": [
              "<function torch.nn.init.kaiming_normal_>"
            ]
          },
          "metadata": {
            "tags": []
          },
          "execution_count": 37
        }
      ]
    },
    {
      "cell_type": "code",
      "metadata": {
        "colab": {
          "base_uri": "https://localhost:8080/"
        },
        "id": "NxA0ZZc2U6GK",
        "outputId": "25330380-534a-463e-fc0c-7465b16c12c3"
      },
      "source": [
        "w1.mean(),w1.std()"
      ],
      "execution_count": 38,
      "outputs": [
        {
          "output_type": "execute_result",
          "data": {
            "text/plain": [
              "(tensor(-9.7063e-05), tensor(0.0508))"
            ]
          },
          "metadata": {
            "tags": []
          },
          "execution_count": 38
        }
      ]
    },
    {
      "cell_type": "code",
      "metadata": {
        "colab": {
          "base_uri": "https://localhost:8080/"
        },
        "id": "qdBeUdSpU7KO",
        "outputId": "4483173e-8f02-455b-bfd6-a134e26c024e"
      },
      "source": [
        "t.mean(),t.std()"
      ],
      "execution_count": 39,
      "outputs": [
        {
          "output_type": "execute_result",
          "data": {
            "text/plain": [
              "(tensor(0.6012), tensor(0.8953))"
            ]
          },
          "metadata": {
            "tags": []
          },
          "execution_count": 39
        }
      ]
    },
    {
      "cell_type": "code",
      "metadata": {
        "colab": {
          "base_uri": "https://localhost:8080/"
        },
        "id": "j7_AS1nFVG8y",
        "outputId": "93d0155d-d624-46d2-e451-8d1fa0930d6c"
      },
      "source": [
        "torch.nn.Linear(m,nh).weight.shape"
      ],
      "execution_count": 40,
      "outputs": [
        {
          "output_type": "execute_result",
          "data": {
            "text/plain": [
              "torch.Size([50, 784])"
            ]
          },
          "metadata": {
            "tags": []
          },
          "execution_count": 40
        }
      ]
    },
    {
      "cell_type": "code",
      "metadata": {
        "colab": {
          "base_uri": "https://localhost:8080/"
        },
        "id": "KO5vq9iBVupB",
        "outputId": "b2198084-9bc8-42de-bb1a-8a951e5ea935"
      },
      "source": [
        "torch.nn.Linear.forward"
      ],
      "execution_count": 41,
      "outputs": [
        {
          "output_type": "execute_result",
          "data": {
            "text/plain": [
              "<function torch.nn.modules.linear.Linear.forward>"
            ]
          },
          "metadata": {
            "tags": []
          },
          "execution_count": 41
        }
      ]
    },
    {
      "cell_type": "code",
      "metadata": {
        "colab": {
          "base_uri": "https://localhost:8080/"
        },
        "id": "APRnkE28VwYo",
        "outputId": "d5c3e837-329b-4698-920d-07f430bfff37"
      },
      "source": [
        "torch.nn.functional.linear"
      ],
      "execution_count": 42,
      "outputs": [
        {
          "output_type": "execute_result",
          "data": {
            "text/plain": [
              "<function torch.nn.functional.linear>"
            ]
          },
          "metadata": {
            "tags": []
          },
          "execution_count": 42
        }
      ]
    },
    {
      "cell_type": "code",
      "metadata": {
        "colab": {
          "base_uri": "https://localhost:8080/"
        },
        "id": "dDEAwfmqVzCG",
        "outputId": "e1ec9eb4-961a-459b-df3d-6d3da5ffdfb6"
      },
      "source": [
        "torch.nn.Conv2d"
      ],
      "execution_count": 43,
      "outputs": [
        {
          "output_type": "execute_result",
          "data": {
            "text/plain": [
              "torch.nn.modules.conv.Conv2d"
            ]
          },
          "metadata": {
            "tags": []
          },
          "execution_count": 43
        }
      ]
    },
    {
      "cell_type": "code",
      "metadata": {
        "colab": {
          "base_uri": "https://localhost:8080/"
        },
        "id": "p-ySMuZbV34r",
        "outputId": "cc1a5e35-0af9-48bb-9a36-89d59e4fd596"
      },
      "source": [
        "torch.nn.modules.conv._ConvNd.reset_parameters"
      ],
      "execution_count": 44,
      "outputs": [
        {
          "output_type": "execute_result",
          "data": {
            "text/plain": [
              "<function torch.nn.modules.conv._ConvNd.reset_parameters>"
            ]
          },
          "metadata": {
            "tags": []
          },
          "execution_count": 44
        }
      ]
    },
    {
      "cell_type": "code",
      "metadata": {
        "id": "U59PQg_9Zxyt"
      },
      "source": [
        "def model(xb):\n",
        "    l1 = lin(xb, w1, b1)\n",
        "    l2 = relu(l1)\n",
        "    l3 = lin(l2, w2, b2)\n",
        "    return l3"
      ],
      "execution_count": 45,
      "outputs": []
    },
    {
      "cell_type": "code",
      "metadata": {
        "colab": {
          "base_uri": "https://localhost:8080/"
        },
        "id": "Zllk-6g3aOnS",
        "outputId": "34aabc69-352f-4daa-bbac-eccfb18868b2"
      },
      "source": [
        "%timeit -n 10 _=model(x_test)"
      ],
      "execution_count": 46,
      "outputs": [
        {
          "output_type": "stream",
          "text": [
            "10 loops, best of 3: 18.9 ms per loop\n"
          ],
          "name": "stdout"
        }
      ]
    },
    {
      "cell_type": "code",
      "metadata": {
        "id": "-2EVoZbhaTUZ"
      },
      "source": [
        "assert model(x_test).shape==torch.Size([x_test.shape[0],1])"
      ],
      "execution_count": 47,
      "outputs": []
    },
    {
      "cell_type": "code",
      "metadata": {
        "colab": {
          "base_uri": "https://localhost:8080/"
        },
        "id": "fkF7ZWTSaa2V",
        "outputId": "a65ce489-5e16-4a4e-d0d8-d22894218afd"
      },
      "source": [
        "model(x_test).shape"
      ],
      "execution_count": 48,
      "outputs": [
        {
          "output_type": "execute_result",
          "data": {
            "text/plain": [
              "torch.Size([10000, 1])"
            ]
          },
          "metadata": {
            "tags": []
          },
          "execution_count": 48
        }
      ]
    },
    {
      "cell_type": "code",
      "metadata": {
        "id": "kKx3AmeFaeLR"
      },
      "source": [
        "def mse(output, targ):\n",
        "  return (output.squeeze(-1) - targ).pow(2).mean()"
      ],
      "execution_count": 49,
      "outputs": []
    },
    {
      "cell_type": "code",
      "metadata": {
        "id": "heUNH85kahqJ"
      },
      "source": [
        "y_train,y_test = y_train.float(),y_test.float()"
      ],
      "execution_count": 50,
      "outputs": []
    },
    {
      "cell_type": "code",
      "metadata": {
        "id": "U-PntmvHambR"
      },
      "source": [
        "preds = model(x_train)"
      ],
      "execution_count": 51,
      "outputs": []
    },
    {
      "cell_type": "code",
      "metadata": {
        "colab": {
          "base_uri": "https://localhost:8080/"
        },
        "id": "xdGexyHUaoL5",
        "outputId": "4d395591-212d-4a1f-e3a9-8ffda3eb783f"
      },
      "source": [
        "preds.shape"
      ],
      "execution_count": 52,
      "outputs": [
        {
          "output_type": "execute_result",
          "data": {
            "text/plain": [
              "torch.Size([60000, 1])"
            ]
          },
          "metadata": {
            "tags": []
          },
          "execution_count": 52
        }
      ]
    },
    {
      "cell_type": "code",
      "metadata": {
        "colab": {
          "base_uri": "https://localhost:8080/"
        },
        "id": "sEZbsqeIaqQJ",
        "outputId": "b005bf68-880a-45ff-d2f5-4b3e9135c413"
      },
      "source": [
        "mse(preds, y_train)"
      ],
      "execution_count": 53,
      "outputs": [
        {
          "output_type": "execute_result",
          "data": {
            "text/plain": [
              "tensor(16.3617)"
            ]
          },
          "metadata": {
            "tags": []
          },
          "execution_count": 53
        }
      ]
    },
    {
      "cell_type": "code",
      "metadata": {
        "id": "FfSGyrRSavq-"
      },
      "source": [
        "def mse_grad(inp, targ): \n",
        "  # grad of loss with respect to output of previous layer\n",
        "  inp.g = 2. * (inp.squeeze() - targ).unsqueeze(-1) / inp.shape[0]"
      ],
      "execution_count": 54,
      "outputs": []
    },
    {
      "cell_type": "code",
      "metadata": {
        "id": "AV-j0YRka7cw"
      },
      "source": [
        "def relu_grad(inp, out):\n",
        "  # grad of relu with respect to input activations\n",
        "  inp.g = (inp>0).float() * out.g"
      ],
      "execution_count": 55,
      "outputs": []
    },
    {
      "cell_type": "code",
      "metadata": {
        "id": "T6FbNmbTbDaZ"
      },
      "source": [
        "def lin_grad(inp, out, w, b):\n",
        "  # grad of matmul with respect to input\n",
        "  inp.g = out.g @ w.t()\n",
        "  w.g = (inp.unsqueeze(-1) * out.g.unsqueeze(1)).sum(0)\n",
        "  b.g = out.g.sum(0)"
      ],
      "execution_count": 56,
      "outputs": []
    },
    {
      "cell_type": "code",
      "metadata": {
        "id": "LZ6GpA68bQCd"
      },
      "source": [
        "def forward_and_backward(inp, targ):\n",
        "  # forward pass:\n",
        "  l1 = inp @ w1 + b1\n",
        "  l2 = relu(l1)\n",
        "  out = l2 @ w2 + b2\n",
        "  # we don't actually need the loss in backward!\n",
        "  loss = mse(out, targ)\n",
        "    \n",
        "  # backward pass:\n",
        "  mse_grad(out, targ)\n",
        "  lin_grad(l2, out, w2, b2)\n",
        "  relu_grad(l1, l2)\n",
        "  lin_grad(inp, l1, w1, b1)"
      ],
      "execution_count": 57,
      "outputs": []
    },
    {
      "cell_type": "code",
      "metadata": {
        "id": "MFd-oP_9blY5"
      },
      "source": [
        "forward_and_backward(x_train, y_train)"
      ],
      "execution_count": 58,
      "outputs": []
    },
    {
      "cell_type": "code",
      "metadata": {
        "id": "oA_uhmUJbrK6"
      },
      "source": [
        "# Save for testing against later\n",
        "w1g = w1.g.clone()\n",
        "w2g = w2.g.clone()\n",
        "b1g = b1.g.clone()\n",
        "b2g = b2.g.clone()\n",
        "ig  = x_train.g.clone()"
      ],
      "execution_count": 59,
      "outputs": []
    },
    {
      "cell_type": "code",
      "metadata": {
        "id": "9q5satAkb_oB"
      },
      "source": [
        "xt2 = x_train.clone().requires_grad_(True)\n",
        "w12 = w1.clone().requires_grad_(True)\n",
        "w22 = w2.clone().requires_grad_(True)\n",
        "b12 = b1.clone().requires_grad_(True)\n",
        "b22 = b2.clone().requires_grad_(True)"
      ],
      "execution_count": 60,
      "outputs": []
    },
    {
      "cell_type": "code",
      "metadata": {
        "id": "ryeQu7XqdjQH"
      },
      "source": [
        "def forward(inp, targ):\n",
        "    # forward pass:\n",
        "    l1 = inp @ w12 + b12\n",
        "    l2 = relu(l1)\n",
        "    out = l2 @ w22 + b22\n",
        "    # we don't actually need the loss in backward!\n",
        "    return mse(out, targ)"
      ],
      "execution_count": 61,
      "outputs": []
    },
    {
      "cell_type": "code",
      "metadata": {
        "id": "-72MCEosdlGM"
      },
      "source": [
        "loss = forward(xt2, y_train)\n",
        "loss.backward()"
      ],
      "execution_count": 62,
      "outputs": []
    },
    {
      "cell_type": "code",
      "metadata": {
        "colab": {
          "base_uri": "https://localhost:8080/"
        },
        "id": "WoKygzeud4pd",
        "outputId": "0a13aa8d-f90f-43e3-8de1-4d13b6dbccce"
      },
      "source": [
        "print(w22.grad, w2g)\n",
        "print(b22.grad, b2g)\n",
        "print(w12.grad, w1g)\n",
        "print(b12.grad, b1g)\n",
        "print(xt2.grad, ig )"
      ],
      "execution_count": 63,
      "outputs": [
        {
          "output_type": "stream",
          "text": [
            "tensor([[ -3.6159],\n",
            "        [ -0.5339],\n",
            "        [ -4.2038],\n",
            "        [ -8.4267],\n",
            "        [ -1.7251],\n",
            "        [ -2.5064],\n",
            "        [ -1.2738],\n",
            "        [ -2.9570],\n",
            "        [ -1.4156],\n",
            "        [ -2.8057],\n",
            "        [ -0.5528],\n",
            "        [ -2.1481],\n",
            "        [ -2.5105],\n",
            "        [ -1.9027],\n",
            "        [ -4.6381],\n",
            "        [ -2.8501],\n",
            "        [ -5.4304],\n",
            "        [ -0.0942],\n",
            "        [ -2.9986],\n",
            "        [ -0.8442],\n",
            "        [ -0.3282],\n",
            "        [ -7.9725],\n",
            "        [ -1.1831],\n",
            "        [ -0.3357],\n",
            "        [ -2.8715],\n",
            "        [ -4.3155],\n",
            "        [ -2.8688],\n",
            "        [ -4.8606],\n",
            "        [ -1.8857],\n",
            "        [ -0.7160],\n",
            "        [ -1.2835],\n",
            "        [ -4.4274],\n",
            "        [ -1.2857],\n",
            "        [ -1.4495],\n",
            "        [ -8.5174],\n",
            "        [ -9.1765],\n",
            "        [ -5.4702],\n",
            "        [ -9.5191],\n",
            "        [ -0.0514],\n",
            "        [ -0.7931],\n",
            "        [ -1.9404],\n",
            "        [ -3.0292],\n",
            "        [ -1.9916],\n",
            "        [-11.2115],\n",
            "        [ -3.6262],\n",
            "        [-10.2311],\n",
            "        [ -3.7070],\n",
            "        [ -0.7798],\n",
            "        [ -2.1952],\n",
            "        [ -4.3356]]) tensor([[ -3.6159],\n",
            "        [ -0.5339],\n",
            "        [ -4.2038],\n",
            "        [ -8.4267],\n",
            "        [ -1.7251],\n",
            "        [ -2.5064],\n",
            "        [ -1.2738],\n",
            "        [ -2.9570],\n",
            "        [ -1.4156],\n",
            "        [ -2.8057],\n",
            "        [ -0.5528],\n",
            "        [ -2.1481],\n",
            "        [ -2.5105],\n",
            "        [ -1.9027],\n",
            "        [ -4.6381],\n",
            "        [ -2.8501],\n",
            "        [ -5.4304],\n",
            "        [ -0.0942],\n",
            "        [ -2.9986],\n",
            "        [ -0.8442],\n",
            "        [ -0.3282],\n",
            "        [ -7.9725],\n",
            "        [ -1.1831],\n",
            "        [ -0.3357],\n",
            "        [ -2.8715],\n",
            "        [ -4.3155],\n",
            "        [ -2.8688],\n",
            "        [ -4.8606],\n",
            "        [ -1.8857],\n",
            "        [ -0.7160],\n",
            "        [ -1.2835],\n",
            "        [ -4.4274],\n",
            "        [ -1.2857],\n",
            "        [ -1.4495],\n",
            "        [ -8.5174],\n",
            "        [ -9.1765],\n",
            "        [ -5.4702],\n",
            "        [ -9.5191],\n",
            "        [ -0.0514],\n",
            "        [ -0.7931],\n",
            "        [ -1.9404],\n",
            "        [ -3.0292],\n",
            "        [ -1.9916],\n",
            "        [-11.2115],\n",
            "        [ -3.6262],\n",
            "        [-10.2311],\n",
            "        [ -3.7070],\n",
            "        [ -0.7798],\n",
            "        [ -2.1952],\n",
            "        [ -4.3356]])\n",
            "tensor([-5.7617]) tensor([-5.7617])\n",
            "tensor([[-0.0769, -0.0812, -0.0124,  ...,  0.0266,  0.0715, -0.0153],\n",
            "        [-0.0769, -0.0812, -0.0124,  ...,  0.0266,  0.0715, -0.0153],\n",
            "        [-0.0769, -0.0812, -0.0124,  ...,  0.0266,  0.0715, -0.0153],\n",
            "        ...,\n",
            "        [-0.0769, -0.0812, -0.0124,  ...,  0.0266,  0.0715, -0.0153],\n",
            "        [-0.0769, -0.0812, -0.0124,  ...,  0.0266,  0.0715, -0.0153],\n",
            "        [-0.0769, -0.0812, -0.0124,  ...,  0.0266,  0.0715, -0.0153]]) tensor([[-0.0769, -0.0812, -0.0124,  ...,  0.0266,  0.0715, -0.0153],\n",
            "        [-0.0769, -0.0812, -0.0124,  ...,  0.0266,  0.0715, -0.0153],\n",
            "        [-0.0769, -0.0812, -0.0124,  ...,  0.0266,  0.0715, -0.0153],\n",
            "        ...,\n",
            "        [-0.0769, -0.0812, -0.0124,  ...,  0.0266,  0.0715, -0.0153],\n",
            "        [-0.0769, -0.0812, -0.0124,  ...,  0.0266,  0.0715, -0.0153],\n",
            "        [-0.0769, -0.0812, -0.0124,  ...,  0.0266,  0.0715, -0.0153]])\n",
            "tensor([ 1.8126e-01,  1.9159e-01,  2.9166e-02, -7.8186e-01, -3.3074e-01,\n",
            "         2.2184e-01,  1.0762e-01, -6.2402e-01, -1.0123e-02, -9.2363e-01,\n",
            "        -1.4697e-01,  4.4483e-02,  3.5892e-01,  6.6186e-01,  5.6619e-01,\n",
            "         4.8098e-01, -9.3138e-01, -3.8406e-02,  2.5051e-01, -7.3431e-02,\n",
            "         3.4908e-02, -9.1364e-02,  2.7640e-01,  7.1252e-02, -1.3752e+00,\n",
            "         1.2823e+00, -1.8671e-01,  4.2284e-01,  2.7588e-01,  7.0033e-02,\n",
            "        -8.0485e-02,  4.1344e-01, -1.3655e-01, -3.1933e-01, -3.3309e-01,\n",
            "        -3.6474e-01, -1.3472e+00, -3.8778e-01,  7.6599e-04,  1.1262e-01,\n",
            "        -3.5946e-01, -6.4531e-01, -6.2803e-01, -9.1132e-02,  5.7529e-01,\n",
            "        -2.0262e+00,  2.5912e-01, -6.2742e-02, -1.6864e-01,  3.6095e-02]) tensor([ 1.8126e-01,  1.9159e-01,  2.9166e-02, -7.8186e-01, -3.3074e-01,\n",
            "         2.2184e-01,  1.0762e-01, -6.2402e-01, -1.0123e-02, -9.2363e-01,\n",
            "        -1.4697e-01,  4.4483e-02,  3.5892e-01,  6.6186e-01,  5.6619e-01,\n",
            "         4.8098e-01, -9.3138e-01, -3.8406e-02,  2.5051e-01, -7.3431e-02,\n",
            "         3.4908e-02, -9.1364e-02,  2.7640e-01,  7.1252e-02, -1.3752e+00,\n",
            "         1.2823e+00, -1.8671e-01,  4.2284e-01,  2.7588e-01,  7.0033e-02,\n",
            "        -8.0485e-02,  4.1344e-01, -1.3655e-01, -3.1933e-01, -3.3309e-01,\n",
            "        -3.6474e-01, -1.3472e+00, -3.8778e-01,  7.6599e-04,  1.1262e-01,\n",
            "        -3.5946e-01, -6.4531e-01, -6.2803e-01, -9.1132e-02,  5.7529e-01,\n",
            "        -2.0262e+00,  2.5912e-01, -6.2742e-02, -1.6864e-01,  3.6095e-02])\n",
            "tensor([[-5.2435e-06, -1.5090e-05, -8.4738e-06,  ...,  1.1411e-05,\n",
            "          8.8968e-06,  8.9394e-06],\n",
            "        [-1.9875e-06,  3.4609e-06,  9.7681e-07,  ..., -4.9493e-06,\n",
            "         -2.0580e-07, -1.9878e-06],\n",
            "        [-4.1454e-07, -3.9570e-06, -7.7083e-06,  ...,  4.0982e-06,\n",
            "          2.2293e-06, -1.5329e-06],\n",
            "        ...,\n",
            "        [-2.3622e-06, -1.1125e-05, -9.7856e-06,  ...,  7.9185e-06,\n",
            "          6.2266e-06,  6.0626e-06],\n",
            "        [ 6.8893e-06, -1.5190e-05, -7.9189e-06,  ...,  2.3877e-05,\n",
            "         -2.9982e-07,  2.3860e-06],\n",
            "        [ 3.0583e-06, -1.3221e-05, -1.0973e-05,  ...,  5.9025e-06,\n",
            "          1.1433e-05,  5.7885e-06]]) tensor([[-5.2435e-06, -1.5090e-05, -8.4738e-06,  ...,  1.1411e-05,\n",
            "          8.8968e-06,  8.9394e-06],\n",
            "        [-1.9875e-06,  3.4609e-06,  9.7681e-07,  ..., -4.9493e-06,\n",
            "         -2.0580e-07, -1.9878e-06],\n",
            "        [-4.1454e-07, -3.9570e-06, -7.7083e-06,  ...,  4.0982e-06,\n",
            "          2.2293e-06, -1.5329e-06],\n",
            "        ...,\n",
            "        [-2.3622e-06, -1.1125e-05, -9.7856e-06,  ...,  7.9185e-06,\n",
            "          6.2266e-06,  6.0626e-06],\n",
            "        [ 6.8893e-06, -1.5190e-05, -7.9189e-06,  ...,  2.3877e-05,\n",
            "         -2.9982e-07,  2.3860e-06],\n",
            "        [ 3.0583e-06, -1.3221e-05, -1.0973e-05,  ...,  5.9025e-06,\n",
            "          1.1433e-05,  5.7885e-06]])\n"
          ],
          "name": "stdout"
        }
      ]
    },
    {
      "cell_type": "markdown",
      "metadata": {
        "id": "9CiPebK2eGob"
      },
      "source": [
        "Layer as class"
      ]
    },
    {
      "cell_type": "code",
      "metadata": {
        "id": "vQ1o8JByeIby"
      },
      "source": [
        "class Relu():\n",
        "    def __call__(self, inp):\n",
        "        self.inp = inp\n",
        "        self.out = inp.clamp_min(0.)-0.5\n",
        "        return self.out\n",
        "    \n",
        "    def backward(self):\n",
        "        self.inp.g = (self.inp>0).float() * self.out.g"
      ],
      "execution_count": 64,
      "outputs": []
    },
    {
      "cell_type": "code",
      "metadata": {
        "id": "bjqbRFq-fxrW"
      },
      "source": [
        "class Lin():\n",
        "    def __init__(self, w, b):\n",
        "        self.w,self.b = w,b\n",
        "        \n",
        "    def __call__(self, inp):\n",
        "        self.inp = inp\n",
        "        self.out = inp@self.w + self.b\n",
        "        return self.out\n",
        "    \n",
        "    def backward(self):\n",
        "        self.inp.g = self.out.g @ self.w.t()\n",
        "        # Creating a giant outer product, just to sum it, is inefficient!\n",
        "        self.w.g = (self.inp.unsqueeze(-1) * self.out.g.unsqueeze(1)).sum(0)\n",
        "        self.b.g = self.out.g.sum(0)"
      ],
      "execution_count": 65,
      "outputs": []
    },
    {
      "cell_type": "code",
      "metadata": {
        "id": "vFgiyDNKgVDk"
      },
      "source": [
        "class Mse():\n",
        "    def __call__(self, inp, targ):\n",
        "        self.inp = inp\n",
        "        self.targ = targ\n",
        "        self.out = (inp.squeeze() - targ).pow(2).mean()\n",
        "        return self.out\n",
        "    \n",
        "    def backward(self):\n",
        "        self.inp.g = 2. * (self.inp.squeeze() - self.targ).unsqueeze(-1) / self.targ.shape[0]"
      ],
      "execution_count": 66,
      "outputs": []
    },
    {
      "cell_type": "code",
      "metadata": {
        "id": "eAVfxxR0gnHP"
      },
      "source": [
        "class Model():\n",
        "    def __init__(self, w1, b1, w2, b2):\n",
        "        self.layers = [Lin(w1,b1), Relu(), Lin(w2,b2)]\n",
        "        self.loss = Mse()\n",
        "        \n",
        "    def __call__(self, x, targ):\n",
        "        for l in self.layers: x = l(x)\n",
        "        return self.loss(x, targ)\n",
        "    \n",
        "    def backward(self):\n",
        "        self.loss.backward()\n",
        "        for l in reversed(self.layers):\n",
        "            l.backward()"
      ],
      "execution_count": 67,
      "outputs": []
    },
    {
      "cell_type": "code",
      "metadata": {
        "id": "i3abK05HhJAi"
      },
      "source": [
        "w1.g,b1.g,w2.g,b2.g = [None]*4\n",
        "model = Model(w1, b1, w2, b2)"
      ],
      "execution_count": 68,
      "outputs": []
    },
    {
      "cell_type": "code",
      "metadata": {
        "colab": {
          "base_uri": "https://localhost:8080/"
        },
        "id": "wroxu5Noh4wU",
        "outputId": "d011e6db-95df-4626-aef6-ceac3bf688ea"
      },
      "source": [
        "%time loss = model(x_train, y_train)"
      ],
      "execution_count": 69,
      "outputs": [
        {
          "output_type": "stream",
          "text": [
            "CPU times: user 133 ms, sys: 0 ns, total: 133 ms\n",
            "Wall time: 135 ms\n"
          ],
          "name": "stdout"
        }
      ]
    },
    {
      "cell_type": "code",
      "metadata": {
        "colab": {
          "base_uri": "https://localhost:8080/"
        },
        "id": "YgwMVRySiASF",
        "outputId": "c8a6f220-1617-42cd-c76a-edd064a8b8a0"
      },
      "source": [
        "%time model.backward()"
      ],
      "execution_count": 70,
      "outputs": [
        {
          "output_type": "stream",
          "text": [
            "CPU times: user 3.78 s, sys: 3.97 s, total: 7.75 s\n",
            "Wall time: 7.78 s\n"
          ],
          "name": "stdout"
        }
      ]
    },
    {
      "cell_type": "code",
      "metadata": {
        "id": "LgiZ_XCZmrxI"
      },
      "source": [
        "class Module():\n",
        "    def __call__(self, *args):\n",
        "        self.args = args\n",
        "        self.out = self.forward(*args)\n",
        "        return self.out\n",
        "    \n",
        "    def forward(self): raise Exception('not implemented')\n",
        "    def backward(self): self.bwd(self.out, *self.args)"
      ],
      "execution_count": 71,
      "outputs": []
    },
    {
      "cell_type": "code",
      "metadata": {
        "id": "Tc0G6Th0m1Ig"
      },
      "source": [
        "class Relu(Module):\n",
        "    def forward(self, inp): return inp.clamp_min(0.)-0.5\n",
        "    def bwd(self, out, inp): inp.g = (inp>0).float() * out.g"
      ],
      "execution_count": 72,
      "outputs": []
    },
    {
      "cell_type": "code",
      "metadata": {
        "id": "Nx5gfRRKm46V"
      },
      "source": [
        "class Lin(Module):\n",
        "    def __init__(self, w, b): self.w,self.b = w,b\n",
        "        \n",
        "    def forward(self, inp): return inp@self.w + self.b\n",
        "    \n",
        "    def bwd(self, out, inp):\n",
        "        inp.g = out.g @ self.w.t()\n",
        "        self.w.g = inp.t() @ out.g\n",
        "        self.b.g = out.g.sum(0)"
      ],
      "execution_count": 73,
      "outputs": []
    },
    {
      "cell_type": "code",
      "metadata": {
        "id": "coPLflX9m7XJ"
      },
      "source": [
        "class Mse(Module):\n",
        "    def forward (self, inp, targ): return (inp.squeeze() - targ).pow(2).mean()\n",
        "    def bwd(self, out, inp, targ): inp.g = 2*(inp.squeeze()-targ).unsqueeze(-1) / targ.shape[0]"
      ],
      "execution_count": 74,
      "outputs": []
    },
    {
      "cell_type": "code",
      "metadata": {
        "id": "vqYyXi1ymm-D"
      },
      "source": [
        "from torch import nn\n",
        "\n",
        "class Model(nn.Module):\n",
        "    def __init__(self, n_in, nh, n_out):\n",
        "        super().__init__()\n",
        "        self.layers = [nn.Linear(n_in,nh), nn.ReLU(), nn.Linear(nh,n_out)]\n",
        "        self.loss = mse\n",
        "        \n",
        "    def __call__(self, x, targ):\n",
        "        for l in self.layers: x = l(x)\n",
        "        return self.loss(x.squeeze(), targ)"
      ],
      "execution_count": 75,
      "outputs": []
    },
    {
      "cell_type": "code",
      "metadata": {
        "id": "BNuYgVgXnD4I"
      },
      "source": [
        "model = Model(m, nh, 1)"
      ],
      "execution_count": 76,
      "outputs": []
    },
    {
      "cell_type": "code",
      "metadata": {
        "colab": {
          "base_uri": "https://localhost:8080/"
        },
        "id": "zwGJxvpEnG_y",
        "outputId": "7247e4c9-f7c5-49a6-92d4-62ce8f218fb0"
      },
      "source": [
        "%time loss = model(x_train, y_train)"
      ],
      "execution_count": 77,
      "outputs": [
        {
          "output_type": "stream",
          "text": [
            "CPU times: user 114 ms, sys: 0 ns, total: 114 ms\n",
            "Wall time: 119 ms\n"
          ],
          "name": "stdout"
        }
      ]
    },
    {
      "cell_type": "code",
      "metadata": {
        "colab": {
          "base_uri": "https://localhost:8080/"
        },
        "id": "w3GD5TRvnI2j",
        "outputId": "0124699e-eedf-468b-f33a-fbc0e7d382f6"
      },
      "source": [
        "%time loss.backward()"
      ],
      "execution_count": 78,
      "outputs": [
        {
          "output_type": "stream",
          "text": [
            "CPU times: user 79.7 ms, sys: 1.71 ms, total: 81.4 ms\n",
            "Wall time: 82.1 ms\n"
          ],
          "name": "stdout"
        }
      ]
    },
    {
      "cell_type": "markdown",
      "metadata": {
        "id": "yOUL0cEkskMz"
      },
      "source": [
        "Mini batch training"
      ]
    },
    {
      "cell_type": "code",
      "metadata": {
        "id": "srOPCN4KsmaH"
      },
      "source": [
        "import torch.nn.functional as F"
      ],
      "execution_count": 79,
      "outputs": []
    },
    {
      "cell_type": "code",
      "metadata": {
        "id": "DZi6jC_6spT8"
      },
      "source": [
        "mpl.rcParams['image.cmap'] = 'gray'"
      ],
      "execution_count": 80,
      "outputs": []
    },
    {
      "cell_type": "code",
      "metadata": {
        "id": "rpVMv4Xls1Vm"
      },
      "source": [
        "n,m = x_train.shape\n",
        "c = y_train.max()+1\n",
        "nh = 50"
      ],
      "execution_count": 81,
      "outputs": []
    },
    {
      "cell_type": "code",
      "metadata": {
        "id": "_Z1KCnWCs4Cr"
      },
      "source": [
        "class Model(nn.Module):\n",
        "    def __init__(self, n_in, nh, n_out):\n",
        "        super().__init__()\n",
        "        self.layers = [nn.Linear(n_in,nh), nn.ReLU(), nn.Linear(nh,n_out)]\n",
        "        \n",
        "    def __call__(self, x):\n",
        "        for l in self.layers: x = l(x)\n",
        "        return x"
      ],
      "execution_count": 82,
      "outputs": []
    },
    {
      "cell_type": "code",
      "metadata": {
        "id": "mJUZpnCRs7YC"
      },
      "source": [
        "model = Model(m, nh, 10)\n",
        "pred = model(x_train)"
      ],
      "execution_count": 83,
      "outputs": []
    },
    {
      "cell_type": "code",
      "metadata": {
        "id": "aMsefya8tufa"
      },
      "source": [
        "def log_softmax(x):\n",
        "  return (x.exp()/(x.exp().sum(-1,keepdim=True))).log()"
      ],
      "execution_count": 84,
      "outputs": []
    },
    {
      "cell_type": "code",
      "metadata": {
        "id": "pWAr4Q74tw_z"
      },
      "source": [
        "sm_pred = log_softmax(pred)"
      ],
      "execution_count": 85,
      "outputs": []
    },
    {
      "cell_type": "code",
      "metadata": {
        "colab": {
          "base_uri": "https://localhost:8080/"
        },
        "id": "xdTGiUEXu1xn",
        "outputId": "03bfebc5-fc70-491c-bf7a-ffa3becd5870"
      },
      "source": [
        "y_train[:3]"
      ],
      "execution_count": 86,
      "outputs": [
        {
          "output_type": "execute_result",
          "data": {
            "text/plain": [
              "tensor([5., 0., 4.])"
            ]
          },
          "metadata": {
            "tags": []
          },
          "execution_count": 86
        }
      ]
    },
    {
      "cell_type": "code",
      "metadata": {
        "colab": {
          "base_uri": "https://localhost:8080/"
        },
        "id": "LBjGcIzpu64g",
        "outputId": "a1c9334a-4200-4e86-ac50-e39219ed51da"
      },
      "source": [
        "sm_pred[[0,1,2], [5,0,4]]\n",
        "#sm_pred[[0,1,2]]"
      ],
      "execution_count": 87,
      "outputs": [
        {
          "output_type": "execute_result",
          "data": {
            "text/plain": [
              "tensor([-2.2089, -2.3216, -2.5725], grad_fn=<IndexBackward>)"
            ]
          },
          "metadata": {
            "tags": []
          },
          "execution_count": 87
        }
      ]
    },
    {
      "cell_type": "code",
      "metadata": {
        "colab": {
          "base_uri": "https://localhost:8080/"
        },
        "id": "Md5rs8gLvPMM",
        "outputId": "ed35d354-901c-48f0-f11c-2a06006c456b"
      },
      "source": [
        "y_train.shape[0]"
      ],
      "execution_count": 88,
      "outputs": [
        {
          "output_type": "execute_result",
          "data": {
            "text/plain": [
              "60000"
            ]
          },
          "metadata": {
            "tags": []
          },
          "execution_count": 88
        }
      ]
    },
    {
      "cell_type": "code",
      "metadata": {
        "id": "JvjA9lLaCyIc"
      },
      "source": [
        "loss_func = F.cross_entropy"
      ],
      "execution_count": 89,
      "outputs": []
    },
    {
      "cell_type": "code",
      "metadata": {
        "id": "Q0n37nMDC0LD"
      },
      "source": [
        "def accuracy(out, yb):\n",
        "  return (torch.argmax(out, dim=1)==yb).float().mean()"
      ],
      "execution_count": 90,
      "outputs": []
    },
    {
      "cell_type": "code",
      "metadata": {
        "colab": {
          "base_uri": "https://localhost:8080/"
        },
        "id": "M_vfVZIvC4VX",
        "outputId": "ec81c7e3-c676-42c4-ddd2-01f5aba2ee27"
      },
      "source": [
        "bs=64                  # batch size\n",
        "xb = x_train[0:bs]     # a mini-batch from x\n",
        "preds = model(xb)      # predictions\n",
        "preds[0], preds.shape"
      ],
      "execution_count": 91,
      "outputs": [
        {
          "output_type": "execute_result",
          "data": {
            "text/plain": [
              "(tensor([-0.1441, -0.4784,  0.4815,  0.2632,  0.1371,  0.1541, -0.2483, -0.1077,\n",
              "          0.1633,  0.0476], grad_fn=<SelectBackward>), torch.Size([64, 10]))"
            ]
          },
          "metadata": {
            "tags": []
          },
          "execution_count": 91
        }
      ]
    },
    {
      "cell_type": "code",
      "metadata": {
        "colab": {
          "base_uri": "https://localhost:8080/"
        },
        "id": "2ZMp06PWEyHX",
        "outputId": "69011ff5-6454-49cb-9391-906ff0ca8f13"
      },
      "source": [
        "yb = y_train[0:bs]\n",
        "loss_func(preds, yb.long())"
      ],
      "execution_count": 92,
      "outputs": [
        {
          "output_type": "execute_result",
          "data": {
            "text/plain": [
              "tensor(2.2698, grad_fn=<NllLossBackward>)"
            ]
          },
          "metadata": {
            "tags": []
          },
          "execution_count": 92
        }
      ]
    },
    {
      "cell_type": "code",
      "metadata": {
        "colab": {
          "base_uri": "https://localhost:8080/"
        },
        "id": "vG38z7OHE-X2",
        "outputId": "1add13b4-48c5-4c10-fb79-e8724ff24d13"
      },
      "source": [
        "accuracy(preds, yb)"
      ],
      "execution_count": 93,
      "outputs": [
        {
          "output_type": "execute_result",
          "data": {
            "text/plain": [
              "tensor(0.1875)"
            ]
          },
          "metadata": {
            "tags": []
          },
          "execution_count": 93
        }
      ]
    },
    {
      "cell_type": "code",
      "metadata": {
        "id": "ue4Z-9C5FCcZ"
      },
      "source": [
        "lr = 0.5   # learning rate\n",
        "epochs = 1 # how many epochs to train for"
      ],
      "execution_count": 94,
      "outputs": []
    },
    {
      "cell_type": "code",
      "metadata": {
        "id": "nN5zvWZYFGcQ"
      },
      "source": [
        "for epoch in range(epochs):\n",
        "    for i in range((n-1)//bs + 1):\n",
        "#         set_trace()\n",
        "        start_i = i*bs\n",
        "        end_i = start_i+bs\n",
        "        xb = x_train[start_i:end_i]\n",
        "        yb = y_train[start_i:end_i]\n",
        "        loss = loss_func(model(xb), yb.long())\n",
        "\n",
        "        loss.backward()\n",
        "        with torch.no_grad():\n",
        "            for l in model.layers:\n",
        "                if hasattr(l, 'weight'):\n",
        "                    l.weight -= l.weight.grad * lr\n",
        "                    l.bias   -= l.bias.grad   * lr\n",
        "                    l.weight.grad.zero_()\n",
        "                    l.bias  .grad.zero_()"
      ],
      "execution_count": 95,
      "outputs": []
    },
    {
      "cell_type": "code",
      "metadata": {
        "colab": {
          "base_uri": "https://localhost:8080/"
        },
        "id": "ic-2kTcSFN6k",
        "outputId": "0e1c7c62-4ada-44cb-9be1-58b92cc220ee"
      },
      "source": [
        "loss_func(model(xb), yb.long()), accuracy(model(xb), yb)"
      ],
      "execution_count": 96,
      "outputs": [
        {
          "output_type": "execute_result",
          "data": {
            "text/plain": [
              "(tensor(0.0285, grad_fn=<NllLossBackward>), tensor(1.))"
            ]
          },
          "metadata": {
            "tags": []
          },
          "execution_count": 96
        }
      ]
    },
    {
      "cell_type": "code",
      "metadata": {
        "id": "mZ7yIVPzL6pb"
      },
      "source": [
        "class Model(nn.Module):\n",
        "    def __init__(self, n_in, nh, n_out):\n",
        "        super().__init__()\n",
        "        self.l1 = nn.Linear(n_in,nh)\n",
        "        self.l2 = nn.Linear(nh,n_out)\n",
        "        \n",
        "    def __call__(self, x):\n",
        "      return self.l2(F.relu(self.l1(x)))"
      ],
      "execution_count": 97,
      "outputs": []
    },
    {
      "cell_type": "code",
      "metadata": {
        "id": "v_fatttCMSKU"
      },
      "source": [
        "model = Model(m, nh, 10)"
      ],
      "execution_count": 98,
      "outputs": []
    },
    {
      "cell_type": "code",
      "metadata": {
        "colab": {
          "base_uri": "https://localhost:8080/"
        },
        "id": "EWlnzBnWMUeu",
        "outputId": "b15842db-045e-4f97-93c3-40e09b989ca4"
      },
      "source": [
        "for name,l in model.named_children():\n",
        "  print(f\"{name}: {l}\")"
      ],
      "execution_count": 99,
      "outputs": [
        {
          "output_type": "stream",
          "text": [
            "l1: Linear(in_features=784, out_features=50, bias=True)\n",
            "l2: Linear(in_features=50, out_features=10, bias=True)\n"
          ],
          "name": "stdout"
        }
      ]
    },
    {
      "cell_type": "code",
      "metadata": {
        "colab": {
          "base_uri": "https://localhost:8080/"
        },
        "id": "oo5yoPywMbaj",
        "outputId": "e65c05af-5bc0-4218-c542-5e86ae4fb519"
      },
      "source": [
        "model"
      ],
      "execution_count": 100,
      "outputs": [
        {
          "output_type": "execute_result",
          "data": {
            "text/plain": [
              "Model(\n",
              "  (l1): Linear(in_features=784, out_features=50, bias=True)\n",
              "  (l2): Linear(in_features=50, out_features=10, bias=True)\n",
              ")"
            ]
          },
          "metadata": {
            "tags": []
          },
          "execution_count": 100
        }
      ]
    },
    {
      "cell_type": "code",
      "metadata": {
        "colab": {
          "base_uri": "https://localhost:8080/"
        },
        "id": "s1HGZwctMlsO",
        "outputId": "ddf4ba22-f439-45af-e955-ca6726750307"
      },
      "source": [
        "model.l1"
      ],
      "execution_count": 101,
      "outputs": [
        {
          "output_type": "execute_result",
          "data": {
            "text/plain": [
              "Linear(in_features=784, out_features=50, bias=True)"
            ]
          },
          "metadata": {
            "tags": []
          },
          "execution_count": 101
        }
      ]
    },
    {
      "cell_type": "code",
      "metadata": {
        "id": "2En8NJgPMpab"
      },
      "source": [
        "def fit():\n",
        "    for epoch in range(epochs):\n",
        "        for i in range((n-1)//bs + 1):\n",
        "            start_i = i*bs\n",
        "            end_i = start_i+bs\n",
        "            xb = x_train[start_i:end_i]\n",
        "            yb = y_train[start_i:end_i]\n",
        "            loss = loss_func(model(xb), yb.long())\n",
        "\n",
        "            loss.backward()\n",
        "            with torch.no_grad():\n",
        "                for p in model.parameters(): p -= p.grad * lr\n",
        "                model.zero_grad()"
      ],
      "execution_count": 102,
      "outputs": []
    },
    {
      "cell_type": "code",
      "metadata": {
        "colab": {
          "base_uri": "https://localhost:8080/"
        },
        "id": "xI8yIQMlM80n",
        "outputId": "c7434e38-6ea6-45af-f12b-abd69e17bc62"
      },
      "source": [
        "fit()\n",
        "loss_func(model(xb), yb.long()), accuracy(model(xb), yb.long())"
      ],
      "execution_count": 103,
      "outputs": [
        {
          "output_type": "execute_result",
          "data": {
            "text/plain": [
              "(tensor(0.0062, grad_fn=<NllLossBackward>), tensor(1.))"
            ]
          },
          "metadata": {
            "tags": []
          },
          "execution_count": 103
        }
      ]
    },
    {
      "cell_type": "code",
      "metadata": {
        "id": "a_3P46PKNYxY"
      },
      "source": [
        "layers = [nn.Linear(m,nh), nn.ReLU(), nn.Linear(nh,10)]"
      ],
      "execution_count": 104,
      "outputs": []
    },
    {
      "cell_type": "code",
      "metadata": {
        "id": "mx_uUIM8Nbiz"
      },
      "source": [
        "class Model(nn.Module):\n",
        "    def __init__(self, layers):\n",
        "        super().__init__()\n",
        "        self.layers = layers\n",
        "        for i,l in enumerate(self.layers): self.add_module(f'layer_{i}', l)\n",
        "        \n",
        "    def __call__(self, x):\n",
        "        for l in self.layers: x = l(x)\n",
        "        return x"
      ],
      "execution_count": 105,
      "outputs": []
    },
    {
      "cell_type": "code",
      "metadata": {
        "id": "slrLXE2PNfwn"
      },
      "source": [
        "model = Model(layers)"
      ],
      "execution_count": 106,
      "outputs": []
    },
    {
      "cell_type": "code",
      "metadata": {
        "colab": {
          "base_uri": "https://localhost:8080/"
        },
        "id": "usu-GiKdNhmt",
        "outputId": "3d83d6cf-a2d9-43a6-99b7-f2fd27c45ba3"
      },
      "source": [
        "model"
      ],
      "execution_count": 107,
      "outputs": [
        {
          "output_type": "execute_result",
          "data": {
            "text/plain": [
              "Model(\n",
              "  (layer_0): Linear(in_features=784, out_features=50, bias=True)\n",
              "  (layer_1): ReLU()\n",
              "  (layer_2): Linear(in_features=50, out_features=10, bias=True)\n",
              ")"
            ]
          },
          "metadata": {
            "tags": []
          },
          "execution_count": 107
        }
      ]
    },
    {
      "cell_type": "code",
      "metadata": {
        "id": "OG6wd0jvnJle"
      },
      "source": [
        "class SequentialModel(nn.Module):\n",
        "    def __init__(self, layers):\n",
        "        super().__init__()\n",
        "        self.layers = nn.ModuleList(layers)\n",
        "        \n",
        "    def __call__(self, x):\n",
        "        for l in self.layers: x = l(x)\n",
        "        return x"
      ],
      "execution_count": 108,
      "outputs": []
    },
    {
      "cell_type": "code",
      "metadata": {
        "id": "AKi940JinUq7"
      },
      "source": [
        "model = SequentialModel(layers)"
      ],
      "execution_count": 109,
      "outputs": []
    },
    {
      "cell_type": "code",
      "metadata": {
        "colab": {
          "base_uri": "https://localhost:8080/"
        },
        "id": "quWC8KiznWLG",
        "outputId": "f7951847-43d6-4559-9e05-85b0e7b9fceb"
      },
      "source": [
        "model"
      ],
      "execution_count": 110,
      "outputs": [
        {
          "output_type": "execute_result",
          "data": {
            "text/plain": [
              "SequentialModel(\n",
              "  (layers): ModuleList(\n",
              "    (0): Linear(in_features=784, out_features=50, bias=True)\n",
              "    (1): ReLU()\n",
              "    (2): Linear(in_features=50, out_features=10, bias=True)\n",
              "  )\n",
              ")"
            ]
          },
          "metadata": {
            "tags": []
          },
          "execution_count": 110
        }
      ]
    },
    {
      "cell_type": "code",
      "metadata": {
        "id": "AvB7VhuAnbLU"
      },
      "source": [
        "fit()"
      ],
      "execution_count": 111,
      "outputs": []
    },
    {
      "cell_type": "code",
      "metadata": {
        "colab": {
          "base_uri": "https://localhost:8080/"
        },
        "id": "av3y3WqOncq4",
        "outputId": "442971f9-8a76-432b-8338-f5ec30f9e3d3"
      },
      "source": [
        "loss_func(model(xb), yb.long()), accuracy(model(xb), yb)"
      ],
      "execution_count": 113,
      "outputs": [
        {
          "output_type": "execute_result",
          "data": {
            "text/plain": [
              "(tensor(0.0131, grad_fn=<NllLossBackward>), tensor(1.))"
            ]
          },
          "metadata": {
            "tags": []
          },
          "execution_count": 113
        }
      ]
    },
    {
      "cell_type": "code",
      "metadata": {
        "id": "rcsZCm4MoF8N"
      },
      "source": [
        "model = nn.Sequential(nn.Linear(m,nh), nn.ReLU(), nn.Linear(nh,10))"
      ],
      "execution_count": 114,
      "outputs": []
    },
    {
      "cell_type": "code",
      "metadata": {
        "colab": {
          "base_uri": "https://localhost:8080/"
        },
        "id": "ZU1QwONKoQRH",
        "outputId": "f6a85063-6d8f-4620-8d07-6356cd4eb18e"
      },
      "source": [
        "fit()\n",
        "loss_func(model(xb), yb.long()), accuracy(model(xb), yb)"
      ],
      "execution_count": 115,
      "outputs": [
        {
          "output_type": "execute_result",
          "data": {
            "text/plain": [
              "(tensor(0.0100, grad_fn=<NllLossBackward>), tensor(1.))"
            ]
          },
          "metadata": {
            "tags": []
          },
          "execution_count": 115
        }
      ]
    },
    {
      "cell_type": "code",
      "metadata": {
        "colab": {
          "base_uri": "https://localhost:8080/"
        },
        "id": "cRZkX2BcoVkm",
        "outputId": "8ad0c9a7-89c6-4e35-81bf-07fe0c0a0ec6"
      },
      "source": [
        "nn.Sequential"
      ],
      "execution_count": 116,
      "outputs": [
        {
          "output_type": "execute_result",
          "data": {
            "text/plain": [
              "torch.nn.modules.container.Sequential"
            ]
          },
          "metadata": {
            "tags": []
          },
          "execution_count": 116
        }
      ]
    },
    {
      "cell_type": "code",
      "metadata": {
        "colab": {
          "base_uri": "https://localhost:8080/"
        },
        "id": "E_icXi1NoXpa",
        "outputId": "102b5449-3155-4c73-f4fd-13bd0f4cce28"
      },
      "source": [
        "model"
      ],
      "execution_count": 117,
      "outputs": [
        {
          "output_type": "execute_result",
          "data": {
            "text/plain": [
              "Sequential(\n",
              "  (0): Linear(in_features=784, out_features=50, bias=True)\n",
              "  (1): ReLU()\n",
              "  (2): Linear(in_features=50, out_features=10, bias=True)\n",
              ")"
            ]
          },
          "metadata": {
            "tags": []
          },
          "execution_count": 117
        }
      ]
    },
    {
      "cell_type": "code",
      "metadata": {
        "id": "DHit9a4IqACL"
      },
      "source": [
        "class Optimizer():\n",
        "    def __init__(self, params, lr=0.5):\n",
        "        self.params,self.lr=list(params),lr\n",
        "        \n",
        "    def step(self):\n",
        "        with torch.no_grad():\n",
        "            for p in self.params: p -= p.grad * self.lr\n",
        "\n",
        "    def zero_grad(self):\n",
        "        for p in self.params: p.grad.data.zero_()"
      ],
      "execution_count": 118,
      "outputs": []
    },
    {
      "cell_type": "code",
      "metadata": {
        "id": "Y5HAwWH3qeRV"
      },
      "source": [
        "model = nn.Sequential(nn.Linear(m,nh), nn.ReLU(), nn.Linear(nh,10))"
      ],
      "execution_count": 119,
      "outputs": []
    },
    {
      "cell_type": "code",
      "metadata": {
        "id": "lRfZf49dqf8y"
      },
      "source": [
        "opt = Optimizer(model.parameters())"
      ],
      "execution_count": 120,
      "outputs": []
    },
    {
      "cell_type": "code",
      "metadata": {
        "id": "K7viwqpTqpfm"
      },
      "source": [
        "for epoch in range(epochs):\n",
        "    for i in range((n-1)//bs + 1):\n",
        "        start_i = i*bs\n",
        "        end_i = start_i+bs\n",
        "        xb = x_train[start_i:end_i]\n",
        "        yb = y_train[start_i:end_i]\n",
        "        pred = model(xb)\n",
        "        loss = loss_func(pred, yb.long())\n",
        "\n",
        "        loss.backward()\n",
        "        opt.step()\n",
        "        opt.zero_grad()"
      ],
      "execution_count": 122,
      "outputs": []
    },
    {
      "cell_type": "code",
      "metadata": {
        "colab": {
          "base_uri": "https://localhost:8080/"
        },
        "id": "ktJ8tAQLs2uK",
        "outputId": "62710424-62c4-491d-b80a-e9e90373f6dd"
      },
      "source": [
        "loss,acc = loss_func(model(xb), yb.long()), accuracy(model(xb), yb)\n",
        "loss,acc"
      ],
      "execution_count": 123,
      "outputs": [
        {
          "output_type": "execute_result",
          "data": {
            "text/plain": [
              "(tensor(0.0185, grad_fn=<NllLossBackward>), tensor(1.))"
            ]
          },
          "metadata": {
            "tags": []
          },
          "execution_count": 123
        }
      ]
    },
    {
      "cell_type": "code",
      "metadata": {
        "id": "PbRTB5UEujFB"
      },
      "source": [
        "from torch import optim"
      ],
      "execution_count": 124,
      "outputs": []
    },
    {
      "cell_type": "code",
      "metadata": {
        "colab": {
          "base_uri": "https://localhost:8080/"
        },
        "id": "EaQq7tJzul7-",
        "outputId": "37f4a470-f8d8-4f6c-a888-816f4cbbaafb"
      },
      "source": [
        "optim.SGD.step"
      ],
      "execution_count": 125,
      "outputs": [
        {
          "output_type": "execute_result",
          "data": {
            "text/plain": [
              "<function torch.optim.sgd.SGD.step>"
            ]
          },
          "metadata": {
            "tags": []
          },
          "execution_count": 125
        }
      ]
    },
    {
      "cell_type": "code",
      "metadata": {
        "id": "0NiHv9sHuo4k"
      },
      "source": [
        "def get_model():\n",
        "    model = nn.Sequential(nn.Linear(m,nh), nn.ReLU(), nn.Linear(nh,10))\n",
        "    return model, optim.SGD(model.parameters(), lr=lr)"
      ],
      "execution_count": 126,
      "outputs": []
    },
    {
      "cell_type": "code",
      "metadata": {
        "colab": {
          "base_uri": "https://localhost:8080/"
        },
        "id": "OK9jYA3SuwAr",
        "outputId": "15d00b6d-54f9-4e32-8bf7-98a6dae2d096"
      },
      "source": [
        "model,opt = get_model()\n",
        "loss_func(model(xb), yb.long())"
      ],
      "execution_count": 129,
      "outputs": [
        {
          "output_type": "execute_result",
          "data": {
            "text/plain": [
              "tensor(2.3606, grad_fn=<NllLossBackward>)"
            ]
          },
          "metadata": {
            "tags": []
          },
          "execution_count": 129
        }
      ]
    },
    {
      "cell_type": "code",
      "metadata": {
        "id": "GCi9wHIevq71"
      },
      "source": [
        "for epoch in range(epochs):\n",
        "    for i in range((n-1)//bs + 1):\n",
        "        start_i = i*bs\n",
        "        end_i = start_i+bs\n",
        "        xb = x_train[start_i:end_i]\n",
        "        yb = y_train[start_i:end_i]\n",
        "        pred = model(xb)\n",
        "        loss = loss_func(pred, yb.long())\n",
        "\n",
        "        loss.backward()\n",
        "        opt.step()\n",
        "        opt.zero_grad()"
      ],
      "execution_count": 131,
      "outputs": []
    },
    {
      "cell_type": "code",
      "metadata": {
        "colab": {
          "base_uri": "https://localhost:8080/"
        },
        "id": "qxp9iw0JvarJ",
        "outputId": "8642b8f2-8333-46cd-a73a-700decea05b5"
      },
      "source": [
        "loss,acc = loss_func(model(xb), yb.long()), accuracy(model(xb), yb)\n",
        "loss,acc"
      ],
      "execution_count": 132,
      "outputs": [
        {
          "output_type": "execute_result",
          "data": {
            "text/plain": [
              "(tensor(0.0065, grad_fn=<NllLossBackward>), tensor(1.))"
            ]
          },
          "metadata": {
            "tags": []
          },
          "execution_count": 132
        }
      ]
    },
    {
      "cell_type": "code",
      "metadata": {
        "id": "EujmvCzn0gBm"
      },
      "source": [
        "class Dataset():\n",
        "    def __init__(self, x, y): self.x,self.y = x,y\n",
        "    def __len__(self): return len(self.x)\n",
        "    def __getitem__(self, i): return self.x[i],self.y[i]"
      ],
      "execution_count": 133,
      "outputs": []
    },
    {
      "cell_type": "code",
      "metadata": {
        "id": "GMyp1bXr0u4g"
      },
      "source": [
        "train_ds,test_ds = Dataset(x_train, y_train),Dataset(x_test, y_test)"
      ],
      "execution_count": 134,
      "outputs": []
    },
    {
      "cell_type": "code",
      "metadata": {
        "colab": {
          "base_uri": "https://localhost:8080/"
        },
        "id": "DjC809YS0z3h",
        "outputId": "c8ac8b58-34f4-4717-c8f2-3da3fae4f753"
      },
      "source": [
        "xb,yb = train_ds[0:5]\n",
        "xb,yb"
      ],
      "execution_count": 136,
      "outputs": [
        {
          "output_type": "execute_result",
          "data": {
            "text/plain": [
              "(tensor([[-0.4241, -0.4241, -0.4241,  ..., -0.4241, -0.4241, -0.4241],\n",
              "         [-0.4241, -0.4241, -0.4241,  ..., -0.4241, -0.4241, -0.4241],\n",
              "         [-0.4241, -0.4241, -0.4241,  ..., -0.4241, -0.4241, -0.4241],\n",
              "         [-0.4241, -0.4241, -0.4241,  ..., -0.4241, -0.4241, -0.4241],\n",
              "         [-0.4241, -0.4241, -0.4241,  ..., -0.4241, -0.4241, -0.4241]]),\n",
              " tensor([5., 0., 4., 1., 9.]))"
            ]
          },
          "metadata": {
            "tags": []
          },
          "execution_count": 136
        }
      ]
    },
    {
      "cell_type": "code",
      "metadata": {
        "id": "qLwumj1Z07gc"
      },
      "source": [
        "model,opt = get_model()"
      ],
      "execution_count": 137,
      "outputs": []
    },
    {
      "cell_type": "code",
      "metadata": {
        "id": "ctmjr5vD01cc"
      },
      "source": [
        "for epoch in range(epochs):\n",
        "    for i in range((n-1)//bs + 1):\n",
        "        xb,yb = train_ds[i*bs : i*bs+bs]\n",
        "        pred = model(xb)\n",
        "        loss = loss_func(pred, yb.long())\n",
        "\n",
        "        loss.backward()\n",
        "        opt.step()\n",
        "        opt.zero_grad()"
      ],
      "execution_count": 139,
      "outputs": []
    },
    {
      "cell_type": "code",
      "metadata": {
        "colab": {
          "base_uri": "https://localhost:8080/"
        },
        "id": "Q8xuagam1soF",
        "outputId": "687596fa-4fd3-48c7-a84f-068e4809f97f"
      },
      "source": [
        "loss,acc = loss_func(model(xb), yb.long()), accuracy(model(xb), yb)\n",
        "loss,acc"
      ],
      "execution_count": 140,
      "outputs": [
        {
          "output_type": "execute_result",
          "data": {
            "text/plain": [
              "(tensor(0.0197, grad_fn=<NllLossBackward>), tensor(1.))"
            ]
          },
          "metadata": {
            "tags": []
          },
          "execution_count": 140
        }
      ]
    },
    {
      "cell_type": "code",
      "metadata": {
        "id": "6TyaJ2an11Sv"
      },
      "source": [
        "class Sampler():\n",
        "    def __init__(self, ds, bs, shuffle=False):\n",
        "        self.n,self.bs,self.shuffle = len(ds),bs,shuffle\n",
        "        \n",
        "    def __iter__(self):\n",
        "        self.idxs = torch.randperm(self.n) if self.shuffle else torch.arange(self.n)\n",
        "        for i in range(0, self.n, self.bs): yield self.idxs[i:i+self.bs]"
      ],
      "execution_count": 141,
      "outputs": []
    },
    {
      "cell_type": "code",
      "metadata": {
        "id": "g9b23WaK3Faw"
      },
      "source": [
        "small_ds = Dataset(*train_ds[:10])"
      ],
      "execution_count": 142,
      "outputs": []
    },
    {
      "cell_type": "code",
      "metadata": {
        "colab": {
          "base_uri": "https://localhost:8080/"
        },
        "id": "59UYjJUZ3vuK",
        "outputId": "9e4a0794-73b6-47de-d3fd-ad9b5a4d02f1"
      },
      "source": [
        "s = Sampler(small_ds,3,False)\n",
        "[o for o in s]"
      ],
      "execution_count": 143,
      "outputs": [
        {
          "output_type": "execute_result",
          "data": {
            "text/plain": [
              "[tensor([0, 1, 2]), tensor([3, 4, 5]), tensor([6, 7, 8]), tensor([9])]"
            ]
          },
          "metadata": {
            "tags": []
          },
          "execution_count": 143
        }
      ]
    },
    {
      "cell_type": "code",
      "metadata": {
        "colab": {
          "base_uri": "https://localhost:8080/"
        },
        "id": "d8sBq5I_30sp",
        "outputId": "c0acfce6-68ff-46f9-90f8-a497dd3bcd81"
      },
      "source": [
        "s = Sampler(small_ds,3,True)\n",
        "[o for o in s]"
      ],
      "execution_count": 144,
      "outputs": [
        {
          "output_type": "execute_result",
          "data": {
            "text/plain": [
              "[tensor([7, 1, 4]), tensor([9, 0, 8]), tensor([6, 5, 2]), tensor([3])]"
            ]
          },
          "metadata": {
            "tags": []
          },
          "execution_count": 144
        }
      ]
    },
    {
      "cell_type": "code",
      "metadata": {
        "id": "Nr3d8Ekd4EKK"
      },
      "source": [
        "def collate(b):\n",
        "    xs,ys = zip(*b)\n",
        "    return torch.stack(xs),torch.stack(ys)"
      ],
      "execution_count": 145,
      "outputs": []
    },
    {
      "cell_type": "code",
      "metadata": {
        "id": "OSVBVkbn4-ZT"
      },
      "source": [
        "class DataLoader():\n",
        "    def __init__(self, ds, sampler, collate_fn=collate):\n",
        "        self.ds,self.sampler,self.collate_fn = ds,sampler,collate_fn\n",
        "        \n",
        "    def __iter__(self):\n",
        "        for s in self.sampler: yield self.collate_fn([self.ds[i] for i in s])"
      ],
      "execution_count": 146,
      "outputs": []
    },
    {
      "cell_type": "code",
      "metadata": {
        "id": "rUUCQu1q5By2"
      },
      "source": [
        "train_samp = Sampler(train_ds, bs, shuffle=True)\n",
        "test_samp = Sampler(test_ds, bs, shuffle=False)"
      ],
      "execution_count": 147,
      "outputs": []
    },
    {
      "cell_type": "code",
      "metadata": {
        "id": "wIQVF63d5Gux"
      },
      "source": [
        "train_dl = DataLoader(train_ds, sampler=train_samp, collate_fn=collate)\n",
        "test_dl = DataLoader(test_ds, sampler=test_samp, collate_fn=collate)"
      ],
      "execution_count": 149,
      "outputs": []
    },
    {
      "cell_type": "code",
      "metadata": {
        "colab": {
          "base_uri": "https://localhost:8080/",
          "height": 282
        },
        "id": "i0c1U9gV5RMU",
        "outputId": "4936d485-c302-46cc-d7d4-c861bfa3b725"
      },
      "source": [
        "xb,yb = next(iter(test_dl))\n",
        "plt.imshow(xb[0].view(28,28))\n",
        "yb[0]"
      ],
      "execution_count": 150,
      "outputs": [
        {
          "output_type": "execute_result",
          "data": {
            "text/plain": [
              "tensor(7.)"
            ]
          },
          "metadata": {
            "tags": []
          },
          "execution_count": 150
        },
        {
          "output_type": "display_data",
          "data": {
            "image/png": "[encoded data removed]",
            "text/plain": [
              "<Figure size 432x288 with 1 Axes>"
            ]
          },
          "metadata": {
            "tags": [],
            "needs_background": "light"
          }
        }
      ]
    },
    {
      "cell_type": "code",
      "metadata": {
        "colab": {
          "base_uri": "https://localhost:8080/",
          "height": 282
        },
        "id": "1-6De9M65WR-",
        "outputId": "8f3bf14c-fc62-4dfa-812b-82d51e333159"
      },
      "source": [
        "xb,yb = next(iter(train_dl))\n",
        "plt.imshow(xb[0].view(28,28))\n",
        "yb[0]"
      ],
      "execution_count": 151,
      "outputs": [
        {
          "output_type": "execute_result",
          "data": {
            "text/plain": [
              "tensor(2.)"
            ]
          },
          "metadata": {
            "tags": []
          },
          "execution_count": 151
        },
        {
          "output_type": "display_data",
          "data": {
            "image/png": "[encoded data removed]",
            "text/plain": [
              "<Figure size 432x288 with 1 Axes>"
            ]
          },
          "metadata": {
            "tags": [],
            "needs_background": "light"
          }
        }
      ]
    },
    {
      "cell_type": "code",
      "metadata": {
        "id": "7KDsNH6w-6Tg"
      },
      "source": [
        "def fit(epochs, model, loss_func, opt, train_dl, valid_dl):\n",
        "    for epoch in range(epochs):\n",
        "        # Handle batchnorm / dropout\n",
        "        model.train()\n",
        "#         print(model.training)\n",
        "        for xb,yb in train_dl:\n",
        "            loss = loss_func(model(xb), yb.long())\n",
        "            loss.backward()\n",
        "            opt.step()\n",
        "            opt.zero_grad()\n",
        "\n",
        "        model.eval()\n",
        "#         print(model.training)\n",
        "        with torch.no_grad():\n",
        "            tot_loss,tot_acc = 0.,0.\n",
        "            for xb,yb in valid_dl:\n",
        "                pred = model(xb)\n",
        "                tot_loss += loss_func(pred, yb.long())\n",
        "                tot_acc  += accuracy (pred,yb)\n",
        "        nv = len(valid_dl)\n",
        "        print(epoch, tot_loss/nv, tot_acc/nv)\n",
        "    return tot_loss/nv, tot_acc/nv"
      ],
      "execution_count": 163,
      "outputs": []
    },
    {
      "cell_type": "code",
      "metadata": {
        "id": "C0ZqcNur--bN"
      },
      "source": [
        "def get_dls(train_ds, valid_ds, bs, **kwargs):\n",
        "    return (DataLoader(train_ds, batch_size=bs, shuffle=True, **kwargs),\n",
        "            DataLoader(valid_ds, batch_size=bs*2, **kwargs))"
      ],
      "execution_count": 154,
      "outputs": []
    },
    {
      "cell_type": "code",
      "metadata": {
        "id": "UOODR7aNAXiC"
      },
      "source": [
        "from torch.utils.data import DataLoader, SequentialSampler, RandomSampler"
      ],
      "execution_count": 161,
      "outputs": []
    },
    {
      "cell_type": "code",
      "metadata": {
        "colab": {
          "base_uri": "https://localhost:8080/"
        },
        "id": "J2S4mOVI_DHO",
        "outputId": "4be33032-4a18-41ee-bfcb-2514aa63979a"
      },
      "source": [
        "train_dl,test_dl = get_dls(train_ds, test_ds, bs)\n",
        "model,opt = get_model()\n",
        "loss,acc = fit(5, model, loss_func, opt, train_dl, test_dl)"
      ],
      "execution_count": 164,
      "outputs": [
        {
          "output_type": "stream",
          "text": [
            "0 tensor(0.2077) tensor(0.9372)\n",
            "1 tensor(0.1915) tensor(0.9477)\n",
            "2 tensor(0.2622) tensor(0.9320)\n",
            "3 tensor(0.1985) tensor(0.9463)\n",
            "4 tensor(0.1855) tensor(0.9502)\n"
          ],
          "name": "stdout"
        }
      ]
    }
  ]
}