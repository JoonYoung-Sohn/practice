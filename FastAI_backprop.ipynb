{
  "nbformat": 4,
  "nbformat_minor": 0,
  "metadata": {
    "colab": {
      "name": "FastAI-backprop.ipynb",
      "provenance": [],
      "collapsed_sections": [],
      "authorship_tag": "ABX9TyMjYRc3leubB72W4G6bOZlW",
      "include_colab_link": true
    },
    "kernelspec": {
      "name": "python3",
      "display_name": "Python 3"
    }
  },
  "cells": [
    {
      "cell_type": "markdown",
      "metadata": {
        "id": "view-in-github",
        "colab_type": "text"
      },
      "source": [
        "<a href=\"https://colab.research.google.com/github/JoonYoung-Sohn/practice/blob/master/FastAI_backprop.ipynb\" target=\"_parent\"><img src=\"https://colab.research.google.com/assets/colab-badge.svg\" alt=\"Open In Colab\"/></a>"
      ]
    },
    {
      "cell_type": "markdown",
      "metadata": {
        "id": "ZpJFlF79gy07"
      },
      "source": [
        "Matrix multiplication"
      ]
    },
    {
      "cell_type": "code",
      "metadata": {
        "id": "uNCSX8x0az0W"
      },
      "source": [
        "from pathlib import Path\n",
        "from IPython.core.debugger import set_trace\n",
        "from fastai import datasets\n",
        "import pickle, gzip, math, torch, matplotlib as mpl\n",
        "import matplotlib.pyplot as plt\n",
        "from torch import tensor\n",
        "from keras.datasets import mnist\n",
        "import tensorflow as tf"
      ],
      "execution_count": 1,
      "outputs": []
    },
    {
      "cell_type": "code",
      "metadata": {
        "colab": {
          "base_uri": "https://localhost:8080/"
        },
        "id": "i8-nUKY_8RV-",
        "outputId": "3dd8c50d-affe-4988-a6a5-dc91dbd2491a"
      },
      "source": [
        "(x_train, y_train), (x_test, y_test) = mnist.load_data()"
      ],
      "execution_count": 2,
      "outputs": [
        {
          "output_type": "stream",
          "text": [
            "Downloading data from https://storage.googleapis.com/tensorflow/tf-keras-datasets/mnist.npz\n",
            "11493376/11490434 [==============================] - 0s 0us/step\n"
          ],
          "name": "stdout"
        }
      ]
    },
    {
      "cell_type": "code",
      "metadata": {
        "id": "NOApKeku9uBT"
      },
      "source": [
        "x_train,y_train,x_test,y_test = map(tensor, (x_train,y_train,x_test,y_test))\n",
        "x_train = torch.reshape(x_train, shape=[x_train.shape[0],x_train.shape[1]*x_train.shape[2]])\n",
        "x_test = torch.reshape(x_test, shape=[x_test.shape[0],x_test.shape[1]*x_test.shape[2]])"
      ],
      "execution_count": 3,
      "outputs": []
    },
    {
      "cell_type": "code",
      "metadata": {
        "colab": {
          "base_uri": "https://localhost:8080/"
        },
        "id": "_OpWnUcL_QxE",
        "outputId": "9f920c14-eced-4eee-f83a-17a4a42b6098"
      },
      "source": [
        "#n,c = x_train.shape\n",
        "x_train, x_train.shape, y_train, y_train.shape, y_train.min(), y_train.max()"
      ],
      "execution_count": 4,
      "outputs": [
        {
          "output_type": "execute_result",
          "data": {
            "text/plain": [
              "(tensor([[0, 0, 0,  ..., 0, 0, 0],\n",
              "         [0, 0, 0,  ..., 0, 0, 0],\n",
              "         [0, 0, 0,  ..., 0, 0, 0],\n",
              "         ...,\n",
              "         [0, 0, 0,  ..., 0, 0, 0],\n",
              "         [0, 0, 0,  ..., 0, 0, 0],\n",
              "         [0, 0, 0,  ..., 0, 0, 0]], dtype=torch.uint8),\n",
              " torch.Size([60000, 784]),\n",
              " tensor([5, 0, 4,  ..., 5, 6, 8], dtype=torch.uint8),\n",
              " torch.Size([60000]),\n",
              " tensor(0, dtype=torch.uint8),\n",
              " tensor(9, dtype=torch.uint8))"
            ]
          },
          "metadata": {
            "tags": []
          },
          "execution_count": 4
        }
      ]
    },
    {
      "cell_type": "code",
      "metadata": {
        "id": "QY3NgPXnDyeI"
      },
      "source": [
        "mpl.rcParams['image.cmap'] = 'gray'"
      ],
      "execution_count": 5,
      "outputs": []
    },
    {
      "cell_type": "code",
      "metadata": {
        "colab": {
          "base_uri": "https://localhost:8080/",
          "height": 35
        },
        "id": "VGgeddWrD_JI",
        "outputId": "da771001-0c43-44f9-926b-67d85f0f644a"
      },
      "source": [
        "img = x_train[0]\n",
        "img.view(28,28).type()"
      ],
      "execution_count": 6,
      "outputs": [
        {
          "output_type": "execute_result",
          "data": {
            "application/vnd.google.colaboratory.intrinsic+json": {
              "type": "string"
            },
            "text/plain": [
              "'torch.ByteTensor'"
            ]
          },
          "metadata": {
            "tags": []
          },
          "execution_count": 6
        }
      ]
    },
    {
      "cell_type": "code",
      "metadata": {
        "colab": {
          "base_uri": "https://localhost:8080/",
          "height": 265
        },
        "id": "l50x7c3vIKD3",
        "outputId": "95e8d9b0-eef5-40e8-c2ce-250fb0a8d51e"
      },
      "source": [
        "plt.imshow(img.view((28,28)));"
      ],
      "execution_count": 7,
      "outputs": [
        {
          "output_type": "display_data",
          "data": {
            "image/png": "[encoded data removed]",
            "text/plain": [
              "<Figure size 432x288 with 1 Axes>"
            ]
          },
          "metadata": {
            "tags": [],
            "needs_background": "light"
          }
        }
      ]
    },
    {
      "cell_type": "code",
      "metadata": {
        "id": "vCx5H2s2Incw"
      },
      "source": [
        "weights = torch.randn(784,10)\n",
        "bias = torch.zeros(10)"
      ],
      "execution_count": 8,
      "outputs": []
    },
    {
      "cell_type": "code",
      "metadata": {
        "id": "L3noDgwoIqje"
      },
      "source": [
        "def matmul(a,b):\n",
        "    ar,ac = a.shape # n_rows * n_cols\n",
        "    br,bc = b.shape\n",
        "    assert ac==br\n",
        "    c = torch.zeros(ar, bc)\n",
        "    for i in range(ar):\n",
        "        for j in range(bc):\n",
        "            for k in range(ac): # or br\n",
        "                c[i,j] += a[i,k] * b[k,j]\n",
        "    return c"
      ],
      "execution_count": 9,
      "outputs": []
    },
    {
      "cell_type": "code",
      "metadata": {
        "colab": {
          "base_uri": "https://localhost:8080/"
        },
        "id": "q9AX5riEIyAE",
        "outputId": "65648ef4-3a7d-4def-ef11-328fcb26512b"
      },
      "source": [
        "m1 = x_test[:5]\n",
        "m2 = weights\n",
        "m1.shape,m2.shape"
      ],
      "execution_count": 10,
      "outputs": [
        {
          "output_type": "execute_result",
          "data": {
            "text/plain": [
              "(torch.Size([5, 784]), torch.Size([784, 10]))"
            ]
          },
          "metadata": {
            "tags": []
          },
          "execution_count": 10
        }
      ]
    },
    {
      "cell_type": "code",
      "metadata": {
        "colab": {
          "base_uri": "https://localhost:8080/"
        },
        "id": "iFZyyiAsI4Pg",
        "outputId": "e365b4c0-dd1c-4687-e17b-908262580de0"
      },
      "source": [
        "%time t1=matmul(m1, m2)"
      ],
      "execution_count": 11,
      "outputs": [
        {
          "output_type": "stream",
          "text": [
            "CPU times: user 1.13 s, sys: 0 ns, total: 1.13 s\n",
            "Wall time: 1.14 s\n"
          ],
          "name": "stdout"
        }
      ]
    },
    {
      "cell_type": "code",
      "metadata": {
        "colab": {
          "base_uri": "https://localhost:8080/"
        },
        "id": "TMehAcBWLE3q",
        "outputId": "6610729d-fd88-4bed-f2b7-f86027e32402"
      },
      "source": [
        "t1.shape"
      ],
      "execution_count": 12,
      "outputs": [
        {
          "output_type": "execute_result",
          "data": {
            "text/plain": [
              "torch.Size([5, 10])"
            ]
          },
          "metadata": {
            "tags": []
          },
          "execution_count": 12
        }
      ]
    },
    {
      "cell_type": "code",
      "metadata": {
        "colab": {
          "base_uri": "https://localhost:8080/"
        },
        "id": "twWkDoKNLMuh",
        "outputId": "40579023-995b-4ca4-d835-ca69ac5b64aa"
      },
      "source": [
        "len(x_train)"
      ],
      "execution_count": 13,
      "outputs": [
        {
          "output_type": "execute_result",
          "data": {
            "text/plain": [
              "60000"
            ]
          },
          "metadata": {
            "tags": []
          },
          "execution_count": 13
        }
      ]
    },
    {
      "cell_type": "code",
      "metadata": {
        "id": "RakNFQgZLfQ9"
      },
      "source": [
        "def matmul(a,b):\n",
        "    ar,ac = a.shape\n",
        "    br,bc = b.shape\n",
        "    assert ac==br\n",
        "    c = torch.zeros(ar, bc)\n",
        "    for i in range(ar):\n",
        "        for j in range(bc):\n",
        "            # Any trailing \",:\" can be removed\n",
        "            c[i,j] = (a[i,:] * b[:,j]).sum()\n",
        "    return c"
      ],
      "execution_count": 14,
      "outputs": []
    },
    {
      "cell_type": "code",
      "metadata": {
        "colab": {
          "base_uri": "https://localhost:8080/"
        },
        "id": "P4yvjC5rLhVE",
        "outputId": "d5dcf1fa-3028-4542-f8b1-75369b2718e1"
      },
      "source": [
        "%timeit -n 10 _=matmul(m1, m2)"
      ],
      "execution_count": 15,
      "outputs": [
        {
          "output_type": "stream",
          "text": [
            "10 loops, best of 3: 1.58 ms per loop\n"
          ],
          "name": "stdout"
        }
      ]
    },
    {
      "cell_type": "markdown",
      "metadata": {
        "id": "UMB3YTFdNsY4"
      },
      "source": [
        "Fully connected"
      ]
    },
    {
      "cell_type": "code",
      "metadata": {
        "id": "pyKN6lZNNvQa"
      },
      "source": [
        "def normalize(x, m, s): return (x-m)/s"
      ],
      "execution_count": 16,
      "outputs": []
    },
    {
      "cell_type": "code",
      "metadata": {
        "colab": {
          "base_uri": "https://localhost:8080/"
        },
        "id": "20Ne-N4EOZVr",
        "outputId": "bf9c0b6b-216d-41a7-875e-78bfe242583d"
      },
      "source": [
        "train_mean,train_std = x_train.float().mean(),x_train.float().std()\n",
        "train_mean,train_std"
      ],
      "execution_count": 17,
      "outputs": [
        {
          "output_type": "execute_result",
          "data": {
            "text/plain": [
              "(tensor(33.3184), tensor(78.5675))"
            ]
          },
          "metadata": {
            "tags": []
          },
          "execution_count": 17
        }
      ]
    },
    {
      "cell_type": "code",
      "metadata": {
        "id": "TnUEbBPaSo8b"
      },
      "source": [
        "x_train = normalize(x_train, train_mean, train_std)\n",
        "x_test = normalize(x_test, train_mean, train_std)"
      ],
      "execution_count": 18,
      "outputs": []
    },
    {
      "cell_type": "code",
      "metadata": {
        "colab": {
          "base_uri": "https://localhost:8080/"
        },
        "id": "9XIN1bQeSxAo",
        "outputId": "90549517-9e5a-4691-8196-a1592edebe42"
      },
      "source": [
        "train_mean,train_std = x_train.mean(),x_train.std()\n",
        "train_mean,train_std"
      ],
      "execution_count": 19,
      "outputs": [
        {
          "output_type": "execute_result",
          "data": {
            "text/plain": [
              "(tensor(1.8892e-08), tensor(1.))"
            ]
          },
          "metadata": {
            "tags": []
          },
          "execution_count": 19
        }
      ]
    },
    {
      "cell_type": "code",
      "metadata": {
        "colab": {
          "base_uri": "https://localhost:8080/"
        },
        "id": "9AZ4rqlOS9QI",
        "outputId": "83a2f7b0-ffec-4068-8f93-5ec019cfe5c3"
      },
      "source": [
        "n,m = x_train.shape\n",
        "c = y_train.max()+1\n",
        "n,m,c"
      ],
      "execution_count": 20,
      "outputs": [
        {
          "output_type": "execute_result",
          "data": {
            "text/plain": [
              "(60000, 784, tensor(10, dtype=torch.uint8))"
            ]
          },
          "metadata": {
            "tags": []
          },
          "execution_count": 20
        }
      ]
    },
    {
      "cell_type": "code",
      "metadata": {
        "id": "nYjTXGfyTF2v"
      },
      "source": [
        "# num hidden\n",
        "nh = 50"
      ],
      "execution_count": 21,
      "outputs": []
    },
    {
      "cell_type": "code",
      "metadata": {
        "id": "r_hWInz3THxp"
      },
      "source": [
        "# standard xavier init\n",
        "w1 = torch.randn(m,nh)/math.sqrt(m)\n",
        "b1 = torch.zeros(nh)\n",
        "w2 = torch.randn(nh,1)/math.sqrt(nh)\n",
        "b2 = torch.zeros(1)"
      ],
      "execution_count": 22,
      "outputs": []
    },
    {
      "cell_type": "code",
      "metadata": {
        "id": "bCNpuTUrTQAx"
      },
      "source": [
        "def test_near_zero(a,tol=1e-3): assert a.abs()<tol, f\"Near zero: {a}\""
      ],
      "execution_count": 23,
      "outputs": []
    },
    {
      "cell_type": "code",
      "metadata": {
        "id": "JeREfm_JTSok"
      },
      "source": [
        "test_near_zero(w1.mean())\n",
        "test_near_zero(w1.std()-1/math.sqrt(m))"
      ],
      "execution_count": 24,
      "outputs": []
    },
    {
      "cell_type": "code",
      "metadata": {
        "colab": {
          "base_uri": "https://localhost:8080/"
        },
        "id": "9KJNgxUaTzXp",
        "outputId": "2090d546-48e4-4d7e-d8cb-26795fd8bf57"
      },
      "source": [
        "x_test.mean(),x_test.std()"
      ],
      "execution_count": 25,
      "outputs": [
        {
          "output_type": "execute_result",
          "data": {
            "text/plain": [
              "(tensor(0.0060), tensor(1.0077))"
            ]
          },
          "metadata": {
            "tags": []
          },
          "execution_count": 25
        }
      ]
    },
    {
      "cell_type": "code",
      "metadata": {
        "id": "0Nj3dyoQT4sQ"
      },
      "source": [
        "def lin(x, w, b): return x@w + b"
      ],
      "execution_count": 26,
      "outputs": []
    },
    {
      "cell_type": "code",
      "metadata": {
        "id": "SvekJmMgT6qH"
      },
      "source": [
        "t = lin(x_test, w1, b1)"
      ],
      "execution_count": 27,
      "outputs": []
    },
    {
      "cell_type": "code",
      "metadata": {
        "colab": {
          "base_uri": "https://localhost:8080/"
        },
        "id": "mkhgzTJQT_Uo",
        "outputId": "b81daeda-500c-4090-b623-3f67658490d0"
      },
      "source": [
        "t.mean(),t.std()"
      ],
      "execution_count": 28,
      "outputs": [
        {
          "output_type": "execute_result",
          "data": {
            "text/plain": [
              "(tensor(0.0837), tensor(1.0110))"
            ]
          },
          "metadata": {
            "tags": []
          },
          "execution_count": 28
        }
      ]
    },
    {
      "cell_type": "code",
      "metadata": {
        "id": "gReYM3ufUK_G"
      },
      "source": [
        "def relu(x): return x.clamp_min(0.)"
      ],
      "execution_count": 29,
      "outputs": []
    },
    {
      "cell_type": "code",
      "metadata": {
        "id": "1nVlVMjkUMiA"
      },
      "source": [
        "t = relu(lin(x_test, w1, b1))"
      ],
      "execution_count": 30,
      "outputs": []
    },
    {
      "cell_type": "code",
      "metadata": {
        "colab": {
          "base_uri": "https://localhost:8080/"
        },
        "id": "x8ChMNMvURZv",
        "outputId": "6d564403-7871-4cf6-fe8b-21bd7c31c7d5"
      },
      "source": [
        "t.mean(),t.std()"
      ],
      "execution_count": 31,
      "outputs": [
        {
          "output_type": "execute_result",
          "data": {
            "text/plain": [
              "(tensor(0.4416), tensor(0.6193))"
            ]
          },
          "metadata": {
            "tags": []
          },
          "execution_count": 31
        }
      ]
    },
    {
      "cell_type": "code",
      "metadata": {
        "id": "04xUUtriUX_E"
      },
      "source": [
        "w1 = torch.randn(m,nh)*math.sqrt(2/m)"
      ],
      "execution_count": 32,
      "outputs": []
    },
    {
      "cell_type": "code",
      "metadata": {
        "colab": {
          "base_uri": "https://localhost:8080/"
        },
        "id": "tT-9TmOEUbM_",
        "outputId": "11913819-2408-4bff-f440-de0b4aa73802"
      },
      "source": [
        "w1.mean(),w1.std()"
      ],
      "execution_count": 33,
      "outputs": [
        {
          "output_type": "execute_result",
          "data": {
            "text/plain": [
              "(tensor(0.0003), tensor(0.0506))"
            ]
          },
          "metadata": {
            "tags": []
          },
          "execution_count": 33
        }
      ]
    },
    {
      "cell_type": "code",
      "metadata": {
        "colab": {
          "base_uri": "https://localhost:8080/"
        },
        "id": "vmTevAxLUezF",
        "outputId": "e3174100-5c91-4442-abd9-649772ca006a"
      },
      "source": [
        "t = relu(lin(x_test, w1, b1))\n",
        "t.mean(),t.std()"
      ],
      "execution_count": 34,
      "outputs": [
        {
          "output_type": "execute_result",
          "data": {
            "text/plain": [
              "(tensor(0.5803), tensor(0.8495))"
            ]
          },
          "metadata": {
            "tags": []
          },
          "execution_count": 34
        }
      ]
    },
    {
      "cell_type": "code",
      "metadata": {
        "id": "8c6C33IIUkXe"
      },
      "source": [
        "from torch.nn import *"
      ],
      "execution_count": 35,
      "outputs": []
    },
    {
      "cell_type": "code",
      "metadata": {
        "id": "AkwwIjr9Un01"
      },
      "source": [
        "w1 = torch.zeros(m,nh)\n",
        "init.kaiming_normal_(w1, mode='fan_out')\n",
        "t = relu(lin(x_test, w1, b1))"
      ],
      "execution_count": 36,
      "outputs": []
    },
    {
      "cell_type": "code",
      "metadata": {
        "colab": {
          "base_uri": "https://localhost:8080/"
        },
        "id": "loGsoM_BU2G4",
        "outputId": "ab0f36b2-5995-4bc7-8388-42d9269a0e4b"
      },
      "source": [
        "init.kaiming_normal_ # He initialization ??"
      ],
      "execution_count": 37,
      "outputs": [
        {
          "output_type": "execute_result",
          "data": {
            "text/plain": [
              "<function torch.nn.init.kaiming_normal_>"
            ]
          },
          "metadata": {
            "tags": []
          },
          "execution_count": 37
        }
      ]
    },
    {
      "cell_type": "code",
      "metadata": {
        "colab": {
          "base_uri": "https://localhost:8080/"
        },
        "id": "NxA0ZZc2U6GK",
        "outputId": "98fbc77c-9dec-44ea-a89b-dbdc4d18828a"
      },
      "source": [
        "w1.mean(),w1.std()"
      ],
      "execution_count": 38,
      "outputs": [
        {
          "output_type": "execute_result",
          "data": {
            "text/plain": [
              "(tensor(-0.0002), tensor(0.0506))"
            ]
          },
          "metadata": {
            "tags": []
          },
          "execution_count": 38
        }
      ]
    },
    {
      "cell_type": "code",
      "metadata": {
        "colab": {
          "base_uri": "https://localhost:8080/"
        },
        "id": "qdBeUdSpU7KO",
        "outputId": "5efdde85-696f-444c-ab1c-782c8f6c8c65"
      },
      "source": [
        "t.mean(),t.std()"
      ],
      "execution_count": 39,
      "outputs": [
        {
          "output_type": "execute_result",
          "data": {
            "text/plain": [
              "(tensor(0.5371), tensor(0.8170))"
            ]
          },
          "metadata": {
            "tags": []
          },
          "execution_count": 39
        }
      ]
    },
    {
      "cell_type": "code",
      "metadata": {
        "colab": {
          "base_uri": "https://localhost:8080/"
        },
        "id": "j7_AS1nFVG8y",
        "outputId": "901f0238-1e62-4a8f-cba4-b048bb3a955c"
      },
      "source": [
        "torch.nn.Linear(m,nh).weight.shape"
      ],
      "execution_count": 40,
      "outputs": [
        {
          "output_type": "execute_result",
          "data": {
            "text/plain": [
              "torch.Size([50, 784])"
            ]
          },
          "metadata": {
            "tags": []
          },
          "execution_count": 40
        }
      ]
    },
    {
      "cell_type": "code",
      "metadata": {
        "colab": {
          "base_uri": "https://localhost:8080/"
        },
        "id": "KO5vq9iBVupB",
        "outputId": "04abb4f4-0f5e-4bb2-9e89-18640cb64f34"
      },
      "source": [
        "torch.nn.Linear.forward"
      ],
      "execution_count": 41,
      "outputs": [
        {
          "output_type": "execute_result",
          "data": {
            "text/plain": [
              "<function torch.nn.modules.linear.Linear.forward>"
            ]
          },
          "metadata": {
            "tags": []
          },
          "execution_count": 41
        }
      ]
    },
    {
      "cell_type": "code",
      "metadata": {
        "colab": {
          "base_uri": "https://localhost:8080/"
        },
        "id": "APRnkE28VwYo",
        "outputId": "43c2a761-f36d-45de-f210-cf1e767b32de"
      },
      "source": [
        "torch.nn.functional.linear"
      ],
      "execution_count": 42,
      "outputs": [
        {
          "output_type": "execute_result",
          "data": {
            "text/plain": [
              "<function torch.nn.functional.linear>"
            ]
          },
          "metadata": {
            "tags": []
          },
          "execution_count": 42
        }
      ]
    },
    {
      "cell_type": "code",
      "metadata": {
        "colab": {
          "base_uri": "https://localhost:8080/"
        },
        "id": "dDEAwfmqVzCG",
        "outputId": "3c392bf2-79c9-4715-9b5c-0b3e2bb2269e"
      },
      "source": [
        "torch.nn.Conv2d"
      ],
      "execution_count": 43,
      "outputs": [
        {
          "output_type": "execute_result",
          "data": {
            "text/plain": [
              "torch.nn.modules.conv.Conv2d"
            ]
          },
          "metadata": {
            "tags": []
          },
          "execution_count": 43
        }
      ]
    },
    {
      "cell_type": "code",
      "metadata": {
        "colab": {
          "base_uri": "https://localhost:8080/"
        },
        "id": "p-ySMuZbV34r",
        "outputId": "cb496c65-79e0-4d8d-a440-c4168907b0d8"
      },
      "source": [
        "torch.nn.modules.conv._ConvNd.reset_parameters"
      ],
      "execution_count": 44,
      "outputs": [
        {
          "output_type": "execute_result",
          "data": {
            "text/plain": [
              "<function torch.nn.modules.conv._ConvNd.reset_parameters>"
            ]
          },
          "metadata": {
            "tags": []
          },
          "execution_count": 44
        }
      ]
    },
    {
      "cell_type": "code",
      "metadata": {
        "id": "U59PQg_9Zxyt"
      },
      "source": [
        "def model(xb):\n",
        "    l1 = lin(xb, w1, b1)\n",
        "    l2 = relu(l1)\n",
        "    l3 = lin(l2, w2, b2)\n",
        "    return l3"
      ],
      "execution_count": 45,
      "outputs": []
    },
    {
      "cell_type": "code",
      "metadata": {
        "colab": {
          "base_uri": "https://localhost:8080/"
        },
        "id": "Zllk-6g3aOnS",
        "outputId": "e65bced6-1cc7-4df3-ab00-8962cee80299"
      },
      "source": [
        "%timeit -n 10 _=model(x_test)"
      ],
      "execution_count": 46,
      "outputs": [
        {
          "output_type": "stream",
          "text": [
            "10 loops, best of 3: 21.3 ms per loop\n"
          ],
          "name": "stdout"
        }
      ]
    },
    {
      "cell_type": "code",
      "metadata": {
        "id": "-2EVoZbhaTUZ"
      },
      "source": [
        "assert model(x_test).shape==torch.Size([x_test.shape[0],1])"
      ],
      "execution_count": 47,
      "outputs": []
    },
    {
      "cell_type": "code",
      "metadata": {
        "colab": {
          "base_uri": "https://localhost:8080/"
        },
        "id": "fkF7ZWTSaa2V",
        "outputId": "9a24caff-bd98-4af0-9e19-c425404ce569"
      },
      "source": [
        "model(x_test).shape"
      ],
      "execution_count": 48,
      "outputs": [
        {
          "output_type": "execute_result",
          "data": {
            "text/plain": [
              "torch.Size([10000, 1])"
            ]
          },
          "metadata": {
            "tags": []
          },
          "execution_count": 48
        }
      ]
    },
    {
      "cell_type": "code",
      "metadata": {
        "id": "kKx3AmeFaeLR"
      },
      "source": [
        "def mse(output, targ):\n",
        "  return (output.squeeze(-1) - targ).pow(2).mean()"
      ],
      "execution_count": 49,
      "outputs": []
    },
    {
      "cell_type": "code",
      "metadata": {
        "id": "heUNH85kahqJ"
      },
      "source": [
        "y_train,y_test = y_train.float(),y_test.float()"
      ],
      "execution_count": 50,
      "outputs": []
    },
    {
      "cell_type": "code",
      "metadata": {
        "id": "U-PntmvHambR"
      },
      "source": [
        "preds = model(x_train)"
      ],
      "execution_count": 51,
      "outputs": []
    },
    {
      "cell_type": "code",
      "metadata": {
        "colab": {
          "base_uri": "https://localhost:8080/"
        },
        "id": "xdGexyHUaoL5",
        "outputId": "588d24ef-ab10-4c4e-ecfd-91764d3295de"
      },
      "source": [
        "preds.shape"
      ],
      "execution_count": 52,
      "outputs": [
        {
          "output_type": "execute_result",
          "data": {
            "text/plain": [
              "torch.Size([60000, 1])"
            ]
          },
          "metadata": {
            "tags": []
          },
          "execution_count": 52
        }
      ]
    },
    {
      "cell_type": "code",
      "metadata": {
        "colab": {
          "base_uri": "https://localhost:8080/"
        },
        "id": "sEZbsqeIaqQJ",
        "outputId": "f7a58ca5-11c2-4d63-c8bd-e282e4eaaac9"
      },
      "source": [
        "mse(preds, y_train)"
      ],
      "execution_count": 53,
      "outputs": [
        {
          "output_type": "execute_result",
          "data": {
            "text/plain": [
              "tensor(23.6688)"
            ]
          },
          "metadata": {
            "tags": []
          },
          "execution_count": 53
        }
      ]
    },
    {
      "cell_type": "code",
      "metadata": {
        "id": "FfSGyrRSavq-"
      },
      "source": [
        "def mse_grad(inp, targ): \n",
        "  # grad of loss with respect to output of previous layer\n",
        "  inp.g = 2. * (inp.squeeze() - targ).unsqueeze(-1) / inp.shape[0]"
      ],
      "execution_count": 54,
      "outputs": []
    },
    {
      "cell_type": "code",
      "metadata": {
        "id": "AV-j0YRka7cw"
      },
      "source": [
        "def relu_grad(inp, out):\n",
        "  # grad of relu with respect to input activations\n",
        "  inp.g = (inp>0).float() * out.g"
      ],
      "execution_count": 55,
      "outputs": []
    },
    {
      "cell_type": "code",
      "metadata": {
        "id": "T6FbNmbTbDaZ"
      },
      "source": [
        "def lin_grad(inp, out, w, b):\n",
        "  # grad of matmul with respect to input\n",
        "  inp.g = out.g @ w.t()\n",
        "  w.g = (inp.unsqueeze(-1) * out.g.unsqueeze(1)).sum(0)\n",
        "  b.g = out.g.sum(0)"
      ],
      "execution_count": 57,
      "outputs": []
    },
    {
      "cell_type": "code",
      "metadata": {
        "id": "LZ6GpA68bQCd"
      },
      "source": [
        "def forward_and_backward(inp, targ):\n",
        "  # forward pass:\n",
        "  l1 = inp @ w1 + b1\n",
        "  l2 = relu(l1)\n",
        "  out = l2 @ w2 + b2\n",
        "  # we don't actually need the loss in backward!\n",
        "  loss = mse(out, targ)\n",
        "    \n",
        "  # backward pass:\n",
        "  mse_grad(out, targ)\n",
        "  lin_grad(l2, out, w2, b2)\n",
        "  relu_grad(l1, l2)\n",
        "  lin_grad(inp, l1, w1, b1)"
      ],
      "execution_count": 58,
      "outputs": []
    },
    {
      "cell_type": "code",
      "metadata": {
        "id": "MFd-oP_9blY5"
      },
      "source": [
        "forward_and_backward(x_train, y_train)"
      ],
      "execution_count": 59,
      "outputs": []
    },
    {
      "cell_type": "code",
      "metadata": {
        "id": "oA_uhmUJbrK6"
      },
      "source": [
        "# Save for testing against later\n",
        "w1g = w1.g.clone()\n",
        "w2g = w2.g.clone()\n",
        "b1g = b1.g.clone()\n",
        "b2g = b2.g.clone()\n",
        "ig  = x_train.g.clone()"
      ],
      "execution_count": 60,
      "outputs": []
    },
    {
      "cell_type": "code",
      "metadata": {
        "id": "9q5satAkb_oB"
      },
      "source": [
        "xt2 = x_train.clone().requires_grad_(True)\n",
        "w12 = w1.clone().requires_grad_(True)\n",
        "w22 = w2.clone().requires_grad_(True)\n",
        "b12 = b1.clone().requires_grad_(True)\n",
        "b22 = b2.clone().requires_grad_(True)"
      ],
      "execution_count": 61,
      "outputs": []
    },
    {
      "cell_type": "code",
      "metadata": {
        "id": "ryeQu7XqdjQH"
      },
      "source": [
        "def forward(inp, targ):\n",
        "    # forward pass:\n",
        "    l1 = inp @ w12 + b12\n",
        "    l2 = relu(l1)\n",
        "    out = l2 @ w22 + b22\n",
        "    # we don't actually need the loss in backward!\n",
        "    return mse(out, targ)"
      ],
      "execution_count": 62,
      "outputs": []
    },
    {
      "cell_type": "code",
      "metadata": {
        "id": "-72MCEosdlGM"
      },
      "source": [
        "loss = forward(xt2, y_train)\n",
        "loss.backward()"
      ],
      "execution_count": 63,
      "outputs": []
    },
    {
      "cell_type": "code",
      "metadata": {
        "colab": {
          "base_uri": "https://localhost:8080/"
        },
        "id": "WoKygzeud4pd",
        "outputId": "37e35342-ef46-44b7-ef97-3c1457dd4af5"
      },
      "source": [
        "print(w22.grad, w2g)\n",
        "print(b22.grad, b2g)\n",
        "print(w12.grad, w1g)\n",
        "print(b12.grad, b1g)\n",
        "print(xt2.grad, ig )"
      ],
      "execution_count": 64,
      "outputs": [
        {
          "output_type": "stream",
          "text": [
            "tensor([[ -6.8111],\n",
            "        [ -3.8583],\n",
            "        [ -0.4792],\n",
            "        [ -7.8335],\n",
            "        [ -9.9291],\n",
            "        [ -0.4548],\n",
            "        [-10.4482],\n",
            "        [ -2.3362],\n",
            "        [ -4.6933],\n",
            "        [ -6.9077],\n",
            "        [ -6.3426],\n",
            "        [ -3.5235],\n",
            "        [ -1.6149],\n",
            "        [ -1.8818],\n",
            "        [ -9.1825],\n",
            "        [ -2.5069],\n",
            "        [ -2.5233],\n",
            "        [ -0.8916],\n",
            "        [ -3.8573],\n",
            "        [ -5.3559],\n",
            "        [ -4.5766],\n",
            "        [ -2.6755],\n",
            "        [ -3.0950],\n",
            "        [ -2.3415],\n",
            "        [ -3.8768],\n",
            "        [ -3.5106],\n",
            "        [ -1.8309],\n",
            "        [ -4.0217],\n",
            "        [ -0.5887],\n",
            "        [ -4.7240],\n",
            "        [ -1.6670],\n",
            "        [ -6.4564],\n",
            "        [ -3.8145],\n",
            "        [ -4.2259],\n",
            "        [ -1.1636],\n",
            "        [ -1.3491],\n",
            "        [ -1.0291],\n",
            "        [ -4.5624],\n",
            "        [ -3.8598],\n",
            "        [ -0.8217],\n",
            "        [-12.2814],\n",
            "        [ -4.1777],\n",
            "        [ -4.9372],\n",
            "        [ -3.3004],\n",
            "        [ -3.8185],\n",
            "        [ -1.1065],\n",
            "        [ -3.1514],\n",
            "        [ -5.8636],\n",
            "        [ -5.4695],\n",
            "        [ -0.1816]]) tensor([[ -6.8111],\n",
            "        [ -3.8583],\n",
            "        [ -0.4792],\n",
            "        [ -7.8336],\n",
            "        [ -9.9291],\n",
            "        [ -0.4548],\n",
            "        [-10.4482],\n",
            "        [ -2.3362],\n",
            "        [ -4.6933],\n",
            "        [ -6.9077],\n",
            "        [ -6.3426],\n",
            "        [ -3.5235],\n",
            "        [ -1.6149],\n",
            "        [ -1.8818],\n",
            "        [ -9.1825],\n",
            "        [ -2.5069],\n",
            "        [ -2.5233],\n",
            "        [ -0.8916],\n",
            "        [ -3.8573],\n",
            "        [ -5.3559],\n",
            "        [ -4.5766],\n",
            "        [ -2.6755],\n",
            "        [ -3.0950],\n",
            "        [ -2.3415],\n",
            "        [ -3.8767],\n",
            "        [ -3.5106],\n",
            "        [ -1.8309],\n",
            "        [ -4.0217],\n",
            "        [ -0.5887],\n",
            "        [ -4.7240],\n",
            "        [ -1.6669],\n",
            "        [ -6.4564],\n",
            "        [ -3.8145],\n",
            "        [ -4.2259],\n",
            "        [ -1.1636],\n",
            "        [ -1.3491],\n",
            "        [ -1.0291],\n",
            "        [ -4.5624],\n",
            "        [ -3.8598],\n",
            "        [ -0.8217],\n",
            "        [-12.2814],\n",
            "        [ -4.1777],\n",
            "        [ -4.9372],\n",
            "        [ -3.3004],\n",
            "        [ -3.8185],\n",
            "        [ -1.1065],\n",
            "        [ -3.1514],\n",
            "        [ -5.8636],\n",
            "        [ -5.4695],\n",
            "        [ -0.1816]])\n",
            "tensor([-7.6240]) tensor([-7.6240])\n",
            "tensor([[ 0.7443,  0.2405,  0.0590,  ..., -0.0950, -0.2194,  0.0640],\n",
            "        [ 0.7443,  0.2405,  0.0590,  ..., -0.0950, -0.2194,  0.0640],\n",
            "        [ 0.7443,  0.2405,  0.0590,  ..., -0.0950, -0.2194,  0.0640],\n",
            "        ...,\n",
            "        [ 0.7443,  0.2405,  0.0590,  ..., -0.0950, -0.2194,  0.0640],\n",
            "        [ 0.7443,  0.2405,  0.0590,  ..., -0.0950, -0.2194,  0.0640],\n",
            "        [ 0.7443,  0.2405,  0.0590,  ..., -0.0950, -0.2194,  0.0640]]) tensor([[ 0.7443,  0.2405,  0.0590,  ..., -0.0950, -0.2194,  0.0640],\n",
            "        [ 0.7443,  0.2405,  0.0590,  ..., -0.0950, -0.2194,  0.0640],\n",
            "        [ 0.7443,  0.2405,  0.0590,  ..., -0.0950, -0.2194,  0.0640],\n",
            "        ...,\n",
            "        [ 0.7443,  0.2405,  0.0590,  ..., -0.0950, -0.2194,  0.0640],\n",
            "        [ 0.7443,  0.2405,  0.0590,  ..., -0.0950, -0.2194,  0.0640],\n",
            "        [ 0.7443,  0.2405,  0.0590,  ..., -0.0950, -0.2194,  0.0640]])\n",
            "tensor([-1.7552, -0.5670, -0.1391, -0.0091,  0.6359, -0.1399, -0.4096,  0.1640,\n",
            "         0.0891,  0.5194,  1.5051, -0.0042, -0.4124,  0.3786,  0.6619, -0.2049,\n",
            "         0.2205, -0.0404, -0.0998,  0.0522, -0.8983, -0.5519,  0.5267,  0.1191,\n",
            "         0.0636, -0.6567, -0.2942, -0.7440, -0.0687, -0.0593, -0.1070,  0.2658,\n",
            "        -0.2738,  0.1004, -0.1752, -0.2016, -0.2693, -0.0047,  0.0328, -0.0511,\n",
            "        -0.7000, -0.4335, -1.1359, -0.2441,  0.6550, -0.1391, -0.4478,  0.2241,\n",
            "         0.5173, -0.1509]) tensor([-1.7552, -0.5670, -0.1391, -0.0091,  0.6359, -0.1399, -0.4096,  0.1640,\n",
            "         0.0891,  0.5194,  1.5051, -0.0042, -0.4124,  0.3786,  0.6619, -0.2049,\n",
            "         0.2205, -0.0404, -0.0998,  0.0522, -0.8983, -0.5519,  0.5267,  0.1191,\n",
            "         0.0636, -0.6567, -0.2942, -0.7440, -0.0687, -0.0593, -0.1070,  0.2658,\n",
            "        -0.2738,  0.1004, -0.1752, -0.2016, -0.2693, -0.0047,  0.0328, -0.0511,\n",
            "        -0.7000, -0.4335, -1.1359, -0.2441,  0.6550, -0.1391, -0.4478,  0.2241,\n",
            "         0.5173, -0.1509])\n",
            "tensor([[-2.4824e-06, -2.4565e-07, -3.9668e-06,  ..., -1.5429e-06,\n",
            "          3.6491e-06,  4.9179e-06],\n",
            "        [ 1.7461e-06, -7.1401e-07,  6.9306e-07,  ...,  1.9013e-07,\n",
            "         -4.3626e-07,  1.6291e-07],\n",
            "        [-3.6813e-06,  1.6834e-06, -2.4666e-06,  ...,  1.3286e-06,\n",
            "          4.5344e-06,  5.3294e-06],\n",
            "        ...,\n",
            "        [-2.5835e-06,  7.2273e-06, -1.0743e-06,  ...,  8.0507e-07,\n",
            "          4.4731e-06,  3.2696e-06],\n",
            "        [-4.9973e-06,  5.3067e-06, -8.1038e-06,  ..., -1.1853e-06,\n",
            "          1.9010e-06,  1.7830e-06],\n",
            "        [-9.7478e-06,  1.1585e-05, -5.7186e-06,  ..., -4.9620e-06,\n",
            "         -1.6992e-06, -2.0335e-06]]) tensor([[-2.4824e-06, -2.4565e-07, -3.9668e-06,  ..., -1.5429e-06,\n",
            "          3.6491e-06,  4.9179e-06],\n",
            "        [ 1.7461e-06, -7.1401e-07,  6.9306e-07,  ...,  1.9013e-07,\n",
            "         -4.3626e-07,  1.6291e-07],\n",
            "        [-3.6813e-06,  1.6834e-06, -2.4666e-06,  ...,  1.3286e-06,\n",
            "          4.5344e-06,  5.3294e-06],\n",
            "        ...,\n",
            "        [-2.5835e-06,  7.2273e-06, -1.0743e-06,  ...,  8.0507e-07,\n",
            "          4.4731e-06,  3.2696e-06],\n",
            "        [-4.9973e-06,  5.3067e-06, -8.1038e-06,  ..., -1.1853e-06,\n",
            "          1.9010e-06,  1.7830e-06],\n",
            "        [-9.7478e-06,  1.1585e-05, -5.7186e-06,  ..., -4.9620e-06,\n",
            "         -1.6992e-06, -2.0335e-06]])\n"
          ],
          "name": "stdout"
        }
      ]
    },
    {
      "cell_type": "markdown",
      "metadata": {
        "id": "9CiPebK2eGob"
      },
      "source": [
        "Layer as class"
      ]
    },
    {
      "cell_type": "code",
      "metadata": {
        "id": "vQ1o8JByeIby"
      },
      "source": [
        "class Relu():\n",
        "    def __call__(self, inp):\n",
        "        self.inp = inp\n",
        "        self.out = inp.clamp_min(0.)-0.5\n",
        "        return self.out\n",
        "    \n",
        "    def backward(self):\n",
        "        self.inp.g = (self.inp>0).float() * self.out.g"
      ],
      "execution_count": 66,
      "outputs": []
    },
    {
      "cell_type": "code",
      "metadata": {
        "id": "bjqbRFq-fxrW"
      },
      "source": [
        "class Lin():\n",
        "    def __init__(self, w, b):\n",
        "        self.w,self.b = w,b\n",
        "        \n",
        "    def __call__(self, inp):\n",
        "        self.inp = inp\n",
        "        self.out = inp@self.w + self.b\n",
        "        return self.out\n",
        "    \n",
        "    def backward(self):\n",
        "        self.inp.g = self.out.g @ self.w.t()\n",
        "        # Creating a giant outer product, just to sum it, is inefficient!\n",
        "        self.w.g = (self.inp.unsqueeze(-1) * self.out.g.unsqueeze(1)).sum(0)\n",
        "        self.b.g = self.out.g.sum(0)"
      ],
      "execution_count": 67,
      "outputs": []
    },
    {
      "cell_type": "code",
      "metadata": {
        "id": "vFgiyDNKgVDk"
      },
      "source": [
        "class Mse():\n",
        "    def __call__(self, inp, targ):\n",
        "        self.inp = inp\n",
        "        self.targ = targ\n",
        "        self.out = (inp.squeeze() - targ).pow(2).mean()\n",
        "        return self.out\n",
        "    \n",
        "    def backward(self):\n",
        "        self.inp.g = 2. * (self.inp.squeeze() - self.targ).unsqueeze(-1) / self.targ.shape[0]"
      ],
      "execution_count": 68,
      "outputs": []
    },
    {
      "cell_type": "code",
      "metadata": {
        "id": "eAVfxxR0gnHP"
      },
      "source": [
        "class Model():\n",
        "    def __init__(self, w1, b1, w2, b2):\n",
        "        self.layers = [Lin(w1,b1), Relu(), Lin(w2,b2)]\n",
        "        self.loss = Mse()\n",
        "        \n",
        "    def __call__(self, x, targ):\n",
        "        for l in self.layers: x = l(x)\n",
        "        return self.loss(x, targ)\n",
        "    \n",
        "    def backward(self):\n",
        "        self.loss.backward()\n",
        "        for l in reversed(self.layers):\n",
        "            l.backward()"
      ],
      "execution_count": 70,
      "outputs": []
    },
    {
      "cell_type": "code",
      "metadata": {
        "id": "i3abK05HhJAi"
      },
      "source": [
        "w1.g,b1.g,w2.g,b2.g = [None]*4\n",
        "model = Model(w1, b1, w2, b2)"
      ],
      "execution_count": 71,
      "outputs": []
    },
    {
      "cell_type": "code",
      "metadata": {
        "colab": {
          "base_uri": "https://localhost:8080/"
        },
        "id": "wroxu5Noh4wU",
        "outputId": "dd7c3750-6a9a-45fe-c8b9-068c84856cfe"
      },
      "source": [
        "%time loss = model(x_train, y_train)"
      ],
      "execution_count": 72,
      "outputs": [
        {
          "output_type": "stream",
          "text": [
            "CPU times: user 152 ms, sys: 0 ns, total: 152 ms\n",
            "Wall time: 159 ms\n"
          ],
          "name": "stdout"
        }
      ]
    },
    {
      "cell_type": "code",
      "metadata": {
        "colab": {
          "base_uri": "https://localhost:8080/"
        },
        "id": "YgwMVRySiASF",
        "outputId": "202fd53d-a87b-4bf4-9531-e7b980257037"
      },
      "source": [
        "%time model.backward()"
      ],
      "execution_count": 73,
      "outputs": [
        {
          "output_type": "stream",
          "text": [
            "CPU times: user 4.13 s, sys: 8.36 s, total: 12.5 s\n",
            "Wall time: 12.5 s\n"
          ],
          "name": "stdout"
        }
      ]
    },
    {
      "cell_type": "code",
      "metadata": {
        "id": "LgiZ_XCZmrxI"
      },
      "source": [
        "class Module():\n",
        "    def __call__(self, *args):\n",
        "        self.args = args\n",
        "        self.out = self.forward(*args)\n",
        "        return self.out\n",
        "    \n",
        "    def forward(self): raise Exception('not implemented')\n",
        "    def backward(self): self.bwd(self.out, *self.args)"
      ],
      "execution_count": 76,
      "outputs": []
    },
    {
      "cell_type": "code",
      "metadata": {
        "id": "Tc0G6Th0m1Ig"
      },
      "source": [
        "class Relu(Module):\n",
        "    def forward(self, inp): return inp.clamp_min(0.)-0.5\n",
        "    def bwd(self, out, inp): inp.g = (inp>0).float() * out.g"
      ],
      "execution_count": 77,
      "outputs": []
    },
    {
      "cell_type": "code",
      "metadata": {
        "id": "Nx5gfRRKm46V"
      },
      "source": [
        "class Lin(Module):\n",
        "    def __init__(self, w, b): self.w,self.b = w,b\n",
        "        \n",
        "    def forward(self, inp): return inp@self.w + self.b\n",
        "    \n",
        "    def bwd(self, out, inp):\n",
        "        inp.g = out.g @ self.w.t()\n",
        "        self.w.g = inp.t() @ out.g\n",
        "        self.b.g = out.g.sum(0)"
      ],
      "execution_count": 78,
      "outputs": []
    },
    {
      "cell_type": "code",
      "metadata": {
        "id": "coPLflX9m7XJ"
      },
      "source": [
        "class Mse(Module):\n",
        "    def forward (self, inp, targ): return (inp.squeeze() - targ).pow(2).mean()\n",
        "    def bwd(self, out, inp, targ): inp.g = 2*(inp.squeeze()-targ).unsqueeze(-1) / targ.shape[0]"
      ],
      "execution_count": 79,
      "outputs": []
    },
    {
      "cell_type": "code",
      "metadata": {
        "id": "vqYyXi1ymm-D"
      },
      "source": [
        "from torch import nn\n",
        "\n",
        "class Model(nn.Module):\n",
        "    def __init__(self, n_in, nh, n_out):\n",
        "        super().__init__()\n",
        "        self.layers = [nn.Linear(n_in,nh), nn.ReLU(), nn.Linear(nh,n_out)]\n",
        "        self.loss = mse\n",
        "        \n",
        "    def __call__(self, x, targ):\n",
        "        for l in self.layers: x = l(x)\n",
        "        return self.loss(x.squeeze(), targ)"
      ],
      "execution_count": 80,
      "outputs": []
    },
    {
      "cell_type": "code",
      "metadata": {
        "id": "BNuYgVgXnD4I"
      },
      "source": [
        "model = Model(m, nh, 1)"
      ],
      "execution_count": 81,
      "outputs": []
    },
    {
      "cell_type": "code",
      "metadata": {
        "colab": {
          "base_uri": "https://localhost:8080/"
        },
        "id": "zwGJxvpEnG_y",
        "outputId": "f12056b8-275e-4969-daa0-609125162639"
      },
      "source": [
        "%time loss = model(x_train, y_train)"
      ],
      "execution_count": 82,
      "outputs": [
        {
          "output_type": "stream",
          "text": [
            "CPU times: user 237 ms, sys: 0 ns, total: 237 ms\n",
            "Wall time: 246 ms\n"
          ],
          "name": "stdout"
        }
      ]
    },
    {
      "cell_type": "code",
      "metadata": {
        "colab": {
          "base_uri": "https://localhost:8080/"
        },
        "id": "w3GD5TRvnI2j",
        "outputId": "4c7da8a6-1cd6-4c03-82b6-ae8c6adc58a9"
      },
      "source": [
        "%time loss.backward()"
      ],
      "execution_count": 83,
      "outputs": [
        {
          "output_type": "stream",
          "text": [
            "CPU times: user 93.6 ms, sys: 1.89 ms, total: 95.5 ms\n",
            "Wall time: 96.1 ms\n"
          ],
          "name": "stdout"
        }
      ]
    }
  ]
}