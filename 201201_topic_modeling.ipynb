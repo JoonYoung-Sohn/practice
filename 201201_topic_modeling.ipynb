{
  "nbformat": 4,
  "nbformat_minor": 0,
  "metadata": {
    "colab": {
      "name": "201201_topic_modeling.ipynb",
      "provenance": [],
      "collapsed_sections": [],
      "authorship_tag": "ABX9TyO0Gu8h5xqioX5d8SzK1Afa",
      "include_colab_link": true
    },
    "kernelspec": {
      "name": "python3",
      "display_name": "Python 3"
    },
    "accelerator": "TPU"
  },
  "cells": [
    {
      "cell_type": "markdown",
      "metadata": {
        "id": "view-in-github",
        "colab_type": "text"
      },
      "source": [
        "<a href=\"https://colab.research.google.com/github/JoonYoung-Sohn/practice/blob/master/201201_topic_modeling.ipynb\" target=\"_parent\"><img src=\"https://colab.research.google.com/assets/colab-badge.svg\" alt=\"Open In Colab\"/></a>"
      ]
    },
    {
      "cell_type": "code",
      "metadata": {
        "colab": {
          "base_uri": "https://localhost:8080/"
        },
        "id": "lIsc_kdciRpm",
        "outputId": "91a911d1-b28b-4470-acb3-01fb63b0bc4c"
      },
      "source": [
        "import numpy as np\n",
        "A=np.array([[0,0,0,1,0,1,1,0,0],[0,0,0,1,1,0,1,0,0],[0,1,1,0,2,0,0,0,0],[1,0,0,0,0,0,0,1,1]])\n",
        "np.shape(A)"
      ],
      "execution_count": 1,
      "outputs": [
        {
          "output_type": "execute_result",
          "data": {
            "text/plain": [
              "(4, 9)"
            ]
          },
          "metadata": {
            "tags": []
          },
          "execution_count": 1
        }
      ]
    },
    {
      "cell_type": "code",
      "metadata": {
        "id": "eO1o2KXSlwVe"
      },
      "source": [
        "U, s, VT = np.linalg.svd(A, full_matrices = True)"
      ],
      "execution_count": 2,
      "outputs": []
    },
    {
      "cell_type": "code",
      "metadata": {
        "colab": {
          "base_uri": "https://localhost:8080/"
        },
        "id": "y6ntW-KYl2jM",
        "outputId": "fdb1b527-b906-4db9-f7fc-4bdb46a4ea5c"
      },
      "source": [
        "print(U.round(2))\n",
        "np.shape(U)"
      ],
      "execution_count": 3,
      "outputs": [
        {
          "output_type": "stream",
          "text": [
            "[[-0.24  0.75  0.   -0.62]\n",
            " [-0.51  0.44 -0.    0.74]\n",
            " [-0.83 -0.49 -0.   -0.27]\n",
            " [-0.   -0.    1.    0.  ]]\n"
          ],
          "name": "stdout"
        },
        {
          "output_type": "execute_result",
          "data": {
            "text/plain": [
              "(4, 4)"
            ]
          },
          "metadata": {
            "tags": []
          },
          "execution_count": 3
        }
      ]
    },
    {
      "cell_type": "code",
      "metadata": {
        "colab": {
          "base_uri": "https://localhost:8080/"
        },
        "id": "z8Wuuk7el7jN",
        "outputId": "b45777d6-7309-47e3-f4f3-5a9529947112"
      },
      "source": [
        "print(s.round(2))\n",
        "np.shape(s)"
      ],
      "execution_count": 4,
      "outputs": [
        {
          "output_type": "stream",
          "text": [
            "[2.69 2.05 1.73 0.77]\n"
          ],
          "name": "stdout"
        },
        {
          "output_type": "execute_result",
          "data": {
            "text/plain": [
              "(4,)"
            ]
          },
          "metadata": {
            "tags": []
          },
          "execution_count": 4
        }
      ]
    },
    {
      "cell_type": "code",
      "metadata": {
        "colab": {
          "base_uri": "https://localhost:8080/"
        },
        "id": "uS5ZPH6omCYF",
        "outputId": "0b9f4cd1-c1b5-4399-d709-60e0b60d438d"
      },
      "source": [
        "S = np.zeros((4, 9)) # 대각 행렬의 크기인 4 x 9의 임의의 행렬 생성\n",
        "S[:4, :4] = np.diag(s) # 특이값을 대각행렬에 삽입\n",
        "print(S.round(2))\n",
        "np.shape(S)"
      ],
      "execution_count": 5,
      "outputs": [
        {
          "output_type": "stream",
          "text": [
            "[[2.69 0.   0.   0.   0.   0.   0.   0.   0.  ]\n",
            " [0.   2.05 0.   0.   0.   0.   0.   0.   0.  ]\n",
            " [0.   0.   1.73 0.   0.   0.   0.   0.   0.  ]\n",
            " [0.   0.   0.   0.77 0.   0.   0.   0.   0.  ]]\n"
          ],
          "name": "stdout"
        },
        {
          "output_type": "execute_result",
          "data": {
            "text/plain": [
              "(4, 9)"
            ]
          },
          "metadata": {
            "tags": []
          },
          "execution_count": 5
        }
      ]
    },
    {
      "cell_type": "code",
      "metadata": {
        "colab": {
          "base_uri": "https://localhost:8080/"
        },
        "id": "xKyXMb6ymH9c",
        "outputId": "b2548cb4-e057-4579-b479-0d867a64fbcc"
      },
      "source": [
        "print(VT.round(2))\n",
        "np.shape(VT)"
      ],
      "execution_count": 6,
      "outputs": [
        {
          "output_type": "stream",
          "text": [
            "[[-0.   -0.31 -0.31 -0.28 -0.8  -0.09 -0.28 -0.   -0.  ]\n",
            " [ 0.   -0.24 -0.24  0.58 -0.26  0.37  0.58 -0.   -0.  ]\n",
            " [ 0.58 -0.    0.    0.   -0.    0.   -0.    0.58  0.58]\n",
            " [ 0.   -0.35 -0.35  0.16  0.25 -0.8   0.16 -0.   -0.  ]\n",
            " [-0.   -0.78 -0.01 -0.2   0.4   0.4  -0.2   0.    0.  ]\n",
            " [-0.29  0.31 -0.78 -0.24  0.23  0.23  0.01  0.14  0.14]\n",
            " [-0.29 -0.1   0.26 -0.59 -0.08 -0.08  0.66  0.14  0.14]\n",
            " [-0.5  -0.06  0.15  0.24 -0.05 -0.05 -0.19  0.75 -0.25]\n",
            " [-0.5  -0.06  0.15  0.24 -0.05 -0.05 -0.19 -0.25  0.75]]\n"
          ],
          "name": "stdout"
        },
        {
          "output_type": "execute_result",
          "data": {
            "text/plain": [
              "(9, 9)"
            ]
          },
          "metadata": {
            "tags": []
          },
          "execution_count": 6
        }
      ]
    },
    {
      "cell_type": "code",
      "metadata": {
        "colab": {
          "base_uri": "https://localhost:8080/"
        },
        "id": "G9xcF02wmOzj",
        "outputId": "148e251c-19bc-4638-f5fa-55187362fdc7"
      },
      "source": [
        "np.allclose(A, np.dot(np.dot(U,S), VT).round(2))"
      ],
      "execution_count": 7,
      "outputs": [
        {
          "output_type": "execute_result",
          "data": {
            "text/plain": [
              "True"
            ]
          },
          "metadata": {
            "tags": []
          },
          "execution_count": 7
        }
      ]
    },
    {
      "cell_type": "code",
      "metadata": {
        "colab": {
          "base_uri": "https://localhost:8080/"
        },
        "id": "0n4HjwTcmR4-",
        "outputId": "2f5247d2-756c-42db-f75e-26322c4bf6b2"
      },
      "source": [
        "S=S[:2,:2]\n",
        "print(S.round(2))"
      ],
      "execution_count": 8,
      "outputs": [
        {
          "output_type": "stream",
          "text": [
            "[[2.69 0.  ]\n",
            " [0.   2.05]]\n"
          ],
          "name": "stdout"
        }
      ]
    },
    {
      "cell_type": "code",
      "metadata": {
        "colab": {
          "base_uri": "https://localhost:8080/"
        },
        "id": "KUYwINzbmirS",
        "outputId": "0734e825-cfc3-4bdf-91f4-445ae7609194"
      },
      "source": [
        "U=U[:,:2]\n",
        "print(U.round(2))"
      ],
      "execution_count": 9,
      "outputs": [
        {
          "output_type": "stream",
          "text": [
            "[[-0.24  0.75]\n",
            " [-0.51  0.44]\n",
            " [-0.83 -0.49]\n",
            " [-0.   -0.  ]]\n"
          ],
          "name": "stdout"
        }
      ]
    },
    {
      "cell_type": "code",
      "metadata": {
        "colab": {
          "base_uri": "https://localhost:8080/"
        },
        "id": "N6nxeWoWmp74",
        "outputId": "b5e9829c-15a7-4c0b-f472-07700f50e01b"
      },
      "source": [
        "VT=VT[:2,:]\n",
        "print(VT.round(2))"
      ],
      "execution_count": 10,
      "outputs": [
        {
          "output_type": "stream",
          "text": [
            "[[-0.   -0.31 -0.31 -0.28 -0.8  -0.09 -0.28 -0.   -0.  ]\n",
            " [ 0.   -0.24 -0.24  0.58 -0.26  0.37  0.58 -0.   -0.  ]]\n"
          ],
          "name": "stdout"
        }
      ]
    },
    {
      "cell_type": "code",
      "metadata": {
        "colab": {
          "base_uri": "https://localhost:8080/"
        },
        "id": "0sMeQkxcmuGi",
        "outputId": "d410fcf9-c5cf-489e-f357-1477e482048c"
      },
      "source": [
        "A_prime=np.dot(np.dot(U,S), VT)\n",
        "print(A)\n",
        "print(A_prime.round(2))"
      ],
      "execution_count": 11,
      "outputs": [
        {
          "output_type": "stream",
          "text": [
            "[[0 0 0 1 0 1 1 0 0]\n",
            " [0 0 0 1 1 0 1 0 0]\n",
            " [0 1 1 0 2 0 0 0 0]\n",
            " [1 0 0 0 0 0 0 1 1]]\n",
            "[[ 0.   -0.17 -0.17  1.08  0.12  0.62  1.08 -0.   -0.  ]\n",
            " [ 0.    0.2   0.2   0.91  0.86  0.45  0.91  0.    0.  ]\n",
            " [ 0.    0.93  0.93  0.03  2.05 -0.17  0.03  0.    0.  ]\n",
            " [ 0.    0.    0.    0.    0.    0.    0.    0.    0.  ]]\n"
          ],
          "name": "stdout"
        }
      ]
    },
    {
      "cell_type": "code",
      "metadata": {
        "colab": {
          "base_uri": "https://localhost:8080/"
        },
        "id": "VUpcJhgHm2LN",
        "outputId": "eaa5ebee-3d13-4c40-95dd-c609270a7c23"
      },
      "source": [
        "import pandas as pd\n",
        "from sklearn.datasets import fetch_20newsgroups\n",
        "dataset = fetch_20newsgroups(shuffle=True, random_state=1, remove=('headers', 'footers', 'quotes'))\n",
        "documents = dataset.data\n",
        "len(documents)"
      ],
      "execution_count": 12,
      "outputs": [
        {
          "output_type": "stream",
          "text": [
            "Downloading 20news dataset. This may take a few minutes.\n",
            "Downloading dataset from https://ndownloader.figshare.com/files/5975967 (14 MB)\n"
          ],
          "name": "stderr"
        },
        {
          "output_type": "execute_result",
          "data": {
            "text/plain": [
              "11314"
            ]
          },
          "metadata": {
            "tags": []
          },
          "execution_count": 12
        }
      ]
    },
    {
      "cell_type": "code",
      "metadata": {
        "colab": {
          "base_uri": "https://localhost:8080/",
          "height": 103
        },
        "id": "1pHNulFZm701",
        "outputId": "d04befc6-81b0-4041-8e58-bbe897c1f501"
      },
      "source": [
        "documents[1]"
      ],
      "execution_count": 13,
      "outputs": [
        {
          "output_type": "execute_result",
          "data": {
            "application/vnd.google.colaboratory.intrinsic+json": {
              "type": "string"
            },
            "text/plain": [
              "\"\\n\\n\\n\\n\\n\\n\\nYeah, do you expect people to read the FAQ, etc. and actually accept hard\\natheism?  No, you need a little leap of faith, Jimmy.  Your logic runs out\\nof steam!\\n\\n\\n\\n\\n\\n\\n\\nJim,\\n\\nSorry I can't pity you, Jim.  And I'm sorry that you have these feelings of\\ndenial about the faith you need to get by.  Oh well, just pretend that it will\\nall end happily ever after anyway.  Maybe if you start a new newsgroup,\\nalt.atheist.hard, you won't be bummin' so much?\\n\\n\\n\\n\\n\\n\\nBye-Bye, Big Jim.  Don't forget your Flintstone's Chewables!  :) \\n--\\nBake Timmons, III\""
            ]
          },
          "metadata": {
            "tags": []
          },
          "execution_count": 13
        }
      ]
    },
    {
      "cell_type": "code",
      "metadata": {
        "colab": {
          "base_uri": "https://localhost:8080/"
        },
        "id": "Sz-XkUfLm-vJ",
        "outputId": "8bb1889f-a841-446b-d0a8-b040e43052f8"
      },
      "source": [
        "print(dataset.target_names)"
      ],
      "execution_count": 14,
      "outputs": [
        {
          "output_type": "stream",
          "text": [
            "['alt.atheism', 'comp.graphics', 'comp.os.ms-windows.misc', 'comp.sys.ibm.pc.hardware', 'comp.sys.mac.hardware', 'comp.windows.x', 'misc.forsale', 'rec.autos', 'rec.motorcycles', 'rec.sport.baseball', 'rec.sport.hockey', 'sci.crypt', 'sci.electronics', 'sci.med', 'sci.space', 'soc.religion.christian', 'talk.politics.guns', 'talk.politics.mideast', 'talk.politics.misc', 'talk.religion.misc']\n"
          ],
          "name": "stdout"
        }
      ]
    },
    {
      "cell_type": "code",
      "metadata": {
        "id": "Dm7I_-kWrvaV"
      },
      "source": [
        "news_df = pd.DataFrame({'document':documents})\n",
        "# 특수 문자 제거\n",
        "news_df['clean_doc'] = news_df['document'].str.replace(\"[^a-zA-Z]\", \" \")\n",
        "# 길이가 3이하인 단어는 제거 (길이가 짧은 단어 제거)\n",
        "news_df['clean_doc'] = news_df['clean_doc'].apply(lambda x: ' '.join([w for w in x.split() if len(w)>3]))\n",
        "# 전체 단어에 대한 소문자 변환\n",
        "news_df['clean_doc'] = news_df['clean_doc'].apply(lambda x: x.lower())"
      ],
      "execution_count": 15,
      "outputs": []
    },
    {
      "cell_type": "code",
      "metadata": {
        "colab": {
          "base_uri": "https://localhost:8080/",
          "height": 69
        },
        "id": "zOw43Wipr4dH",
        "outputId": "34efde5a-4151-4d0e-a030-dd2d34f18859"
      },
      "source": [
        "news_df['clean_doc'][1]"
      ],
      "execution_count": 16,
      "outputs": [
        {
          "output_type": "execute_result",
          "data": {
            "application/vnd.google.colaboratory.intrinsic+json": {
              "type": "string"
            },
            "text/plain": [
              "'yeah expect people read actually accept hard atheism need little leap faith jimmy your logic runs steam sorry pity sorry that have these feelings denial about faith need well just pretend that will happily ever after anyway maybe start newsgroup atheist hard bummin much forget your flintstone chewables bake timmons'"
            ]
          },
          "metadata": {
            "tags": []
          },
          "execution_count": 16
        }
      ]
    },
    {
      "cell_type": "code",
      "metadata": {
        "colab": {
          "base_uri": "https://localhost:8080/"
        },
        "id": "DBWXgjYOr1lE",
        "outputId": "9fed55b6-3730-4e14-f2a6-c1d6368f9ad8"
      },
      "source": [
        "import nltk\n",
        "from nltk.corpus import stopwords\n",
        "nltk.download('stopwords')\n",
        "stop_words = stopwords.words('english') # NLTK로부터 불용어를 받아옵니다.\n",
        "tokenized_doc = news_df['clean_doc'].apply(lambda x: x.split()) # 토큰화\n",
        "tokenized_doc = tokenized_doc.apply(lambda x: [item for item in x if item not in stop_words]) # 불용어를 제거합니다."
      ],
      "execution_count": 17,
      "outputs": [
        {
          "output_type": "stream",
          "text": [
            "[nltk_data] Downloading package stopwords to /root/nltk_data...\n",
            "[nltk_data]   Unzipping corpora/stopwords.zip.\n"
          ],
          "name": "stdout"
        }
      ]
    },
    {
      "cell_type": "code",
      "metadata": {
        "colab": {
          "base_uri": "https://localhost:8080/"
        },
        "id": "qEAFLwQwsVzk",
        "outputId": "134487fa-7e57-4d5e-88d5-43e361f60d63"
      },
      "source": [
        "print(tokenized_doc[1])"
      ],
      "execution_count": 18,
      "outputs": [
        {
          "output_type": "stream",
          "text": [
            "['yeah', 'expect', 'people', 'read', 'actually', 'accept', 'hard', 'atheism', 'need', 'little', 'leap', 'faith', 'jimmy', 'logic', 'runs', 'steam', 'sorry', 'pity', 'sorry', 'feelings', 'denial', 'faith', 'need', 'well', 'pretend', 'happily', 'ever', 'anyway', 'maybe', 'start', 'newsgroup', 'atheist', 'hard', 'bummin', 'much', 'forget', 'flintstone', 'chewables', 'bake', 'timmons']\n"
          ],
          "name": "stdout"
        }
      ]
    },
    {
      "cell_type": "code",
      "metadata": {
        "id": "K90LFVqDtyeg"
      },
      "source": [
        "detokenized_doc = []\n",
        "for i in range(len(news_df)):\n",
        "    t = ' '.join(tokenized_doc[i])\n",
        "    detokenized_doc.append(t)\n",
        "\n",
        "news_df['clean_doc'] = detokenized_doc"
      ],
      "execution_count": 19,
      "outputs": []
    },
    {
      "cell_type": "code",
      "metadata": {
        "colab": {
          "base_uri": "https://localhost:8080/",
          "height": 52
        },
        "id": "gcggwwyBt18c",
        "outputId": "5a48ebdf-b312-49c5-bac4-fc8e48e4e8f7"
      },
      "source": [
        "news_df['clean_doc'][1]"
      ],
      "execution_count": 20,
      "outputs": [
        {
          "output_type": "execute_result",
          "data": {
            "application/vnd.google.colaboratory.intrinsic+json": {
              "type": "string"
            },
            "text/plain": [
              "'yeah expect people read actually accept hard atheism need little leap faith jimmy logic runs steam sorry pity sorry feelings denial faith need well pretend happily ever anyway maybe start newsgroup atheist hard bummin much forget flintstone chewables bake timmons'"
            ]
          },
          "metadata": {
            "tags": []
          },
          "execution_count": 20
        }
      ]
    },
    {
      "cell_type": "code",
      "metadata": {
        "colab": {
          "base_uri": "https://localhost:8080/"
        },
        "id": "dCU7GwWKt4b6",
        "outputId": "ea035cb7-5b4d-494d-a7cb-a78c606fda1d"
      },
      "source": [
        "from sklearn.feature_extraction.text import TfidfVectorizer\n",
        "\n",
        "vectorizer = TfidfVectorizer(stop_words='english', \n",
        "max_features= 1000, # 상위 1,000개의 단어를 보존 \n",
        "max_df = 0.5, \n",
        "smooth_idf=True)\n",
        "\n",
        "X = vectorizer.fit_transform(news_df['clean_doc'])\n",
        "X.shape # TF-IDF 행렬의 크기 확인"
      ],
      "execution_count": 21,
      "outputs": [
        {
          "output_type": "execute_result",
          "data": {
            "text/plain": [
              "(11314, 1000)"
            ]
          },
          "metadata": {
            "tags": []
          },
          "execution_count": 21
        }
      ]
    },
    {
      "cell_type": "code",
      "metadata": {
        "colab": {
          "base_uri": "https://localhost:8080/"
        },
        "id": "UPQ1SAghuAGt",
        "outputId": "6f9c0ab4-9a5d-417f-9ca8-ac81a4b832c6"
      },
      "source": [
        "from sklearn.decomposition import TruncatedSVD\n",
        "svd_model = TruncatedSVD(n_components=20, algorithm='randomized', n_iter=100, random_state=122)\n",
        "svd_model.fit(X)\n",
        "len(svd_model.components_)"
      ],
      "execution_count": 22,
      "outputs": [
        {
          "output_type": "execute_result",
          "data": {
            "text/plain": [
              "20"
            ]
          },
          "metadata": {
            "tags": []
          },
          "execution_count": 22
        }
      ]
    },
    {
      "cell_type": "code",
      "metadata": {
        "colab": {
          "base_uri": "https://localhost:8080/"
        },
        "id": "yc4QG3TbuSOH",
        "outputId": "17342de1-7031-4eae-b38b-1312bfb78ac6"
      },
      "source": [
        "tokenized_doc[:5]"
      ],
      "execution_count": 23,
      "outputs": [
        {
          "output_type": "execute_result",
          "data": {
            "text/plain": [
              "0    [well, sure, story, seem, biased, disagree, st...\n",
              "1    [yeah, expect, people, read, actually, accept,...\n",
              "2    [although, realize, principle, strongest, poin...\n",
              "3    [notwithstanding, legitimate, fuss, proposal, ...\n",
              "4    [well, change, scoring, playoff, pool, unfortu...\n",
              "Name: clean_doc, dtype: object"
            ]
          },
          "metadata": {
            "tags": []
          },
          "execution_count": 23
        }
      ]
    },
    {
      "cell_type": "code",
      "metadata": {
        "colab": {
          "base_uri": "https://localhost:8080/"
        },
        "id": "_9RjPDrYuVao",
        "outputId": "70730196-6536-4be3-e583-c37581339244"
      },
      "source": [
        "from gensim import corpora\n",
        "dictionary = corpora.Dictionary(tokenized_doc)\n",
        "corpus = [dictionary.doc2bow(text) for text in tokenized_doc]\n",
        "print(corpus[1]) # 수행된 결과에서 두번째 뉴스 출력. 첫번째 문서의 인덱스는 0"
      ],
      "execution_count": 24,
      "outputs": [
        {
          "output_type": "stream",
          "text": [
            "[(52, 1), (55, 1), (56, 1), (57, 1), (58, 1), (59, 1), (60, 1), (61, 1), (62, 1), (63, 1), (64, 1), (65, 1), (66, 2), (67, 1), (68, 1), (69, 1), (70, 1), (71, 2), (72, 1), (73, 1), (74, 1), (75, 1), (76, 1), (77, 1), (78, 2), (79, 1), (80, 1), (81, 1), (82, 1), (83, 1), (84, 1), (85, 2), (86, 1), (87, 1), (88, 1), (89, 1)]\n"
          ],
          "name": "stdout"
        }
      ]
    },
    {
      "cell_type": "code",
      "metadata": {
        "colab": {
          "base_uri": "https://localhost:8080/"
        },
        "id": "p4m6A-RwuvNH",
        "outputId": "0e8b91b1-8f7f-429c-b5b2-919088384da6"
      },
      "source": [
        "import gensim\n",
        "NUM_TOPICS = 20 #20개의 토픽, k=20\n",
        "ldamodel = gensim.models.ldamodel.LdaModel(corpus, num_topics = NUM_TOPICS, id2word=dictionary, passes=15)\n",
        "topics = ldamodel.print_topics(num_words=4)\n",
        "for topic in topics:\n",
        "    print(topic)"
      ],
      "execution_count": 25,
      "outputs": [
        {
          "output_type": "stream",
          "text": [
            "(0, '0.017*\"game\" + 0.015*\"team\" + 0.013*\"year\" + 0.011*\"games\"')\n",
            "(1, '0.020*\"jesus\" + 0.013*\"christian\" + 0.012*\"bible\" + 0.010*\"church\"')\n",
            "(2, '0.009*\"engine\" + 0.008*\"power\" + 0.007*\"pain\" + 0.006*\"miles\"')\n",
            "(3, '0.005*\"theory\" + 0.005*\"part\" + 0.005*\"random\" + 0.004*\"bits\"')\n",
            "(4, '0.033*\"space\" + 0.013*\"nasa\" + 0.007*\"launch\" + 0.007*\"earth\"')\n",
            "(5, '0.017*\"windows\" + 0.011*\"file\" + 0.011*\"program\" + 0.011*\"window\"')\n",
            "(6, '0.013*\"information\" + 0.013*\"available\" + 0.010*\"mail\" + 0.009*\"list\"')\n",
            "(7, '0.018*\"bike\" + 0.008*\"road\" + 0.008*\"cars\" + 0.007*\"ride\"')\n",
            "(8, '0.014*\"wire\" + 0.012*\"wiring\" + 0.011*\"ground\" + 0.009*\"lock\"')\n",
            "(9, '0.016*\"said\" + 0.012*\"went\" + 0.008*\"people\" + 0.008*\"came\"')\n",
            "(10, '0.008*\"picture\" + 0.007*\"prog\" + 0.006*\"sleeve\" + 0.006*\"sabbath\"')\n",
            "(11, '0.017*\"israel\" + 0.015*\"jews\" + 0.011*\"israeli\" + 0.007*\"arab\"')\n",
            "(12, '0.015*\"would\" + 0.012*\"people\" + 0.011*\"think\" + 0.008*\"like\"')\n",
            "(13, '0.009*\"president\" + 0.009*\"armenian\" + 0.007*\"turkish\" + 0.006*\"health\"')\n",
            "(14, '0.013*\"encryption\" + 0.011*\"chip\" + 0.010*\"clipper\" + 0.010*\"keys\"')\n",
            "(15, '0.023*\"would\" + 0.019*\"like\" + 0.018*\"know\" + 0.013*\"anyone\"')\n",
            "(16, '0.028*\"entry\" + 0.028*\"output\" + 0.027*\"file\" + 0.014*\"program\"')\n",
            "(17, '0.013*\"drive\" + 0.010*\"system\" + 0.009*\"card\" + 0.008*\"disk\"')\n",
            "(18, '0.010*\"people\" + 0.007*\"government\" + 0.006*\"state\" + 0.006*\"would\"')\n",
            "(19, '0.010*\"nrhj\" + 0.007*\"wwiz\" + 0.006*\"bxom\" + 0.006*\"gizw\"')\n"
          ],
          "name": "stdout"
        }
      ]
    },
    {
      "cell_type": "code",
      "metadata": {
        "colab": {
          "base_uri": "https://localhost:8080/"
        },
        "id": "ajyR0VpUwZZ2",
        "outputId": "164d172d-eb82-482f-9cbf-91a452f0ae37"
      },
      "source": [
        "print(ldamodel.print_topics())"
      ],
      "execution_count": 26,
      "outputs": [
        {
          "output_type": "stream",
          "text": [
            "[(0, '0.017*\"game\" + 0.015*\"team\" + 0.013*\"year\" + 0.011*\"games\" + 0.011*\"play\" + 0.009*\"season\" + 0.008*\"players\" + 0.007*\"hockey\" + 0.007*\"first\" + 0.007*\"period\"'), (1, '0.020*\"jesus\" + 0.013*\"christian\" + 0.012*\"bible\" + 0.010*\"church\" + 0.009*\"christians\" + 0.008*\"christ\" + 0.008*\"religion\" + 0.008*\"faith\" + 0.005*\"christianity\" + 0.005*\"life\"'), (2, '0.009*\"engine\" + 0.008*\"power\" + 0.007*\"pain\" + 0.006*\"miles\" + 0.005*\"water\" + 0.004*\"back\" + 0.004*\"ground\" + 0.004*\"heat\" + 0.004*\"side\" + 0.004*\"high\"'), (3, '0.005*\"theory\" + 0.005*\"part\" + 0.005*\"random\" + 0.004*\"bits\" + 0.004*\"current\" + 0.004*\"algorithm\" + 0.004*\"byte\" + 0.004*\"math\" + 0.004*\"ripem\" + 0.004*\"bell\"'), (4, '0.033*\"space\" + 0.013*\"nasa\" + 0.007*\"launch\" + 0.007*\"earth\" + 0.006*\"satellite\" + 0.006*\"shuttle\" + 0.005*\"orbit\" + 0.005*\"lunar\" + 0.005*\"mission\" + 0.005*\"program\"'), (5, '0.017*\"windows\" + 0.011*\"file\" + 0.011*\"program\" + 0.011*\"window\" + 0.010*\"files\" + 0.009*\"using\" + 0.008*\"version\" + 0.007*\"display\" + 0.006*\"problem\" + 0.006*\"server\"'), (6, '0.013*\"information\" + 0.013*\"available\" + 0.010*\"mail\" + 0.009*\"list\" + 0.007*\"send\" + 0.007*\"also\" + 0.006*\"anonymous\" + 0.006*\"internet\" + 0.005*\"subject\" + 0.005*\"email\"'), (7, '0.018*\"bike\" + 0.008*\"road\" + 0.008*\"cars\" + 0.007*\"ride\" + 0.007*\"speed\" + 0.007*\"cover\" + 0.006*\"riding\" + 0.006*\"radar\" + 0.006*\"motorcycle\" + 0.006*\"driving\"'), (8, '0.014*\"wire\" + 0.012*\"wiring\" + 0.011*\"ground\" + 0.009*\"lock\" + 0.008*\"nubus\" + 0.007*\"neutral\" + 0.006*\"vesa\" + 0.006*\"circuit\" + 0.006*\"maine\" + 0.006*\"printing\"'), (9, '0.016*\"said\" + 0.012*\"went\" + 0.008*\"people\" + 0.008*\"came\" + 0.007*\"told\" + 0.007*\"started\" + 0.006*\"home\" + 0.006*\"says\" + 0.006*\"know\" + 0.006*\"took\"'), (10, '0.008*\"picture\" + 0.007*\"prog\" + 0.006*\"sleeve\" + 0.006*\"sabbath\" + 0.005*\"satan\" + 0.005*\"kingdom\" + 0.005*\"colorado\" + 0.004*\"obfuscate\" + 0.004*\"disciples\" + 0.004*\"unto\"'), (11, '0.017*\"israel\" + 0.015*\"jews\" + 0.011*\"israeli\" + 0.007*\"arab\" + 0.007*\"jewish\" + 0.006*\"world\" + 0.005*\"nazi\" + 0.005*\"land\" + 0.004*\"henrik\" + 0.004*\"germany\"'), (12, '0.015*\"would\" + 0.012*\"people\" + 0.011*\"think\" + 0.008*\"like\" + 0.008*\"know\" + 0.007*\"time\" + 0.007*\"even\" + 0.006*\"well\" + 0.006*\"many\" + 0.005*\"could\"'), (13, '0.009*\"president\" + 0.009*\"armenian\" + 0.007*\"turkish\" + 0.006*\"health\" + 0.006*\"april\" + 0.006*\"said\" + 0.005*\"armenians\" + 0.005*\"russian\" + 0.005*\"people\" + 0.004*\"washington\"'), (14, '0.013*\"encryption\" + 0.011*\"chip\" + 0.010*\"clipper\" + 0.010*\"keys\" + 0.009*\"government\" + 0.009*\"security\" + 0.008*\"system\" + 0.008*\"public\" + 0.007*\"privacy\" + 0.006*\"technology\"'), (15, '0.023*\"would\" + 0.019*\"like\" + 0.018*\"know\" + 0.013*\"anyone\" + 0.012*\"good\" + 0.011*\"thanks\" + 0.010*\"could\" + 0.009*\"please\" + 0.007*\"think\" + 0.007*\"want\"'), (16, '0.028*\"entry\" + 0.028*\"output\" + 0.027*\"file\" + 0.014*\"program\" + 0.011*\"line\" + 0.011*\"build\" + 0.010*\"rules\" + 0.010*\"stream\" + 0.010*\"entries\" + 0.010*\"check\"'), (17, '0.013*\"drive\" + 0.010*\"system\" + 0.009*\"card\" + 0.008*\"disk\" + 0.007*\"scsi\" + 0.006*\"data\" + 0.006*\"software\" + 0.006*\"used\" + 0.006*\"video\" + 0.006*\"also\"'), (18, '0.010*\"people\" + 0.007*\"government\" + 0.006*\"state\" + 0.006*\"would\" + 0.005*\"right\" + 0.004*\"control\" + 0.004*\"rights\" + 0.004*\"guns\" + 0.004*\"states\" + 0.003*\"greek\"'), (19, '0.010*\"nrhj\" + 0.007*\"wwiz\" + 0.006*\"bxom\" + 0.006*\"gizw\" + 0.005*\"tbxn\" + 0.005*\"bhjn\" + 0.005*\"bxlt\" + 0.004*\"wmbxn\" + 0.004*\"nriz\" + 0.004*\"pnei\"')]\n"
          ],
          "name": "stdout"
        }
      ]
    },
    {
      "cell_type": "code",
      "metadata": {
        "colab": {
          "base_uri": "https://localhost:8080/"
        },
        "id": "viPKcAtUwdaW",
        "outputId": "47f13526-3a67-4b60-dd9b-b6af480d6fb6"
      },
      "source": [
        "pip install pyLDAvis"
      ],
      "execution_count": 27,
      "outputs": [
        {
          "output_type": "stream",
          "text": [
            "Collecting pyLDAvis\n",
            "\u001b[?25l  Downloading https://files.pythonhosted.org/packages/a5/3a/af82e070a8a96e13217c8f362f9a73e82d61ac8fff3a2561946a97f96266/pyLDAvis-2.1.2.tar.gz (1.6MB)\n",
            "\u001b[K     |████████████████████████████████| 1.6MB 6.7MB/s \n",
            "\u001b[?25hRequirement already satisfied: wheel>=0.23.0 in /usr/local/lib/python3.6/dist-packages (from pyLDAvis) (0.35.1)\n",
            "Requirement already satisfied: numpy>=1.9.2 in /usr/local/lib/python3.6/dist-packages (from pyLDAvis) (1.18.5)\n",
            "Requirement already satisfied: scipy>=0.18.0 in /usr/local/lib/python3.6/dist-packages (from pyLDAvis) (1.4.1)\n",
            "Requirement already satisfied: pandas>=0.17.0 in /usr/local/lib/python3.6/dist-packages (from pyLDAvis) (1.1.4)\n",
            "Requirement already satisfied: joblib>=0.8.4 in /usr/local/lib/python3.6/dist-packages (from pyLDAvis) (0.17.0)\n",
            "Requirement already satisfied: jinja2>=2.7.2 in /usr/local/lib/python3.6/dist-packages (from pyLDAvis) (2.11.2)\n",
            "Requirement already satisfied: numexpr in /usr/local/lib/python3.6/dist-packages (from pyLDAvis) (2.7.1)\n",
            "Requirement already satisfied: pytest in /usr/local/lib/python3.6/dist-packages (from pyLDAvis) (3.6.4)\n",
            "Requirement already satisfied: future in /usr/local/lib/python3.6/dist-packages (from pyLDAvis) (0.16.0)\n",
            "Collecting funcy\n",
            "  Downloading https://files.pythonhosted.org/packages/66/89/479de0afbbfb98d1c4b887936808764627300208bb771fcd823403645a36/funcy-1.15-py2.py3-none-any.whl\n",
            "Requirement already satisfied: pytz>=2017.2 in /usr/local/lib/python3.6/dist-packages (from pandas>=0.17.0->pyLDAvis) (2018.9)\n",
            "Requirement already satisfied: python-dateutil>=2.7.3 in /usr/local/lib/python3.6/dist-packages (from pandas>=0.17.0->pyLDAvis) (2.8.1)\n",
            "Requirement already satisfied: MarkupSafe>=0.23 in /usr/local/lib/python3.6/dist-packages (from jinja2>=2.7.2->pyLDAvis) (1.1.1)\n",
            "Requirement already satisfied: more-itertools>=4.0.0 in /usr/local/lib/python3.6/dist-packages (from pytest->pyLDAvis) (8.6.0)\n",
            "Requirement already satisfied: six>=1.10.0 in /usr/local/lib/python3.6/dist-packages (from pytest->pyLDAvis) (1.15.0)\n",
            "Requirement already satisfied: attrs>=17.4.0 in /usr/local/lib/python3.6/dist-packages (from pytest->pyLDAvis) (20.3.0)\n",
            "Requirement already satisfied: pluggy<0.8,>=0.5 in /usr/local/lib/python3.6/dist-packages (from pytest->pyLDAvis) (0.7.1)\n",
            "Requirement already satisfied: py>=1.5.0 in /usr/local/lib/python3.6/dist-packages (from pytest->pyLDAvis) (1.9.0)\n",
            "Requirement already satisfied: atomicwrites>=1.0 in /usr/local/lib/python3.6/dist-packages (from pytest->pyLDAvis) (1.4.0)\n",
            "Requirement already satisfied: setuptools in /usr/local/lib/python3.6/dist-packages (from pytest->pyLDAvis) (50.3.2)\n",
            "Building wheels for collected packages: pyLDAvis\n",
            "  Building wheel for pyLDAvis (setup.py) ... \u001b[?25l\u001b[?25hdone\n",
            "  Created wheel for pyLDAvis: filename=pyLDAvis-2.1.2-py2.py3-none-any.whl size=97712 sha256=c56eb0bab2006d5723f45c4ceae0b61de131be710ad2fe6f8c3a72572d115cbf\n",
            "  Stored in directory: /root/.cache/pip/wheels/98/71/24/513a99e58bb6b8465bae4d2d5e9dba8f0bef8179e3051ac414\n",
            "Successfully built pyLDAvis\n",
            "Installing collected packages: funcy, pyLDAvis\n",
            "Successfully installed funcy-1.15 pyLDAvis-2.1.2\n"
          ],
          "name": "stdout"
        }
      ]
    },
    {
      "cell_type": "code",
      "metadata": {
        "colab": {
          "base_uri": "https://localhost:8080/",
          "height": 881
        },
        "id": "HmuNGB2LwmjW",
        "outputId": "c8eb728f-9498-430c-d034-466566b5c3a8"
      },
      "source": [
        "import pyLDAvis.gensim\n",
        "pyLDAvis.enable_notebook()\n",
        "vis = pyLDAvis.gensim.prepare(ldamodel, corpus, dictionary)\n",
        "pyLDAvis.display(vis)"
      ],
      "execution_count": 28,
      "outputs": [
        {
          "output_type": "execute_result",
          "data": {
            "text/html": [
              "\n",
              "<link rel=\"stylesheet\" type=\"text/css\" href=\"https://cdn.rawgit.com/bmabey/pyLDAvis/files/ldavis.v1.0.0.css\">\n",
              "\n",
              "\n",
              "<div id=\"ldavis_el551399198918454325851835851\"></div>\n",
              "<script type=\"text/javascript\">\n",
              "\n",
              "var ldavis_el551399198918454325851835851_data = {\"mdsDat\": {\"x\": [-0.2593711342843078, -0.16378081634486621, -0.22593628002449986, -0.1439454777421739, -0.16334798817865326, -0.0662084624242229, -0.04938504826508058, 0.005258882026957934, -0.04432237885459714, -0.0829484480761186, 0.0699738338284854, 0.026108370245884454, -0.016290107636319242, 0.0860800388307555, 0.0636589685049831, 0.12374636221346282, 0.12294715981722107, 0.26900068941319755, 0.22256704297888186, 0.2261947939710108], \"y\": [0.0718339736498331, 0.0772195813087901, 0.04781402195149944, -0.1515391139512485, -0.19386869096650272, -0.2076572613635782, 0.1104407749178952, 0.12376376696015572, 0.12570690853599256, -0.10218024065176701, -0.05400654960711594, 0.16849353043796944, 0.2023249947969218, 0.02380005705848928, -0.14408193594042878, 0.0237419156718206, -0.10924990108597132, -0.0025308275607759255, 0.0020937507902439095, -0.012118754952220845], \"topics\": [1, 2, 3, 4, 5, 6, 7, 8, 9, 10, 11, 12, 13, 14, 15, 16, 17, 18, 19, 20], \"cluster\": [1, 1, 1, 1, 1, 1, 1, 1, 1, 1, 1, 1, 1, 1, 1, 1, 1, 1, 1, 1], \"Freq\": [21.45031684339896, 9.2553839241908, 8.60093968155402, 7.830274767588405, 7.0454745904184035, 6.428731640562828, 6.3219076393127835, 4.621004568868868, 4.484522743880513, 3.986483676911822, 3.355800809728251, 3.106711614640004, 2.9016944338918442, 2.1561468108481776, 1.848263703379221, 1.7468502654003788, 1.719963512575586, 1.317732072391009, 1.040758181221627, 0.7810385192365048]}, \"tinfo\": {\"Term\": [\"would\", \"know\", \"file\", \"space\", \"people\", \"said\", \"windows\", \"like\", \"think\", \"jesus\", \"program\", \"anyone\", \"output\", \"drive\", \"game\", \"government\", \"year\", \"system\", \"entry\", \"available\", \"team\", \"information\", \"good\", \"thanks\", \"mail\", \"window\", \"israel\", \"chip\", \"christian\", \"could\", \"objective\", \"judas\", \"mouth\", \"glad\", \"assumption\", \"diet\", \"conclusions\", \"prophecy\", \"fallacy\", \"subjective\", \"arrogant\", \"husband\", \"responding\", \"blind\", \"decenso\", \"foods\", \"apologize\", \"chose\", \"ignoring\", \"pagan\", \"nasty\", \"theories\", \"arrogance\", \"balloon\", \"choosing\", \"implied\", \"yeast\", \"gospels\", \"aunt\", \"lopez\", \"imply\", \"doctor\", \"conclusion\", \"admit\", \"tend\", \"thinks\", \"evidence\", \"argument\", \"sense\", \"lack\", \"certainly\", \"quote\", \"think\", \"whether\", \"agree\", \"context\", \"merely\", \"mean\", \"point\", \"reason\", \"doubt\", \"believe\", \"wrong\", \"nothing\", \"people\", \"things\", \"claim\", \"question\", \"even\", \"course\", \"would\", \"something\", \"saying\", \"understand\", \"important\", \"really\", \"many\", \"time\", \"fact\", \"much\", \"know\", \"well\", \"make\", \"true\", \"like\", \"take\", \"could\", \"good\", \"might\", \"still\", \"made\", \"since\", \"want\", \"anything\", \"also\", \"find\", \"said\", \"guns\", \"firearms\", \"amendment\", \"constitution\", \"tobacco\", \"militia\", \"palestinian\", \"pitt\", \"surrender\", \"violent\", \"skepticism\", \"deaths\", \"firearm\", \"assault\", \"violence\", \"intellect\", \"handgun\", \"cyprus\", \"shameful\", \"cadre\", \"chastity\", \"messiah\", \"concealed\", \"rkba\", \"posters\", \"ciphertext\", \"zionist\", \"yalcin\", \"onur\", \"deaf\", \"crime\", \"politics\", \"crimes\", \"civil\", \"greek\", \"criminal\", \"weapon\", \"weapons\", \"freedom\", \"rights\", \"laws\", \"murder\", \"drugs\", \"gordon\", \"federal\", \"court\", \"state\", \"political\", \"country\", \"government\", \"arms\", \"states\", \"control\", \"society\", \"police\", \"people\", \"military\", \"right\", \"self\", \"would\", \"case\", \"public\", \"american\", \"well\", \"power\", \"many\", \"make\", \"even\", \"wondering\", \"easter\", \"thanx\", \"cure\", \"quicktime\", \"cleaning\", \"movies\", \"expos\", \"wrist\", \"nords\", \"twins\", \"profile\", \"intrinsics\", \"kitchen\", \"darkness\", \"scanned\", \"fixing\", \"homers\", \"rode\", \"targa\", \"scanner\", \"dunno\", \"nissan\", \"registers\", \"chicken\", \"paste\", \"royals\", \"majors\", \"fairing\", \"repost\", \"chipset\", \"preferably\", \"skip\", \"taste\", \"appreciated\", \"looking\", \"advance\", \"thanks\", \"wanna\", \"anyone\", \"anybody\", \"buying\", \"compound\", \"greatly\", \"please\", \"dealer\", \"bought\", \"know\", \"heard\", \"like\", \"appreciate\", \"help\", \"good\", \"would\", \"folks\", \"nice\", \"couple\", \"someone\", \"getting\", \"pretty\", \"friend\", \"could\", \"back\", \"stuff\", \"want\", \"really\", \"need\", \"post\", \"mail\", \"sure\", \"going\", \"much\", \"thing\", \"think\", \"little\", \"also\", \"well\", \"time\", \"right\", \"something\", \"around\", \"used\", \"work\", \"monitor\", \"drives\", \"controller\", \"floppy\", \"motherboard\", \"bios\", \"simms\", \"adapter\", \"ports\", \"voltage\", \"monitors\", \"sony\", \"stereo\", \"adaptec\", \"quadra\", \"connector\", \"macs\", \"settings\", \"slots\", \"vram\", \"eisa\", \"jumper\", \"centris\", \"ethernet\", \"pins\", \"socket\", \"jumpers\", \"simm\", \"novell\", \"powerbook\", \"modem\", \"disks\", \"scsi\", \"backup\", \"shipping\", \"card\", \"drive\", \"disk\", \"tape\", \"video\", \"upgrade\", \"apple\", \"port\", \"sale\", \"cards\", \"external\", \"board\", \"memory\", \"hardware\", \"model\", \"speed\", \"system\", \"hard\", \"offer\", \"computer\", \"software\", \"price\", \"data\", \"used\", \"power\", \"also\", \"using\", \"work\", \"need\", \"problem\", \"widget\", \"jpeg\", \"printf\", \"xterm\", \"font\", \"fonts\", \"uuencode\", \"xlib\", \"stderr\", \"menu\", \"gateway\", \"openwindows\", \"sunos\", \"colormap\", \"xview\", \"pixmap\", \"tiff\", \"cursor\", \"clients\", \"bugs\", \"apps\", \"bitmap\", \"stdin\", \"windows\", \"compiler\", \"anon\", \"argv\", \"allocation\", \"screens\", \"extensions\", \"window\", \"client\", \"mouse\", \"pixel\", \"display\", \"characters\", \"files\", \"application\", \"motif\", \"widgets\", \"screen\", \"default\", \"keyboard\", \"server\", \"version\", \"program\", \"color\", \"file\", \"image\", \"postscript\", \"manager\", \"programs\", \"code\", \"running\", \"using\", \"error\", \"format\", \"problem\", \"user\", \"directory\", \"software\", \"system\", \"work\", \"also\", \"help\", \"available\", \"used\", \"mailing\", \"anonymous\", \"filename\", \"candida\", \"anonymity\", \"monthly\", \"pitcher\", \"listserv\", \"handler\", \"zealand\", \"astros\", \"siggraph\", \"explorer\", \"wisc\", \"sensing\", \"consortium\", \"builder\", \"agrep\", \"gerard\", \"promo\", \"plotting\", \"mainstream\", \"xstuff\", \"outs\", \"nationwide\", \"boggs\", \"morgan\", \"winfield\", \"restraint\", \"penet\", \"visualization\", \"requests\", \"internet\", \"usenet\", \"addresses\", \"request\", \"archive\", \"winners\", \"curt\", \"interactive\", \"distributed\", \"comp\", \"list\", \"sites\", \"available\", \"newsgroups\", \"information\", \"mail\", \"send\", \"contact\", \"binaries\", \"berkeley\", \"users\", \"address\", \"graphics\", \"email\", \"subject\", \"site\", \"distribution\", \"includes\", \"based\", \"news\", \"systems\", \"include\", \"software\", \"info\", \"file\", \"also\", \"computer\", \"data\", \"name\", \"please\", \"group\", \"turkish\", \"russian\", \"stephanopoulos\", \"genocide\", \"russia\", \"myers\", \"cancer\", \"turks\", \"argic\", \"ottoman\", \"serdar\", \"coli\", \"rockefeller\", \"homicide\", \"hicnet\", \"senator\", \"istanbul\", \"yankees\", \"republicans\", \"bullock\", \"moscow\", \"clinical\", \"prevalence\", \"outbreak\", \"sdpa\", \"homicides\", \"stimulus\", \"ankara\", \"headquarters\", \"nagorno\", \"russians\", \"health\", \"jobs\", \"president\", \"armenian\", \"funds\", \"april\", \"senior\", \"percent\", \"washington\", \"armenians\", \"island\", \"secretary\", \"professor\", \"medical\", \"armenia\", \"azerbaijan\", \"press\", \"reported\", \"soviet\", \"turkey\", \"united\", \"national\", \"university\", \"million\", \"york\", \"administration\", \"among\", \"said\", \"states\", \"today\", \"years\", \"year\", \"people\", \"government\", \"american\", \"also\", \"season\", \"players\", \"teams\", \"detroit\", \"kings\", \"montreal\", \"puck\", \"rangers\", \"calgary\", \"scorer\", \"scoring\", \"pitching\", \"playoffs\", \"scored\", \"flyers\", \"leafs\", \"smokeless\", \"buffalo\", \"hartford\", \"pens\", \"playoff\", \"winnipeg\", \"devils\", \"lemieux\", \"jets\", \"hitter\", \"lindros\", \"tampa\", \"mets\", \"edmonton\", \"game\", \"team\", \"hockey\", \"baseball\", \"quebec\", \"games\", \"league\", \"score\", \"play\", \"philadelphia\", \"minnesota\", \"player\", \"boston\", \"played\", \"toronto\", \"pittsburgh\", \"fans\", \"chicago\", \"period\", \"year\", \"goal\", \"goals\", \"division\", \"smith\", \"last\", \"first\", \"second\", \"runs\", \"third\", \"power\", \"best\", \"points\", \"good\", \"jesus\", \"bible\", \"church\", \"christians\", \"christ\", \"christianity\", \"holy\", \"eternal\", \"religions\", \"catholic\", \"scripture\", \"biblical\", \"doctrine\", \"pope\", \"worship\", \"passages\", \"resurrection\", \"revelation\", \"marriage\", \"testament\", \"gospel\", \"islam\", \"followers\", \"luke\", \"prophet\", \"spiritual\", \"sins\", \"pray\", \"teachings\", \"verse\", \"christian\", \"heaven\", \"lord\", \"matthew\", \"faith\", \"religion\", \"divine\", \"spirit\", \"religious\", \"father\", \"hell\", \"belief\", \"love\", \"koresh\", \"beliefs\", \"john\", \"life\", \"death\", \"paul\", \"word\", \"book\", \"believe\", \"world\", \"also\", \"truth\", \"clipper\", \"escrow\", \"encryption\", \"encrypted\", \"wiretap\", \"phones\", \"compass\", \"classified\", \"decrypt\", \"patents\", \"denning\", \"vitamin\", \"telecommunications\", \"infrastructure\", \"neck\", \"revolver\", \"manufactured\", \"glutamate\", \"freeware\", \"entity\", \"escrowed\", \"cassette\", \"authorization\", \"crypto\", \"seeds\", \"discharge\", \"mwra\", \"loads\", \"dorothy\", \"partial\", \"secure\", \"keys\", \"privacy\", \"contracts\", \"enforcement\", \"agencies\", \"cellular\", \"scheme\", \"security\", \"cryptography\", \"chip\", \"secret\", \"communications\", \"proposal\", \"initiative\", \"algorithm\", \"private\", \"technology\", \"industry\", \"government\", \"public\", \"protect\", \"block\", \"administration\", \"phone\", \"system\", \"used\", \"data\", \"strong\", \"legal\", \"information\", \"number\", \"access\", \"would\", \"using\", \"satellite\", \"shuttle\", \"orbit\", \"lunar\", \"launch\", \"satellites\", \"spacecraft\", \"kent\", \"launched\", \"mars\", \"saturn\", \"missions\", \"planetary\", \"telescope\", \"astronomy\", \"propulsion\", \"orbital\", \"payload\", \"exhaust\", \"venus\", \"alomar\", \"tyre\", \"observatory\", \"astro\", \"exploration\", \"titan\", \"astronaut\", \"orbiter\", \"astronomical\", \"henry\", \"moon\", \"nasa\", \"flight\", \"solar\", \"space\", \"mission\", \"rocket\", \"rockets\", \"earth\", \"station\", \"star\", \"science\", \"surface\", \"program\", \"technology\", \"center\", \"research\", \"first\", \"year\", \"data\", \"cost\", \"israeli\", \"arab\", \"arabs\", \"nazis\", \"cubs\", \"braves\", \"israel\", \"espn\", \"occupied\", \"lebanon\", \"palestine\", \"azeris\", \"palestinians\", \"israelis\", \"henrik\", \"lebanese\", \"holocaust\", \"gaza\", \"syria\", \"financial\", \"cooper\", \"homeland\", \"arena\", \"inning\", \"fame\", \"forwards\", \"territories\", \"jays\", \"suck\", \"territory\", \"nazi\", \"jews\", \"ships\", \"germany\", \"german\", \"jewish\", \"land\", \"peace\", \"west\", \"french\", \"turkey\", \"world\", \"conflict\", \"insurance\", \"east\", \"countries\", \"years\", \"soldiers\", \"history\", \"canada\", \"killed\", \"american\", \"would\", \"apartment\", \"sumgait\", \"karina\", \"mamma\", \"weaver\", \"lyuda\", \"marina\", \"patent\", \"zionism\", \"shouting\", \"oilers\", \"canucks\", \"bedroom\", \"balcony\", \"neely\", \"microdistrict\", \"trees\", \"bone\", \"hong\", \"athens\", \"shagen\", \"cape\", \"canadiens\", \"moncton\", \"courtyard\", \"providence\", \"azerbaijanis\", \"witnessed\", \"apartments\", \"entryway\", \"azerbaijani\", \"igor\", \"crowd\", \"went\", \"floor\", \"beating\", \"door\", \"started\", \"came\", \"said\", \"woman\", \"neighbor\", \"building\", \"took\", \"afraid\", \"told\", \"burned\", \"home\", \"room\", \"city\", \"says\", \"women\", \"armenians\", \"happened\", \"father\", \"left\", \"later\", \"people\", \"fire\", \"know\", \"back\", \"three\", \"everything\", \"going\", \"come\", \"around\", \"sharks\", \"circuits\", \"temperature\", \"outlets\", \"conductor\", \"gfci\", \"cylinder\", \"ieee\", \"mounted\", \"twin\", \"insulation\", \"breaker\", \"goaltender\", \"tires\", \"summaries\", \"photography\", \"drain\", \"dealership\", \"hemisphere\", \"cooling\", \"drake\", \"carbs\", \"fluid\", \"premium\", \"medication\", \"scrolls\", \"kirlian\", \"exciting\", \"adcom\", \"rychel\", \"aluminum\", \"heat\", \"metal\", \"valve\", \"tower\", \"engine\", \"latin\", \"ford\", \"pain\", \"motor\", \"miles\", \"electric\", \"electrical\", \"snow\", \"water\", \"power\", \"weight\", \"hole\", \"ground\", \"fuel\", \"islanders\", \"front\", \"side\", \"cold\", \"back\", \"high\", \"usually\", \"edge\", \"inside\", \"pressure\", \"cars\", \"oname\", \"fprintf\", \"entry\", \"ioccc\", \"obfuscated\", \"crypt\", \"xvoid\", \"liar\", \"cview\", \"landon\", \"mkentry\", \"noll\", \"pointer\", \"larson\", \"whitespace\", \"bassel\", \"toad\", \"entries\", \"cryptosystem\", \"rname\", \"pname\", \"bname\", \"cols\", \"cryptosystems\", \"perror\", \"enhancement\", \"uuname\", \"symmetric\", \"xfile\", \"parse\", \"contest\", \"stream\", \"char\", \"output\", \"guidelines\", \"title\", \"null\", \"rules\", \"judges\", \"build\", \"file\", \"section\", \"define\", \"check\", \"author\", \"program\", \"line\", \"return\", \"input\", \"size\", \"info\", \"open\", \"name\", \"lines\", \"year\", \"number\", \"must\", \"read\", \"bike\", \"ride\", \"riding\", \"motorcycle\", \"bikes\", \"rider\", \"detector\", \"burst\", \"motorcycles\", \"phillies\", \"aspi\", \"brake\", \"riders\", \"detectors\", \"hulk\", \"passenger\", \"wolverine\", \"comics\", \"cage\", \"throttle\", \"wheels\", \"asynchronous\", \"jacket\", \"losses\", \"lyme\", \"capitalist\", \"pedal\", \"comic\", \"rides\", \"braking\", \"helmet\", \"gear\", \"steering\", \"rear\", \"radar\", \"tire\", \"road\", \"lane\", \"cars\", \"wheel\", \"driving\", \"cover\", \"chain\", \"highway\", \"speed\", \"copies\", \"left\", \"fast\", \"black\", \"vehicle\", \"front\", \"driver\", \"drive\", \"drivers\", \"turn\", \"hash\", \"ciphers\", \"cryptanalysis\", \"aerospace\", \"differential\", \"cryptology\", \"kidney\", \"wrap\", \"ctrl\", \"maxbyte\", \"encrypt\", \"hellman\", \"cryptologia\", \"contests\", \"ssto\", \"fips\", \"coding\", \"yorn\", \"amongst\", \"bethesda\", \"diarrhea\", \"hawk\", \"execution\", \"fitting\", \"charlie\", \"journals\", \"inkjet\", \"padded\", \"saab\", \"brightness\", \"coprocessor\", \"substitution\", \"mathematical\", \"verify\", \"icon\", \"sequence\", \"polygon\", \"math\", \"bell\", \"random\", \"byte\", \"theory\", \"cipher\", \"designated\", \"echo\", \"bits\", \"ripem\", \"algorithm\", \"navy\", \"proceedings\", \"current\", \"part\", \"parts\", \"analysis\", \"test\", \"push\", \"data\", \"points\", \"type\", \"number\", \"company\", \"length\", \"available\", \"nrhj\", \"wwiz\", \"bxom\", \"gizw\", \"tbxn\", \"bhjn\", \"bxlt\", \"wmbxn\", \"nriz\", \"pnei\", \"mbxn\", \"tbxom\", \"rchz\", \"pmfq\", \"jpwu\", \"gizwt\", \"plugs\", \"wwhj\", \"filters\", \"eqtm\", \"chzd\", \"nrizwt\", \"nkjz\", \"rlhz\", \"bronx\", \"methanol\", \"viola\", \"chzv\", \"fijh\", \"adjustable\", \"libxmu\", \"symbol\", \"radius\", \"part\", \"sleeve\", \"sabbath\", \"obfuscate\", \"unto\", \"reuss\", \"thou\", \"ingr\", \"vpic\", \"ceremonial\", \"prog\", \"miracles\", \"iniquity\", \"gentiles\", \"dtmedin\", \"catbyte\", \"prisoners\", \"affair\", \"psalm\", \"huntsville\", \"investigating\", \"dies\", \"flaws\", \"intergraph\", \"stroke\", \"serpent\", \"representing\", \"corinthians\", \"gentile\", \"loans\", \"absolutes\", \"disciples\", \"kingdom\", \"satan\", \"picture\", \"translations\", \"colorado\", \"rolling\", \"cross\", \"corp\", \"rose\", \"david\", \"angels\", \"everywhere\", \"insert\", \"dave\", \"wiring\", \"nubus\", \"maine\", \"bandwidth\", \"grounding\", \"grounded\", \"accelerators\", \"dram\", \"seagate\", \"technician\", \"powerpc\", \"fleet\", \"burnt\", \"riley\", \"speedstar\", \"unclear\", \"chrysler\", \"boom\", \"clubbing\", \"toner\", \"transformer\", \"conduit\", \"panicking\", \"maria\", \"kryptonite\", \"convertible\", \"connects\", \"barrasso\", \"snapped\", \"shells\", \"wire\", \"prong\", \"sheath\", \"printing\", \"lock\", \"switches\", \"vesa\", \"neutral\", \"ground\", \"circuit\", \"wires\", \"cable\", \"laser\", \"panel\", \"main\", \"current\", \"subject\"], \"Freq\": [5926.0, 3359.0, 1569.0, 1201.0, 3986.0, 1696.0, 1132.0, 3831.0, 2955.0, 857.0, 1391.0, 1533.0, 648.0, 1008.0, 786.0, 1148.0, 1396.0, 1880.0, 506.0, 1331.0, 720.0, 1410.0, 2388.0, 1186.0, 1121.0, 752.0, 517.0, 636.0, 544.0, 2429.0, 219.6263453226075, 137.79147005441078, 91.99262408574326, 90.12130795679538, 86.53263138967502, 79.1133896179352, 72.47232073962674, 66.61219706610815, 60.51305245780752, 57.690928924252475, 54.743777129409004, 56.8789338322474, 51.38733678669225, 56.06565691886151, 50.164061852203716, 48.08626516566668, 47.78780050959446, 47.498451690225785, 45.85070905793119, 45.70761009615327, 44.50523779311183, 44.35963778915134, 44.28838938723788, 43.647532354471, 42.500227694145245, 41.79473705398588, 41.77192659536733, 39.61013185564769, 38.71365281072727, 38.64473255415895, 76.32071220437936, 195.6817311463194, 172.304838640573, 131.64327043996448, 131.36707668513887, 88.44135285510298, 460.8861152903398, 344.08287850343174, 314.47278075883145, 166.1211772885775, 387.7721684251177, 158.59159156280944, 2215.021686932479, 486.94407732011274, 378.8126304625949, 192.67641447058662, 120.95755430056118, 591.917545556423, 908.8115020828513, 529.7964511573666, 218.3267573012613, 921.0196881529046, 488.82114077841453, 527.4171521961829, 2409.134897969798, 834.5332082948986, 320.45369970210186, 738.6499641823549, 1400.9325638240286, 627.3712225357896, 3090.8311176469456, 987.691856573755, 384.90448955588454, 356.95186436215323, 386.97836923476024, 876.6011789906145, 1130.891074669536, 1440.6252896913002, 623.5320065273396, 1068.7945435453119, 1541.9748879111369, 1182.721683175593, 1011.8884470237111, 595.3146703135708, 1580.1482202190723, 732.4797172401586, 1076.944399656275, 1013.574584677831, 669.7273705257516, 697.806580052308, 639.3060169721751, 692.864639938765, 715.0847691347872, 584.253613026026, 853.2025372551136, 642.4917544787271, 655.2210158449802, 344.96584271483135, 189.51603693526081, 176.6887502263055, 159.36525459615245, 145.24778317853043, 141.90799069243442, 121.29712944955565, 111.3594226672127, 99.11891563518361, 83.80150164421524, 83.6524374830615, 82.34043825593652, 80.43570151877807, 79.73022822373095, 79.08609282704694, 76.47758062292893, 75.57359520991142, 74.35155000182526, 73.37779928921005, 72.66654308879804, 71.24416960118117, 56.93234831687009, 55.78162732326204, 54.45196553909289, 52.80502084482848, 51.40077810321328, 50.28693084870677, 45.94505964560138, 45.94505964560138, 45.6420127667736, 285.35503682156957, 123.80275327156784, 94.09616391963266, 160.6254134723374, 285.6339128023509, 153.803272679994, 134.85076759410143, 240.31857244949006, 196.83680411225117, 369.1393955470341, 265.41049592905216, 134.85116889892214, 157.26804589306843, 107.23840288376304, 222.08212893199067, 229.80772006425732, 534.5057521419899, 211.87188472705992, 273.3635137061136, 592.0251219476654, 166.13276648354537, 339.0838870883055, 376.0151259677411, 211.7476242907853, 230.36767405740017, 854.7714477809293, 213.44781904779575, 450.0168873689948, 193.99620395349797, 489.7875945217918, 278.5267426886422, 252.38311246257808, 216.71112695101417, 261.59229664735193, 222.7745546754316, 220.19365018500395, 210.26761211206272, 209.91833285991746, 169.77752476496144, 69.13610468411521, 55.58922479085271, 51.41696033349725, 38.786777503479584, 38.75680694279618, 35.55868491625534, 35.359564881034515, 33.996230682576915, 32.99871087974962, 32.43438365336636, 31.871901946074395, 30.77998814475106, 28.12282075371833, 27.551728217712828, 27.212908124645896, 26.150498723095595, 26.112024909293353, 25.96611893491744, 25.385452170983644, 59.79144307491018, 25.14352422077856, 25.13999096013486, 24.979550327630598, 24.216944546233947, 23.967328526860978, 23.745371388169747, 23.736131839869408, 23.684670065933727, 23.506068282475344, 42.71201014630365, 46.04510368566135, 45.955022273228394, 45.731241130564804, 230.60696236256257, 525.2268158192876, 267.96367294033905, 863.6929134625946, 30.23753462262345, 1042.495676818703, 283.81333513829867, 121.44516790934013, 76.66850001362964, 126.60019040736128, 756.7625810853519, 95.9571244795443, 169.92164737503413, 1471.8552152951397, 348.86159112950384, 1539.474575811049, 134.96939955406515, 547.8566282904189, 954.2599747225422, 1894.5181777826426, 132.83463120373918, 219.39710728107454, 214.95179683982047, 434.36779917646186, 307.8560885004569, 254.89085717780023, 171.86596389250332, 814.341093773396, 522.474678302685, 259.72707342450616, 577.5465362000941, 481.2649063532843, 513.328706426322, 318.2677804806468, 401.9913892063637, 391.74632943179523, 428.5493460330823, 545.7559112016687, 348.8551270315468, 596.1036609654618, 341.2004875773529, 537.8703619287357, 475.6966023261137, 504.05586228413864, 361.2568623286596, 347.44469145659195, 320.98564680334675, 329.23230583256844, 321.24356048692425, 346.4540451372336, 303.8004001361387, 285.5091932035991, 226.982408050861, 157.93342311244834, 157.1923959076145, 134.8037321406212, 102.51414331716755, 102.48413555448502, 98.81853107958811, 98.35696694340369, 98.1469474265148, 85.94292005506621, 84.30111152500774, 79.87939326194982, 77.92491028678883, 77.59785440160753, 75.73179290760886, 72.87522713912897, 72.68240528257641, 71.08162999574513, 67.99599713719695, 65.96782669257665, 64.71511359535167, 63.110264147529556, 58.03836898754462, 53.42802055279971, 51.306832137694116, 51.19102324098228, 50.34607881446544, 263.75634230439846, 200.28472706394527, 550.7879833086855, 100.75015348474493, 269.51151256662484, 688.108450052148, 937.5765704741174, 612.0368303316365, 297.69622749330813, 417.42154203966595, 126.01050007269801, 348.67171194802506, 226.24756173129106, 282.1733955430995, 223.28225155679178, 135.8513312545435, 280.1398842912829, 370.90830852658246, 309.5633530905142, 236.97421823711701, 296.629389285818, 740.0677921533194, 405.7782863656231, 237.5966943214952, 367.41845882998484, 432.9750520739167, 303.5014193988109, 434.12243331022574, 422.50195115146505, 311.89697679104495, 416.07215902636665, 289.8462420440141, 279.86223196085166, 275.92688842975565, 248.93135841689852, 355.7455186091505, 242.89575658691805, 217.36063939068447, 181.1095866120373, 163.1701163825323, 155.49961770598912, 131.28540289913138, 126.67367281641428, 89.42565730003348, 88.53150991841393, 87.91757080544211, 83.05737941722906, 78.35450508007466, 75.86657868551175, 74.50013550073386, 71.91481415432554, 70.1957862045953, 69.06044649892685, 107.87610246026742, 63.779394400952015, 63.77398574611453, 62.139835687505155, 61.691669299592085, 1116.7756043435522, 57.25990133836832, 56.42514733155719, 56.00000591235488, 55.77029669908332, 54.05556904117896, 52.53187146897558, 716.3252858623841, 158.72361463456082, 271.71537244954334, 88.49941047232558, 444.9595138222637, 99.8115513595255, 640.7662289566256, 340.2036529799564, 334.084110556043, 113.04430127139065, 308.4310604021945, 122.54844751567549, 243.43024604599182, 384.2860149837543, 511.30504274844463, 723.4847312786569, 328.956345454219, 756.3342610559782, 370.4985430922575, 139.7657820365966, 193.29578335347352, 315.89263852576835, 353.77252278716, 309.6033403196132, 585.8817218770885, 233.54211272358526, 211.13762364250874, 409.3768156890373, 226.97938175411826, 190.9984405662253, 247.0537236359851, 272.5851750096786, 261.1502995639725, 274.97723387845446, 232.87051523514825, 230.78087106002266, 230.7391684121519, 162.37320222198613, 383.5518286427911, 144.19861965234404, 78.9093427854501, 78.23903538990542, 65.80655390954628, 64.9141377266268, 55.94945798278319, 47.316100996113605, 41.4587036041039, 40.70435494918394, 39.92131354980149, 39.85902502869287, 38.73373983252033, 37.05120644575511, 37.00297661896901, 36.93438777297717, 36.08576653131909, 35.84279484169345, 33.69923348412039, 33.37150938103451, 32.911381967158356, 31.854070951135387, 31.111951287565606, 29.477506568861102, 29.217158061456303, 28.904416438275632, 28.459189310616487, 28.294524977203842, 28.017232062292646, 55.90049913371904, 133.61211549457474, 344.69171065419016, 170.9401431349435, 90.84952695709548, 295.64640812460124, 211.35665221437782, 83.42076850208235, 49.857962245835886, 66.66091084118597, 112.1268640784427, 250.40671624279318, 580.9773511387632, 162.39225686309635, 775.9269424438731, 100.58945756813469, 802.0113595519822, 598.5873845741164, 441.0902693006022, 272.758853767559, 82.01497054260395, 101.11546858356898, 214.64628662396328, 294.02852186043236, 286.94739982288365, 325.9192726383411, 329.54177004334485, 160.8072480742115, 134.55252564413155, 194.4391899431583, 304.81296271396553, 236.30895490291567, 230.21069784170345, 217.7713192388119, 290.25009945525585, 242.49753925383192, 322.3454053076486, 423.06080504795256, 230.82512067654264, 256.0018621648341, 228.54222314926074, 224.29443904801963, 199.8894462610783, 436.8498289976717, 315.5662232751759, 238.2370567882219, 183.3307317263711, 178.66947785980034, 151.73499150460904, 105.92751282211083, 203.7198446817284, 90.36099325869122, 87.62946694891255, 86.59099706381186, 70.11226080170698, 69.06414779620535, 62.007386789045235, 60.981251944982176, 57.97384594102188, 56.766832304307215, 56.21302761854114, 55.85158631634147, 54.964095927838756, 51.61854462938206, 50.9553657321589, 48.78597641079595, 47.75666116441407, 46.150283881386606, 45.11187373864991, 40.82404830390255, 40.79266247726234, 40.44622705119678, 40.124707705175894, 74.46289654655851, 386.75573027047625, 215.3060397864218, 528.8541378916259, 527.4015971958983, 99.14626251217823, 361.21914494774956, 93.48562432358953, 104.42013566474468, 249.81785399461506, 327.88743219841734, 112.12170654932632, 114.36674727479674, 90.94276439932268, 204.88829286535275, 149.59097160240583, 122.87483304486422, 206.90148401890949, 141.46335332034363, 130.8555132255402, 160.7561025256276, 185.75070512214677, 244.98566668187033, 238.6187612945877, 170.32799597164515, 157.13464693319233, 163.57404440780383, 191.32271375661318, 334.15309887851697, 192.69899508182323, 185.30303098889826, 236.41310132976335, 230.81480605513696, 289.3283609982776, 197.14776293092973, 165.9906160030882, 172.41248436525078, 406.8873116192765, 349.5582507794189, 249.7318824880383, 165.4047211474613, 150.79452753017497, 136.05871179347875, 123.83146477092349, 120.18664573346975, 114.68782669748168, 109.42054445511233, 106.3923280175103, 99.76005345752885, 99.39066729747772, 93.42513732513797, 87.78287932407859, 86.03724458665637, 84.36740336827773, 82.4574765583621, 80.89037503996543, 78.22558526386574, 76.29837077065982, 73.4261185200791, 71.79161815559465, 69.23224471632513, 69.19519307534753, 56.49904654197351, 56.40035519100575, 55.27341401542607, 54.49402976771315, 52.16116864828584, 737.6597433732114, 668.637118880842, 319.86580960979563, 176.99579169993126, 86.35559997163396, 498.6173517821859, 311.20470596885235, 101.18822673475582, 495.9168358397858, 135.08707720508053, 117.93381143205518, 219.25537680934184, 156.27273492118215, 157.79637320016252, 160.2831486446103, 172.31108126570044, 116.6583554426402, 175.08840281439763, 315.3881506501459, 558.4909130024347, 165.9092235246104, 125.96911635038609, 158.06562950959616, 140.89683821535144, 283.26854957155797, 317.14157897317034, 228.78547808867637, 167.36054637120023, 161.23588751260982, 177.06695633260202, 162.00439567547116, 146.5350786923891, 146.92299067292905, 856.544456077652, 492.93888024120866, 429.5768624098073, 394.9089830648383, 354.63515256859426, 224.75955677895436, 175.97901878718784, 130.32396538586096, 125.59600696109013, 125.50309229640453, 120.55576033406308, 101.83264770643709, 96.1398944349551, 88.34744723471368, 87.9895891657894, 84.94132406057462, 80.32634300765265, 76.86868200947113, 71.82163978854162, 74.62315952161163, 70.81057208268972, 177.4921577341056, 67.19179617844924, 63.76940446219441, 63.18781031375918, 62.12665065490793, 59.69749257305295, 58.84897068701645, 58.37177839941596, 56.824676440272476, 536.3242651082567, 142.88913318406205, 180.94786929926008, 168.4779195878891, 324.51678124710685, 343.96546187872326, 79.2712510214201, 149.6536957024919, 199.65522691827874, 184.55534746631568, 198.77805185677818, 142.15586716320783, 202.54501458564764, 126.34084992181342, 120.16631247572862, 192.02300217265935, 218.22013133921857, 159.26265550906237, 146.70949342628106, 183.85913563026202, 178.08813580653836, 213.04309533999182, 189.58612114512945, 184.94178392427077, 138.47717236863724, 372.9539664512901, 183.0699547640702, 495.54526138033094, 139.33804329839543, 94.19417602903614, 91.67543812737962, 82.92457236554625, 65.8654127416608, 53.87612725658216, 51.22043436654083, 49.71079603012267, 45.74647187748657, 44.68538871758249, 42.37348161243592, 39.118149160292674, 38.93933339506263, 37.659461749296725, 37.642380602238866, 36.690157622416585, 35.44792521935668, 34.76794797896094, 31.755842374090278, 29.83810910804212, 134.764532933226, 27.885234063316794, 26.93410358550535, 26.850729948276754, 26.642556238544557, 25.542408929660713, 25.329178243075113, 211.587740843576, 366.94168633855963, 277.9334156963777, 39.18351756661246, 173.06206904153328, 145.66766754491866, 61.629181901946346, 96.24136081124053, 343.03350529512085, 134.2154010908624, 434.08280902461445, 188.46561167289136, 146.9210709472415, 104.38838542108853, 55.39025526657832, 172.28062650789175, 208.9305100298115, 246.50614385605363, 101.20662068041739, 358.44702891848056, 290.3562050929449, 124.78565945475779, 114.17884329921321, 143.44156949223378, 170.62690200363468, 301.4529053550281, 237.90371654187516, 188.692089777369, 127.41337276997393, 122.02414234356945, 159.1355182159166, 152.40485487425119, 128.7586349823438, 153.26534757367477, 138.1965050106913, 203.05909926735413, 177.6067690153228, 170.4639209355149, 154.84324060236372, 240.1749872383213, 104.51929187128967, 100.85913253547334, 88.95064987935048, 84.88232459821776, 80.58880328356373, 76.98372668861732, 76.16468617770063, 73.33440929570048, 73.32471646443659, 69.5221120563896, 61.17669253375716, 60.96732663228077, 57.63184729674926, 56.756000377509245, 49.12444034231716, 47.235468703084706, 46.35587970926514, 45.81642029781806, 44.826781479598594, 43.731760170278356, 41.89501341635458, 40.113517292987744, 39.71588735825226, 38.86113857634762, 38.279669434326486, 148.34141773288545, 402.30464025730373, 148.03864920219755, 114.16527071985469, 1057.2118354742586, 152.42609173865188, 107.57643622191743, 57.52545746752637, 209.83132153586305, 110.5068723603111, 78.43837516929584, 124.17091404859734, 79.30876007738483, 151.05033648734448, 107.4951552281087, 105.32851270095672, 94.16211738498498, 103.48608381384784, 96.31618684002022, 94.26017988573173, 82.67573924908302, 317.431018825941, 209.96566064799748, 99.33014807659642, 87.89700118111762, 87.43958743676475, 84.08604201870473, 512.0409486018781, 73.21767841313391, 72.1701639122026, 71.96717516510508, 70.114074762897, 67.03836522737099, 66.80019452727136, 65.261852752305, 132.02002650201658, 60.416787329835955, 56.39399730372577, 55.175294589890015, 52.949336637266356, 50.89825571806612, 49.07774680501257, 47.83317053826705, 46.026249471582084, 37.78650551910501, 35.49916393514876, 35.00413320177702, 34.07841540305601, 33.713698817025474, 33.356480760345775, 66.30414487811956, 142.28490874174818, 431.48465189819495, 53.913593630135985, 130.0674108406393, 124.47100037591032, 206.53599704023972, 139.97963078611116, 120.53331572207311, 96.43469337744142, 66.7738685066762, 101.00698641071055, 174.9067788562895, 74.26536561165506, 76.65208775066044, 79.92034128305046, 79.20577391952278, 107.5914066948157, 74.18528228529462, 80.00928054181787, 73.64449014456719, 75.33862586927967, 74.41223454995828, 76.1963733505916, 150.8947978298314, 107.30389772972383, 106.88667660889003, 77.4584350419193, 63.99301613490021, 49.85661094964355, 43.33432507959203, 41.614963066853846, 41.49727464414343, 41.34612271964372, 37.349426336172954, 30.980337687076787, 30.70646797523835, 30.53575346760452, 30.269600394759625, 30.267022805062368, 30.003860252429433, 29.55471444117754, 29.33405469738235, 28.676866105171275, 28.56423608126599, 28.227491246524508, 27.20738512218291, 26.54586721160673, 26.053979866063283, 25.472422078436043, 68.93567180716596, 25.01008345984131, 24.800503480520746, 24.689179994572143, 102.05932533081621, 43.117249443623685, 66.50826622851513, 328.5756755201399, 91.07039911738343, 50.12585777532909, 106.79940632542295, 183.91238627955622, 210.02176335498282, 453.2099766102414, 99.69675629501326, 53.09446363583409, 130.29751405848728, 163.78619170509697, 70.70890512197484, 189.15686189787448, 57.90796238554743, 178.44445073238995, 106.03284598914918, 124.32798407266235, 165.17036059854345, 117.8930168763726, 139.94043519088726, 102.17372643950722, 94.13099492809779, 132.9556768224257, 114.80491602215534, 221.0320264623551, 90.18070161121693, 164.1376471894248, 130.14798159584993, 109.79862388635007, 99.42004123384694, 107.71063428670772, 103.78106492003359, 99.80228584967742, 69.02310362682007, 65.18859782621675, 64.62020203097323, 56.82277076857922, 44.75803940727797, 44.06573057675299, 44.053764046687895, 42.95112692742833, 40.63015226019885, 33.55563892736852, 32.889633929857226, 32.43766010289729, 32.19803944748117, 65.75722374703845, 26.978026646353914, 26.533776409111468, 26.268889882924892, 25.96510014831955, 25.275248387769878, 38.100410545018775, 24.91887975283444, 24.26851130893185, 24.100227185608528, 23.399988611202275, 21.79493941195798, 21.681269362046745, 20.761387908979685, 20.702466172401138, 20.675910639536323, 20.57624948419649, 45.663602734527956, 88.8139944412414, 69.14315726438421, 34.38347494344847, 50.806497098410766, 187.5774107234827, 34.94836132362482, 60.85632081145524, 152.56506969484235, 65.18434050302052, 120.48414498952073, 41.90340831854363, 66.89848840345125, 44.34492084590801, 97.61064055263685, 169.78676664027523, 62.41915155567019, 55.72236299085822, 89.44978347091003, 53.3226661987614, 47.63019359993375, 74.89688641555232, 85.28838428650919, 52.685630655544315, 91.4491816140544, 76.09506400401752, 65.4647485200267, 49.79319185202899, 51.29820354472748, 47.802543275138156, 48.014455372657146, 166.56748841950244, 120.27491638261473, 501.44964322317804, 74.95196860778093, 73.94566945544081, 69.30116693877514, 58.811618166665106, 46.50293894454917, 43.83833802401186, 42.57231456459998, 41.28414397567751, 40.12331218948011, 39.3662083136298, 38.80616416315198, 37.90427584257022, 35.225319768316, 34.28753328921226, 172.94750559529956, 27.88254357074098, 26.97465510002275, 26.97465510002275, 26.97465510002275, 26.013576942221444, 25.21568848421062, 23.39488127992002, 22.714945088393367, 22.076660624012703, 21.92847746410121, 21.922127990155424, 21.224074222000937, 130.44484208858515, 173.34683613534116, 160.78894930765978, 497.7708114449832, 66.44194744983868, 153.55487240531397, 115.59650890798613, 178.68432311523435, 64.77967571929092, 190.72700253078648, 479.38556236599254, 169.38004646689816, 103.10214969729763, 170.74472718944438, 106.0198254434541, 248.55863590218257, 194.84862895028544, 120.67724699772457, 107.72379410775845, 122.78508330189975, 146.61480285965527, 131.72181376715017, 135.4525262955661, 91.89941732639788, 122.89418740177855, 118.44357192835844, 111.31719361127041, 98.96890106917814, 293.160631045978, 123.29356532939644, 99.69033870855532, 94.44927808385489, 89.37659730550841, 88.68758775106706, 65.98827541682579, 57.16341581181117, 55.8783260644975, 53.8966370460233, 52.54603646852265, 47.06118047043695, 39.363444292750586, 38.140715293607904, 35.169589786526444, 32.74860221573889, 31.760973819830074, 31.55767700395367, 30.957256223346626, 30.61593065960324, 30.17399279689547, 28.985176702908873, 28.606677452440447, 28.261893013191223, 28.102363304782322, 25.90881087871007, 25.567945592055334, 25.515442930390602, 25.088160134817628, 22.69559127558367, 75.84616771334215, 57.8626835248274, 44.13729842520563, 70.93136391849977, 96.78996381050125, 45.117486645896655, 139.84010328909687, 41.368252038917944, 127.25411567250065, 51.948779364613536, 92.88446027668259, 111.10416177444797, 59.04909918640231, 43.9256564167135, 121.91330892428536, 64.2136528253211, 91.02533702641367, 73.87758785245607, 65.4426858726906, 51.948064672762804, 58.50034402347178, 60.29016935358382, 64.79938940733204, 57.094145081018176, 55.25570905247201, 52.97628066587185, 43.225726783577535, 41.997597497718345, 41.60413444334529, 40.99163972113866, 46.61421613626699, 38.12826877212333, 37.756390693536915, 36.18890612038997, 35.40883718059948, 33.43851209726289, 32.98704802538801, 31.96900319778535, 28.397219386021764, 28.12945324858344, 27.097537282217818, 26.534650907533596, 26.474974798005817, 25.891203314751277, 25.73193763010441, 24.220777070227815, 22.617369804387046, 22.304492826783708, 21.490373243492783, 19.19950132625588, 18.915712818856868, 18.46538077264338, 18.13215410401227, 18.051329001553917, 17.233886005088188, 30.910863245068025, 33.33578459290338, 36.222935729629796, 32.59363468835819, 51.96979512057165, 58.97558451275764, 38.08795565558062, 67.09180311730712, 60.387759754456034, 79.37704276806976, 68.35687238919097, 83.3613830062147, 43.83209097492201, 31.872268545491345, 48.53165343963308, 73.15602634122664, 65.16680112894706, 71.13737982467526, 45.69124807878195, 39.400807118725695, 73.06348324340856, 80.95705993612329, 56.843299447211876, 50.136609591936214, 51.477689032806516, 41.68908226088125, 59.397145514881316, 48.39384843741477, 51.26792773728103, 57.5828908207859, 47.6258569876197, 42.408805819215786, 43.08081985009845, 126.87309282158296, 86.47035260409358, 76.00783929657317, 74.57812991947151, 59.760281465408916, 58.83181275464762, 56.84529171408271, 52.18110183767008, 50.18768350050983, 49.82784034440652, 47.4805443973911, 38.928919200522444, 36.77358433525887, 36.650810111835746, 34.096727118424276, 29.691601928957436, 29.654525297216797, 29.355242983649227, 27.674057703876176, 27.245364643186054, 27.133967736109454, 25.592483477733737, 24.18957364324435, 24.10330469521688, 22.405976401173636, 21.81913190419201, 20.782583083187557, 20.496255908488425, 19.977227014607568, 19.379783124918358, 39.130678311082626, 31.88955118745918, 25.00071066602256, 29.33092664361323, 63.19695988819432, 61.162592017807505, 41.667995978611664, 35.43296619413259, 34.037165619795324, 33.312490391823715, 31.031769924354727, 30.65386142106962, 30.652597884537347, 65.76384592435953, 29.4023678267317, 28.817417523202828, 27.36827997085112, 26.998422463162697, 26.998422463162697, 25.549090520575255, 25.080103249340024, 24.9800223621398, 21.628200124925225, 20.00566648229816, 19.990131462625694, 19.70912649185434, 19.62799633846878, 18.865145413785292, 18.587932209695502, 17.219411065106343, 16.91055390764231, 16.885623359909335, 16.836718016435746, 16.651436351746895, 40.1373672624366, 49.33290479708787, 51.633740025616454, 80.20579078793263, 21.95665482657163, 47.0815048568422, 20.69747587541377, 33.563381075242496, 26.642327321330395, 25.187994458511728, 31.86893461624096, 23.20512842974724, 23.188228050085687, 22.427224989726415, 23.223873202478803, 88.15653658993165, 60.203447593632504, 43.28675575855508, 41.98735699539486, 39.14292806746118, 36.34801165568293, 30.362037022757043, 29.74197221064998, 27.77510096558223, 27.608182481619956, 27.367509278309885, 25.17324863337202, 23.16436729480023, 21.55273576227645, 21.0715942829417, 20.867649953857217, 19.438976807056907, 17.92200952367789, 17.82182786787491, 17.33899487009977, 16.35122451447842, 13.925214554840263, 13.808004830959268, 13.539705519240124, 13.360446244685056, 13.21727067074099, 12.729518549780646, 12.415698462291301, 12.411186588668999, 12.395865669078562, 103.85252173943691, 19.260299317591706, 15.417086060783143, 43.06978986348907, 65.08462102426277, 31.617039505208815, 43.92667073059398, 55.41240048844603, 80.44337922227508, 43.62786938178273, 29.221290185267275, 39.04335424682671, 26.6550691506355, 27.685733565763112, 24.612520690415536, 24.286899917297422, 21.092750420149894], \"Total\": [5926.0, 3359.0, 1569.0, 1201.0, 3986.0, 1696.0, 1132.0, 3831.0, 2955.0, 857.0, 1391.0, 1533.0, 648.0, 1008.0, 786.0, 1148.0, 1396.0, 1880.0, 506.0, 1331.0, 720.0, 1410.0, 2388.0, 1186.0, 1121.0, 752.0, 517.0, 636.0, 544.0, 2429.0, 220.4728433394748, 138.63658364249036, 92.84095537739591, 90.96643914112668, 87.37776338449775, 79.9585033021374, 73.3174343786098, 67.45731068429032, 61.35816603649834, 58.5360426865248, 55.588890708099825, 57.80136604489044, 52.23245232578873, 57.003652805128596, 51.009175435763446, 48.93252079174789, 48.632914209474336, 48.34356798936697, 46.695859056800636, 46.552723679713, 45.35037892346847, 45.204751483840425, 45.1335029659287, 44.492645984445495, 43.34534346521381, 42.63985519343529, 42.617068364478726, 40.45524544422451, 39.55876641462137, 39.48984628334004, 78.09383466307406, 202.52819724383366, 178.26186481022222, 135.84616878823476, 136.05897982591685, 91.34761711433426, 517.226213399954, 382.1679581543866, 352.04923656765936, 180.66503998039101, 442.68836365431764, 173.33288093182404, 2955.319643993125, 597.2772529525189, 455.48135338384566, 219.60782161551475, 132.42014990688725, 755.1777386426699, 1257.9164632772656, 692.1053180455722, 258.13738394870416, 1302.8833331520145, 641.6608083284693, 704.3819331537494, 3986.060630010171, 1201.4258378840198, 400.18785948968764, 1050.4846368033627, 2219.8215738818053, 892.3446132635731, 5926.175513211026, 1544.2498175033495, 506.5317351560434, 462.043749667155, 510.57824276686887, 1416.6539105101135, 2069.3488991493377, 2872.4279704003497, 968.835200014001, 2016.553589955003, 3359.982426589114, 2408.042736518705, 1968.4127243787016, 936.752501687223, 3831.0282520964374, 1295.8370453922273, 2429.6184526202005, 2388.0989242688834, 1186.9605505186025, 1358.1683367559667, 1144.177943996313, 1460.502574972028, 1706.2968277695074, 945.4400927210304, 3253.426750863281, 1294.9925562131925, 1696.1727669356958, 345.81172148160783, 190.36191937912832, 177.5346337464473, 160.21113689183483, 146.09448832878562, 142.7538692856101, 122.14300785062846, 112.20530108281817, 99.9647940270612, 84.64738003609283, 84.4983158749391, 83.18680338232318, 81.28157991065567, 80.576141162653, 79.93197124422662, 77.32345901480652, 76.41947367098501, 75.19742843139477, 74.22367768108764, 73.51242148067563, 72.09004799305876, 57.778327175958836, 56.627595026335236, 55.29784393097042, 53.650899249752904, 52.24665656021401, 51.1328092473303, 46.79093804085191, 46.79093804085191, 46.48789115865113, 291.97992164813104, 127.23367033836587, 96.82186074958709, 171.7419694814445, 315.06516524572186, 164.49856474905133, 144.20850392485497, 269.3529188980254, 217.3531696328304, 428.6414080595165, 306.4513402681109, 146.20839228865927, 176.1792626237345, 116.39125919721869, 285.43343595052215, 299.30458282254915, 865.0529264437417, 275.6861170828071, 394.6277449483657, 1148.369659828826, 211.95718771921267, 565.6541418019698, 698.8835739479038, 313.71703848549424, 359.2756323477446, 3986.060630010171, 362.0157769447909, 1751.7580530343191, 340.39081819130575, 5926.175513211026, 1081.322949276119, 824.8255548125243, 541.724014347933, 2408.042736518705, 1027.5983539044473, 2069.3488991493377, 1968.4127243787016, 2219.8215738818053, 170.79326803896447, 69.98269897803974, 56.43619501876314, 52.26355463683129, 39.63337180105867, 39.60340126984177, 36.405279212735444, 36.20615917623802, 34.84282663370559, 33.845305174671644, 33.28097794355278, 32.718496263758475, 31.626582504812987, 28.96941505617122, 28.398322571056653, 28.059502441812608, 26.997093208770476, 26.958619201064966, 26.812802087328365, 26.232046468562736, 61.795357937167275, 25.99011853314875, 25.986585267797377, 25.82614462264934, 25.063538838962167, 24.81392288337236, 24.591965686746253, 24.582726118233847, 24.531264359479202, 24.352662576555268, 44.60205157133262, 48.163112654666286, 48.34220339761527, 48.31331205099868, 273.8787638672959, 658.765940051198, 330.850432986042, 1186.3613559267214, 31.704561049601896, 1533.2788918393107, 406.11387917178837, 155.5611821369703, 94.57542443217496, 170.79897409989684, 1406.4551727645007, 123.64290991272138, 247.3068321390847, 3359.982426589114, 600.7387990154328, 3831.0282520964374, 195.418538069597, 1128.546165041705, 2388.0989242688834, 5926.175513211026, 198.29870795865477, 385.22938107736115, 378.471003102426, 969.0322535007563, 612.350304709732, 483.4083359816672, 284.14494694243035, 2429.6184526202005, 1400.0147098171208, 521.2856588911468, 1706.2968277695074, 1416.6539105101135, 1587.66494679239, 768.1803589341356, 1121.49146520351, 1138.9226652070483, 1326.3133261515502, 2016.553589955003, 964.2676394272693, 2955.319643993125, 964.3742373501802, 3253.426750863281, 2408.042736518705, 2872.4279704003497, 1751.7580530343191, 1544.2498175033495, 1002.7700184527743, 1850.1934989262156, 1597.2717493555078, 347.37001410924955, 304.64669607390175, 286.3554891223964, 227.828703965865, 158.77971902745233, 158.03869183409253, 135.6500280556252, 103.36043923217159, 103.33642852506014, 99.66482700393031, 99.20326286223242, 98.99324334151883, 86.78921597872662, 85.14740744001178, 80.72568922247176, 78.77120620179286, 78.4445595936853, 76.57808885788397, 73.72152305777644, 73.52870119758045, 71.92792591074917, 68.84229305220099, 66.81412260758069, 65.5614095103557, 63.95656006253356, 58.884664921714624, 54.274316467803715, 52.15312805269812, 52.03731916345441, 51.19237473311289, 269.7984062490958, 204.8853491571218, 571.1994752365572, 102.87610020078593, 280.36178212020553, 730.5460450141815, 1008.1657292995262, 653.727053781229, 313.2450746334002, 445.298504421562, 131.13457978543386, 399.8929011157769, 254.60034397500993, 330.58418367146885, 257.5151969978216, 149.4849255086064, 347.3075923005252, 523.4240515025621, 475.26495493909016, 344.11011680005805, 476.03162706837213, 1880.15868985496, 777.5327277104614, 360.643878260425, 733.6892233188039, 971.0399409628487, 576.518603898431, 1182.4218279210895, 1850.1934989262156, 1027.5983539044473, 3253.426750863281, 1398.6966216497071, 1597.2717493555078, 1587.66494679239, 1517.5952037351567, 356.6165997657704, 243.74574833413638, 218.2106306943217, 181.95957792014187, 164.02010765922796, 156.34960898268477, 132.13539422782628, 127.52366540931878, 90.27564860482276, 89.38150153941785, 88.7675620999983, 83.9073707043944, 79.20449636026024, 76.71656996220744, 75.35012764292016, 72.76480545196051, 71.04607875108996, 69.91043777562254, 109.25737170244022, 64.62938609514835, 64.62397702281022, 62.989826982877126, 62.541660604381335, 1132.8217467340828, 58.10989261907734, 57.275327605379765, 56.849997201090645, 56.620287980298826, 54.90556844564663, 53.38186274992195, 752.8685028711674, 165.2396309000396, 289.1798950770854, 92.53857536798105, 532.1762134398393, 106.28023851222949, 816.9790497417125, 410.30936705905197, 409.1886109866996, 123.2960537221658, 388.8741814513344, 138.6142288599012, 323.75427835919197, 577.2537177872465, 853.8826535978593, 1391.0091882744573, 501.645828696894, 1569.0219827045762, 623.9738002516054, 168.24309841878525, 264.2716580379413, 530.9359640560432, 628.9984385241434, 538.8148452335089, 1398.6966216497071, 364.4900360192756, 363.8789418387303, 1517.5952037351567, 450.10464583595694, 332.41877467535664, 971.0399409628487, 1880.15868985496, 1597.2717493555078, 3253.426750863281, 1128.546165041705, 1331.645593913585, 1850.1934989262156, 163.22050078014914, 385.73158278727, 145.04591843590384, 79.7566413494354, 79.08633394806851, 66.65385264295693, 65.76143630903638, 56.796756545815136, 48.16339956529901, 42.30600221644181, 41.551653537593225, 40.76861210796453, 40.70632359423413, 39.58103839520323, 37.89850507565056, 37.85027517713205, 37.781686334964895, 36.933065101054964, 36.69009341168573, 34.54653208066846, 34.218808360636906, 33.75868056635017, 32.70136951312311, 31.95924987855977, 30.324805145592126, 30.064456650700013, 29.75171500095854, 29.30648788218671, 29.141823577041713, 28.864530620455692, 58.16936802550802, 143.8511653304699, 405.5701061139413, 194.48561830211858, 100.10235363167175, 360.2810934359404, 254.24690123262044, 92.7214089292766, 53.212993603968854, 74.40560429001907, 133.6081974397881, 334.0978440714721, 906.3437447144539, 211.13667256941872, 1331.645593913585, 122.51056770644865, 1410.8630854705289, 1121.49146520351, 787.4536020294917, 460.32043392418205, 101.00210969406047, 132.43399325442493, 354.38422551042936, 568.7898435205522, 578.3752761524286, 710.2176421362673, 751.7914867959803, 268.4279279889948, 214.91356813612106, 398.12683307809397, 898.8092898438492, 593.6602662241897, 609.8395884987939, 548.9984070246246, 971.0399409628487, 740.9147595052757, 1569.0219827045762, 3253.426750863281, 733.6892233188039, 1182.4218279210895, 1004.125451211357, 1406.4551727645007, 739.5959251012046, 437.6970811379525, 316.4134687392189, 239.08427060034208, 184.17794565440283, 179.51669179837285, 152.5846553490366, 106.77472663423107, 205.3799076241704, 91.20820708588451, 88.4766807610328, 87.43821088432945, 70.96224306699396, 69.91136160832559, 62.85460061020316, 61.82846575710237, 58.8210597589643, 57.61404611642741, 57.0602414701608, 56.69880013183466, 55.81131004506852, 52.46575844802566, 51.80258191392527, 49.63319022291615, 48.60387498086244, 46.9974976935068, 45.959087586175514, 41.671262116022746, 41.639876289382535, 41.2934408847811, 40.97198404214823, 76.05844445836146, 416.1360144963397, 228.46189080208356, 586.5834345315818, 613.7687845015157, 113.77806547499388, 518.6666762220439, 106.51201971019188, 122.67847549644195, 363.8441516941442, 531.0884962101617, 137.66750215755394, 142.4459962465282, 106.02535095160526, 304.4653774471963, 208.8562031020785, 160.63190272062167, 364.14643618870855, 209.94006539296385, 188.90042859104358, 268.3463622398436, 347.83163711797846, 573.1639212314999, 559.6810664304649, 313.184582825229, 285.0381772073659, 313.05361017498666, 446.82015161775655, 1696.1727669356958, 565.6541418019698, 559.308022752503, 1337.0831367626624, 1396.1506977809818, 3986.060630010171, 1148.369659828826, 541.724014347933, 3253.426750863281, 407.73599750774036, 350.40693498878585, 250.585466025773, 166.25340540530854, 151.64323087622225, 136.90739730698746, 124.68015077980772, 121.03533071538897, 115.53651167166228, 110.26922862400323, 107.24101218640119, 100.60873785578374, 100.23937942179097, 94.27382149402887, 88.63156394711542, 86.88593057648413, 85.21608761993609, 83.30616284262219, 81.73905925945132, 79.07426947167095, 77.1470551026018, 74.27480277792641, 72.64030282624046, 70.08092888521603, 70.04387725053924, 57.34773071086437, 57.24903935989661, 56.12209870330502, 55.34271393660401, 53.0098528452682, 786.0601542741439, 720.8795659518507, 338.0379594549956, 185.33320900018273, 88.77390337489153, 543.7679153730044, 344.07995792907445, 104.72708936442167, 571.4406478015986, 146.6931293178747, 125.97801750506753, 256.9212542482882, 178.62108765796208, 181.00643989104256, 185.14482203145064, 207.95017549456742, 127.41872481655052, 214.74775009459785, 473.4139304398586, 1396.1506977809818, 239.68311072029485, 149.7782598446383, 240.51209907885573, 189.6220192196748, 1265.13319134184, 2071.386503580882, 920.1556725589562, 367.188758353022, 418.2291672276898, 1027.5983539044473, 923.3636745610318, 324.40777509039685, 2388.0989242688834, 857.6625125438541, 493.78803576104735, 430.4245782863649, 395.7581983311207, 355.4830913321468, 225.66153245152483, 177.1057771315115, 131.18582724637668, 126.44407536650372, 126.35075366334515, 121.40342025788941, 102.68320225072344, 96.98755438268729, 89.199387920647, 88.83863257289302, 85.78921583618356, 81.1740029373012, 77.71639236603595, 72.66947492673528, 75.51357340853085, 71.658232824426, 179.6610065966924, 68.04122608273201, 64.61706435482215, 64.0354703132744, 62.974310823267714, 60.545179720086395, 59.698124982289166, 59.21943828830888, 57.67234220379191, 544.3459407910995, 146.45840278141134, 186.62765025092793, 174.5959125859374, 358.0378153919654, 388.5808764508428, 82.60121085819092, 186.063075241221, 286.60859835987895, 280.4302922977269, 338.8355696476954, 202.87262885376524, 375.91932752730645, 175.45264645249432, 173.55472258391407, 503.9130229528308, 765.3150353817805, 370.6423613374992, 299.17410630998273, 590.962542320178, 616.0275026469382, 1302.8833331520145, 1061.1417580731247, 3253.426750863281, 406.4735577054142, 373.7994255181215, 183.91541383090143, 498.0569308875854, 140.18350236837708, 95.03963509586745, 92.52089720051174, 83.7700314404043, 66.71087181198199, 54.72158632742679, 52.06589343337209, 50.55625509695393, 46.59193095387483, 45.53084778441375, 43.21894067926718, 39.96360823952846, 39.784793773249035, 38.504920865656416, 38.48783967489235, 37.535616727015096, 36.29338438029928, 35.6134070457922, 32.60130147780989, 30.683568184417595, 138.780098886153, 28.73069318104126, 27.779562711041596, 27.69618901510802, 27.488015347212546, 26.387867996491977, 26.1746373538605, 219.82940011219046, 412.1862272692194, 313.46089680224173, 41.20381189544626, 200.8518647656691, 169.5052487945825, 67.26285123871241, 110.85118836291471, 465.90676510890904, 164.50269357168227, 636.5142039755152, 251.43148690690302, 190.88603875819283, 130.57119894937563, 61.61044806337397, 255.10445490704976, 339.2197818647105, 449.21336130818946, 147.17427185243446, 1148.369659828826, 824.8255548125243, 228.54211142797712, 201.69711201309585, 313.05361017498666, 461.92301259818964, 1880.15868985496, 1850.1934989262156, 1182.4218279210895, 344.0121619744326, 287.5185405835441, 1410.8630854705289, 1252.0069606405239, 485.0198600702172, 5926.175513211026, 1398.6966216497071, 203.90369446449446, 178.45136398189092, 171.3085158978323, 155.68783556468114, 241.6584039633403, 105.36388683360713, 101.7037274977908, 89.80057129765524, 85.72691956734012, 81.4333982458812, 77.82832165093478, 77.00928114426881, 74.17900425801794, 74.16931143100477, 70.36682469560768, 62.02128749607458, 61.81192159459819, 58.47644225906667, 57.60059534450858, 49.96903530463457, 48.08006366540212, 47.200474671582555, 46.6610152766808, 45.67137644965661, 44.57635513259577, 42.739608378671996, 40.95811225530516, 40.560482320569676, 39.70573356416935, 39.124266064002505, 153.1211010441067, 435.35654873678106, 156.35013370123306, 120.11043753048853, 1201.8015703420504, 171.18904129297295, 120.79757868501562, 62.73648423047804, 359.8396891578524, 223.95876595318674, 127.09964836265105, 456.19945022052724, 154.90092267518742, 1391.0091882744573, 449.21336130818946, 450.0996365610593, 504.35471375482655, 2071.386503580882, 1396.1506977809818, 1182.4218279210895, 441.85066990899355, 318.28162503482287, 210.81626681166009, 100.18075423021038, 88.74760734502725, 88.29019359037872, 84.9366481723187, 517.9814646189923, 74.06828456674788, 73.02077007084091, 72.8177872394534, 70.96468092517875, 67.88897138441685, 67.65080068590967, 66.11245890591897, 133.85611144459276, 61.26739352728811, 57.244603484794816, 56.02590074350393, 53.799943796685945, 51.74886201022351, 49.92835297696743, 48.683776700337205, 46.876855625196, 38.63711167773602, 36.349770669867084, 35.85473937666315, 34.92902155666993, 34.56430497565648, 34.20708691395969, 68.07194450865634, 147.56055943565028, 521.2457425275969, 57.534589884685346, 169.47839555986565, 162.92629167860915, 327.1169611614077, 233.1225839706214, 239.84918781544482, 186.02989724358315, 92.62391176539893, 268.3463622398436, 1061.1417580731247, 127.53106507269723, 153.7101547193449, 198.14752856319961, 193.20494674878103, 1337.0831367626624, 182.5994541584109, 425.15498714847877, 234.21306435249042, 345.25419104433706, 541.724014347933, 5926.175513211026, 151.74543793908452, 108.15453783897699, 107.73731671814319, 78.30907515117246, 64.84365624415337, 50.707251058896674, 44.18496518884515, 42.46560321873557, 42.34791478613248, 42.19676292205247, 38.20006645010799, 31.83097780472, 31.557108087864474, 31.386393576857643, 31.120240554183635, 31.117662914315492, 30.85549358232028, 30.405354561277242, 30.184694814013692, 29.527506245307542, 29.414876190519113, 29.07813136306451, 28.05802524484321, 27.396507320859854, 26.9046199787483, 26.3230621947645, 71.24109168774294, 25.86072359106391, 25.651145192408222, 25.539820103825267, 114.61726606893865, 46.30861215765652, 78.13296474949831, 538.4314959839354, 118.49251893497728, 62.63482945136057, 187.9815777612599, 434.6949511047948, 543.4211093617237, 1696.1727669356958, 189.67614957095265, 73.87721730369677, 298.835210505887, 445.75647887246095, 117.918429345426, 563.7544650303207, 86.17167966091307, 554.3778064938988, 236.68840544999077, 371.4451511321342, 647.6787347206705, 347.9071819946411, 531.0884962101617, 317.56499882956103, 280.4302922977269, 651.2442070832378, 516.117575068233, 3986.060630010171, 287.3109253484627, 3359.982426589114, 1400.0147098171208, 770.0926795935603, 490.3699994035156, 1326.3133261515502, 972.9546199062399, 1002.7700184527743, 69.87258069583834, 66.03807489523501, 65.46968256145209, 57.67224783759745, 45.60751655734915, 44.915207645771225, 44.90324111570613, 43.80060403833592, 41.47963031056395, 34.40511599975976, 33.73911099887546, 33.2871371756503, 33.047516524666904, 67.68222643536956, 27.82750372936926, 27.383253481773146, 27.118366961680948, 26.81457721733779, 26.124725490528093, 39.389556598824136, 25.76835683030166, 25.117988377950088, 24.94978630602258, 24.249465680220514, 22.64441648097622, 22.53074644518801, 21.610864977997924, 21.551943322057873, 21.52538770855456, 21.425726563248908, 48.11643652491507, 99.1287762295734, 76.20358909074805, 36.56472018357873, 56.27020686041569, 229.4371328100229, 38.58968384403209, 76.072801563339, 234.69638609171855, 85.33263512222354, 186.81336478125556, 51.185431164900095, 107.49606287451773, 61.83300963745694, 256.59763349831894, 1027.5983539044473, 131.792394504077, 104.28999457461134, 292.23959406131456, 97.66616355102765, 83.60665657505388, 274.97925986445097, 467.82538462341813, 118.49225967222188, 1400.0147098171208, 801.3687691872101, 393.1812545459118, 127.44078607336284, 209.75894468463554, 148.7630726666154, 245.55546004493138, 167.42621748318484, 121.13364544629717, 506.69363436923726, 75.81069767146336, 74.80439851912324, 70.15989601401041, 59.67034723034751, 47.361668023442576, 44.69706709151895, 43.43104362828238, 42.14287303935991, 40.982041253162514, 40.22493738113689, 39.66489324958874, 38.763004913567194, 36.08404883582309, 35.146262367858604, 178.0931325215917, 28.74127263815817, 27.83338416370516, 27.83338416370516, 27.83338416370516, 26.87230600590385, 26.074417560284168, 24.253610347427113, 23.573674185984537, 22.93538968769511, 22.787206547411863, 22.78085705383783, 22.082803285683344, 135.96364798101717, 188.01487103298524, 175.39509788607262, 648.3397200530347, 75.73195898981528, 242.1998162799716, 171.49542327159494, 320.60433467467305, 87.22120565377566, 412.4146786106414, 1569.0219827045762, 393.51610794543853, 214.46909259361965, 534.7964643236506, 248.73518202139616, 1391.0091882744573, 898.5248777672891, 353.6387404193433, 328.4352000884036, 454.42058978071606, 740.9147595052757, 581.962839826982, 1004.125451211357, 365.79406986199285, 1396.1506977809818, 1252.0069606405239, 1269.5134672166828, 1071.9546361980556, 294.01144943984923, 124.14435029672319, 100.54112367588206, 95.30006305433206, 90.22738227283516, 89.5383727183938, 66.83906038415253, 58.01420081335668, 56.729116111704045, 54.74742202174013, 53.39682145242623, 47.91196557822119, 40.214229260077325, 38.99150026093464, 36.02037475385318, 33.59938967742876, 32.61175878715681, 32.40846197128041, 31.808041195697708, 31.466715626929975, 31.024786765033294, 29.835961678311012, 29.45746243551923, 29.11267803544079, 28.953148272109058, 26.759595861752288, 26.418745325532907, 26.366227904522226, 25.938945102144363, 23.546376246553844, 78.95072545405206, 60.7895705162056, 46.74896628710735, 83.60382123177251, 119.14037258116203, 53.107611235072945, 261.2313559327839, 49.077558278905336, 245.55546004493138, 68.41012467781846, 168.21344711536406, 263.70456551539553, 94.57654400239029, 59.06062762062879, 476.03162706837213, 162.59642304307616, 651.2442070832378, 376.19533975573046, 316.8533013925048, 141.68858369652455, 274.97925986445097, 370.6920821824502, 1008.1657292995262, 327.6555987149093, 308.47387303702016, 53.827597720174886, 44.07704423195763, 42.84891451233956, 42.45545152545064, 41.84349156077942, 47.5922041688174, 38.97958581992547, 38.60770771240885, 37.0402231460525, 36.26015419522069, 34.29080764409363, 33.838410665744476, 32.82032021240657, 29.248536546493494, 28.980770270491536, 27.948854296839034, 27.385967942064642, 27.326291944485217, 26.742520388090526, 26.583254648157517, 25.073064880325106, 23.468686881578154, 23.155809906174976, 22.341690278349343, 20.05081835455471, 19.767029871476115, 19.316697802982656, 18.983471130440254, 18.902646019665013, 18.085203023960123, 32.46717297059158, 36.30183172012534, 43.08957626036098, 38.27683057082442, 67.29128392686728, 80.41200511493106, 47.01180707169506, 103.76591282197246, 90.46319583493981, 151.0243443414302, 120.62963410151741, 248.5929180580723, 76.69041666508532, 40.378272574793954, 100.24864780661224, 253.26943335482304, 198.26608288790095, 255.10445490704976, 99.60315005570268, 72.10800989890274, 621.3761109886644, 1063.9663822143125, 315.36320519878166, 204.00042020213402, 324.02050001061065, 106.46267941976083, 1182.4218279210895, 324.40777509039685, 509.5197364871655, 1252.0069606405239, 305.407923165006, 137.23442116018526, 1331.645593913585, 127.72827526586593, 87.32553504837655, 76.86302174085614, 75.43331236375448, 60.61546390969188, 59.68699519893059, 57.70047415836568, 53.036284281953044, 51.042865944792794, 50.683022788689485, 48.33572684167407, 39.78410164480541, 37.628766779541834, 37.50599255611871, 34.95190956270724, 30.5467843732404, 30.509707797040733, 30.21042542793219, 28.529240323339085, 28.100547087469018, 27.989150180392418, 26.4476659220167, 25.044756087527315, 24.958487139499844, 23.261158866408824, 22.674314348474972, 21.637765540877698, 21.35143835277139, 20.83240945889053, 20.234965691961502, 45.69982261771676, 59.87767222295746, 56.05218793499748, 1063.9663822143125, 64.05120491872796, 62.01696593645729, 42.52224109478577, 36.287211226162135, 34.89141064695596, 34.16673542385326, 31.886014955158803, 31.508106455879627, 31.506845187235218, 67.6086869964792, 30.256612893880867, 29.6716625610546, 28.222525002880666, 27.852667490323334, 27.852667490323334, 26.403335591742042, 25.934348315357454, 25.834267394169345, 22.48244520008425, 20.859911538900946, 20.844376522574294, 20.563371617839493, 20.482241394309305, 19.71939053548116, 19.442177266024498, 18.07365615390353, 17.764798939671856, 17.73986839573204, 17.69096309757089, 17.505681389598667, 45.7638357871427, 71.30298119143005, 77.92333726175939, 221.98203095027705, 27.489021226432122, 155.59775478820643, 26.658866182095387, 191.27297221522934, 79.23854636116593, 67.45394761683114, 426.7764180180982, 56.11576231822133, 65.88483682477239, 48.32993539188494, 201.23487753386695, 89.01471970783976, 61.0616306597697, 44.14493885102869, 42.845540082486906, 40.00111116212107, 37.206194721001296, 31.220220084643515, 30.600155281115352, 28.63328403171942, 28.46646170801164, 28.225692344447076, 26.031431729210013, 24.022550378811616, 22.41091889680614, 21.929777348652856, 21.725833039281287, 20.29715986894338, 18.780192601459532, 18.68001092976138, 18.19717794048768, 17.209407580884754, 14.783397629734008, 14.666187944232956, 14.397889369041543, 14.218629306571529, 14.075453732627464, 13.587701635321178, 13.273881562112631, 13.269369821036532, 13.254048758701467, 167.17130883699673, 22.437143823946375, 17.39731217284743, 63.13642882916665, 116.70951879861686, 45.64381125270413, 73.3012084941221, 111.0994607134697, 292.23959406131456, 121.28587654906912, 59.177200159484315, 234.09356276695033, 75.81768771596867, 129.46687988580533, 296.84867492053, 621.3761109886644, 751.7914867959803], \"Category\": [\"Default\", \"Default\", \"Default\", \"Default\", \"Default\", \"Default\", \"Default\", \"Default\", \"Default\", \"Default\", \"Default\", \"Default\", \"Default\", \"Default\", \"Default\", \"Default\", \"Default\", \"Default\", \"Default\", \"Default\", \"Default\", \"Default\", \"Default\", \"Default\", \"Default\", \"Default\", \"Default\", \"Default\", \"Default\", \"Default\", \"Topic1\", \"Topic1\", \"Topic1\", \"Topic1\", \"Topic1\", \"Topic1\", \"Topic1\", \"Topic1\", \"Topic1\", \"Topic1\", \"Topic1\", \"Topic1\", \"Topic1\", \"Topic1\", \"Topic1\", \"Topic1\", \"Topic1\", \"Topic1\", \"Topic1\", \"Topic1\", \"Topic1\", \"Topic1\", \"Topic1\", \"Topic1\", \"Topic1\", \"Topic1\", \"Topic1\", \"Topic1\", \"Topic1\", \"Topic1\", \"Topic1\", \"Topic1\", \"Topic1\", \"Topic1\", \"Topic1\", \"Topic1\", \"Topic1\", \"Topic1\", \"Topic1\", \"Topic1\", \"Topic1\", \"Topic1\", \"Topic1\", \"Topic1\", \"Topic1\", \"Topic1\", \"Topic1\", \"Topic1\", \"Topic1\", \"Topic1\", \"Topic1\", \"Topic1\", \"Topic1\", \"Topic1\", \"Topic1\", \"Topic1\", \"Topic1\", \"Topic1\", \"Topic1\", \"Topic1\", \"Topic1\", \"Topic1\", \"Topic1\", \"Topic1\", \"Topic1\", \"Topic1\", \"Topic1\", \"Topic1\", \"Topic1\", \"Topic1\", \"Topic1\", \"Topic1\", \"Topic1\", \"Topic1\", \"Topic1\", \"Topic1\", \"Topic1\", \"Topic1\", \"Topic1\", \"Topic1\", \"Topic1\", \"Topic1\", \"Topic1\", \"Topic1\", \"Topic1\", \"Topic1\", \"Topic1\", \"Topic2\", \"Topic2\", \"Topic2\", \"Topic2\", \"Topic2\", \"Topic2\", \"Topic2\", \"Topic2\", \"Topic2\", \"Topic2\", \"Topic2\", \"Topic2\", \"Topic2\", \"Topic2\", \"Topic2\", \"Topic2\", \"Topic2\", \"Topic2\", \"Topic2\", \"Topic2\", \"Topic2\", \"Topic2\", \"Topic2\", \"Topic2\", \"Topic2\", \"Topic2\", \"Topic2\", \"Topic2\", \"Topic2\", \"Topic2\", \"Topic2\", \"Topic2\", \"Topic2\", \"Topic2\", \"Topic2\", \"Topic2\", \"Topic2\", \"Topic2\", \"Topic2\", \"Topic2\", \"Topic2\", \"Topic2\", \"Topic2\", \"Topic2\", \"Topic2\", \"Topic2\", \"Topic2\", \"Topic2\", \"Topic2\", \"Topic2\", \"Topic2\", \"Topic2\", \"Topic2\", \"Topic2\", \"Topic2\", \"Topic2\", \"Topic2\", \"Topic2\", \"Topic2\", \"Topic2\", \"Topic2\", \"Topic2\", \"Topic2\", \"Topic2\", \"Topic2\", \"Topic2\", \"Topic2\", \"Topic2\", \"Topic3\", \"Topic3\", \"Topic3\", \"Topic3\", \"Topic3\", \"Topic3\", \"Topic3\", \"Topic3\", \"Topic3\", \"Topic3\", \"Topic3\", \"Topic3\", \"Topic3\", \"Topic3\", \"Topic3\", \"Topic3\", \"Topic3\", \"Topic3\", \"Topic3\", \"Topic3\", \"Topic3\", \"Topic3\", \"Topic3\", \"Topic3\", \"Topic3\", \"Topic3\", \"Topic3\", \"Topic3\", \"Topic3\", \"Topic3\", \"Topic3\", \"Topic3\", \"Topic3\", \"Topic3\", \"Topic3\", \"Topic3\", \"Topic3\", \"Topic3\", \"Topic3\", \"Topic3\", \"Topic3\", \"Topic3\", \"Topic3\", \"Topic3\", \"Topic3\", \"Topic3\", \"Topic3\", \"Topic3\", \"Topic3\", \"Topic3\", \"Topic3\", \"Topic3\", \"Topic3\", \"Topic3\", \"Topic3\", \"Topic3\", \"Topic3\", \"Topic3\", \"Topic3\", \"Topic3\", \"Topic3\", \"Topic3\", \"Topic3\", \"Topic3\", \"Topic3\", \"Topic3\", \"Topic3\", \"Topic3\", \"Topic3\", \"Topic3\", \"Topic3\", \"Topic3\", \"Topic3\", \"Topic3\", \"Topic3\", \"Topic3\", \"Topic3\", \"Topic3\", \"Topic3\", \"Topic3\", \"Topic3\", \"Topic3\", \"Topic3\", \"Topic4\", \"Topic4\", \"Topic4\", \"Topic4\", \"Topic4\", \"Topic4\", \"Topic4\", \"Topic4\", \"Topic4\", \"Topic4\", \"Topic4\", \"Topic4\", \"Topic4\", \"Topic4\", \"Topic4\", \"Topic4\", \"Topic4\", \"Topic4\", \"Topic4\", \"Topic4\", \"Topic4\", \"Topic4\", \"Topic4\", \"Topic4\", \"Topic4\", \"Topic4\", \"Topic4\", \"Topic4\", \"Topic4\", \"Topic4\", \"Topic4\", \"Topic4\", \"Topic4\", \"Topic4\", \"Topic4\", \"Topic4\", \"Topic4\", \"Topic4\", \"Topic4\", \"Topic4\", \"Topic4\", \"Topic4\", \"Topic4\", \"Topic4\", \"Topic4\", \"Topic4\", \"Topic4\", \"Topic4\", \"Topic4\", \"Topic4\", \"Topic4\", \"Topic4\", \"Topic4\", \"Topic4\", \"Topic4\", \"Topic4\", \"Topic4\", \"Topic4\", \"Topic4\", \"Topic4\", \"Topic4\", \"Topic4\", \"Topic4\", \"Topic4\", \"Topic4\", \"Topic5\", \"Topic5\", \"Topic5\", \"Topic5\", \"Topic5\", \"Topic5\", \"Topic5\", \"Topic5\", \"Topic5\", \"Topic5\", \"Topic5\", \"Topic5\", \"Topic5\", \"Topic5\", \"Topic5\", \"Topic5\", \"Topic5\", \"Topic5\", \"Topic5\", \"Topic5\", \"Topic5\", \"Topic5\", \"Topic5\", \"Topic5\", \"Topic5\", \"Topic5\", \"Topic5\", \"Topic5\", \"Topic5\", \"Topic5\", \"Topic5\", \"Topic5\", \"Topic5\", \"Topic5\", \"Topic5\", \"Topic5\", \"Topic5\", \"Topic5\", \"Topic5\", \"Topic5\", \"Topic5\", \"Topic5\", \"Topic5\", \"Topic5\", \"Topic5\", \"Topic5\", \"Topic5\", \"Topic5\", \"Topic5\", \"Topic5\", \"Topic5\", \"Topic5\", \"Topic5\", \"Topic5\", \"Topic5\", \"Topic5\", \"Topic5\", \"Topic5\", \"Topic5\", \"Topic5\", \"Topic5\", \"Topic5\", \"Topic5\", \"Topic5\", \"Topic5\", \"Topic5\", \"Topic5\", \"Topic6\", \"Topic6\", \"Topic6\", \"Topic6\", \"Topic6\", \"Topic6\", \"Topic6\", \"Topic6\", \"Topic6\", \"Topic6\", \"Topic6\", \"Topic6\", \"Topic6\", \"Topic6\", \"Topic6\", \"Topic6\", \"Topic6\", \"Topic6\", \"Topic6\", \"Topic6\", \"Topic6\", \"Topic6\", \"Topic6\", \"Topic6\", \"Topic6\", \"Topic6\", \"Topic6\", \"Topic6\", \"Topic6\", \"Topic6\", \"Topic6\", \"Topic6\", \"Topic6\", \"Topic6\", \"Topic6\", \"Topic6\", \"Topic6\", \"Topic6\", \"Topic6\", \"Topic6\", \"Topic6\", \"Topic6\", \"Topic6\", \"Topic6\", \"Topic6\", \"Topic6\", \"Topic6\", \"Topic6\", \"Topic6\", \"Topic6\", \"Topic6\", \"Topic6\", \"Topic6\", \"Topic6\", \"Topic6\", \"Topic6\", \"Topic6\", \"Topic6\", \"Topic6\", \"Topic6\", \"Topic6\", \"Topic6\", \"Topic6\", \"Topic6\", \"Topic6\", \"Topic6\", \"Topic6\", \"Topic6\", \"Topic6\", \"Topic6\", \"Topic6\", \"Topic6\", \"Topic6\", \"Topic7\", \"Topic7\", \"Topic7\", \"Topic7\", \"Topic7\", \"Topic7\", \"Topic7\", \"Topic7\", \"Topic7\", \"Topic7\", \"Topic7\", \"Topic7\", \"Topic7\", \"Topic7\", \"Topic7\", \"Topic7\", \"Topic7\", \"Topic7\", \"Topic7\", \"Topic7\", \"Topic7\", \"Topic7\", \"Topic7\", \"Topic7\", \"Topic7\", \"Topic7\", \"Topic7\", \"Topic7\", \"Topic7\", \"Topic7\", \"Topic7\", \"Topic7\", \"Topic7\", \"Topic7\", \"Topic7\", \"Topic7\", \"Topic7\", \"Topic7\", \"Topic7\", \"Topic7\", \"Topic7\", \"Topic7\", \"Topic7\", \"Topic7\", \"Topic7\", \"Topic7\", \"Topic7\", \"Topic7\", \"Topic7\", \"Topic7\", \"Topic7\", \"Topic7\", \"Topic7\", \"Topic7\", \"Topic7\", \"Topic7\", \"Topic7\", \"Topic7\", \"Topic7\", \"Topic7\", \"Topic7\", \"Topic7\", \"Topic7\", \"Topic7\", \"Topic7\", \"Topic7\", \"Topic7\", \"Topic8\", \"Topic8\", \"Topic8\", \"Topic8\", \"Topic8\", \"Topic8\", \"Topic8\", \"Topic8\", \"Topic8\", \"Topic8\", \"Topic8\", \"Topic8\", \"Topic8\", \"Topic8\", \"Topic8\", \"Topic8\", \"Topic8\", \"Topic8\", \"Topic8\", \"Topic8\", \"Topic8\", \"Topic8\", \"Topic8\", \"Topic8\", \"Topic8\", \"Topic8\", \"Topic8\", \"Topic8\", \"Topic8\", \"Topic8\", \"Topic8\", \"Topic8\", \"Topic8\", \"Topic8\", \"Topic8\", \"Topic8\", \"Topic8\", \"Topic8\", \"Topic8\", \"Topic8\", \"Topic8\", \"Topic8\", \"Topic8\", \"Topic8\", \"Topic8\", \"Topic8\", \"Topic8\", \"Topic8\", \"Topic8\", \"Topic8\", \"Topic8\", \"Topic8\", \"Topic8\", \"Topic8\", \"Topic8\", \"Topic8\", \"Topic8\", \"Topic8\", \"Topic8\", \"Topic8\", \"Topic8\", \"Topic8\", \"Topic8\", \"Topic9\", \"Topic9\", \"Topic9\", \"Topic9\", \"Topic9\", \"Topic9\", \"Topic9\", \"Topic9\", \"Topic9\", \"Topic9\", \"Topic9\", \"Topic9\", \"Topic9\", \"Topic9\", \"Topic9\", \"Topic9\", \"Topic9\", \"Topic9\", \"Topic9\", \"Topic9\", \"Topic9\", \"Topic9\", \"Topic9\", \"Topic9\", \"Topic9\", \"Topic9\", \"Topic9\", \"Topic9\", \"Topic9\", \"Topic9\", \"Topic9\", \"Topic9\", \"Topic9\", \"Topic9\", \"Topic9\", \"Topic9\", \"Topic9\", \"Topic9\", \"Topic9\", \"Topic9\", \"Topic9\", \"Topic9\", \"Topic9\", \"Topic9\", \"Topic9\", \"Topic9\", \"Topic9\", \"Topic9\", \"Topic9\", \"Topic9\", \"Topic9\", \"Topic9\", \"Topic9\", \"Topic9\", \"Topic9\", \"Topic10\", \"Topic10\", \"Topic10\", \"Topic10\", \"Topic10\", \"Topic10\", \"Topic10\", \"Topic10\", \"Topic10\", \"Topic10\", \"Topic10\", \"Topic10\", \"Topic10\", \"Topic10\", \"Topic10\", \"Topic10\", \"Topic10\", \"Topic10\", \"Topic10\", \"Topic10\", \"Topic10\", \"Topic10\", \"Topic10\", \"Topic10\", \"Topic10\", \"Topic10\", \"Topic10\", \"Topic10\", \"Topic10\", \"Topic10\", \"Topic10\", \"Topic10\", \"Topic10\", \"Topic10\", \"Topic10\", \"Topic10\", \"Topic10\", \"Topic10\", \"Topic10\", \"Topic10\", \"Topic10\", \"Topic10\", \"Topic10\", \"Topic10\", \"Topic10\", \"Topic10\", \"Topic10\", \"Topic10\", \"Topic10\", \"Topic10\", \"Topic10\", \"Topic10\", \"Topic10\", \"Topic10\", \"Topic10\", \"Topic10\", \"Topic10\", \"Topic10\", \"Topic10\", \"Topic10\", \"Topic10\", \"Topic10\", \"Topic10\", \"Topic10\", \"Topic10\", \"Topic11\", \"Topic11\", \"Topic11\", \"Topic11\", \"Topic11\", \"Topic11\", \"Topic11\", \"Topic11\", \"Topic11\", \"Topic11\", \"Topic11\", \"Topic11\", \"Topic11\", \"Topic11\", \"Topic11\", \"Topic11\", \"Topic11\", \"Topic11\", \"Topic11\", \"Topic11\", \"Topic11\", \"Topic11\", \"Topic11\", \"Topic11\", \"Topic11\", \"Topic11\", \"Topic11\", \"Topic11\", \"Topic11\", \"Topic11\", \"Topic11\", \"Topic11\", \"Topic11\", \"Topic11\", \"Topic11\", \"Topic11\", \"Topic11\", \"Topic11\", \"Topic11\", \"Topic11\", \"Topic11\", \"Topic11\", \"Topic11\", \"Topic11\", \"Topic11\", \"Topic11\", \"Topic11\", \"Topic11\", \"Topic11\", \"Topic11\", \"Topic11\", \"Topic12\", \"Topic12\", \"Topic12\", \"Topic12\", \"Topic12\", \"Topic12\", \"Topic12\", \"Topic12\", \"Topic12\", \"Topic12\", \"Topic12\", \"Topic12\", \"Topic12\", \"Topic12\", \"Topic12\", \"Topic12\", \"Topic12\", \"Topic12\", \"Topic12\", \"Topic12\", \"Topic12\", \"Topic12\", \"Topic12\", \"Topic12\", \"Topic12\", \"Topic12\", \"Topic12\", \"Topic12\", \"Topic12\", \"Topic12\", \"Topic12\", \"Topic12\", \"Topic12\", \"Topic12\", \"Topic12\", \"Topic12\", \"Topic12\", \"Topic12\", \"Topic12\", \"Topic12\", \"Topic12\", \"Topic12\", \"Topic12\", \"Topic12\", \"Topic12\", \"Topic12\", \"Topic12\", \"Topic12\", \"Topic12\", \"Topic12\", \"Topic12\", \"Topic12\", \"Topic12\", \"Topic13\", \"Topic13\", \"Topic13\", \"Topic13\", \"Topic13\", \"Topic13\", \"Topic13\", \"Topic13\", \"Topic13\", \"Topic13\", \"Topic13\", \"Topic13\", \"Topic13\", \"Topic13\", \"Topic13\", \"Topic13\", \"Topic13\", \"Topic13\", \"Topic13\", \"Topic13\", \"Topic13\", \"Topic13\", \"Topic13\", \"Topic13\", \"Topic13\", \"Topic13\", \"Topic13\", \"Topic13\", \"Topic13\", \"Topic13\", \"Topic13\", \"Topic13\", \"Topic13\", \"Topic13\", \"Topic13\", \"Topic13\", \"Topic13\", \"Topic13\", \"Topic13\", \"Topic13\", \"Topic13\", \"Topic13\", \"Topic13\", \"Topic13\", \"Topic13\", \"Topic13\", \"Topic13\", \"Topic13\", \"Topic13\", \"Topic13\", \"Topic13\", \"Topic13\", \"Topic13\", \"Topic13\", \"Topic13\", \"Topic13\", \"Topic13\", \"Topic13\", \"Topic13\", \"Topic13\", \"Topic13\", \"Topic13\", \"Topic13\", \"Topic13\", \"Topic13\", \"Topic13\", \"Topic14\", \"Topic14\", \"Topic14\", \"Topic14\", \"Topic14\", \"Topic14\", \"Topic14\", \"Topic14\", \"Topic14\", \"Topic14\", \"Topic14\", \"Topic14\", \"Topic14\", \"Topic14\", \"Topic14\", \"Topic14\", \"Topic14\", \"Topic14\", \"Topic14\", \"Topic14\", \"Topic14\", \"Topic14\", \"Topic14\", \"Topic14\", \"Topic14\", \"Topic14\", \"Topic14\", \"Topic14\", \"Topic14\", \"Topic14\", \"Topic14\", \"Topic14\", \"Topic14\", \"Topic14\", \"Topic14\", \"Topic14\", \"Topic14\", \"Topic14\", \"Topic14\", \"Topic14\", \"Topic14\", \"Topic14\", \"Topic14\", \"Topic14\", \"Topic14\", \"Topic14\", \"Topic14\", \"Topic14\", \"Topic14\", \"Topic14\", \"Topic14\", \"Topic14\", \"Topic14\", \"Topic14\", \"Topic14\", \"Topic14\", \"Topic14\", \"Topic14\", \"Topic14\", \"Topic14\", \"Topic14\", \"Topic15\", \"Topic15\", \"Topic15\", \"Topic15\", \"Topic15\", \"Topic15\", \"Topic15\", \"Topic15\", \"Topic15\", \"Topic15\", \"Topic15\", \"Topic15\", \"Topic15\", \"Topic15\", \"Topic15\", \"Topic15\", \"Topic15\", \"Topic15\", \"Topic15\", \"Topic15\", \"Topic15\", \"Topic15\", \"Topic15\", \"Topic15\", \"Topic15\", \"Topic15\", \"Topic15\", \"Topic15\", \"Topic15\", \"Topic15\", \"Topic15\", \"Topic15\", \"Topic15\", \"Topic15\", \"Topic15\", \"Topic15\", \"Topic15\", \"Topic15\", \"Topic15\", \"Topic15\", \"Topic15\", \"Topic15\", \"Topic15\", \"Topic15\", \"Topic15\", \"Topic15\", \"Topic15\", \"Topic15\", \"Topic15\", \"Topic15\", \"Topic15\", \"Topic15\", \"Topic15\", \"Topic15\", \"Topic15\", \"Topic15\", \"Topic15\", \"Topic15\", \"Topic16\", \"Topic16\", \"Topic16\", \"Topic16\", \"Topic16\", \"Topic16\", \"Topic16\", \"Topic16\", \"Topic16\", \"Topic16\", \"Topic16\", \"Topic16\", \"Topic16\", \"Topic16\", \"Topic16\", \"Topic16\", \"Topic16\", \"Topic16\", \"Topic16\", \"Topic16\", \"Topic16\", \"Topic16\", \"Topic16\", \"Topic16\", \"Topic16\", \"Topic16\", \"Topic16\", \"Topic16\", \"Topic16\", \"Topic16\", \"Topic16\", \"Topic16\", \"Topic16\", \"Topic16\", \"Topic16\", \"Topic16\", \"Topic16\", \"Topic16\", \"Topic16\", \"Topic16\", \"Topic16\", \"Topic16\", \"Topic16\", \"Topic16\", \"Topic16\", \"Topic16\", \"Topic16\", \"Topic16\", \"Topic16\", \"Topic16\", \"Topic16\", \"Topic16\", \"Topic16\", \"Topic16\", \"Topic16\", \"Topic17\", \"Topic17\", \"Topic17\", \"Topic17\", \"Topic17\", \"Topic17\", \"Topic17\", \"Topic17\", \"Topic17\", \"Topic17\", \"Topic17\", \"Topic17\", \"Topic17\", \"Topic17\", \"Topic17\", \"Topic17\", \"Topic17\", \"Topic17\", \"Topic17\", \"Topic17\", \"Topic17\", \"Topic17\", \"Topic17\", \"Topic17\", \"Topic17\", \"Topic17\", \"Topic17\", \"Topic17\", \"Topic17\", \"Topic17\", \"Topic17\", \"Topic17\", \"Topic17\", \"Topic17\", \"Topic17\", \"Topic17\", \"Topic17\", \"Topic17\", \"Topic17\", \"Topic17\", \"Topic17\", \"Topic17\", \"Topic17\", \"Topic17\", \"Topic17\", \"Topic17\", \"Topic17\", \"Topic17\", \"Topic17\", \"Topic17\", \"Topic17\", \"Topic17\", \"Topic17\", \"Topic17\", \"Topic17\", \"Topic17\", \"Topic17\", \"Topic17\", \"Topic17\", \"Topic17\", \"Topic17\", \"Topic17\", \"Topic17\", \"Topic18\", \"Topic18\", \"Topic18\", \"Topic18\", \"Topic18\", \"Topic18\", \"Topic18\", \"Topic18\", \"Topic18\", \"Topic18\", \"Topic18\", \"Topic18\", \"Topic18\", \"Topic18\", \"Topic18\", \"Topic18\", \"Topic18\", \"Topic18\", \"Topic18\", \"Topic18\", \"Topic18\", \"Topic18\", \"Topic18\", \"Topic18\", \"Topic18\", \"Topic18\", \"Topic18\", \"Topic18\", \"Topic18\", \"Topic18\", \"Topic18\", \"Topic18\", \"Topic18\", \"Topic18\", \"Topic19\", \"Topic19\", \"Topic19\", \"Topic19\", \"Topic19\", \"Topic19\", \"Topic19\", \"Topic19\", \"Topic19\", \"Topic19\", \"Topic19\", \"Topic19\", \"Topic19\", \"Topic19\", \"Topic19\", \"Topic19\", \"Topic19\", \"Topic19\", \"Topic19\", \"Topic19\", \"Topic19\", \"Topic19\", \"Topic19\", \"Topic19\", \"Topic19\", \"Topic19\", \"Topic19\", \"Topic19\", \"Topic19\", \"Topic19\", \"Topic19\", \"Topic19\", \"Topic19\", \"Topic19\", \"Topic19\", \"Topic19\", \"Topic19\", \"Topic19\", \"Topic19\", \"Topic19\", \"Topic19\", \"Topic19\", \"Topic19\", \"Topic19\", \"Topic19\", \"Topic20\", \"Topic20\", \"Topic20\", \"Topic20\", \"Topic20\", \"Topic20\", \"Topic20\", \"Topic20\", \"Topic20\", \"Topic20\", \"Topic20\", \"Topic20\", \"Topic20\", \"Topic20\", \"Topic20\", \"Topic20\", \"Topic20\", \"Topic20\", \"Topic20\", \"Topic20\", \"Topic20\", \"Topic20\", \"Topic20\", \"Topic20\", \"Topic20\", \"Topic20\", \"Topic20\", \"Topic20\", \"Topic20\", \"Topic20\", \"Topic20\", \"Topic20\", \"Topic20\", \"Topic20\", \"Topic20\", \"Topic20\", \"Topic20\", \"Topic20\", \"Topic20\", \"Topic20\", \"Topic20\", \"Topic20\", \"Topic20\", \"Topic20\", \"Topic20\", \"Topic20\", \"Topic20\"], \"logprob\": [30.0, 29.0, 28.0, 27.0, 26.0, 25.0, 24.0, 23.0, 22.0, 21.0, 20.0, 19.0, 18.0, 17.0, 16.0, 15.0, 14.0, 13.0, 12.0, 11.0, 10.0, 9.0, 8.0, 7.0, 6.0, 5.0, 4.0, 3.0, 2.0, 1.0, -6.838099956512451, -7.304299831390381, -7.7083001136779785, -7.728899955749512, -7.769499778747559, -7.8592000007629395, -7.946800231933594, -8.031200408935547, -8.12720012664795, -8.17490005493164, -8.227399826049805, -8.18910026550293, -8.290599822998047, -8.203499794006348, -8.31470012664795, -8.357000350952148, -8.363300323486328, -8.36929988861084, -8.404600143432617, -8.40779972076416, -8.434399604797363, -8.437700271606445, -8.439299583435059, -8.453900337219238, -8.480500221252441, -8.497300148010254, -8.49779987335205, -8.550999641418457, -8.573800086975098, -8.575599670410156, -7.895100116729736, -6.95359992980957, -7.0808000564575195, -7.349899768829346, -7.3520002365112305, -7.747700214385986, -6.09689998626709, -6.389200210571289, -6.479100227355957, -7.117300033569336, -6.269599914550781, -7.163700103759766, -4.5269999504089355, -6.041900157928467, -6.293000221252441, -6.968999862670898, -7.434599876403809, -5.846700191497803, -5.417900085449219, -5.957499980926514, -6.843999862670898, -5.404600143432617, -6.038000106811523, -5.961999893188477, -4.442999839782715, -5.503200054168701, -6.460299968719482, -5.625199794769287, -4.985099792480469, -5.78849983215332, -4.19379997253418, -5.334700107574463, -6.2769999504089355, -6.352399826049805, -6.271699905395508, -5.453999996185303, -5.1992998123168945, -4.957200050354004, -5.794600009918213, -5.255799770355225, -4.889200210571289, -5.1545000076293945, -5.310500144958496, -5.841000080108643, -4.864799976348877, -5.633600234985352, -5.248199939727783, -5.308800220489502, -5.723199844360352, -5.68209981918335, -5.769700050354004, -5.689199924468994, -5.657599925994873, -5.8597002029418945, -5.480999946594238, -5.764699935913086, -5.745100021362305, -5.54610013961792, -6.144999980926514, -6.215099811553955, -6.318299770355225, -6.411099910736084, -6.434299945831299, -6.591300010681152, -6.676700115203857, -6.7932000160217285, -6.961100101470947, -6.962800025939941, -6.978600025177002, -7.001999855041504, -7.010900020599365, -7.019000053405762, -7.052499771118164, -7.0644001960754395, -7.080699920654297, -7.093900203704834, -7.103600025177002, -7.1234002113342285, -7.347599983215332, -7.368100166320801, -7.392199993133545, -7.422900199890137, -7.449900150299072, -7.471799850463867, -7.562099933624268, -7.562099933624268, -7.568699836730957, -5.735799789428711, -6.570799827575684, -6.845200061798096, -6.310400009155273, -5.734799861907959, -6.353799819946289, -6.485300064086914, -5.90749979019165, -6.107100009918213, -5.478300094604492, -5.808199882507324, -6.485300064086914, -6.331600189208984, -6.7144999504089355, -5.986499786376953, -5.952300071716309, -5.1082000732421875, -6.0335001945495605, -5.77869987487793, -5.00600004196167, -6.276700019836426, -5.563300132751465, -5.45989990234375, -6.03410005569458, -5.94980001449585, -4.638700008392334, -6.026100158691406, -5.280200004577637, -6.121699810028076, -5.195499897003174, -5.760000228881836, -5.85860013961792, -6.010900020599365, -5.822700023651123, -5.98330020904541, -5.994999885559082, -6.041100025177002, -6.042799949645996, -6.181700229644775, -7.080100059509277, -7.2982001304626465, -7.376200199127197, -7.658100128173828, -7.658899784088135, -7.744999885559082, -7.7505998611450195, -7.789899826049805, -7.819699764251709, -7.836999893188477, -7.854400157928467, -7.8892998695373535, -7.979599952697754, -8.000100135803223, -8.012499809265137, -8.052300453186035, -8.053799629211426, -8.059399604797363, -8.081999778747559, -7.225299835205078, -8.09160041809082, -8.091699600219727, -8.098099708557129, -8.12909984588623, -8.13949966430664, -8.148799896240234, -8.149200439453125, -8.151300430297852, -8.158900260925293, -7.561699867248535, -7.486599922180176, -7.488500118255615, -7.4934000968933105, -5.875500202178955, -5.052299976348877, -5.725299835205078, -4.554999828338623, -7.907100200653076, -4.366799831390381, -5.667900085449219, -6.51669979095459, -6.9766998291015625, -6.475100040435791, -4.687099933624268, -6.752299785614014, -6.180799961090088, -4.021900177001953, -5.46150016784668, -3.9769999980926514, -6.411099910736084, -5.010200023651123, -4.4552001953125, -3.7695000171661377, -6.42710018157959, -5.925300121307373, -5.945799827575684, -5.242300033569336, -5.58650016784668, -5.775300025939941, -6.16949987411499, -4.613800048828125, -5.057600021362305, -5.756499767303467, -4.957399845123291, -5.139800071716309, -5.075300216674805, -5.553299903869629, -5.319699764251709, -5.345600128173828, -5.255799770355225, -5.013999938964844, -5.46150016784668, -4.92579984664917, -5.483699798583984, -5.028600215911865, -5.151400089263916, -5.093500137329102, -5.426599979400635, -5.46560001373291, -5.5447998046875, -5.519400119781494, -5.544000148773193, -5.374499797821045, -5.505899906158447, -5.567999839782715, -5.797399997711182, -6.160099983215332, -6.16480016708374, -6.31850004196167, -6.592299938201904, -6.592599868774414, -6.629000186920166, -6.633699893951416, -6.635799884796143, -6.768599987030029, -6.787899971008301, -6.841800212860107, -6.866600036621094, -6.870800018310547, -6.895100116729736, -6.933499813079834, -6.936200141906738, -6.958499908447266, -7.002799987792969, -7.033100128173828, -7.052299976348877, -7.077400207519531, -7.161200046539307, -7.24399995803833, -7.2845001220703125, -7.2866997718811035, -7.303400039672852, -5.647299766540527, -5.922599792480469, -4.910900115966797, -6.6097002029418945, -5.625699996948242, -4.688399791717529, -4.379000186920166, -4.805500030517578, -5.526199817657471, -5.188199996948242, -6.385900020599365, -5.368199825286865, -5.8007001876831055, -5.579800128936768, -5.813899993896484, -6.310699939727783, -5.586999893188477, -5.306300163269043, -5.487100124359131, -5.754300117492676, -5.529799938201904, -4.615600109100342, -5.2164998054504395, -5.751699924468994, -5.315800189971924, -5.151599884033203, -5.506899833679199, -5.14900016784668, -5.17609977722168, -5.479599952697754, -5.191400051116943, -5.5528998374938965, -5.5879998207092285, -5.602200031280518, -5.705100059509277, -5.242499828338623, -5.624100208282471, -5.735099792480469, -5.917600154876709, -6.021900177001953, -6.070000171661377, -6.239299774169922, -6.275100231170654, -6.623300075531006, -6.633299827575684, -6.6402997970581055, -6.697199821472168, -6.75540018081665, -6.787700176239014, -6.8059000968933105, -6.84119987487793, -6.8653998374938965, -6.881700038909912, -6.435699939727783, -6.961299896240234, -6.961299896240234, -6.987299919128418, -6.994500160217285, -4.098499774932861, -7.0690999031066895, -7.083799839019775, -7.091300010681152, -7.095399856567383, -7.126699924468994, -7.155300140380859, -4.542600154876709, -6.049499988555908, -5.511899948120117, -6.633699893951416, -5.018700122833252, -6.513400077819824, -4.6539998054504395, -5.287099838256836, -5.305300235748291, -6.388899803161621, -5.385200023651123, -6.308199882507324, -5.6219000816345215, -5.165299892425537, -4.879700183868408, -4.532599925994873, -5.320799827575684, -4.4882001876831055, -5.2017998695373535, -6.176700115203857, -5.852499961853027, -5.361299991607666, -5.248000144958496, -5.381400108337402, -4.743599891662598, -5.663300037384033, -5.764200210571289, -5.102099895477295, -5.691800117492676, -5.8643999099731445, -5.607100009918213, -5.508699893951416, -5.551599979400635, -5.5, -5.666200160980225, -5.67519998550415, -5.6753997802734375, -5.935200214385986, -5.0756001472473145, -6.053899765014648, -6.656799793243408, -6.665299892425537, -6.838399887084961, -6.8520002365112305, -7.0005998611450195, -7.1682000160217285, -7.3003997802734375, -7.318699836730957, -7.338200092315674, -7.339700222015381, -7.3684000968933105, -7.412799835205078, -7.414100170135498, -7.415900230407715, -7.439199924468994, -7.445899963378906, -7.507599830627441, -7.517399787902832, -7.531300067901611, -7.563899993896484, -7.587500095367432, -7.641499996185303, -7.650300025939941, -7.661099910736084, -7.676599979400635, -7.682400226593018, -7.692299842834473, -7.001500129699707, -6.130099773406982, -5.182400226593018, -5.883800029754639, -6.515900135040283, -5.335899829864502, -5.671500205993652, -6.601200103759766, -7.115900039672852, -6.825500011444092, -6.3053998947143555, -5.501999855041504, -4.660399913787842, -5.935100078582764, -4.370999813079834, -6.414000034332275, -4.3379998207092285, -4.630499839782715, -4.935800075531006, -5.416500091552734, -6.618199825286865, -6.40880012512207, -5.656099796295166, -5.341400146484375, -5.365799903869629, -5.238399982452393, -5.227399826049805, -5.944900035858154, -6.1230998039245605, -5.755000114440918, -5.3053998947143555, -5.559899806976318, -5.586100101470947, -5.641600131988525, -5.354300022125244, -5.53410005569458, -5.249499797821045, -4.97760009765625, -5.583399772644043, -5.479899883270264, -5.593400001525879, -5.612100124359131, -5.72730016708374, -4.928699970245361, -5.254000186920166, -5.535099983215332, -5.796999931335449, -5.822800159454346, -5.986199855804443, -6.345600128173828, -5.6915998458862305, -6.504499912261963, -6.535200119018555, -6.547100067138672, -6.758200168609619, -6.7733001708984375, -6.881100177764893, -6.897799968719482, -6.948299884796143, -6.969399929046631, -6.9791998863220215, -6.985599994659424, -7.0015997886657715, -7.0644001960754395, -7.077400207519531, -7.1209001541137695, -7.142199993133545, -7.176400184631348, -7.19920015335083, -7.298999786376953, -7.299799919128418, -7.308300018310547, -7.316299915313721, -6.697999954223633, -5.05049991607666, -5.636300086975098, -4.737599849700928, -4.7403998374938965, -6.4116997718811035, -5.118800163269043, -6.4704999923706055, -6.359899997711182, -5.487599849700928, -5.215700149536133, -6.288700103759766, -6.268899917602539, -6.4980998039245605, -5.6859002113342285, -6.000400066375732, -6.197199821472168, -5.67609977722168, -6.056300163269043, -6.134200096130371, -5.928400039672852, -5.783899784088135, -5.5071001052856445, -5.5335001945495605, -5.87060022354126, -5.951200008392334, -5.911099910736084, -5.75439977645874, -5.196700096130371, -5.747200012207031, -5.786300182342529, -5.542699813842773, -5.566699981689453, -5.340799808502197, -5.724400043487549, -5.896399974822998, -5.858399868011475, -4.686399936676025, -4.838200092315674, -5.174499988555908, -5.58650016784668, -5.678999900817871, -5.781799793243408, -5.875999927520752, -5.905900001525879, -5.952700138092041, -5.99970006942749, -6.0278000831604, -6.092100143432617, -6.095900058746338, -6.157800197601318, -6.21999979019165, -6.240099906921387, -6.259699821472168, -6.282599925994873, -6.301799774169922, -6.335299968719482, -6.360300064086914, -6.398600101470947, -6.42110013961792, -6.457399845123291, -6.458000183105469, -6.660699844360352, -6.662399768829346, -6.682600021362305, -6.696800231933594, -6.740600109100342, -4.091400146484375, -4.189700126647949, -4.927000045776367, -5.518799781799316, -6.236400127410889, -4.483099937438965, -4.954500198364258, -6.077899932861328, -4.488500118255615, -5.789000034332275, -5.924799919128418, -5.304699897766113, -5.6433000564575195, -5.633600234985352, -5.618000030517578, -5.545599937438965, -5.935699939727783, -5.529600143432617, -4.941100120544434, -4.369699954986572, -5.583499908447266, -5.85890007019043, -5.631899833679199, -5.7469000816345215, -5.048500061035156, -4.9355998039245605, -5.2621002197265625, -5.57480001449585, -5.611999988555908, -5.518400192260742, -5.6072998046875, -5.707600116729736, -5.704999923706055, -3.9119999408721924, -4.4644999504089355, -4.602099895477295, -4.686299800872803, -4.793799877166748, -5.249899864196777, -5.49459981918335, -5.794899940490723, -5.831900119781494, -5.832600116729736, -5.872799873352051, -6.041600227355957, -6.099100112915039, -6.183700084686279, -6.187699794769287, -6.2230000495910645, -6.278800010681152, -6.322800159454346, -6.390699863433838, -6.352499961853027, -6.404900074005127, -5.486000061035156, -6.457399845123291, -6.509699821472168, -6.518799781799316, -6.535799980163574, -6.5756001472473145, -6.590000152587891, -6.598100185394287, -6.625, -4.380199909210205, -5.702899932861328, -5.466700077056885, -5.538099765777588, -4.882599830627441, -4.824399948120117, -6.292099952697754, -5.656599998474121, -5.368299961090088, -5.447000026702881, -5.372700214385986, -5.708000183105469, -5.354000091552734, -5.825900077819824, -5.876100063323975, -5.407299995422363, -5.279399871826172, -5.594399929046631, -5.676499843597412, -5.450799942016602, -5.482699871063232, -5.303400039672852, -5.420100212097168, -5.444900035858154, -5.7342000007629395, -4.625800132751465, -5.337299823760986, -4.341599941253662, -5.610300064086914, -6.0019001960754395, -6.0289998054504395, -6.129300117492676, -6.359600067138672, -6.560500144958496, -6.611100196838379, -6.640999794006348, -6.724100112915039, -6.747600078582764, -6.8007001876831055, -6.8805999755859375, -6.885200023651123, -6.918600082397461, -6.919099807739258, -6.944699764251709, -6.979100227355957, -6.998499870300293, -7.089099884033203, -7.151400089263916, -5.643700122833252, -7.219099998474121, -7.253799915313721, -7.256899833679199, -7.264699935913086, -7.3069000244140625, -7.315299987792969, -5.192599773406982, -4.642000198364258, -4.9197998046875, -6.879000186920166, -5.393599987030029, -5.565899848937988, -6.42609977722168, -5.980400085449219, -4.709400177001953, -5.647799968719482, -4.473999977111816, -5.308300018310547, -5.557300090789795, -5.899099826812744, -6.532800197601318, -5.398099899291992, -5.2052001953125, -5.03980016708374, -5.929999828338623, -4.66540002822876, -4.876100063323975, -5.720600128173828, -5.8094000816345215, -5.581299781799316, -5.407700061798096, -4.838600158691406, -5.075300216674805, -5.30709981918335, -5.69980001449585, -5.743000030517578, -5.477499961853027, -5.520699977874756, -5.689300060272217, -5.514999866485596, -5.618500232696533, -5.061500072479248, -5.195400238037109, -5.236499786376953, -5.332600116729736, -4.893599987030029, -5.725599765777588, -5.761300086975098, -5.886899948120117, -5.933700084686279, -5.985599994659424, -6.031400203704834, -6.042099952697754, -6.079999923706055, -6.080100059509277, -6.133299827575684, -6.261199951171875, -6.264699935913086, -6.320899963378906, -6.33620023727417, -6.480599880218506, -6.519800186157227, -6.538599967956543, -6.550300121307373, -6.572199821472168, -6.59689998626709, -6.639800071716309, -6.683300018310547, -6.69320011138916, -6.715000152587891, -6.730100154876709, -5.375500202178955, -4.377799987792969, -5.377500057220459, -5.63730001449585, -3.411600112915039, -5.348299980163574, -5.696800231933594, -6.322800159454346, -5.02869987487793, -5.669899940490723, -6.012700080871582, -5.553299903869629, -6.0015997886657715, -5.357399940490723, -5.697500228881836, -5.717899799346924, -5.829999923706055, -5.735599994659424, -5.807400226593018, -5.82889986038208, -5.960100173950195, -4.537600040435791, -4.950900077819824, -5.699399948120117, -5.821700096130371, -5.826900005340576, -5.866000175476074, -4.059500217437744, -6.00439977645874, -6.018799781799316, -6.021699905395508, -6.047699928283691, -6.092599868774414, -6.096199989318848, -6.119500160217285, -5.414899826049805, -6.196599960327148, -6.265500068664551, -6.287399768829346, -6.328499794006348, -6.368000030517578, -6.4045000076293945, -6.430099964141846, -6.468699932098389, -6.665900230407715, -6.728400230407715, -6.742400169372559, -6.769199848175049, -6.78000020980835, -6.790599822998047, -6.103600025177002, -5.340000152587891, -4.230599880218506, -6.310500144958496, -5.429800033569336, -5.473800182342529, -4.967400074005127, -5.356400012969971, -5.505899906158447, -5.729000091552734, -6.09660005569458, -5.682700157165527, -5.133600234985352, -5.990200042724609, -5.958600044250488, -5.916800022125244, -5.92579984664917, -5.619500160217285, -5.991300106048584, -5.9156999588012695, -5.998600006103516, -5.975900173187256, -5.9882001876831055, -5.964600086212158, -5.2129998207092285, -5.553899765014648, -5.557799816131592, -5.879899978637695, -6.070799827575684, -6.320400238037109, -6.460700035095215, -6.501100063323975, -6.504000186920166, -6.507599830627441, -6.609300136566162, -6.796199798583984, -6.805099964141846, -6.810699939727783, -6.819499969482422, -6.819499969482422, -6.8282999992370605, -6.843400001525879, -6.850800037384033, -6.873499870300293, -6.877399921417236, -6.8892998695373535, -6.92609977722168, -6.950699806213379, -6.969399929046631, -6.992000102996826, -5.996399879455566, -7.010300159454346, -7.018700122833252, -7.023200035095215, -5.604000091552734, -6.465700149536133, -6.032299995422363, -4.434800148010254, -5.7179999351501465, -6.315100193023682, -5.558599948883057, -5.015100002288818, -4.882400035858154, -4.1132001876831055, -5.627500057220459, -6.257500171661377, -5.359799861907959, -5.13100004196167, -5.9710001945495605, -4.986999988555908, -6.1707000732421875, -5.045300006866455, -5.565800189971924, -5.406700134277344, -5.122600078582764, -5.459799766540527, -5.288400173187256, -5.60290002822876, -5.684899806976318, -5.339600086212158, -5.486400127410889, -4.831299781799316, -5.727799892425537, -5.128900051116943, -5.360899925231934, -5.530900001525879, -5.630199909210205, -5.550099849700928, -5.587299823760986, -5.626399993896484, -5.698200225830078, -5.755300045013428, -5.764100074768066, -5.8927001953125, -6.131400108337402, -6.146900177001953, -6.147200107574463, -6.172599792480469, -6.228099822998047, -6.419400215148926, -6.439499855041504, -6.4532999992370605, -6.460700035095215, -5.746699810028076, -6.637599945068359, -6.654200077056885, -6.6641998291015625, -6.675899982452393, -6.7027997970581055, -6.292399883270264, -6.7170000076293945, -6.7434000968933105, -6.750400066375732, -6.779900074005127, -6.850900173187256, -6.856200218200684, -6.899499893188477, -6.902400016784668, -6.90369987487793, -6.9085001945495605, -6.111299991607666, -5.446100234985352, -5.696400165557861, -6.394999980926514, -6.0046000480651855, -4.698400020599365, -6.378799915313721, -5.824100017547607, -4.90500020980835, -5.75540018081665, -5.14109992980957, -6.197299957275391, -5.729400157928467, -6.140600204467773, -5.351600170135498, -4.798099994659424, -5.798799991607666, -5.912199974060059, -5.438899993896484, -5.956299781799316, -6.069200038909912, -5.616499900817871, -5.486599922180176, -5.968299865722656, -5.416800022125244, -5.600599765777588, -5.751100063323975, -6.024700164794922, -5.994999885559082, -6.065499782562256, -6.061100006103516, -4.663099765777588, -4.988800048828125, -3.561000108718872, -5.461699962615967, -5.475200176239014, -5.54010009765625, -5.70419979095459, -5.939000129699707, -5.998000144958496, -6.027299880981445, -6.05810022354126, -6.086599826812744, -6.105599880218506, -6.119999885559082, -6.143499851226807, -6.216800212860107, -6.243800163269043, -4.6255998611450195, -6.450500011444092, -6.48360013961792, -6.48360013961792, -6.48360013961792, -6.519899845123291, -6.55109977722168, -6.625999927520752, -6.6554999351501465, -6.684000015258789, -6.690800189971924, -6.691100120544434, -6.723400115966797, -4.907599925994873, -4.623300075531006, -4.698500156402588, -3.5683999061584473, -5.582200050354004, -4.744500160217285, -5.02839994430542, -4.592899799346924, -5.607600212097168, -4.527699947357178, -3.6059999465942383, -4.646399974822998, -5.1427998542785645, -4.638400077819824, -5.1149001121521, -4.262899875640869, -4.50629997253418, -4.985400199890137, -5.098999977111816, -4.968100070953369, -4.7906999588012695, -4.897900104522705, -4.869900226593018, -5.257900238037109, -4.967199802398682, -5.0040998458862305, -5.066199779510498, -5.183700084686279, -4.041399955749512, -4.90749979019165, -5.119999885559082, -5.174099922180176, -5.229300022125244, -5.236999988555908, -5.532599925994873, -5.676199913024902, -5.69890022277832, -5.735000133514404, -5.76039981842041, -5.870699882507324, -6.049300193786621, -6.0808000564575195, -6.161900043487549, -6.23330020904541, -6.263899803161621, -6.270299911499023, -6.2895002365112305, -6.300600051879883, -6.315100193023682, -6.355299949645996, -6.368500232696533, -6.3805999755859375, -6.386300086975098, -6.46750020980835, -6.480800151824951, -6.482800006866455, -6.49970006942749, -6.599899768829346, -5.393400192260742, -5.664000034332275, -5.934800148010254, -5.460400104522705, -5.149600028991699, -5.912799835205078, -4.781599998474121, -5.999599933624268, -4.875899791717529, -5.771900177001953, -5.190800189971924, -5.011600017547607, -5.643700122833252, -5.939599990844727, -4.918799877166748, -5.559899806976318, -5.210999965667725, -5.4197001457214355, -5.540900230407715, -5.771900177001953, -5.65310001373291, -5.622900009155273, -5.55079984664917, -5.6774001121521, -5.710100173950195, -5.736800193786621, -5.940199851989746, -5.968999862670898, -5.978400230407715, -5.993199825286865, -5.864699840545654, -6.0655999183654785, -6.075399875640869, -6.1178998947143555, -6.139599800109863, -6.196899890899658, -6.2104997634887695, -6.241799831390381, -6.360300064086914, -6.369800090789795, -6.407199859619141, -6.428199768066406, -6.4303998947143555, -6.452700138092041, -6.458899974822998, -6.519400119781494, -6.587900161743164, -6.601799964904785, -6.638999938964844, -6.751699924468994, -6.766600131988525, -6.7906999588012695, -6.808899879455566, -6.813399791717529, -6.8597002029418945, -6.2754998207092285, -6.199999809265137, -6.1168999671936035, -6.222499847412109, -5.755899906158447, -5.629499912261963, -6.066699981689453, -5.500500202178955, -5.605800151824951, -5.332399845123291, -5.481900215148926, -5.283400058746338, -5.926199913024902, -6.244900226593018, -5.824399948120117, -5.414000034332275, -5.529699802398682, -5.441999912261963, -5.884699821472168, -6.032800197601318, -5.415299892425537, -5.312699794769287, -5.666299819946289, -5.791900157928467, -5.765500068664551, -5.976399898529053, -5.622399806976318, -5.827199935913086, -5.769499778747559, -5.65339994430542, -5.843200206756592, -5.959199905395508, -5.94350004196167, -4.5970001220703125, -4.980400085449219, -5.109399795532227, -5.128399848937988, -5.349899768829346, -5.365499973297119, -5.399899959564209, -5.485499858856201, -5.524400234222412, -5.531599998474121, -5.579899787902832, -5.778500080108643, -5.835400104522705, -5.838799953460693, -5.910999774932861, -6.049300193786621, -6.050600051879883, -6.060699939727783, -6.119699954986572, -6.135300159454346, -6.139400005340576, -6.19789981842041, -6.254300117492676, -6.257900238037109, -6.330900192260742, -6.357399940490723, -6.406099796295166, -6.420000076293945, -6.4456000328063965, -6.47599983215332, -5.7733001708984375, -5.97790002822876, -6.22130012512207, -6.061600208282471, -5.058000087738037, -5.090700149536133, -5.4745001792907715, -5.636600017547607, -5.676799774169922, -5.698299884796143, -5.769199848175049, -5.781499862670898, -5.781499862670898, -5.018199920654297, -5.823200225830078, -5.843299865722656, -5.894899845123291, -5.9085001945495605, -5.9085001945495605, -5.963600158691406, -5.9822001457214355, -5.986199855804443, -6.130300045013428, -6.208199977874756, -6.209000110626221, -6.223199844360352, -6.22730016708374, -6.266900062561035, -6.281700134277344, -6.3582000732421875, -6.376299858093262, -6.377799987792969, -6.38070011138916, -6.3917999267578125, -5.511899948120117, -5.305699825286865, -5.2600998878479, -4.819699764251709, -6.115200042724609, -5.352399826049805, -6.174200057983398, -5.690800189971924, -5.9217000007629395, -5.97790002822876, -5.742599964141846, -6.059899806976318, -6.0605998039245605, -6.093999862670898, -6.059100151062012, -4.4380998611450195, -4.819399833679199, -5.1493000984191895, -5.179800033569336, -5.25, -5.323999881744385, -5.504000186920166, -5.524600028991699, -5.5929999351501465, -5.599100112915039, -5.607800006866455, -5.691400051116943, -5.774600028991699, -5.846700191497803, -5.869200229644775, -5.879000186920166, -5.949900150299072, -6.031099796295166, -6.0366997718811035, -6.064199924468994, -6.122900009155273, -6.2835001945495605, -6.291900157928467, -6.311500072479248, -6.324900150299072, -6.335599899291992, -6.373199939727783, -6.398200035095215, -6.398600101470947, -6.399799823760986, -4.274199962615967, -5.959099769592285, -6.181700229644775, -5.154300212860107, -4.741499900817871, -5.463500022888184, -5.1346001625061035, -4.902400016784668, -4.529600143432617, -5.141499996185303, -5.542300224304199, -5.252500057220459, -5.634200096130371, -5.59630012512207, -5.713900089263916, -5.727200031280518, -5.868199825286865], \"loglift\": [30.0, 29.0, 28.0, 27.0, 26.0, 25.0, 24.0, 23.0, 22.0, 21.0, 20.0, 19.0, 18.0, 17.0, 16.0, 15.0, 14.0, 13.0, 12.0, 11.0, 10.0, 9.0, 8.0, 7.0, 6.0, 5.0, 4.0, 3.0, 2.0, 1.0, 1.5356, 1.5333, 1.5303, 1.5301, 1.5297, 1.5288, 1.5278, 1.5268, 1.5256, 1.5249, 1.5241, 1.5233, 1.5231, 1.5228, 1.5227, 1.522, 1.5219, 1.5218, 1.5212, 1.5211, 1.5206, 1.5206, 1.5205, 1.5203, 1.5197, 1.5194, 1.5194, 1.5183, 1.5178, 1.5178, 1.5165, 1.505, 1.5054, 1.508, 1.5043, 1.5071, 1.4241, 1.4345, 1.4266, 1.4555, 1.407, 1.4505, 1.2511, 1.3352, 1.3551, 1.4086, 1.4489, 1.2958, 1.2144, 1.2722, 1.3719, 1.1926, 1.2674, 1.2501, 1.0359, 1.175, 1.3172, 1.1872, 1.0791, 1.1871, 0.8885, 1.0925, 1.2648, 1.2814, 1.2623, 1.0594, 0.9352, 0.8494, 1.0987, 0.9046, 0.7606, 0.8284, 0.874, 1.0861, 0.6538, 0.969, 0.7258, 0.6824, 0.9672, 0.8735, 0.9574, 0.7937, 0.6698, 1.0581, 0.201, 0.8385, 0.5883, 2.3775, 2.3755, 2.3752, 2.3747, 2.3742, 2.374, 2.373, 2.3724, 2.3715, 2.3699, 2.3699, 2.3697, 2.3695, 2.3694, 2.3693, 2.369, 2.3688, 2.3687, 2.3685, 2.3684, 2.3682, 2.3652, 2.3649, 2.3645, 2.3641, 2.3636, 2.3633, 2.3617, 2.3617, 2.3616, 2.357, 2.3526, 2.3514, 2.313, 2.2819, 2.3127, 2.3129, 2.2659, 2.2808, 2.2305, 2.2362, 2.2991, 2.2664, 2.2981, 2.129, 2.1157, 1.8985, 2.1167, 2.0128, 1.7174, 2.1364, 1.8682, 1.7601, 1.9869, 1.9356, 0.8402, 1.8517, 1.0209, 1.8177, -0.1132, 1.0235, 1.1957, 1.4638, 0.1602, 0.8511, 0.1395, 0.1434, 0.0215, 2.4473, 2.4411, 2.4382, 2.437, 2.4317, 2.4317, 2.4298, 2.4296, 2.4287, 2.428, 2.4275, 2.4271, 2.4262, 2.4236, 2.423, 2.4227, 2.4214, 2.4214, 2.4212, 2.4205, 2.4203, 2.4202, 2.4202, 2.42, 2.4189, 2.4186, 2.4183, 2.4183, 2.4182, 2.4179, 2.41, 2.4083, 2.4027, 2.3984, 2.2813, 2.2268, 2.2425, 2.1359, 2.4059, 2.0675, 2.095, 2.2057, 2.2434, 2.1538, 1.8335, 2.1998, 2.078, 1.6279, 1.9098, 1.5416, 2.0832, 1.7306, 1.536, 1.3129, 2.0526, 1.8903, 1.8876, 1.6509, 1.7656, 1.8133, 1.9505, 1.3602, 1.4676, 1.7566, 1.37, 1.3737, 1.3242, 1.5722, 1.4273, 1.3861, 1.3235, 1.1463, 1.4366, 0.8524, 1.4143, 0.6535, 0.8315, 0.7131, 0.8745, 0.9616, 1.3142, 0.727, 0.8494, 2.5445, 2.5444, 2.5442, 2.5435, 2.5418, 2.5418, 2.5409, 2.539, 2.5389, 2.5386, 2.5386, 2.5386, 2.5374, 2.5372, 2.5366, 2.5364, 2.5363, 2.5361, 2.5356, 2.5356, 2.5353, 2.5348, 2.5344, 2.5342, 2.5339, 2.5327, 2.5315, 2.5308, 2.5308, 2.5305, 2.5245, 2.5245, 2.5108, 2.5263, 2.5077, 2.4873, 2.4746, 2.4813, 2.4963, 2.4825, 2.5073, 2.4101, 2.4291, 2.3888, 2.4045, 2.4515, 2.3323, 2.2027, 2.1185, 2.1742, 2.0742, 1.6148, 1.8969, 2.1299, 1.8556, 1.7395, 1.9056, 1.5452, 1.0703, 1.3549, 0.4906, 0.9732, 0.8054, 0.7973, 0.7395, 2.6503, 2.6493, 2.6489, 2.6481, 2.6476, 2.6473, 2.6463, 2.6461, 2.6433, 2.6432, 2.6432, 2.6426, 2.642, 2.6416, 2.6414, 2.641, 2.6407, 2.6406, 2.6401, 2.6395, 2.6395, 2.6392, 2.6391, 2.6385, 2.638, 2.6378, 2.6377, 2.6377, 2.6372, 2.6367, 2.603, 2.6126, 2.5905, 2.6082, 2.4738, 2.59, 2.4098, 2.4654, 2.45, 2.566, 2.421, 2.5296, 2.3676, 2.2459, 2.14, 1.9991, 2.2308, 1.9231, 2.1315, 2.4673, 2.34, 2.1335, 2.0773, 2.0987, 1.7826, 2.2076, 2.1085, 1.3425, 1.9682, 2.0987, 1.284, 0.7216, 0.8418, 0.182, 1.0746, 0.9001, 0.571, 2.7392, 2.7387, 2.7385, 2.7337, 2.7336, 2.7316, 2.7314, 2.7294, 2.7266, 2.7242, 2.7238, 2.7234, 2.7234, 2.7228, 2.7218, 2.7218, 2.7217, 2.7212, 2.721, 2.7196, 2.7193, 2.719, 2.7181, 2.7175, 2.7161, 2.7158, 2.7155, 2.7151, 2.7149, 2.7146, 2.7046, 2.6706, 2.5817, 2.6153, 2.6474, 2.5467, 2.5596, 2.6387, 2.6793, 2.6345, 2.5691, 2.456, 2.2997, 2.4819, 2.2043, 2.5472, 2.1796, 2.1166, 2.1648, 2.2211, 2.5362, 2.4746, 2.243, 2.0846, 2.0435, 1.9655, 1.9196, 2.232, 2.2761, 2.0277, 1.663, 1.8232, 1.7702, 1.8197, 1.5368, 1.6275, 1.1618, 0.7044, 1.588, 1.2143, 1.2642, 0.9085, 1.4361, 2.7592, 2.7585, 2.7576, 2.7565, 2.7564, 2.7556, 2.7532, 2.753, 2.7518, 2.7515, 2.7514, 2.7491, 2.749, 2.7476, 2.7474, 2.7466, 2.7463, 2.7462, 2.7461, 2.7459, 2.7449, 2.7447, 2.7439, 2.7436, 2.743, 2.7425, 2.7406, 2.7406, 2.7404, 2.7403, 2.7399, 2.6879, 2.7018, 2.6575, 2.6095, 2.6235, 2.3994, 2.6307, 2.6, 2.3852, 2.2789, 2.5559, 2.5416, 2.6077, 2.3651, 2.4274, 2.4932, 2.1958, 2.3664, 2.394, 2.2488, 2.1338, 1.9112, 1.9086, 2.1521, 2.1656, 2.112, 1.913, 1.1366, 1.6843, 1.6564, 1.0285, 0.9613, 0.1382, 0.999, 1.5783, -0.1764, 3.0725, 3.0721, 3.0711, 3.0694, 3.0689, 3.0683, 3.0677, 3.0675, 3.0672, 3.0668, 3.0666, 3.0661, 3.0661, 3.0655, 3.0649, 3.0647, 3.0645, 3.0643, 3.0641, 3.0638, 3.0635, 3.0631, 3.0628, 3.0624, 3.0624, 3.0596, 3.0596, 3.0593, 3.0591, 3.0584, 3.011, 2.9993, 3.0193, 3.0285, 3.0469, 2.9879, 2.9741, 3.0402, 2.9328, 2.9921, 3.0086, 2.916, 2.9409, 2.9373, 2.9304, 2.8866, 2.9863, 2.8704, 2.6684, 2.1583, 2.7067, 2.9014, 2.6548, 2.7776, 1.578, 1.1979, 1.6828, 2.2888, 2.1214, 1.3161, 1.3342, 2.2798, 0.2862, 3.1032, 3.1028, 3.1026, 3.1024, 3.1021, 3.1005, 3.0982, 3.0979, 3.0978, 3.0978, 3.0975, 3.0962, 3.0958, 3.0949, 3.0949, 3.0946, 3.094, 3.0936, 3.0928, 3.0927, 3.0926, 3.0924, 3.092, 3.0913, 3.0912, 3.091, 3.0904, 3.0902, 3.0901, 3.0897, 3.0897, 3.0799, 3.0736, 3.0689, 3.0062, 2.9826, 3.0634, 2.8868, 2.743, 2.6862, 2.5712, 2.7489, 2.4861, 2.7762, 2.7369, 2.1397, 1.8498, 2.2599, 2.392, 1.937, 1.8635, 1.2937, 1.3823, 0.2371, 2.0277, 3.22, 3.2177, 3.2172, 3.2162, 3.2133, 3.2131, 3.2121, 3.2095, 3.2067, 3.2059, 3.2054, 3.2039, 3.2035, 3.2025, 3.2009, 3.2008, 3.2001, 3.2, 3.1995, 3.1987, 3.1982, 3.196, 3.1943, 3.1929, 3.1924, 3.1914, 3.1913, 3.191, 3.1897, 3.1894, 3.184, 3.106, 3.102, 3.172, 3.0733, 3.0707, 3.1348, 3.0809, 2.9161, 3.0188, 2.8395, 2.934, 2.9605, 2.9985, 3.1158, 2.8297, 2.7376, 2.6221, 2.8478, 2.0579, 2.1782, 2.6171, 2.6533, 2.4418, 2.2263, 1.3918, 1.1711, 1.3871, 2.229, 2.3652, 1.0401, 1.1163, 1.896, -0.4327, 0.9076, 3.3903, 3.3897, 3.3895, 3.389, 3.3883, 3.3864, 3.3861, 3.385, 3.3846, 3.3841, 3.3836, 3.3835, 3.383, 3.383, 3.3824, 3.3808, 3.3807, 3.3799, 3.3797, 3.3774, 3.3768, 3.3764, 3.3762, 3.3758, 3.3754, 3.3745, 3.3736, 3.3734, 3.373, 3.3727, 3.3628, 3.3155, 3.3399, 3.3437, 3.2663, 3.2784, 3.2786, 3.3078, 2.8551, 2.6881, 2.9118, 2.0932, 2.725, 1.1743, 1.9644, 1.9421, 1.7162, 0.3979, 0.7206, 0.8652, 1.7184, 3.4689, 3.4676, 3.4631, 3.462, 3.4619, 3.4615, 3.4601, 3.4601, 3.4599, 3.4599, 3.4595, 3.459, 3.459, 3.4587, 3.4578, 3.4576, 3.4566, 3.4563, 3.4557, 3.455, 3.4544, 3.454, 3.4533, 3.4493, 3.4479, 3.4476, 3.447, 3.4467, 3.4464, 3.4453, 3.4352, 3.2826, 3.4066, 3.2069, 3.2024, 3.0118, 2.9615, 2.7835, 2.8146, 3.1444, 2.4945, 1.6688, 2.9309, 2.7758, 2.5636, 2.5799, 0.9517, 2.5709, 1.8013, 2.3146, 1.9493, 1.4865, -0.8822, 3.5343, 3.532, 3.5319, 3.529, 3.5267, 3.523, 3.5204, 3.5196, 3.5196, 3.5195, 3.5174, 3.5128, 3.5125, 3.5124, 3.5122, 3.5122, 3.5119, 3.5115, 3.5113, 3.5106, 3.5105, 3.5102, 3.5091, 3.5083, 3.5077, 3.507, 3.507, 3.5064, 3.5062, 3.506, 3.4238, 3.4685, 3.3788, 3.046, 3.2767, 3.3171, 2.9745, 2.6797, 2.5892, 2.2201, 2.8967, 3.2095, 2.7098, 2.5387, 3.0285, 2.4478, 3.1424, 2.4063, 2.7369, 2.4454, 2.1735, 2.4577, 2.2062, 2.4059, 2.4482, 1.951, 2.0368, 0.6476, 2.3811, 0.5209, 1.1643, 1.592, 1.9441, 1.0292, 1.3018, 1.2325, 3.8246, 3.8239, 3.8238, 3.822, 3.818, 3.8178, 3.8177, 3.8173, 3.8162, 3.8118, 3.8113, 3.811, 3.8108, 3.808, 3.8058, 3.8053, 3.805, 3.8047, 3.8038, 3.8036, 3.8033, 3.8024, 3.8022, 3.8012, 3.7986, 3.7984, 3.7967, 3.7966, 3.7966, 3.7964, 3.7845, 3.727, 3.7396, 3.7753, 3.7347, 3.6354, 3.7377, 3.6137, 3.4061, 3.5675, 3.3983, 3.6368, 3.3626, 3.5044, 2.8703, 2.0364, 3.0895, 3.2101, 2.653, 3.2317, 3.2742, 2.5363, 2.1348, 3.0263, 1.1084, 1.4825, 2.0441, 2.8971, 2.4285, 2.7016, 2.2048, 3.9858, 3.9838, 3.9805, 3.9795, 3.9794, 3.9786, 3.9764, 3.9726, 3.9715, 3.971, 3.9703, 3.9697, 3.9693, 3.969, 3.9685, 3.9668, 3.9662, 3.9616, 3.9606, 3.9596, 3.9596, 3.9596, 3.9584, 3.9574, 3.9549, 3.9538, 3.9528, 3.9525, 3.9525, 3.9513, 3.9495, 3.9097, 3.904, 3.7266, 3.8601, 3.5352, 3.5965, 3.4063, 3.6935, 3.2197, 2.8052, 3.1479, 3.2585, 2.8492, 3.1382, 2.2688, 2.4624, 2.9158, 2.8762, 2.6823, 2.3708, 2.5052, 1.9877, 2.6095, 1.5608, 1.6329, 1.5569, 1.6085, 4.0445, 4.0405, 4.0389, 4.0384, 4.0379, 4.0378, 4.0345, 4.0326, 4.0322, 4.0317, 4.0313, 4.0294, 4.026, 4.0253, 4.0235, 4.0217, 4.0209, 4.0208, 4.0202, 4.0199, 4.0195, 4.0184, 4.018, 4.0177, 4.0175, 4.015, 4.0146, 4.0146, 4.014, 4.0106, 4.0072, 3.998, 3.9899, 3.883, 3.8396, 3.8843, 3.4224, 3.8765, 3.39, 3.7721, 3.4535, 3.183, 3.5763, 3.7513, 2.6852, 3.1183, 2.0796, 2.4197, 2.4701, 3.044, 2.4997, 2.2312, 1.3028, 2.3001, 2.3277, 4.0469, 4.0434, 4.0428, 4.0426, 4.0423, 4.0421, 4.0408, 4.0406, 4.0396, 4.0391, 4.0377, 4.0374, 4.0366, 4.0333, 4.0331, 4.0319, 4.0313, 4.0312, 4.0305, 4.0303, 4.0283, 4.0259, 4.0254, 4.024, 4.0195, 4.0188, 4.0178, 4.017, 4.0168, 4.0147, 4.0137, 3.9776, 3.8893, 3.9021, 3.8045, 3.7528, 3.8524, 3.6268, 3.6587, 3.4196, 3.4949, 2.9702, 3.5035, 3.8263, 3.3374, 2.821, 2.9502, 2.7858, 3.2836, 3.4585, 1.9223, 1.487, 2.3494, 2.6595, 2.2232, 3.1253, 1.0718, 2.1602, 1.7665, 0.9836, 2.2046, 2.8885, 0.6318, 4.3225, 4.3194, 4.3181, 4.3179, 4.315, 4.3148, 4.3143, 4.313, 4.3124, 4.3122, 4.3114, 4.3075, 4.3063, 4.3062, 4.3045, 4.3009, 4.3008, 4.3005, 4.2988, 4.2984, 4.2982, 4.2964, 4.2945, 4.2944, 4.2918, 4.2908, 4.2889, 4.2884, 4.2873, 4.2861, 4.1741, 3.6992, 3.5219, 0.7381, 4.5518, 4.5513, 4.5449, 4.5414, 4.5404, 4.5399, 4.5381, 4.5377, 4.5377, 4.5376, 4.5366, 4.536, 4.5345, 4.5341, 4.5341, 4.5323, 4.5317, 4.5316, 4.5265, 4.5234, 4.5234, 4.5228, 4.5226, 4.5209, 4.5203, 4.5168, 4.5159, 4.5159, 4.5157, 4.5152, 4.434, 4.1969, 4.1537, 3.5472, 4.3405, 3.3698, 4.3121, 2.825, 3.4753, 3.5801, 1.9706, 3.6822, 3.521, 3.7974, 2.4059, 4.8426, 4.8381, 4.8327, 4.8321, 4.8306, 4.829, 4.8244, 4.8239, 4.8219, 4.8217, 4.8214, 4.8188, 4.8159, 4.8133, 4.8124, 4.812, 4.8091, 4.8055, 4.8053, 4.804, 4.8011, 4.7925, 4.792, 4.7908, 4.79, 4.7894, 4.7871, 4.7855, 4.7854, 4.7854, 4.3763, 4.6996, 4.7315, 4.4698, 4.2683, 4.4851, 4.3402, 4.1567, 3.5623, 3.8298, 4.1467, 3.0613, 3.8069, 3.3098, 2.3623, 1.6103, 1.2788]}, \"token.table\": {\"Topic\": [19, 20, 1, 2, 3, 4, 5, 6, 10, 4, 4, 14, 1, 2, 3, 4, 6, 7, 15, 4, 6, 11, 18, 6, 7, 10, 13, 1, 2, 3, 4, 5, 17, 19, 1, 13, 2, 6, 7, 10, 1, 2, 3, 9, 10, 6, 10, 15, 17, 5, 11, 1, 2, 3, 4, 5, 6, 7, 8, 9, 10, 11, 12, 14, 17, 4, 14, 2, 2, 7, 8, 10, 11, 12, 1, 2, 4, 5, 6, 7, 8, 9, 13, 17, 2, 4, 6, 7, 9, 10, 11, 17, 1, 12, 19, 7, 5, 6, 6, 17, 1, 2, 3, 4, 5, 10, 1, 2, 3, 4, 5, 10, 1, 2, 3, 4, 5, 10, 13, 13, 13, 1, 3, 4, 5, 19, 2, 4, 5, 6, 1, 3, 4, 5, 3, 4, 5, 5, 4, 6, 7, 8, 10, 11, 12, 13, 16, 12, 12, 5, 6, 7, 10, 11, 12, 7, 1, 2, 5, 9, 5, 7, 12, 7, 13, 7, 12, 13, 2, 7, 13, 1, 2, 3, 4, 5, 6, 7, 8, 9, 11, 12, 13, 14, 16, 19, 1, 1, 16, 2, 1, 11, 11, 11, 11, 6, 16, 13, 1, 1, 2, 5, 6, 15, 10, 1, 3, 4, 5, 6, 7, 10, 11, 17, 7, 12, 13, 7, 13, 7, 13, 12, 1, 2, 3, 4, 5, 7, 8, 9, 10, 12, 13, 14, 15, 16, 4, 5, 13, 1, 20, 20, 2, 8, 12, 1, 2, 3, 4, 5, 6, 9, 11, 12, 17, 15, 1, 12, 13, 13, 1, 9, 1, 9, 1, 2, 3, 5, 8, 9, 4, 6, 11, 17, 2, 6, 7, 17, 1, 2, 3, 4, 5, 6, 8, 12, 14, 15, 17, 18, 9, 9, 16, 16, 5, 6, 4, 5, 4, 5, 10, 15, 17, 1, 2, 3, 4, 5, 7, 8, 11, 12, 13, 15, 16, 17, 19, 20, 1, 4, 5, 7, 10, 13, 17, 15, 2, 4, 6, 7, 8, 13, 6, 13, 1, 2, 3, 4, 6, 7, 9, 11, 15, 16, 20, 6, 7, 8, 3, 4, 13, 16, 16, 16, 12, 14, 17, 18, 8, 5, 1, 3, 4, 5, 10, 11, 12, 15, 6, 1, 3, 5, 6, 7, 11, 13, 14, 20, 7, 3, 7, 9, 12, 13, 20, 16, 2, 3, 4, 16, 18, 18, 4, 5, 17, 4, 14, 16, 20, 2, 16, 8, 1, 3, 4, 5, 7, 8, 9, 12, 13, 17, 2, 4, 6, 8, 12, 14, 20, 13, 7, 6, 13, 13, 16, 14, 4, 5, 16, 3, 4, 8, 12, 2, 3, 13, 14, 16, 1, 2, 3, 4, 5, 10, 14, 15, 16, 10, 19, 9, 4, 10, 17, 3, 6, 7, 8, 11, 12, 17, 20, 4, 19, 1, 2, 5, 9, 4, 10, 16, 5, 15, 1, 5, 17, 2, 1, 3, 4, 5, 6, 14, 15, 3, 7, 8, 3, 3, 4, 10, 3, 13, 1, 1, 9, 8, 9, 9, 9, 20, 9, 18, 18, 10, 17, 17, 2, 3, 4, 20, 14, 2, 7, 8, 9, 11, 12, 13, 14, 2, 10, 12, 1, 2, 3, 9, 10, 3, 5, 6, 5, 6, 7, 10, 20, 1, 2, 3, 4, 5, 6, 10, 15, 17, 20, 17, 1, 7, 9, 12, 13, 14, 7, 4, 5, 12, 19, 2, 3, 4, 6, 7, 11, 12, 19, 5, 15, 1, 2, 3, 4, 7, 8, 9, 12, 13, 16, 16, 4, 6, 10, 4, 5, 6, 1, 2, 3, 4, 6, 10, 17, 10, 5, 3, 7, 13, 3, 4, 5, 6, 10, 17, 2, 1, 2, 1, 14, 20, 1, 2, 4, 5, 12, 4, 20, 6, 2, 3, 4, 6, 7, 9, 11, 14, 17, 12, 15, 17, 1, 2, 5, 9, 10, 13, 2, 3, 4, 5, 6, 7, 8, 10, 11, 4, 20, 14, 12, 1, 2, 4, 6, 15, 16, 5, 17, 19, 4, 5, 6, 11, 19, 1, 2, 3, 4, 7, 8, 10, 11, 14, 16, 1, 2, 3, 4, 5, 7, 8, 9, 10, 12, 13, 2, 7, 10, 12, 1, 2, 3, 7, 10, 12, 15, 1, 2, 3, 4, 8, 9, 13, 1, 2, 3, 4, 5, 6, 7, 8, 9, 10, 12, 16, 2, 10, 13, 1, 2, 3, 4, 6, 7, 8, 10, 11, 12, 16, 17, 2, 7, 10, 2, 10, 2, 10, 13, 1, 2, 4, 5, 8, 9, 13, 14, 16, 19, 1, 8, 13, 15, 17, 10, 17, 10, 17, 17, 17, 15, 15, 17, 12, 3, 1, 2, 3, 4, 5, 6, 7, 9, 10, 12, 13, 14, 15, 17, 20, 5, 3, 6, 15, 14, 2, 3, 4, 5, 6, 10, 11, 17, 2, 4, 5, 6, 8, 9, 14, 16, 19, 1, 2, 3, 5, 6, 8, 9, 10, 11, 19, 2, 2, 3, 4, 10, 14, 1, 2, 9, 13, 2, 1, 10, 4, 5, 15, 1, 2, 4, 5, 15, 10, 9, 11, 17, 16, 16, 8, 8, 17, 19, 1, 17, 5, 6, 10, 10, 1, 19, 4, 5, 10, 4, 5, 4, 5, 5, 6, 7, 10, 3, 5, 6, 10, 14, 17, 9, 19, 2, 6, 7, 8, 17, 1, 2, 14, 9, 1, 3, 10, 13, 10, 1, 2, 3, 10, 12, 14, 14, 20, 4, 13, 16, 4, 5, 8, 13, 16, 2, 4, 5, 13, 16, 4, 2, 3, 4, 12, 16, 1, 2, 19, 3, 1, 9, 11, 6, 7, 9, 12, 13, 14, 17, 3, 6, 15, 17, 1, 3, 4, 5, 6, 10, 14, 15, 17, 8, 4, 2, 3, 14, 3, 4, 14, 17, 3, 4, 5, 6, 15, 17, 10, 10, 17, 2, 7, 10, 3, 11, 14, 15, 10, 5, 15, 5, 8, 15, 13, 18, 1, 4, 5, 15, 10, 10, 12, 9, 4, 1, 2, 3, 4, 5, 8, 9, 10, 12, 13, 14, 1, 3, 4, 5, 7, 9, 13, 1, 2, 13, 14, 19, 1, 2, 7, 14, 17, 11, 11, 6, 3, 5, 2, 4, 9, 1, 2, 3, 5, 7, 9, 10, 12, 3, 1, 9, 1, 12, 8, 12, 14, 1, 3, 4, 5, 10, 14, 16, 17, 9, 13, 19, 2, 7, 10, 18, 5, 6, 10, 15, 6, 5, 6, 7, 10, 18, 12, 1, 2, 3, 4, 5, 6, 9, 10, 13, 17, 1, 2, 3, 7, 9, 13, 19, 2, 2, 1, 2, 3, 4, 5, 6, 7, 8, 9, 10, 11, 12, 13, 14, 15, 16, 17, 17, 3, 19, 20, 7, 11, 3, 7, 13, 16, 4, 14, 8, 1, 2, 3, 10, 9, 5, 5, 1, 10, 14, 16, 4, 5, 6, 12, 15, 1, 2, 10, 2, 6, 7, 11, 12, 17, 1, 2, 3, 4, 9, 16, 2, 3, 4, 7, 8, 10, 12, 13, 14, 16, 11, 14, 7, 10, 12, 4, 8, 12, 15, 4, 8, 5, 12, 10, 16, 7, 19, 19, 6, 2, 6, 9, 11, 12, 3, 6, 12, 1, 2, 3, 4, 5, 8, 12, 16, 14, 18, 18, 1, 10, 1, 2, 7, 8, 10, 15, 6, 7, 8, 12, 15, 14, 1, 2, 3, 4, 7, 8, 10, 12, 13, 1, 2, 3, 4, 5, 6, 8, 9, 11, 14, 16, 2, 8, 15, 9, 1, 2, 7, 10, 4, 5, 6, 1, 2, 3, 4, 5, 1, 2, 7, 1, 3, 4, 7, 9, 11, 13, 14, 20, 20, 20, 1, 2, 3, 5, 6, 7, 13, 16, 17, 2, 15, 2, 2, 6, 1, 2, 3, 7, 12, 13, 1, 2, 3, 4, 8, 9, 12, 4, 5, 6, 10, 11, 8, 17, 17, 7, 1, 2, 6, 7, 1, 2, 3, 4, 9, 12, 13, 17, 4, 11, 14, 1, 9, 1, 3, 8, 9, 12, 17, 14, 16, 1, 2, 3, 4, 5, 6, 7, 10, 12, 13, 14, 12, 18, 11, 7, 1, 2, 3, 4, 5, 7, 8, 10, 11, 14, 16, 7, 16, 1, 2, 6, 7, 9, 11, 12, 17, 8, 8, 12, 1, 3, 5, 9, 11, 14, 12, 9, 1, 2, 3, 5, 6, 8, 10, 12, 13, 12, 3, 7, 7, 13, 16, 19, 1, 3, 17, 14, 1, 8, 13, 1, 2, 4, 5, 6, 1, 1, 2, 1, 2, 4, 5, 6, 7, 9, 10, 15, 1, 2, 4, 5, 6, 7, 15, 19, 1, 2, 4, 5, 6, 8, 9, 10, 2, 3, 6, 7, 10, 3, 4, 5, 6, 15, 1, 2, 3, 4, 5, 6, 7, 10, 11, 15, 10, 19, 19, 2, 10, 11, 17, 12, 1, 4, 5, 15, 2, 4, 10, 19, 3, 4, 5, 9, 11, 13, 14, 17, 14, 2, 12, 16, 2, 4, 5, 6, 19, 3, 4, 6, 19, 3, 19, 15, 2, 9, 2, 6, 7, 12, 12, 13, 14, 12, 19, 12, 12, 7, 16, 12, 9, 8, 7, 9, 12, 9, 12, 2, 5, 7, 1, 3, 4, 6, 7, 8, 9, 11, 13, 19, 17, 5, 18, 1, 2, 15, 4, 4, 13, 11, 4, 5, 5, 10, 17, 2, 7, 9, 12, 13, 16, 2, 5, 19, 8, 14, 3, 1, 2, 3, 4, 5, 9, 13, 3, 9, 20, 1, 2, 3, 2, 4, 7, 11, 12, 19, 15, 6, 16, 15, 4, 5, 11, 20, 1, 2, 3, 4, 5, 6, 7, 8, 9, 11, 12, 13, 15, 16, 17, 1, 2, 3, 4, 5, 7, 8, 9, 13, 14, 15, 8, 14, 7, 11, 11, 1, 2, 9, 8, 6, 8, 12, 16, 12, 12, 1, 2, 3, 4, 5, 7, 8, 9, 12, 13, 14, 16, 17, 2, 10, 8, 1, 2, 4, 7, 13, 15, 17, 15, 6, 15, 18, 1, 2, 7, 9, 11, 13, 1, 2, 3, 4, 5, 6, 7, 8, 10, 12, 13, 16, 17, 8, 1, 2, 3, 4, 5, 6, 8, 10, 14, 15, 17, 1, 2, 3, 4, 5, 6, 7, 8, 10, 12, 15, 1, 3, 4, 5, 6, 7, 8, 11, 13, 15, 16, 6, 1, 2, 3, 4, 5, 7, 8, 9, 10, 11, 12, 13, 14, 19, 20, 10, 19, 2, 3, 5, 10, 12, 16, 20, 1, 3, 4, 5, 7, 13, 1, 9, 19, 16, 1, 3, 5, 9, 9, 11, 16, 13, 4, 1, 2, 3, 4, 5, 6, 7, 8, 9, 10, 11, 12, 14, 3, 4, 5, 6, 8, 10, 6, 1, 2, 3, 4, 5, 8, 10, 11, 20, 20, 6, 3, 1, 2, 3, 4, 5, 6, 7, 8, 9, 10, 12, 14, 15, 13, 3, 5, 6, 8, 11, 10, 1, 2, 3, 4, 5, 6, 7, 8, 9, 10, 12, 13, 14, 16, 20, 13, 9, 11, 4, 6, 11, 17, 20, 1, 17, 9, 19, 17, 18, 1, 2, 3, 5, 9, 12, 1, 2, 6, 7, 14, 1, 2, 4, 5, 8, 12, 5, 1, 2, 2, 9, 13, 14, 18, 8, 13, 1, 2, 3, 4, 5, 7, 8, 9, 10, 12, 3, 7, 12, 14, 16, 2, 7, 10, 11, 12, 13, 17, 2, 2, 3, 4, 7, 10, 12, 8, 12, 19, 7, 9, 11, 11, 15, 1, 3, 4, 6, 9, 17, 3, 4, 5, 13, 4, 4, 6, 8, 1, 11, 6, 7, 4, 5, 6, 7, 11, 14, 16, 16, 16, 14, 3, 5, 1, 3, 1, 2, 3, 4, 5, 8, 9, 10, 11, 12, 14, 16, 2, 12, 1, 2, 3, 4, 5, 6, 9, 10, 12, 14, 15, 10, 7, 7, 1, 2, 3, 4, 5, 6, 8, 9, 11, 12, 13, 15, 17, 20, 6, 11, 1, 2, 6, 7, 10, 11, 6, 7, 9, 11, 17, 2, 12, 12, 10, 1, 2, 3, 4, 5, 10, 13, 1, 9, 13, 1, 6, 8, 12, 14, 20, 1, 2, 3, 5, 6, 7, 8, 10, 11, 1, 4, 6, 9, 10, 1, 2, 3, 4, 5, 8, 15, 16, 3, 18, 15, 3, 1, 2, 3, 5, 9, 12, 13, 4, 18, 18, 18, 20, 5, 15, 19, 1, 2, 3, 4, 5, 6, 7, 8, 10, 12, 13, 15, 17, 19, 15, 1, 11, 12, 1, 2, 3, 4, 6, 12, 13, 15, 2, 1, 2, 3, 4, 5, 6, 7, 8, 9, 10, 13, 15, 5, 11, 11, 11, 7, 7, 14, 4, 5, 15, 6, 17, 1, 1, 14, 12, 2, 12, 4, 5, 7, 10, 14, 15, 20, 20, 15, 1, 2, 3, 4, 5, 6, 7, 9, 10, 12, 13, 15, 17, 18, 19, 10, 1, 2, 3, 4, 7, 9, 10, 13, 14, 15, 16, 17, 18, 9, 16, 3, 13, 10, 1, 2, 6, 7, 8, 9, 11, 19, 11, 2, 9, 12, 16, 6, 8, 1, 2, 3, 6, 7, 9, 10, 12, 13, 1, 7, 11, 1, 2, 5, 7, 8, 11, 14, 15, 15, 6, 7, 8, 16, 3, 4, 6, 10, 13, 17, 10, 14, 1, 3, 4, 5, 6, 12, 19, 4, 6, 8, 2, 6, 7, 8, 11, 4, 5, 5, 11, 1, 4, 8, 10, 12, 8, 12, 13, 3, 4, 8, 8, 8, 8, 1, 2, 3, 4, 5, 6, 9, 15, 19, 6, 18, 18, 15, 18, 1, 2, 3, 4, 5, 6, 8, 9, 10, 14, 15, 1, 2, 4, 5, 6, 8, 14, 17, 2, 7, 10, 13, 2, 7, 2, 12, 6, 17, 9, 4, 5, 7, 4, 1, 2, 3, 4, 6, 8, 12, 2, 5, 6, 1, 2, 3, 4, 7, 8, 9, 10, 11, 14, 16, 4, 20, 9, 3, 5, 14, 7, 10, 2, 4, 5, 6, 7, 10, 11, 17, 1, 2, 7, 8, 10, 11, 14, 1, 3, 4, 5, 8, 7, 2, 3, 4, 8, 11, 16, 5, 6, 11, 20, 19, 6, 10, 2, 6, 7, 10, 1, 2, 3, 4, 5, 9, 10, 6, 17, 7, 9, 10, 3, 17, 19, 4, 5, 6, 7, 10, 11, 15, 17, 2, 4, 5, 6, 7, 10, 11, 6, 14, 20, 1, 9, 1, 2, 10, 11, 11, 2, 10, 13, 20, 13, 19, 2, 5, 6, 7, 10, 17, 8, 1, 2, 3, 7, 12, 14, 16, 17, 4, 8, 14, 1, 2, 3, 4, 5, 9, 10, 3, 1, 2, 9, 11, 16, 4, 8, 11, 17, 18, 1, 4, 5, 10, 17, 8, 18, 1, 2, 3, 4, 5, 6, 9, 10, 15, 1, 2, 3, 4, 5, 8, 9, 12, 14, 16, 1, 2, 3, 4, 5, 9, 12, 20, 3, 1, 2, 9, 9, 1, 2, 9, 1, 2, 3, 4, 5, 7, 13, 3, 19, 7, 1, 5, 6, 12, 15, 19, 4, 5, 6, 1, 2, 6, 7, 11, 17, 20, 1, 6, 9, 1, 2, 4, 5, 6, 7, 11, 12, 13, 15, 16, 19, 20, 19, 9, 10, 16, 16, 16, 16, 16, 1, 2, 3, 4, 5, 8, 9, 10, 12, 13, 14, 15, 16, 2, 10, 12, 15, 20, 5, 17, 2, 18, 15, 1, 3, 6, 7, 12, 14, 16, 7, 11, 12, 11, 12, 3, 11, 19, 1, 3, 4, 6, 7, 13, 14, 7, 8, 11, 16, 17, 19, 3, 1, 2, 6, 8, 9, 15, 17, 1, 3, 4, 5, 8, 12, 13, 14, 16, 17, 3, 4, 5, 6, 8, 17, 7, 7, 2, 7, 14, 17, 19, 1, 2, 3, 7, 8, 9, 12, 13, 19, 3, 4, 13, 16, 1, 19, 11, 11, 11, 1, 2, 6, 7, 9, 10, 12, 13, 1, 2, 3, 4, 7, 9, 13, 19, 3, 3, 16, 5, 10, 17, 1, 6, 7, 11, 17, 6, 8, 8, 8, 8, 4, 5, 20, 5, 9, 14, 4, 16, 7, 20, 8, 1, 2, 3, 4, 5, 7, 8, 9, 10, 11, 12, 13, 2, 7, 10, 12, 7, 10, 13, 2, 4, 5, 6, 7, 11, 15, 2, 10, 2, 6, 7, 10, 10, 1, 2, 3, 4, 5, 9, 15, 7, 1, 3, 4, 6, 12, 15, 7, 10, 11, 1, 2, 4, 9, 10, 6, 4, 5, 9, 17, 7, 19, 5, 6, 4, 13, 2, 14, 14, 20, 20, 4, 16, 2, 12, 13, 11, 1, 2, 3, 4, 5, 7, 8, 9, 10, 12, 13, 14, 16, 6, 4, 4, 1, 2, 3, 4, 5, 7, 8, 9, 10, 12, 14, 9, 1, 3, 5, 6, 7, 11, 12, 13, 3, 5, 6, 7, 11, 1, 2, 3, 4, 5, 7, 14, 15, 16, 2, 3, 4, 19, 4, 6, 8, 11, 16, 8, 20, 7, 12, 14, 16, 1, 2, 6, 9, 11, 4, 4, 5, 6, 4, 11, 7, 12, 13, 1, 2, 3, 4, 9, 13, 1, 2, 3, 4, 5, 13, 15, 4, 2, 7, 11, 12, 13, 4, 5, 11, 11, 3, 4, 8, 10, 14, 16, 20, 1, 9, 19, 9, 17, 1, 8, 10, 11, 1, 2, 3, 5, 6, 7, 8, 11, 12, 13, 1, 2, 3, 4, 5, 6, 7, 9, 10, 11, 12, 16, 2, 4, 5, 7, 9, 11, 3, 4, 7, 10, 11, 13, 5, 5, 16, 17, 7, 4, 1, 2, 3, 4, 5, 7, 8, 9, 11, 12, 13, 14, 7, 10, 15, 19, 1, 2, 8, 9, 10, 12, 1, 3, 4, 5, 6, 9, 14, 17, 1, 2, 3, 4, 5, 6, 9, 10, 12, 14, 15, 20, 1, 15, 17, 12, 13, 14, 5, 1, 2, 3, 4, 5, 8, 10, 13, 14, 15, 1, 4, 6, 11, 14, 16, 17, 2, 5, 20, 1, 3, 18, 15, 12, 1, 2, 3, 4, 5, 6, 10, 11, 17, 1, 4, 5, 6, 10, 11, 17, 1, 2, 3, 4, 5, 7, 8, 9, 12, 13, 8, 4, 5, 13, 3, 3, 14, 18, 18, 9, 7, 8, 11, 12, 13, 8, 20, 4, 6, 10, 11, 10, 11, 14, 1, 6, 8, 16, 12, 6, 12, 1, 3, 4, 5, 6, 7, 11, 14, 15, 16, 17, 9, 3, 4, 5, 6, 3, 1, 1, 3, 9, 17, 1, 2, 3, 4, 5, 9, 10, 16, 1, 2, 3, 4, 5, 8, 9, 13, 1, 2, 3, 4, 5, 8, 9, 10, 12, 1, 4, 1, 2, 4, 5, 7, 8, 9, 10, 11, 12, 13, 19, 19, 1, 3, 4, 5, 6, 7, 8, 9, 11, 12, 13, 14, 17, 16, 5, 1, 2, 3, 4, 5, 7, 8, 9, 10, 11, 12, 13, 14, 15, 16, 17, 14, 16, 14, 16, 11, 2, 3, 5, 6, 7, 8, 9, 15, 16, 19, 15, 2, 1, 2, 3, 7, 8, 9, 10, 12, 1, 3, 7, 9, 12, 13, 20, 1, 3, 7, 8, 12, 13, 14, 6, 8, 14, 1, 14, 20, 3, 19, 13, 1, 2, 3, 4, 5, 9, 10, 12, 15, 1, 9, 12, 2, 7, 12, 7, 2, 7, 1, 2, 3, 4, 5, 9, 10, 14, 16, 14, 3, 1, 2, 3, 4, 5, 6, 10, 14, 17, 11, 20, 1, 2, 3, 4, 9, 10, 2, 6, 7, 2, 3, 4, 6, 7, 8, 11, 17, 19, 19, 4, 5, 1, 2, 3, 4, 5, 6, 9, 10, 14, 15, 16, 1, 6, 15, 4, 5, 6, 10, 4, 5, 6, 10, 1, 2, 3, 4, 5, 10, 11, 17, 1, 2, 3, 4, 5, 6, 14, 16, 20, 5, 15, 14, 16, 7, 11, 16, 11, 7, 9, 17, 9, 1, 3, 4, 5, 6, 7, 9, 10, 17, 5, 20, 4, 5, 6, 10, 13, 18, 2, 2, 6, 17, 10, 4, 19, 4, 3, 8, 1, 2, 3, 4, 5, 9, 10, 12, 13, 16, 6, 7, 8, 1, 7, 9, 10, 13, 14, 2, 16, 20, 2, 7, 12, 13, 1, 8, 14, 16, 1, 2, 3, 4, 5, 6, 7, 8, 10, 12, 13, 14, 16, 17, 1, 3, 7, 8, 13, 2, 6, 7, 11, 12, 16, 17, 3, 14, 16, 16, 1, 2, 3, 4, 5, 7, 15, 5, 5, 6, 5, 13, 4, 5, 13, 6, 6, 12, 8, 4, 14, 20, 4, 17, 20, 10, 20, 6, 13, 18, 16, 1, 2, 9, 13, 16, 1, 2, 7, 9, 12, 13, 3, 1, 2, 3, 4, 5, 6, 9, 11, 12, 1, 2, 3, 4, 5, 6, 7, 10, 14, 16, 17, 1, 2, 3, 4, 5, 6, 7, 9, 11, 12, 9, 1, 2, 3, 4, 5, 7, 8, 9, 10, 12, 13, 17, 3, 1, 2, 3, 5, 9, 18, 18, 15, 5, 6, 5, 5, 15, 2, 7, 1, 2, 3, 4, 7, 8, 11, 12, 14, 15, 16, 1, 2, 3, 4, 7, 8, 9, 10, 11, 12, 13, 14, 1, 2, 6, 7, 8, 12, 14, 17, 6, 13, 2], \"Freq\": [0.971113298686041, 0.9609157116338295, 0.0020617712434604805, 0.03298833989536769, 0.008247084973841922, 0.2680302616498625, 0.11958273212070787, 0.30308037278869066, 0.26596849040640197, 0.98652445829522, 0.9965127931455288, 0.9755921837196102, 0.0685666251679313, 0.015823067346445684, 0.16877938502875398, 0.1353751317418131, 0.516886866650559, 0.019339304534544726, 0.07384098095007986, 0.06992842571670807, 0.9090695343172049, 0.009989775102386867, 0.9389687281529663, 0.012777364227692923, 0.5238719333354098, 0.45679077114002203, 0.0063886821138464615, 0.9716873223400919, 0.022083802780456633, 0.8100336988566265, 0.0816078726460034, 0.10578798305963405, 0.9892722486963161, 0.9639725546986595, 0.39010017564980665, 0.6021111406768754, 0.058995223281366645, 0.017698566984409993, 0.058995223281366645, 0.8613302599079531, 0.8320867521454981, 0.13831521209806433, 0.002195479557112132, 0.017563836456897058, 0.01097739778556066, 0.9747363210039041, 0.6742336195683849, 0.0431195919491409, 0.27831736621718217, 0.9890447752488533, 0.9775361431940174, 0.26218509446191174, 0.053174702628265805, 0.16536410412720812, 0.12786518088646576, 0.0845262614033127, 0.13001675844945917, 0.05286733440498104, 0.006454732688980242, 0.05686312130768309, 0.031044190551762118, 0.01782735695051686, 0.008606310251973656, 0.002151577562993414, 0.0009221046698543203, 0.041565837880874326, 0.9560142712601095, 0.9969885664832538, 0.40057297489608323, 0.30642909600345536, 0.047994918651143616, 0.0793762116153529, 0.027689376144890546, 0.13660092231479337, 0.05371288629911974, 0.15890062196822924, 0.008952147716519957, 0.02238036929129989, 0.07833129251954962, 0.4274650534638279, 0.015666258503909923, 0.19918528669256902, 0.03357055393694983, 0.9722344649152367, 0.2009799781754131, 0.029411704123231186, 0.2647053371090807, 0.029411704123231186, 0.01960780274882079, 0.07843121099528316, 0.12745071786733514, 0.24509753436025988, 0.2138436600388744, 0.3564061000647907, 0.40986701507450923, 0.9846330886063249, 0.9777333861070753, 0.986263948601008, 0.9955109126020802, 0.0025924763349012506, 0.15759126511637306, 0.019698908139546632, 0.6993112389539055, 0.004924727034886658, 0.10834399476750649, 0.009849454069773316, 0.21587723000799594, 0.01891371501580629, 0.6795893464300053, 0.018261517946295727, 0.06587190402056674, 0.0013043941390211233, 0.6177017502179485, 0.023269586480813127, 0.251734617383342, 0.027500420386415515, 0.04442375600882507, 0.00317312542920179, 0.0327889627684185, 0.9950875759481892, 0.9746153558632955, 0.9869858876490886, 0.045012051851324675, 0.8727336720062395, 0.055014730040507935, 0.02500669547295815, 0.05361807886007571, 0.03168341023549928, 0.8286430369284429, 0.085301489095575, 0.1637510970868251, 0.6908249408350433, 0.020468887135853136, 0.11769610103115552, 0.843438887842826, 0.05476875895083285, 0.09858376611149913, 0.9903444967091707, 0.02313624636039416, 0.0655526980211168, 0.6960154113418577, 0.07133675961121534, 0.04434447219075548, 0.05205655431088687, 0.026992287420459858, 0.013496143710229929, 0.003856041060065694, 0.9961280653338325, 0.9882137618219856, 0.09832961534161049, 0.8299019534831925, 0.023599107681986517, 0.015732738454657676, 0.027532292295650934, 0.9812944871514655, 0.9867533073559178, 0.9001277910929213, 0.05756631222105892, 0.02616650555502678, 0.01569990333301607, 0.9850484214082892, 0.7181974859836339, 0.27770302791367174, 0.8586295251688522, 0.14011791112812388, 0.6175995193656092, 0.11862429792693104, 0.2636095509487356, 0.7831770263903775, 0.1556918184992919, 0.056615206727015234, 0.287204438405897, 0.03191160426732189, 0.3201132803065727, 0.061828733267936156, 0.061828733267936156, 0.000997237633353809, 0.008975138700184281, 0.039889505334152364, 0.017950277400368562, 0.012964089233599518, 0.002991712900061427, 0.0997237633353809, 0.035900554800737124, 0.017950277400368562, 0.000997237633353809, 0.9748855530494857, 0.9894063238068175, 0.9925684443074991, 0.9928497300275277, 0.9956766645212073, 0.9852998420050539, 0.9766075094151572, 0.982225902890604, 0.9947869653463193, 0.9867236682387591, 0.9719814066218383, 0.9821350898743313, 0.9858750293483661, 0.09246781984392358, 0.07236611987785324, 0.08844747985070951, 0.31760685946391143, 0.4261560392806913, 0.9777220113283716, 0.012015208906280732, 0.011264258349638186, 0.0983745229201735, 0.17346957858442807, 0.5827376319546155, 0.0037547527832127287, 0.0788498084474673, 0.007509505566425457, 0.03229087393562947, 0.7657258484569358, 0.006225413402088909, 0.22411488247520073, 0.10469626794956338, 0.8899182775712887, 0.028073685461842815, 0.9685421484335771, 0.986905511067724, 0.2528544861119651, 0.02571401553681001, 0.37285322528374515, 0.04357097077070585, 0.006428503884202502, 0.009285616721625837, 0.05928509137653419, 0.0007142782093558336, 0.018571233443251674, 0.04714236181748502, 0.09285616721625836, 0.06499931705138086, 0.0028571128374233344, 0.0014285564187116672, 0.9817634980610239, 0.009720430673871525, 0.9876891374629755, 0.9889274738882079, 0.9802653886295036, 0.9040309681722153, 0.03776980951100403, 0.955036611921102, 0.005395687073000576, 0.23475502799560202, 0.09901989332515915, 0.006675498426415224, 0.12015897167547403, 0.10680797482264358, 0.3393378366761072, 0.04339073977169895, 0.027814576776730097, 0.02002649527924567, 0.003337749213207612, 0.969957671857852, 0.15965557961270666, 0.03193111592254133, 0.7982778980635332, 0.9823460348041615, 0.29575207034581896, 0.6999465664851049, 0.30537918652357265, 0.6914245732609192, 0.7068936846186072, 0.037608893101315696, 0.08059048521710506, 0.007675284306390959, 0.0030701137225563834, 0.1634835557261274, 0.03316265772296874, 0.210030165578802, 0.07737953468692706, 0.6632531544593747, 0.01510186282881095, 0.762644072854953, 0.15856955970251496, 0.052856519900838325, 0.31840108951629265, 0.035738897802849175, 0.12021265624594724, 0.2490892877168276, 0.04548586993089895, 0.005414984515583208, 0.17544549830489595, 0.0010829969031166417, 0.0129959628373997, 0.035738897802849175, 0.9780593213330279, 0.9884900354484104, 0.9984041011446687, 0.9933465042407301, 0.9965598297556907, 0.9863967872954164, 0.17821409923537973, 0.8118642298500632, 0.9934276105298129, 0.9842859231357121, 0.1460894807158355, 0.19741821718356145, 0.3000756901190134, 0.0671221938424109, 0.28823059708799975, 0.06627672777184059, 0.1735819060691063, 0.08205690105085026, 0.06627672777184059, 0.09783707432985991, 0.02209224259061353, 0.05049655449283092, 0.01262413862320773, 0.05049655449283092, 0.09783707432985991, 0.006312069311603865, 0.20514225262712563, 0.02524827724641546, 0.006312069311603865, 0.03156034655801933, 0.9823931843708392, 0.0793268671043795, 0.03470550435816603, 0.0793268671043795, 0.5652039281187039, 0.17352752179083014, 0.06445307952230835, 0.9700581086797238, 0.02879292080475742, 0.8062017825332078, 0.07198230201189355, 0.06046513368999058, 0.008637876241427226, 0.020155044563330195, 0.9645941829893264, 0.9866683165802157, 0.16720032718901523, 0.035712691244255676, 0.22076936405539874, 0.04707582027651885, 0.14122746082955653, 0.037335995391721846, 0.28894813824897775, 0.04382921198158651, 0.0016233041474661672, 0.01623304147466167, 0.958456624060453, 0.022393772495997333, 0.100771976231988, 0.873357127343896, 0.6874051902633748, 0.26687495621989843, 0.0363920394845316, 0.008087119885451468, 0.9809658074509109, 0.9767957395722915, 0.988972390687958, 0.9613322957496072, 0.9399949769697141, 0.945782629590736, 0.9843209337934611, 0.9902616111156965, 0.06061859894080631, 0.16245784516136091, 0.03394641540685153, 0.12851142975450938, 0.043645391237380544, 0.1066887341358191, 0.0024247439576322526, 0.4631260959077602, 0.9793104434769104, 0.07027284356635846, 0.08700447298692, 0.01673162942056154, 0.19408690127851386, 0.13050670948038, 0.036809584725235385, 0.43502236493460006, 0.01673162942056154, 0.006692651768224616, 0.9854633398783621, 0.0348142221644634, 0.1392568886578536, 0.058023703607439005, 0.0928379257719024, 0.6730749618462925, 0.9574337294464152, 0.9825180593865359, 0.03214169454946378, 0.7778290080970234, 0.09642508364839132, 0.08999674473849857, 0.9878601663403468, 0.988771951436338, 0.18237641325750537, 0.2486951089875073, 0.5637089137050165, 0.7432925448412441, 0.021358981173598968, 0.0640769435207969, 0.16660005315407195, 0.9930294571943827, 0.9745963232779326, 0.995356345246194, 0.15825664207452572, 0.12697335236211948, 0.06624696644980146, 0.020242128637439336, 0.023922515662428305, 0.05704599888732904, 0.09200967562472426, 0.0496852248373511, 0.3864406376238419, 0.016561741612450366, 0.16224543282867449, 0.021348083266930853, 0.24336814924301173, 0.1451669662151298, 0.31595163235057666, 0.06404424980079255, 0.04696578318724788, 0.9622915285159754, 0.9927442882913202, 0.9905131242159465, 0.9738940534652134, 0.9629229488785525, 0.9716140757253369, 0.9554905288939652, 0.941761309496439, 0.03285213870336415, 0.02327026491488294, 0.01941632982554539, 0.8659683102193244, 0.05436572351152709, 0.05824898947663617, 0.04479639751438325, 0.19140278937963753, 0.04479639751438325, 0.19547518915367237, 0.5171947713024249, 0.40413458374535133, 0.25801727429051036, 0.049938827282034255, 0.13594458537887102, 0.061036344455819645, 0.025894206738832578, 0.016646275760678085, 0.042540482499510666, 0.005548758586892695, 0.9815559057291265, 0.9693865052379788, 0.9972239685702254, 0.044601142305923866, 0.9217569409890933, 0.029734094870615912, 0.026660763584891525, 0.16218631180809012, 0.2843814782388429, 0.09775613314460226, 0.23328168136780084, 0.08220402105341554, 0.08664748165089746, 0.022217302987409603, 0.987815111898389, 0.9839131723845026, 0.8764630648908988, 0.08809809157408519, 0.015812477974835804, 0.018071403399812346, 0.21146892404415335, 0.15860169303311503, 0.6238333259302524, 0.07981979068248338, 0.9179275928485588, 0.0564545214048385, 0.9409086900806416, 0.947592246063313, 0.9848793554255406, 0.09910312340420638, 0.24308313287824204, 0.10284286391002548, 0.0691851993576535, 0.11593195568039236, 0.050486496828557964, 0.31974781324753376, 0.10244577645311231, 0.07916264544104133, 0.8149095854224844, 0.9575662939780532, 0.0015710568495631984, 0.3142113699126397, 0.6818386727104281, 0.9640812134219781, 0.02242049333539484, 0.9920327435981454, 0.9722079266126472, 0.9986410286623298, 0.012859469457652024, 0.9846679470430693, 0.9970684748776714, 0.9980841879351635, 0.9360915577687222, 0.9990135826163662, 0.9646595136323446, 0.9367050439205669, 0.4172620438319847, 0.573735310268979, 0.975564508675091, 0.976139017455074, 0.02473494924024627, 0.6101287479260746, 0.36277925552361195, 0.9842806608629665, 0.13191718844801728, 0.2692187519347291, 0.11845625085128081, 0.013460937596736456, 0.05653593790629311, 0.06730468798368228, 0.3338312523990641, 0.008076562558041874, 0.9374528572492871, 0.02329075421737359, 0.03493613132606039, 0.7996244573937307, 0.14243310647325827, 0.03248474358162031, 0.022489437864198675, 0.9893439885782709, 0.9847639028342431, 0.9622388959231323, 0.03631090173294839, 0.9884916533974051, 0.009152700494420418, 0.9845069128936693, 0.9978613516673723, 0.9635968666015087, 0.014308461593509259, 0.041335555714582306, 0.0015898290659454733, 0.004769487197836419, 0.5627994893446975, 0.2193964111004753, 0.06677282076970988, 0.04610504291241872, 0.023847435989182098, 0.017488119725400205, 0.9859063611378951, 0.0759543283662255, 0.270059834191024, 0.0590755887292865, 0.0759543283662255, 0.067514958547756, 0.4472866003788835, 0.9864400697412351, 0.3309107551660736, 0.6558411954797483, 0.001993438284132974, 0.009967191420664868, 0.10925607521226598, 0.08354876339761516, 0.04498779567563893, 0.10925607521226598, 0.21208532247086925, 0.10925607521226598, 0.02570731181465082, 0.3020609138221471, 0.9906595151143952, 0.9675388481467796, 0.4964260306884045, 0.040084089434467444, 0.19219806985244647, 0.026722726289644963, 0.009250174484877102, 0.009250174484877102, 0.11202989098351157, 0.0061667829899180685, 0.10689090515857985, 0.9861099621133362, 0.9873964407307456, 0.18859420120087164, 0.041909822489082586, 0.7700929882368925, 0.01795881088869417, 0.2304714064049085, 0.7482837870289237, 0.01964585573884511, 0.12769806230249323, 0.455128991283245, 0.05238894863692029, 0.13097237159230074, 0.05566325792672781, 0.15716684591076088, 0.9908077933460953, 0.980900108930627, 0.8141649954235286, 0.010573571369136735, 0.16917714190618777, 0.05588197113559703, 0.5002117904088808, 0.0054518996229850755, 0.31484720322738813, 0.10494906774246271, 0.016355698868955226, 0.9889171520343859, 0.9648726618175536, 0.02804862389004516, 0.9820310900159627, 0.9866794641934684, 0.9470082825778594, 0.1646657619304697, 0.047047360551562764, 0.1333008548960945, 0.05488858731015656, 0.5802507801359408, 0.9902095417985955, 0.9567475316212825, 0.9775358257462351, 0.992440370155712, 0.09775798918240464, 0.14120598437458448, 0.5930651343732548, 0.03910319567296186, 0.006517199278826976, 0.013034398557653952, 0.030413596634525888, 0.07820639134592372, 0.036774535504505476, 0.9561379231171423, 0.9573128541146385, 0.8788393718412305, 0.022767859374125145, 0.08651786562167554, 0.009107143749650057, 0.9465143685968089, 0.02426959919478997, 0.5380009117627764, 0.038633044195731284, 0.2189205837758106, 0.08155864885765493, 0.014308534887307883, 0.03290963024080813, 0.0071542674436539415, 0.03434048372953892, 0.03290963024080813, 0.998758574094438, 0.9235936721432632, 0.9647227153893472, 0.9814062967910099, 0.06765216475325417, 0.012300393591500758, 0.12915413271075796, 0.3198102333790197, 0.06765216475325417, 0.39361259492802425, 0.03080034103695414, 0.9548105721455784, 0.9569486295753155, 0.1009609636645319, 0.037860361374199465, 0.3155030114516622, 0.2019219273290638, 0.3407432523677952, 0.06110661777555095, 0.027158496789133756, 0.24668967916796494, 0.26026892756253184, 0.033948120986417196, 0.006789624197283439, 0.14937173234023565, 0.18784626945817515, 0.013579248394566878, 0.013579248394566878, 0.44327947824009933, 0.04486301126106855, 0.33503202905054863, 0.017698252148861907, 0.03128063170496523, 0.016051903111758473, 0.007820157926241307, 0.004527459852034441, 0.04280507496468926, 0.020167775704517055, 0.03663126607555139, 0.35713371298778784, 0.12939627282166227, 0.10351701825732981, 0.40889222211645276, 0.0050680673764123855, 0.6917911968802907, 0.04307857269950528, 0.10136134752824771, 0.0050680673764123855, 0.13683781916313442, 0.012670168441030964, 0.19816577593846119, 0.06869746899199988, 0.5680752243569221, 0.04755978622523069, 0.05284420691692299, 0.03699094484184609, 0.026422103458461493, 0.7026433405664568, 0.07620374347451206, 0.1412010540851253, 0.01008578957750895, 0.007844503004729183, 0.013447719436678598, 0.004482573145559533, 0.0022412865727797666, 0.0022412865727797666, 0.007844503004729183, 0.008965146291119067, 0.023533509014187548, 0.7684479730681629, 0.2305343919204489, 0.9663767791753665, 0.1251400404672683, 0.09480306096005174, 0.09101093852164967, 0.0037921224384020696, 0.022752734630412417, 0.060673959014433114, 0.0037921224384020696, 0.04929759169922691, 0.0872188160832476, 0.03412910194561863, 0.42092559066262974, 0.007584244876804139, 0.9760945149627698, 0.003424893034957087, 0.017124465174785435, 0.9708551278839255, 0.020656492082636712, 0.9361783808565912, 0.04255356276620869, 0.018237241185518012, 0.1673001659847273, 0.0731938226183182, 0.08887821317938638, 0.14115951504961366, 0.08887821317938638, 0.12547512448854548, 0.026140650935113637, 0.07842195280534092, 0.03136878112213637, 0.17775642635877276, 0.11518825669619542, 0.025597390376932316, 0.8575125776272325, 0.983467820223411, 0.9801881909495025, 0.9727619527836338, 0.02161693228408075, 0.8145763275396419, 0.1762889067063404, 0.9750057218486102, 0.9875566980105238, 0.974208774695174, 0.9587941875288255, 0.9719163909474623, 0.9853868981603489, 0.9758234080017811, 0.10943452572034991, 0.030577293951274242, 0.10943452572034991, 0.13035583210806387, 0.12552783832628372, 0.15449580101696458, 0.006437325042373525, 0.009655987563560287, 0.03540528773305438, 0.016093312605933812, 0.006437325042373525, 0.03701461899364777, 0.07402923798729553, 0.11748118202331682, 0.038623950254241146, 0.9869770837575844, 0.05637720783625011, 0.9396201306041685, 0.9844046346465712, 0.979884723390486, 0.9840762050461975, 0.9859737289038818, 0.3670432917861895, 0.12601255870078856, 0.2165047988416233, 0.1598414335197922, 0.07949785582465856, 0.04989759035803037, 0.039754540058065405, 0.019877270029032702, 0.044723857565323585, 0.1838647477685525, 0.5068703857403339, 0.06460112759435628, 0.009938635014516351, 0.014907952521774527, 0.11429430266693805, 0.0023431472728598452, 0.14761827819017023, 0.11481421637013241, 0.007029441818579535, 0.24368731637742388, 0.06795127091293551, 0.1874517818287876, 0.06326497636721581, 0.09138274364153395, 0.07498071273151505, 0.9895049840616327, 0.10514149181038043, 0.7764294779843478, 0.08087807062336956, 0.03235122824934782, 0.969621851176863, 0.04856433553640561, 0.41549487070035906, 0.4289849639049162, 0.10522272699554548, 0.9857332733790878, 0.9802158057419628, 0.9868134976367612, 0.07214266588826967, 0.887354790425717, 0.03607133294413484, 0.251784531500398, 0.032638735564866406, 0.01865070603706652, 0.21448311942626497, 0.4802556804544628, 0.9889973041735948, 0.0990631779155652, 0.0990631779155652, 0.7925054233245216, 0.9874465562602153, 0.9745713744200805, 0.9924608737953194, 0.9911852951966336, 0.9572024846006304, 0.9594913994352462, 0.988012490697637, 0.9798417500711141, 0.5745764516054559, 0.4151390069191252, 0.006016507346653988, 0.9719375456284004, 0.10925657594035734, 0.8740526075228587, 0.9361705263077685, 0.0351828792566645, 0.027534427244346134, 0.9761556930389623, 0.019523113860779248, 0.16160060864825182, 0.8361891959124658, 0.05239199490850568, 0.8382719185360908, 0.029938282804860387, 0.07484570701215097, 0.00465303335044265, 0.1116728004106236, 0.6281595023097577, 0.08375460030796769, 0.03257123345309855, 0.1395910005132795, 0.956402444700557, 0.03631908017850217, 0.11641825965195936, 0.0540513348384097, 0.0914714897265395, 0.6569316080360563, 0.07484030977625958, 0.9677664772971142, 0.029625504407054516, 0.004937584067842419, 0.9898177205418475, 0.05851637235415805, 0.15427043620641667, 0.21810647877458908, 0.5692047128995373, 0.9853012757020181, 0.844511541355513, 0.06585640460111798, 0.04261296768307634, 0.011621718459020821, 0.030991249224055523, 0.9587597968837418, 0.9701821565355643, 0.9803871818426446, 0.9304025843565646, 0.0049595020488089805, 0.06447352663451675, 0.35609069182932046, 0.38036960263586506, 0.0350695378316755, 0.06204610539450281, 0.16185940537696383, 0.03967580609330959, 0.4028620311012974, 0.37234218026029003, 0.0061039701682014755, 0.17396314979374206, 0.9978772260384374, 0.19023449402385634, 0.12484138670315573, 0.023779311752982042, 0.10106207495017368, 0.5528689982568326, 0.1021686646426858, 0.891137797161204, 0.9693865052379788, 0.9619040393414937, 0.1417297800566619, 0.2723434989324091, 0.5835932119980195, 0.07065442653519985, 0.2371970033681709, 0.1009348950502855, 0.403739580201142, 0.025233723762571374, 0.09084140554525694, 0.07065442653519985, 0.9859579725790784, 0.13965275648412867, 0.36908228499376866, 0.4887846476944504, 0.16478241108706826, 0.015693562960673167, 0.11770172220504876, 0.13339528516572194, 0.06277425184269267, 0.0470806888820195, 0.3923390740168292, 0.031387125921346334, 0.031387125921346334, 0.9809497142311282, 0.9870992260794428, 0.05861042745415458, 0.11722085490830916, 0.8205459843581642, 0.17675065943744445, 0.09302666286181287, 0.6232786411741462, 0.10232932914799416, 0.301316085807596, 0.15347408108891572, 0.011264152740470877, 0.45901422417418825, 0.07321699281306071, 0.9623570358128918, 0.9915574775320776, 0.9958700888191241, 0.004015605196851306, 0.09957587410668906, 0.03485155593734117, 0.8613313110228603, 0.12203778724512038, 0.056660401220948745, 0.8193965715029511, 0.975664625655783, 0.9643630815261927, 0.022460158588737535, 0.9714018589628983, 0.00394715833067396, 0.005920737496010939, 0.9887631618338268, 0.9788635902042077, 0.9608353857295615, 0.2441767708440001, 0.038409829121528107, 0.6419928581741127, 0.07407609902008992, 0.9950226367011136, 0.9827759516239636, 0.9855770310734661, 0.9909607061123332, 0.9914368907784536, 0.6311318064857209, 0.09460219797430507, 0.10180998448663307, 0.03468747259057852, 0.021172872879963514, 0.022524332851025015, 0.022524332851025015, 0.027479686078250517, 0.011712653082533008, 0.027479686078250517, 0.004504866570205003, 0.3650304876271693, 0.21208475258785253, 0.09176744102359004, 0.07749250575325381, 0.014274935270336228, 0.034667699942245125, 0.2018883702518981, 0.18213599028734417, 0.16695799109673215, 0.22766998785918022, 0.07588999595306008, 0.3490939813840763, 0.891292800049026, 0.09473611106811773, 0.013533730152588247, 0.9743900903129709, 0.9500855331401405, 0.9895731052619088, 0.9870703844923758, 0.9826483078827051, 0.9666863538226497, 0.9928465825235274, 0.06689637745060964, 0.9097907333282912, 0.02006891323518289, 0.6440723871211351, 0.15069642390975277, 0.004128669148212405, 0.0030965018611593034, 0.012386007444637213, 0.09599155769593841, 0.040254524195070945, 0.049544029778548854, 0.9783433763668233, 0.09216903517264768, 0.9077253463972879, 0.9941626997735674, 0.9628671475777424, 0.9182323882808374, 0.03139256028310555, 0.04708884042465833, 0.10366954578789656, 0.1063277392696375, 0.4625256658229231, 0.07442941748874625, 0.013290967408704687, 0.018607354372186562, 0.19670631764882937, 0.021265547853927497, 0.6597004855794588, 0.33519916564577906, 0.003565948570699777, 0.7777645224383667, 0.003503443794767418, 0.21371007148081247, 0.9600425740223107, 0.4818288133202935, 0.2052233834512361, 0.006373397001591184, 0.3052857163762177, 0.9927890529621071, 0.7845978427508659, 0.1860512825243863, 0.003672064786665519, 0.025704453506658634, 0.98144919677703, 0.9855289182962986, 0.49575574540546513, 0.03474923449103728, 0.24170023101543706, 0.023166156327358186, 0.10501990868402378, 0.05173774913109994, 0.01467189900732685, 0.02857159280374176, 0.004633231265471637, 0.9660503329846208, 0.04524714813484052, 0.33761333608304084, 0.1809885925393621, 0.03132494870873575, 0.08701374641315486, 0.3132494870873575, 0.003480549856526194, 0.9842328371069513, 0.9980987826750816, 0.297868118254787, 0.0675875795067588, 0.09848475870984855, 0.025103958102510412, 0.056483905730648425, 0.019793505426979364, 0.07000142163200018, 0.15303759074030385, 0.0168968948766897, 0.03137994762813801, 0.04972514777997255, 0.02365565282736558, 0.04151808455415184, 0.008207063225820712, 0.013034747476303484, 0.01013813692601382, 0.015931358026593147, 0.9399467873006218, 0.9630666456918201, 0.9726031495073139, 0.9603774490800429, 0.05116720920294875, 0.9465933702545519, 0.16878702706096568, 0.050636108118289704, 0.7679809731273939, 0.008439351353048285, 0.9963626007107991, 0.9619320865368168, 0.9928742773004404, 0.21180168258462373, 0.06051476645274964, 0.6707053281846418, 0.05547186924835384, 0.9846971293335313, 0.9937805938931137, 0.9913680053857107, 0.9809427191434382, 0.013145302650217103, 0.8018634616632434, 0.17088893445282236, 0.15389733661701965, 0.5798631790391277, 0.2638240056291766, 0.9761610489569066, 0.9906413660538289, 0.08741533437076741, 0.9063589932126938, 0.9857304402133453, 0.0107963481669057, 0.053981740834528495, 0.0323890445007171, 0.1295561780028684, 0.7233553271826819, 0.053981740834528495, 0.24987247094837506, 0.028154644613901415, 0.6053248591988805, 0.0774252726882289, 0.014077322306950708, 0.02463531403716374, 0.03636637906775016, 0.20365172277940086, 0.025456465347425107, 0.07273275813550031, 0.021819827440650093, 0.029093103254200125, 0.029093103254200125, 0.0945525855761504, 0.27274784300812616, 0.21456163649972593, 0.4505142661512584, 0.5426649115003794, 0.8701149873369767, 0.09667944303744185, 0.026367120828393233, 0.04961452350426413, 0.9388594447729982, 0.0038165018080203177, 0.007633003616040635, 0.08091687419589229, 0.9176709141761421, 0.9913531240259406, 0.9816888130330884, 0.03290038049317735, 0.9541110343021433, 0.9936043066925442, 0.9582934676161385, 0.9566826496652626, 0.9811912876878657, 0.0061377448028622356, 0.09820391684579577, 0.11661715125438248, 0.012275489605724471, 0.7610803555549173, 0.06490502794566767, 0.16521279840715408, 0.7670594211760725, 0.3478401143296023, 0.026128834879218955, 0.5029800714249649, 0.04735851321858436, 0.026128834879218955, 0.022862730519316588, 0.01796357397946303, 0.009798313079707108, 0.9796236576932003, 0.9942556895597403, 0.9821001004046962, 0.9893758714724742, 0.9873248361297193, 0.08761568529752002, 0.07927133431680383, 0.07092698333608763, 0.692581131399444, 0.06258263235537144, 0.004172175490358096, 0.033382681873767195, 0.08011843649704126, 0.8412435832189332, 0.026706145499013755, 0.020029609124260314, 0.9683027157612576, 0.45011988361171323, 0.0037698482714548843, 0.3234529816908291, 0.0022619089628729307, 0.10404781229215482, 0.015833362740110515, 0.015079393085819537, 0.004523817925745861, 0.0814287226634255, 0.4246055260505744, 0.01549349552650025, 0.3994809387103037, 0.04061808286677092, 0.007956119324419047, 0.012562293670135337, 0.06155523898366315, 0.011306064303121803, 0.011724807425459647, 0.007956119324419047, 0.006281146835067668, 0.91931302004985, 0.05155026280653365, 0.017183420935511215, 0.9908142749481589, 0.9887469365412168, 0.515513445459925, 0.17154754857365745, 0.31174630654502217, 0.23687042937135194, 0.266263110388235, 0.496217614814438, 0.07025803324194116, 0.04683868882796077, 0.7435641851438773, 0.03512901662097058, 0.10538704986291175, 0.06665287793279823, 0.9077487185133473, 0.025391572545827894, 0.08212439548819171, 0.05132774718011982, 0.034218498120079884, 0.06501514642815177, 0.034218498120079884, 0.09581179473622367, 0.0581714468041358, 0.30454463326871095, 0.27374798496063907, 0.9675808093236568, 0.974972916175662, 0.30962853123976336, 0.14737777251150308, 0.10816717248550685, 0.05002731727454692, 0.2704179312137671, 0.08788582764447432, 0.008112537936413014, 0.0027041793121376713, 0.013520896560688356, 0.10563571980325862, 0.8714946883768836, 0.9976527068598772, 0.9945109060448256, 0.9758447373773587, 0.4912380160753361, 0.003148961641508565, 0.1354053505848683, 0.00629792328301713, 0.040936501339611346, 0.3211940874338736, 0.3048103205866009, 0.014147314457605949, 0.11832299364543157, 0.5221645154352741, 0.03343910689979588, 0.005144477984583982, 0.0012861194961459954, 0.6522677440833599, 0.1683271597634477, 0.07995540088763765, 0.09468402736693933, 0.0063122684911292885, 0.9909583096973817, 0.9846250296274193, 0.9800292669145434, 0.9686768441411768, 0.05286732999215935, 0.012015302270945306, 0.004806120908378123, 0.9299843957711668, 0.21140635532138718, 0.011652318797241814, 0.5809513228910561, 0.0016646169710345447, 0.04328004124689817, 0.014981552739310903, 0.1265108897986254, 0.008323084855172724, 0.04035155231550883, 0.06052732847326325, 0.8978220390200716, 0.02048363182327947, 0.9763864502429882, 0.2508591411709781, 0.13280778061992957, 0.0236102721102097, 0.5873055187414663, 0.0029512840137762126, 0.9752231074317795, 0.025332256144548853, 0.9626257334928565, 0.1284838888222544, 0.015063628344678103, 0.4855804901696235, 0.03987431032414792, 0.2064603179005881, 0.0451908850340343, 0.02038020305456449, 0.02215239462452662, 0.031899448259318335, 0.004430478924905324, 0.9569478542105302, 0.9861335323089745, 0.007470708578098292, 0.971264226090188, 0.9866005771458561, 0.09358987133485237, 0.12603436006426785, 0.05615392280091142, 0.26829096449324347, 0.013726514462445015, 0.06114538260543688, 0.06239324755656825, 0.10606852084616603, 0.08235908677467009, 0.09483773628598374, 0.033692353680546856, 0.23704455174313213, 0.7449971626212724, 0.14818125602275536, 0.18581459088567737, 0.0023520834289326247, 0.24696876003792562, 0.19757500803034048, 0.0023520834289326247, 0.18816667431460998, 0.028225001147191498, 0.9764989705057493, 0.9466392487870965, 0.0502902100918145, 0.23012754097738375, 0.038354590162897294, 0.11506377048869187, 0.02876594262217297, 0.038354590162897294, 0.536964262280562, 0.9782581517028867, 0.9937564028151922, 0.019842064150382, 0.07395678456051473, 0.32468832246079643, 0.014430592109368728, 0.012626768095697637, 0.1659518092577404, 0.007215296054684364, 0.057722368437474914, 0.3210806744334542, 0.9859547318083794, 0.9644410867665248, 0.9864035312943437, 0.9791317096019981, 0.9607518041406972, 0.9716722893410755, 0.9785412487035688, 0.9861358632204631, 0.2229114845884368, 0.7727598132399142, 0.9817216210617735, 0.98509805642607, 0.043188510879813236, 0.9285529839159845, 0.03686052201346546, 0.0016026313918898025, 0.1314157741349638, 0.592973614999227, 0.23558681460780095, 0.9849939642024441, 0.9731882206565007, 0.012805108166532903, 0.7579641425823643, 0.027419891462927906, 0.03133701881477475, 0.005875691027770266, 0.001958563675923422, 0.08813536541655399, 0.013709945731463953, 0.07050829233324318, 0.001958563675923422, 0.10382543787134038, 0.03642997820047031, 0.13843391716178718, 0.176685394272281, 0.39708676238512636, 0.016393490190211638, 0.1183974291515285, 0.012750492370164608, 0.01004704950197463, 0.06028229701184777, 0.359182019695593, 0.03767643563240486, 0.4872819008457695, 0.005023524750987315, 0.02511762375493657, 0.012558811877468285, 0.03397332928552412, 0.12230398542788684, 0.08833065614236271, 0.06115199271394342, 0.6862612515675872, 0.27398563383397484, 0.14306639008079475, 0.05803636578749221, 0.326623267920305, 0.19840339001770593, 0.02126357993837146, 0.02480750992810004, 0.11624090366309733, 0.04181837387879721, 0.02338993793220861, 0.5684463703524638, 0.04252715987674292, 0.11269697367336876, 0.01063178996918573, 0.038274443889068636, 0.971796146316656, 0.9722130546446521, 0.977363500960806, 0.04869303980575062, 0.8927057297720947, 0.04869303980575062, 0.9318362891829602, 0.9835103699507862, 0.01826844381596432, 0.4719347985790782, 0.17963969752364914, 0.32883198868735775, 0.22760220784087798, 0.26898442744831036, 0.02069110980371618, 0.45520441568175596, 0.2669731204273259, 0.0905801658592713, 0.05244114865536759, 0.12395180591268704, 0.028604262902927776, 0.13825393736415093, 0.2431362346748861, 0.06197590295634352, 0.978093346949773, 0.20818403350401873, 0.5009428306190451, 0.29275879711502634, 0.9828841203993074, 0.02687969567728226, 0.06719923919320565, 0.9004698051889557, 0.9764556336864925, 0.06657295395537509, 0.05424462914882414, 0.8506544116520149, 0.02712231457441207, 0.9801881058531179, 0.9587768367427002, 0.9893062892657097, 0.005566038056576325, 0.9851887360140095, 0.08716654120931581, 0.029055513736438606, 0.813554384620281, 0.06537490590698686, 0.29901925306099814, 0.11960770122439926, 0.5741169658771165, 0.9884523578012738, 0.009652855056653064, 0.995973298695196, 0.9831732335428327, 0.9893420761460402, 0.9844704058769288, 0.9836737647103299, 0.9992275370158257, 0.9850968094355285, 0.02445608436687757, 0.3393281705904263, 0.6328011829929572, 0.17074479988733524, 0.8268652668701291, 0.0437709762660723, 0.013131292879821689, 0.9410759897205544, 0.0357204501176087, 0.043658327921521745, 0.03373598066663044, 0.16074202552923916, 0.02976704176467392, 0.18058672003902176, 0.38101813458782613, 0.06747196133326087, 0.057549614078369574, 0.009922347254891306, 0.9611965036495977, 0.9969404662881993, 0.9727651629162228, 0.9954082564229081, 0.25223223911085274, 0.7452316155547921, 0.9877648896505772, 0.9765208195931927, 0.9931563478597474, 0.9910850088581102, 0.24710098166252897, 0.7505692317999318, 0.10674786562254882, 0.8903742428062595, 0.974869260426448, 0.28384883526993876, 0.2230240848549519, 0.023171333491423574, 0.217231251482096, 0.24619541834637546, 0.0057928333728558936, 0.21036988565357292, 0.08414795426142917, 0.6872082931350049, 0.9957582618590652, 0.9717334322980664, 0.9665366023341673, 0.4589309717209924, 0.00833337691840972, 0.4380975294249681, 0.020238201087566462, 0.02470251015100024, 0.0005952412084578371, 0.04880977909354264, 0.2735780905590188, 0.7181424877174244, 0.9142934751095658, 0.9188274611292659, 0.016605315562577095, 0.060886157062782685, 0.21447943458923355, 0.030027120842492698, 0.008579177383569342, 0.09008136252747809, 0.600542416849854, 0.05147506430141605, 0.9900752182707927, 0.14263138276397833, 0.8354123847604444, 0.9832372358749351, 0.35611742870804114, 0.06594767198297058, 0.21103255034550586, 0.35611742870804114, 0.17784688722090827, 0.03003636317508673, 0.23712918296121102, 0.01897033463689688, 0.015018181587543365, 0.040311961103405874, 0.11619329965099341, 0.22369186259340906, 0.014227750977672662, 0.024503348905991807, 0.038731099883664466, 0.03794066927379376, 0.00474258365922422, 0.007904306098707034, 0.013437320367801958, 0.24025533326123732, 0.058126290305138065, 0.1433781827526739, 0.03293823117291157, 0.06587646234582314, 0.03875086020342538, 0.03293823117291157, 0.13369046770181756, 0.22281744616969593, 0.021312973111883956, 0.009687715050856345, 0.0777409841481236, 0.9069781483947753, 0.00413807251723677, 0.9931374041368249, 0.9915205215466875, 0.12073694951906265, 0.8647376114203136, 0.013052643191250017, 0.9898035208853031, 0.008718903646862201, 0.9038596780580482, 0.07556383160613908, 0.008718903646862201, 0.9793137351807921, 0.9887694027729216, 0.12591282825724895, 0.0506722357620636, 0.11669969448232831, 0.03992357969132284, 0.0076776114791005465, 0.03992357969132284, 0.13205491744052938, 0.01996178984566142, 0.06909850331190491, 0.20422446534407454, 0.033781490508042404, 0.13973252891962995, 0.01996178984566142, 0.5738760347945493, 0.42432046209051527, 0.9845759908949487, 0.09472842082982885, 0.07286801602294528, 0.05829441281835622, 0.02914720640917811, 0.03643400801147264, 0.39348728652390447, 0.30604566729637017, 0.9923636975103249, 0.08752769203198817, 0.04376384601599408, 0.8533949973118846, 0.5592468202150118, 0.12282523621544653, 0.00522660579640198, 0.2848500159039079, 0.01045321159280396, 0.016986468838306432, 0.4124219128729691, 0.024797520077805103, 0.4017198252604427, 0.05559865027971039, 0.05037811973701458, 0.00495950401556102, 0.002349238744213115, 0.0020882122170783244, 0.016183644682357015, 0.010963114139661204, 0.012529273302469947, 0.00495950401556102, 0.0005220530542695811, 0.9781823525099782, 0.11018058870668267, 0.014468158112998734, 0.1246487468196814, 0.1246487468196814, 0.1869731202295221, 0.07901840200176231, 0.09126068963583817, 0.01001641715515297, 0.017806963831383058, 0.217022371694981, 0.024484575268151704, 0.06287690778769996, 0.027337785994652156, 0.06834446498663038, 0.2296374023550781, 0.12028625837646947, 0.1066173653791434, 0.03007156459411737, 0.07381202218556082, 0.010935114397860862, 0.016402671596791294, 0.2515076311507998, 0.05516670721410742, 0.10812674613965055, 0.03530669261702875, 0.017653346308514374, 0.6410371378279283, 0.05296003892554312, 0.01986001459707867, 0.0044133365771285935, 0.02758335360705371, 0.018756680452796524, 0.017653346308514374, 0.9859717949708549, 0.46558688796345427, 0.04873626666878029, 0.35359716880966124, 0.03214519716451466, 0.006221651064099611, 0.018664953192298835, 0.024886604256398444, 0.005184709220083009, 0.013480243972215825, 0.007258592908116213, 0.0010369418440166018, 0.008295534752132815, 0.004147767376066407, 0.007258592908116213, 0.0020738836880332037, 0.9822462501912844, 0.9609425957331986, 0.008568281407496055, 0.04284140703748027, 0.07711453266746449, 0.10281937688995264, 0.05140968844497632, 0.15422906533492897, 0.5569382914872435, 0.1017053188797115, 0.796944662863411, 0.06679155269712397, 0.0015179898340255448, 0.02884180684648535, 0.0030359796680510896, 0.9875956396531557, 0.969845570882121, 0.026791314112765773, 0.9617802926241875, 0.2527137953371107, 0.194190600627464, 0.013300726070374247, 0.5400094784571944, 0.9904504427586844, 0.9955819569192008, 0.9670796328208895, 0.9860522697616718, 0.9943328180311298, 0.5584795646105019, 0.039329546803556464, 0.13197247927415615, 0.03583358708768478, 0.007865909360711293, 0.014857828792454666, 0.0568093453829149, 0.04894343602220361, 0.0568093453829149, 0.006991919431743372, 0.012235859005550902, 0.021849748224198037, 0.006117929502775451, 0.35845123433645715, 0.09808367108709026, 0.0008916697371553659, 0.5341101725560642, 0.0017833394743107319, 0.006241688160087562, 0.9925223806181486, 0.12464263150207879, 0.20212318621958722, 0.10106159310979361, 0.08421799425816134, 0.31665965841068666, 0.013474879081305815, 0.020212318621958724, 0.05389951632522326, 0.08421799425816134, 0.9740640970215771, 0.9775263560772454, 0.9762953012033267, 0.5141198222641148, 0.10668494335520168, 0.1564712502542958, 0.08534795468416134, 0.07112329557013446, 0.0020320941591466988, 0.0035561647785067227, 0.021336988671040336, 0.006096282477440096, 0.026925247608693758, 0.0005080235397866747, 0.0010160470795733494, 0.0040641883182933975, 0.9832832254927625, 0.0870316558754776, 0.7303091123463991, 0.052975790532899414, 0.11730353617999155, 0.0075679700761284874, 0.9868868483740537, 0.5465487238352742, 0.10631363328360771, 0.0333438213480406, 0.038659503012220986, 0.04880762255292899, 0.07103683678495606, 0.0294778710468185, 0.0009664875753055246, 0.05702276694302595, 0.030444358622124024, 0.02319570180733259, 0.006765413027138672, 0.003382706513569336, 0.0038659503012220984, 0.9723647432729211, 0.9731817104804622, 0.9907873983208185, 0.9946778808791378, 0.05782245668954881, 0.09637076114924802, 0.10600783726417282, 0.6456840996999617, 0.09637076114924802, 0.13924481326402666, 0.8354688795841598, 0.9622218384826686, 0.02863755471674609, 0.965246860550119, 0.9723656407185248, 0.7839214130756028, 0.047670896741083955, 0.11652885870042744, 0.01324191576141221, 0.030456406251248083, 0.006620957880706105, 0.20035118774902175, 0.062404468315269065, 0.0656889140160727, 0.6733113686647452, 0.9715419259525809, 0.045851924326183784, 0.0019104968469243243, 0.7087943302089244, 0.23308061532476756, 0.0038209936938486486, 0.005731490540772973, 0.9957317617980538, 0.9137582164427585, 0.0830689287675235, 0.9865290808162633, 0.013122741486744631, 0.06561370743372315, 0.9054691625853795, 0.9702608714816409, 0.9757381985613841, 0.9640826845707196, 0.5644669485496093, 0.06402908670114972, 0.2527463948729594, 0.022747175538566346, 0.037069471248034044, 0.0033699519316394587, 0.01263731974364797, 0.0016849759658197293, 0.034542007299304456, 0.005897415880369053, 0.14988221015549877, 0.09099991330869568, 0.021411744307928398, 0.6423523292378519, 0.08564697723171359, 0.5883721471964563, 0.2928049183231191, 0.013811552751090523, 0.01657386330130863, 0.058008521554580195, 0.019336173851526733, 0.005524621100436209, 0.9947190973569913, 0.10536917143975595, 0.10536917143975595, 0.06066709870773828, 0.5428108831745003, 0.04470207273201768, 0.13729922339119716, 0.9366713521686701, 0.05556524970492111, 0.9584681570839344, 0.04089046791272228, 0.06425644957713501, 0.8879073032476839, 0.9868940323910046, 0.9728809889564836, 0.12495999943234667, 0.09880558094650667, 0.68873302012712, 0.05230883697168, 0.005812092996853334, 0.02615441848584, 0.011119413349055147, 0.978508374716853, 0.0074129422327034325, 0.9855270850325526, 0.9960560380758177, 0.9878707330029715, 0.9901903248344937, 0.9933721820381056, 0.026123114141190742, 0.9665552232240574, 0.9747337254025752, 0.9911226205090115, 0.995089303393228, 0.8162495021418288, 0.18084569807932735, 0.07031307531293376, 0.01171884588548896, 0.7617249825567824, 0.14062615062586753, 0.9863582141221579, 0.9871474092727206, 0.9884369675676257, 0.058786936054003286, 0.9405909768640526, 0.9909419784191421, 0.9888675702672906, 0.5301123686099776, 0.06397052904647998, 0.27075898340603155, 0.04512649723433859, 0.03520858575426418, 0.01834813623813767, 0.0009917911480074415, 0.004463060166033487, 0.0009917911480074415, 0.0009917911480074415, 0.01735634509013023, 0.01239738935009302, 0.9233396105845242, 0.07523507938096123, 0.4883760716294767, 0.10791535776328759, 0.03072043031217676, 0.09373669761920601, 0.03465894701886609, 0.012603253461405851, 0.06774248735505645, 0.04017287040823115, 0.015754066826757313, 0.01969258353344664, 0.0874350708885031, 0.9748633642437863, 0.9961683214626057, 0.9762768617417126, 0.14938372473184797, 0.028880853448157277, 0.0906261263373211, 0.011950697978547838, 0.08664256034447182, 0.22805915309062125, 0.010954806480335519, 0.11851108828726606, 0.04282333442312975, 0.006971240487486239, 0.08465077734804718, 0.13444535225866316, 0.0029876744946369595, 0.0029876744946369595, 0.07350297151346487, 0.9233810796379025, 0.9922739581942688, 0.1901724724155746, 0.1640019486886607, 0.42745188753959434, 0.12387381230739264, 0.09246918383509592, 0.9563128224820698, 0.3614343520246813, 0.06023905867078022, 0.11043827422976374, 0.46183278314264836, 0.02710751446930073, 0.9623167636601758, 0.9915760281612918, 0.9758878569284105, 0.2651692983778219, 0.038421204753081084, 0.32311603341525563, 0.17384020511230128, 0.13352943291234737, 0.06487514900930084, 0.9640028311402935, 0.16243167295635982, 0.10828778197090655, 0.7174065555572559, 0.09000943781167788, 0.027002831343503363, 0.04500471890583894, 0.11701226915518124, 0.2160226507480269, 0.4950519079642283, 0.08422325502431051, 0.07411646442139325, 0.21898046306320731, 0.00168446510048621, 0.3975337637147456, 0.16339311474716237, 0.02863590670826557, 0.011791255703403471, 0.01852911610534831, 0.08162561146530076, 0.008162561146530075, 0.8244186757995376, 0.04081280573265038, 0.04081280573265038, 0.25179803193806916, 0.020766847994892302, 0.5684924638601768, 0.038937839990423065, 0.05970468798531537, 0.041533695989784604, 0.010383423997446151, 0.0051917119987230755, 0.9620348245977529, 0.9582844375135432, 0.9760372782044688, 0.975024448138106, 0.7481736472717972, 0.07808263870958036, 0.06388579530783847, 0.0369117928445289, 0.032652739824006335, 0.004259053020522565, 0.032652739824006335, 0.9800658608066244, 0.9942982455188561, 0.9795688207256869, 0.9830735187242351, 0.9826137846582412, 0.2507355542188522, 0.6764028904508571, 0.06997271280526107, 0.11821020541633694, 0.10543072374970591, 0.05830638510400403, 0.09744354770806153, 0.09664483010389709, 0.11821020541633694, 0.11341789979135031, 0.01996794010411097, 0.12140507583299469, 0.003993588020822194, 0.005591023229151071, 0.09424867729140378, 0.04632562104153745, 0.9877184014449838, 0.989246641440241, 0.9978553216245925, 0.9858336713686736, 0.9860208257205366, 0.13309528566387768, 0.008318455353992355, 0.14418655946920084, 0.659930791416727, 0.04159227676996178, 0.01663691070798471, 0.9685847025508355, 0.997454296647252, 0.9830963414291595, 0.2302552514174931, 0.048113037609625424, 0.02577484157658505, 0.10481768907811254, 0.12887420788292525, 0.12028259402406356, 0.0515496831531701, 0.008591613858861683, 0.00515496831531701, 0.015464904945951029, 0.03436645543544673, 0.22681860587394842, 0.9891860429330928, 0.9923616412705794, 0.9868646440095604, 0.9861815666751715, 0.9946123570986997, 0.9875755794964863, 0.9883436511874746, 0.16657933589378962, 0.06478085284758485, 0.7681158266213632, 0.9699852192337188, 0.9481932928028508, 0.9881269314441022, 0.345126745873051, 0.6519060755379852, 0.9864061824473521, 0.9906420525354487, 0.99038000024669, 0.3784751748340568, 0.04634389895927226, 0.061791865279029676, 0.06951584843890839, 0.030895932639514838, 0.20082356215684646, 0.21627152847660389, 0.9545766120844705, 0.9509662214676637, 0.37125233146740155, 0.08552901813552795, 0.08176950085484541, 0.048873724648873115, 0.0357154141664842, 0.11090575978013514, 0.04229456940767866, 0.04699396600853184, 0.0357154141664842, 0.02067734504375401, 0.0056392759210238215, 0.011278551842047643, 0.07613022493382159, 0.02725650028494847, 0.0009398793201706369, 0.9551230705518351, 0.1426926136536294, 0.0539060984913711, 0.23465007578596833, 0.12366693183314548, 0.02219662879056457, 0.0539060984913711, 0.11098314395282287, 0.006341893940161307, 0.031709469700806535, 0.01902568182048392, 0.01902568182048392, 0.18074397729459724, 0.0031709469700806534, 0.9908005239529105, 0.9821606974655431, 0.9671989436254046, 0.9890357563900057, 0.9795279911073437, 0.05013802893910236, 0.04011042315128189, 0.14372901629209342, 0.023397746838247767, 0.1270163399790593, 0.4913526836032031, 0.06685070525213647, 0.053480564201709185, 0.9918524068725676, 0.25432648138436587, 0.2376493350640796, 0.5044836761886602, 0.9841496891554421, 0.9700486859868417, 0.9864144243272989, 0.6043560857712927, 0.21449748996864063, 0.03161015641643125, 0.006522730689104862, 0.07250266035197327, 0.008027976232744444, 0.0030104910872791667, 0.004013988116372222, 0.055443210857391324, 0.13042222716946014, 0.8477444766014909, 0.016302778396182518, 0.038021694848049424, 0.14786214663130332, 0.021123163804471903, 0.0654818077938629, 0.665379659840865, 0.042246327608943805, 0.012673898282683142, 0.006336949141341571, 0.9483124232034139, 0.040901711129213016, 0.03408475927434418, 0.9202885004072928, 0.9863478133921387, 0.17102417036043902, 0.20782683993167272, 0.1861782107721235, 0.370191558628292, 0.04546212123505341, 0.019483766243594318, 0.9943699508297801, 0.9860040925367671, 0.216233718533514, 0.14866068149179087, 0.06757303704172313, 0.13064120494733136, 0.022524345680574376, 0.0540584296333785, 0.36038953088919, 0.985043597379248, 0.9884212336017401, 0.9939494534097393, 0.9892580736276574, 0.019235376890097876, 0.11060341711806279, 0.8271212062742087, 0.03847075378019575, 0.032418912740664683, 0.950954773726164, 0.9894893493192195, 0.9841059573418243, 0.03499926033778385, 0.06299866860801093, 0.8679816563770394, 0.029749371287116272, 0.003499926033778385, 0.8728971195450761, 0.06629598376291716, 0.060771318449340736, 0.011676729544145871, 0.13233626816698654, 0.8524012567226485, 0.9988386788383659, 0.985131576298327, 0.9876358031250786, 0.09669700295721552, 0.01564216224307898, 0.538232582636854, 0.11305017257497992, 0.026307272863360105, 0.15926565192953146, 0.014931154868393574, 0.02488525811398929, 0.009954103245595716, 0.9643819168747283, 0.9832935864075968, 0.9865090210487933, 0.9700581086797238, 0.9865236374804008, 0.7226235020660838, 0.045313024882031656, 0.0588274358117604, 0.02702882185945748, 0.027823787208265054, 0.028618752557072625, 0.028618752557072625, 0.02146406441780447, 0.011129514883306022, 0.027823787208265054, 0.9695478113606384, 0.2774286158058984, 0.027742861580589837, 0.015412700878105466, 0.046238102634316394, 0.021577781229347653, 0.4531334058163007, 0.006165080351242186, 0.14796192842981248, 0.6401770097710994, 0.041750674550289094, 0.12525202365086727, 0.1892697246279772, 0.7689904817960861, 0.22852075638279915, 0.9745847908830562, 0.02357866429555781, 0.1701700168172572, 0.8083075798819718, 0.9865538548121654, 0.8876657292426235, 0.09426538717620782, 0.0157108978627013, 0.9870672081071967, 0.3944386191029644, 0.00911244334561304, 0.41396528341499234, 0.0039053328624055884, 0.13538487256339374, 0.04035510624485775, 0.0013017776208018627, 0.9878678780998084, 0.832129230356401, 0.1664258460712802, 0.011677714307739964, 0.21701085755216767, 0.002919428576934991, 0.3036205720012391, 0.02822114291037158, 0.17224628603916448, 0.055469142961764833, 0.0009731428589783304, 0.033086857205263234, 0.16543428602631616, 0.009731428589783304, 0.9767079620875329, 0.9565752956742544, 0.9883057469142242, 0.9550877728734853, 0.020762777671162726, 0.948474506750074, 0.9018324910972549, 0.09717287711255866, 0.0933690313047042, 0.03295377575460148, 0.05492295959100247, 0.09611517928425432, 0.5684526317668755, 0.11259206716155507, 0.01647688787730074, 0.02196918383640099, 0.14116406459996916, 0.22855134268566435, 0.11427567134283217, 0.04033258988570547, 0.0067220983142842455, 0.1478861629142534, 0.32266071908564375, 0.3433949885512429, 0.5275043498829334, 0.02068644509344837, 0.047578823714931245, 0.05999069077100027, 0.987242604795857, 0.07111652550803588, 0.3590517263454494, 0.5273030184010464, 0.003469098805270043, 0.017345494026350213, 0.022549142234255276, 0.9944520086373904, 0.23758074820143402, 0.06335486618704907, 0.6810648115107775, 0.9847240667626787, 0.11165667028025199, 0.8868729810831444, 0.19161618359251129, 0.041271178004540894, 0.14739706430193175, 0.6161197287820748, 0.3215613747321538, 0.06787053606027016, 0.1700058087723272, 0.16407537358259486, 0.26950533251116987, 0.0013178744866071876, 0.0052714979464287505, 0.44377871535859625, 0.5408553093432892, 0.8582852985936966, 0.10374877235747981, 0.02829511973385813, 0.97804005850494, 0.014790998678203531, 0.9762059127614331, 0.005032317585682866, 0.519766516349816, 0.04888537083234784, 0.11214879190950387, 0.02372378290393351, 0.10855427934830182, 0.17900672554786196, 0.002156707536721228, 0.01130079784794286, 0.00565039892397143, 0.5951753533249906, 0.14691037202325716, 0.16386156879517144, 0.020718129387895242, 0.056503989239714295, 0.9841798279667472, 0.08913790523843192, 0.8468100997651032, 0.9932207394624639, 0.983829738296468, 0.1684904494790595, 0.007658656794502704, 0.7965003066282812, 0.015317313589005408, 0.9835332748269823, 0.3806738261776199, 0.5469451525540516, 0.03938005098389171, 0.030628928543026887, 0.9497375273068477, 0.967706945916429, 0.3055191470847159, 0.023035173788133342, 0.20610418652540358, 0.09335307272032986, 0.3515894946609826, 0.018185663516947375, 0.9945448351196743, 0.20664518420824676, 0.018785925837113342, 0.15028740669690674, 0.028178888755670015, 0.018785925837113342, 0.15028740669690674, 0.028178888755670015, 0.3945044425793802, 0.9910104301435961, 0.9687531665338928, 0.02252914340776495, 0.7034848241558161, 0.043789312464367444, 0.16563783410434643, 0.00666359102718635, 0.04474125403967978, 0.015231065204997372, 0.01999077308155905, 0.984019229950005, 0.9173100864950056, 0.046153966616100904, 0.03461547496207568, 0.1846561289290323, 0.8141656593689152, 0.12488361753367684, 0.053521550371575785, 0.26760775185787894, 0.10704310074315157, 0.44601291976313157, 0.13242898081904428, 0.026485796163808858, 0.03310724520476107, 0.2714794106790408, 0.5230944742352249, 0.9914460454706112, 0.9832902634512145, 0.39180762489132076, 0.0597040190310584, 0.1567230499565283, 0.053173891949536395, 0.14926004757764602, 0.01119450356832345, 0.07836152497826415, 0.0074630023788823, 0.09235465443866847, 0.6190643977993234, 0.017647217725180256, 0.33953246903246814, 0.002823554836028841, 0.002823554836028841, 0.012705996762129785, 0.0014117774180144205, 0.003529443545036051, 0.14353410912561926, 0.8492434789932473, 0.7657794069501742, 0.06790873986161923, 0.08380227472284926, 0.005779467222265466, 0.040456270555858265, 0.0216730020834955, 0.011558934444530933, 0.002889733611132733, 0.9680113065763282, 0.018014267876318227, 0.0952182730605392, 0.8852725927790672, 0.9964879701542634, 0.13258499646366315, 0.16747578500673238, 0.6978157708613849, 0.09526528422559166, 0.09526528422559166, 0.004763264211279583, 0.057159170535355, 0.0285795852676775, 0.6716202537904212, 0.042869377901516244, 0.9855185208004819, 0.940595519536226, 0.9876752218704836, 0.01387805269578772, 0.08604392671388386, 0.821580719590633, 0.019429273774102807, 0.041634158087363156, 0.016653663234945264, 0.013903258937147929, 0.055613035748591715, 0.9315183487889112, 0.15267032883810958, 0.05155102012715389, 0.36482260397678135, 0.23197959057219247, 0.18637676507509482, 0.0019827315433520727, 0.00793092617340829, 0.9764044713408904, 0.9608183896240022, 0.9855372053265872, 0.11593752412810422, 0.014138722454646856, 0.008483233472788114, 0.17249241394669163, 0.016966466945576228, 0.039588422873011196, 0.06786586778230491, 0.13290399107368045, 0.045243911854869936, 0.34215708340245393, 0.011310977963717484, 0.022621955927434968, 0.011310977963717484, 0.9744518599154508, 0.9907819657574709, 0.9802740268625767, 0.9907820992740465, 0.9939872403077167, 0.9698059795644834, 0.963801723684332, 0.9946178871281914, 0.3128285889999354, 0.2568847902371732, 0.20607868727915452, 0.018267362861310095, 0.019409073040141975, 0.04738097242152306, 0.011417101788318808, 0.02226334848722168, 0.02511762393430138, 0.041672421527363654, 0.013700522145982571, 0.001141710178831881, 0.022834203576637617, 0.8608594341607908, 0.05365790511029319, 0.0583238099024926, 0.02332952396099704, 0.9816643441217976, 0.6657719670319628, 0.327842256493012, 0.9765299360931585, 0.9615967452617382, 0.9700581086797238, 0.011484073147681071, 0.04976431697328464, 0.11484073147681072, 0.18374517036289714, 0.045936292590724286, 0.053592341355845, 0.53592341355845, 0.9869640415039912, 0.8940576555893905, 0.09933973950993229, 0.9245019180055198, 0.06375875296589792, 0.9696860445737414, 0.1875548632056264, 0.7877304254636308, 0.12674892098311347, 0.10139913678649076, 0.08872424468817942, 0.016899856131081793, 0.13097388501588392, 0.44784618747366756, 0.08449928065540897, 0.10377450464075369, 0.2816736554534743, 0.08894957540636031, 0.11859943387514707, 0.029649858468786768, 0.3706232308598346, 0.9759284924886956, 0.22769498757424886, 0.0810968448894585, 0.006238218837650653, 0.012476437675301306, 0.10604972024006111, 0.5583205859697334, 0.00935732825647598, 0.014847400866494314, 0.15960955931481388, 0.1224910571485781, 0.5753367835766547, 0.04083035238285936, 0.0018559251083117892, 0.04083035238285936, 0.0018559251083117892, 0.029694801732988628, 0.012991475758182526, 0.04629771367797673, 0.20153122424531048, 0.17702066994520516, 0.09259542735595346, 0.45480695201306554, 0.02723394922233925, 0.9971217618083494, 0.9986932644148607, 0.013147784011641923, 0.9729360168615022, 0.9801301224491893, 0.9522476367210198, 0.9836018108738297, 0.38616349275747563, 0.0017686877530876748, 0.07546401079840745, 0.19691390317709445, 0.004716500674900466, 0.061904071358068614, 0.0035373755061753496, 0.2670718507162389, 0.002358250337450233, 0.11797297610208055, 0.8530353656611978, 0.018149688631089313, 0.0060498962103631045, 0.3208281482609019, 0.6673225483826759, 0.995568032904613, 0.9965463799358334, 0.9893570665104425, 0.7600708371833721, 0.005922629900130172, 0.005922629900130172, 0.009871049833550286, 0.08489102856853246, 0.0414584093009112, 0.0019742099667100573, 0.08883944850195258, 0.27482761199002076, 0.08028671810944427, 0.17910114039799105, 0.020071679527361067, 0.003087950696517087, 0.1744692143532154, 0.25475593246265965, 0.012351802786068348, 0.9622408685253877, 0.9709467183766008, 0.01618244530627668, 0.09021103109207174, 0.8660258984838887, 0.036084412436828694, 0.5962304423394525, 0.054800592126787916, 0.01972821316564365, 0.27181093694886804, 0.054800592126787916, 0.02864588348828085, 0.964411410772122, 0.9864880676964013, 0.9884897297293059, 0.988427821025746, 0.20315054011855618, 0.7920299538799406, 0.002571525824285521, 0.9835068013813009, 0.9966770272449289, 0.9764434593199479, 0.9646367405568925, 0.03501403776976016, 0.9787755148154491, 0.9778829410200423, 0.9981949165336416, 0.18692489230834972, 0.18149102915985119, 0.08802858300567633, 0.09672276404327398, 0.04564445044738772, 0.027169315742492692, 0.24887093220123305, 0.010867726296997077, 0.04455767781768802, 0.013041271556396491, 0.011954498926696784, 0.0423841325582886, 0.01590890643494095, 0.1948841038280266, 0.7477186024422245, 0.03977226608735237, 0.800303293907276, 0.09828286065527951, 0.09828286065527951, 0.19567178686031358, 0.04065907259435087, 0.14993033019166885, 0.12451840982019954, 0.027953112408616226, 0.030494304445763155, 0.4294614542778311, 0.03184287450371758, 0.9643841992554467, 0.1631227655220556, 0.07512232622726245, 0.023609873957139624, 0.736198797027172, 0.9745675060313745, 0.2585263623372544, 0.5699331169707654, 0.011751198288057018, 0.08519618758841338, 0.005875599144028509, 0.05288039229625658, 0.014688997860071273, 0.9860413980583005, 0.010159328726647167, 0.25271330207534826, 0.10032337117564077, 0.5600329960564251, 0.012699160908308959, 0.06349580454154478, 0.8731408929531458, 0.06572028226529054, 0.046943058760921814, 0.891920695699771, 0.03692665300667842, 0.04828870008565639, 0.008521535309233481, 0.011362047078977975, 0.9762918069233332, 0.02487190808314561, 0.21141121870673768, 0.02487190808314561, 0.7337212884527955, 0.9949883365647868, 0.9772568030846417, 0.6652187559258433, 0.33260937796292167, 0.9924509887030897, 0.9858957016228124, 0.9835136479447254, 0.9875118295739389, 0.05748014348795406, 0.8622021523193109, 0.9053837222472744, 0.9630413887304978, 0.03566819958261103, 0.05214254600602524, 0.9385658281084543, 0.9716385134977491, 0.997470661070785, 0.3847589419391879, 0.008550198709759732, 0.18596682193727418, 0.053438741935998325, 0.012825298064639598, 0.04488854322623859, 0.02137549677439933, 0.019237947096959397, 0.002137549677439933, 0.03633834451647886, 0.04061344387135873, 0.1816917225823943, 0.006412649032319799, 0.9811469640926439, 0.9778895706594446, 0.9952080507100327, 0.4744941993774113, 0.09928089308762574, 0.16158821219779085, 0.07326245214052382, 0.0650461023677548, 0.015748003731140634, 0.03560418234866578, 0.008901045587166445, 0.04861340282221674, 0.014378612102345796, 0.0020540874431922563, 0.9909954892758287, 0.03725394773531161, 0.08195868501768554, 0.14156500139418413, 0.5997885585385169, 0.014901579094124644, 0.10058565888534135, 0.003725394773531161, 0.014901579094124644, 0.0568352236206364, 0.12314298451137887, 0.7672755188785914, 0.03789014908042426, 0.009472537270106066, 0.05061390376500945, 0.00660181353456645, 0.0528145082765316, 0.18485077896786062, 0.3036834225900567, 0.017604836092177202, 0.07041934436870881, 0.27067435491722447, 0.0396108812073987, 0.9941026531738618, 0.9515495109242205, 0.041371717866270454, 0.9835880539630473, 0.9902128574146389, 0.08437838635957248, 0.7435845297937326, 0.12129393039188545, 0.04746284232725952, 0.9857293657347913, 0.904338349284369, 0.17789850541799387, 0.04851777420490742, 0.7115940216719755, 0.04851777420490742, 0.10200274793643262, 0.6757682050788661, 0.0063751717460270385, 0.06056413158725687, 0.15619170777766245, 0.9849763105064662, 0.4459136866920763, 0.2543664679282745, 0.2986488894704437, 0.04162835556011369, 0.9491265067705922, 0.1752469641680252, 0.40525860463855834, 0.4162115398990599, 0.47366844430802196, 0.005159786975032919, 0.44786950943285736, 0.006191744370039503, 0.0010319573950065839, 0.06501331588541479, 0.6397928552760583, 0.005180508949603711, 0.22470457568906096, 0.00841832704310603, 0.060870980157843604, 0.05957585292044268, 0.0012951272374009278, 0.9899665542011568, 0.08999450200721264, 0.6934870448791092, 0.10058209047864942, 0.005293794235718391, 0.11116967895008621, 0.03494753296756484, 0.08487258006408605, 0.8795129130170485, 0.9930806125291123, 0.054618219718131536, 0.6239081252417333, 0.006302102275169023, 0.025208409100676094, 0.03361121213423479, 0.25628549252354027, 0.9576020616228477, 0.06986877962296487, 0.8061782264188254, 0.12361399471755323, 0.9845284400808761, 0.9661578949994243, 0.03933921190508406, 0.291110168097622, 0.055074896667117686, 0.6136917057193113, 0.18863803177744226, 0.0023004638021639303, 0.15183061094281938, 0.03450695703245895, 0.03220649323029502, 0.004600927604327861, 0.08281669687790148, 0.004600927604327861, 0.07591530547140969, 0.42328533959816317, 0.0924798905991595, 0.6184592683818791, 0.020807975384810887, 0.015027982222363418, 0.036991956239663795, 0.03930395350464278, 0.06704792068439064, 0.003467995897468481, 0.03467995897468481, 0.015027982222363418, 0.05548793435949569, 0.0011559986324894936, 0.5993061394725555, 0.015910782463873157, 0.003535729436416257, 0.3411978906141688, 0.024750106054913797, 0.014142917745665028, 0.2187902750376928, 0.04018596888447419, 0.1160927989995921, 0.03125575357681326, 0.49562694957518166, 0.09376726073043978, 0.9858694052655678, 0.9913392033542616, 0.941197281877322, 0.04278169463078736, 0.9954649019878243, 0.9909065202418689, 0.5139274573777782, 0.027978858711111134, 0.20395115428888905, 0.06184800346666672, 0.03460543051111114, 0.02871514446666669, 0.04638600260000004, 0.006626571800000006, 0.004417714533333337, 0.013253143600000012, 0.04417714533333337, 0.012516857844444455, 0.9838914858361191, 0.07446219505447442, 0.9201399817445768, 0.9635186222319215, 0.42440360004147437, 0.058137479457736216, 0.08720621918660433, 0.023254991783094488, 0.36917299455662494, 0.03197561370175492, 0.19183339939317548, 0.4987668384222563, 0.13812004756308635, 0.06906002378154318, 0.057550019817952644, 0.021101673933249302, 0.0038366679878635095, 0.019183339939317548, 0.17957106773761064, 0.07448873920967553, 0.0465554620060472, 0.0013301560573156345, 0.07448873920967553, 0.43895149891415935, 0.07049827103772863, 0.01197140451584071, 0.027933277203628322, 0.03192374537557523, 0.01463171663047198, 0.027933277203628322, 0.990842519208286, 0.05509363867419455, 0.9090450381242101, 0.9647123732869785, 0.9893251095881349, 0.9702630987882715, 0.9847925759822825, 0.45481577970514014, 0.042145091555688664, 0.34418491437145743, 0.026340682222305414, 0.061461591852045964, 0.0026340682222305415, 0.023706614000074875, 0.007902204666691625, 0.0017560454814870277, 0.03512090962974055, 0.07746887360485816, 0.012911478934143026, 0.13557052880850176, 0.5100034178986494, 0.10974757094021571, 0.0516459157365721, 0.09038035253900117, 0.9903486618819018, 0.2848140775980846, 0.701080806395285, 0.40081718458651533, 0.050102148073314416, 0.5344229127820204, 0.9654540127253434, 0.9851311406623584, 0.12392570970590477, 0.05850569986115676, 0.0005318699987377887, 0.39358379906596364, 0.1452005096554163, 0.07233431982833927, 0.1600928696200744, 0.03244406992300511, 0.013296749968444719, 0.10658540577860263, 0.2869607078654686, 0.057392141573093726, 0.37714835890890164, 0.10986495672563656, 0.04263416231144106, 0.016397754735169637, 0.5648858416286721, 0.0918325343631311, 0.19446889629839528, 0.02469446302201845, 0.021607655144266144, 0.010032125602694996, 0.03858509847190383, 0.001543403938876153, 0.0038585098471903825, 0.04861722407459882, 0.9800061164990086, 0.9513317977904618, 0.015961942915947346, 0.03192388583189469, 0.953032773480359, 0.9521185372562164, 0.04139645814157463, 0.9898464208636787, 0.9802910807989103, 0.9794081415907381, 0.011097554123949657, 0.9280329636152901, 0.036067050902836385, 0.016646331185924484, 0.006935971327468536, 0.9976636074108433, 0.9836136393487794, 0.08014009177100516, 0.12911459229773053, 0.5498500740955076, 0.23819416165270976, 0.9883409202717399, 0.9842345653688249, 0.9928259532798066, 0.9628177439490605, 0.0073497537706035156, 0.014699507541207031, 0.014699507541207031, 0.9734025885848919, 0.014690339863478343, 0.9695624309895706, 0.2499841830913399, 0.009258673447827404, 0.1851734689565481, 0.1512249996478476, 0.024689795860873078, 0.021603571378263943, 0.07715561206522838, 0.024689795860873078, 0.043207142756527886, 0.052465816204355295, 0.15739744861306587, 0.9931989258970384, 0.7282772619688795, 0.08934883075081161, 0.15088151607920072, 0.031187799413019145, 0.9922710058922627, 0.9733490076973192, 0.5430564999782634, 0.07240753333043513, 0.04424904814637702, 0.3338791814681175, 0.5714181182386964, 0.021778185994578265, 0.3619327101003721, 0.01244467771118758, 0.009333508283390685, 0.00622233885559379, 0.0010370564759322983, 0.016592903614916773, 0.6950075266157271, 0.011652820805533148, 0.1498219817854262, 0.02497033029757103, 0.03246142938684234, 0.0008323443432523677, 0.060761137057422844, 0.02497033029757103, 0.7494959147658117, 0.018610508041589004, 0.2016702325961281, 0.005075593102251546, 0.003722101608317801, 0.019287253788555878, 0.0013534914939337458, 0.0006767457469668729, 0.00033837287348343644, 0.9633529891628783, 0.02189438611733814, 0.07412204224179125, 0.05260273965546476, 0.10042341206952363, 0.023910336207029436, 0.05021170603476181, 0.3849564129331739, 0.05260273965546476, 0.038256537931247094, 0.02630136982773238, 0.06216687413827653, 0.12911581551795895, 0.004782067241405887, 0.9658517148513196, 0.1584224902181763, 0.061031615084051534, 0.10128651013948978, 0.02726944503755494, 0.02856799003934327, 0.14543704020029302, 0.11816759516273807, 0.07012143009656985, 0.06492725008941652, 0.015582540021459966, 0.14283995019671636, 0.03895635005364991, 0.02856799003934327, 0.9851679586626274, 0.98527605225399, 0.5016661914064143, 0.0243696276186322, 0.17546131885415184, 0.05779083120989922, 0.06614613210771597, 0.04003581680203862, 0.02924355314235864, 0.01009598858486191, 0.013925501496361258, 0.018103151945269635, 0.013229226421543195, 0.02924355314235864, 0.00243696276186322, 0.011836676271907069, 0.003133237836681283, 0.0034813753740903144, 0.13180784895437192, 0.8473361718495338, 0.9751452260960131, 0.01477492766812141, 0.982695012735749, 0.033030578317005725, 0.004128822289625716, 0.07431880121326288, 0.061932334344385734, 0.008257644579251431, 0.061932334344385734, 0.0536746897651343, 0.6358386326023602, 0.04541704518588287, 0.02064411144812858, 0.9673859383435643, 0.9925083530439391, 0.2932194664273052, 0.023243006485091266, 0.0947599495161413, 0.3307658615186065, 0.008939617878881256, 0.08582033163726005, 0.1251546503043376, 0.035758471515525025, 0.3441214429930342, 0.22350155575836242, 0.07272669671502269, 0.021285862453177373, 0.0017738218710981145, 0.33525233363754364, 0.9342107911236045, 0.26696190776858697, 0.14133277470101663, 0.0852483402958513, 0.09646522717688437, 0.008973509504826453, 0.3679138896978845, 0.0336506606430992, 0.09182001318466364, 0.8641883593850694, 0.03780824072309679, 0.0888569685269336, 0.9063410789747227, 0.9297240433640437, 0.18189079774118114, 0.800319510061197, 0.9722741890341867, 0.6351731102167556, 0.03416057063350618, 0.03522808846580325, 0.036295606298100316, 0.05978099860863582, 0.10781930106200388, 0.004270071329188272, 0.06405106993782408, 0.022417874478238432, 0.6519489274922402, 0.3395054792223742, 0.004920369264092379, 0.022359162799595912, 0.5999708684558237, 0.37637924045986454, 0.9984073891099748, 0.004869025463921836, 0.9932811946400545, 0.33714362573428996, 0.02917589068854432, 0.1782971097633264, 0.006483531264120961, 0.10697826585799584, 0.025934125056483844, 0.045384718848846727, 0.08752767206563297, 0.1782971097633264, 0.9882251232705453, 0.9615102072503573, 0.1236458482145312, 0.03140212018146824, 0.20411378117954357, 0.1236458482145312, 0.3493485870188342, 0.00392526502268353, 0.001962632511341765, 0.06084160785159472, 0.10009425807843002, 0.9745664703599832, 0.9665912447191807, 0.7726541052815324, 0.010821486068368802, 0.12120064396573058, 0.025971566564085124, 0.04545024148714897, 0.025971566564085124, 0.40824348577537833, 0.05462412837839569, 0.534741467283242, 0.008933659364053551, 0.025014246219349945, 0.035734637456214205, 0.2948107590137672, 0.42702891760175976, 0.017867318728107102, 0.1393650860792354, 0.03930810120183562, 0.012507123109674972, 0.9645271382763608, 0.9608449594772394, 0.030503014586579027, 0.21024827955873876, 0.09512518561012345, 0.17781923900983304, 0.22862473586978532, 0.12485180611328703, 0.011350164192117002, 0.00810726013722643, 0.12863519417732602, 0.011350164192117002, 0.0021619360365937148, 0.0010809680182968574, 0.07712652550328243, 0.8792423907374196, 0.04113414693508396, 0.05998605046578501, 0.5043271650271555, 0.3821333585227786, 0.051099228174557594, 0.07618849276124284, 0.15802057757887406, 0.6066861460617486, 0.15802057757887406, 0.0872240613951765, 0.09294367197846676, 0.04575688466632209, 0.207335883644272, 0.4189614752260117, 0.09866328256175702, 0.024308344978983612, 0.025023296301894895, 0.44508734324607846, 0.05595383743664986, 0.0788440436607339, 0.03815034370680673, 0.14497130608586556, 0.01526013748272269, 0.16531815606282912, 0.02543356247120448, 0.02797691871832493, 0.9914073421851782, 0.9592163159016674, 0.9298580661713761, 0.027348766652099298, 0.10586597458075891, 0.5222721412650774, 0.3670020452132976, 0.9806072841165158, 0.0783763952046405, 0.052250930136426996, 0.8621403472510455, 0.9883420340131824, 0.0234224221744398, 0.030449148826771744, 0.0714383876320414, 0.5984428865569369, 0.19791946737401633, 0.0023422422174439804, 0.028106906609327763, 0.0035133633261659704, 0.043331481022713635, 0.3956278565629032, 0.6002629547850946, 0.9364504840223494, 0.006737053841887406, 0.020211161525662217, 0.017965476911699748, 0.017965476911699748, 0.9705253511656348, 0.9883404446341122, 0.9923520369346719, 0.9627060066295249, 0.017191178689812944, 0.9872954191475595, 0.993329371816357, 0.9838737863669744, 0.9928095942268889, 0.9462360936984712, 0.031541203123282374, 0.41903611866562335, 0.06388103067769643, 0.33874528194228015, 0.03574993459944479, 0.1090079973032251, 0.0005860645016302424, 0.008790967524453637, 0.005860645016302424, 0.016409806045646787, 0.0011721290032604848, 0.12917618651050708, 0.6871073750558887, 0.17864791751453105, 0.058457281135050956, 0.054560129059380895, 0.054560129059380895, 0.36633229511298604, 0.08184019358907134, 0.38192090341566626, 0.9361445152384814, 0.04854082671606941, 0.013868807633162688, 0.8910243147981695, 0.014850405246636158, 0.08910243147981695, 0.9869893788688168, 0.41732301933628324, 0.022763073781979087, 0.47043685816090114, 0.08346460386725665, 0.49127035083698595, 0.1088020557221389, 0.197670910395947, 0.03363727676905821, 0.0419427772058627, 0.0008305500436804497, 0.034883101834578885, 0.043603877293223604, 0.0008305500436804497, 0.002076375109201124, 0.029484526550655962, 0.0037374751965620233, 0.0016611000873608993, 0.009966600524165396, 0.1040058028137173, 0.15229421126294318, 0.029715943661062085, 0.1040058028137173, 0.6110340915305891, 0.048379320385344364, 0.07525672059942456, 0.0913831607278727, 0.11288508089913686, 0.5160460841103399, 0.04300384034252833, 0.11288508089913686, 0.10232403511858684, 0.13155947372389737, 0.7601214037380737, 0.9669687732974755, 0.8153667289229823, 0.04353087259137072, 0.051902194243557395, 0.0033485286608746704, 0.07534189486968008, 0.008371321652186677, 0.9803161567255035, 0.9982709728986946, 0.9164932419867482, 0.07299503697239587, 0.951029292989992, 0.047817115289999594, 0.004413757075563711, 0.986033330680933, 0.008827514151127421, 0.9554198412502091, 0.8951546461433559, 0.0862799658933355, 0.982836672326981, 0.10169209129406376, 0.26918494754310995, 0.6221163232107431, 0.42246000034851694, 0.0844920000697034, 0.49005360040427964, 0.9890610365368221, 0.9886005403244517, 0.9853202841875507, 0.9667169563901402, 0.9804608430627622, 0.9812411593269317, 0.04744929723825581, 0.07908216206375969, 0.3321450806677907, 0.527214413758398, 0.010544288275167958, 0.04598927768109844, 0.10347587478247147, 0.33917092289810097, 0.16958546144905048, 0.0028743298550686523, 0.33917092289810097, 0.9953553904783677, 0.4010406464503051, 0.05245679341755046, 0.013537237010980764, 0.07783911281313939, 0.08122342206588458, 0.03045878327470672, 0.31135645125255756, 0.023690164769216336, 0.005076463879117786, 0.37814479611481977, 0.005008540345891653, 0.20096768137890256, 0.17529891210620785, 0.16340362878471515, 0.0025042701729458263, 0.059476416607463375, 0.006260675432364565, 0.0025042701729458263, 0.004382472802655196, 0.0018782026297093698, 0.33831483613639945, 0.04994620143517875, 0.040522389843635584, 0.020732385501394952, 0.011308573909851792, 0.05183096375348738, 0.11308573909851792, 0.17905242023932003, 0.03015619709293811, 0.1649167028520053, 0.9905600463604062, 0.5215842819891744, 0.08268401752659187, 0.3197677820671257, 0.011812002503798838, 0.009787087788861894, 0.0006749715716456479, 0.0053997725731651834, 0.007762173073924951, 0.025817662615446033, 0.01282445986126731, 0.0016874289291141198, 0.984259419985882, 0.9758106125382413, 0.7620848798196795, 0.01714301365647541, 0.16052094605608794, 0.04519521782161699, 0.014026102082570789, 0.9599335192806306, 0.9848207623618654, 0.9657231046227788, 0.9958935825155437, 0.9785522892904638, 0.9947264225873121, 0.9953533238247533, 0.9887658232026078, 0.9830963414291595, 0.9814189102106193, 0.009311315763163661, 0.08595060704458764, 0.13250718586040594, 0.02865020234819588, 0.1654549185608312, 0.3996703227573325, 0.06876048563567011, 0.011460080939278352, 0.007878805645753866, 0.08809937222070233, 0.000716255058704897, 0.3141165933906709, 0.1174197741960365, 0.11816767084696667, 0.034403245942787763, 0.17650360961951983, 0.06431911197999451, 0.005235276556511181, 0.014957933018603374, 0.04263010910301962, 0.08077283830045823, 0.026924279433486076, 0.005235276556511181, 0.9855206285143477, 0.06314943554703187, 0.06314943554703187, 0.5508034100491113, 0.3087305737854891, 0.007016603949670208, 0.003508301974835104, 0.9514646206964469, 0.9691296235044812, 0.9681704567287485, 0.9778457459309368], \"Term\": [\"absolutes\", \"accelerators\", \"access\", \"access\", \"access\", \"access\", \"access\", \"access\", \"access\", \"adaptec\", \"adapter\", \"adcom\", \"address\", \"address\", \"address\", \"address\", \"address\", \"address\", \"address\", \"addresses\", \"addresses\", \"addresses\", \"adjustable\", \"administration\", \"administration\", \"administration\", \"administration\", \"admit\", \"admit\", \"advance\", \"advance\", \"advance\", \"aerospace\", \"affair\", \"afraid\", \"afraid\", \"agencies\", \"agencies\", \"agencies\", \"agencies\", \"agree\", \"agree\", \"agree\", \"agree\", \"agree\", \"agrep\", \"algorithm\", \"algorithm\", \"algorithm\", \"allocation\", \"alomar\", \"also\", \"also\", \"also\", \"also\", \"also\", \"also\", \"also\", \"also\", \"also\", \"also\", \"also\", \"also\", \"also\", \"also\", \"aluminum\", \"aluminum\", \"amendment\", \"american\", \"american\", \"american\", \"american\", \"american\", \"american\", \"among\", \"among\", \"among\", \"among\", \"among\", \"among\", \"among\", \"among\", \"among\", \"amongst\", \"analysis\", \"analysis\", \"analysis\", \"analysis\", \"analysis\", \"analysis\", \"analysis\", \"analysis\", \"angels\", \"angels\", \"angels\", \"ankara\", \"anon\", \"anonymity\", \"anonymous\", \"anonymous\", \"anybody\", \"anybody\", \"anybody\", \"anybody\", \"anybody\", \"anybody\", \"anyone\", \"anyone\", \"anyone\", \"anyone\", \"anyone\", \"anyone\", \"anything\", \"anything\", \"anything\", \"anything\", \"anything\", \"anything\", \"anything\", \"apartment\", \"apartments\", \"apologize\", \"apple\", \"apple\", \"apple\", \"apple\", \"application\", \"application\", \"application\", \"application\", \"appreciate\", \"appreciate\", \"appreciate\", \"appreciate\", \"appreciated\", \"appreciated\", \"appreciated\", \"apps\", \"april\", \"april\", \"april\", \"april\", \"april\", \"april\", \"april\", \"april\", \"april\", \"arab\", \"arabs\", \"archive\", \"archive\", \"archive\", \"archive\", \"archive\", \"arena\", \"argic\", \"argument\", \"argument\", \"argument\", \"argument\", \"argv\", \"armenia\", \"armenia\", \"armenian\", \"armenian\", \"armenians\", \"armenians\", \"armenians\", \"arms\", \"arms\", \"arms\", \"around\", \"around\", \"around\", \"around\", \"around\", \"around\", \"around\", \"around\", \"around\", \"around\", \"around\", \"around\", \"around\", \"around\", \"around\", \"arrogance\", \"arrogant\", \"aspi\", \"assault\", \"assumption\", \"astro\", \"astronaut\", \"astronomical\", \"astronomy\", \"astros\", \"asynchronous\", \"athens\", \"aunt\", \"author\", \"author\", \"author\", \"author\", \"author\", \"authorization\", \"available\", \"available\", \"available\", \"available\", \"available\", \"available\", \"available\", \"available\", \"available\", \"azerbaijan\", \"azerbaijan\", \"azerbaijan\", \"azerbaijani\", \"azerbaijani\", \"azerbaijanis\", \"azerbaijanis\", \"azeris\", \"back\", \"back\", \"back\", \"back\", \"back\", \"back\", \"back\", \"back\", \"back\", \"back\", \"back\", \"back\", \"back\", \"back\", \"backup\", \"backup\", \"balcony\", \"balloon\", \"bandwidth\", \"barrasso\", \"baseball\", \"baseball\", \"baseball\", \"based\", \"based\", \"based\", \"based\", \"based\", \"based\", \"based\", \"based\", \"based\", \"based\", \"bassel\", \"beating\", \"beating\", \"beating\", \"bedroom\", \"belief\", \"belief\", \"beliefs\", \"beliefs\", \"believe\", \"believe\", \"believe\", \"believe\", \"believe\", \"believe\", \"bell\", \"bell\", \"bell\", \"bell\", \"berkeley\", \"berkeley\", \"berkeley\", \"berkeley\", \"best\", \"best\", \"best\", \"best\", \"best\", \"best\", \"best\", \"best\", \"best\", \"best\", \"bethesda\", \"bhjn\", \"bible\", \"biblical\", \"bike\", \"bikes\", \"binaries\", \"binaries\", \"bios\", \"bitmap\", \"bits\", \"bits\", \"bits\", \"bits\", \"bits\", \"black\", \"black\", \"black\", \"black\", \"black\", \"black\", \"black\", \"black\", \"black\", \"black\", \"black\", \"black\", \"black\", \"black\", \"black\", \"blind\", \"block\", \"block\", \"block\", \"block\", \"block\", \"block\", \"bname\", \"board\", \"board\", \"board\", \"board\", \"board\", \"board\", \"boggs\", \"bone\", \"book\", \"book\", \"book\", \"book\", \"book\", \"book\", \"book\", \"book\", \"book\", \"book\", \"boom\", \"boston\", \"boston\", \"boston\", \"bought\", \"bought\", \"bought\", \"bought\", \"brake\", \"braking\", \"braves\", \"breaker\", \"brightness\", \"bronx\", \"buffalo\", \"bugs\", \"build\", \"build\", \"build\", \"build\", \"build\", \"build\", \"build\", \"build\", \"builder\", \"building\", \"building\", \"building\", \"building\", \"building\", \"building\", \"building\", \"building\", \"building\", \"bullock\", \"burned\", \"burned\", \"burned\", \"burned\", \"burned\", \"burnt\", \"burst\", \"buying\", \"buying\", \"buying\", \"buying\", \"bxlt\", \"bxom\", \"byte\", \"byte\", \"byte\", \"cable\", \"cable\", \"cable\", \"cable\", \"cadre\", \"cage\", \"calgary\", \"came\", \"came\", \"came\", \"came\", \"came\", \"came\", \"came\", \"came\", \"came\", \"came\", \"canada\", \"canada\", \"canada\", \"canada\", \"canada\", \"canada\", \"canada\", \"canadiens\", \"cancer\", \"candida\", \"canucks\", \"cape\", \"capitalist\", \"carbs\", \"card\", \"card\", \"card\", \"cards\", \"cards\", \"cards\", \"cards\", \"cars\", \"cars\", \"cars\", \"cars\", \"cars\", \"case\", \"case\", \"case\", \"case\", \"case\", \"case\", \"case\", \"case\", \"case\", \"cassette\", \"catbyte\", \"catholic\", \"cellular\", \"cellular\", \"cellular\", \"center\", \"center\", \"center\", \"center\", \"center\", \"center\", \"center\", \"center\", \"centris\", \"ceremonial\", \"certainly\", \"certainly\", \"certainly\", \"certainly\", \"chain\", \"chain\", \"chain\", \"char\", \"char\", \"characters\", \"characters\", \"charlie\", \"chastity\", \"check\", \"check\", \"check\", \"check\", \"check\", \"check\", \"check\", \"chicago\", \"chicago\", \"chicago\", \"chicken\", \"chip\", \"chip\", \"chip\", \"chipset\", \"chipset\", \"choosing\", \"chose\", \"christ\", \"christian\", \"christian\", \"christianity\", \"christians\", \"chrysler\", \"church\", \"chzd\", \"chzv\", \"cipher\", \"cipher\", \"ciphers\", \"ciphertext\", \"circuit\", \"circuit\", \"circuit\", \"circuits\", \"city\", \"city\", \"city\", \"city\", \"city\", \"city\", \"city\", \"city\", \"civil\", \"civil\", \"civil\", \"claim\", \"claim\", \"claim\", \"claim\", \"classified\", \"cleaning\", \"client\", \"client\", \"clients\", \"clients\", \"clinical\", \"clipper\", \"clubbing\", \"code\", \"code\", \"code\", \"code\", \"code\", \"code\", \"code\", \"code\", \"code\", \"code\", \"coding\", \"cold\", \"cold\", \"cold\", \"cold\", \"cold\", \"cold\", \"coli\", \"color\", \"color\", \"color\", \"color\", \"colorado\", \"colorado\", \"colorado\", \"colorado\", \"colorado\", \"colorado\", \"colorado\", \"colorado\", \"colormap\", \"cols\", \"come\", \"come\", \"come\", \"come\", \"come\", \"come\", \"come\", \"come\", \"come\", \"comic\", \"comics\", \"communications\", \"communications\", \"communications\", \"comp\", \"comp\", \"comp\", \"company\", \"company\", \"company\", \"company\", \"company\", \"company\", \"company\", \"compass\", \"compiler\", \"compound\", \"compound\", \"compound\", \"computer\", \"computer\", \"computer\", \"computer\", \"computer\", \"computer\", \"concealed\", \"conclusion\", \"conclusion\", \"conclusions\", \"conductor\", \"conduit\", \"conflict\", \"conflict\", \"conflict\", \"conflict\", \"conflict\", \"connector\", \"connects\", \"consortium\", \"constitution\", \"contact\", \"contact\", \"contact\", \"contact\", \"contact\", \"contact\", \"contact\", \"contact\", \"contest\", \"contest\", \"contests\", \"context\", \"context\", \"context\", \"context\", \"contracts\", \"contracts\", \"control\", \"control\", \"control\", \"control\", \"control\", \"control\", \"control\", \"control\", \"control\", \"controller\", \"convertible\", \"cooling\", \"cooper\", \"copies\", \"copies\", \"copies\", \"copies\", \"copies\", \"copies\", \"coprocessor\", \"coprocessor\", \"corinthians\", \"corp\", \"corp\", \"corp\", \"corp\", \"corp\", \"cost\", \"cost\", \"cost\", \"cost\", \"cost\", \"cost\", \"cost\", \"cost\", \"cost\", \"cost\", \"could\", \"could\", \"could\", \"could\", \"could\", \"could\", \"could\", \"could\", \"could\", \"could\", \"could\", \"countries\", \"countries\", \"countries\", \"countries\", \"country\", \"country\", \"country\", \"country\", \"country\", \"country\", \"country\", \"couple\", \"couple\", \"couple\", \"couple\", \"couple\", \"couple\", \"couple\", \"course\", \"course\", \"course\", \"course\", \"course\", \"course\", \"course\", \"course\", \"course\", \"course\", \"course\", \"course\", \"court\", \"court\", \"courtyard\", \"cover\", \"cover\", \"cover\", \"cover\", \"cover\", \"cover\", \"cover\", \"cover\", \"cover\", \"cover\", \"cover\", \"cover\", \"crime\", \"crime\", \"crime\", \"crimes\", \"crimes\", \"criminal\", \"criminal\", \"criminal\", \"cross\", \"cross\", \"cross\", \"cross\", \"cross\", \"cross\", \"cross\", \"cross\", \"cross\", \"cross\", \"crowd\", \"crowd\", \"crowd\", \"crypt\", \"cryptanalysis\", \"crypto\", \"crypto\", \"cryptography\", \"cryptography\", \"cryptologia\", \"cryptology\", \"cryptosystem\", \"cryptosystems\", \"ctrl\", \"cubs\", \"cure\", \"current\", \"current\", \"current\", \"current\", \"current\", \"current\", \"current\", \"current\", \"current\", \"current\", \"current\", \"current\", \"current\", \"current\", \"current\", \"cursor\", \"curt\", \"curt\", \"cview\", \"cylinder\", \"cyprus\", \"darkness\", \"data\", \"data\", \"data\", \"data\", \"data\", \"data\", \"dave\", \"dave\", \"dave\", \"dave\", \"dave\", \"dave\", \"dave\", \"dave\", \"dave\", \"david\", \"david\", \"david\", \"david\", \"david\", \"david\", \"david\", \"david\", \"david\", \"david\", \"deaf\", \"dealer\", \"dealer\", \"dealer\", \"dealer\", \"dealership\", \"death\", \"death\", \"death\", \"death\", \"deaths\", \"decenso\", \"decrypt\", \"default\", \"default\", \"default\", \"define\", \"define\", \"define\", \"define\", \"define\", \"denning\", \"designated\", \"designated\", \"designated\", \"detector\", \"detectors\", \"detroit\", \"devils\", \"diarrhea\", \"dies\", \"diet\", \"differential\", \"directory\", \"directory\", \"directory\", \"discharge\", \"disciples\", \"disciples\", \"disk\", \"disk\", \"disk\", \"disks\", \"disks\", \"display\", \"display\", \"distributed\", \"distributed\", \"distributed\", \"distributed\", \"distribution\", \"distribution\", \"distribution\", \"distribution\", \"distribution\", \"distribution\", \"divine\", \"divine\", \"division\", \"division\", \"division\", \"division\", \"division\", \"doctor\", \"doctor\", \"doctor\", \"doctrine\", \"door\", \"door\", \"door\", \"door\", \"dorothy\", \"doubt\", \"doubt\", \"doubt\", \"doubt\", \"doubt\", \"drain\", \"drake\", \"dram\", \"drive\", \"drive\", \"drive\", \"driver\", \"driver\", \"driver\", \"driver\", \"driver\", \"drivers\", \"drivers\", \"drivers\", \"drivers\", \"drivers\", \"drives\", \"driving\", \"driving\", \"driving\", \"driving\", \"driving\", \"drugs\", \"drugs\", \"dtmedin\", \"dunno\", \"earth\", \"earth\", \"earth\", \"east\", \"east\", \"east\", \"east\", \"east\", \"east\", \"east\", \"easter\", \"echo\", \"echo\", \"echo\", \"edge\", \"edge\", \"edge\", \"edge\", \"edge\", \"edge\", \"edge\", \"edge\", \"edge\", \"edmonton\", \"eisa\", \"electric\", \"electric\", \"electric\", \"electrical\", \"electrical\", \"electrical\", \"electrical\", \"email\", \"email\", \"email\", \"email\", \"email\", \"encrypt\", \"encrypted\", \"encryption\", \"encryption\", \"enforcement\", \"enforcement\", \"enforcement\", \"engine\", \"engine\", \"engine\", \"enhancement\", \"entity\", \"entries\", \"entries\", \"entry\", \"entry\", \"entry\", \"entryway\", \"eqtm\", \"error\", \"error\", \"error\", \"error\", \"escrow\", \"escrowed\", \"espn\", \"eternal\", \"ethernet\", \"even\", \"even\", \"even\", \"even\", \"even\", \"even\", \"even\", \"even\", \"even\", \"even\", \"even\", \"everything\", \"everything\", \"everything\", \"everything\", \"everything\", \"everything\", \"everything\", \"everywhere\", \"everywhere\", \"everywhere\", \"everywhere\", \"everywhere\", \"evidence\", \"evidence\", \"evidence\", \"exciting\", \"execution\", \"exhaust\", \"exploration\", \"explorer\", \"expos\", \"extensions\", \"external\", \"external\", \"external\", \"fact\", \"fact\", \"fact\", \"fact\", \"fact\", \"fact\", \"fact\", \"fact\", \"fairing\", \"faith\", \"faith\", \"fallacy\", \"fame\", \"fans\", \"fans\", \"fans\", \"fast\", \"fast\", \"fast\", \"fast\", \"fast\", \"fast\", \"fast\", \"fast\", \"father\", \"father\", \"father\", \"federal\", \"federal\", \"federal\", \"fijh\", \"file\", \"file\", \"file\", \"file\", \"filename\", \"files\", \"files\", \"files\", \"files\", \"filters\", \"financial\", \"find\", \"find\", \"find\", \"find\", \"find\", \"find\", \"find\", \"find\", \"find\", \"fips\", \"fire\", \"fire\", \"fire\", \"fire\", \"fire\", \"fire\", \"fire\", \"firearm\", \"firearms\", \"first\", \"first\", \"first\", \"first\", \"first\", \"first\", \"first\", \"first\", \"first\", \"first\", \"first\", \"first\", \"first\", \"first\", \"first\", \"first\", \"first\", \"fitting\", \"fixing\", \"flaws\", \"fleet\", \"flight\", \"flight\", \"floor\", \"floor\", \"floor\", \"floor\", \"floppy\", \"fluid\", \"flyers\", \"folks\", \"folks\", \"folks\", \"folks\", \"followers\", \"font\", \"fonts\", \"foods\", \"ford\", \"ford\", \"ford\", \"format\", \"format\", \"format\", \"forwards\", \"fprintf\", \"freedom\", \"freedom\", \"freeware\", \"french\", \"french\", \"french\", \"french\", \"french\", \"french\", \"friend\", \"friend\", \"friend\", \"friend\", \"friend\", \"friend\", \"front\", \"front\", \"front\", \"front\", \"front\", \"front\", \"front\", \"front\", \"front\", \"front\", \"fuel\", \"fuel\", \"funds\", \"funds\", \"funds\", \"game\", \"game\", \"game\", \"game\", \"games\", \"games\", \"gateway\", \"gaza\", \"gear\", \"gear\", \"genocide\", \"gentile\", \"gentiles\", \"gerard\", \"german\", \"german\", \"german\", \"german\", \"german\", \"germany\", \"germany\", \"germany\", \"getting\", \"getting\", \"getting\", \"getting\", \"getting\", \"getting\", \"getting\", \"getting\", \"gfci\", \"gizw\", \"gizwt\", \"glad\", \"glutamate\", \"goal\", \"goal\", \"goal\", \"goal\", \"goal\", \"goal\", \"goals\", \"goals\", \"goals\", \"goals\", \"goals\", \"goaltender\", \"going\", \"going\", \"going\", \"going\", \"going\", \"going\", \"going\", \"going\", \"going\", \"good\", \"good\", \"good\", \"good\", \"good\", \"good\", \"good\", \"good\", \"good\", \"good\", \"good\", \"gordon\", \"gordon\", \"gordon\", \"gospel\", \"gospels\", \"government\", \"government\", \"government\", \"graphics\", \"graphics\", \"graphics\", \"greatly\", \"greatly\", \"greatly\", \"greatly\", \"greatly\", \"greek\", \"greek\", \"greek\", \"ground\", \"ground\", \"ground\", \"ground\", \"ground\", \"ground\", \"ground\", \"ground\", \"ground\", \"grounded\", \"grounding\", \"group\", \"group\", \"group\", \"group\", \"group\", \"group\", \"group\", \"group\", \"group\", \"guidelines\", \"guidelines\", \"guns\", \"handgun\", \"handler\", \"happened\", \"happened\", \"happened\", \"happened\", \"happened\", \"happened\", \"hard\", \"hard\", \"hard\", \"hard\", \"hard\", \"hard\", \"hard\", \"hardware\", \"hardware\", \"hardware\", \"hardware\", \"hardware\", \"hartford\", \"hash\", \"hawk\", \"headquarters\", \"health\", \"health\", \"health\", \"health\", \"heard\", \"heard\", \"heard\", \"heard\", \"heard\", \"heard\", \"heard\", \"heard\", \"heat\", \"heat\", \"heat\", \"heaven\", \"heaven\", \"hell\", \"hell\", \"hell\", \"hell\", \"hell\", \"hellman\", \"helmet\", \"helmet\", \"help\", \"help\", \"help\", \"help\", \"help\", \"help\", \"help\", \"help\", \"help\", \"help\", \"hemisphere\", \"henrik\", \"henrik\", \"henry\", \"hicnet\", \"high\", \"high\", \"high\", \"high\", \"high\", \"high\", \"high\", \"high\", \"high\", \"high\", \"high\", \"highway\", \"highway\", \"history\", \"history\", \"history\", \"history\", \"history\", \"history\", \"history\", \"history\", \"hitter\", \"hockey\", \"hockey\", \"hole\", \"hole\", \"hole\", \"hole\", \"hole\", \"hole\", \"holocaust\", \"holy\", \"home\", \"home\", \"home\", \"home\", \"home\", \"home\", \"home\", \"home\", \"home\", \"homeland\", \"homers\", \"homicide\", \"homicides\", \"hong\", \"hulk\", \"huntsville\", \"husband\", \"icon\", \"icon\", \"ieee\", \"ignoring\", \"igor\", \"igor\", \"image\", \"image\", \"image\", \"image\", \"image\", \"implied\", \"imply\", \"imply\", \"important\", \"important\", \"important\", \"important\", \"important\", \"important\", \"important\", \"important\", \"important\", \"include\", \"include\", \"include\", \"include\", \"include\", \"include\", \"include\", \"include\", \"includes\", \"includes\", \"includes\", \"includes\", \"includes\", \"includes\", \"includes\", \"includes\", \"industry\", \"industry\", \"industry\", \"industry\", \"industry\", \"info\", \"info\", \"info\", \"info\", \"info\", \"information\", \"information\", \"information\", \"information\", \"information\", \"information\", \"information\", \"information\", \"information\", \"information\", \"infrastructure\", \"ingr\", \"iniquity\", \"initiative\", \"initiative\", \"initiative\", \"inkjet\", \"inning\", \"input\", \"input\", \"input\", \"input\", \"insert\", \"insert\", \"insert\", \"insert\", \"inside\", \"inside\", \"inside\", \"inside\", \"inside\", \"inside\", \"inside\", \"inside\", \"insulation\", \"insurance\", \"insurance\", \"insurance\", \"intellect\", \"interactive\", \"interactive\", \"interactive\", \"intergraph\", \"internet\", \"internet\", \"internet\", \"internet\", \"intrinsics\", \"investigating\", \"ioccc\", \"islam\", \"islam\", \"island\", \"island\", \"island\", \"island\", \"islanders\", \"islanders\", \"islanders\", \"israel\", \"israel\", \"israeli\", \"israelis\", \"istanbul\", \"jacket\", \"jays\", \"jesus\", \"jets\", \"jewish\", \"jewish\", \"jewish\", \"jews\", \"jews\", \"jobs\", \"jobs\", \"jobs\", \"john\", \"john\", \"john\", \"john\", \"john\", \"john\", \"john\", \"john\", \"john\", \"john\", \"journals\", \"jpeg\", \"jpwu\", \"judas\", \"judges\", \"judges\", \"jumper\", \"jumpers\", \"karina\", \"kent\", \"keyboard\", \"keyboard\", \"keys\", \"keys\", \"kidney\", \"killed\", \"killed\", \"killed\", \"killed\", \"killed\", \"killed\", \"kingdom\", \"kingdom\", \"kingdom\", \"kings\", \"kirlian\", \"kitchen\", \"know\", \"know\", \"know\", \"know\", \"know\", \"know\", \"know\", \"koresh\", \"koresh\", \"kryptonite\", \"lack\", \"lack\", \"lack\", \"land\", \"land\", \"land\", \"land\", \"land\", \"land\", \"landon\", \"lane\", \"lane\", \"larson\", \"laser\", \"laser\", \"laser\", \"laser\", \"last\", \"last\", \"last\", \"last\", \"last\", \"last\", \"last\", \"last\", \"last\", \"last\", \"last\", \"last\", \"last\", \"last\", \"last\", \"later\", \"later\", \"later\", \"later\", \"later\", \"later\", \"later\", \"later\", \"later\", \"later\", \"later\", \"latin\", \"latin\", \"launch\", \"launch\", \"launched\", \"laws\", \"laws\", \"laws\", \"leafs\", \"league\", \"league\", \"league\", \"league\", \"lebanese\", \"lebanon\", \"left\", \"left\", \"left\", \"left\", \"left\", \"left\", \"left\", \"left\", \"left\", \"left\", \"left\", \"left\", \"left\", \"legal\", \"legal\", \"lemieux\", \"length\", \"length\", \"length\", \"length\", \"length\", \"length\", \"length\", \"liar\", \"libxmu\", \"libxmu\", \"libxmu\", \"life\", \"life\", \"life\", \"life\", \"life\", \"life\", \"like\", \"like\", \"like\", \"like\", \"like\", \"like\", \"like\", \"like\", \"like\", \"like\", \"like\", \"like\", \"like\", \"lindros\", \"line\", \"line\", \"line\", \"line\", \"line\", \"line\", \"line\", \"line\", \"line\", \"line\", \"line\", \"lines\", \"lines\", \"lines\", \"lines\", \"lines\", \"lines\", \"lines\", \"lines\", \"lines\", \"lines\", \"lines\", \"list\", \"list\", \"list\", \"list\", \"list\", \"list\", \"list\", \"list\", \"list\", \"list\", \"list\", \"listserv\", \"little\", \"little\", \"little\", \"little\", \"little\", \"little\", \"little\", \"little\", \"little\", \"little\", \"little\", \"little\", \"little\", \"little\", \"little\", \"loads\", \"loans\", \"lock\", \"lock\", \"lock\", \"lock\", \"lock\", \"lock\", \"lock\", \"looking\", \"looking\", \"looking\", \"looking\", \"looking\", \"looking\", \"lopez\", \"lord\", \"lord\", \"losses\", \"love\", \"love\", \"love\", \"love\", \"luke\", \"lunar\", \"lyme\", \"lyuda\", \"macs\", \"made\", \"made\", \"made\", \"made\", \"made\", \"made\", \"made\", \"made\", \"made\", \"made\", \"made\", \"made\", \"made\", \"mail\", \"mail\", \"mail\", \"mail\", \"mail\", \"mail\", \"mailing\", \"main\", \"main\", \"main\", \"main\", \"main\", \"main\", \"main\", \"main\", \"main\", \"maine\", \"mainstream\", \"majors\", \"make\", \"make\", \"make\", \"make\", \"make\", \"make\", \"make\", \"make\", \"make\", \"make\", \"make\", \"make\", \"make\", \"mamma\", \"manager\", \"manager\", \"manager\", \"manager\", \"manager\", \"manufactured\", \"many\", \"many\", \"many\", \"many\", \"many\", \"many\", \"many\", \"many\", \"many\", \"many\", \"many\", \"many\", \"many\", \"many\", \"maria\", \"marina\", \"marriage\", \"mars\", \"math\", \"math\", \"math\", \"math\", \"math\", \"mathematical\", \"mathematical\", \"matthew\", \"matthew\", \"maxbyte\", \"mbxn\", \"mean\", \"mean\", \"mean\", \"mean\", \"mean\", \"mean\", \"medical\", \"medical\", \"medical\", \"medical\", \"medication\", \"memory\", \"memory\", \"memory\", \"memory\", \"memory\", \"memory\", \"menu\", \"merely\", \"merely\", \"messiah\", \"metal\", \"metal\", \"metal\", \"methanol\", \"mets\", \"microdistrict\", \"might\", \"might\", \"might\", \"might\", \"might\", \"might\", \"might\", \"might\", \"might\", \"might\", \"miles\", \"miles\", \"miles\", \"miles\", \"miles\", \"military\", \"military\", \"military\", \"military\", \"military\", \"military\", \"military\", \"militia\", \"million\", \"million\", \"million\", \"million\", \"million\", \"million\", \"minnesota\", \"minnesota\", \"miracles\", \"mission\", \"mission\", \"mission\", \"missions\", \"mkentry\", \"model\", \"model\", \"model\", \"model\", \"model\", \"model\", \"modem\", \"modem\", \"modem\", \"moncton\", \"monitor\", \"monitors\", \"monthly\", \"montreal\", \"moon\", \"moon\", \"morgan\", \"moscow\", \"motherboard\", \"motif\", \"motif\", \"motor\", \"motor\", \"motor\", \"motor\", \"motorcycle\", \"motorcycles\", \"mounted\", \"mouse\", \"mouse\", \"mouth\", \"movies\", \"much\", \"much\", \"much\", \"much\", \"much\", \"much\", \"much\", \"much\", \"much\", \"much\", \"much\", \"much\", \"murder\", \"murder\", \"must\", \"must\", \"must\", \"must\", \"must\", \"must\", \"must\", \"must\", \"must\", \"must\", \"must\", \"mwra\", \"myers\", \"nagorno\", \"name\", \"name\", \"name\", \"name\", \"name\", \"name\", \"name\", \"name\", \"name\", \"name\", \"name\", \"name\", \"name\", \"name\", \"nasa\", \"nasa\", \"nasty\", \"national\", \"national\", \"national\", \"national\", \"national\", \"nationwide\", \"navy\", \"navy\", \"navy\", \"navy\", \"nazi\", \"nazi\", \"nazis\", \"neck\", \"need\", \"need\", \"need\", \"need\", \"need\", \"need\", \"neely\", \"neighbor\", \"neighbor\", \"neighbor\", \"neutral\", \"neutral\", \"neutral\", \"neutral\", \"neutral\", \"neutral\", \"news\", \"news\", \"news\", \"news\", \"news\", \"news\", \"news\", \"news\", \"news\", \"newsgroups\", \"newsgroups\", \"newsgroups\", \"newsgroups\", \"newsgroups\", \"nice\", \"nice\", \"nice\", \"nice\", \"nice\", \"nice\", \"nice\", \"nice\", \"nissan\", \"nkjz\", \"noll\", \"nords\", \"nothing\", \"nothing\", \"nothing\", \"nothing\", \"nothing\", \"nothing\", \"nothing\", \"novell\", \"nrhj\", \"nriz\", \"nrizwt\", \"nubus\", \"null\", \"null\", \"null\", \"number\", \"number\", \"number\", \"number\", \"number\", \"number\", \"number\", \"number\", \"number\", \"number\", \"number\", \"number\", \"number\", \"obfuscate\", \"obfuscated\", \"objective\", \"observatory\", \"occupied\", \"offer\", \"offer\", \"offer\", \"offer\", \"offer\", \"offer\", \"oilers\", \"oname\", \"onur\", \"open\", \"open\", \"open\", \"open\", \"open\", \"open\", \"open\", \"open\", \"open\", \"open\", \"open\", \"open\", \"openwindows\", \"orbit\", \"orbital\", \"orbiter\", \"ottoman\", \"outbreak\", \"outlets\", \"output\", \"output\", \"output\", \"outs\", \"padded\", \"pagan\", \"pain\", \"pain\", \"palestine\", \"palestinian\", \"palestinians\", \"panel\", \"panel\", \"panel\", \"panel\", \"panel\", \"panel\", \"panel\", \"panicking\", \"parse\", \"part\", \"part\", \"part\", \"part\", \"part\", \"part\", \"part\", \"part\", \"part\", \"part\", \"part\", \"part\", \"part\", \"part\", \"part\", \"partial\", \"parts\", \"parts\", \"parts\", \"parts\", \"parts\", \"parts\", \"parts\", \"parts\", \"parts\", \"parts\", \"parts\", \"parts\", \"parts\", \"passages\", \"passenger\", \"paste\", \"patent\", \"patents\", \"paul\", \"paul\", \"paul\", \"paul\", \"paul\", \"paul\", \"paul\", \"paul\", \"payload\", \"peace\", \"peace\", \"peace\", \"pedal\", \"penet\", \"pens\", \"people\", \"people\", \"people\", \"people\", \"people\", \"people\", \"people\", \"people\", \"people\", \"percent\", \"percent\", \"percent\", \"period\", \"period\", \"period\", \"period\", \"period\", \"period\", \"period\", \"period\", \"perror\", \"philadelphia\", \"philadelphia\", \"philadelphia\", \"phillies\", \"phone\", \"phone\", \"phone\", \"phone\", \"phone\", \"phone\", \"phones\", \"photography\", \"picture\", \"picture\", \"picture\", \"picture\", \"picture\", \"picture\", \"picture\", \"pins\", \"pitcher\", \"pitching\", \"pitt\", \"pittsburgh\", \"pittsburgh\", \"pittsburgh\", \"pittsburgh\", \"pixel\", \"pixel\", \"pixmap\", \"planetary\", \"play\", \"play\", \"play\", \"play\", \"play\", \"played\", \"played\", \"played\", \"player\", \"player\", \"player\", \"players\", \"playoff\", \"playoffs\", \"please\", \"please\", \"please\", \"please\", \"please\", \"please\", \"please\", \"please\", \"please\", \"plotting\", \"plugs\", \"pmfq\", \"pname\", \"pnei\", \"point\", \"point\", \"point\", \"point\", \"point\", \"point\", \"point\", \"point\", \"point\", \"point\", \"pointer\", \"points\", \"points\", \"points\", \"points\", \"points\", \"points\", \"points\", \"points\", \"police\", \"police\", \"police\", \"police\", \"political\", \"political\", \"politics\", \"politics\", \"polygon\", \"polygon\", \"pope\", \"port\", \"port\", \"port\", \"ports\", \"post\", \"post\", \"post\", \"post\", \"post\", \"post\", \"post\", \"posters\", \"postscript\", \"postscript\", \"power\", \"power\", \"power\", \"power\", \"power\", \"power\", \"power\", \"power\", \"power\", \"power\", \"power\", \"powerbook\", \"powerpc\", \"pray\", \"preferably\", \"preferably\", \"premium\", \"president\", \"president\", \"press\", \"press\", \"press\", \"press\", \"press\", \"press\", \"press\", \"press\", \"pressure\", \"pressure\", \"pressure\", \"pressure\", \"pressure\", \"pressure\", \"pressure\", \"pretty\", \"pretty\", \"pretty\", \"pretty\", \"pretty\", \"prevalence\", \"price\", \"price\", \"price\", \"price\", \"price\", \"price\", \"printf\", \"printing\", \"printing\", \"printing\", \"prisoners\", \"privacy\", \"privacy\", \"private\", \"private\", \"private\", \"private\", \"problem\", \"problem\", \"problem\", \"problem\", \"problem\", \"problem\", \"problem\", \"proceedings\", \"proceedings\", \"professor\", \"professor\", \"professor\", \"profile\", \"prog\", \"prog\", \"program\", \"program\", \"program\", \"program\", \"program\", \"program\", \"program\", \"program\", \"programs\", \"programs\", \"programs\", \"programs\", \"programs\", \"programs\", \"programs\", \"promo\", \"prong\", \"prong\", \"prophecy\", \"prophet\", \"proposal\", \"proposal\", \"proposal\", \"proposal\", \"propulsion\", \"protect\", \"protect\", \"protect\", \"protect\", \"providence\", \"psalm\", \"public\", \"public\", \"public\", \"public\", \"public\", \"public\", \"puck\", \"push\", \"push\", \"push\", \"push\", \"push\", \"push\", \"push\", \"push\", \"quadra\", \"quebec\", \"quebec\", \"question\", \"question\", \"question\", \"question\", \"question\", \"question\", \"question\", \"quicktime\", \"quote\", \"quote\", \"quote\", \"radar\", \"radar\", \"radius\", \"radius\", \"radius\", \"radius\", \"radius\", \"random\", \"random\", \"random\", \"random\", \"random\", \"rangers\", \"rchz\", \"read\", \"read\", \"read\", \"read\", \"read\", \"read\", \"read\", \"read\", \"read\", \"really\", \"really\", \"really\", \"really\", \"really\", \"really\", \"really\", \"really\", \"rear\", \"rear\", \"reason\", \"reason\", \"reason\", \"reason\", \"reason\", \"reason\", \"reason\", \"reason\", \"registers\", \"religion\", \"religion\", \"religion\", \"religions\", \"religious\", \"religious\", \"religious\", \"reported\", \"reported\", \"reported\", \"reported\", \"reported\", \"reported\", \"reported\", \"repost\", \"representing\", \"republicans\", \"request\", \"request\", \"request\", \"request\", \"request\", \"request\", \"requests\", \"requests\", \"requests\", \"research\", \"research\", \"research\", \"research\", \"research\", \"research\", \"research\", \"responding\", \"restraint\", \"resurrection\", \"return\", \"return\", \"return\", \"return\", \"return\", \"return\", \"return\", \"return\", \"return\", \"return\", \"return\", \"return\", \"return\", \"reuss\", \"revelation\", \"revolver\", \"ride\", \"rider\", \"riders\", \"rides\", \"riding\", \"right\", \"right\", \"right\", \"right\", \"right\", \"right\", \"right\", \"right\", \"right\", \"right\", \"right\", \"right\", \"right\", \"rights\", \"rights\", \"rights\", \"rights\", \"riley\", \"ripem\", \"ripem\", \"rkba\", \"rlhz\", \"rname\", \"road\", \"road\", \"road\", \"road\", \"road\", \"road\", \"road\", \"rockefeller\", \"rocket\", \"rocket\", \"rockets\", \"rockets\", \"rode\", \"rolling\", \"rolling\", \"room\", \"room\", \"room\", \"room\", \"room\", \"room\", \"room\", \"rose\", \"rose\", \"rose\", \"rose\", \"rose\", \"rose\", \"royals\", \"rules\", \"rules\", \"rules\", \"rules\", \"rules\", \"rules\", \"rules\", \"running\", \"running\", \"running\", \"running\", \"running\", \"running\", \"running\", \"running\", \"running\", \"running\", \"runs\", \"runs\", \"runs\", \"runs\", \"runs\", \"runs\", \"russia\", \"russian\", \"russians\", \"russians\", \"rychel\", \"saab\", \"sabbath\", \"said\", \"said\", \"said\", \"said\", \"said\", \"said\", \"said\", \"said\", \"said\", \"sale\", \"sale\", \"sale\", \"sale\", \"satan\", \"satan\", \"satellite\", \"satellites\", \"saturn\", \"saying\", \"saying\", \"saying\", \"saying\", \"saying\", \"saying\", \"saying\", \"saying\", \"says\", \"says\", \"says\", \"says\", \"says\", \"says\", \"says\", \"says\", \"scanned\", \"scanner\", \"scanner\", \"scheme\", \"scheme\", \"scheme\", \"science\", \"science\", \"science\", \"science\", \"science\", \"score\", \"score\", \"scored\", \"scorer\", \"scoring\", \"screen\", \"screen\", \"screen\", \"screens\", \"scripture\", \"scrolls\", \"scsi\", \"scsi\", \"sdpa\", \"seagate\", \"season\", \"second\", \"second\", \"second\", \"second\", \"second\", \"second\", \"second\", \"second\", \"second\", \"second\", \"second\", \"second\", \"secret\", \"secret\", \"secret\", \"secret\", \"secretary\", \"secretary\", \"secretary\", \"section\", \"section\", \"section\", \"section\", \"section\", \"section\", \"section\", \"secure\", \"secure\", \"security\", \"security\", \"security\", \"security\", \"seeds\", \"self\", \"self\", \"self\", \"self\", \"self\", \"self\", \"self\", \"senator\", \"send\", \"send\", \"send\", \"send\", \"send\", \"send\", \"senior\", \"senior\", \"senior\", \"sense\", \"sense\", \"sense\", \"sense\", \"sense\", \"sensing\", \"sequence\", \"sequence\", \"sequence\", \"sequence\", \"serdar\", \"serpent\", \"server\", \"server\", \"settings\", \"shagen\", \"shameful\", \"sharks\", \"sheath\", \"sheath\", \"shells\", \"shipping\", \"shipping\", \"ships\", \"ships\", \"shouting\", \"shuttle\", \"side\", \"side\", \"side\", \"side\", \"side\", \"side\", \"side\", \"side\", \"side\", \"side\", \"side\", \"side\", \"side\", \"siggraph\", \"simm\", \"simms\", \"since\", \"since\", \"since\", \"since\", \"since\", \"since\", \"since\", \"since\", \"since\", \"since\", \"since\", \"sins\", \"site\", \"site\", \"site\", \"site\", \"site\", \"site\", \"site\", \"site\", \"sites\", \"sites\", \"sites\", \"sites\", \"sites\", \"size\", \"size\", \"size\", \"size\", \"size\", \"size\", \"size\", \"size\", \"size\", \"skepticism\", \"skip\", \"skip\", \"sleeve\", \"slots\", \"smith\", \"smith\", \"smith\", \"smith\", \"smokeless\", \"snapped\", \"snow\", \"snow\", \"snow\", \"snow\", \"society\", \"society\", \"society\", \"society\", \"society\", \"socket\", \"software\", \"software\", \"software\", \"solar\", \"solar\", \"soldiers\", \"soldiers\", \"soldiers\", \"someone\", \"someone\", \"someone\", \"someone\", \"someone\", \"someone\", \"something\", \"something\", \"something\", \"something\", \"something\", \"something\", \"something\", \"sony\", \"soviet\", \"soviet\", \"soviet\", \"soviet\", \"soviet\", \"space\", \"space\", \"space\", \"spacecraft\", \"speed\", \"speed\", \"speed\", \"speed\", \"speed\", \"speed\", \"speedstar\", \"spirit\", \"spirit\", \"spirit\", \"spiritual\", \"ssto\", \"star\", \"star\", \"star\", \"star\", \"started\", \"started\", \"started\", \"started\", \"started\", \"started\", \"started\", \"started\", \"started\", \"started\", \"state\", \"state\", \"state\", \"state\", \"state\", \"state\", \"state\", \"state\", \"state\", \"state\", \"state\", \"state\", \"states\", \"states\", \"states\", \"states\", \"states\", \"states\", \"station\", \"station\", \"station\", \"station\", \"station\", \"station\", \"stderr\", \"stdin\", \"steering\", \"steering\", \"stephanopoulos\", \"stereo\", \"still\", \"still\", \"still\", \"still\", \"still\", \"still\", \"still\", \"still\", \"still\", \"still\", \"still\", \"still\", \"stimulus\", \"stream\", \"stream\", \"stroke\", \"strong\", \"strong\", \"strong\", \"strong\", \"strong\", \"strong\", \"stuff\", \"stuff\", \"stuff\", \"stuff\", \"stuff\", \"stuff\", \"stuff\", \"stuff\", \"subject\", \"subject\", \"subject\", \"subject\", \"subject\", \"subject\", \"subject\", \"subject\", \"subject\", \"subject\", \"subject\", \"subject\", \"subjective\", \"substitution\", \"substitution\", \"suck\", \"sumgait\", \"summaries\", \"sunos\", \"sure\", \"sure\", \"sure\", \"sure\", \"sure\", \"sure\", \"sure\", \"sure\", \"sure\", \"sure\", \"surface\", \"surface\", \"surface\", \"surface\", \"surface\", \"surface\", \"surface\", \"surrender\", \"switches\", \"switches\", \"symbol\", \"symbol\", \"symbol\", \"symmetric\", \"syria\", \"system\", \"system\", \"system\", \"system\", \"system\", \"system\", \"system\", \"system\", \"system\", \"systems\", \"systems\", \"systems\", \"systems\", \"systems\", \"systems\", \"systems\", \"take\", \"take\", \"take\", \"take\", \"take\", \"take\", \"take\", \"take\", \"take\", \"take\", \"tampa\", \"tape\", \"tape\", \"tape\", \"targa\", \"taste\", \"taste\", \"tbxn\", \"tbxom\", \"teachings\", \"team\", \"team\", \"team\", \"team\", \"team\", \"teams\", \"technician\", \"technology\", \"technology\", \"technology\", \"technology\", \"telecommunications\", \"telescope\", \"temperature\", \"tend\", \"tend\", \"tend\", \"tend\", \"territories\", \"territory\", \"territory\", \"test\", \"test\", \"test\", \"test\", \"test\", \"test\", \"test\", \"test\", \"test\", \"test\", \"test\", \"testament\", \"thanks\", \"thanks\", \"thanks\", \"thanks\", \"thanx\", \"theories\", \"theory\", \"theory\", \"theory\", \"theory\", \"thing\", \"thing\", \"thing\", \"thing\", \"thing\", \"thing\", \"thing\", \"thing\", \"things\", \"things\", \"things\", \"things\", \"things\", \"things\", \"things\", \"things\", \"think\", \"think\", \"think\", \"think\", \"think\", \"think\", \"think\", \"think\", \"think\", \"thinks\", \"thinks\", \"third\", \"third\", \"third\", \"third\", \"third\", \"third\", \"third\", \"third\", \"third\", \"third\", \"third\", \"third\", \"thou\", \"three\", \"three\", \"three\", \"three\", \"three\", \"three\", \"three\", \"three\", \"three\", \"three\", \"three\", \"three\", \"three\", \"throttle\", \"tiff\", \"time\", \"time\", \"time\", \"time\", \"time\", \"time\", \"time\", \"time\", \"time\", \"time\", \"time\", \"time\", \"time\", \"time\", \"time\", \"time\", \"tire\", \"tire\", \"tires\", \"tires\", \"titan\", \"title\", \"title\", \"title\", \"title\", \"title\", \"title\", \"title\", \"title\", \"title\", \"title\", \"toad\", \"tobacco\", \"today\", \"today\", \"today\", \"today\", \"today\", \"today\", \"today\", \"today\", \"told\", \"told\", \"told\", \"told\", \"told\", \"told\", \"toner\", \"took\", \"took\", \"took\", \"took\", \"took\", \"took\", \"took\", \"toronto\", \"toronto\", \"toronto\", \"tower\", \"tower\", \"transformer\", \"translations\", \"translations\", \"trees\", \"true\", \"true\", \"true\", \"true\", \"true\", \"true\", \"true\", \"true\", \"true\", \"truth\", \"truth\", \"truth\", \"turkey\", \"turkey\", \"turkey\", \"turkish\", \"turks\", \"turks\", \"turn\", \"turn\", \"turn\", \"turn\", \"turn\", \"turn\", \"turn\", \"turn\", \"turn\", \"twin\", \"twins\", \"type\", \"type\", \"type\", \"type\", \"type\", \"type\", \"type\", \"type\", \"type\", \"tyre\", \"unclear\", \"understand\", \"understand\", \"understand\", \"understand\", \"understand\", \"understand\", \"united\", \"united\", \"united\", \"university\", \"university\", \"university\", \"university\", \"university\", \"university\", \"university\", \"university\", \"university\", \"unto\", \"upgrade\", \"upgrade\", \"used\", \"used\", \"used\", \"used\", \"used\", \"used\", \"used\", \"used\", \"used\", \"used\", \"used\", \"usenet\", \"usenet\", \"usenet\", \"user\", \"user\", \"user\", \"user\", \"users\", \"users\", \"users\", \"users\", \"using\", \"using\", \"using\", \"using\", \"using\", \"using\", \"using\", \"using\", \"usually\", \"usually\", \"usually\", \"usually\", \"usually\", \"usually\", \"usually\", \"usually\", \"usually\", \"uuencode\", \"uuname\", \"valve\", \"valve\", \"vehicle\", \"vehicle\", \"vehicle\", \"venus\", \"verify\", \"verify\", \"verify\", \"verse\", \"version\", \"version\", \"version\", \"version\", \"version\", \"version\", \"version\", \"version\", \"version\", \"vesa\", \"vesa\", \"video\", \"video\", \"video\", \"video\", \"video\", \"viola\", \"violence\", \"violent\", \"visualization\", \"visualization\", \"vitamin\", \"voltage\", \"vpic\", \"vram\", \"wanna\", \"wanna\", \"want\", \"want\", \"want\", \"want\", \"want\", \"want\", \"want\", \"want\", \"want\", \"want\", \"washington\", \"washington\", \"washington\", \"water\", \"water\", \"water\", \"water\", \"water\", \"water\", \"weapon\", \"weapon\", \"weapon\", \"weapons\", \"weapons\", \"weapons\", \"weaver\", \"weight\", \"weight\", \"weight\", \"weight\", \"well\", \"well\", \"well\", \"well\", \"well\", \"well\", \"well\", \"well\", \"well\", \"well\", \"well\", \"well\", \"well\", \"well\", \"went\", \"went\", \"went\", \"went\", \"went\", \"west\", \"west\", \"west\", \"west\", \"west\", \"west\", \"west\", \"wheel\", \"wheel\", \"wheel\", \"wheels\", \"whether\", \"whether\", \"whether\", \"whether\", \"whether\", \"whether\", \"whitespace\", \"widget\", \"widgets\", \"widgets\", \"window\", \"window\", \"windows\", \"windows\", \"windows\", \"winfield\", \"winners\", \"winners\", \"winnipeg\", \"wire\", \"wire\", \"wire\", \"wires\", \"wires\", \"wires\", \"wiretap\", \"wiring\", \"wisc\", \"witnessed\", \"wmbxn\", \"wolverine\", \"woman\", \"woman\", \"woman\", \"woman\", \"woman\", \"women\", \"women\", \"women\", \"women\", \"women\", \"women\", \"wondering\", \"word\", \"word\", \"word\", \"word\", \"word\", \"word\", \"word\", \"word\", \"word\", \"work\", \"work\", \"work\", \"work\", \"work\", \"work\", \"work\", \"work\", \"work\", \"work\", \"work\", \"world\", \"world\", \"world\", \"world\", \"world\", \"world\", \"world\", \"world\", \"world\", \"world\", \"worship\", \"would\", \"would\", \"would\", \"would\", \"would\", \"would\", \"would\", \"would\", \"would\", \"would\", \"would\", \"wrap\", \"wrist\", \"wrong\", \"wrong\", \"wrong\", \"wrong\", \"wrong\", \"wwhj\", \"wwiz\", \"xfile\", \"xlib\", \"xstuff\", \"xterm\", \"xview\", \"xvoid\", \"yalcin\", \"yankees\", \"year\", \"year\", \"year\", \"year\", \"year\", \"year\", \"year\", \"year\", \"year\", \"year\", \"year\", \"years\", \"years\", \"years\", \"years\", \"years\", \"years\", \"years\", \"years\", \"years\", \"years\", \"years\", \"years\", \"yeast\", \"york\", \"york\", \"york\", \"york\", \"york\", \"york\", \"yorn\", \"zealand\", \"zionism\", \"zionist\"]}, \"R\": 30, \"lambda.step\": 0.01, \"plot.opts\": {\"xlab\": \"PC1\", \"ylab\": \"PC2\"}, \"topic.order\": [13, 19, 16, 18, 6, 7, 14, 1, 2, 15, 5, 12, 10, 3, 17, 8, 4, 20, 11, 9]};\n",
              "\n",
              "function LDAvis_load_lib(url, callback){\n",
              "  var s = document.createElement('script');\n",
              "  s.src = url;\n",
              "  s.async = true;\n",
              "  s.onreadystatechange = s.onload = callback;\n",
              "  s.onerror = function(){console.warn(\"failed to load library \" + url);};\n",
              "  document.getElementsByTagName(\"head\")[0].appendChild(s);\n",
              "}\n",
              "\n",
              "if(typeof(LDAvis) !== \"undefined\"){\n",
              "   // already loaded: just create the visualization\n",
              "   !function(LDAvis){\n",
              "       new LDAvis(\"#\" + \"ldavis_el551399198918454325851835851\", ldavis_el551399198918454325851835851_data);\n",
              "   }(LDAvis);\n",
              "}else if(typeof define === \"function\" && define.amd){\n",
              "   // require.js is available: use it to load d3/LDAvis\n",
              "   require.config({paths: {d3: \"https://cdnjs.cloudflare.com/ajax/libs/d3/3.5.5/d3.min\"}});\n",
              "   require([\"d3\"], function(d3){\n",
              "      window.d3 = d3;\n",
              "      LDAvis_load_lib(\"https://cdn.rawgit.com/bmabey/pyLDAvis/files/ldavis.v1.0.0.js\", function(){\n",
              "        new LDAvis(\"#\" + \"ldavis_el551399198918454325851835851\", ldavis_el551399198918454325851835851_data);\n",
              "      });\n",
              "    });\n",
              "}else{\n",
              "    // require.js not available: dynamically load d3 & LDAvis\n",
              "    LDAvis_load_lib(\"https://cdnjs.cloudflare.com/ajax/libs/d3/3.5.5/d3.min.js\", function(){\n",
              "         LDAvis_load_lib(\"https://cdn.rawgit.com/bmabey/pyLDAvis/files/ldavis.v1.0.0.js\", function(){\n",
              "                 new LDAvis(\"#\" + \"ldavis_el551399198918454325851835851\", ldavis_el551399198918454325851835851_data);\n",
              "            })\n",
              "         });\n",
              "}\n",
              "</script>"
            ],
            "text/plain": [
              "<IPython.core.display.HTML object>"
            ]
          },
          "metadata": {
            "tags": []
          },
          "execution_count": 28
        }
      ]
    },
    {
      "cell_type": "code",
      "metadata": {
        "colab": {
          "base_uri": "https://localhost:8080/"
        },
        "id": "CMnwDH_7wxLN",
        "outputId": "b5faf108-9487-4bbe-e60f-ec743c35dfcd"
      },
      "source": [
        "for i, topic_list in enumerate(ldamodel[corpus]):\n",
        "    if i==5:\n",
        "        break\n",
        "    print(i,'번째 문서의 topic 비율은',topic_list)"
      ],
      "execution_count": 29,
      "outputs": [
        {
          "output_type": "stream",
          "text": [
            "0 번째 문서의 topic 비율은 [(2, 0.019827688), (9, 0.052860457), (11, 0.22959521), (12, 0.24419567), (18, 0.44142422)]\n",
            "1 번째 문서의 topic 비율은 [(0, 0.26849282), (1, 0.062315658), (2, 0.026303748), (12, 0.5927975), (18, 0.031797566)]\n",
            "2 번째 문서의 topic 비율은 [(11, 0.25977844), (12, 0.6972173), (18, 0.029294597)]\n",
            "3 번째 문서의 topic 비율은 [(0, 0.03477448), (8, 0.015671642), (12, 0.34497958), (14, 0.3191181), (17, 0.22908476), (18, 0.04592368)]\n",
            "4 번째 문서의 topic 비율은 [(0, 0.5710527), (12, 0.13515382), (15, 0.18497278), (16, 0.0791911)]\n"
          ],
          "name": "stdout"
        }
      ]
    },
    {
      "cell_type": "code",
      "metadata": {
        "id": "6UQuN5gaxkLZ"
      },
      "source": [
        "def make_topictable_per_doc(ldamodel, corpus):\n",
        "    topic_table = pd.DataFrame()\n",
        "\n",
        "    # 몇 번째 문서인지를 의미하는 문서 번호와 해당 문서의 토픽 비중을 한 줄씩 꺼내온다.\n",
        "    for i, topic_list in enumerate(ldamodel[corpus]):\n",
        "        doc = topic_list[0] if ldamodel.per_word_topics else topic_list            \n",
        "        doc = sorted(doc, key=lambda x: (x[1]), reverse=True)\n",
        "        # 각 문서에 대해서 비중이 높은 토픽순으로 토픽을 정렬한다.\n",
        "        # EX) 정렬 전 0번 문서 : (2번 토픽, 48.5%), (8번 토픽, 25%), (10번 토픽, 5%), (12번 토픽, 21.5%), \n",
        "        # Ex) 정렬 후 0번 문서 : (2번 토픽, 48.5%), (8번 토픽, 25%), (12번 토픽, 21.5%), (10번 토픽, 5%)\n",
        "        # 48 > 25 > 21 > 5 순으로 정렬이 된 것.\n",
        "\n",
        "        # 모든 문서에 대해서 각각 아래를 수행\n",
        "        for j, (topic_num, prop_topic) in enumerate(doc): #  몇 번 토픽인지와 비중을 나눠서 저장한다.\n",
        "            if j == 0:  # 정렬을 한 상태이므로 가장 앞에 있는 것이 가장 비중이 높은 토픽\n",
        "                topic_table = topic_table.append(pd.Series([int(topic_num), round(prop_topic,4), topic_list]), ignore_index=True)\n",
        "                # 가장 비중이 높은 토픽과, 가장 비중이 높은 토픽의 비중과, 전체 토픽의 비중을 저장한다.\n",
        "            else:\n",
        "                break\n",
        "    return(topic_table)"
      ],
      "execution_count": 30,
      "outputs": []
    },
    {
      "cell_type": "code",
      "metadata": {
        "colab": {
          "base_uri": "https://localhost:8080/",
          "height": 359
        },
        "id": "UlXSmVwNy_mQ",
        "outputId": "2fa2c378-3565-4669-f5b1-74b94b73ce37"
      },
      "source": [
        "topictable = make_topictable_per_doc(ldamodel, corpus)\n",
        "topictable = topictable.reset_index() # 문서 번호을 의미하는 열(column)로 사용하기 위해서 인덱스 열을 하나 더 만든다.\n",
        "topictable.columns = ['문서 번호', '가장 비중이 높은 토픽', '가장 높은 토픽의 비중', '각 토픽의 비중']\n",
        "topictable[:10]"
      ],
      "execution_count": 31,
      "outputs": [
        {
          "output_type": "execute_result",
          "data": {
            "text/html": [
              "<div>\n",
              "<style scoped>\n",
              "    .dataframe tbody tr th:only-of-type {\n",
              "        vertical-align: middle;\n",
              "    }\n",
              "\n",
              "    .dataframe tbody tr th {\n",
              "        vertical-align: top;\n",
              "    }\n",
              "\n",
              "    .dataframe thead th {\n",
              "        text-align: right;\n",
              "    }\n",
              "</style>\n",
              "<table border=\"1\" class=\"dataframe\">\n",
              "  <thead>\n",
              "    <tr style=\"text-align: right;\">\n",
              "      <th></th>\n",
              "      <th>문서 번호</th>\n",
              "      <th>가장 비중이 높은 토픽</th>\n",
              "      <th>가장 높은 토픽의 비중</th>\n",
              "      <th>각 토픽의 비중</th>\n",
              "    </tr>\n",
              "  </thead>\n",
              "  <tbody>\n",
              "    <tr>\n",
              "      <th>0</th>\n",
              "      <td>0</td>\n",
              "      <td>18.0</td>\n",
              "      <td>0.4414</td>\n",
              "      <td>[(2, 0.019828405), (9, 0.052859418), (11, 0.22...</td>\n",
              "    </tr>\n",
              "    <tr>\n",
              "      <th>1</th>\n",
              "      <td>1</td>\n",
              "      <td>12.0</td>\n",
              "      <td>0.5928</td>\n",
              "      <td>[(0, 0.268488), (1, 0.062299605), (2, 0.026303...</td>\n",
              "    </tr>\n",
              "    <tr>\n",
              "      <th>2</th>\n",
              "      <td>2</td>\n",
              "      <td>12.0</td>\n",
              "      <td>0.6972</td>\n",
              "      <td>[(11, 0.25978485), (12, 0.6972032), (18, 0.029...</td>\n",
              "    </tr>\n",
              "    <tr>\n",
              "      <th>3</th>\n",
              "      <td>3</td>\n",
              "      <td>12.0</td>\n",
              "      <td>0.3450</td>\n",
              "      <td>[(0, 0.034776006), (8, 0.015671642), (12, 0.34...</td>\n",
              "    </tr>\n",
              "    <tr>\n",
              "      <th>4</th>\n",
              "      <td>4</td>\n",
              "      <td>0.0</td>\n",
              "      <td>0.5710</td>\n",
              "      <td>[(0, 0.57103795), (12, 0.13492112), (15, 0.185...</td>\n",
              "    </tr>\n",
              "    <tr>\n",
              "      <th>5</th>\n",
              "      <td>5</td>\n",
              "      <td>12.0</td>\n",
              "      <td>0.3527</td>\n",
              "      <td>[(1, 0.21797262), (3, 0.059207723), (7, 0.3367...</td>\n",
              "    </tr>\n",
              "    <tr>\n",
              "      <th>6</th>\n",
              "      <td>6</td>\n",
              "      <td>10.0</td>\n",
              "      <td>0.6955</td>\n",
              "      <td>[(5, 0.025993397), (10, 0.6955227), (12, 0.103...</td>\n",
              "    </tr>\n",
              "    <tr>\n",
              "      <th>7</th>\n",
              "      <td>7</td>\n",
              "      <td>12.0</td>\n",
              "      <td>0.4085</td>\n",
              "      <td>[(3, 0.029127829), (10, 0.032869715), (11, 0.1...</td>\n",
              "    </tr>\n",
              "    <tr>\n",
              "      <th>8</th>\n",
              "      <td>8</td>\n",
              "      <td>12.0</td>\n",
              "      <td>0.3131</td>\n",
              "      <td>[(5, 0.20183375), (8, 0.23014927), (12, 0.3130...</td>\n",
              "    </tr>\n",
              "    <tr>\n",
              "      <th>9</th>\n",
              "      <td>9</td>\n",
              "      <td>12.0</td>\n",
              "      <td>0.5152</td>\n",
              "      <td>[(2, 0.08902329), (7, 0.02006775), (12, 0.5151...</td>\n",
              "    </tr>\n",
              "  </tbody>\n",
              "</table>\n",
              "</div>"
            ],
            "text/plain": [
              "   문서 번호  ...                                           각 토픽의 비중\n",
              "0      0  ...  [(2, 0.019828405), (9, 0.052859418), (11, 0.22...\n",
              "1      1  ...  [(0, 0.268488), (1, 0.062299605), (2, 0.026303...\n",
              "2      2  ...  [(11, 0.25978485), (12, 0.6972032), (18, 0.029...\n",
              "3      3  ...  [(0, 0.034776006), (8, 0.015671642), (12, 0.34...\n",
              "4      4  ...  [(0, 0.57103795), (12, 0.13492112), (15, 0.185...\n",
              "5      5  ...  [(1, 0.21797262), (3, 0.059207723), (7, 0.3367...\n",
              "6      6  ...  [(5, 0.025993397), (10, 0.6955227), (12, 0.103...\n",
              "7      7  ...  [(3, 0.029127829), (10, 0.032869715), (11, 0.1...\n",
              "8      8  ...  [(5, 0.20183375), (8, 0.23014927), (12, 0.3130...\n",
              "9      9  ...  [(2, 0.08902329), (7, 0.02006775), (12, 0.5151...\n",
              "\n",
              "[10 rows x 4 columns]"
            ]
          },
          "metadata": {
            "tags": []
          },
          "execution_count": 31
        }
      ]
    },
    {
      "cell_type": "code",
      "metadata": {
        "id": "w7oNToTS6vsj"
      },
      "source": [
        "import pandas as pd\n",
        "import urllib.request\n",
        "urllib.request.urlretrieve(\"https://raw.githubusercontent.com/franciscadias/data/master/abcnews-date-text.csv\", filename=\"abcnews-date-text.csv\")\n",
        "data = pd.read_csv('abcnews-date-text.csv', error_bad_lines=False)"
      ],
      "execution_count": 33,
      "outputs": []
    },
    {
      "cell_type": "code",
      "metadata": {
        "colab": {
          "base_uri": "https://localhost:8080/"
        },
        "id": "Gc3PZKf2672j",
        "outputId": "5149087f-9032-46c6-c299-444037c9356d"
      },
      "source": [
        "print(len(data))"
      ],
      "execution_count": 34,
      "outputs": [
        {
          "output_type": "stream",
          "text": [
            "1082168\n"
          ],
          "name": "stdout"
        }
      ]
    },
    {
      "cell_type": "code",
      "metadata": {
        "colab": {
          "base_uri": "https://localhost:8080/"
        },
        "id": "SGcCFXrr6-6s",
        "outputId": "a907a9df-f79a-4e08-bf88-48c6e70f695f"
      },
      "source": [
        "print(data.head(5))"
      ],
      "execution_count": 35,
      "outputs": [
        {
          "output_type": "stream",
          "text": [
            "   publish_date                                      headline_text\n",
            "0      20030219  aba decides against community broadcasting lic...\n",
            "1      20030219     act fire witnesses must be aware of defamation\n",
            "2      20030219     a g calls for infrastructure protection summit\n",
            "3      20030219           air nz staff in aust strike for pay rise\n",
            "4      20030219      air nz strike to affect australian travellers\n"
          ],
          "name": "stdout"
        }
      ]
    },
    {
      "cell_type": "code",
      "metadata": {
        "colab": {
          "base_uri": "https://localhost:8080/",
          "height": 204
        },
        "id": "Sbo8TCz_7FCZ",
        "outputId": "a3a17098-0296-4649-9e16-811d70cb7316"
      },
      "source": [
        "text = data[['headline_text']]\n",
        "text.head(5)"
      ],
      "execution_count": 36,
      "outputs": [
        {
          "output_type": "execute_result",
          "data": {
            "text/html": [
              "<div>\n",
              "<style scoped>\n",
              "    .dataframe tbody tr th:only-of-type {\n",
              "        vertical-align: middle;\n",
              "    }\n",
              "\n",
              "    .dataframe tbody tr th {\n",
              "        vertical-align: top;\n",
              "    }\n",
              "\n",
              "    .dataframe thead th {\n",
              "        text-align: right;\n",
              "    }\n",
              "</style>\n",
              "<table border=\"1\" class=\"dataframe\">\n",
              "  <thead>\n",
              "    <tr style=\"text-align: right;\">\n",
              "      <th></th>\n",
              "      <th>headline_text</th>\n",
              "    </tr>\n",
              "  </thead>\n",
              "  <tbody>\n",
              "    <tr>\n",
              "      <th>0</th>\n",
              "      <td>aba decides against community broadcasting lic...</td>\n",
              "    </tr>\n",
              "    <tr>\n",
              "      <th>1</th>\n",
              "      <td>act fire witnesses must be aware of defamation</td>\n",
              "    </tr>\n",
              "    <tr>\n",
              "      <th>2</th>\n",
              "      <td>a g calls for infrastructure protection summit</td>\n",
              "    </tr>\n",
              "    <tr>\n",
              "      <th>3</th>\n",
              "      <td>air nz staff in aust strike for pay rise</td>\n",
              "    </tr>\n",
              "    <tr>\n",
              "      <th>4</th>\n",
              "      <td>air nz strike to affect australian travellers</td>\n",
              "    </tr>\n",
              "  </tbody>\n",
              "</table>\n",
              "</div>"
            ],
            "text/plain": [
              "                                       headline_text\n",
              "0  aba decides against community broadcasting lic...\n",
              "1     act fire witnesses must be aware of defamation\n",
              "2     a g calls for infrastructure protection summit\n",
              "3           air nz staff in aust strike for pay rise\n",
              "4      air nz strike to affect australian travellers"
            ]
          },
          "metadata": {
            "tags": []
          },
          "execution_count": 36
        }
      ]
    },
    {
      "cell_type": "code",
      "metadata": {
        "colab": {
          "base_uri": "https://localhost:8080/"
        },
        "id": "A-Pewn6b7Jgn",
        "outputId": "eea2ed5f-3713-4fce-d4b4-a5ef6758fb9f"
      },
      "source": [
        "nltk.download('punkt')\n",
        "text['headline_text'] = text.apply(lambda row: nltk.word_tokenize(row['headline_text']), axis=1)"
      ],
      "execution_count": 38,
      "outputs": [
        {
          "output_type": "stream",
          "text": [
            "[nltk_data] Downloading package punkt to /root/nltk_data...\n",
            "[nltk_data]   Unzipping tokenizers/punkt.zip.\n"
          ],
          "name": "stdout"
        },
        {
          "output_type": "stream",
          "text": [
            "/usr/local/lib/python3.6/dist-packages/ipykernel_launcher.py:2: SettingWithCopyWarning: \n",
            "A value is trying to be set on a copy of a slice from a DataFrame.\n",
            "Try using .loc[row_indexer,col_indexer] = value instead\n",
            "\n",
            "See the caveats in the documentation: https://pandas.pydata.org/pandas-docs/stable/user_guide/indexing.html#returning-a-view-versus-a-copy\n",
            "  \n"
          ],
          "name": "stderr"
        }
      ]
    },
    {
      "cell_type": "code",
      "metadata": {
        "colab": {
          "base_uri": "https://localhost:8080/"
        },
        "id": "Bxsi9jVO9M4I",
        "outputId": "375dc1f2-cc1f-421e-c792-6834cf64bccb"
      },
      "source": [
        "print(text.head(5))"
      ],
      "execution_count": 39,
      "outputs": [
        {
          "output_type": "stream",
          "text": [
            "                                       headline_text\n",
            "0  [aba, decides, against, community, broadcastin...\n",
            "1  [act, fire, witnesses, must, be, aware, of, de...\n",
            "2  [a, g, calls, for, infrastructure, protection,...\n",
            "3  [air, nz, staff, in, aust, strike, for, pay, r...\n",
            "4  [air, nz, strike, to, affect, australian, trav...\n"
          ],
          "name": "stdout"
        }
      ]
    },
    {
      "cell_type": "code",
      "metadata": {
        "colab": {
          "base_uri": "https://localhost:8080/"
        },
        "id": "AHVmHJjA9l8I",
        "outputId": "d49332eb-8e10-4734-fef2-4c23c8d8ee74"
      },
      "source": [
        "stop = stopwords.words('english')\n",
        "text['headline_text'] = text['headline_text'].apply(lambda x: [word for word in x if word not in (stop)])"
      ],
      "execution_count": 40,
      "outputs": [
        {
          "output_type": "stream",
          "text": [
            "/usr/local/lib/python3.6/dist-packages/ipykernel_launcher.py:2: SettingWithCopyWarning: \n",
            "A value is trying to be set on a copy of a slice from a DataFrame.\n",
            "Try using .loc[row_indexer,col_indexer] = value instead\n",
            "\n",
            "See the caveats in the documentation: https://pandas.pydata.org/pandas-docs/stable/user_guide/indexing.html#returning-a-view-versus-a-copy\n",
            "  \n"
          ],
          "name": "stderr"
        }
      ]
    },
    {
      "cell_type": "code",
      "metadata": {
        "colab": {
          "base_uri": "https://localhost:8080/"
        },
        "id": "tFnHtgMX9ucD",
        "outputId": "89f8f676-add9-457a-9e30-21eb073263d2"
      },
      "source": [
        "print(text.head(5))"
      ],
      "execution_count": 41,
      "outputs": [
        {
          "output_type": "stream",
          "text": [
            "                                       headline_text\n",
            "0   [aba, decides, community, broadcasting, licence]\n",
            "1    [act, fire, witnesses, must, aware, defamation]\n",
            "2     [g, calls, infrastructure, protection, summit]\n",
            "3          [air, nz, staff, aust, strike, pay, rise]\n",
            "4  [air, nz, strike, affect, australian, travellers]\n"
          ],
          "name": "stdout"
        }
      ]
    },
    {
      "cell_type": "code",
      "metadata": {
        "colab": {
          "base_uri": "https://localhost:8080/"
        },
        "id": "KujGjuCO91KX",
        "outputId": "2f7ccd0a-9bf5-4ba6-d596-43245d71d55d"
      },
      "source": [
        "from nltk.stem import WordNetLemmatizer\n",
        "nltk.download('wordnet')\n",
        "text['headline_text'] = text['headline_text'].apply(lambda x: [WordNetLemmatizer().lemmatize(word, pos='v') for word in x])\n",
        "print(text.head(5))"
      ],
      "execution_count": 43,
      "outputs": [
        {
          "output_type": "stream",
          "text": [
            "[nltk_data] Downloading package wordnet to /root/nltk_data...\n",
            "[nltk_data]   Unzipping corpora/wordnet.zip.\n",
            "                                       headline_text\n",
            "0       [aba, decide, community, broadcast, licence]\n",
            "1      [act, fire, witness, must, aware, defamation]\n",
            "2      [g, call, infrastructure, protection, summit]\n",
            "3          [air, nz, staff, aust, strike, pay, rise]\n",
            "4  [air, nz, strike, affect, australian, travellers]\n"
          ],
          "name": "stdout"
        },
        {
          "output_type": "stream",
          "text": [
            "/usr/local/lib/python3.6/dist-packages/ipykernel_launcher.py:3: SettingWithCopyWarning: \n",
            "A value is trying to be set on a copy of a slice from a DataFrame.\n",
            "Try using .loc[row_indexer,col_indexer] = value instead\n",
            "\n",
            "See the caveats in the documentation: https://pandas.pydata.org/pandas-docs/stable/user_guide/indexing.html#returning-a-view-versus-a-copy\n",
            "  This is separate from the ipykernel package so we can avoid doing imports until\n"
          ],
          "name": "stderr"
        }
      ]
    },
    {
      "cell_type": "code",
      "metadata": {
        "colab": {
          "base_uri": "https://localhost:8080/"
        },
        "id": "ERc4zPq5-Fdg",
        "outputId": "f43bf129-26ed-489b-9d0a-e675d70a6555"
      },
      "source": [
        "tokenized_doc = text['headline_text'].apply(lambda x: [word for word in x if len(word) > 3])\n",
        "print(tokenized_doc[:5])"
      ],
      "execution_count": 44,
      "outputs": [
        {
          "output_type": "stream",
          "text": [
            "0       [decide, community, broadcast, licence]\n",
            "1      [fire, witness, must, aware, defamation]\n",
            "2    [call, infrastructure, protection, summit]\n",
            "3                   [staff, aust, strike, rise]\n",
            "4      [strike, affect, australian, travellers]\n",
            "Name: headline_text, dtype: object\n"
          ],
          "name": "stdout"
        }
      ]
    },
    {
      "cell_type": "code",
      "metadata": {
        "colab": {
          "base_uri": "https://localhost:8080/"
        },
        "id": "uULvlRnh-TDT",
        "outputId": "347ba6ef-afab-4e2a-d5d9-27ec8d83d18c"
      },
      "source": [
        "detokenized_doc = []\n",
        "for i in range(len(text)):\n",
        "    t = ' '.join(tokenized_doc[i])\n",
        "    detokenized_doc.append(t)\n",
        "\n",
        "text['headline_text'] = detokenized_doc"
      ],
      "execution_count": 45,
      "outputs": [
        {
          "output_type": "stream",
          "text": [
            "/usr/local/lib/python3.6/dist-packages/ipykernel_launcher.py:6: SettingWithCopyWarning: \n",
            "A value is trying to be set on a copy of a slice from a DataFrame.\n",
            "Try using .loc[row_indexer,col_indexer] = value instead\n",
            "\n",
            "See the caveats in the documentation: https://pandas.pydata.org/pandas-docs/stable/user_guide/indexing.html#returning-a-view-versus-a-copy\n",
            "  \n"
          ],
          "name": "stderr"
        }
      ]
    },
    {
      "cell_type": "code",
      "metadata": {
        "colab": {
          "base_uri": "https://localhost:8080/"
        },
        "id": "28JqZEsG-c0v",
        "outputId": "b2a61650-ba84-4a72-aa07-5a008764b2d4"
      },
      "source": [
        "text['headline_text'][:5]"
      ],
      "execution_count": 46,
      "outputs": [
        {
          "output_type": "execute_result",
          "data": {
            "text/plain": [
              "0       decide community broadcast licence\n",
              "1       fire witness must aware defamation\n",
              "2    call infrastructure protection summit\n",
              "3                   staff aust strike rise\n",
              "4      strike affect australian travellers\n",
              "Name: headline_text, dtype: object"
            ]
          },
          "metadata": {
            "tags": []
          },
          "execution_count": 46
        }
      ]
    },
    {
      "cell_type": "code",
      "metadata": {
        "colab": {
          "base_uri": "https://localhost:8080/"
        },
        "id": "h5IZtLJY-pwY",
        "outputId": "0c1d588c-5300-4e2f-bf2c-d3496b1b6373"
      },
      "source": [
        "from sklearn.feature_extraction.text import TfidfVectorizer\n",
        "vectorizer = TfidfVectorizer(stop_words='english', max_features= 1000) # 상위 1,000개의 단어를 보존 \n",
        "X = vectorizer.fit_transform(text['headline_text'])\n",
        "X.shape # TF-IDF 행렬의 크기 확인"
      ],
      "execution_count": 48,
      "outputs": [
        {
          "output_type": "execute_result",
          "data": {
            "text/plain": [
              "(1082168, 1000)"
            ]
          },
          "metadata": {
            "tags": []
          },
          "execution_count": 48
        }
      ]
    },
    {
      "cell_type": "code",
      "metadata": {
        "id": "DIZTO6vDAvHO"
      },
      "source": [
        "from sklearn.decomposition import LatentDirichletAllocation\n",
        "lda_model=LatentDirichletAllocation(n_components=10,learning_method='online',random_state=777,max_iter=1)"
      ],
      "execution_count": 49,
      "outputs": []
    },
    {
      "cell_type": "code",
      "metadata": {
        "id": "j-8A1KxDA7eG"
      },
      "source": [
        "lda_top=lda_model.fit_transform(X)"
      ],
      "execution_count": 50,
      "outputs": []
    },
    {
      "cell_type": "code",
      "metadata": {
        "colab": {
          "base_uri": "https://localhost:8080/"
        },
        "id": "xiXR8JP1BFlT",
        "outputId": "4db934c7-ba8e-4c2d-b9d1-35246e66f554"
      },
      "source": [
        "print(lda_model.components_)\n",
        "print(lda_model.components_.shape) "
      ],
      "execution_count": 51,
      "outputs": [
        {
          "output_type": "stream",
          "text": [
            "[[1.00001533e-01 1.00001269e-01 1.00004179e-01 ... 1.00006124e-01\n",
            "  1.00003111e-01 1.00003064e-01]\n",
            " [1.00001199e-01 1.13513398e+03 3.50170830e+03 ... 1.00009349e-01\n",
            "  1.00001896e-01 1.00002937e-01]\n",
            " [1.00001811e-01 1.00001151e-01 1.00003566e-01 ... 1.00002693e-01\n",
            "  1.00002061e-01 7.53381835e+02]\n",
            " ...\n",
            " [1.00001065e-01 1.00001689e-01 1.00003278e-01 ... 1.00006721e-01\n",
            "  1.00004902e-01 1.00004759e-01]\n",
            " [1.00002401e-01 1.00000732e-01 1.00002989e-01 ... 1.00003517e-01\n",
            "  1.00001428e-01 1.00005266e-01]\n",
            " [1.00003427e-01 1.00002313e-01 1.00007340e-01 ... 1.00003732e-01\n",
            "  1.00001207e-01 1.00005153e-01]]\n",
            "(10, 1000)\n"
          ],
          "name": "stdout"
        }
      ]
    },
    {
      "cell_type": "code",
      "metadata": {
        "colab": {
          "base_uri": "https://localhost:8080/"
        },
        "id": "t6zZvWrdBIi2",
        "outputId": "446eadff-591b-4d69-c133-883132511a69"
      },
      "source": [
        "terms = vectorizer.get_feature_names() # 단어 집합. 1,000개의 단어가 저장됨.\n",
        "\n",
        "def get_topics(components, feature_names, n=5):\n",
        "    for idx, topic in enumerate(components):\n",
        "        print(\"Topic %d:\" % (idx+1), [(feature_names[i], topic[i].round(2)) for i in topic.argsort()[:-n - 1:-1]])\n",
        "get_topics(lda_model.components_,terms)"
      ],
      "execution_count": 52,
      "outputs": [
        {
          "output_type": "stream",
          "text": [
            "Topic 1: [('government', 8725.19), ('sydney', 8393.29), ('queensland', 7720.12), ('change', 5874.27), ('home', 5674.38)]\n",
            "Topic 2: [('australia', 13691.08), ('australian', 11088.95), ('melbourne', 7528.43), ('world', 6707.7), ('south', 6677.03)]\n",
            "Topic 3: [('death', 5935.06), ('interview', 5924.98), ('kill', 5851.6), ('jail', 4632.85), ('life', 4275.27)]\n",
            "Topic 4: [('house', 6113.49), ('2016', 5488.19), ('state', 4923.41), ('brisbane', 4857.21), ('tasmania', 4610.97)]\n",
            "Topic 5: [('court', 7542.74), ('attack', 6959.64), ('open', 5663.0), ('face', 5193.63), ('warn', 5115.01)]\n",
            "Topic 6: [('market', 5545.86), ('rural', 5502.89), ('plan', 4828.71), ('indigenous', 4223.4), ('power', 3968.26)]\n",
            "Topic 7: [('charge', 8428.8), ('election', 7561.63), ('adelaide', 6758.36), ('make', 5658.99), ('test', 5062.69)]\n",
            "Topic 8: [('police', 12092.44), ('crash', 5281.14), ('drug', 4290.87), ('beat', 3257.58), ('rise', 2934.92)]\n",
            "Topic 9: [('fund', 4693.03), ('labor', 4047.69), ('national', 4038.68), ('council', 4006.62), ('claim', 3604.75)]\n",
            "Topic 10: [('trump', 11966.41), ('perth', 6456.53), ('report', 5611.33), ('school', 5465.06), ('woman', 5456.76)]\n"
          ],
          "name": "stdout"
        }
      ]
    }
  ]
}