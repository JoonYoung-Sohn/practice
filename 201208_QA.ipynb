{
  "nbformat": 4,
  "nbformat_minor": 0,
  "metadata": {
    "colab": {
      "name": "201208_QA.ipynb",
      "provenance": [],
      "authorship_tag": "ABX9TyPww/WhuTLREp8vwcd6jMnE",
      "include_colab_link": true
    },
    "kernelspec": {
      "name": "python3",
      "display_name": "Python 3"
    }
  },
  "cells": [
    {
      "cell_type": "markdown",
      "metadata": {
        "id": "view-in-github",
        "colab_type": "text"
      },
      "source": [
        "<a href=\"https://colab.research.google.com/github/JoonYoung-Sohn/practice/blob/master/201208_QA.ipynb\" target=\"_parent\"><img src=\"https://colab.research.google.com/assets/colab-badge.svg\" alt=\"Open In Colab\"/></a>"
      ]
    },
    {
      "cell_type": "code",
      "metadata": {
        "id": "oqs5KKcpO_M2"
      },
      "source": [
        "from tensorflow.keras.utils import get_file\n",
        "from tensorflow.keras.preprocessing.sequence import pad_sequences\n",
        "from tensorflow.keras.utils import to_categorical\n",
        "import numpy as np\n",
        "import tarfile\n",
        "from nltk import FreqDist\n",
        "from functools import reduce\n",
        "import os\n",
        "import re\n",
        "import matplotlib.pyplot as plt"
      ],
      "execution_count": 1,
      "outputs": []
    },
    {
      "cell_type": "code",
      "metadata": {
        "colab": {
          "base_uri": "https://localhost:8080/"
        },
        "id": "uL0XhdX5Rewu",
        "outputId": "6fa9ed53-af09-4879-fe79-555070d96cf3"
      },
      "source": [
        "path = get_file('babi-tasks-v1-2.tar.gz', origin='https://s3.amazonaws.com/text-datasets/'\n",
        "                'babi_tasks_1-20_v1-2.tar.gz')"
      ],
      "execution_count": 2,
      "outputs": [
        {
          "output_type": "stream",
          "text": [
            "Downloading data from https://s3.amazonaws.com/text-datasets/babi_tasks_1-20_v1-2.tar.gz\n",
            "11747328/11745123 [==============================] - 1s 0us/step\n"
          ],
          "name": "stdout"
        }
      ]
    },
    {
      "cell_type": "code",
      "metadata": {
        "id": "yKkfqtUzRgZM"
      },
      "source": [
        "with tarfile.open(path) as tar:\n",
        " tar.extractall()\n",
        " tar.close()\n",
        "\n",
        "DATA_DIR = 'tasks_1-20_v1-2/en-10k'\n",
        "TRAIN_FILE = os.path.join(DATA_DIR, \"qa1_single-supporting-fact_train.txt\")\n",
        "TEST_FILE = os.path.join(DATA_DIR, \"qa1_single-supporting-fact_test.txt\")"
      ],
      "execution_count": 3,
      "outputs": []
    },
    {
      "cell_type": "code",
      "metadata": {
        "colab": {
          "base_uri": "https://localhost:8080/"
        },
        "id": "hAtJ1heRRi0l",
        "outputId": "1bb41359-6bda-4d3d-8d03-9ac495600be1"
      },
      "source": [
        "i = 0\n",
        "lines = open(TRAIN_FILE , \"rb\")\n",
        "for line in lines:\n",
        "    line = line.decode(\"utf-8\").strip()\n",
        "    # lno, text = line.split(\" \", 1) # ID와 TEXT 분리\n",
        "    i = i + 1\n",
        "    print(line)\n",
        "    if i == 20:\n",
        "      break"
      ],
      "execution_count": 4,
      "outputs": [
        {
          "output_type": "stream",
          "text": [
            "1 Mary moved to the bathroom.\n",
            "2 John went to the hallway.\n",
            "3 Where is Mary? \tbathroom\t1\n",
            "4 Daniel went back to the hallway.\n",
            "5 Sandra moved to the garden.\n",
            "6 Where is Daniel? \thallway\t4\n",
            "7 John moved to the office.\n",
            "8 Sandra journeyed to the bathroom.\n",
            "9 Where is Daniel? \thallway\t4\n",
            "10 Mary moved to the hallway.\n",
            "11 Daniel travelled to the office.\n",
            "12 Where is Daniel? \toffice\t11\n",
            "13 John went back to the garden.\n",
            "14 John moved to the bedroom.\n",
            "15 Where is Sandra? \tbathroom\t8\n",
            "1 Sandra travelled to the office.\n",
            "2 Sandra went to the bathroom.\n",
            "3 Where is Sandra? \tbathroom\t2\n",
            "4 Mary went to the bedroom.\n",
            "5 Daniel moved to the hallway.\n"
          ],
          "name": "stdout"
        }
      ]
    },
    {
      "cell_type": "code",
      "metadata": {
        "id": "FKMqE0vMRkRY"
      },
      "source": [
        "def read_data(dir):\n",
        "    stories, questions, answers = [], [], [] \n",
        "    story_temp = [] \n",
        "    lines = open(dir, \"rb\")\n",
        "\n",
        "    for line in lines:\n",
        "        line = line.decode(\"utf-8\") \n",
        "        line = line.strip() \n",
        "        idx, text = line.split(\" \", 1) \n",
        "\n",
        "        if int(idx) == 1:\n",
        "            story_temp = []\n",
        "\n",
        "        if \"\\t\" in text: # 현재 읽는 줄이 질문 (tab) 답변 (tab)인 경우\n",
        "            question, answer, _ = text.split(\"\\t\") \n",
        "            stories.append([x for x in story_temp if x]) # 지금까지의 누적 스토리를 스토리에 저장\n",
        "            questions.append(question)\n",
        "            answers.append(answer)\n",
        "\n",
        "        else: # 현재 읽는 줄이 스토리인 경우\n",
        "            story_temp.append(text) # 임시 저장\n",
        "\n",
        "    lines.close()\n",
        "    return stories, questions, answers"
      ],
      "execution_count": 5,
      "outputs": []
    },
    {
      "cell_type": "code",
      "metadata": {
        "id": "5W-6QsqVSdRG"
      },
      "source": [
        "train_data = read_data(TRAIN_FILE)\n",
        "test_data = read_data(TEST_FILE)"
      ],
      "execution_count": 6,
      "outputs": []
    },
    {
      "cell_type": "code",
      "metadata": {
        "id": "UBq3bAh7Sfqv"
      },
      "source": [
        "train_stories, train_questions, train_answers = read_data(TRAIN_FILE)\n",
        "test_stories, test_questions, test_answers = read_data(TEST_FILE)"
      ],
      "execution_count": 7,
      "outputs": []
    },
    {
      "cell_type": "code",
      "metadata": {
        "colab": {
          "base_uri": "https://localhost:8080/"
        },
        "id": "QqTTcIdRSg4O",
        "outputId": "07483800-bd9b-4955-81a1-94aab3288b39"
      },
      "source": [
        "print('훈련용 스토리의 개수 :', len(train_stories))\n",
        "print('훈련용 질문의 개수 :',len(train_questions))\n",
        "print('훈련용 답변의 개수 :',len(train_answers))\n",
        "print('테스트용 스토리의 개수 :',len(test_stories))\n",
        "print('테스트용 질문의 개수 :',len(test_questions))\n",
        "print('테스트용 답변의 개수 :',len(test_answers))"
      ],
      "execution_count": 8,
      "outputs": [
        {
          "output_type": "stream",
          "text": [
            "훈련용 스토리의 개수 : 10000\n",
            "훈련용 질문의 개수 : 10000\n",
            "훈련용 답변의 개수 : 10000\n",
            "테스트용 스토리의 개수 : 1000\n",
            "테스트용 질문의 개수 : 1000\n",
            "테스트용 답변의 개수 : 1000\n"
          ],
          "name": "stdout"
        }
      ]
    },
    {
      "cell_type": "code",
      "metadata": {
        "colab": {
          "base_uri": "https://localhost:8080/"
        },
        "id": "3RECianeSi0o",
        "outputId": "23e0e7d9-2c18-4e6b-9dd8-2c166bb86613"
      },
      "source": [
        "train_stories[3576]"
      ],
      "execution_count": 9,
      "outputs": [
        {
          "output_type": "execute_result",
          "data": {
            "text/plain": [
              "['John went back to the garden.',\n",
              " 'Mary went to the kitchen.',\n",
              " 'Sandra went back to the bedroom.',\n",
              " 'John travelled to the bedroom.']"
            ]
          },
          "metadata": {
            "tags": []
          },
          "execution_count": 9
        }
      ]
    },
    {
      "cell_type": "code",
      "metadata": {
        "colab": {
          "base_uri": "https://localhost:8080/",
          "height": 35
        },
        "id": "yNFqPE96SwJA",
        "outputId": "e0ef238a-bcf4-4dc3-d567-920a925f7116"
      },
      "source": [
        "train_questions[3576]"
      ],
      "execution_count": 10,
      "outputs": [
        {
          "output_type": "execute_result",
          "data": {
            "application/vnd.google.colaboratory.intrinsic+json": {
              "type": "string"
            },
            "text/plain": [
              "'Where is John? '"
            ]
          },
          "metadata": {
            "tags": []
          },
          "execution_count": 10
        }
      ]
    },
    {
      "cell_type": "code",
      "metadata": {
        "colab": {
          "base_uri": "https://localhost:8080/",
          "height": 35
        },
        "id": "dv34eNAtS_JT",
        "outputId": "b1507c4f-b443-4abd-c9ac-f5c4ae8d5dd8"
      },
      "source": [
        "train_answers[3576]"
      ],
      "execution_count": 11,
      "outputs": [
        {
          "output_type": "execute_result",
          "data": {
            "application/vnd.google.colaboratory.intrinsic+json": {
              "type": "string"
            },
            "text/plain": [
              "'bedroom'"
            ]
          },
          "metadata": {
            "tags": []
          },
          "execution_count": 11
        }
      ]
    },
    {
      "cell_type": "code",
      "metadata": {
        "id": "RozPC2aQTAT_"
      },
      "source": [
        "def tokenize(sent):\n",
        "    return [ x.strip() for x in re.split('(\\W+)?', sent) if x.strip()]"
      ],
      "execution_count": 12,
      "outputs": []
    },
    {
      "cell_type": "code",
      "metadata": {
        "id": "kgnx9DSATB1T"
      },
      "source": [
        "def preprocess_data(train_data, test_data):\n",
        "    counter = FreqDist()\n",
        "\n",
        "    # 두 문장의 story를 하나의 문장으로 통합하는 함수\n",
        "    flatten = lambda data: reduce(lambda x, y: x + y, data)\n",
        "\n",
        "    story_len = []\n",
        "    question_len = []\n",
        "\n",
        "    for stories, questions, answers in [train_data, test_data]:\n",
        "        for story in stories:\n",
        "            stories = tokenize(flatten(story)) # 스토리의 문장들을 펼친 후 토큰화\n",
        "            story_len.append(len(stories)) # 각 story의 길이 저장\n",
        "            for word in stories: # 단어 집합에 단어 추가\n",
        "                counter[word] += 1\n",
        "        for question in questions:\n",
        "            question = tokenize(question)\n",
        "            question_len.append(len(question))\n",
        "            for word in question:\n",
        "                counter[word] += 1\n",
        "        for answer in answers:\n",
        "            answer = tokenize(answer)\n",
        "            for word in answer:\n",
        "                counter[word] += 1\n",
        "\n",
        "    word2idx = {word : (idx + 1) for idx, (word, _) in enumerate(counter.most_common())}\n",
        "    idx2word = {idx : word for word, idx in word2idx.items()}\n",
        "\n",
        "    story_max_len = np.max(story_len)\n",
        "    question_max_len = np.max(question_len)\n",
        "\n",
        "    return word2idx, idx2word, story_max_len, question_max_len"
      ],
      "execution_count": 13,
      "outputs": []
    },
    {
      "cell_type": "code",
      "metadata": {
        "colab": {
          "base_uri": "https://localhost:8080/"
        },
        "id": "66TA8fcoTUfp",
        "outputId": "1df813af-f73a-4b61-9b1b-f226da20f1c1"
      },
      "source": [
        "word2idx, idx2word, story_max_len, question_max_len = preprocess_data(train_data, test_data)"
      ],
      "execution_count": 14,
      "outputs": [
        {
          "output_type": "stream",
          "text": [
            "/usr/lib/python3.6/re.py:212: FutureWarning: split() requires a non-empty pattern match.\n",
            "  return _compile(pattern, flags).split(string, maxsplit)\n"
          ],
          "name": "stderr"
        }
      ]
    },
    {
      "cell_type": "code",
      "metadata": {
        "colab": {
          "base_uri": "https://localhost:8080/"
        },
        "id": "wKnCyW2NTV6V",
        "outputId": "f96ddadf-5209-4ebd-d5fa-7d6878174615"
      },
      "source": [
        "print(word2idx)"
      ],
      "execution_count": 15,
      "outputs": [
        {
          "output_type": "stream",
          "text": [
            "{'to': 1, 'the': 2, '.': 3, 'went': 4, 'Sandra': 5, 'John': 6, 'Daniel': 7, 'Mary': 8, 'travelled': 9, 'journeyed': 10, 'back': 11, 'bathroom': 12, 'garden': 13, 'hallway': 14, 'moved': 15, 'office': 16, 'kitchen': 17, 'bedroom': 18, 'Where': 19, 'is': 20, '?': 21}\n"
          ],
          "name": "stdout"
        }
      ]
    },
    {
      "cell_type": "code",
      "metadata": {
        "id": "4NtQmhjnTXF2"
      },
      "source": [
        "vocab_size = len(word2idx) + 1"
      ],
      "execution_count": 16,
      "outputs": []
    },
    {
      "cell_type": "code",
      "metadata": {
        "colab": {
          "base_uri": "https://localhost:8080/"
        },
        "id": "zsTYVbDGTYW_",
        "outputId": "640a1159-893f-4e78-88dd-2d09e8bff200"
      },
      "source": [
        "print('스토리의 최대 길이 :',story_max_len)\n",
        "print('질문의 최대 길이 :',question_max_len)"
      ],
      "execution_count": 17,
      "outputs": [
        {
          "output_type": "stream",
          "text": [
            "스토리의 최대 길이 : 68\n",
            "질문의 최대 길이 : 4\n"
          ],
          "name": "stdout"
        }
      ]
    },
    {
      "cell_type": "code",
      "metadata": {
        "id": "R3p4RwtsTZjM"
      },
      "source": [
        "def vectorize(data, word2idx, story_maxlen, question_maxlen):\n",
        "    Xs, Xq, Y = [], [], []\n",
        "    flatten = lambda data: reduce(lambda x, y: x + y, data)\n",
        "\n",
        "    stories, questions, answers = data\n",
        "    for story, question, answer in zip(stories, questions, answers):\n",
        "        xs = [word2idx[w] for w in tokenize(flatten(story))]\n",
        "        xq = [word2idx[w] for w in tokenize(question)]\n",
        "        Xs.append(xs)\n",
        "        Xq.append(xq)\n",
        "        Y.append(word2idx[answer])\n",
        "\n",
        "    return pad_sequences(Xs, maxlen=story_maxlen),\\\n",
        "           pad_sequences(Xq, maxlen=question_maxlen),\\\n",
        "           to_categorical(Y, num_classes=len(word2idx) + 1)"
      ],
      "execution_count": 18,
      "outputs": []
    },
    {
      "cell_type": "code",
      "metadata": {
        "colab": {
          "base_uri": "https://localhost:8080/"
        },
        "id": "ZL5C6csOTckk",
        "outputId": "b9850e9a-b56d-4d60-8037-810d24a62241"
      },
      "source": [
        "Xstrain, Xqtrain, Ytrain = vectorize(train_data, word2idx, story_max_len, question_max_len)\n",
        "Xstest, Xqtest, Ytest = vectorize(test_data, word2idx, story_max_len, question_max_len)"
      ],
      "execution_count": 19,
      "outputs": [
        {
          "output_type": "stream",
          "text": [
            "/usr/lib/python3.6/re.py:212: FutureWarning: split() requires a non-empty pattern match.\n",
            "  return _compile(pattern, flags).split(string, maxsplit)\n"
          ],
          "name": "stderr"
        }
      ]
    },
    {
      "cell_type": "code",
      "metadata": {
        "colab": {
          "base_uri": "https://localhost:8080/"
        },
        "id": "rMvYmXvZTfOE",
        "outputId": "f46731f9-4cc2-4ebb-8332-f1564106e62f"
      },
      "source": [
        "print(Xstrain.shape, Xqtrain.shape, Ytrain.shape, Xstest.shape, Xqtest.shape, Ytest.shape)"
      ],
      "execution_count": 20,
      "outputs": [
        {
          "output_type": "stream",
          "text": [
            "(10000, 68) (10000, 4) (10000, 22) (1000, 68) (1000, 4) (1000, 22)\n"
          ],
          "name": "stdout"
        }
      ]
    },
    {
      "cell_type": "code",
      "metadata": {
        "id": "9z64T-IRTg22"
      },
      "source": [
        "from tensorflow.keras.models import Sequential, Model\n",
        "from tensorflow.keras.layers import Embedding\n",
        "from tensorflow.keras.layers import Permute, dot, add, concatenate\n",
        "from tensorflow.keras.layers import LSTM, Dense, Dropout, Input, Activation"
      ],
      "execution_count": 21,
      "outputs": []
    },
    {
      "cell_type": "code",
      "metadata": {
        "id": "zUn5xtlpTjFb"
      },
      "source": [
        "train_epochs = 120\n",
        "batch_size = 32\n",
        "embed_size = 50\n",
        "lstm_size = 64\n",
        "dropout_rate = 0.30"
      ],
      "execution_count": 22,
      "outputs": []
    },
    {
      "cell_type": "code",
      "metadata": {
        "colab": {
          "base_uri": "https://localhost:8080/"
        },
        "id": "fS3Dq_c0TmMj",
        "outputId": "91e0363d-e139-4c1e-f122-7ebc551cc7cf"
      },
      "source": [
        "input_sequence = Input((story_max_len,))\n",
        "question = Input((question_max_len,))\n",
        "\n",
        "print('Stories :', input_sequence)\n",
        "print('Question:', question)"
      ],
      "execution_count": 23,
      "outputs": [
        {
          "output_type": "stream",
          "text": [
            "Stories : Tensor(\"input_1:0\", shape=(None, 68), dtype=float32)\n",
            "Question: Tensor(\"input_2:0\", shape=(None, 4), dtype=float32)\n"
          ],
          "name": "stdout"
        }
      ]
    },
    {
      "cell_type": "code",
      "metadata": {
        "id": "irbrMxXATnyy"
      },
      "source": [
        "# 스토리를 위한 첫번째 임베딩. 그림에서의 Embedding A\n",
        "input_encoder_m = Sequential()\n",
        "input_encoder_m.add(Embedding(input_dim=vocab_size,\n",
        "                              output_dim=embed_size))\n",
        "input_encoder_m.add(Dropout(dropout_rate))\n",
        "# 결과 : (samples, story_max_len, embedding_dim) \n",
        "\n",
        "# 스토리를 위한 두번째 임베딩. 그림에서의 Embedding C\n",
        "# 임베딩 벡터의 차원을 question_max_len(질문의 최대 길이)로 한다.\n",
        "input_encoder_c = Sequential()\n",
        "input_encoder_c.add(Embedding(input_dim=vocab_size,\n",
        "                              output_dim=question_max_len))\n",
        "input_encoder_c.add(Dropout(dropout_rate))\n",
        "# 결과 : (samples, story_max_len, question_max_len) "
      ],
      "execution_count": 24,
      "outputs": []
    },
    {
      "cell_type": "code",
      "metadata": {
        "id": "3C2hhqJmUL6v"
      },
      "source": [
        "# 질문을 위한 임베딩. 그림에서의 Embedding B\n",
        "question_encoder = Sequential()\n",
        "question_encoder.add(Embedding(input_dim=vocab_size,\n",
        "                               output_dim=embed_size,\n",
        "                               input_length=question_max_len))\n",
        "question_encoder.add(Dropout(dropout_rate))\n",
        "# 결과 : (samples, question_max_len, embedding_dim) "
      ],
      "execution_count": 25,
      "outputs": []
    },
    {
      "cell_type": "code",
      "metadata": {
        "colab": {
          "base_uri": "https://localhost:8080/"
        },
        "id": "ha63OEX1UOBY",
        "outputId": "00645912-2993-4d4f-ad29-5db0abf4efbe"
      },
      "source": [
        "input_encoded_m = input_encoder_m(input_sequence)\n",
        "input_encoded_c = input_encoder_c(input_sequence)\n",
        "question_encoded = question_encoder(question)\n",
        "\n",
        "print('Input encoded m', input_encoded_m)\n",
        "print('Input encoded c', input_encoded_c)\n",
        "print('Question encoded', question_encoded)"
      ],
      "execution_count": 26,
      "outputs": [
        {
          "output_type": "stream",
          "text": [
            "Input encoded m Tensor(\"sequential/dropout/cond/Identity:0\", shape=(None, 68, 50), dtype=float32)\n",
            "Input encoded c Tensor(\"sequential_1/dropout_1/cond/Identity:0\", shape=(None, 68, 4), dtype=float32)\n",
            "Question encoded Tensor(\"sequential_2/dropout_2/cond/Identity:0\", shape=(None, 4, 50), dtype=float32)\n"
          ],
          "name": "stdout"
        }
      ]
    },
    {
      "cell_type": "code",
      "metadata": {
        "colab": {
          "base_uri": "https://localhost:8080/"
        },
        "id": "01kt0PrPUPkf",
        "outputId": "ec8c7b0d-19c2-419e-ff22-01306572a808"
      },
      "source": [
        "match = dot([input_encoded_m, question_encoded], axes=-1, normalize=False)\n",
        "match = Activation('softmax')(match)\n",
        "print('Match shape', match)\n",
        "# 결과 : (samples, story_maxlen, question_max_len)\n",
        "\n",
        "# add the match matrix with the second input vector sequence\n",
        "response = add([match, input_encoded_c])  # (samples, story_max_len, question_max_len)\n",
        "response = Permute((2, 1))(response)  # (samples, question_max_len, story_max_len)\n",
        "print('Response shape', response)\n",
        "\n",
        "# concatenate the response vector with the question vector sequence\n",
        "answer = concatenate([response, question_encoded])\n",
        "print('Answer shape', answer)\n",
        "\n",
        "answer = LSTM(lstm_size)(answer)  # Generate tensors of shape 32\n",
        "answer = Dropout(dropout_rate)(answer)\n",
        "answer = Dense(vocab_size)(answer)  # (samples, vocab_size)\n",
        "answer = Activation('softmax')(answer)"
      ],
      "execution_count": 27,
      "outputs": [
        {
          "output_type": "stream",
          "text": [
            "Match shape Tensor(\"activation/truediv:0\", shape=(None, 68, 4), dtype=float32)\n",
            "Response shape Tensor(\"permute/transpose:0\", shape=(None, 4, 68), dtype=float32)\n",
            "Answer shape Tensor(\"concatenate/concat:0\", shape=(None, 4, 118), dtype=float32)\n"
          ],
          "name": "stdout"
        }
      ]
    },
    {
      "cell_type": "code",
      "metadata": {
        "colab": {
          "base_uri": "https://localhost:8080/"
        },
        "id": "9dyW2SnNUX5t",
        "outputId": "3701d358-d4ba-4246-9d06-3b405d8b899d"
      },
      "source": [
        "model = Model([input_sequence, question], answer)\n",
        "model.compile(optimizer='rmsprop', loss='categorical_crossentropy',\n",
        "              metrics=['acc'])\n",
        "\n",
        "print(model.summary())\n",
        "\n",
        "history = model.fit([Xstrain, Xqtrain],\n",
        "         Ytrain, batch_size, train_epochs,\n",
        "         validation_data=([Xstest, Xqtest], Ytest))\n",
        "\n",
        "model.save('model.h5')"
      ],
      "execution_count": 28,
      "outputs": [
        {
          "output_type": "stream",
          "text": [
            "Model: \"functional_1\"\n",
            "__________________________________________________________________________________________________\n",
            "Layer (type)                    Output Shape         Param #     Connected to                     \n",
            "==================================================================================================\n",
            "input_1 (InputLayer)            [(None, 68)]         0                                            \n",
            "__________________________________________________________________________________________________\n",
            "input_2 (InputLayer)            [(None, 4)]          0                                            \n",
            "__________________________________________________________________________________________________\n",
            "sequential (Sequential)         (None, None, 50)     1100        input_1[0][0]                    \n",
            "__________________________________________________________________________________________________\n",
            "sequential_2 (Sequential)       (None, 4, 50)        1100        input_2[0][0]                    \n",
            "__________________________________________________________________________________________________\n",
            "dot (Dot)                       (None, 68, 4)        0           sequential[0][0]                 \n",
            "                                                                 sequential_2[0][0]               \n",
            "__________________________________________________________________________________________________\n",
            "activation (Activation)         (None, 68, 4)        0           dot[0][0]                        \n",
            "__________________________________________________________________________________________________\n",
            "sequential_1 (Sequential)       (None, None, 4)      88          input_1[0][0]                    \n",
            "__________________________________________________________________________________________________\n",
            "add (Add)                       (None, 68, 4)        0           activation[0][0]                 \n",
            "                                                                 sequential_1[0][0]               \n",
            "__________________________________________________________________________________________________\n",
            "permute (Permute)               (None, 4, 68)        0           add[0][0]                        \n",
            "__________________________________________________________________________________________________\n",
            "concatenate (Concatenate)       (None, 4, 118)       0           permute[0][0]                    \n",
            "                                                                 sequential_2[0][0]               \n",
            "__________________________________________________________________________________________________\n",
            "lstm (LSTM)                     (None, 64)           46848       concatenate[0][0]                \n",
            "__________________________________________________________________________________________________\n",
            "dropout_3 (Dropout)             (None, 64)           0           lstm[0][0]                       \n",
            "__________________________________________________________________________________________________\n",
            "dense (Dense)                   (None, 22)           1430        dropout_3[0][0]                  \n",
            "__________________________________________________________________________________________________\n",
            "activation_1 (Activation)       (None, 22)           0           dense[0][0]                      \n",
            "==================================================================================================\n",
            "Total params: 50,566\n",
            "Trainable params: 50,566\n",
            "Non-trainable params: 0\n",
            "__________________________________________________________________________________________________\n",
            "None\n",
            "Epoch 1/120\n",
            "313/313 [==============================] - 3s 10ms/step - loss: 1.8923 - acc: 0.1635 - val_loss: 1.7814 - val_acc: 0.2680\n",
            "Epoch 2/120\n",
            "313/313 [==============================] - 3s 9ms/step - loss: 1.7107 - acc: 0.2641 - val_loss: 1.6271 - val_acc: 0.3440\n",
            "Epoch 3/120\n",
            "313/313 [==============================] - 3s 9ms/step - loss: 1.5873 - acc: 0.3731 - val_loss: 1.4877 - val_acc: 0.4190\n",
            "Epoch 4/120\n",
            "313/313 [==============================] - 3s 9ms/step - loss: 1.5059 - acc: 0.4146 - val_loss: 1.4390 - val_acc: 0.4450\n",
            "Epoch 5/120\n",
            "313/313 [==============================] - 3s 9ms/step - loss: 1.4503 - acc: 0.4438 - val_loss: 1.3739 - val_acc: 0.4590\n",
            "Epoch 6/120\n",
            "313/313 [==============================] - 3s 9ms/step - loss: 1.4060 - acc: 0.4587 - val_loss: 1.3757 - val_acc: 0.4460\n",
            "Epoch 7/120\n",
            "313/313 [==============================] - 3s 9ms/step - loss: 1.3618 - acc: 0.4676 - val_loss: 1.3200 - val_acc: 0.4820\n",
            "Epoch 8/120\n",
            "313/313 [==============================] - 3s 9ms/step - loss: 1.3451 - acc: 0.4867 - val_loss: 1.3147 - val_acc: 0.4830\n",
            "Epoch 9/120\n",
            "313/313 [==============================] - 3s 9ms/step - loss: 1.3201 - acc: 0.4882 - val_loss: 1.2940 - val_acc: 0.5120\n",
            "Epoch 10/120\n",
            "313/313 [==============================] - 3s 9ms/step - loss: 1.3020 - acc: 0.4971 - val_loss: 1.2803 - val_acc: 0.5180\n",
            "Epoch 11/120\n",
            "313/313 [==============================] - 3s 9ms/step - loss: 1.2789 - acc: 0.5015 - val_loss: 1.2437 - val_acc: 0.5120\n",
            "Epoch 12/120\n",
            "313/313 [==============================] - 3s 9ms/step - loss: 1.2480 - acc: 0.5116 - val_loss: 1.2263 - val_acc: 0.5170\n",
            "Epoch 13/120\n",
            "313/313 [==============================] - 3s 9ms/step - loss: 1.2254 - acc: 0.5197 - val_loss: 1.2187 - val_acc: 0.5140\n",
            "Epoch 14/120\n",
            "313/313 [==============================] - 3s 9ms/step - loss: 1.1930 - acc: 0.5165 - val_loss: 1.1673 - val_acc: 0.5270\n",
            "Epoch 15/120\n",
            "313/313 [==============================] - 3s 9ms/step - loss: 1.1756 - acc: 0.5214 - val_loss: 1.1893 - val_acc: 0.5110\n",
            "Epoch 16/120\n",
            "313/313 [==============================] - 3s 9ms/step - loss: 1.1628 - acc: 0.5178 - val_loss: 1.1547 - val_acc: 0.5380\n",
            "Epoch 17/120\n",
            "313/313 [==============================] - 3s 9ms/step - loss: 1.1607 - acc: 0.5208 - val_loss: 1.1448 - val_acc: 0.5220\n",
            "Epoch 18/120\n",
            "313/313 [==============================] - 3s 9ms/step - loss: 1.1522 - acc: 0.5235 - val_loss: 1.1618 - val_acc: 0.5230\n",
            "Epoch 19/120\n",
            "313/313 [==============================] - 3s 9ms/step - loss: 1.1338 - acc: 0.5288 - val_loss: 1.1420 - val_acc: 0.5220\n",
            "Epoch 20/120\n",
            "313/313 [==============================] - 3s 9ms/step - loss: 1.1393 - acc: 0.5251 - val_loss: 1.1452 - val_acc: 0.5210\n",
            "Epoch 21/120\n",
            "313/313 [==============================] - 3s 9ms/step - loss: 1.1202 - acc: 0.5277 - val_loss: 1.1286 - val_acc: 0.5240\n",
            "Epoch 22/120\n",
            "313/313 [==============================] - 3s 9ms/step - loss: 1.1186 - acc: 0.5287 - val_loss: 1.1422 - val_acc: 0.5400\n",
            "Epoch 23/120\n",
            "313/313 [==============================] - 3s 9ms/step - loss: 1.1063 - acc: 0.5330 - val_loss: 1.1537 - val_acc: 0.5200\n",
            "Epoch 24/120\n",
            "313/313 [==============================] - 3s 9ms/step - loss: 1.1089 - acc: 0.5330 - val_loss: 1.1513 - val_acc: 0.5260\n",
            "Epoch 25/120\n",
            "313/313 [==============================] - 3s 9ms/step - loss: 1.0975 - acc: 0.5371 - val_loss: 1.1418 - val_acc: 0.5370\n",
            "Epoch 26/120\n",
            "313/313 [==============================] - 3s 9ms/step - loss: 1.0948 - acc: 0.5409 - val_loss: 1.1288 - val_acc: 0.5230\n",
            "Epoch 27/120\n",
            "313/313 [==============================] - 3s 9ms/step - loss: 1.0852 - acc: 0.5338 - val_loss: 1.1448 - val_acc: 0.5260\n",
            "Epoch 28/120\n",
            "313/313 [==============================] - 3s 9ms/step - loss: 1.0845 - acc: 0.5478 - val_loss: 1.1474 - val_acc: 0.5180\n",
            "Epoch 29/120\n",
            "313/313 [==============================] - 3s 9ms/step - loss: 1.0846 - acc: 0.5364 - val_loss: 1.1332 - val_acc: 0.5120\n",
            "Epoch 30/120\n",
            "313/313 [==============================] - 3s 9ms/step - loss: 1.0769 - acc: 0.5461 - val_loss: 1.1498 - val_acc: 0.5220\n",
            "Epoch 31/120\n",
            "313/313 [==============================] - 3s 9ms/step - loss: 1.0630 - acc: 0.5577 - val_loss: 1.1593 - val_acc: 0.5100\n",
            "Epoch 32/120\n",
            "313/313 [==============================] - 3s 9ms/step - loss: 1.0569 - acc: 0.5526 - val_loss: 1.1339 - val_acc: 0.5170\n",
            "Epoch 33/120\n",
            "313/313 [==============================] - 3s 9ms/step - loss: 1.0547 - acc: 0.5537 - val_loss: 1.1454 - val_acc: 0.5190\n",
            "Epoch 34/120\n",
            "313/313 [==============================] - 3s 9ms/step - loss: 1.0474 - acc: 0.5576 - val_loss: 1.1315 - val_acc: 0.5300\n",
            "Epoch 35/120\n",
            "313/313 [==============================] - 3s 9ms/step - loss: 1.0302 - acc: 0.5652 - val_loss: 1.1353 - val_acc: 0.5260\n",
            "Epoch 36/120\n",
            "313/313 [==============================] - 3s 9ms/step - loss: 1.0168 - acc: 0.5719 - val_loss: 1.1172 - val_acc: 0.5350\n",
            "Epoch 37/120\n",
            "313/313 [==============================] - 3s 9ms/step - loss: 0.9815 - acc: 0.5914 - val_loss: 1.0565 - val_acc: 0.5640\n",
            "Epoch 38/120\n",
            "313/313 [==============================] - 3s 9ms/step - loss: 0.8814 - acc: 0.6482 - val_loss: 0.8558 - val_acc: 0.6920\n",
            "Epoch 39/120\n",
            "313/313 [==============================] - 3s 9ms/step - loss: 0.7181 - acc: 0.7309 - val_loss: 0.7309 - val_acc: 0.7300\n",
            "Epoch 40/120\n",
            "313/313 [==============================] - 3s 9ms/step - loss: 0.6273 - acc: 0.7678 - val_loss: 0.6613 - val_acc: 0.7550\n",
            "Epoch 41/120\n",
            "313/313 [==============================] - 3s 9ms/step - loss: 0.5805 - acc: 0.7870 - val_loss: 0.6154 - val_acc: 0.7630\n",
            "Epoch 42/120\n",
            "313/313 [==============================] - 3s 9ms/step - loss: 0.5291 - acc: 0.8021 - val_loss: 0.5540 - val_acc: 0.7850\n",
            "Epoch 43/120\n",
            "313/313 [==============================] - 3s 9ms/step - loss: 0.4738 - acc: 0.8197 - val_loss: 0.4954 - val_acc: 0.7950\n",
            "Epoch 44/120\n",
            "313/313 [==============================] - 3s 9ms/step - loss: 0.4280 - acc: 0.8412 - val_loss: 0.4380 - val_acc: 0.8180\n",
            "Epoch 45/120\n",
            "313/313 [==============================] - 3s 9ms/step - loss: 0.3991 - acc: 0.8498 - val_loss: 0.4051 - val_acc: 0.8540\n",
            "Epoch 46/120\n",
            "313/313 [==============================] - 3s 9ms/step - loss: 0.3611 - acc: 0.8653 - val_loss: 0.3919 - val_acc: 0.8470\n",
            "Epoch 47/120\n",
            "313/313 [==============================] - 3s 10ms/step - loss: 0.3339 - acc: 0.8757 - val_loss: 0.3687 - val_acc: 0.8610\n",
            "Epoch 48/120\n",
            "313/313 [==============================] - 3s 10ms/step - loss: 0.3157 - acc: 0.8832 - val_loss: 0.3615 - val_acc: 0.8670\n",
            "Epoch 49/120\n",
            "313/313 [==============================] - 3s 10ms/step - loss: 0.3052 - acc: 0.8856 - val_loss: 0.3600 - val_acc: 0.8700\n",
            "Epoch 50/120\n",
            "313/313 [==============================] - 3s 9ms/step - loss: 0.2826 - acc: 0.8936 - val_loss: 0.3522 - val_acc: 0.8680\n",
            "Epoch 51/120\n",
            "313/313 [==============================] - 3s 9ms/step - loss: 0.2797 - acc: 0.8990 - val_loss: 0.3402 - val_acc: 0.8730\n",
            "Epoch 52/120\n",
            "313/313 [==============================] - 3s 9ms/step - loss: 0.2653 - acc: 0.8989 - val_loss: 0.3359 - val_acc: 0.8830\n",
            "Epoch 53/120\n",
            "313/313 [==============================] - 3s 9ms/step - loss: 0.2501 - acc: 0.9059 - val_loss: 0.3337 - val_acc: 0.8830\n",
            "Epoch 54/120\n",
            "313/313 [==============================] - 3s 9ms/step - loss: 0.2320 - acc: 0.9146 - val_loss: 0.2935 - val_acc: 0.8990\n",
            "Epoch 55/120\n",
            "313/313 [==============================] - 3s 9ms/step - loss: 0.2244 - acc: 0.9193 - val_loss: 0.3034 - val_acc: 0.8890\n",
            "Epoch 56/120\n",
            "313/313 [==============================] - 3s 10ms/step - loss: 0.1955 - acc: 0.9290 - val_loss: 0.2635 - val_acc: 0.9090\n",
            "Epoch 57/120\n",
            "313/313 [==============================] - 3s 10ms/step - loss: 0.1900 - acc: 0.9326 - val_loss: 0.2597 - val_acc: 0.9040\n",
            "Epoch 58/120\n",
            "313/313 [==============================] - 3s 10ms/step - loss: 0.1759 - acc: 0.9393 - val_loss: 0.2260 - val_acc: 0.9150\n",
            "Epoch 59/120\n",
            "313/313 [==============================] - 3s 10ms/step - loss: 0.1627 - acc: 0.9432 - val_loss: 0.2528 - val_acc: 0.9160\n",
            "Epoch 60/120\n",
            "313/313 [==============================] - 3s 9ms/step - loss: 0.1517 - acc: 0.9479 - val_loss: 0.2240 - val_acc: 0.9270\n",
            "Epoch 61/120\n",
            "313/313 [==============================] - 3s 9ms/step - loss: 0.1357 - acc: 0.9537 - val_loss: 0.2427 - val_acc: 0.9180\n",
            "Epoch 62/120\n",
            "313/313 [==============================] - 3s 9ms/step - loss: 0.1245 - acc: 0.9569 - val_loss: 0.2211 - val_acc: 0.9340\n",
            "Epoch 63/120\n",
            "313/313 [==============================] - 3s 9ms/step - loss: 0.1241 - acc: 0.9563 - val_loss: 0.2121 - val_acc: 0.9440\n",
            "Epoch 64/120\n",
            "313/313 [==============================] - 3s 9ms/step - loss: 0.1231 - acc: 0.9584 - val_loss: 0.2003 - val_acc: 0.9380\n",
            "Epoch 65/120\n",
            "313/313 [==============================] - 3s 9ms/step - loss: 0.1039 - acc: 0.9645 - val_loss: 0.1826 - val_acc: 0.9510\n",
            "Epoch 66/120\n",
            "313/313 [==============================] - 3s 9ms/step - loss: 0.1039 - acc: 0.9617 - val_loss: 0.1830 - val_acc: 0.9470\n",
            "Epoch 67/120\n",
            "313/313 [==============================] - 3s 9ms/step - loss: 0.0989 - acc: 0.9660 - val_loss: 0.1756 - val_acc: 0.9530\n",
            "Epoch 68/120\n",
            "313/313 [==============================] - 3s 9ms/step - loss: 0.0930 - acc: 0.9700 - val_loss: 0.1969 - val_acc: 0.9380\n",
            "Epoch 69/120\n",
            "313/313 [==============================] - 3s 9ms/step - loss: 0.0978 - acc: 0.9670 - val_loss: 0.1684 - val_acc: 0.9470\n",
            "Epoch 70/120\n",
            "313/313 [==============================] - 3s 9ms/step - loss: 0.0935 - acc: 0.9675 - val_loss: 0.1957 - val_acc: 0.9500\n",
            "Epoch 71/120\n",
            "313/313 [==============================] - 3s 9ms/step - loss: 0.0884 - acc: 0.9718 - val_loss: 0.1763 - val_acc: 0.9480\n",
            "Epoch 72/120\n",
            "313/313 [==============================] - 3s 9ms/step - loss: 0.0918 - acc: 0.9687 - val_loss: 0.1844 - val_acc: 0.9480\n",
            "Epoch 73/120\n",
            "313/313 [==============================] - 3s 9ms/step - loss: 0.0840 - acc: 0.9719 - val_loss: 0.1725 - val_acc: 0.9410\n",
            "Epoch 74/120\n",
            "313/313 [==============================] - 3s 9ms/step - loss: 0.0797 - acc: 0.9723 - val_loss: 0.1468 - val_acc: 0.9610\n",
            "Epoch 75/120\n",
            "313/313 [==============================] - 3s 9ms/step - loss: 0.0731 - acc: 0.9742 - val_loss: 0.1750 - val_acc: 0.9500\n",
            "Epoch 76/120\n",
            "313/313 [==============================] - 3s 9ms/step - loss: 0.0695 - acc: 0.9753 - val_loss: 0.1958 - val_acc: 0.9500\n",
            "Epoch 77/120\n",
            "313/313 [==============================] - 3s 9ms/step - loss: 0.0683 - acc: 0.9760 - val_loss: 0.1686 - val_acc: 0.9600\n",
            "Epoch 78/120\n",
            "313/313 [==============================] - 3s 9ms/step - loss: 0.0660 - acc: 0.9785 - val_loss: 0.1914 - val_acc: 0.9540\n",
            "Epoch 79/120\n",
            "313/313 [==============================] - 3s 9ms/step - loss: 0.0655 - acc: 0.9799 - val_loss: 0.1633 - val_acc: 0.9550\n",
            "Epoch 80/120\n",
            "313/313 [==============================] - 3s 10ms/step - loss: 0.0595 - acc: 0.9796 - val_loss: 0.1844 - val_acc: 0.9450\n",
            "Epoch 81/120\n",
            "313/313 [==============================] - 3s 9ms/step - loss: 0.0597 - acc: 0.9799 - val_loss: 0.1724 - val_acc: 0.9580\n",
            "Epoch 82/120\n",
            "313/313 [==============================] - 3s 9ms/step - loss: 0.0576 - acc: 0.9817 - val_loss: 0.1769 - val_acc: 0.9600\n",
            "Epoch 83/120\n",
            "313/313 [==============================] - 3s 9ms/step - loss: 0.0551 - acc: 0.9819 - val_loss: 0.2082 - val_acc: 0.9490\n",
            "Epoch 84/120\n",
            "313/313 [==============================] - 3s 9ms/step - loss: 0.0613 - acc: 0.9791 - val_loss: 0.1810 - val_acc: 0.9570\n",
            "Epoch 85/120\n",
            "313/313 [==============================] - 3s 9ms/step - loss: 0.0515 - acc: 0.9818 - val_loss: 0.1917 - val_acc: 0.9550\n",
            "Epoch 86/120\n",
            "313/313 [==============================] - 3s 9ms/step - loss: 0.0557 - acc: 0.9821 - val_loss: 0.1770 - val_acc: 0.9550\n",
            "Epoch 87/120\n",
            "313/313 [==============================] - 3s 9ms/step - loss: 0.0545 - acc: 0.9821 - val_loss: 0.1826 - val_acc: 0.9500\n",
            "Epoch 88/120\n",
            "313/313 [==============================] - 3s 9ms/step - loss: 0.0519 - acc: 0.9825 - val_loss: 0.1818 - val_acc: 0.9530\n",
            "Epoch 89/120\n",
            "313/313 [==============================] - 3s 9ms/step - loss: 0.0513 - acc: 0.9831 - val_loss: 0.1761 - val_acc: 0.9540\n",
            "Epoch 90/120\n",
            "313/313 [==============================] - 3s 9ms/step - loss: 0.0494 - acc: 0.9824 - val_loss: 0.1544 - val_acc: 0.9630\n",
            "Epoch 91/120\n",
            "313/313 [==============================] - 3s 9ms/step - loss: 0.0479 - acc: 0.9849 - val_loss: 0.1858 - val_acc: 0.9550\n",
            "Epoch 92/120\n",
            "313/313 [==============================] - 3s 9ms/step - loss: 0.0498 - acc: 0.9836 - val_loss: 0.1558 - val_acc: 0.9600\n",
            "Epoch 93/120\n",
            "313/313 [==============================] - 3s 9ms/step - loss: 0.0552 - acc: 0.9828 - val_loss: 0.1564 - val_acc: 0.9660\n",
            "Epoch 94/120\n",
            "313/313 [==============================] - 3s 9ms/step - loss: 0.0560 - acc: 0.9823 - val_loss: 0.1538 - val_acc: 0.9540\n",
            "Epoch 95/120\n",
            "313/313 [==============================] - 3s 9ms/step - loss: 0.0424 - acc: 0.9874 - val_loss: 0.1642 - val_acc: 0.9610\n",
            "Epoch 96/120\n",
            "313/313 [==============================] - 3s 9ms/step - loss: 0.0483 - acc: 0.9858 - val_loss: 0.1700 - val_acc: 0.9560\n",
            "Epoch 97/120\n",
            "313/313 [==============================] - 3s 9ms/step - loss: 0.0402 - acc: 0.9874 - val_loss: 0.1417 - val_acc: 0.9580\n",
            "Epoch 98/120\n",
            "313/313 [==============================] - 3s 9ms/step - loss: 0.0458 - acc: 0.9861 - val_loss: 0.1722 - val_acc: 0.9540\n",
            "Epoch 99/120\n",
            "313/313 [==============================] - 3s 9ms/step - loss: 0.0404 - acc: 0.9879 - val_loss: 0.1669 - val_acc: 0.9620\n",
            "Epoch 100/120\n",
            "313/313 [==============================] - 3s 9ms/step - loss: 0.0399 - acc: 0.9869 - val_loss: 0.1535 - val_acc: 0.9640\n",
            "Epoch 101/120\n",
            "313/313 [==============================] - 3s 9ms/step - loss: 0.0420 - acc: 0.9865 - val_loss: 0.1501 - val_acc: 0.9650\n",
            "Epoch 102/120\n",
            "313/313 [==============================] - 3s 9ms/step - loss: 0.0403 - acc: 0.9888 - val_loss: 0.1470 - val_acc: 0.9630\n",
            "Epoch 103/120\n",
            "313/313 [==============================] - 3s 9ms/step - loss: 0.0430 - acc: 0.9857 - val_loss: 0.1540 - val_acc: 0.9600\n",
            "Epoch 104/120\n",
            "313/313 [==============================] - 3s 9ms/step - loss: 0.0427 - acc: 0.9872 - val_loss: 0.1484 - val_acc: 0.9660\n",
            "Epoch 105/120\n",
            "313/313 [==============================] - 3s 9ms/step - loss: 0.0377 - acc: 0.9885 - val_loss: 0.1365 - val_acc: 0.9620\n",
            "Epoch 106/120\n",
            "313/313 [==============================] - 3s 9ms/step - loss: 0.0423 - acc: 0.9873 - val_loss: 0.1414 - val_acc: 0.9670\n",
            "Epoch 107/120\n",
            "313/313 [==============================] - 3s 9ms/step - loss: 0.0348 - acc: 0.9894 - val_loss: 0.1795 - val_acc: 0.9600\n",
            "Epoch 108/120\n",
            "313/313 [==============================] - 3s 9ms/step - loss: 0.0413 - acc: 0.9884 - val_loss: 0.1425 - val_acc: 0.9630\n",
            "Epoch 109/120\n",
            "313/313 [==============================] - 3s 9ms/step - loss: 0.0376 - acc: 0.9878 - val_loss: 0.1754 - val_acc: 0.9610\n",
            "Epoch 110/120\n",
            "313/313 [==============================] - 3s 9ms/step - loss: 0.0393 - acc: 0.9892 - val_loss: 0.1506 - val_acc: 0.9640\n",
            "Epoch 111/120\n",
            "313/313 [==============================] - 3s 9ms/step - loss: 0.0345 - acc: 0.9886 - val_loss: 0.1503 - val_acc: 0.9680\n",
            "Epoch 112/120\n",
            "313/313 [==============================] - 3s 9ms/step - loss: 0.0332 - acc: 0.9903 - val_loss: 0.1339 - val_acc: 0.9720\n",
            "Epoch 113/120\n",
            "313/313 [==============================] - 3s 9ms/step - loss: 0.0353 - acc: 0.9901 - val_loss: 0.1445 - val_acc: 0.9660\n",
            "Epoch 114/120\n",
            "313/313 [==============================] - 3s 9ms/step - loss: 0.0372 - acc: 0.9880 - val_loss: 0.1446 - val_acc: 0.9670\n",
            "Epoch 115/120\n",
            "313/313 [==============================] - 3s 9ms/step - loss: 0.0330 - acc: 0.9888 - val_loss: 0.1427 - val_acc: 0.9630\n",
            "Epoch 116/120\n",
            "313/313 [==============================] - 3s 9ms/step - loss: 0.0310 - acc: 0.9907 - val_loss: 0.1371 - val_acc: 0.9730\n",
            "Epoch 117/120\n",
            "313/313 [==============================] - 3s 9ms/step - loss: 0.0430 - acc: 0.9875 - val_loss: 0.1511 - val_acc: 0.9600\n",
            "Epoch 118/120\n",
            "313/313 [==============================] - 3s 9ms/step - loss: 0.0353 - acc: 0.9892 - val_loss: 0.1468 - val_acc: 0.9660\n",
            "Epoch 119/120\n",
            "313/313 [==============================] - 3s 9ms/step - loss: 0.0355 - acc: 0.9887 - val_loss: 0.1582 - val_acc: 0.9620\n",
            "Epoch 120/120\n",
            "313/313 [==============================] - 3s 9ms/step - loss: 0.0381 - acc: 0.9894 - val_loss: 0.1247 - val_acc: 0.9680\n"
          ],
          "name": "stdout"
        }
      ]
    },
    {
      "cell_type": "code",
      "metadata": {
        "colab": {
          "base_uri": "https://localhost:8080/"
        },
        "id": "664z_5LIUg8n",
        "outputId": "cd849302-8882-4c65-fc64-74e45835d2e2"
      },
      "source": [
        "print(\"\\n 테스트 정확도: %.4f\" % (model.evaluate([Xstest, Xqtest], Ytest)[1]))"
      ],
      "execution_count": 29,
      "outputs": [
        {
          "output_type": "stream",
          "text": [
            "32/32 [==============================] - 0s 2ms/step - loss: 0.1247 - acc: 0.9680\n",
            "\n",
            " 테스트 정확도: 0.9680\n"
          ],
          "name": "stdout"
        }
      ]
    },
    {
      "cell_type": "code",
      "metadata": {
        "colab": {
          "base_uri": "https://localhost:8080/",
          "height": 297
        },
        "id": "18X0hFYYUhZ2",
        "outputId": "92ab56ca-9f5a-4849-82ae-76f082dd8881"
      },
      "source": [
        "plt.subplot(211)\n",
        "plt.title(\"Accuracy\")\n",
        "plt.plot(history.history[\"acc\"], color=\"g\", label=\"train\")\n",
        "plt.plot(history.history[\"val_acc\"], color=\"b\", label=\"validation\")\n",
        "plt.legend(loc=\"best\")\n",
        "\n",
        "plt.subplot(212)\n",
        "plt.title(\"Loss\")\n",
        "plt.plot(history.history[\"loss\"], color=\"g\", label=\"train\")\n",
        "plt.plot(history.history[\"val_loss\"], color=\"b\", label=\"validation\")\n",
        "plt.legend(loc=\"best\")\n",
        "\n",
        "plt.tight_layout()\n",
        "plt.show()\n",
        "\n",
        "ytest = np.argmax(Ytest, axis=1)\n",
        "Ytest_ = model.predict([Xstest, Xqtest])\n",
        "ytest_ = np.argmax(Ytest_, axis=1)"
      ],
      "execution_count": 30,
      "outputs": [
        {
          "output_type": "display_data",
          "data": {
            "image/png": "[encoded data removed]",
            "text/plain": [
              "<Figure size 432x288 with 2 Axes>"
            ]
          },
          "metadata": {
            "tags": [],
            "needs_background": "light"
          }
        }
      ]
    }
  ]
}