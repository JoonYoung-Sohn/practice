{
  "nbformat": 4,
  "nbformat_minor": 0,
  "metadata": {
    "colab": {
      "name": "FastAI-Why_good_init.ipynb",
      "provenance": [],
      "collapsed_sections": [],
      "authorship_tag": "ABX9TyM02pHXAYTFb/hySXZiyz8B",
      "include_colab_link": true
    },
    "kernelspec": {
      "name": "python3",
      "display_name": "Python 3"
    }
  },
  "cells": [
    {
      "cell_type": "markdown",
      "metadata": {
        "id": "view-in-github",
        "colab_type": "text"
      },
      "source": [
        "<a href=\"https://colab.research.google.com/github/JoonYoung-Sohn/practice/blob/master/FastAI_Why_good_init.ipynb\" target=\"_parent\"><img src=\"https://colab.research.google.com/assets/colab-badge.svg\" alt=\"Open In Colab\"/></a>"
      ]
    },
    {
      "cell_type": "code",
      "metadata": {
        "id": "hrbpVvM9qk9h"
      },
      "source": [
        "import torch"
      ],
      "execution_count": 1,
      "outputs": []
    },
    {
      "cell_type": "code",
      "metadata": {
        "id": "bFQ-2NXyqtk4"
      },
      "source": [
        "x = torch.randn(512)\n",
        "a = torch.randn(512,512)"
      ],
      "execution_count": 2,
      "outputs": []
    },
    {
      "cell_type": "code",
      "metadata": {
        "id": "DnWXjHjGqvG2"
      },
      "source": [
        "for i in range(100):\n",
        "  x = a @ x"
      ],
      "execution_count": 3,
      "outputs": []
    },
    {
      "cell_type": "code",
      "metadata": {
        "colab": {
          "base_uri": "https://localhost:8080/"
        },
        "id": "UQfQ_yPHqxIC",
        "outputId": "6863007c-121c-4c90-befc-b1a7fd051a0e"
      },
      "source": [
        "x.mean(),x.std()"
      ],
      "execution_count": 4,
      "outputs": [
        {
          "output_type": "execute_result",
          "data": {
            "text/plain": [
              "(tensor(nan), tensor(nan))"
            ]
          },
          "metadata": {
            "tags": []
          },
          "execution_count": 4
        }
      ]
    },
    {
      "cell_type": "code",
      "metadata": {
        "id": "rJObLc7Fqyjq"
      },
      "source": [
        "x = torch.randn(512)\n",
        "a = torch.randn(512,512)"
      ],
      "execution_count": 5,
      "outputs": []
    },
    {
      "cell_type": "code",
      "metadata": {
        "id": "VYJp7iUBq0Vt"
      },
      "source": [
        "for i in range(100): \n",
        "    x = a @ x\n",
        "    if x.std() != x.std():\n",
        "      break"
      ],
      "execution_count": 6,
      "outputs": []
    },
    {
      "cell_type": "code",
      "metadata": {
        "colab": {
          "base_uri": "https://localhost:8080/"
        },
        "id": "QJH4FL1pq2Yp",
        "outputId": "febc4b32-aa51-4074-af80-c361f6c7d4aa"
      },
      "source": [
        "i"
      ],
      "execution_count": 7,
      "outputs": [
        {
          "output_type": "execute_result",
          "data": {
            "text/plain": [
              "27"
            ]
          },
          "metadata": {
            "tags": []
          },
          "execution_count": 7
        }
      ]
    },
    {
      "cell_type": "code",
      "metadata": {
        "id": "hPuebCZ6q3O4"
      },
      "source": [
        "x = torch.randn(512)\n",
        "a = torch.randn(512,512) * 0.01"
      ],
      "execution_count": 8,
      "outputs": []
    },
    {
      "cell_type": "code",
      "metadata": {
        "id": "eWUa-u4Gq8ZM"
      },
      "source": [
        "for i in range(100):\n",
        "  x = a @ x"
      ],
      "execution_count": 9,
      "outputs": []
    },
    {
      "cell_type": "code",
      "metadata": {
        "colab": {
          "base_uri": "https://localhost:8080/"
        },
        "id": "OKs5ArG1q_qG",
        "outputId": "07e739f1-dcb9-4a2d-b4c1-e1e7cef2855c"
      },
      "source": [
        "x.mean(),x.std()"
      ],
      "execution_count": 10,
      "outputs": [
        {
          "output_type": "execute_result",
          "data": {
            "text/plain": [
              "(tensor(0.), tensor(0.))"
            ]
          },
          "metadata": {
            "tags": []
          },
          "execution_count": 10
        }
      ]
    },
    {
      "cell_type": "markdown",
      "metadata": {
        "id": "zPcN4p8brEEb"
      },
      "source": [
        "Xavier initialization"
      ]
    },
    {
      "cell_type": "code",
      "metadata": {
        "id": "ZZHrNRQWrIww"
      },
      "source": [
        "import math"
      ],
      "execution_count": 11,
      "outputs": []
    },
    {
      "cell_type": "code",
      "metadata": {
        "id": "FGzKGBaGrJqG"
      },
      "source": [
        "x = torch.randn(512)\n",
        "a = torch.randn(512,512) / math.sqrt(512)"
      ],
      "execution_count": 12,
      "outputs": []
    },
    {
      "cell_type": "code",
      "metadata": {
        "id": "ZVuJMSF3rOP_"
      },
      "source": [
        "for i in range(100):\n",
        "  x = a @ x"
      ],
      "execution_count": 13,
      "outputs": []
    },
    {
      "cell_type": "code",
      "metadata": {
        "colab": {
          "base_uri": "https://localhost:8080/"
        },
        "id": "SK7xP0VxrQfI",
        "outputId": "4f13cd80-09c6-47e5-da6e-b9827764e338"
      },
      "source": [
        "x.mean(),x.std()"
      ],
      "execution_count": 14,
      "outputs": [
        {
          "output_type": "execute_result",
          "data": {
            "text/plain": [
              "(tensor(0.0118), tensor(0.8063))"
            ]
          },
          "metadata": {
            "tags": []
          },
          "execution_count": 14
        }
      ]
    },
    {
      "cell_type": "code",
      "metadata": {
        "colab": {
          "base_uri": "https://localhost:8080/"
        },
        "id": "MWye_TebrS26",
        "outputId": "4c974db3-ac08-4f0b-d804-ded7187bc2a1"
      },
      "source": [
        "1/ math.sqrt(512)"
      ],
      "execution_count": 15,
      "outputs": [
        {
          "output_type": "execute_result",
          "data": {
            "text/plain": [
              "0.044194173824159216"
            ]
          },
          "metadata": {
            "tags": []
          },
          "execution_count": 15
        }
      ]
    },
    {
      "cell_type": "code",
      "metadata": {
        "colab": {
          "base_uri": "https://localhost:8080/"
        },
        "id": "udZ9FN-TrXS9",
        "outputId": "077adf4a-b75c-4da0-d37b-aeba79e008e1"
      },
      "source": [
        "x = torch.randn(512)\n",
        "x.mean(), x.std()"
      ],
      "execution_count": 16,
      "outputs": [
        {
          "output_type": "execute_result",
          "data": {
            "text/plain": [
              "(tensor(-0.0011), tensor(1.0034))"
            ]
          },
          "metadata": {
            "tags": []
          },
          "execution_count": 16
        }
      ]
    },
    {
      "cell_type": "code",
      "metadata": {
        "colab": {
          "base_uri": "https://localhost:8080/"
        },
        "id": "Jgm_G8KnrzRQ",
        "outputId": "c90ad544-51ff-4a3c-9bf3-5dab8b6d8b91"
      },
      "source": [
        "mean,sqr = 0.,0.\n",
        "for i in range(100):\n",
        "    x = torch.randn(512)\n",
        "    a = torch.randn(512, 512)\n",
        "    y = a @ x\n",
        "    mean += y.mean().item()\n",
        "    sqr  += y.pow(2).mean().item()\n",
        "mean/100,sqr/100"
      ],
      "execution_count": 17,
      "outputs": [
        {
          "output_type": "execute_result",
          "data": {
            "text/plain": [
              "(0.11825885638594627, 512.3011303710938)"
            ]
          },
          "metadata": {
            "tags": []
          },
          "execution_count": 17
        }
      ]
    },
    {
      "cell_type": "code",
      "metadata": {
        "colab": {
          "base_uri": "https://localhost:8080/"
        },
        "id": "DLR7TOEnsCKZ",
        "outputId": "78c0fd86-7f09-469f-badc-d1a319465631"
      },
      "source": [
        "mean,sqr = 0.,0.\n",
        "for i in range(10000):\n",
        "    x = torch.randn(1)\n",
        "    a = torch.randn(1)\n",
        "    y = a*x\n",
        "    mean += y.item()\n",
        "    sqr  += y.pow(2).item()\n",
        "mean/10000,sqr/10000"
      ],
      "execution_count": 18,
      "outputs": [
        {
          "output_type": "execute_result",
          "data": {
            "text/plain": [
              "(0.01767450383418982, 1.0161047329436024)"
            ]
          },
          "metadata": {
            "tags": []
          },
          "execution_count": 18
        }
      ]
    },
    {
      "cell_type": "code",
      "metadata": {
        "colab": {
          "base_uri": "https://localhost:8080/"
        },
        "id": "KTNNvYD7sJ8x",
        "outputId": "b9ddcc45-fb3e-442f-9db9-419a60f0409b"
      },
      "source": [
        "mean,sqr = 0.,0.\n",
        "for i in range(10000):\n",
        "    x = torch.randn(1)\n",
        "    a = torch.randn(1)\n",
        "    y = a*x\n",
        "    y = 0 if y < 0 else y.item()\n",
        "    mean += y\n",
        "    sqr  += y ** 2\n",
        "mean/10000,sqr/10000"
      ],
      "execution_count": 19,
      "outputs": [
        {
          "output_type": "execute_result",
          "data": {
            "text/plain": [
              "(0.313833540385129, 0.491706640882253)"
            ]
          },
          "metadata": {
            "tags": []
          },
          "execution_count": 19
        }
      ]
    },
    {
      "cell_type": "code",
      "metadata": {
        "colab": {
          "base_uri": "https://localhost:8080/"
        },
        "id": "WUAS-_j2sU5P",
        "outputId": "921c313e-f8c8-4b68-b13a-216f314dcc2a"
      },
      "source": [
        "mean,sqr = 0.,0.\n",
        "for i in range(100):\n",
        "    x = torch.randn(512)\n",
        "    a = torch.randn(512, 512)\n",
        "    y = a @ x\n",
        "    y = y.clamp(min=0)\n",
        "    mean += y.mean().item()\n",
        "    sqr  += y.pow(2).mean().item()\n",
        "mean/100,sqr/100"
      ],
      "execution_count": 20,
      "outputs": [
        {
          "output_type": "execute_result",
          "data": {
            "text/plain": [
              "(8.962287120819092, 253.00183334350587)"
            ]
          },
          "metadata": {
            "tags": []
          },
          "execution_count": 20
        }
      ]
    },
    {
      "cell_type": "code",
      "metadata": {
        "colab": {
          "base_uri": "https://localhost:8080/"
        },
        "id": "FE90ISc3sX9V",
        "outputId": "de0d3fbc-3127-47d2-a124-312ced1473c9"
      },
      "source": [
        "mean,sqr = 0.,0.\n",
        "for i in range(100):\n",
        "    x = torch.randn(512)\n",
        "    a = torch.randn(512, 512) * math.sqrt(2/512)\n",
        "    y = a @ x\n",
        "    y = y.clamp(min=0)\n",
        "    mean += y.mean().item()\n",
        "    sqr  += y.pow(2).mean().item()\n",
        "mean/100,sqr/100"
      ],
      "execution_count": 21,
      "outputs": [
        {
          "output_type": "execute_result",
          "data": {
            "text/plain": [
              "(0.5662426292896271, 1.0081290286779403)"
            ]
          },
          "metadata": {
            "tags": []
          },
          "execution_count": 21
        }
      ]
    }
  ]
}