{
  "nbformat": 4,
  "nbformat_minor": 0,
  "metadata": {
    "colab": {
      "name": "201227_dataprocessing.ipynb",
      "provenance": [],
      "authorship_tag": "ABX9TyOo4w/ZsQaJSUv3K7kMAfgd",
      "include_colab_link": true
    },
    "kernelspec": {
      "name": "python3",
      "display_name": "Python 3"
    }
  },
  "cells": [
    {
      "cell_type": "markdown",
      "metadata": {
        "id": "view-in-github",
        "colab_type": "text"
      },
      "source": [
        "<a href=\"https://colab.research.google.com/github/JoonYoung-Sohn/practice/blob/master/Disease%20Prediction/201227_dataprocessing.ipynb\" target=\"_parent\"><img src=\"https://colab.research.google.com/assets/colab-badge.svg\" alt=\"Open In Colab\"/></a>"
      ]
    },
    {
      "cell_type": "markdown",
      "metadata": {
        "id": "sJkurt27J2a-"
      },
      "source": [
        "jk, gj, t1의 데이터셋 연도, 사람 별로 통합\n",
        "\n",
        "DFAB 장애는 한번 정해지면 그 후년도도 반영되는걸로"
      ]
    },
    {
      "cell_type": "code",
      "metadata": {
        "colab": {
          "base_uri": "https://localhost:8080/"
        },
        "id": "lbhMO6HQJzKy",
        "outputId": "91545b0d-863b-4249-a93a-4bed9c18ed40"
      },
      "source": [
        "from google.colab import drive\n",
        "drive.mount('/gdrive', force_remount=True)\n",
        "import pandas as pd"
      ],
      "execution_count": 1,
      "outputs": [
        {
          "output_type": "stream",
          "text": [
            "Mounted at /gdrive\n"
          ],
          "name": "stdout"
        }
      ]
    },
    {
      "cell_type": "code",
      "metadata": {
        "colab": {
          "base_uri": "https://localhost:8080/",
          "height": 204
        },
        "id": "hTxWq3OhKGGo",
        "outputId": "27400032-d4ef-4f05-edbf-22b85cd8a626"
      },
      "source": [
        "jk=pd.read_csv('/gdrive/My Drive/Disease Prediction/01.jk/jk_clean.csv')\n",
        "jk.head()"
      ],
      "execution_count": 2,
      "outputs": [
        {
          "output_type": "execute_result",
          "data": {
            "text/html": [
              "<div>\n",
              "<style scoped>\n",
              "    .dataframe tbody tr th:only-of-type {\n",
              "        vertical-align: middle;\n",
              "    }\n",
              "\n",
              "    .dataframe tbody tr th {\n",
              "        vertical-align: top;\n",
              "    }\n",
              "\n",
              "    .dataframe thead th {\n",
              "        text-align: right;\n",
              "    }\n",
              "</style>\n",
              "<table border=\"1\" class=\"dataframe\">\n",
              "  <thead>\n",
              "    <tr style=\"text-align: right;\">\n",
              "      <th></th>\n",
              "      <th>Unnamed: 0</th>\n",
              "      <th>STND_Y</th>\n",
              "      <th>PERSON_ID</th>\n",
              "      <th>SEX</th>\n",
              "      <th>AGE</th>\n",
              "      <th>DFAB_1</th>\n",
              "      <th>DFAB_2</th>\n",
              "      <th>DFAB_3</th>\n",
              "      <th>DFAB_4</th>\n",
              "      <th>DFAB_5</th>\n",
              "      <th>DFAB_6</th>\n",
              "      <th>DFAB_7</th>\n",
              "      <th>DFAB_9</th>\n",
              "    </tr>\n",
              "  </thead>\n",
              "  <tbody>\n",
              "    <tr>\n",
              "      <th>0</th>\n",
              "      <td>0</td>\n",
              "      <td>2002</td>\n",
              "      <td>10000244</td>\n",
              "      <td>2</td>\n",
              "      <td>102.0</td>\n",
              "      <td>0</td>\n",
              "      <td>0</td>\n",
              "      <td>0</td>\n",
              "      <td>0</td>\n",
              "      <td>0</td>\n",
              "      <td>0</td>\n",
              "      <td>0</td>\n",
              "      <td>0</td>\n",
              "    </tr>\n",
              "    <tr>\n",
              "      <th>1</th>\n",
              "      <td>1</td>\n",
              "      <td>2002</td>\n",
              "      <td>10000284</td>\n",
              "      <td>2</td>\n",
              "      <td>102.0</td>\n",
              "      <td>0</td>\n",
              "      <td>0</td>\n",
              "      <td>0</td>\n",
              "      <td>0</td>\n",
              "      <td>0</td>\n",
              "      <td>0</td>\n",
              "      <td>0</td>\n",
              "      <td>0</td>\n",
              "    </tr>\n",
              "    <tr>\n",
              "      <th>2</th>\n",
              "      <td>2</td>\n",
              "      <td>2002</td>\n",
              "      <td>10000309</td>\n",
              "      <td>2</td>\n",
              "      <td>102.0</td>\n",
              "      <td>0</td>\n",
              "      <td>0</td>\n",
              "      <td>0</td>\n",
              "      <td>0</td>\n",
              "      <td>0</td>\n",
              "      <td>0</td>\n",
              "      <td>0</td>\n",
              "      <td>0</td>\n",
              "    </tr>\n",
              "    <tr>\n",
              "      <th>3</th>\n",
              "      <td>3</td>\n",
              "      <td>2002</td>\n",
              "      <td>10000325</td>\n",
              "      <td>2</td>\n",
              "      <td>102.0</td>\n",
              "      <td>0</td>\n",
              "      <td>0</td>\n",
              "      <td>0</td>\n",
              "      <td>0</td>\n",
              "      <td>0</td>\n",
              "      <td>0</td>\n",
              "      <td>0</td>\n",
              "      <td>0</td>\n",
              "    </tr>\n",
              "    <tr>\n",
              "      <th>4</th>\n",
              "      <td>4</td>\n",
              "      <td>2002</td>\n",
              "      <td>10000439</td>\n",
              "      <td>2</td>\n",
              "      <td>102.0</td>\n",
              "      <td>0</td>\n",
              "      <td>0</td>\n",
              "      <td>0</td>\n",
              "      <td>0</td>\n",
              "      <td>0</td>\n",
              "      <td>0</td>\n",
              "      <td>0</td>\n",
              "      <td>0</td>\n",
              "    </tr>\n",
              "  </tbody>\n",
              "</table>\n",
              "</div>"
            ],
            "text/plain": [
              "   Unnamed: 0  STND_Y  PERSON_ID  SEX  ...  DFAB_5  DFAB_6  DFAB_7  DFAB_9\n",
              "0           0    2002   10000244    2  ...       0       0       0       0\n",
              "1           1    2002   10000284    2  ...       0       0       0       0\n",
              "2           2    2002   10000309    2  ...       0       0       0       0\n",
              "3           3    2002   10000325    2  ...       0       0       0       0\n",
              "4           4    2002   10000439    2  ...       0       0       0       0\n",
              "\n",
              "[5 rows x 13 columns]"
            ]
          },
          "metadata": {
            "tags": []
          },
          "execution_count": 2
        }
      ]
    },
    {
      "cell_type": "code",
      "metadata": {
        "colab": {
          "base_uri": "https://localhost:8080/"
        },
        "id": "X2kJTEtbKqI0",
        "outputId": "0da40cce-5995-4593-9d0b-13b69d06e26e"
      },
      "source": [
        "jk.columns"
      ],
      "execution_count": 3,
      "outputs": [
        {
          "output_type": "execute_result",
          "data": {
            "text/plain": [
              "Index(['Unnamed: 0', 'STND_Y', 'PERSON_ID', 'SEX', 'AGE', 'DFAB_1', 'DFAB_2',\n",
              "       'DFAB_3', 'DFAB_4', 'DFAB_5', 'DFAB_6', 'DFAB_7', 'DFAB_9'],\n",
              "      dtype='object')"
            ]
          },
          "metadata": {
            "tags": []
          },
          "execution_count": 3
        }
      ]
    },
    {
      "cell_type": "code",
      "metadata": {
        "id": "_xzozNM6L5vY"
      },
      "source": [
        "jk['HCHK_YEAR'] = jk['STND_Y']"
      ],
      "execution_count": 4,
      "outputs": []
    },
    {
      "cell_type": "code",
      "metadata": {
        "id": "Lq32lxjEKs64"
      },
      "source": [
        "jk = jk[['HCHK_YEAR', 'PERSON_ID', 'SEX', 'AGE', 'DFAB_1', 'DFAB_2',\n",
        "       'DFAB_3', 'DFAB_4', 'DFAB_5', 'DFAB_6', 'DFAB_7', 'DFAB_9']]"
      ],
      "execution_count": 5,
      "outputs": []
    },
    {
      "cell_type": "code",
      "metadata": {
        "colab": {
          "base_uri": "https://localhost:8080/",
          "height": 241
        },
        "id": "iHWPgkGNKNI2",
        "outputId": "eec69a45-3935-41e5-9281-95d6578aede8"
      },
      "source": [
        "gj=pd.read_csv('/gdrive/My Drive/Disease Prediction/12.gj/gj_clean.csv')\n",
        "gj.head()"
      ],
      "execution_count": 6,
      "outputs": [
        {
          "output_type": "execute_result",
          "data": {
            "text/html": [
              "<div>\n",
              "<style scoped>\n",
              "    .dataframe tbody tr th:only-of-type {\n",
              "        vertical-align: middle;\n",
              "    }\n",
              "\n",
              "    .dataframe tbody tr th {\n",
              "        vertical-align: top;\n",
              "    }\n",
              "\n",
              "    .dataframe thead th {\n",
              "        text-align: right;\n",
              "    }\n",
              "</style>\n",
              "<table border=\"1\" class=\"dataframe\">\n",
              "  <thead>\n",
              "    <tr style=\"text-align: right;\">\n",
              "      <th></th>\n",
              "      <th>Unnamed: 0</th>\n",
              "      <th>HCHK_YEAR</th>\n",
              "      <th>PERSON_ID</th>\n",
              "      <th>HEIGHT</th>\n",
              "      <th>WEIGHT</th>\n",
              "      <th>BP_HIGH</th>\n",
              "      <th>BP_LWST</th>\n",
              "      <th>BLDS</th>\n",
              "      <th>TOT_CHOLE</th>\n",
              "      <th>HMG</th>\n",
              "      <th>OLIG_PROTE_CD</th>\n",
              "      <th>SGOT_AST</th>\n",
              "      <th>SGPT_ALT</th>\n",
              "      <th>GAMMA_GTP</th>\n",
              "      <th>FMLY_HPRTS_PATIEN_YN</th>\n",
              "      <th>FMLY_APOP_PATIEN_YN</th>\n",
              "      <th>FMLY_HDISE_PATIEN_YN</th>\n",
              "      <th>FMLY_DIABML_PATIEN_YN</th>\n",
              "      <th>FMLY_CANCER_PATIEN_YN</th>\n",
              "      <th>SMK_STAT_TYPE_RSPS_CD</th>\n",
              "      <th>SMK_TERM_RSPS_CD</th>\n",
              "      <th>DSQTY_RSPS_CD</th>\n",
              "      <th>DRNK_HABIT_RSPS_CD</th>\n",
              "      <th>TM1_DRKQTY_RSPS_CD</th>\n",
              "      <th>HCHK_APOP_PMH_YN</th>\n",
              "      <th>HCHK_HDISE_PMH_YN</th>\n",
              "      <th>HCHK_HPRTS_PMH_YN</th>\n",
              "      <th>HCHK_DIABML_PMH_YN</th>\n",
              "      <th>HCHK_HPLPDM_PMH_YN</th>\n",
              "      <th>HCHK_ETCDSE_PMH_YN</th>\n",
              "      <th>HCHK_PHSS_PMH_YN</th>\n",
              "    </tr>\n",
              "  </thead>\n",
              "  <tbody>\n",
              "    <tr>\n",
              "      <th>0</th>\n",
              "      <td>0</td>\n",
              "      <td>2002</td>\n",
              "      <td>10040729</td>\n",
              "      <td>143.0</td>\n",
              "      <td>46.0</td>\n",
              "      <td>117.0</td>\n",
              "      <td>69.0</td>\n",
              "      <td>90.0</td>\n",
              "      <td>142.0</td>\n",
              "      <td>12.099609</td>\n",
              "      <td>1.0</td>\n",
              "      <td>28.0</td>\n",
              "      <td>26.0</td>\n",
              "      <td>13.0</td>\n",
              "      <td>0.0</td>\n",
              "      <td>0.0</td>\n",
              "      <td>0.0</td>\n",
              "      <td>0.0</td>\n",
              "      <td>0.0</td>\n",
              "      <td>1.0</td>\n",
              "      <td>0.0</td>\n",
              "      <td>0.0</td>\n",
              "      <td>1.0</td>\n",
              "      <td>2.0</td>\n",
              "      <td>0.0</td>\n",
              "      <td>0.0</td>\n",
              "      <td>0.0</td>\n",
              "      <td>0.0</td>\n",
              "      <td>0.0</td>\n",
              "      <td>0.0</td>\n",
              "      <td>0.0</td>\n",
              "    </tr>\n",
              "    <tr>\n",
              "      <th>1</th>\n",
              "      <td>1</td>\n",
              "      <td>2002</td>\n",
              "      <td>10081483</td>\n",
              "      <td>133.0</td>\n",
              "      <td>33.0</td>\n",
              "      <td>151.0</td>\n",
              "      <td>75.0</td>\n",
              "      <td>105.0</td>\n",
              "      <td>176.0</td>\n",
              "      <td>11.500000</td>\n",
              "      <td>1.0</td>\n",
              "      <td>13.0</td>\n",
              "      <td>8.0</td>\n",
              "      <td>20.0</td>\n",
              "      <td>0.0</td>\n",
              "      <td>0.0</td>\n",
              "      <td>0.0</td>\n",
              "      <td>0.0</td>\n",
              "      <td>0.0</td>\n",
              "      <td>1.0</td>\n",
              "      <td>0.0</td>\n",
              "      <td>0.0</td>\n",
              "      <td>1.0</td>\n",
              "      <td>2.0</td>\n",
              "      <td>0.0</td>\n",
              "      <td>0.0</td>\n",
              "      <td>0.0</td>\n",
              "      <td>0.0</td>\n",
              "      <td>0.0</td>\n",
              "      <td>0.0</td>\n",
              "      <td>0.0</td>\n",
              "    </tr>\n",
              "    <tr>\n",
              "      <th>2</th>\n",
              "      <td>2</td>\n",
              "      <td>2002</td>\n",
              "      <td>10088025</td>\n",
              "      <td>164.0</td>\n",
              "      <td>47.0</td>\n",
              "      <td>130.0</td>\n",
              "      <td>80.0</td>\n",
              "      <td>106.0</td>\n",
              "      <td>135.0</td>\n",
              "      <td>11.699219</td>\n",
              "      <td>1.0</td>\n",
              "      <td>26.0</td>\n",
              "      <td>11.0</td>\n",
              "      <td>12.0</td>\n",
              "      <td>0.0</td>\n",
              "      <td>0.0</td>\n",
              "      <td>0.0</td>\n",
              "      <td>0.0</td>\n",
              "      <td>0.0</td>\n",
              "      <td>3.0</td>\n",
              "      <td>5.0</td>\n",
              "      <td>1.0</td>\n",
              "      <td>1.0</td>\n",
              "      <td>2.0</td>\n",
              "      <td>0.0</td>\n",
              "      <td>0.0</td>\n",
              "      <td>0.0</td>\n",
              "      <td>0.0</td>\n",
              "      <td>0.0</td>\n",
              "      <td>0.0</td>\n",
              "      <td>0.0</td>\n",
              "    </tr>\n",
              "    <tr>\n",
              "      <th>3</th>\n",
              "      <td>3</td>\n",
              "      <td>2002</td>\n",
              "      <td>10151226</td>\n",
              "      <td>146.0</td>\n",
              "      <td>65.0</td>\n",
              "      <td>150.0</td>\n",
              "      <td>70.0</td>\n",
              "      <td>69.0</td>\n",
              "      <td>162.0</td>\n",
              "      <td>12.000000</td>\n",
              "      <td>1.0</td>\n",
              "      <td>32.0</td>\n",
              "      <td>33.0</td>\n",
              "      <td>15.0</td>\n",
              "      <td>0.0</td>\n",
              "      <td>0.0</td>\n",
              "      <td>0.0</td>\n",
              "      <td>0.0</td>\n",
              "      <td>0.0</td>\n",
              "      <td>1.0</td>\n",
              "      <td>0.0</td>\n",
              "      <td>0.0</td>\n",
              "      <td>1.0</td>\n",
              "      <td>2.0</td>\n",
              "      <td>0.0</td>\n",
              "      <td>1.0</td>\n",
              "      <td>1.0</td>\n",
              "      <td>0.0</td>\n",
              "      <td>0.0</td>\n",
              "      <td>0.0</td>\n",
              "      <td>0.0</td>\n",
              "    </tr>\n",
              "    <tr>\n",
              "      <th>4</th>\n",
              "      <td>4</td>\n",
              "      <td>2002</td>\n",
              "      <td>10174763</td>\n",
              "      <td>133.0</td>\n",
              "      <td>29.0</td>\n",
              "      <td>140.0</td>\n",
              "      <td>90.0</td>\n",
              "      <td>99.0</td>\n",
              "      <td>178.0</td>\n",
              "      <td>13.000000</td>\n",
              "      <td>1.0</td>\n",
              "      <td>40.0</td>\n",
              "      <td>20.0</td>\n",
              "      <td>8.0</td>\n",
              "      <td>0.0</td>\n",
              "      <td>0.0</td>\n",
              "      <td>0.0</td>\n",
              "      <td>0.0</td>\n",
              "      <td>0.0</td>\n",
              "      <td>1.0</td>\n",
              "      <td>0.0</td>\n",
              "      <td>0.0</td>\n",
              "      <td>1.0</td>\n",
              "      <td>2.0</td>\n",
              "      <td>0.0</td>\n",
              "      <td>0.0</td>\n",
              "      <td>0.0</td>\n",
              "      <td>0.0</td>\n",
              "      <td>0.0</td>\n",
              "      <td>0.0</td>\n",
              "      <td>0.0</td>\n",
              "    </tr>\n",
              "  </tbody>\n",
              "</table>\n",
              "</div>"
            ],
            "text/plain": [
              "   Unnamed: 0  HCHK_YEAR  ...  HCHK_ETCDSE_PMH_YN  HCHK_PHSS_PMH_YN\n",
              "0           0       2002  ...                 0.0               0.0\n",
              "1           1       2002  ...                 0.0               0.0\n",
              "2           2       2002  ...                 0.0               0.0\n",
              "3           3       2002  ...                 0.0               0.0\n",
              "4           4       2002  ...                 0.0               0.0\n",
              "\n",
              "[5 rows x 31 columns]"
            ]
          },
          "metadata": {
            "tags": []
          },
          "execution_count": 6
        }
      ]
    },
    {
      "cell_type": "code",
      "metadata": {
        "colab": {
          "base_uri": "https://localhost:8080/"
        },
        "id": "dtsyTTOMKYfv",
        "outputId": "f62844a5-82d1-4f92-a644-46414810a9df"
      },
      "source": [
        "gj.columns"
      ],
      "execution_count": 7,
      "outputs": [
        {
          "output_type": "execute_result",
          "data": {
            "text/plain": [
              "Index(['Unnamed: 0', 'HCHK_YEAR', 'PERSON_ID', 'HEIGHT', 'WEIGHT', 'BP_HIGH',\n",
              "       'BP_LWST', 'BLDS', 'TOT_CHOLE', 'HMG', 'OLIG_PROTE_CD', 'SGOT_AST',\n",
              "       'SGPT_ALT', 'GAMMA_GTP', 'FMLY_HPRTS_PATIEN_YN', 'FMLY_APOP_PATIEN_YN',\n",
              "       'FMLY_HDISE_PATIEN_YN', 'FMLY_DIABML_PATIEN_YN',\n",
              "       'FMLY_CANCER_PATIEN_YN', 'SMK_STAT_TYPE_RSPS_CD', 'SMK_TERM_RSPS_CD',\n",
              "       'DSQTY_RSPS_CD', 'DRNK_HABIT_RSPS_CD', 'TM1_DRKQTY_RSPS_CD',\n",
              "       'HCHK_APOP_PMH_YN', 'HCHK_HDISE_PMH_YN', 'HCHK_HPRTS_PMH_YN',\n",
              "       'HCHK_DIABML_PMH_YN', 'HCHK_HPLPDM_PMH_YN', 'HCHK_ETCDSE_PMH_YN',\n",
              "       'HCHK_PHSS_PMH_YN'],\n",
              "      dtype='object')"
            ]
          },
          "metadata": {
            "tags": []
          },
          "execution_count": 7
        }
      ]
    },
    {
      "cell_type": "code",
      "metadata": {
        "id": "YuX5npPzKz8i"
      },
      "source": [
        "gj = gj[['HCHK_YEAR', 'PERSON_ID', 'HEIGHT', 'WEIGHT', 'BP_HIGH',\n",
        "       'BP_LWST', 'BLDS', 'TOT_CHOLE', 'HMG', 'OLIG_PROTE_CD', 'SGOT_AST',\n",
        "       'SGPT_ALT', 'GAMMA_GTP', 'FMLY_HPRTS_PATIEN_YN', 'FMLY_APOP_PATIEN_YN',\n",
        "       'FMLY_HDISE_PATIEN_YN', 'FMLY_DIABML_PATIEN_YN',\n",
        "       'FMLY_CANCER_PATIEN_YN', 'SMK_STAT_TYPE_RSPS_CD', 'SMK_TERM_RSPS_CD',\n",
        "       'DSQTY_RSPS_CD', 'DRNK_HABIT_RSPS_CD', 'TM1_DRKQTY_RSPS_CD',\n",
        "       'HCHK_APOP_PMH_YN', 'HCHK_HDISE_PMH_YN', 'HCHK_HPRTS_PMH_YN',\n",
        "       'HCHK_DIABML_PMH_YN', 'HCHK_HPLPDM_PMH_YN', 'HCHK_ETCDSE_PMH_YN',\n",
        "       'HCHK_PHSS_PMH_YN']]"
      ],
      "execution_count": 8,
      "outputs": []
    },
    {
      "cell_type": "code",
      "metadata": {
        "colab": {
          "base_uri": "https://localhost:8080/"
        },
        "id": "IrV9q2tJK33z",
        "outputId": "6ba1daec-e278-4309-f26e-584644e0a050"
      },
      "source": [
        "print(len(jk))\n",
        "print(len(gj))"
      ],
      "execution_count": 9,
      "outputs": [
        {
          "output_type": "stream",
          "text": [
            "5743773\n",
            "1051937\n"
          ],
          "name": "stdout"
        }
      ]
    },
    {
      "cell_type": "code",
      "metadata": {
        "id": "4FMTmDyzK9Oh"
      },
      "source": [
        "total = pd.merge(gj,jk, on = \"PERSON_ID\")"
      ],
      "execution_count": 10,
      "outputs": []
    },
    {
      "cell_type": "code",
      "metadata": {
        "colab": {
          "base_uri": "https://localhost:8080/",
          "height": 224
        },
        "id": "Tvke9DywMs7d",
        "outputId": "17c8f90a-419a-4d6d-ca81-3ff9af4d921d"
      },
      "source": [
        "total.head()"
      ],
      "execution_count": 11,
      "outputs": [
        {
          "output_type": "execute_result",
          "data": {
            "text/html": [
              "<div>\n",
              "<style scoped>\n",
              "    .dataframe tbody tr th:only-of-type {\n",
              "        vertical-align: middle;\n",
              "    }\n",
              "\n",
              "    .dataframe tbody tr th {\n",
              "        vertical-align: top;\n",
              "    }\n",
              "\n",
              "    .dataframe thead th {\n",
              "        text-align: right;\n",
              "    }\n",
              "</style>\n",
              "<table border=\"1\" class=\"dataframe\">\n",
              "  <thead>\n",
              "    <tr style=\"text-align: right;\">\n",
              "      <th></th>\n",
              "      <th>HCHK_YEAR_x</th>\n",
              "      <th>PERSON_ID</th>\n",
              "      <th>HEIGHT</th>\n",
              "      <th>WEIGHT</th>\n",
              "      <th>BP_HIGH</th>\n",
              "      <th>BP_LWST</th>\n",
              "      <th>BLDS</th>\n",
              "      <th>TOT_CHOLE</th>\n",
              "      <th>HMG</th>\n",
              "      <th>OLIG_PROTE_CD</th>\n",
              "      <th>SGOT_AST</th>\n",
              "      <th>SGPT_ALT</th>\n",
              "      <th>GAMMA_GTP</th>\n",
              "      <th>FMLY_HPRTS_PATIEN_YN</th>\n",
              "      <th>FMLY_APOP_PATIEN_YN</th>\n",
              "      <th>FMLY_HDISE_PATIEN_YN</th>\n",
              "      <th>FMLY_DIABML_PATIEN_YN</th>\n",
              "      <th>FMLY_CANCER_PATIEN_YN</th>\n",
              "      <th>SMK_STAT_TYPE_RSPS_CD</th>\n",
              "      <th>SMK_TERM_RSPS_CD</th>\n",
              "      <th>DSQTY_RSPS_CD</th>\n",
              "      <th>DRNK_HABIT_RSPS_CD</th>\n",
              "      <th>TM1_DRKQTY_RSPS_CD</th>\n",
              "      <th>HCHK_APOP_PMH_YN</th>\n",
              "      <th>HCHK_HDISE_PMH_YN</th>\n",
              "      <th>HCHK_HPRTS_PMH_YN</th>\n",
              "      <th>HCHK_DIABML_PMH_YN</th>\n",
              "      <th>HCHK_HPLPDM_PMH_YN</th>\n",
              "      <th>HCHK_ETCDSE_PMH_YN</th>\n",
              "      <th>HCHK_PHSS_PMH_YN</th>\n",
              "      <th>HCHK_YEAR_y</th>\n",
              "      <th>SEX</th>\n",
              "      <th>AGE</th>\n",
              "      <th>DFAB_1</th>\n",
              "      <th>DFAB_2</th>\n",
              "      <th>DFAB_3</th>\n",
              "      <th>DFAB_4</th>\n",
              "      <th>DFAB_5</th>\n",
              "      <th>DFAB_6</th>\n",
              "      <th>DFAB_7</th>\n",
              "      <th>DFAB_9</th>\n",
              "    </tr>\n",
              "  </thead>\n",
              "  <tbody>\n",
              "    <tr>\n",
              "      <th>0</th>\n",
              "      <td>2002</td>\n",
              "      <td>10040729</td>\n",
              "      <td>143.0</td>\n",
              "      <td>46.0</td>\n",
              "      <td>117.0</td>\n",
              "      <td>69.0</td>\n",
              "      <td>90.0</td>\n",
              "      <td>142.0</td>\n",
              "      <td>12.099609</td>\n",
              "      <td>1.0</td>\n",
              "      <td>28.0</td>\n",
              "      <td>26.0</td>\n",
              "      <td>13.0</td>\n",
              "      <td>0.0</td>\n",
              "      <td>0.0</td>\n",
              "      <td>0.0</td>\n",
              "      <td>0.0</td>\n",
              "      <td>0.0</td>\n",
              "      <td>1.0</td>\n",
              "      <td>0.0</td>\n",
              "      <td>0.0</td>\n",
              "      <td>1.0</td>\n",
              "      <td>2.0</td>\n",
              "      <td>0.0</td>\n",
              "      <td>0.0</td>\n",
              "      <td>0.0</td>\n",
              "      <td>0.0</td>\n",
              "      <td>0.0</td>\n",
              "      <td>0.0</td>\n",
              "      <td>0.0</td>\n",
              "      <td>2002</td>\n",
              "      <td>2</td>\n",
              "      <td>98.0</td>\n",
              "      <td>0</td>\n",
              "      <td>0</td>\n",
              "      <td>0</td>\n",
              "      <td>0</td>\n",
              "      <td>0</td>\n",
              "      <td>0</td>\n",
              "      <td>0</td>\n",
              "      <td>0</td>\n",
              "    </tr>\n",
              "    <tr>\n",
              "      <th>1</th>\n",
              "      <td>2002</td>\n",
              "      <td>10040729</td>\n",
              "      <td>143.0</td>\n",
              "      <td>46.0</td>\n",
              "      <td>117.0</td>\n",
              "      <td>69.0</td>\n",
              "      <td>90.0</td>\n",
              "      <td>142.0</td>\n",
              "      <td>12.099609</td>\n",
              "      <td>1.0</td>\n",
              "      <td>28.0</td>\n",
              "      <td>26.0</td>\n",
              "      <td>13.0</td>\n",
              "      <td>0.0</td>\n",
              "      <td>0.0</td>\n",
              "      <td>0.0</td>\n",
              "      <td>0.0</td>\n",
              "      <td>0.0</td>\n",
              "      <td>1.0</td>\n",
              "      <td>0.0</td>\n",
              "      <td>0.0</td>\n",
              "      <td>1.0</td>\n",
              "      <td>2.0</td>\n",
              "      <td>0.0</td>\n",
              "      <td>0.0</td>\n",
              "      <td>0.0</td>\n",
              "      <td>0.0</td>\n",
              "      <td>0.0</td>\n",
              "      <td>0.0</td>\n",
              "      <td>0.0</td>\n",
              "      <td>2003</td>\n",
              "      <td>2</td>\n",
              "      <td>99.0</td>\n",
              "      <td>0</td>\n",
              "      <td>0</td>\n",
              "      <td>0</td>\n",
              "      <td>0</td>\n",
              "      <td>0</td>\n",
              "      <td>0</td>\n",
              "      <td>0</td>\n",
              "      <td>0</td>\n",
              "    </tr>\n",
              "    <tr>\n",
              "      <th>2</th>\n",
              "      <td>2002</td>\n",
              "      <td>10040729</td>\n",
              "      <td>143.0</td>\n",
              "      <td>46.0</td>\n",
              "      <td>117.0</td>\n",
              "      <td>69.0</td>\n",
              "      <td>90.0</td>\n",
              "      <td>142.0</td>\n",
              "      <td>12.099609</td>\n",
              "      <td>1.0</td>\n",
              "      <td>28.0</td>\n",
              "      <td>26.0</td>\n",
              "      <td>13.0</td>\n",
              "      <td>0.0</td>\n",
              "      <td>0.0</td>\n",
              "      <td>0.0</td>\n",
              "      <td>0.0</td>\n",
              "      <td>0.0</td>\n",
              "      <td>1.0</td>\n",
              "      <td>0.0</td>\n",
              "      <td>0.0</td>\n",
              "      <td>1.0</td>\n",
              "      <td>2.0</td>\n",
              "      <td>0.0</td>\n",
              "      <td>0.0</td>\n",
              "      <td>0.0</td>\n",
              "      <td>0.0</td>\n",
              "      <td>0.0</td>\n",
              "      <td>0.0</td>\n",
              "      <td>0.0</td>\n",
              "      <td>2004</td>\n",
              "      <td>2</td>\n",
              "      <td>100.0</td>\n",
              "      <td>0</td>\n",
              "      <td>0</td>\n",
              "      <td>0</td>\n",
              "      <td>0</td>\n",
              "      <td>0</td>\n",
              "      <td>0</td>\n",
              "      <td>0</td>\n",
              "      <td>0</td>\n",
              "    </tr>\n",
              "    <tr>\n",
              "      <th>3</th>\n",
              "      <td>2002</td>\n",
              "      <td>10040729</td>\n",
              "      <td>143.0</td>\n",
              "      <td>46.0</td>\n",
              "      <td>117.0</td>\n",
              "      <td>69.0</td>\n",
              "      <td>90.0</td>\n",
              "      <td>142.0</td>\n",
              "      <td>12.099609</td>\n",
              "      <td>1.0</td>\n",
              "      <td>28.0</td>\n",
              "      <td>26.0</td>\n",
              "      <td>13.0</td>\n",
              "      <td>0.0</td>\n",
              "      <td>0.0</td>\n",
              "      <td>0.0</td>\n",
              "      <td>0.0</td>\n",
              "      <td>0.0</td>\n",
              "      <td>1.0</td>\n",
              "      <td>0.0</td>\n",
              "      <td>0.0</td>\n",
              "      <td>1.0</td>\n",
              "      <td>2.0</td>\n",
              "      <td>0.0</td>\n",
              "      <td>0.0</td>\n",
              "      <td>0.0</td>\n",
              "      <td>0.0</td>\n",
              "      <td>0.0</td>\n",
              "      <td>0.0</td>\n",
              "      <td>0.0</td>\n",
              "      <td>2005</td>\n",
              "      <td>2</td>\n",
              "      <td>101.0</td>\n",
              "      <td>0</td>\n",
              "      <td>0</td>\n",
              "      <td>0</td>\n",
              "      <td>0</td>\n",
              "      <td>0</td>\n",
              "      <td>0</td>\n",
              "      <td>0</td>\n",
              "      <td>0</td>\n",
              "    </tr>\n",
              "    <tr>\n",
              "      <th>4</th>\n",
              "      <td>2002</td>\n",
              "      <td>10081483</td>\n",
              "      <td>133.0</td>\n",
              "      <td>33.0</td>\n",
              "      <td>151.0</td>\n",
              "      <td>75.0</td>\n",
              "      <td>105.0</td>\n",
              "      <td>176.0</td>\n",
              "      <td>11.500000</td>\n",
              "      <td>1.0</td>\n",
              "      <td>13.0</td>\n",
              "      <td>8.0</td>\n",
              "      <td>20.0</td>\n",
              "      <td>0.0</td>\n",
              "      <td>0.0</td>\n",
              "      <td>0.0</td>\n",
              "      <td>0.0</td>\n",
              "      <td>0.0</td>\n",
              "      <td>1.0</td>\n",
              "      <td>0.0</td>\n",
              "      <td>0.0</td>\n",
              "      <td>1.0</td>\n",
              "      <td>2.0</td>\n",
              "      <td>0.0</td>\n",
              "      <td>0.0</td>\n",
              "      <td>0.0</td>\n",
              "      <td>0.0</td>\n",
              "      <td>0.0</td>\n",
              "      <td>0.0</td>\n",
              "      <td>0.0</td>\n",
              "      <td>2002</td>\n",
              "      <td>2</td>\n",
              "      <td>96.0</td>\n",
              "      <td>0</td>\n",
              "      <td>0</td>\n",
              "      <td>0</td>\n",
              "      <td>0</td>\n",
              "      <td>0</td>\n",
              "      <td>0</td>\n",
              "      <td>0</td>\n",
              "      <td>0</td>\n",
              "    </tr>\n",
              "  </tbody>\n",
              "</table>\n",
              "</div>"
            ],
            "text/plain": [
              "   HCHK_YEAR_x  PERSON_ID  HEIGHT  WEIGHT  ...  DFAB_5  DFAB_6  DFAB_7  DFAB_9\n",
              "0         2002   10040729   143.0    46.0  ...       0       0       0       0\n",
              "1         2002   10040729   143.0    46.0  ...       0       0       0       0\n",
              "2         2002   10040729   143.0    46.0  ...       0       0       0       0\n",
              "3         2002   10040729   143.0    46.0  ...       0       0       0       0\n",
              "4         2002   10081483   133.0    33.0  ...       0       0       0       0\n",
              "\n",
              "[5 rows x 41 columns]"
            ]
          },
          "metadata": {
            "tags": []
          },
          "execution_count": 11
        }
      ]
    },
    {
      "cell_type": "code",
      "metadata": {
        "colab": {
          "base_uri": "https://localhost:8080/"
        },
        "id": "-18Ss3IgNkh0",
        "outputId": "65da757f-fe73-40d8-9946-26b6663520cb"
      },
      "source": [
        "len(total)"
      ],
      "execution_count": 12,
      "outputs": [
        {
          "output_type": "execute_result",
          "data": {
            "text/plain": [
              "12288805"
            ]
          },
          "metadata": {
            "tags": []
          },
          "execution_count": 12
        }
      ]
    },
    {
      "cell_type": "code",
      "metadata": {
        "id": "IuksJhzoN18b"
      },
      "source": [
        "## session down\n",
        "\n",
        "#t= total.drop(total.index[1])\n",
        "#t.head()"
      ],
      "execution_count": 13,
      "outputs": []
    },
    {
      "cell_type": "code",
      "metadata": {
        "id": "_LdyipmNNDdG"
      },
      "source": [
        "remove_index=[]\n",
        "for i in range(len(total)):\n",
        "  if total['HCHK_YEAR_x'][i] != total['HCHK_YEAR_y'][i]:\n",
        "    remove_index.append(i)\n",
        "total_v2 = total.drop(total.index[remove_index])"
      ],
      "execution_count": 15,
      "outputs": []
    },
    {
      "cell_type": "code",
      "metadata": {
        "colab": {
          "base_uri": "https://localhost:8080/",
          "height": 224
        },
        "id": "BolKikDsRB_n",
        "outputId": "58d4412d-1b0f-42f8-db58-fc3752b33ce9"
      },
      "source": [
        "total_v2.head()"
      ],
      "execution_count": 16,
      "outputs": [
        {
          "output_type": "execute_result",
          "data": {
            "text/html": [
              "<div>\n",
              "<style scoped>\n",
              "    .dataframe tbody tr th:only-of-type {\n",
              "        vertical-align: middle;\n",
              "    }\n",
              "\n",
              "    .dataframe tbody tr th {\n",
              "        vertical-align: top;\n",
              "    }\n",
              "\n",
              "    .dataframe thead th {\n",
              "        text-align: right;\n",
              "    }\n",
              "</style>\n",
              "<table border=\"1\" class=\"dataframe\">\n",
              "  <thead>\n",
              "    <tr style=\"text-align: right;\">\n",
              "      <th></th>\n",
              "      <th>HCHK_YEAR_x</th>\n",
              "      <th>PERSON_ID</th>\n",
              "      <th>HEIGHT</th>\n",
              "      <th>WEIGHT</th>\n",
              "      <th>BP_HIGH</th>\n",
              "      <th>BP_LWST</th>\n",
              "      <th>BLDS</th>\n",
              "      <th>TOT_CHOLE</th>\n",
              "      <th>HMG</th>\n",
              "      <th>OLIG_PROTE_CD</th>\n",
              "      <th>SGOT_AST</th>\n",
              "      <th>SGPT_ALT</th>\n",
              "      <th>GAMMA_GTP</th>\n",
              "      <th>FMLY_HPRTS_PATIEN_YN</th>\n",
              "      <th>FMLY_APOP_PATIEN_YN</th>\n",
              "      <th>FMLY_HDISE_PATIEN_YN</th>\n",
              "      <th>FMLY_DIABML_PATIEN_YN</th>\n",
              "      <th>FMLY_CANCER_PATIEN_YN</th>\n",
              "      <th>SMK_STAT_TYPE_RSPS_CD</th>\n",
              "      <th>SMK_TERM_RSPS_CD</th>\n",
              "      <th>DSQTY_RSPS_CD</th>\n",
              "      <th>DRNK_HABIT_RSPS_CD</th>\n",
              "      <th>TM1_DRKQTY_RSPS_CD</th>\n",
              "      <th>HCHK_APOP_PMH_YN</th>\n",
              "      <th>HCHK_HDISE_PMH_YN</th>\n",
              "      <th>HCHK_HPRTS_PMH_YN</th>\n",
              "      <th>HCHK_DIABML_PMH_YN</th>\n",
              "      <th>HCHK_HPLPDM_PMH_YN</th>\n",
              "      <th>HCHK_ETCDSE_PMH_YN</th>\n",
              "      <th>HCHK_PHSS_PMH_YN</th>\n",
              "      <th>HCHK_YEAR_y</th>\n",
              "      <th>SEX</th>\n",
              "      <th>AGE</th>\n",
              "      <th>DFAB_1</th>\n",
              "      <th>DFAB_2</th>\n",
              "      <th>DFAB_3</th>\n",
              "      <th>DFAB_4</th>\n",
              "      <th>DFAB_5</th>\n",
              "      <th>DFAB_6</th>\n",
              "      <th>DFAB_7</th>\n",
              "      <th>DFAB_9</th>\n",
              "    </tr>\n",
              "  </thead>\n",
              "  <tbody>\n",
              "    <tr>\n",
              "      <th>0</th>\n",
              "      <td>2002</td>\n",
              "      <td>10040729</td>\n",
              "      <td>143.0</td>\n",
              "      <td>46.0</td>\n",
              "      <td>117.0</td>\n",
              "      <td>69.0</td>\n",
              "      <td>90.0</td>\n",
              "      <td>142.0</td>\n",
              "      <td>12.099609</td>\n",
              "      <td>1.0</td>\n",
              "      <td>28.0</td>\n",
              "      <td>26.0</td>\n",
              "      <td>13.0</td>\n",
              "      <td>0.0</td>\n",
              "      <td>0.0</td>\n",
              "      <td>0.0</td>\n",
              "      <td>0.0</td>\n",
              "      <td>0.0</td>\n",
              "      <td>1.0</td>\n",
              "      <td>0.0</td>\n",
              "      <td>0.0</td>\n",
              "      <td>1.0</td>\n",
              "      <td>2.0</td>\n",
              "      <td>0.0</td>\n",
              "      <td>0.0</td>\n",
              "      <td>0.0</td>\n",
              "      <td>0.0</td>\n",
              "      <td>0.0</td>\n",
              "      <td>0.0</td>\n",
              "      <td>0.0</td>\n",
              "      <td>2002</td>\n",
              "      <td>2</td>\n",
              "      <td>98.0</td>\n",
              "      <td>0</td>\n",
              "      <td>0</td>\n",
              "      <td>0</td>\n",
              "      <td>0</td>\n",
              "      <td>0</td>\n",
              "      <td>0</td>\n",
              "      <td>0</td>\n",
              "      <td>0</td>\n",
              "    </tr>\n",
              "    <tr>\n",
              "      <th>4</th>\n",
              "      <td>2002</td>\n",
              "      <td>10081483</td>\n",
              "      <td>133.0</td>\n",
              "      <td>33.0</td>\n",
              "      <td>151.0</td>\n",
              "      <td>75.0</td>\n",
              "      <td>105.0</td>\n",
              "      <td>176.0</td>\n",
              "      <td>11.500000</td>\n",
              "      <td>1.0</td>\n",
              "      <td>13.0</td>\n",
              "      <td>8.0</td>\n",
              "      <td>20.0</td>\n",
              "      <td>0.0</td>\n",
              "      <td>0.0</td>\n",
              "      <td>0.0</td>\n",
              "      <td>0.0</td>\n",
              "      <td>0.0</td>\n",
              "      <td>1.0</td>\n",
              "      <td>0.0</td>\n",
              "      <td>0.0</td>\n",
              "      <td>1.0</td>\n",
              "      <td>2.0</td>\n",
              "      <td>0.0</td>\n",
              "      <td>0.0</td>\n",
              "      <td>0.0</td>\n",
              "      <td>0.0</td>\n",
              "      <td>0.0</td>\n",
              "      <td>0.0</td>\n",
              "      <td>0.0</td>\n",
              "      <td>2002</td>\n",
              "      <td>2</td>\n",
              "      <td>96.0</td>\n",
              "      <td>0</td>\n",
              "      <td>0</td>\n",
              "      <td>0</td>\n",
              "      <td>0</td>\n",
              "      <td>0</td>\n",
              "      <td>0</td>\n",
              "      <td>0</td>\n",
              "      <td>0</td>\n",
              "    </tr>\n",
              "    <tr>\n",
              "      <th>16</th>\n",
              "      <td>2002</td>\n",
              "      <td>10088025</td>\n",
              "      <td>164.0</td>\n",
              "      <td>47.0</td>\n",
              "      <td>130.0</td>\n",
              "      <td>80.0</td>\n",
              "      <td>106.0</td>\n",
              "      <td>135.0</td>\n",
              "      <td>11.699219</td>\n",
              "      <td>1.0</td>\n",
              "      <td>26.0</td>\n",
              "      <td>11.0</td>\n",
              "      <td>12.0</td>\n",
              "      <td>0.0</td>\n",
              "      <td>0.0</td>\n",
              "      <td>0.0</td>\n",
              "      <td>0.0</td>\n",
              "      <td>0.0</td>\n",
              "      <td>3.0</td>\n",
              "      <td>5.0</td>\n",
              "      <td>1.0</td>\n",
              "      <td>1.0</td>\n",
              "      <td>2.0</td>\n",
              "      <td>0.0</td>\n",
              "      <td>0.0</td>\n",
              "      <td>0.0</td>\n",
              "      <td>0.0</td>\n",
              "      <td>0.0</td>\n",
              "      <td>0.0</td>\n",
              "      <td>0.0</td>\n",
              "      <td>2002</td>\n",
              "      <td>1</td>\n",
              "      <td>96.0</td>\n",
              "      <td>0</td>\n",
              "      <td>0</td>\n",
              "      <td>0</td>\n",
              "      <td>0</td>\n",
              "      <td>0</td>\n",
              "      <td>0</td>\n",
              "      <td>0</td>\n",
              "      <td>0</td>\n",
              "    </tr>\n",
              "    <tr>\n",
              "      <th>21</th>\n",
              "      <td>2002</td>\n",
              "      <td>10151226</td>\n",
              "      <td>146.0</td>\n",
              "      <td>65.0</td>\n",
              "      <td>150.0</td>\n",
              "      <td>70.0</td>\n",
              "      <td>69.0</td>\n",
              "      <td>162.0</td>\n",
              "      <td>12.000000</td>\n",
              "      <td>1.0</td>\n",
              "      <td>32.0</td>\n",
              "      <td>33.0</td>\n",
              "      <td>15.0</td>\n",
              "      <td>0.0</td>\n",
              "      <td>0.0</td>\n",
              "      <td>0.0</td>\n",
              "      <td>0.0</td>\n",
              "      <td>0.0</td>\n",
              "      <td>1.0</td>\n",
              "      <td>0.0</td>\n",
              "      <td>0.0</td>\n",
              "      <td>1.0</td>\n",
              "      <td>2.0</td>\n",
              "      <td>0.0</td>\n",
              "      <td>1.0</td>\n",
              "      <td>1.0</td>\n",
              "      <td>0.0</td>\n",
              "      <td>0.0</td>\n",
              "      <td>0.0</td>\n",
              "      <td>0.0</td>\n",
              "      <td>2002</td>\n",
              "      <td>2</td>\n",
              "      <td>94.0</td>\n",
              "      <td>0</td>\n",
              "      <td>0</td>\n",
              "      <td>0</td>\n",
              "      <td>0</td>\n",
              "      <td>0</td>\n",
              "      <td>0</td>\n",
              "      <td>0</td>\n",
              "      <td>0</td>\n",
              "    </tr>\n",
              "    <tr>\n",
              "      <th>33</th>\n",
              "      <td>2002</td>\n",
              "      <td>10174763</td>\n",
              "      <td>133.0</td>\n",
              "      <td>29.0</td>\n",
              "      <td>140.0</td>\n",
              "      <td>90.0</td>\n",
              "      <td>99.0</td>\n",
              "      <td>178.0</td>\n",
              "      <td>13.000000</td>\n",
              "      <td>1.0</td>\n",
              "      <td>40.0</td>\n",
              "      <td>20.0</td>\n",
              "      <td>8.0</td>\n",
              "      <td>0.0</td>\n",
              "      <td>0.0</td>\n",
              "      <td>0.0</td>\n",
              "      <td>0.0</td>\n",
              "      <td>0.0</td>\n",
              "      <td>1.0</td>\n",
              "      <td>0.0</td>\n",
              "      <td>0.0</td>\n",
              "      <td>1.0</td>\n",
              "      <td>2.0</td>\n",
              "      <td>0.0</td>\n",
              "      <td>0.0</td>\n",
              "      <td>0.0</td>\n",
              "      <td>0.0</td>\n",
              "      <td>0.0</td>\n",
              "      <td>0.0</td>\n",
              "      <td>0.0</td>\n",
              "      <td>2002</td>\n",
              "      <td>2</td>\n",
              "      <td>94.0</td>\n",
              "      <td>0</td>\n",
              "      <td>0</td>\n",
              "      <td>0</td>\n",
              "      <td>0</td>\n",
              "      <td>0</td>\n",
              "      <td>0</td>\n",
              "      <td>0</td>\n",
              "      <td>0</td>\n",
              "    </tr>\n",
              "  </tbody>\n",
              "</table>\n",
              "</div>"
            ],
            "text/plain": [
              "    HCHK_YEAR_x  PERSON_ID  HEIGHT  WEIGHT  ...  DFAB_5  DFAB_6  DFAB_7  DFAB_9\n",
              "0          2002   10040729   143.0    46.0  ...       0       0       0       0\n",
              "4          2002   10081483   133.0    33.0  ...       0       0       0       0\n",
              "16         2002   10088025   164.0    47.0  ...       0       0       0       0\n",
              "21         2002   10151226   146.0    65.0  ...       0       0       0       0\n",
              "33         2002   10174763   133.0    29.0  ...       0       0       0       0\n",
              "\n",
              "[5 rows x 41 columns]"
            ]
          },
          "metadata": {
            "tags": []
          },
          "execution_count": 16
        }
      ]
    },
    {
      "cell_type": "code",
      "metadata": {
        "colab": {
          "base_uri": "https://localhost:8080/"
        },
        "id": "JHGTa0leREyU",
        "outputId": "640c5401-8357-4156-d8b6-2a6e6a6f8c21"
      },
      "source": [
        "len(total_v2)"
      ],
      "execution_count": 17,
      "outputs": [
        {
          "output_type": "execute_result",
          "data": {
            "text/plain": [
              "1051937"
            ]
          },
          "metadata": {
            "tags": []
          },
          "execution_count": 17
        }
      ]
    },
    {
      "cell_type": "code",
      "metadata": {
        "colab": {
          "base_uri": "https://localhost:8080/",
          "height": 300
        },
        "id": "r0c1WWBxRd3u",
        "outputId": "55f6009b-c05a-4e66-fa5f-73a47e9dfcaa"
      },
      "source": [
        "total_v2['YEAR'] = total_v2['HCHK_YEAR_x']"
      ],
      "execution_count": 18,
      "outputs": [
        {
          "output_type": "error",
          "ename": "AttributeError",
          "evalue": "ignored",
          "traceback": [
            "\u001b[0;31m---------------------------------------------------------------------------\u001b[0m",
            "\u001b[0;31mAttributeError\u001b[0m                            Traceback (most recent call last)",
            "\u001b[0;32m<ipython-input-18-d321d8ffaa3f>\u001b[0m in \u001b[0;36m<module>\u001b[0;34m()\u001b[0m\n\u001b[1;32m      1\u001b[0m \u001b[0mtotal_v2\u001b[0m\u001b[0;34m[\u001b[0m\u001b[0;34m'YEAR'\u001b[0m\u001b[0;34m]\u001b[0m \u001b[0;34m=\u001b[0m \u001b[0mtotal_v2\u001b[0m\u001b[0;34m[\u001b[0m\u001b[0;34m'HCHK_YEAR_x'\u001b[0m\u001b[0;34m]\u001b[0m\u001b[0;34m\u001b[0m\u001b[0;34m\u001b[0m\u001b[0m\n\u001b[0;32m----> 2\u001b[0;31m \u001b[0mprint\u001b[0m\u001b[0;34m(\u001b[0m\u001b[0mtotal_v2\u001b[0m\u001b[0;34m.\u001b[0m\u001b[0mcolums\u001b[0m\u001b[0;34m)\u001b[0m\u001b[0;34m\u001b[0m\u001b[0;34m\u001b[0m\u001b[0m\n\u001b[0m",
            "\u001b[0;32m/usr/local/lib/python3.6/dist-packages/pandas/core/generic.py\u001b[0m in \u001b[0;36m__getattr__\u001b[0;34m(self, name)\u001b[0m\n\u001b[1;32m   5139\u001b[0m             \u001b[0;32mif\u001b[0m \u001b[0mself\u001b[0m\u001b[0;34m.\u001b[0m\u001b[0m_info_axis\u001b[0m\u001b[0;34m.\u001b[0m\u001b[0m_can_hold_identifiers_and_holds_name\u001b[0m\u001b[0;34m(\u001b[0m\u001b[0mname\u001b[0m\u001b[0;34m)\u001b[0m\u001b[0;34m:\u001b[0m\u001b[0;34m\u001b[0m\u001b[0;34m\u001b[0m\u001b[0m\n\u001b[1;32m   5140\u001b[0m                 \u001b[0;32mreturn\u001b[0m \u001b[0mself\u001b[0m\u001b[0;34m[\u001b[0m\u001b[0mname\u001b[0m\u001b[0;34m]\u001b[0m\u001b[0;34m\u001b[0m\u001b[0;34m\u001b[0m\u001b[0m\n\u001b[0;32m-> 5141\u001b[0;31m             \u001b[0;32mreturn\u001b[0m \u001b[0mobject\u001b[0m\u001b[0;34m.\u001b[0m\u001b[0m__getattribute__\u001b[0m\u001b[0;34m(\u001b[0m\u001b[0mself\u001b[0m\u001b[0;34m,\u001b[0m \u001b[0mname\u001b[0m\u001b[0;34m)\u001b[0m\u001b[0;34m\u001b[0m\u001b[0;34m\u001b[0m\u001b[0m\n\u001b[0m\u001b[1;32m   5142\u001b[0m \u001b[0;34m\u001b[0m\u001b[0m\n\u001b[1;32m   5143\u001b[0m     \u001b[0;32mdef\u001b[0m \u001b[0m__setattr__\u001b[0m\u001b[0;34m(\u001b[0m\u001b[0mself\u001b[0m\u001b[0;34m,\u001b[0m \u001b[0mname\u001b[0m\u001b[0;34m:\u001b[0m \u001b[0mstr\u001b[0m\u001b[0;34m,\u001b[0m \u001b[0mvalue\u001b[0m\u001b[0;34m)\u001b[0m \u001b[0;34m->\u001b[0m \u001b[0;32mNone\u001b[0m\u001b[0;34m:\u001b[0m\u001b[0;34m\u001b[0m\u001b[0;34m\u001b[0m\u001b[0m\n",
            "\u001b[0;31mAttributeError\u001b[0m: 'DataFrame' object has no attribute 'colums'"
          ]
        }
      ]
    },
    {
      "cell_type": "code",
      "metadata": {
        "colab": {
          "base_uri": "https://localhost:8080/"
        },
        "id": "z1vzCJ88RxV8",
        "outputId": "5fcdb0a3-cb8a-4b89-c5f3-246d4157d3ac"
      },
      "source": [
        "print(total_v2.columns)"
      ],
      "execution_count": 19,
      "outputs": [
        {
          "output_type": "stream",
          "text": [
            "Index(['HCHK_YEAR_x', 'PERSON_ID', 'HEIGHT', 'WEIGHT', 'BP_HIGH', 'BP_LWST',\n",
            "       'BLDS', 'TOT_CHOLE', 'HMG', 'OLIG_PROTE_CD', 'SGOT_AST', 'SGPT_ALT',\n",
            "       'GAMMA_GTP', 'FMLY_HPRTS_PATIEN_YN', 'FMLY_APOP_PATIEN_YN',\n",
            "       'FMLY_HDISE_PATIEN_YN', 'FMLY_DIABML_PATIEN_YN',\n",
            "       'FMLY_CANCER_PATIEN_YN', 'SMK_STAT_TYPE_RSPS_CD', 'SMK_TERM_RSPS_CD',\n",
            "       'DSQTY_RSPS_CD', 'DRNK_HABIT_RSPS_CD', 'TM1_DRKQTY_RSPS_CD',\n",
            "       'HCHK_APOP_PMH_YN', 'HCHK_HDISE_PMH_YN', 'HCHK_HPRTS_PMH_YN',\n",
            "       'HCHK_DIABML_PMH_YN', 'HCHK_HPLPDM_PMH_YN', 'HCHK_ETCDSE_PMH_YN',\n",
            "       'HCHK_PHSS_PMH_YN', 'HCHK_YEAR_y', 'SEX', 'AGE', 'DFAB_1', 'DFAB_2',\n",
            "       'DFAB_3', 'DFAB_4', 'DFAB_5', 'DFAB_6', 'DFAB_7', 'DFAB_9', 'YEAR'],\n",
            "      dtype='object')\n"
          ],
          "name": "stdout"
        }
      ]
    },
    {
      "cell_type": "code",
      "metadata": {
        "id": "f2dLm3G8R1Lr"
      },
      "source": [
        "total_v2=total_v2[['YEAR', 'SEX', 'AGE','PERSON_ID', 'HEIGHT', 'WEIGHT', 'BP_HIGH', 'BP_LWST',\n",
        "       'BLDS', 'TOT_CHOLE', 'HMG', 'OLIG_PROTE_CD', 'SGOT_AST', 'SGPT_ALT',\n",
        "       'GAMMA_GTP', 'FMLY_HPRTS_PATIEN_YN', 'FMLY_APOP_PATIEN_YN',\n",
        "       'FMLY_HDISE_PATIEN_YN', 'FMLY_DIABML_PATIEN_YN',\n",
        "       'FMLY_CANCER_PATIEN_YN', 'SMK_STAT_TYPE_RSPS_CD', 'SMK_TERM_RSPS_CD',\n",
        "       'DSQTY_RSPS_CD', 'DRNK_HABIT_RSPS_CD', 'TM1_DRKQTY_RSPS_CD',\n",
        "       'HCHK_APOP_PMH_YN', 'HCHK_HDISE_PMH_YN', 'HCHK_HPRTS_PMH_YN',\n",
        "       'HCHK_DIABML_PMH_YN', 'HCHK_HPLPDM_PMH_YN', 'HCHK_ETCDSE_PMH_YN',\n",
        "       'HCHK_PHSS_PMH_YN', 'DFAB_1', 'DFAB_2',\n",
        "       'DFAB_3', 'DFAB_4', 'DFAB_5', 'DFAB_6', 'DFAB_7', 'DFAB_9']]"
      ],
      "execution_count": 20,
      "outputs": []
    },
    {
      "cell_type": "code",
      "metadata": {
        "colab": {
          "base_uri": "https://localhost:8080/"
        },
        "id": "LF_geMPLSYpu",
        "outputId": "712a65e8-848e-4129-ad16-4680c43802ad"
      },
      "source": [
        "total_v2.isnull().sum()"
      ],
      "execution_count": 21,
      "outputs": [
        {
          "output_type": "execute_result",
          "data": {
            "text/plain": [
              "YEAR                     0\n",
              "SEX                      0\n",
              "AGE                      0\n",
              "PERSON_ID                0\n",
              "HEIGHT                   0\n",
              "WEIGHT                   0\n",
              "BP_HIGH                  0\n",
              "BP_LWST                  0\n",
              "BLDS                     0\n",
              "TOT_CHOLE                0\n",
              "HMG                      0\n",
              "OLIG_PROTE_CD            0\n",
              "SGOT_AST                 0\n",
              "SGPT_ALT                 0\n",
              "GAMMA_GTP                0\n",
              "FMLY_HPRTS_PATIEN_YN     0\n",
              "FMLY_APOP_PATIEN_YN      0\n",
              "FMLY_HDISE_PATIEN_YN     0\n",
              "FMLY_DIABML_PATIEN_YN    0\n",
              "FMLY_CANCER_PATIEN_YN    0\n",
              "SMK_STAT_TYPE_RSPS_CD    0\n",
              "SMK_TERM_RSPS_CD         0\n",
              "DSQTY_RSPS_CD            0\n",
              "DRNK_HABIT_RSPS_CD       0\n",
              "TM1_DRKQTY_RSPS_CD       0\n",
              "HCHK_APOP_PMH_YN         0\n",
              "HCHK_HDISE_PMH_YN        0\n",
              "HCHK_HPRTS_PMH_YN        0\n",
              "HCHK_DIABML_PMH_YN       0\n",
              "HCHK_HPLPDM_PMH_YN       0\n",
              "HCHK_ETCDSE_PMH_YN       0\n",
              "HCHK_PHSS_PMH_YN         0\n",
              "DFAB_1                   0\n",
              "DFAB_2                   0\n",
              "DFAB_3                   0\n",
              "DFAB_4                   0\n",
              "DFAB_5                   0\n",
              "DFAB_6                   0\n",
              "DFAB_7                   0\n",
              "DFAB_9                   0\n",
              "dtype: int64"
            ]
          },
          "metadata": {
            "tags": []
          },
          "execution_count": 21
        }
      ]
    },
    {
      "cell_type": "code",
      "metadata": {
        "colab": {
          "base_uri": "https://localhost:8080/",
          "height": 17
        },
        "id": "qebjQ3H1SA2k",
        "outputId": "f82fb07b-5dab-4294-e447-31d6140c58a9"
      },
      "source": [
        "total_v2.to_csv('jk_gj_merge.csv', sep=',', na_rep='NaN')\n",
        "from google.colab import files\n",
        "files.download('jk_gj_merge.csv')"
      ],
      "execution_count": 23,
      "outputs": [
        {
          "output_type": "display_data",
          "data": {
            "application/javascript": [
              "\n",
              "    async function download(id, filename, size) {\n",
              "      if (!google.colab.kernel.accessAllowed) {\n",
              "        return;\n",
              "      }\n",
              "      const div = document.createElement('div');\n",
              "      const label = document.createElement('label');\n",
              "      label.textContent = `Downloading \"${filename}\": `;\n",
              "      div.appendChild(label);\n",
              "      const progress = document.createElement('progress');\n",
              "      progress.max = size;\n",
              "      div.appendChild(progress);\n",
              "      document.body.appendChild(div);\n",
              "\n",
              "      const buffers = [];\n",
              "      let downloaded = 0;\n",
              "\n",
              "      const channel = await google.colab.kernel.comms.open(id);\n",
              "      // Send a message to notify the kernel that we're ready.\n",
              "      channel.send({})\n",
              "\n",
              "      for await (const message of channel.messages) {\n",
              "        // Send a message to notify the kernel that we're ready.\n",
              "        channel.send({})\n",
              "        if (message.buffers) {\n",
              "          for (const buffer of message.buffers) {\n",
              "            buffers.push(buffer);\n",
              "            downloaded += buffer.byteLength;\n",
              "            progress.value = downloaded;\n",
              "          }\n",
              "        }\n",
              "      }\n",
              "      const blob = new Blob(buffers, {type: 'application/binary'});\n",
              "      const a = document.createElement('a');\n",
              "      a.href = window.URL.createObjectURL(blob);\n",
              "      a.download = filename;\n",
              "      div.appendChild(a);\n",
              "      a.click();\n",
              "      div.remove();\n",
              "    }\n",
              "  "
            ],
            "text/plain": [
              "<IPython.core.display.Javascript object>"
            ]
          },
          "metadata": {
            "tags": []
          }
        },
        {
          "output_type": "display_data",
          "data": {
            "application/javascript": [
              "download(\"download_b7896c0c-3222-45bc-b604-128dbbc35fa5\", \"jk_gj_merge.csv\", 185292518)"
            ],
            "text/plain": [
              "<IPython.core.display.Javascript object>"
            ]
          },
          "metadata": {
            "tags": []
          }
        }
      ]
    },
    {
      "cell_type": "code",
      "metadata": {
        "id": "0g2ZpWO9TK2Y"
      },
      "source": [
        ""
      ],
      "execution_count": null,
      "outputs": []
    }
  ]
}