{
  "nbformat": 4,
  "nbformat_minor": 0,
  "metadata": {
    "colab": {
      "name": "201223_data_preprocessing.ipynb",
      "provenance": [],
      "authorship_tag": "ABX9TyP+L+bKKgMKMNDkLedXazeS",
      "include_colab_link": true
    },
    "kernelspec": {
      "display_name": "Python 3",
      "name": "python3"
    }
  },
  "cells": [
    {
      "cell_type": "markdown",
      "metadata": {
        "id": "view-in-github",
        "colab_type": "text"
      },
      "source": [
        "<a href=\"https://colab.research.google.com/github/JoonYoung-Sohn/practice/blob/master/Disease%20Prediction/201223_data_preprocessing.ipynb\" target=\"_parent\"><img src=\"https://colab.research.google.com/assets/colab-badge.svg\" alt=\"Open In Colab\"/></a>"
      ]
    },
    {
      "cell_type": "code",
      "metadata": {
        "colab": {
          "base_uri": "https://localhost:8080/"
        },
        "id": "pyG-xfrxnLTp",
        "outputId": "9c10a06b-17d6-4e22-e292-980a57176e5e"
      },
      "source": [
        "from google.colab import drive\n",
        "drive.mount('/gdrive', force_remount=True)"
      ],
      "execution_count": 2,
      "outputs": [
        {
          "output_type": "stream",
          "text": [
            "Mounted at /gdrive\n"
          ],
          "name": "stdout"
        }
      ]
    },
    {
      "cell_type": "code",
      "metadata": {
        "colab": {
          "base_uri": "https://localhost:8080/"
        },
        "id": "sDD-LGZPn35t",
        "outputId": "c6510195-1c0b-4988-96e2-2769ade6e49e"
      },
      "source": [
        "pip install sas7bdat_converter"
      ],
      "execution_count": 3,
      "outputs": [
        {
          "output_type": "stream",
          "text": [
            "Requirement already satisfied: sas7bdat_converter in /usr/local/lib/python3.6/dist-packages (0.7.4)\n",
            "Requirement already satisfied: pandas<2.0.0,>=1.0.0 in /usr/local/lib/python3.6/dist-packages (from sas7bdat_converter) (1.1.5)\n",
            "Requirement already satisfied: python-dateutil>=2.7.3 in /usr/local/lib/python3.6/dist-packages (from pandas<2.0.0,>=1.0.0->sas7bdat_converter) (2.8.1)\n",
            "Requirement already satisfied: numpy>=1.15.4 in /usr/local/lib/python3.6/dist-packages (from pandas<2.0.0,>=1.0.0->sas7bdat_converter) (1.19.4)\n",
            "Requirement already satisfied: pytz>=2017.2 in /usr/local/lib/python3.6/dist-packages (from pandas<2.0.0,>=1.0.0->sas7bdat_converter) (2018.9)\n",
            "Requirement already satisfied: six>=1.5 in /usr/local/lib/python3.6/dist-packages (from python-dateutil>=2.7.3->pandas<2.0.0,>=1.0.0->sas7bdat_converter) (1.15.0)\n"
          ],
          "name": "stdout"
        }
      ]
    },
    {
      "cell_type": "code",
      "metadata": {
        "colab": {
          "base_uri": "https://localhost:8080/"
        },
        "id": "8cRr1YE8n6n0",
        "outputId": "caade321-35db-4ee2-ef94-f0fc706b87da"
      },
      "source": [
        "pip install sas7bdat_converter[excel]"
      ],
      "execution_count": 4,
      "outputs": [
        {
          "output_type": "stream",
          "text": [
            "Requirement already satisfied: sas7bdat_converter[excel] in /usr/local/lib/python3.6/dist-packages (0.7.4)\n",
            "Requirement already satisfied: pandas<2.0.0,>=1.0.0 in /usr/local/lib/python3.6/dist-packages (from sas7bdat_converter[excel]) (1.1.5)\n",
            "Requirement already satisfied: openpyxl<4.0.0,>=3.0.5; extra == \"excel\" in /usr/local/lib/python3.6/dist-packages (from sas7bdat_converter[excel]) (3.0.5)\n",
            "Requirement already satisfied: pytz>=2017.2 in /usr/local/lib/python3.6/dist-packages (from pandas<2.0.0,>=1.0.0->sas7bdat_converter[excel]) (2018.9)\n",
            "Requirement already satisfied: numpy>=1.15.4 in /usr/local/lib/python3.6/dist-packages (from pandas<2.0.0,>=1.0.0->sas7bdat_converter[excel]) (1.19.4)\n",
            "Requirement already satisfied: python-dateutil>=2.7.3 in /usr/local/lib/python3.6/dist-packages (from pandas<2.0.0,>=1.0.0->sas7bdat_converter[excel]) (2.8.1)\n",
            "Requirement already satisfied: et-xmlfile in /usr/local/lib/python3.6/dist-packages (from openpyxl<4.0.0,>=3.0.5; extra == \"excel\"->sas7bdat_converter[excel]) (1.0.1)\n",
            "Requirement already satisfied: jdcal in /usr/local/lib/python3.6/dist-packages (from openpyxl<4.0.0,>=3.0.5; extra == \"excel\"->sas7bdat_converter[excel]) (1.4.1)\n",
            "Requirement already satisfied: six>=1.5 in /usr/local/lib/python3.6/dist-packages (from python-dateutil>=2.7.3->pandas<2.0.0,>=1.0.0->sas7bdat_converter[excel]) (1.15.0)\n"
          ],
          "name": "stdout"
        }
      ]
    },
    {
      "cell_type": "code",
      "metadata": {
        "id": "Igvl_-3KoTBB"
      },
      "source": [
        "import sas7bdat_converter"
      ],
      "execution_count": 5,
      "outputs": []
    },
    {
      "cell_type": "code",
      "metadata": {
        "colab": {
          "base_uri": "https://localhost:8080/"
        },
        "id": "PzH5_xbBoUu-",
        "outputId": "37f3cc81-13fd-4ef0-af1f-f4a82f7b3c1b"
      },
      "source": [
        "file_dicts = [\n",
        "  {\n",
        "    'sas7bdat_file': '/gdrive/My Drive/Disease Prediction/01.jk/nhis_senior_jk_2002.sas7bdat',\n",
        "    'export_file': 'nhis_senior_jk_2002.csv'},{\n",
        "    'sas7bdat_file': '/gdrive/My Drive/Disease Prediction/01.jk/nhis_senior_jk_2003.sas7bdat',\n",
        "    'export_file': 'nhis_senior_jk_2003.csv'},{\n",
        "    'sas7bdat_file': '/gdrive/My Drive/Disease Prediction/01.jk/nhis_senior_jk_2004.sas7bdat',\n",
        "    'export_file': 'nhis_senior_jk_2004.csv'},{\n",
        "    'sas7bdat_file': '/gdrive/My Drive/Disease Prediction/01.jk/nhis_senior_jk_2005.sas7bdat',\n",
        "    'export_file': 'nhis_senior_jk_2005.csv'},{\n",
        "    'sas7bdat_file': '/gdrive/My Drive/Disease Prediction/01.jk/nhis_senior_jk_2006.sas7bdat',\n",
        "    'export_file': 'nhis_senior_jk_2006.csv'},{\n",
        "    'sas7bdat_file': '/gdrive/My Drive/Disease Prediction/01.jk/nhis_senior_jk_2007.sas7bdat',\n",
        "    'export_file': 'nhis_senior_jk_2007.csv'},{\n",
        "    'sas7bdat_file': '/gdrive/My Drive/Disease Prediction/01.jk/nhis_senior_jk_2008.sas7bdat',\n",
        "    'export_file': 'nhis_senior_jk_2008.csv'},{\n",
        "    'sas7bdat_file': '/gdrive/My Drive/Disease Prediction/01.jk/nhis_senior_jk_2009.sas7bdat',\n",
        "    'export_file': 'nhis_senior_jk_2009.csv'},{\n",
        "    'sas7bdat_file': '/gdrive/My Drive/Disease Prediction/01.jk/nhis_senior_jk_2010.sas7bdat',\n",
        "    'export_file': 'nhis_senior_jk_2010.csv'},{\n",
        "    'sas7bdat_file': '/gdrive/My Drive/Disease Prediction/01.jk/nhis_senior_jk_2011.sas7bdat',\n",
        "    'export_file': 'nhis_senior_jk_2011.csv'},{\n",
        "    'sas7bdat_file': '/gdrive/My Drive/Disease Prediction/01.jk/nhis_senior_jk_2012.sas7bdat',\n",
        "    'export_file': 'nhis_senior_jk_2012.csv'},{\n",
        "    'sas7bdat_file': '/gdrive/My Drive/Disease Prediction/01.jk/nhis_senior_jk_2013.sas7bdat',\n",
        "    'export_file': 'nhis_senior_jk_2013.csv'\n",
        "  }\n",
        "]\n",
        "sas7bdat_converter.batch_to_csv(file_dicts)"
      ],
      "execution_count": null,
      "outputs": [
        {
          "output_type": "stream",
          "text": [
            "2020-12-23 04:26:33,699: INFO: NumExpr defaulting to 2 threads.\n"
          ],
          "name": "stderr"
        }
      ]
    },
    {
      "cell_type": "code",
      "metadata": {
        "colab": {
          "base_uri": "https://localhost:8080/",
          "height": 204
        },
        "id": "GQwexvT2otsY",
        "outputId": "f41f8933-6411-4fc8-f97d-e9b4240fa03c"
      },
      "source": [
        "import pandas as pd\n",
        "df=pd.read_csv('nhis_senior_jk_2011.csv')\n",
        "df.head()"
      ],
      "execution_count": null,
      "outputs": [
        {
          "output_type": "execute_result",
          "data": {
            "text/html": [
              "<div>\n",
              "<style scoped>\n",
              "    .dataframe tbody tr th:only-of-type {\n",
              "        vertical-align: middle;\n",
              "    }\n",
              "\n",
              "    .dataframe tbody tr th {\n",
              "        vertical-align: top;\n",
              "    }\n",
              "\n",
              "    .dataframe thead th {\n",
              "        text-align: right;\n",
              "    }\n",
              "</style>\n",
              "<table border=\"1\" class=\"dataframe\">\n",
              "  <thead>\n",
              "    <tr style=\"text-align: right;\">\n",
              "      <th></th>\n",
              "      <th>STND_Y</th>\n",
              "      <th>PERSON_ID</th>\n",
              "      <th>SEX</th>\n",
              "      <th>AGE</th>\n",
              "      <th>DTH_MDY</th>\n",
              "      <th>DTH_CODE1</th>\n",
              "      <th>DTH_CODE2</th>\n",
              "      <th>SIDO</th>\n",
              "      <th>IPSN_TYPE_CD</th>\n",
              "      <th>CTRB_PT_TYPE_CD</th>\n",
              "      <th>DFAB_GRD_CD</th>\n",
              "      <th>DFAB_PTN_CD</th>\n",
              "      <th>DFAB_REG_YM</th>\n",
              "    </tr>\n",
              "  </thead>\n",
              "  <tbody>\n",
              "    <tr>\n",
              "      <th>0</th>\n",
              "      <td>2011</td>\n",
              "      <td>10000309</td>\n",
              "      <td>2</td>\n",
              "      <td>111.0</td>\n",
              "      <td>NaN</td>\n",
              "      <td>NaN</td>\n",
              "      <td>NaN</td>\n",
              "      <td>26</td>\n",
              "      <td>6</td>\n",
              "      <td>2</td>\n",
              "      <td>0</td>\n",
              "      <td>0</td>\n",
              "      <td>NaN</td>\n",
              "    </tr>\n",
              "    <tr>\n",
              "      <th>1</th>\n",
              "      <td>2011</td>\n",
              "      <td>10004723</td>\n",
              "      <td>2</td>\n",
              "      <td>111.0</td>\n",
              "      <td>NaN</td>\n",
              "      <td>NaN</td>\n",
              "      <td>NaN</td>\n",
              "      <td>44</td>\n",
              "      <td>6</td>\n",
              "      <td>8</td>\n",
              "      <td>0</td>\n",
              "      <td>0</td>\n",
              "      <td>NaN</td>\n",
              "    </tr>\n",
              "    <tr>\n",
              "      <th>2</th>\n",
              "      <td>2011</td>\n",
              "      <td>10008517</td>\n",
              "      <td>2</td>\n",
              "      <td>110.0</td>\n",
              "      <td>NaN</td>\n",
              "      <td>NaN</td>\n",
              "      <td>NaN</td>\n",
              "      <td>41</td>\n",
              "      <td>1</td>\n",
              "      <td>1</td>\n",
              "      <td>0</td>\n",
              "      <td>0</td>\n",
              "      <td>NaN</td>\n",
              "    </tr>\n",
              "    <tr>\n",
              "      <th>3</th>\n",
              "      <td>2011</td>\n",
              "      <td>10010003</td>\n",
              "      <td>2</td>\n",
              "      <td>110.0</td>\n",
              "      <td>NaN</td>\n",
              "      <td>NaN</td>\n",
              "      <td>NaN</td>\n",
              "      <td>28</td>\n",
              "      <td>7</td>\n",
              "      <td>0</td>\n",
              "      <td>0</td>\n",
              "      <td>0</td>\n",
              "      <td>NaN</td>\n",
              "    </tr>\n",
              "    <tr>\n",
              "      <th>4</th>\n",
              "      <td>2011</td>\n",
              "      <td>10011495</td>\n",
              "      <td>2</td>\n",
              "      <td>110.0</td>\n",
              "      <td>20110615.0</td>\n",
              "      <td>I50</td>\n",
              "      <td>NaN</td>\n",
              "      <td>11</td>\n",
              "      <td>6</td>\n",
              "      <td>1</td>\n",
              "      <td>0</td>\n",
              "      <td>0</td>\n",
              "      <td>NaN</td>\n",
              "    </tr>\n",
              "  </tbody>\n",
              "</table>\n",
              "</div>"
            ],
            "text/plain": [
              "   STND_Y  PERSON_ID  SEX  ...  DFAB_GRD_CD  DFAB_PTN_CD DFAB_REG_YM\n",
              "0    2011   10000309    2  ...            0            0         NaN\n",
              "1    2011   10004723    2  ...            0            0         NaN\n",
              "2    2011   10008517    2  ...            0            0         NaN\n",
              "3    2011   10010003    2  ...            0            0         NaN\n",
              "4    2011   10011495    2  ...            0            0         NaN\n",
              "\n",
              "[5 rows x 13 columns]"
            ]
          },
          "metadata": {
            "tags": []
          },
          "execution_count": 6
        }
      ]
    },
    {
      "cell_type": "code",
      "metadata": {
        "id": "PJD4rrr9sVMV"
      },
      "source": [
        "jk2=pd.read_csv('nhis_senior_jk_2002.csv')\n",
        "jk3=pd.read_csv('nhis_senior_jk_2003.csv')\n",
        "jk4=pd.read_csv('nhis_senior_jk_2004.csv')\n",
        "jk5=pd.read_csv('nhis_senior_jk_2005.csv')\n",
        "jk6=pd.read_csv('nhis_senior_jk_2006.csv')\n",
        "jk7=pd.read_csv('nhis_senior_jk_2007.csv')\n",
        "jk8=pd.read_csv('nhis_senior_jk_2008.csv')\n",
        "jk9=pd.read_csv('nhis_senior_jk_2009.csv')\n",
        "jk10=pd.read_csv('nhis_senior_jk_2010.csv')\n",
        "jk11=pd.read_csv('nhis_senior_jk_2011.csv')\n",
        "jk12=pd.read_csv('nhis_senior_jk_2012.csv')\n",
        "jk13=pd.read_csv('nhis_senior_jk_2013.csv')"
      ],
      "execution_count": null,
      "outputs": []
    },
    {
      "cell_type": "code",
      "metadata": {
        "colab": {
          "base_uri": "https://localhost:8080/"
        },
        "id": "Xpkerpiev1H7",
        "outputId": "7062c0bd-5736-449a-dbcc-797ac1229433"
      },
      "source": [
        "jk_total = pd.concat([jk2,jk3,jk4,jk5,jk6,jk7,jk8,jk9,jk10,jk11,jk12,jk13])\n",
        "print(jk_total)"
      ],
      "execution_count": null,
      "outputs": [
        {
          "output_type": "stream",
          "text": [
            "        STND_Y  PERSON_ID  SEX  ...  DFAB_GRD_CD  DFAB_PTN_CD DFAB_REG_YM\n",
            "0         2002   10000244    2  ...            0            0         NaN\n",
            "1         2002   10000284    2  ...            0            0         NaN\n",
            "2         2002   10000309    2  ...            0            0         NaN\n",
            "3         2002   10000325    2  ...            0            0         NaN\n",
            "4         2002   10000439    2  ...            0            0         NaN\n",
            "...        ...        ...  ...  ...          ...          ...         ...\n",
            "388488    2013   99986977    2  ...            0            0         NaN\n",
            "388489    2013   99987991    2  ...            0            0         NaN\n",
            "388490    2013   99988001    2  ...            0            0         NaN\n",
            "388491    2013   99989723    2  ...            0            0         NaN\n",
            "388492    2013   99989993    2  ...            0            0         NaN\n",
            "\n",
            "[5743773 rows x 13 columns]\n"
          ],
          "name": "stdout"
        }
      ]
    },
    {
      "cell_type": "code",
      "metadata": {
        "colab": {
          "base_uri": "https://localhost:8080/"
        },
        "id": "kNcsMVcJxU2_",
        "outputId": "32fa15dd-2d3a-4c21-90fd-4f37d5145cbc"
      },
      "source": [
        "print('열의 개수: ',len(jk_total.columns))\n",
        "print(jk_total.columns)"
      ],
      "execution_count": null,
      "outputs": [
        {
          "output_type": "stream",
          "text": [
            "열의 개수:  13\n",
            "Index(['STND_Y', 'PERSON_ID', 'SEX', 'AGE', 'DTH_MDY', 'DTH_CODE1',\n",
            "       'DTH_CODE2', 'SIDO', 'IPSN_TYPE_CD', 'CTRB_PT_TYPE_CD', 'DFAB_GRD_CD',\n",
            "       'DFAB_PTN_CD', 'DFAB_REG_YM'],\n",
            "      dtype='object')\n"
          ],
          "name": "stdout"
        }
      ]
    },
    {
      "cell_type": "code",
      "metadata": {
        "id": "AZb4ect3x0k0"
      },
      "source": [
        "jk_filtered = jk_total[['STND_Y', 'PERSON_ID', 'SEX', 'AGE', 'DTH_MDY', 'DTH_CODE1',\n",
        "       'DTH_CODE2', 'DFAB_GRD_CD',\n",
        "       'DFAB_PTN_CD']]"
      ],
      "execution_count": null,
      "outputs": []
    },
    {
      "cell_type": "code",
      "metadata": {
        "colab": {
          "base_uri": "https://localhost:8080/",
          "height": 204
        },
        "id": "wkxgNgndyQPG",
        "outputId": "df7cb799-e573-4a57-f221-ab9de109e998"
      },
      "source": [
        "jk_filtered.head()"
      ],
      "execution_count": null,
      "outputs": [
        {
          "output_type": "execute_result",
          "data": {
            "text/html": [
              "<div>\n",
              "<style scoped>\n",
              "    .dataframe tbody tr th:only-of-type {\n",
              "        vertical-align: middle;\n",
              "    }\n",
              "\n",
              "    .dataframe tbody tr th {\n",
              "        vertical-align: top;\n",
              "    }\n",
              "\n",
              "    .dataframe thead th {\n",
              "        text-align: right;\n",
              "    }\n",
              "</style>\n",
              "<table border=\"1\" class=\"dataframe\">\n",
              "  <thead>\n",
              "    <tr style=\"text-align: right;\">\n",
              "      <th></th>\n",
              "      <th>STND_Y</th>\n",
              "      <th>PERSON_ID</th>\n",
              "      <th>SEX</th>\n",
              "      <th>AGE</th>\n",
              "      <th>DTH_MDY</th>\n",
              "      <th>DTH_CODE1</th>\n",
              "      <th>DTH_CODE2</th>\n",
              "      <th>DFAB_GRD_CD</th>\n",
              "      <th>DFAB_PTN_CD</th>\n",
              "    </tr>\n",
              "  </thead>\n",
              "  <tbody>\n",
              "    <tr>\n",
              "      <th>0</th>\n",
              "      <td>2002</td>\n",
              "      <td>10000244</td>\n",
              "      <td>2</td>\n",
              "      <td>102.0</td>\n",
              "      <td>NaN</td>\n",
              "      <td>NaN</td>\n",
              "      <td>NaN</td>\n",
              "      <td>0</td>\n",
              "      <td>0</td>\n",
              "    </tr>\n",
              "    <tr>\n",
              "      <th>1</th>\n",
              "      <td>2002</td>\n",
              "      <td>10000284</td>\n",
              "      <td>2</td>\n",
              "      <td>102.0</td>\n",
              "      <td>NaN</td>\n",
              "      <td>NaN</td>\n",
              "      <td>NaN</td>\n",
              "      <td>0</td>\n",
              "      <td>0</td>\n",
              "    </tr>\n",
              "    <tr>\n",
              "      <th>2</th>\n",
              "      <td>2002</td>\n",
              "      <td>10000309</td>\n",
              "      <td>2</td>\n",
              "      <td>102.0</td>\n",
              "      <td>NaN</td>\n",
              "      <td>NaN</td>\n",
              "      <td>NaN</td>\n",
              "      <td>0</td>\n",
              "      <td>0</td>\n",
              "    </tr>\n",
              "    <tr>\n",
              "      <th>3</th>\n",
              "      <td>2002</td>\n",
              "      <td>10000325</td>\n",
              "      <td>2</td>\n",
              "      <td>102.0</td>\n",
              "      <td>NaN</td>\n",
              "      <td>NaN</td>\n",
              "      <td>NaN</td>\n",
              "      <td>0</td>\n",
              "      <td>0</td>\n",
              "    </tr>\n",
              "    <tr>\n",
              "      <th>4</th>\n",
              "      <td>2002</td>\n",
              "      <td>10000439</td>\n",
              "      <td>2</td>\n",
              "      <td>102.0</td>\n",
              "      <td>NaN</td>\n",
              "      <td>NaN</td>\n",
              "      <td>NaN</td>\n",
              "      <td>0</td>\n",
              "      <td>0</td>\n",
              "    </tr>\n",
              "  </tbody>\n",
              "</table>\n",
              "</div>"
            ],
            "text/plain": [
              "   STND_Y  PERSON_ID  SEX    AGE  ...  DTH_CODE1 DTH_CODE2 DFAB_GRD_CD  DFAB_PTN_CD\n",
              "0    2002   10000244    2  102.0  ...        NaN       NaN           0            0\n",
              "1    2002   10000284    2  102.0  ...        NaN       NaN           0            0\n",
              "2    2002   10000309    2  102.0  ...        NaN       NaN           0            0\n",
              "3    2002   10000325    2  102.0  ...        NaN       NaN           0            0\n",
              "4    2002   10000439    2  102.0  ...        NaN       NaN           0            0\n",
              "\n",
              "[5 rows x 9 columns]"
            ]
          },
          "metadata": {
            "tags": []
          },
          "execution_count": 11
        }
      ]
    },
    {
      "cell_type": "code",
      "metadata": {
        "colab": {
          "base_uri": "https://localhost:8080/",
          "height": 17
        },
        "id": "T2pv9bMuyUy2",
        "outputId": "07a18fb2-502f-4b67-f379-e3c749988337"
      },
      "source": [
        "from google.colab import files\n",
        "jk_filtered.to_csv('jk_filtered.csv', sep=',', na_rep='NaN')\n",
        "files.download('jk_filtered.csv')"
      ],
      "execution_count": null,
      "outputs": [
        {
          "output_type": "display_data",
          "data": {
            "application/javascript": [
              "\n",
              "    async function download(id, filename, size) {\n",
              "      if (!google.colab.kernel.accessAllowed) {\n",
              "        return;\n",
              "      }\n",
              "      const div = document.createElement('div');\n",
              "      const label = document.createElement('label');\n",
              "      label.textContent = `Downloading \"${filename}\": `;\n",
              "      div.appendChild(label);\n",
              "      const progress = document.createElement('progress');\n",
              "      progress.max = size;\n",
              "      div.appendChild(progress);\n",
              "      document.body.appendChild(div);\n",
              "\n",
              "      const buffers = [];\n",
              "      let downloaded = 0;\n",
              "\n",
              "      const channel = await google.colab.kernel.comms.open(id);\n",
              "      // Send a message to notify the kernel that we're ready.\n",
              "      channel.send({})\n",
              "\n",
              "      for await (const message of channel.messages) {\n",
              "        // Send a message to notify the kernel that we're ready.\n",
              "        channel.send({})\n",
              "        if (message.buffers) {\n",
              "          for (const buffer of message.buffers) {\n",
              "            buffers.push(buffer);\n",
              "            downloaded += buffer.byteLength;\n",
              "            progress.value = downloaded;\n",
              "          }\n",
              "        }\n",
              "      }\n",
              "      const blob = new Blob(buffers, {type: 'application/binary'});\n",
              "      const a = document.createElement('a');\n",
              "      a.href = window.URL.createObjectURL(blob);\n",
              "      a.download = filename;\n",
              "      div.appendChild(a);\n",
              "      a.click();\n",
              "      div.remove();\n",
              "    }\n",
              "  "
            ],
            "text/plain": [
              "<IPython.core.display.Javascript object>"
            ]
          },
          "metadata": {
            "tags": []
          }
        },
        {
          "output_type": "display_data",
          "data": {
            "application/javascript": [
              "download(\"download_5f82db6f-5844-4f82-a234-7c342011239d\", \"jk_filtered.csv\", 252792390)"
            ],
            "text/plain": [
              "<IPython.core.display.Javascript object>"
            ]
          },
          "metadata": {
            "tags": []
          }
        }
      ]
    },
    {
      "cell_type": "code",
      "metadata": {
        "id": "Ts2tdYyjEWtd"
      },
      "source": [
        "file_dicts = [\n",
        "  {\n",
        "    'sas7bdat_file': '/gdrive/My Drive/Disease Prediction/02.T120/nhis_senior_gy20_t1_2003.sas7bdat',\n",
        "    'export_file': 'nhis_senior_gy20_t1_2003.csv'\n",
        "    }\n",
        "]\n",
        "sas7bdat_converter.batch_to_csv(file_dicts)"
      ],
      "execution_count": null,
      "outputs": []
    },
    {
      "cell_type": "code",
      "metadata": {
        "id": "hrCxO3c4EkdD",
        "colab": {
          "base_uri": "https://localhost:8080/"
        },
        "outputId": "006f274d-1511-46f3-e865-896738508fb6"
      },
      "source": [
        "import pandas as pd\n",
        "t2=pd.read_csv('nhis_senior_gy20_t1_2003.csv')"
      ],
      "execution_count": 7,
      "outputs": [
        {
          "output_type": "stream",
          "text": [
            "/usr/local/lib/python3.6/dist-packages/IPython/core/interactiveshell.py:2718: DtypeWarning: Columns (5,18) have mixed types.Specify dtype option on import or set low_memory=False.\n",
            "  interactivity=interactivity, compiler=compiler, result=result)\n"
          ],
          "name": "stderr"
        }
      ]
    },
    {
      "cell_type": "code",
      "metadata": {
        "colab": {
          "base_uri": "https://localhost:8080/",
          "height": 558
        },
        "id": "vU86tBgmG7bG",
        "outputId": "57e323fb-8d98-4a48-f763-dce1885bd821"
      },
      "source": [
        "print('열의 개수: ',len(t2.columns))\n",
        "print(t2.columns)\n",
        "t2"
      ],
      "execution_count": 9,
      "outputs": [
        {
          "output_type": "stream",
          "text": [
            "열의 개수:  20\n",
            "Index(['PERSON_ID', 'KEY_SEQ', 'YKIHO_ID', 'RECU_FR_DT', 'FORM_CD', 'DSBJT_CD',\n",
            "       'MAIN_SICK', 'SUB_SICK', 'IN_PAT_CORS_TYPE', 'RECN', 'VSCN',\n",
            "       'FST_IN_PAT_DT', 'EDEC_ADD_RT', 'EDEC_TRAMT', 'EDEC_SBRDN_AMT',\n",
            "       'EDEC_JBRDN_AMT', 'EDEC_CT_TOT_AMT', 'EDEC_MRI_TOT_AMT', 'DMD_DRG_NO',\n",
            "       'TOT_PRES_DD_CNT'],\n",
            "      dtype='object')\n"
          ],
          "name": "stdout"
        },
        {
          "output_type": "execute_result",
          "data": {
            "text/html": [
              "<div>\n",
              "<style scoped>\n",
              "    .dataframe tbody tr th:only-of-type {\n",
              "        vertical-align: middle;\n",
              "    }\n",
              "\n",
              "    .dataframe tbody tr th {\n",
              "        vertical-align: top;\n",
              "    }\n",
              "\n",
              "    .dataframe thead th {\n",
              "        text-align: right;\n",
              "    }\n",
              "</style>\n",
              "<table border=\"1\" class=\"dataframe\">\n",
              "  <thead>\n",
              "    <tr style=\"text-align: right;\">\n",
              "      <th></th>\n",
              "      <th>PERSON_ID</th>\n",
              "      <th>KEY_SEQ</th>\n",
              "      <th>YKIHO_ID</th>\n",
              "      <th>RECU_FR_DT</th>\n",
              "      <th>FORM_CD</th>\n",
              "      <th>DSBJT_CD</th>\n",
              "      <th>MAIN_SICK</th>\n",
              "      <th>SUB_SICK</th>\n",
              "      <th>IN_PAT_CORS_TYPE</th>\n",
              "      <th>RECN</th>\n",
              "      <th>VSCN</th>\n",
              "      <th>FST_IN_PAT_DT</th>\n",
              "      <th>EDEC_ADD_RT</th>\n",
              "      <th>EDEC_TRAMT</th>\n",
              "      <th>EDEC_SBRDN_AMT</th>\n",
              "      <th>EDEC_JBRDN_AMT</th>\n",
              "      <th>EDEC_CT_TOT_AMT</th>\n",
              "      <th>EDEC_MRI_TOT_AMT</th>\n",
              "      <th>DMD_DRG_NO</th>\n",
              "      <th>TOT_PRES_DD_CNT</th>\n",
              "    </tr>\n",
              "  </thead>\n",
              "  <tbody>\n",
              "    <tr>\n",
              "      <th>0</th>\n",
              "      <td>99672344</td>\n",
              "      <td>200208814812</td>\n",
              "      <td>100016</td>\n",
              "      <td>20021009</td>\n",
              "      <td>3</td>\n",
              "      <td>2</td>\n",
              "      <td>I63</td>\n",
              "      <td>K70</td>\n",
              "      <td>NaN</td>\n",
              "      <td>1.0</td>\n",
              "      <td>1.0</td>\n",
              "      <td>NaN</td>\n",
              "      <td>30.0</td>\n",
              "      <td>145980.0</td>\n",
              "      <td>78230.0</td>\n",
              "      <td>67750.0</td>\n",
              "      <td>0.0</td>\n",
              "      <td>0.0</td>\n",
              "      <td>010150</td>\n",
              "      <td>14.0</td>\n",
              "    </tr>\n",
              "    <tr>\n",
              "      <th>1</th>\n",
              "      <td>99494563</td>\n",
              "      <td>200206150143</td>\n",
              "      <td>100016</td>\n",
              "      <td>20020711</td>\n",
              "      <td>2</td>\n",
              "      <td>7</td>\n",
              "      <td>S2230</td>\n",
              "      <td>NaN</td>\n",
              "      <td>22.0</td>\n",
              "      <td>4.0</td>\n",
              "      <td>1.0</td>\n",
              "      <td>NaN</td>\n",
              "      <td>30.0</td>\n",
              "      <td>100930.0</td>\n",
              "      <td>20180.0</td>\n",
              "      <td>80750.0</td>\n",
              "      <td>0.0</td>\n",
              "      <td>0.0</td>\n",
              "      <td>041010</td>\n",
              "      <td>0.0</td>\n",
              "    </tr>\n",
              "    <tr>\n",
              "      <th>2</th>\n",
              "      <td>99879986</td>\n",
              "      <td>200204167768</td>\n",
              "      <td>100016</td>\n",
              "      <td>20020415</td>\n",
              "      <td>3</td>\n",
              "      <td>1</td>\n",
              "      <td>E11</td>\n",
              "      <td>E78</td>\n",
              "      <td>NaN</td>\n",
              "      <td>1.0</td>\n",
              "      <td>1.0</td>\n",
              "      <td>NaN</td>\n",
              "      <td>30.0</td>\n",
              "      <td>12580.0</td>\n",
              "      <td>11530.0</td>\n",
              "      <td>1050.0</td>\n",
              "      <td>0.0</td>\n",
              "      <td>0.0</td>\n",
              "      <td>102940</td>\n",
              "      <td>30.0</td>\n",
              "    </tr>\n",
              "    <tr>\n",
              "      <th>3</th>\n",
              "      <td>99672344</td>\n",
              "      <td>200207891868</td>\n",
              "      <td>100016</td>\n",
              "      <td>20020911</td>\n",
              "      <td>3</td>\n",
              "      <td>2</td>\n",
              "      <td>I63</td>\n",
              "      <td>K70</td>\n",
              "      <td>NaN</td>\n",
              "      <td>1.0</td>\n",
              "      <td>1.0</td>\n",
              "      <td>NaN</td>\n",
              "      <td>30.0</td>\n",
              "      <td>10490.0</td>\n",
              "      <td>10490.0</td>\n",
              "      <td>0.0</td>\n",
              "      <td>0.0</td>\n",
              "      <td>0.0</td>\n",
              "      <td>010150</td>\n",
              "      <td>14.0</td>\n",
              "    </tr>\n",
              "    <tr>\n",
              "      <th>4</th>\n",
              "      <td>99672344</td>\n",
              "      <td>200206986805</td>\n",
              "      <td>100016</td>\n",
              "      <td>20020814</td>\n",
              "      <td>3</td>\n",
              "      <td>2</td>\n",
              "      <td>I63</td>\n",
              "      <td>K70</td>\n",
              "      <td>NaN</td>\n",
              "      <td>1.0</td>\n",
              "      <td>1.0</td>\n",
              "      <td>NaN</td>\n",
              "      <td>30.0</td>\n",
              "      <td>10490.0</td>\n",
              "      <td>10490.0</td>\n",
              "      <td>0.0</td>\n",
              "      <td>0.0</td>\n",
              "      <td>0.0</td>\n",
              "      <td>010150</td>\n",
              "      <td>14.0</td>\n",
              "    </tr>\n",
              "    <tr>\n",
              "      <th>...</th>\n",
              "      <td>...</td>\n",
              "      <td>...</td>\n",
              "      <td>...</td>\n",
              "      <td>...</td>\n",
              "      <td>...</td>\n",
              "      <td>...</td>\n",
              "      <td>...</td>\n",
              "      <td>...</td>\n",
              "      <td>...</td>\n",
              "      <td>...</td>\n",
              "      <td>...</td>\n",
              "      <td>...</td>\n",
              "      <td>...</td>\n",
              "      <td>...</td>\n",
              "      <td>...</td>\n",
              "      <td>...</td>\n",
              "      <td>...</td>\n",
              "      <td>...</td>\n",
              "      <td>...</td>\n",
              "      <td>...</td>\n",
              "    </tr>\n",
              "    <tr>\n",
              "      <th>5146299</th>\n",
              "      <td>81224736</td>\n",
              "      <td>200210249456</td>\n",
              "      <td>946781</td>\n",
              "      <td>20020919</td>\n",
              "      <td>8</td>\n",
              "      <td>0</td>\n",
              "      <td>M545</td>\n",
              "      <td>NaN</td>\n",
              "      <td>NaN</td>\n",
              "      <td>1.0</td>\n",
              "      <td>1.0</td>\n",
              "      <td>NaN</td>\n",
              "      <td>0.0</td>\n",
              "      <td>4500.0</td>\n",
              "      <td>1400.0</td>\n",
              "      <td>3100.0</td>\n",
              "      <td>0.0</td>\n",
              "      <td>0.0</td>\n",
              "      <td>82430</td>\n",
              "      <td>0.0</td>\n",
              "    </tr>\n",
              "    <tr>\n",
              "      <th>5146300</th>\n",
              "      <td>67073090</td>\n",
              "      <td>200210249454</td>\n",
              "      <td>946781</td>\n",
              "      <td>20020916</td>\n",
              "      <td>8</td>\n",
              "      <td>0</td>\n",
              "      <td>I10</td>\n",
              "      <td>NaN</td>\n",
              "      <td>NaN</td>\n",
              "      <td>1.0</td>\n",
              "      <td>1.0</td>\n",
              "      <td>NaN</td>\n",
              "      <td>0.0</td>\n",
              "      <td>3000.0</td>\n",
              "      <td>500.0</td>\n",
              "      <td>2500.0</td>\n",
              "      <td>0.0</td>\n",
              "      <td>0.0</td>\n",
              "      <td>51340</td>\n",
              "      <td>30.0</td>\n",
              "    </tr>\n",
              "    <tr>\n",
              "      <th>5146301</th>\n",
              "      <td>67073090</td>\n",
              "      <td>200210537917</td>\n",
              "      <td>946781</td>\n",
              "      <td>20021218</td>\n",
              "      <td>8</td>\n",
              "      <td>0</td>\n",
              "      <td>I10</td>\n",
              "      <td>NaN</td>\n",
              "      <td>NaN</td>\n",
              "      <td>1.0</td>\n",
              "      <td>1.0</td>\n",
              "      <td>NaN</td>\n",
              "      <td>0.0</td>\n",
              "      <td>3000.0</td>\n",
              "      <td>500.0</td>\n",
              "      <td>2500.0</td>\n",
              "      <td>0.0</td>\n",
              "      <td>0.0</td>\n",
              "      <td>51340</td>\n",
              "      <td>30.0</td>\n",
              "    </tr>\n",
              "    <tr>\n",
              "      <th>5146302</th>\n",
              "      <td>67073090</td>\n",
              "      <td>200210250329</td>\n",
              "      <td>946781</td>\n",
              "      <td>20021118</td>\n",
              "      <td>8</td>\n",
              "      <td>0</td>\n",
              "      <td>I10</td>\n",
              "      <td>NaN</td>\n",
              "      <td>NaN</td>\n",
              "      <td>1.0</td>\n",
              "      <td>1.0</td>\n",
              "      <td>NaN</td>\n",
              "      <td>0.0</td>\n",
              "      <td>3000.0</td>\n",
              "      <td>500.0</td>\n",
              "      <td>2500.0</td>\n",
              "      <td>0.0</td>\n",
              "      <td>0.0</td>\n",
              "      <td>51340</td>\n",
              "      <td>30.0</td>\n",
              "    </tr>\n",
              "    <tr>\n",
              "      <th>5146303</th>\n",
              "      <td>67073090</td>\n",
              "      <td>200210249795</td>\n",
              "      <td>946781</td>\n",
              "      <td>20021019</td>\n",
              "      <td>8</td>\n",
              "      <td>0</td>\n",
              "      <td>I10</td>\n",
              "      <td>NaN</td>\n",
              "      <td>NaN</td>\n",
              "      <td>1.0</td>\n",
              "      <td>1.0</td>\n",
              "      <td>NaN</td>\n",
              "      <td>0.0</td>\n",
              "      <td>3000.0</td>\n",
              "      <td>500.0</td>\n",
              "      <td>2500.0</td>\n",
              "      <td>0.0</td>\n",
              "      <td>0.0</td>\n",
              "      <td>51340</td>\n",
              "      <td>30.0</td>\n",
              "    </tr>\n",
              "  </tbody>\n",
              "</table>\n",
              "<p>5146304 rows × 20 columns</p>\n",
              "</div>"
            ],
            "text/plain": [
              "         PERSON_ID       KEY_SEQ  ...  DMD_DRG_NO  TOT_PRES_DD_CNT\n",
              "0         99672344  200208814812  ...      010150             14.0\n",
              "1         99494563  200206150143  ...      041010              0.0\n",
              "2         99879986  200204167768  ...      102940             30.0\n",
              "3         99672344  200207891868  ...      010150             14.0\n",
              "4         99672344  200206986805  ...      010150             14.0\n",
              "...            ...           ...  ...         ...              ...\n",
              "5146299   81224736  200210249456  ...       82430              0.0\n",
              "5146300   67073090  200210249454  ...       51340             30.0\n",
              "5146301   67073090  200210537917  ...       51340             30.0\n",
              "5146302   67073090  200210250329  ...       51340             30.0\n",
              "5146303   67073090  200210249795  ...       51340             30.0\n",
              "\n",
              "[5146304 rows x 20 columns]"
            ]
          },
          "metadata": {
            "tags": []
          },
          "execution_count": 9
        }
      ]
    },
    {
      "cell_type": "code",
      "metadata": {
        "id": "LDol_FLzHZa2"
      },
      "source": [
        "t2 = t2[['PERSON_ID', 'MAIN_SICK', 'SUB_SICK', 'RECN', 'VSCN']]"
      ],
      "execution_count": 8,
      "outputs": []
    },
    {
      "cell_type": "code",
      "metadata": {
        "colab": {
          "base_uri": "https://localhost:8080/",
          "height": 419
        },
        "id": "_ZbEhqKgI_FE",
        "outputId": "1e0c1080-5cda-4ce6-ee93-c44c0f000c04"
      },
      "source": [
        "t2"
      ],
      "execution_count": 9,
      "outputs": [
        {
          "output_type": "execute_result",
          "data": {
            "text/html": [
              "<div>\n",
              "<style scoped>\n",
              "    .dataframe tbody tr th:only-of-type {\n",
              "        vertical-align: middle;\n",
              "    }\n",
              "\n",
              "    .dataframe tbody tr th {\n",
              "        vertical-align: top;\n",
              "    }\n",
              "\n",
              "    .dataframe thead th {\n",
              "        text-align: right;\n",
              "    }\n",
              "</style>\n",
              "<table border=\"1\" class=\"dataframe\">\n",
              "  <thead>\n",
              "    <tr style=\"text-align: right;\">\n",
              "      <th></th>\n",
              "      <th>PERSON_ID</th>\n",
              "      <th>MAIN_SICK</th>\n",
              "      <th>SUB_SICK</th>\n",
              "      <th>RECN</th>\n",
              "      <th>VSCN</th>\n",
              "    </tr>\n",
              "  </thead>\n",
              "  <tbody>\n",
              "    <tr>\n",
              "      <th>0</th>\n",
              "      <td>99672344</td>\n",
              "      <td>I63</td>\n",
              "      <td>K70</td>\n",
              "      <td>1.0</td>\n",
              "      <td>1.0</td>\n",
              "    </tr>\n",
              "    <tr>\n",
              "      <th>1</th>\n",
              "      <td>99494563</td>\n",
              "      <td>S2230</td>\n",
              "      <td>NaN</td>\n",
              "      <td>4.0</td>\n",
              "      <td>1.0</td>\n",
              "    </tr>\n",
              "    <tr>\n",
              "      <th>2</th>\n",
              "      <td>99879986</td>\n",
              "      <td>E11</td>\n",
              "      <td>E78</td>\n",
              "      <td>1.0</td>\n",
              "      <td>1.0</td>\n",
              "    </tr>\n",
              "    <tr>\n",
              "      <th>3</th>\n",
              "      <td>99672344</td>\n",
              "      <td>I63</td>\n",
              "      <td>K70</td>\n",
              "      <td>1.0</td>\n",
              "      <td>1.0</td>\n",
              "    </tr>\n",
              "    <tr>\n",
              "      <th>4</th>\n",
              "      <td>99672344</td>\n",
              "      <td>I63</td>\n",
              "      <td>K70</td>\n",
              "      <td>1.0</td>\n",
              "      <td>1.0</td>\n",
              "    </tr>\n",
              "    <tr>\n",
              "      <th>...</th>\n",
              "      <td>...</td>\n",
              "      <td>...</td>\n",
              "      <td>...</td>\n",
              "      <td>...</td>\n",
              "      <td>...</td>\n",
              "    </tr>\n",
              "    <tr>\n",
              "      <th>5146299</th>\n",
              "      <td>81224736</td>\n",
              "      <td>M545</td>\n",
              "      <td>NaN</td>\n",
              "      <td>1.0</td>\n",
              "      <td>1.0</td>\n",
              "    </tr>\n",
              "    <tr>\n",
              "      <th>5146300</th>\n",
              "      <td>67073090</td>\n",
              "      <td>I10</td>\n",
              "      <td>NaN</td>\n",
              "      <td>1.0</td>\n",
              "      <td>1.0</td>\n",
              "    </tr>\n",
              "    <tr>\n",
              "      <th>5146301</th>\n",
              "      <td>67073090</td>\n",
              "      <td>I10</td>\n",
              "      <td>NaN</td>\n",
              "      <td>1.0</td>\n",
              "      <td>1.0</td>\n",
              "    </tr>\n",
              "    <tr>\n",
              "      <th>5146302</th>\n",
              "      <td>67073090</td>\n",
              "      <td>I10</td>\n",
              "      <td>NaN</td>\n",
              "      <td>1.0</td>\n",
              "      <td>1.0</td>\n",
              "    </tr>\n",
              "    <tr>\n",
              "      <th>5146303</th>\n",
              "      <td>67073090</td>\n",
              "      <td>I10</td>\n",
              "      <td>NaN</td>\n",
              "      <td>1.0</td>\n",
              "      <td>1.0</td>\n",
              "    </tr>\n",
              "  </tbody>\n",
              "</table>\n",
              "<p>5146304 rows × 5 columns</p>\n",
              "</div>"
            ],
            "text/plain": [
              "         PERSON_ID MAIN_SICK SUB_SICK  RECN  VSCN\n",
              "0         99672344       I63      K70   1.0   1.0\n",
              "1         99494563     S2230      NaN   4.0   1.0\n",
              "2         99879986       E11      E78   1.0   1.0\n",
              "3         99672344       I63      K70   1.0   1.0\n",
              "4         99672344       I63      K70   1.0   1.0\n",
              "...            ...       ...      ...   ...   ...\n",
              "5146299   81224736      M545      NaN   1.0   1.0\n",
              "5146300   67073090       I10      NaN   1.0   1.0\n",
              "5146301   67073090       I10      NaN   1.0   1.0\n",
              "5146302   67073090       I10      NaN   1.0   1.0\n",
              "5146303   67073090       I10      NaN   1.0   1.0\n",
              "\n",
              "[5146304 rows x 5 columns]"
            ]
          },
          "metadata": {
            "tags": []
          },
          "execution_count": 9
        }
      ]
    },
    {
      "cell_type": "code",
      "metadata": {
        "colab": {
          "base_uri": "https://localhost:8080/",
          "height": 17
        },
        "id": "VXnJcKKgOxnu",
        "outputId": "025942d0-9cd5-4f8c-abe7-7698d34cbf8d"
      },
      "source": [
        "from google.colab import files\n",
        "t2.to_csv('t3.csv', sep=',', na_rep='NaN')\n",
        "files.download('t3.csv')"
      ],
      "execution_count": 11,
      "outputs": [
        {
          "output_type": "display_data",
          "data": {
            "application/javascript": [
              "\n",
              "    async function download(id, filename, size) {\n",
              "      if (!google.colab.kernel.accessAllowed) {\n",
              "        return;\n",
              "      }\n",
              "      const div = document.createElement('div');\n",
              "      const label = document.createElement('label');\n",
              "      label.textContent = `Downloading \"${filename}\": `;\n",
              "      div.appendChild(label);\n",
              "      const progress = document.createElement('progress');\n",
              "      progress.max = size;\n",
              "      div.appendChild(progress);\n",
              "      document.body.appendChild(div);\n",
              "\n",
              "      const buffers = [];\n",
              "      let downloaded = 0;\n",
              "\n",
              "      const channel = await google.colab.kernel.comms.open(id);\n",
              "      // Send a message to notify the kernel that we're ready.\n",
              "      channel.send({})\n",
              "\n",
              "      for await (const message of channel.messages) {\n",
              "        // Send a message to notify the kernel that we're ready.\n",
              "        channel.send({})\n",
              "        if (message.buffers) {\n",
              "          for (const buffer of message.buffers) {\n",
              "            buffers.push(buffer);\n",
              "            downloaded += buffer.byteLength;\n",
              "            progress.value = downloaded;\n",
              "          }\n",
              "        }\n",
              "      }\n",
              "      const blob = new Blob(buffers, {type: 'application/binary'});\n",
              "      const a = document.createElement('a');\n",
              "      a.href = window.URL.createObjectURL(blob);\n",
              "      a.download = filename;\n",
              "      div.appendChild(a);\n",
              "      a.click();\n",
              "      div.remove();\n",
              "    }\n",
              "  "
            ],
            "text/plain": [
              "<IPython.core.display.Javascript object>"
            ]
          },
          "metadata": {
            "tags": []
          }
        },
        {
          "output_type": "display_data",
          "data": {
            "application/javascript": [
              "download(\"download_bfc04a4f-3e69-45e3-8e16-6eae12270795\", \"t2.csv\", 174897894)"
            ],
            "text/plain": [
              "<IPython.core.display.Javascript object>"
            ]
          },
          "metadata": {
            "tags": []
          }
        }
      ]
    },
    {
      "cell_type": "code",
      "metadata": {
        "id": "jMqQCItwKEGq"
      },
      "source": [
        "for i in ['03','04','05','06','07','08','09','10','11','12','13']:\n",
        "  file_dicts = [{'sas7bdat_file': '/gdrive/My Drive/Disease Prediction/02.T120/nhis_senior_gy20_t1_20'+i+'.sas7bdat','export_file': 'nhis_senior_gy20_t1_temp.csv'}]\n",
        "  sas7bdat_converter.batch_to_csv(file_dicts)\n",
        "  t_temp = pd.read_csv('nhis_senior_gy20_t1_temp.csv')\n",
        "  t_temp = t_temp[['PERSON_ID', 'MAIN_SICK', 'SUB_SICK', 'RECN', 'VSCN']]\n",
        "  t2 = pd.concat([t2,t_temp])\n",
        "  print(len(t2))"
      ],
      "execution_count": null,
      "outputs": []
    },
    {
      "cell_type": "code",
      "metadata": {
        "id": "9DqCl-9gGyvA"
      },
      "source": [
        "t_total1 = pd.concat([t2,t3,t4,t5,t6,t7])\n",
        "print(t_total1)"
      ],
      "execution_count": null,
      "outputs": []
    },
    {
      "cell_type": "code",
      "metadata": {
        "id": "87XvtVi7G2xW"
      },
      "source": [
        "print('열의 개수: ',len(t_total1.columns))\n",
        "print(t_total1.columns)"
      ],
      "execution_count": null,
      "outputs": []
    },
    {
      "cell_type": "code",
      "metadata": {
        "id": "_nfCiqDSG7pC"
      },
      "source": [
        "t_filtered1 = t_total1[[]]"
      ],
      "execution_count": null,
      "outputs": []
    },
    {
      "cell_type": "code",
      "metadata": {
        "colab": {
          "base_uri": "https://localhost:8080/"
        },
        "id": "YVFS9sedzdid",
        "outputId": "fba9f439-7ec7-415e-d9ab-f63611202a0e"
      },
      "source": [
        "file_dicts2 = [\n",
        "  {\n",
        "    'sas7bdat_file': '/gdrive/My Drive/Disease Prediction/02.T120/nhis_senior_gy20_t1_2006.sas7bdat',\n",
        "    'export_file': 'nhis_senior_gy20_t1_2006.csv'},{\n",
        "    'sas7bdat_file': '/gdrive/My Drive/Disease Prediction/02.T120/nhis_senior_gy20_t1_2007.sas7bdat',\n",
        "    'export_file': 'nhis_senior_gy20_t1_2007.csv'},{\n",
        "    'sas7bdat_file': '/gdrive/My Drive/Disease Prediction/02.T120/nhis_senior_gy20_t1_2008.sas7bdat',\n",
        "    'export_file': 'nhis_senior_gy20_t1_2008.csv'},{\n",
        "    'sas7bdat_file': '/gdrive/My Drive/Disease Prediction/02.T120/nhis_senior_gy20_t1_2009.sas7bdat',\n",
        "    'export_file': 'nhis_senior_gy20_t1_2009.csv'},{\n",
        "    'sas7bdat_file': '/gdrive/My Drive/Disease Prediction/02.T120/nhis_senior_gy20_t1_2010.sas7bdat',\n",
        "    'export_file': 'nhis_senior_gy20_t1_2010.csv'},{\n",
        "    'sas7bdat_file': '/gdrive/My Drive/Disease Prediction/02.T120/nhis_senior_gy20_t1_2011.sas7bdat',\n",
        "    'export_file': 'nhis_senior_gy20_t1_2011.csv'},{\n",
        "    'sas7bdat_file': '/gdrive/My Drive/Disease Prediction/02.T120/nhis_senior_gy20_t1_2012.sas7bdat',\n",
        "    'export_file': 'nhis_senior_gy20_t1_2012.csv'},{\n",
        "    'sas7bdat_file': '/gdrive/My Drive/Disease Prediction/02.T120/nhis_senior_gy20_t1_2013.sas7bdat',\n",
        "    'export_file': 'nhis_senior_gy20_t1_2013.csv'\n",
        "    }\n",
        "]\n",
        "sas7bdat_converter.batch_to_csv(file_dicts2)"
      ],
      "execution_count": null,
      "outputs": [
        {
          "output_type": "stream",
          "text": [
            "2020-12-23 04:53:58,431: INFO: NumExpr defaulting to 2 threads.\n"
          ],
          "name": "stderr"
        }
      ]
    },
    {
      "cell_type": "code",
      "metadata": {
        "id": "F6oo5Eo20FKq"
      },
      "source": [
        "t2=pd.read_csv('nhis_senior_gy20_t1_2002.csv')\n",
        "t3=pd.read_csv('nhis_senior_gy20_t1_2003.csv')\n",
        "t4=pd.read_csv('nhis_senior_gy20_t1_2004.csv')\n",
        "t5=pd.read_csv('nhis_senior_gy20_t1_2005.csv')\n",
        "t6=pd.read_csv('nhis_senior_gy20_t1_2006.csv')\n",
        "t7=pd.read_csv('nhis_senior_gy20_t1_2007.csv')\n",
        "t8=pd.read_csv('nhis_senior_gy20_t1_2008.csv')\n",
        "t9=pd.read_csv('nhis_senior_gy20_t1_2009.csv')\n",
        "t10=pd.read_csv('nhis_senior_gy20_t1_2010.csv')\n",
        "t11=pd.read_csv('nhis_senior_gy20_t1_2011.csv')\n",
        "t12=pd.read_csv('nhis_senior_gy20_t1_2012.csv')\n",
        "t13=pd.read_csv('nhis_senior_gy20_t1_2013.csv')"
      ],
      "execution_count": null,
      "outputs": []
    },
    {
      "cell_type": "code",
      "metadata": {
        "id": "qJI6gAto40zx"
      },
      "source": [
        "t_total = pd.concat([t2,t3,t4,t5,t6,t7,t8,t9,t10,t11,t12,t13])\n",
        "print(t_total)"
      ],
      "execution_count": null,
      "outputs": []
    },
    {
      "cell_type": "code",
      "metadata": {
        "id": "7NjivhOu47xe"
      },
      "source": [
        "print('열의 개수: ',len(t_total.columns))\n",
        "print(t_total.columns)"
      ],
      "execution_count": null,
      "outputs": []
    }
  ]
}