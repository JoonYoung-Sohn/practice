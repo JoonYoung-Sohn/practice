{
  "nbformat": 4,
  "nbformat_minor": 0,
  "metadata": {
    "colab": {
      "name": "201224_data_preprocessing.ipynb",
      "provenance": [],
      "collapsed_sections": [],
      "authorship_tag": "ABX9TyOi2Dm6GI1zpmqbjQn0FRN/",
      "include_colab_link": true
    },
    "kernelspec": {
      "name": "python3",
      "display_name": "Python 3"
    }
  },
  "cells": [
    {
      "cell_type": "markdown",
      "metadata": {
        "id": "view-in-github",
        "colab_type": "text"
      },
      "source": [
        "<a href=\"https://colab.research.google.com/github/JoonYoung-Sohn/practice/blob/master/Disease%20Prediction/201224_data_preprocessing.ipynb\" target=\"_parent\"><img src=\"https://colab.research.google.com/assets/colab-badge.svg\" alt=\"Open In Colab\"/></a>"
      ]
    },
    {
      "cell_type": "markdown",
      "metadata": {
        "id": "PKWv6SwI_Wt1"
      },
      "source": [
        "- 필요한 column 뽑아낸 T1, jk, gj dataset 중복 제거, 연도별 중복 column 병합"
      ]
    },
    {
      "cell_type": "code",
      "metadata": {
        "colab": {
          "base_uri": "https://localhost:8080/"
        },
        "id": "DphhHMvX9SaZ",
        "outputId": "6c5bff1b-81e0-4f19-9e1e-39033d4c4fcb"
      },
      "source": [
        "from google.colab import drive\n",
        "drive.mount('/gdrive', force_remount=True)\n",
        "import pandas as pd"
      ],
      "execution_count": 1,
      "outputs": [
        {
          "output_type": "stream",
          "text": [
            "Mounted at /gdrive\n"
          ],
          "name": "stdout"
        }
      ]
    },
    {
      "cell_type": "code",
      "metadata": {
        "colab": {
          "base_uri": "https://localhost:8080/",
          "height": 204
        },
        "id": "Lr86oxhW97rQ",
        "outputId": "bca1de6d-4060-48c1-8ccf-774436ea74f0"
      },
      "source": [
        "t1=pd.read_csv('/gdrive/My Drive/Disease Prediction/02.T120/T1_filtered_v2.csv')\n",
        "t1.head()"
      ],
      "execution_count": 2,
      "outputs": [
        {
          "output_type": "execute_result",
          "data": {
            "text/html": [
              "<div>\n",
              "<style scoped>\n",
              "    .dataframe tbody tr th:only-of-type {\n",
              "        vertical-align: middle;\n",
              "    }\n",
              "\n",
              "    .dataframe tbody tr th {\n",
              "        vertical-align: top;\n",
              "    }\n",
              "\n",
              "    .dataframe thead th {\n",
              "        text-align: right;\n",
              "    }\n",
              "</style>\n",
              "<table border=\"1\" class=\"dataframe\">\n",
              "  <thead>\n",
              "    <tr style=\"text-align: right;\">\n",
              "      <th></th>\n",
              "      <th>PERSON_ID</th>\n",
              "      <th>MAIN_SICK</th>\n",
              "      <th>SUB_SICK</th>\n",
              "      <th>RECN</th>\n",
              "      <th>VSCN</th>\n",
              "    </tr>\n",
              "  </thead>\n",
              "  <tbody>\n",
              "    <tr>\n",
              "      <th>0</th>\n",
              "      <td>99672344</td>\n",
              "      <td>I63</td>\n",
              "      <td>K70</td>\n",
              "      <td>1.0</td>\n",
              "      <td>1.0</td>\n",
              "    </tr>\n",
              "    <tr>\n",
              "      <th>1</th>\n",
              "      <td>99494563</td>\n",
              "      <td>S2230</td>\n",
              "      <td>NaN</td>\n",
              "      <td>4.0</td>\n",
              "      <td>1.0</td>\n",
              "    </tr>\n",
              "    <tr>\n",
              "      <th>2</th>\n",
              "      <td>99879986</td>\n",
              "      <td>E11</td>\n",
              "      <td>E78</td>\n",
              "      <td>1.0</td>\n",
              "      <td>1.0</td>\n",
              "    </tr>\n",
              "    <tr>\n",
              "      <th>3</th>\n",
              "      <td>99672344</td>\n",
              "      <td>I63</td>\n",
              "      <td>K70</td>\n",
              "      <td>2.0</td>\n",
              "      <td>2.0</td>\n",
              "    </tr>\n",
              "    <tr>\n",
              "      <th>4</th>\n",
              "      <td>99672344</td>\n",
              "      <td>G409</td>\n",
              "      <td>I639</td>\n",
              "      <td>22.0</td>\n",
              "      <td>8.0</td>\n",
              "    </tr>\n",
              "  </tbody>\n",
              "</table>\n",
              "</div>"
            ],
            "text/plain": [
              "   PERSON_ID MAIN_SICK SUB_SICK  RECN  VSCN\n",
              "0   99672344       I63      K70   1.0   1.0\n",
              "1   99494563     S2230      NaN   4.0   1.0\n",
              "2   99879986       E11      E78   1.0   1.0\n",
              "3   99672344       I63      K70   2.0   2.0\n",
              "4   99672344      G409     I639  22.0   8.0"
            ]
          },
          "metadata": {
            "tags": []
          },
          "execution_count": 2
        }
      ]
    },
    {
      "cell_type": "code",
      "metadata": {
        "colab": {
          "base_uri": "https://localhost:8080/"
        },
        "id": "1bTvqQLrHqsS",
        "outputId": "e52f4c3a-68d5-4b15-ce6d-37e1c2aaf1d6"
      },
      "source": [
        "print(len(t1))\n",
        "len(t1['MAIN_SICK'].unique())"
      ],
      "execution_count": 6,
      "outputs": [
        {
          "output_type": "stream",
          "text": [
            "48646785\n"
          ],
          "name": "stdout"
        },
        {
          "output_type": "execute_result",
          "data": {
            "text/plain": [
              "15124"
            ]
          },
          "metadata": {
            "tags": []
          },
          "execution_count": 6
        }
      ]
    },
    {
      "cell_type": "code",
      "metadata": {
        "id": "t_LftdgbVRO6"
      },
      "source": [
        ""
      ],
      "execution_count": null,
      "outputs": []
    },
    {
      "cell_type": "code",
      "metadata": {
        "colab": {
          "base_uri": "https://localhost:8080/",
          "height": 258
        },
        "id": "aDS_OHae-VsQ",
        "outputId": "2d9b9b48-dce7-46fb-fe3b-6c5171c4d776"
      },
      "source": [
        "jk=pd.read_csv('/gdrive/My Drive/Disease Prediction/01.jk/jk_filtered.csv')\n",
        "jk.head()"
      ],
      "execution_count": 4,
      "outputs": [
        {
          "output_type": "stream",
          "text": [
            "/usr/local/lib/python3.6/dist-packages/IPython/core/interactiveshell.py:2718: DtypeWarning: Columns (6,7) have mixed types.Specify dtype option on import or set low_memory=False.\n",
            "  interactivity=interactivity, compiler=compiler, result=result)\n"
          ],
          "name": "stderr"
        },
        {
          "output_type": "execute_result",
          "data": {
            "text/html": [
              "<div>\n",
              "<style scoped>\n",
              "    .dataframe tbody tr th:only-of-type {\n",
              "        vertical-align: middle;\n",
              "    }\n",
              "\n",
              "    .dataframe tbody tr th {\n",
              "        vertical-align: top;\n",
              "    }\n",
              "\n",
              "    .dataframe thead th {\n",
              "        text-align: right;\n",
              "    }\n",
              "</style>\n",
              "<table border=\"1\" class=\"dataframe\">\n",
              "  <thead>\n",
              "    <tr style=\"text-align: right;\">\n",
              "      <th></th>\n",
              "      <th>Unnamed: 0</th>\n",
              "      <th>STND_Y</th>\n",
              "      <th>PERSON_ID</th>\n",
              "      <th>SEX</th>\n",
              "      <th>AGE</th>\n",
              "      <th>DTH_MDY</th>\n",
              "      <th>DTH_CODE1</th>\n",
              "      <th>DTH_CODE2</th>\n",
              "      <th>DFAB_GRD_CD</th>\n",
              "      <th>DFAB_PTN_CD</th>\n",
              "    </tr>\n",
              "  </thead>\n",
              "  <tbody>\n",
              "    <tr>\n",
              "      <th>0</th>\n",
              "      <td>0</td>\n",
              "      <td>2002</td>\n",
              "      <td>10000244</td>\n",
              "      <td>2</td>\n",
              "      <td>102.0</td>\n",
              "      <td>NaN</td>\n",
              "      <td>NaN</td>\n",
              "      <td>NaN</td>\n",
              "      <td>0</td>\n",
              "      <td>0</td>\n",
              "    </tr>\n",
              "    <tr>\n",
              "      <th>1</th>\n",
              "      <td>1</td>\n",
              "      <td>2002</td>\n",
              "      <td>10000284</td>\n",
              "      <td>2</td>\n",
              "      <td>102.0</td>\n",
              "      <td>NaN</td>\n",
              "      <td>NaN</td>\n",
              "      <td>NaN</td>\n",
              "      <td>0</td>\n",
              "      <td>0</td>\n",
              "    </tr>\n",
              "    <tr>\n",
              "      <th>2</th>\n",
              "      <td>2</td>\n",
              "      <td>2002</td>\n",
              "      <td>10000309</td>\n",
              "      <td>2</td>\n",
              "      <td>102.0</td>\n",
              "      <td>NaN</td>\n",
              "      <td>NaN</td>\n",
              "      <td>NaN</td>\n",
              "      <td>0</td>\n",
              "      <td>0</td>\n",
              "    </tr>\n",
              "    <tr>\n",
              "      <th>3</th>\n",
              "      <td>3</td>\n",
              "      <td>2002</td>\n",
              "      <td>10000325</td>\n",
              "      <td>2</td>\n",
              "      <td>102.0</td>\n",
              "      <td>NaN</td>\n",
              "      <td>NaN</td>\n",
              "      <td>NaN</td>\n",
              "      <td>0</td>\n",
              "      <td>0</td>\n",
              "    </tr>\n",
              "    <tr>\n",
              "      <th>4</th>\n",
              "      <td>4</td>\n",
              "      <td>2002</td>\n",
              "      <td>10000439</td>\n",
              "      <td>2</td>\n",
              "      <td>102.0</td>\n",
              "      <td>NaN</td>\n",
              "      <td>NaN</td>\n",
              "      <td>NaN</td>\n",
              "      <td>0</td>\n",
              "      <td>0</td>\n",
              "    </tr>\n",
              "  </tbody>\n",
              "</table>\n",
              "</div>"
            ],
            "text/plain": [
              "   Unnamed: 0  STND_Y  PERSON_ID  ...  DTH_CODE2  DFAB_GRD_CD  DFAB_PTN_CD\n",
              "0           0    2002   10000244  ...        NaN            0            0\n",
              "1           1    2002   10000284  ...        NaN            0            0\n",
              "2           2    2002   10000309  ...        NaN            0            0\n",
              "3           3    2002   10000325  ...        NaN            0            0\n",
              "4           4    2002   10000439  ...        NaN            0            0\n",
              "\n",
              "[5 rows x 10 columns]"
            ]
          },
          "metadata": {
            "tags": []
          },
          "execution_count": 4
        }
      ]
    },
    {
      "cell_type": "code",
      "metadata": {
        "colab": {
          "base_uri": "https://localhost:8080/"
        },
        "id": "RFW9dNrrIMuh",
        "outputId": "892989a8-fc2e-4e8c-c6e3-54a6613b5a24"
      },
      "source": [
        "len(jk['DTH_CODE1'].unique())"
      ],
      "execution_count": 5,
      "outputs": [
        {
          "output_type": "execute_result",
          "data": {
            "text/plain": [
              "548"
            ]
          },
          "metadata": {
            "tags": []
          },
          "execution_count": 5
        }
      ]
    },
    {
      "cell_type": "code",
      "metadata": {
        "colab": {
          "base_uri": "https://localhost:8080/"
        },
        "id": "_Lrod60nC-9m",
        "outputId": "b719d901-0486-4a07-e259-c16af1801bc9"
      },
      "source": [
        "jk['DTH_CODE1'].unique()[:10]"
      ],
      "execution_count": 6,
      "outputs": [
        {
          "output_type": "execute_result",
          "data": {
            "text/plain": [
              "array([nan, 'R54', 'F00-F09', 'I64', 'I50', 'J18', 'N18', 'E14', 'I69',\n",
              "       'M80'], dtype=object)"
            ]
          },
          "metadata": {
            "tags": []
          },
          "execution_count": 6
        }
      ]
    },
    {
      "cell_type": "code",
      "metadata": {
        "id": "zqfxSSZSDRYj"
      },
      "source": [
        ""
      ],
      "execution_count": null,
      "outputs": []
    },
    {
      "cell_type": "code",
      "metadata": {
        "colab": {
          "base_uri": "https://localhost:8080/",
          "height": 241
        },
        "id": "FAxZau5i_2UK",
        "outputId": "de88d8f9-ddf4-442a-aad4-1bc1f120e066"
      },
      "source": [
        "gj=pd.read_csv('/gdrive/My Drive/Disease Prediction/12.gj/gj_filtered.csv')\n",
        "gj.head()"
      ],
      "execution_count": 2,
      "outputs": [
        {
          "output_type": "execute_result",
          "data": {
            "text/html": [
              "<div>\n",
              "<style scoped>\n",
              "    .dataframe tbody tr th:only-of-type {\n",
              "        vertical-align: middle;\n",
              "    }\n",
              "\n",
              "    .dataframe tbody tr th {\n",
              "        vertical-align: top;\n",
              "    }\n",
              "\n",
              "    .dataframe thead th {\n",
              "        text-align: right;\n",
              "    }\n",
              "</style>\n",
              "<table border=\"1\" class=\"dataframe\">\n",
              "  <thead>\n",
              "    <tr style=\"text-align: right;\">\n",
              "      <th></th>\n",
              "      <th>Unnamed: 0</th>\n",
              "      <th>HCHK_YEAR</th>\n",
              "      <th>PERSON_ID</th>\n",
              "      <th>HEIGHT</th>\n",
              "      <th>WEIGHT</th>\n",
              "      <th>BP_HIGH</th>\n",
              "      <th>BP_LWST</th>\n",
              "      <th>BLDS</th>\n",
              "      <th>TOT_CHOLE</th>\n",
              "      <th>HMG</th>\n",
              "      <th>GLY_CD</th>\n",
              "      <th>OLIG_OCCU_CD</th>\n",
              "      <th>OLIG_PH</th>\n",
              "      <th>OLIG_PROTE_CD</th>\n",
              "      <th>SGOT_AST</th>\n",
              "      <th>SGPT_ALT</th>\n",
              "      <th>GAMMA_GTP</th>\n",
              "      <th>HCHK_PMH_CD1</th>\n",
              "      <th>HCHK_PMH_CD2</th>\n",
              "      <th>HCHK_PMH_CD3</th>\n",
              "      <th>FMLY_LIVER_DISE_PATIEN_YN</th>\n",
              "      <th>FMLY_HPRTS_PATIEN_YN</th>\n",
              "      <th>FMLY_APOP_PATIEN_YN</th>\n",
              "      <th>FMLY_HDISE_PATIEN_YN</th>\n",
              "      <th>FMLY_DIABML_PATIEN_YN</th>\n",
              "      <th>FMLY_CANCER_PATIEN_YN</th>\n",
              "      <th>SMK_STAT_TYPE_RSPS_CD</th>\n",
              "      <th>SMK_TERM_RSPS_CD</th>\n",
              "      <th>DSQTY_RSPS_CD</th>\n",
              "      <th>DRNK_HABIT_RSPS_CD</th>\n",
              "      <th>TM1_DRKQTY_RSPS_CD</th>\n",
              "      <th>EXERCI_FREQ_RSPS_CD</th>\n",
              "      <th>WAIST</th>\n",
              "      <th>TRIGLYCERIDE</th>\n",
              "      <th>HDL_CHOLE</th>\n",
              "      <th>LDL_CHOLE</th>\n",
              "      <th>CREATININE</th>\n",
              "      <th>HCHK_APOP_PMH_YN</th>\n",
              "      <th>HCHK_HDISE_PMH_YN</th>\n",
              "      <th>HCHK_HPRTS_PMH_YN</th>\n",
              "      <th>HCHK_DIABML_PMH_YN</th>\n",
              "      <th>HCHK_HPLPDM_PMH_YN</th>\n",
              "      <th>HCHK_ETCDSE_PMH_YN</th>\n",
              "      <th>PAST_SMK_TERM_RSPS_CD</th>\n",
              "      <th>PAST_DSQTY_RSPS_CD</th>\n",
              "      <th>CUR_SMK_TERM_RSPS_CD</th>\n",
              "      <th>CUR_DSQTY_RSPS_CD</th>\n",
              "      <th>MOV20_WEK_FREQ_ID</th>\n",
              "      <th>MOV30_WEK_FREQ_ID</th>\n",
              "      <th>WLK30_WEK_FREQ_ID</th>\n",
              "      <th>KDSQ_C</th>\n",
              "      <th>KDSQ_C_1</th>\n",
              "      <th>KDSQ_C_2</th>\n",
              "      <th>KDSQ_C_3</th>\n",
              "      <th>KDSQ_C_4</th>\n",
              "      <th>KDSQ_C_5</th>\n",
              "      <th>HCHK_PHSS_PMH_YN</th>\n",
              "    </tr>\n",
              "  </thead>\n",
              "  <tbody>\n",
              "    <tr>\n",
              "      <th>0</th>\n",
              "      <td>0</td>\n",
              "      <td>2002</td>\n",
              "      <td>10040729</td>\n",
              "      <td>143.0</td>\n",
              "      <td>46.0</td>\n",
              "      <td>117.0</td>\n",
              "      <td>69.0</td>\n",
              "      <td>90.0</td>\n",
              "      <td>142.0</td>\n",
              "      <td>12.099609</td>\n",
              "      <td>1.0</td>\n",
              "      <td>1.0</td>\n",
              "      <td>6.0</td>\n",
              "      <td>1.0</td>\n",
              "      <td>28.0</td>\n",
              "      <td>26.0</td>\n",
              "      <td>13.0</td>\n",
              "      <td>NaN</td>\n",
              "      <td>NaN</td>\n",
              "      <td>NaN</td>\n",
              "      <td>1.0</td>\n",
              "      <td>1.0</td>\n",
              "      <td>1.0</td>\n",
              "      <td>1.0</td>\n",
              "      <td>1.0</td>\n",
              "      <td>1.0</td>\n",
              "      <td>1.0</td>\n",
              "      <td>NaN</td>\n",
              "      <td>NaN</td>\n",
              "      <td>1.0</td>\n",
              "      <td>NaN</td>\n",
              "      <td>1.0</td>\n",
              "      <td>NaN</td>\n",
              "      <td>NaN</td>\n",
              "      <td>NaN</td>\n",
              "      <td>NaN</td>\n",
              "      <td>NaN</td>\n",
              "      <td>NaN</td>\n",
              "      <td>NaN</td>\n",
              "      <td>NaN</td>\n",
              "      <td>NaN</td>\n",
              "      <td>NaN</td>\n",
              "      <td>NaN</td>\n",
              "      <td>NaN</td>\n",
              "      <td>NaN</td>\n",
              "      <td>NaN</td>\n",
              "      <td>NaN</td>\n",
              "      <td>NaN</td>\n",
              "      <td>NaN</td>\n",
              "      <td>NaN</td>\n",
              "      <td>NaN</td>\n",
              "      <td>NaN</td>\n",
              "      <td>NaN</td>\n",
              "      <td>NaN</td>\n",
              "      <td>NaN</td>\n",
              "      <td>NaN</td>\n",
              "      <td>NaN</td>\n",
              "    </tr>\n",
              "    <tr>\n",
              "      <th>1</th>\n",
              "      <td>1</td>\n",
              "      <td>2002</td>\n",
              "      <td>10081483</td>\n",
              "      <td>133.0</td>\n",
              "      <td>33.0</td>\n",
              "      <td>151.0</td>\n",
              "      <td>75.0</td>\n",
              "      <td>105.0</td>\n",
              "      <td>176.0</td>\n",
              "      <td>11.500000</td>\n",
              "      <td>1.0</td>\n",
              "      <td>1.0</td>\n",
              "      <td>7.0</td>\n",
              "      <td>1.0</td>\n",
              "      <td>13.0</td>\n",
              "      <td>8.0</td>\n",
              "      <td>20.0</td>\n",
              "      <td>NaN</td>\n",
              "      <td>NaN</td>\n",
              "      <td>NaN</td>\n",
              "      <td>1.0</td>\n",
              "      <td>1.0</td>\n",
              "      <td>1.0</td>\n",
              "      <td>1.0</td>\n",
              "      <td>1.0</td>\n",
              "      <td>1.0</td>\n",
              "      <td>1.0</td>\n",
              "      <td>NaN</td>\n",
              "      <td>NaN</td>\n",
              "      <td>1.0</td>\n",
              "      <td>NaN</td>\n",
              "      <td>1.0</td>\n",
              "      <td>NaN</td>\n",
              "      <td>NaN</td>\n",
              "      <td>NaN</td>\n",
              "      <td>NaN</td>\n",
              "      <td>NaN</td>\n",
              "      <td>NaN</td>\n",
              "      <td>NaN</td>\n",
              "      <td>NaN</td>\n",
              "      <td>NaN</td>\n",
              "      <td>NaN</td>\n",
              "      <td>NaN</td>\n",
              "      <td>NaN</td>\n",
              "      <td>NaN</td>\n",
              "      <td>NaN</td>\n",
              "      <td>NaN</td>\n",
              "      <td>NaN</td>\n",
              "      <td>NaN</td>\n",
              "      <td>NaN</td>\n",
              "      <td>NaN</td>\n",
              "      <td>NaN</td>\n",
              "      <td>NaN</td>\n",
              "      <td>NaN</td>\n",
              "      <td>NaN</td>\n",
              "      <td>NaN</td>\n",
              "      <td>NaN</td>\n",
              "    </tr>\n",
              "    <tr>\n",
              "      <th>2</th>\n",
              "      <td>2</td>\n",
              "      <td>2002</td>\n",
              "      <td>10088025</td>\n",
              "      <td>164.0</td>\n",
              "      <td>47.0</td>\n",
              "      <td>130.0</td>\n",
              "      <td>80.0</td>\n",
              "      <td>106.0</td>\n",
              "      <td>135.0</td>\n",
              "      <td>11.699219</td>\n",
              "      <td>1.0</td>\n",
              "      <td>1.0</td>\n",
              "      <td>5.5</td>\n",
              "      <td>1.0</td>\n",
              "      <td>26.0</td>\n",
              "      <td>11.0</td>\n",
              "      <td>12.0</td>\n",
              "      <td>NaN</td>\n",
              "      <td>NaN</td>\n",
              "      <td>NaN</td>\n",
              "      <td>1.0</td>\n",
              "      <td>1.0</td>\n",
              "      <td>1.0</td>\n",
              "      <td>1.0</td>\n",
              "      <td>1.0</td>\n",
              "      <td>1.0</td>\n",
              "      <td>3.0</td>\n",
              "      <td>5.0</td>\n",
              "      <td>1.0</td>\n",
              "      <td>1.0</td>\n",
              "      <td>NaN</td>\n",
              "      <td>1.0</td>\n",
              "      <td>NaN</td>\n",
              "      <td>NaN</td>\n",
              "      <td>NaN</td>\n",
              "      <td>NaN</td>\n",
              "      <td>NaN</td>\n",
              "      <td>NaN</td>\n",
              "      <td>NaN</td>\n",
              "      <td>NaN</td>\n",
              "      <td>NaN</td>\n",
              "      <td>NaN</td>\n",
              "      <td>NaN</td>\n",
              "      <td>NaN</td>\n",
              "      <td>NaN</td>\n",
              "      <td>NaN</td>\n",
              "      <td>NaN</td>\n",
              "      <td>NaN</td>\n",
              "      <td>NaN</td>\n",
              "      <td>NaN</td>\n",
              "      <td>NaN</td>\n",
              "      <td>NaN</td>\n",
              "      <td>NaN</td>\n",
              "      <td>NaN</td>\n",
              "      <td>NaN</td>\n",
              "      <td>NaN</td>\n",
              "      <td>NaN</td>\n",
              "    </tr>\n",
              "    <tr>\n",
              "      <th>3</th>\n",
              "      <td>3</td>\n",
              "      <td>2002</td>\n",
              "      <td>10151226</td>\n",
              "      <td>146.0</td>\n",
              "      <td>65.0</td>\n",
              "      <td>150.0</td>\n",
              "      <td>70.0</td>\n",
              "      <td>69.0</td>\n",
              "      <td>162.0</td>\n",
              "      <td>12.000000</td>\n",
              "      <td>1.0</td>\n",
              "      <td>1.0</td>\n",
              "      <td>6.0</td>\n",
              "      <td>1.0</td>\n",
              "      <td>32.0</td>\n",
              "      <td>33.0</td>\n",
              "      <td>15.0</td>\n",
              "      <td>4.0</td>\n",
              "      <td>5.0</td>\n",
              "      <td>NaN</td>\n",
              "      <td>1.0</td>\n",
              "      <td>1.0</td>\n",
              "      <td>1.0</td>\n",
              "      <td>1.0</td>\n",
              "      <td>1.0</td>\n",
              "      <td>1.0</td>\n",
              "      <td>1.0</td>\n",
              "      <td>NaN</td>\n",
              "      <td>NaN</td>\n",
              "      <td>1.0</td>\n",
              "      <td>NaN</td>\n",
              "      <td>1.0</td>\n",
              "      <td>NaN</td>\n",
              "      <td>NaN</td>\n",
              "      <td>NaN</td>\n",
              "      <td>NaN</td>\n",
              "      <td>NaN</td>\n",
              "      <td>NaN</td>\n",
              "      <td>NaN</td>\n",
              "      <td>NaN</td>\n",
              "      <td>NaN</td>\n",
              "      <td>NaN</td>\n",
              "      <td>NaN</td>\n",
              "      <td>NaN</td>\n",
              "      <td>NaN</td>\n",
              "      <td>NaN</td>\n",
              "      <td>NaN</td>\n",
              "      <td>NaN</td>\n",
              "      <td>NaN</td>\n",
              "      <td>NaN</td>\n",
              "      <td>NaN</td>\n",
              "      <td>NaN</td>\n",
              "      <td>NaN</td>\n",
              "      <td>NaN</td>\n",
              "      <td>NaN</td>\n",
              "      <td>NaN</td>\n",
              "      <td>NaN</td>\n",
              "    </tr>\n",
              "    <tr>\n",
              "      <th>4</th>\n",
              "      <td>4</td>\n",
              "      <td>2002</td>\n",
              "      <td>10174763</td>\n",
              "      <td>133.0</td>\n",
              "      <td>29.0</td>\n",
              "      <td>140.0</td>\n",
              "      <td>90.0</td>\n",
              "      <td>99.0</td>\n",
              "      <td>178.0</td>\n",
              "      <td>13.000000</td>\n",
              "      <td>1.0</td>\n",
              "      <td>1.0</td>\n",
              "      <td>7.0</td>\n",
              "      <td>1.0</td>\n",
              "      <td>40.0</td>\n",
              "      <td>20.0</td>\n",
              "      <td>8.0</td>\n",
              "      <td>NaN</td>\n",
              "      <td>NaN</td>\n",
              "      <td>NaN</td>\n",
              "      <td>1.0</td>\n",
              "      <td>1.0</td>\n",
              "      <td>1.0</td>\n",
              "      <td>1.0</td>\n",
              "      <td>1.0</td>\n",
              "      <td>1.0</td>\n",
              "      <td>1.0</td>\n",
              "      <td>NaN</td>\n",
              "      <td>NaN</td>\n",
              "      <td>1.0</td>\n",
              "      <td>NaN</td>\n",
              "      <td>1.0</td>\n",
              "      <td>NaN</td>\n",
              "      <td>NaN</td>\n",
              "      <td>NaN</td>\n",
              "      <td>NaN</td>\n",
              "      <td>NaN</td>\n",
              "      <td>NaN</td>\n",
              "      <td>NaN</td>\n",
              "      <td>NaN</td>\n",
              "      <td>NaN</td>\n",
              "      <td>NaN</td>\n",
              "      <td>NaN</td>\n",
              "      <td>NaN</td>\n",
              "      <td>NaN</td>\n",
              "      <td>NaN</td>\n",
              "      <td>NaN</td>\n",
              "      <td>NaN</td>\n",
              "      <td>NaN</td>\n",
              "      <td>NaN</td>\n",
              "      <td>NaN</td>\n",
              "      <td>NaN</td>\n",
              "      <td>NaN</td>\n",
              "      <td>NaN</td>\n",
              "      <td>NaN</td>\n",
              "      <td>NaN</td>\n",
              "      <td>NaN</td>\n",
              "    </tr>\n",
              "  </tbody>\n",
              "</table>\n",
              "</div>"
            ],
            "text/plain": [
              "   Unnamed: 0  HCHK_YEAR  PERSON_ID  ...  KDSQ_C_4  KDSQ_C_5  HCHK_PHSS_PMH_YN\n",
              "0           0       2002   10040729  ...       NaN       NaN               NaN\n",
              "1           1       2002   10081483  ...       NaN       NaN               NaN\n",
              "2           2       2002   10088025  ...       NaN       NaN               NaN\n",
              "3           3       2002   10151226  ...       NaN       NaN               NaN\n",
              "4           4       2002   10174763  ...       NaN       NaN               NaN\n",
              "\n",
              "[5 rows x 57 columns]"
            ]
          },
          "metadata": {
            "tags": []
          },
          "execution_count": 2
        }
      ]
    },
    {
      "cell_type": "code",
      "metadata": {
        "colab": {
          "base_uri": "https://localhost:8080/"
        },
        "id": "raV4L7ec_7Mz",
        "outputId": "38c9b012-e7cd-43bf-cc9d-64b1e5154abd"
      },
      "source": [
        "## replace HCHK(~2008) to HCHK(2009~)\n",
        "import sys\n",
        "import numpy as np\n",
        "HCHK_replace_dic = {1:'HCHK_PHSS_PMH_YN',2:'HCHK_ETCDSE_PMH_YN',3:'HCHK_ETCDSE_PMH_YN',4:'HCHK_HPRTS_PMH_YN',5:'HCHK_HDISE_PMH_YN',6:'HCHK_APOP_PMH_YN',7:'HCHK_DIABML_PMH_YN',8:'HCHK_ETCDSE_PMH_YN',9:'HCHK_ETCDSE_PMH_YN'}\n",
        "for n in range(3):\n",
        "  for i in range(len(gj)):\n",
        "    j = gj['HCHK_PMH_CD'+str(int(1+n))][i] ## j = 1~9,nan\n",
        "    if j in HCHK_replace_dic:\n",
        "      #print(j)\n",
        "      #print(gj[HCHK_replace_dic[j]][i])\n",
        "      #sys.exit()\n",
        "      gj[HCHK_replace_dic[j]][i] = 1 ## if j==4 -> 'HCHK_HPRTS_PMH_YN' = 1"
      ],
      "execution_count": 3,
      "outputs": [
        {
          "output_type": "stream",
          "text": [
            "/usr/local/lib/python3.6/dist-packages/ipykernel_launcher.py:12: SettingWithCopyWarning: \n",
            "A value is trying to be set on a copy of a slice from a DataFrame\n",
            "\n",
            "See the caveats in the documentation: https://pandas.pydata.org/pandas-docs/stable/user_guide/indexing.html#returning-a-view-versus-a-copy\n",
            "  if sys.path[0] == '':\n"
          ],
          "name": "stderr"
        }
      ]
    },
    {
      "cell_type": "code",
      "metadata": {
        "colab": {
          "base_uri": "https://localhost:8080/",
          "height": 241
        },
        "id": "YRERBIe3EFqg",
        "outputId": "cd419673-67d8-49ad-8a2c-c0a9af21f071"
      },
      "source": [
        "gj.head()"
      ],
      "execution_count": 57,
      "outputs": [
        {
          "output_type": "execute_result",
          "data": {
            "text/html": [
              "<div>\n",
              "<style scoped>\n",
              "    .dataframe tbody tr th:only-of-type {\n",
              "        vertical-align: middle;\n",
              "    }\n",
              "\n",
              "    .dataframe tbody tr th {\n",
              "        vertical-align: top;\n",
              "    }\n",
              "\n",
              "    .dataframe thead th {\n",
              "        text-align: right;\n",
              "    }\n",
              "</style>\n",
              "<table border=\"1\" class=\"dataframe\">\n",
              "  <thead>\n",
              "    <tr style=\"text-align: right;\">\n",
              "      <th></th>\n",
              "      <th>Unnamed: 0</th>\n",
              "      <th>HCHK_YEAR</th>\n",
              "      <th>PERSON_ID</th>\n",
              "      <th>HEIGHT</th>\n",
              "      <th>WEIGHT</th>\n",
              "      <th>BP_HIGH</th>\n",
              "      <th>BP_LWST</th>\n",
              "      <th>BLDS</th>\n",
              "      <th>TOT_CHOLE</th>\n",
              "      <th>HMG</th>\n",
              "      <th>GLY_CD</th>\n",
              "      <th>OLIG_OCCU_CD</th>\n",
              "      <th>OLIG_PH</th>\n",
              "      <th>OLIG_PROTE_CD</th>\n",
              "      <th>SGOT_AST</th>\n",
              "      <th>SGPT_ALT</th>\n",
              "      <th>GAMMA_GTP</th>\n",
              "      <th>HCHK_PMH_CD1</th>\n",
              "      <th>HCHK_PMH_CD2</th>\n",
              "      <th>HCHK_PMH_CD3</th>\n",
              "      <th>FMLY_LIVER_DISE_PATIEN_YN</th>\n",
              "      <th>FMLY_HPRTS_PATIEN_YN</th>\n",
              "      <th>FMLY_APOP_PATIEN_YN</th>\n",
              "      <th>FMLY_HDISE_PATIEN_YN</th>\n",
              "      <th>FMLY_DIABML_PATIEN_YN</th>\n",
              "      <th>FMLY_CANCER_PATIEN_YN</th>\n",
              "      <th>SMK_STAT_TYPE_RSPS_CD</th>\n",
              "      <th>SMK_TERM_RSPS_CD</th>\n",
              "      <th>DSQTY_RSPS_CD</th>\n",
              "      <th>DRNK_HABIT_RSPS_CD</th>\n",
              "      <th>TM1_DRKQTY_RSPS_CD</th>\n",
              "      <th>EXERCI_FREQ_RSPS_CD</th>\n",
              "      <th>WAIST</th>\n",
              "      <th>TRIGLYCERIDE</th>\n",
              "      <th>HDL_CHOLE</th>\n",
              "      <th>LDL_CHOLE</th>\n",
              "      <th>CREATININE</th>\n",
              "      <th>HCHK_APOP_PMH_YN</th>\n",
              "      <th>HCHK_HDISE_PMH_YN</th>\n",
              "      <th>HCHK_HPRTS_PMH_YN</th>\n",
              "      <th>HCHK_DIABML_PMH_YN</th>\n",
              "      <th>HCHK_HPLPDM_PMH_YN</th>\n",
              "      <th>HCHK_ETCDSE_PMH_YN</th>\n",
              "      <th>PAST_SMK_TERM_RSPS_CD</th>\n",
              "      <th>PAST_DSQTY_RSPS_CD</th>\n",
              "      <th>CUR_SMK_TERM_RSPS_CD</th>\n",
              "      <th>CUR_DSQTY_RSPS_CD</th>\n",
              "      <th>MOV20_WEK_FREQ_ID</th>\n",
              "      <th>MOV30_WEK_FREQ_ID</th>\n",
              "      <th>WLK30_WEK_FREQ_ID</th>\n",
              "      <th>KDSQ_C</th>\n",
              "      <th>KDSQ_C_1</th>\n",
              "      <th>KDSQ_C_2</th>\n",
              "      <th>KDSQ_C_3</th>\n",
              "      <th>KDSQ_C_4</th>\n",
              "      <th>KDSQ_C_5</th>\n",
              "      <th>HCHK_PHSS_PMH_YN</th>\n",
              "    </tr>\n",
              "  </thead>\n",
              "  <tbody>\n",
              "    <tr>\n",
              "      <th>0</th>\n",
              "      <td>0</td>\n",
              "      <td>2002</td>\n",
              "      <td>10040729</td>\n",
              "      <td>143.0</td>\n",
              "      <td>46.0</td>\n",
              "      <td>117.0</td>\n",
              "      <td>69.0</td>\n",
              "      <td>90.0</td>\n",
              "      <td>142.0</td>\n",
              "      <td>12.099609</td>\n",
              "      <td>1.0</td>\n",
              "      <td>1.0</td>\n",
              "      <td>6.0</td>\n",
              "      <td>1.0</td>\n",
              "      <td>28.0</td>\n",
              "      <td>26.0</td>\n",
              "      <td>13.0</td>\n",
              "      <td>NaN</td>\n",
              "      <td>NaN</td>\n",
              "      <td>NaN</td>\n",
              "      <td>1.0</td>\n",
              "      <td>1.0</td>\n",
              "      <td>1.0</td>\n",
              "      <td>1.0</td>\n",
              "      <td>1.0</td>\n",
              "      <td>1.0</td>\n",
              "      <td>1.0</td>\n",
              "      <td>NaN</td>\n",
              "      <td>NaN</td>\n",
              "      <td>1.0</td>\n",
              "      <td>NaN</td>\n",
              "      <td>1.0</td>\n",
              "      <td>NaN</td>\n",
              "      <td>NaN</td>\n",
              "      <td>NaN</td>\n",
              "      <td>NaN</td>\n",
              "      <td>NaN</td>\n",
              "      <td>NaN</td>\n",
              "      <td>NaN</td>\n",
              "      <td>NaN</td>\n",
              "      <td>NaN</td>\n",
              "      <td>NaN</td>\n",
              "      <td>NaN</td>\n",
              "      <td>NaN</td>\n",
              "      <td>NaN</td>\n",
              "      <td>NaN</td>\n",
              "      <td>NaN</td>\n",
              "      <td>NaN</td>\n",
              "      <td>NaN</td>\n",
              "      <td>NaN</td>\n",
              "      <td>NaN</td>\n",
              "      <td>NaN</td>\n",
              "      <td>NaN</td>\n",
              "      <td>NaN</td>\n",
              "      <td>NaN</td>\n",
              "      <td>NaN</td>\n",
              "      <td>NaN</td>\n",
              "    </tr>\n",
              "    <tr>\n",
              "      <th>1</th>\n",
              "      <td>1</td>\n",
              "      <td>2002</td>\n",
              "      <td>10081483</td>\n",
              "      <td>133.0</td>\n",
              "      <td>33.0</td>\n",
              "      <td>151.0</td>\n",
              "      <td>75.0</td>\n",
              "      <td>105.0</td>\n",
              "      <td>176.0</td>\n",
              "      <td>11.500000</td>\n",
              "      <td>1.0</td>\n",
              "      <td>1.0</td>\n",
              "      <td>7.0</td>\n",
              "      <td>1.0</td>\n",
              "      <td>13.0</td>\n",
              "      <td>8.0</td>\n",
              "      <td>20.0</td>\n",
              "      <td>NaN</td>\n",
              "      <td>NaN</td>\n",
              "      <td>NaN</td>\n",
              "      <td>1.0</td>\n",
              "      <td>1.0</td>\n",
              "      <td>1.0</td>\n",
              "      <td>1.0</td>\n",
              "      <td>1.0</td>\n",
              "      <td>1.0</td>\n",
              "      <td>1.0</td>\n",
              "      <td>NaN</td>\n",
              "      <td>NaN</td>\n",
              "      <td>1.0</td>\n",
              "      <td>NaN</td>\n",
              "      <td>1.0</td>\n",
              "      <td>NaN</td>\n",
              "      <td>NaN</td>\n",
              "      <td>NaN</td>\n",
              "      <td>NaN</td>\n",
              "      <td>NaN</td>\n",
              "      <td>NaN</td>\n",
              "      <td>NaN</td>\n",
              "      <td>NaN</td>\n",
              "      <td>NaN</td>\n",
              "      <td>NaN</td>\n",
              "      <td>NaN</td>\n",
              "      <td>NaN</td>\n",
              "      <td>NaN</td>\n",
              "      <td>NaN</td>\n",
              "      <td>NaN</td>\n",
              "      <td>NaN</td>\n",
              "      <td>NaN</td>\n",
              "      <td>NaN</td>\n",
              "      <td>NaN</td>\n",
              "      <td>NaN</td>\n",
              "      <td>NaN</td>\n",
              "      <td>NaN</td>\n",
              "      <td>NaN</td>\n",
              "      <td>NaN</td>\n",
              "      <td>NaN</td>\n",
              "    </tr>\n",
              "    <tr>\n",
              "      <th>2</th>\n",
              "      <td>2</td>\n",
              "      <td>2002</td>\n",
              "      <td>10088025</td>\n",
              "      <td>164.0</td>\n",
              "      <td>47.0</td>\n",
              "      <td>130.0</td>\n",
              "      <td>80.0</td>\n",
              "      <td>106.0</td>\n",
              "      <td>135.0</td>\n",
              "      <td>11.699219</td>\n",
              "      <td>1.0</td>\n",
              "      <td>1.0</td>\n",
              "      <td>5.5</td>\n",
              "      <td>1.0</td>\n",
              "      <td>26.0</td>\n",
              "      <td>11.0</td>\n",
              "      <td>12.0</td>\n",
              "      <td>NaN</td>\n",
              "      <td>NaN</td>\n",
              "      <td>NaN</td>\n",
              "      <td>1.0</td>\n",
              "      <td>1.0</td>\n",
              "      <td>1.0</td>\n",
              "      <td>1.0</td>\n",
              "      <td>1.0</td>\n",
              "      <td>1.0</td>\n",
              "      <td>3.0</td>\n",
              "      <td>5.0</td>\n",
              "      <td>1.0</td>\n",
              "      <td>1.0</td>\n",
              "      <td>NaN</td>\n",
              "      <td>1.0</td>\n",
              "      <td>NaN</td>\n",
              "      <td>NaN</td>\n",
              "      <td>NaN</td>\n",
              "      <td>NaN</td>\n",
              "      <td>NaN</td>\n",
              "      <td>NaN</td>\n",
              "      <td>NaN</td>\n",
              "      <td>NaN</td>\n",
              "      <td>NaN</td>\n",
              "      <td>NaN</td>\n",
              "      <td>NaN</td>\n",
              "      <td>NaN</td>\n",
              "      <td>NaN</td>\n",
              "      <td>NaN</td>\n",
              "      <td>NaN</td>\n",
              "      <td>NaN</td>\n",
              "      <td>NaN</td>\n",
              "      <td>NaN</td>\n",
              "      <td>NaN</td>\n",
              "      <td>NaN</td>\n",
              "      <td>NaN</td>\n",
              "      <td>NaN</td>\n",
              "      <td>NaN</td>\n",
              "      <td>NaN</td>\n",
              "      <td>NaN</td>\n",
              "    </tr>\n",
              "    <tr>\n",
              "      <th>3</th>\n",
              "      <td>3</td>\n",
              "      <td>2002</td>\n",
              "      <td>10151226</td>\n",
              "      <td>146.0</td>\n",
              "      <td>65.0</td>\n",
              "      <td>150.0</td>\n",
              "      <td>70.0</td>\n",
              "      <td>69.0</td>\n",
              "      <td>162.0</td>\n",
              "      <td>12.000000</td>\n",
              "      <td>1.0</td>\n",
              "      <td>1.0</td>\n",
              "      <td>6.0</td>\n",
              "      <td>1.0</td>\n",
              "      <td>32.0</td>\n",
              "      <td>33.0</td>\n",
              "      <td>15.0</td>\n",
              "      <td>4.0</td>\n",
              "      <td>5.0</td>\n",
              "      <td>NaN</td>\n",
              "      <td>1.0</td>\n",
              "      <td>1.0</td>\n",
              "      <td>1.0</td>\n",
              "      <td>1.0</td>\n",
              "      <td>1.0</td>\n",
              "      <td>1.0</td>\n",
              "      <td>1.0</td>\n",
              "      <td>NaN</td>\n",
              "      <td>NaN</td>\n",
              "      <td>1.0</td>\n",
              "      <td>NaN</td>\n",
              "      <td>1.0</td>\n",
              "      <td>NaN</td>\n",
              "      <td>NaN</td>\n",
              "      <td>NaN</td>\n",
              "      <td>NaN</td>\n",
              "      <td>NaN</td>\n",
              "      <td>NaN</td>\n",
              "      <td>1.0</td>\n",
              "      <td>1.0</td>\n",
              "      <td>NaN</td>\n",
              "      <td>NaN</td>\n",
              "      <td>NaN</td>\n",
              "      <td>NaN</td>\n",
              "      <td>NaN</td>\n",
              "      <td>NaN</td>\n",
              "      <td>NaN</td>\n",
              "      <td>NaN</td>\n",
              "      <td>NaN</td>\n",
              "      <td>NaN</td>\n",
              "      <td>NaN</td>\n",
              "      <td>NaN</td>\n",
              "      <td>NaN</td>\n",
              "      <td>NaN</td>\n",
              "      <td>NaN</td>\n",
              "      <td>NaN</td>\n",
              "      <td>NaN</td>\n",
              "    </tr>\n",
              "    <tr>\n",
              "      <th>4</th>\n",
              "      <td>4</td>\n",
              "      <td>2002</td>\n",
              "      <td>10174763</td>\n",
              "      <td>133.0</td>\n",
              "      <td>29.0</td>\n",
              "      <td>140.0</td>\n",
              "      <td>90.0</td>\n",
              "      <td>99.0</td>\n",
              "      <td>178.0</td>\n",
              "      <td>13.000000</td>\n",
              "      <td>1.0</td>\n",
              "      <td>1.0</td>\n",
              "      <td>7.0</td>\n",
              "      <td>1.0</td>\n",
              "      <td>40.0</td>\n",
              "      <td>20.0</td>\n",
              "      <td>8.0</td>\n",
              "      <td>NaN</td>\n",
              "      <td>NaN</td>\n",
              "      <td>NaN</td>\n",
              "      <td>1.0</td>\n",
              "      <td>1.0</td>\n",
              "      <td>1.0</td>\n",
              "      <td>1.0</td>\n",
              "      <td>1.0</td>\n",
              "      <td>1.0</td>\n",
              "      <td>1.0</td>\n",
              "      <td>NaN</td>\n",
              "      <td>NaN</td>\n",
              "      <td>1.0</td>\n",
              "      <td>NaN</td>\n",
              "      <td>1.0</td>\n",
              "      <td>NaN</td>\n",
              "      <td>NaN</td>\n",
              "      <td>NaN</td>\n",
              "      <td>NaN</td>\n",
              "      <td>NaN</td>\n",
              "      <td>NaN</td>\n",
              "      <td>NaN</td>\n",
              "      <td>NaN</td>\n",
              "      <td>NaN</td>\n",
              "      <td>NaN</td>\n",
              "      <td>NaN</td>\n",
              "      <td>NaN</td>\n",
              "      <td>NaN</td>\n",
              "      <td>NaN</td>\n",
              "      <td>NaN</td>\n",
              "      <td>NaN</td>\n",
              "      <td>NaN</td>\n",
              "      <td>NaN</td>\n",
              "      <td>NaN</td>\n",
              "      <td>NaN</td>\n",
              "      <td>NaN</td>\n",
              "      <td>NaN</td>\n",
              "      <td>NaN</td>\n",
              "      <td>NaN</td>\n",
              "      <td>NaN</td>\n",
              "    </tr>\n",
              "  </tbody>\n",
              "</table>\n",
              "</div>"
            ],
            "text/plain": [
              "   Unnamed: 0  HCHK_YEAR  PERSON_ID  ...  KDSQ_C_4  KDSQ_C_5  HCHK_PHSS_PMH_YN\n",
              "0           0       2002   10040729  ...       NaN       NaN               NaN\n",
              "1           1       2002   10081483  ...       NaN       NaN               NaN\n",
              "2           2       2002   10088025  ...       NaN       NaN               NaN\n",
              "3           3       2002   10151226  ...       NaN       NaN               NaN\n",
              "4           4       2002   10174763  ...       NaN       NaN               NaN\n",
              "\n",
              "[5 rows x 57 columns]"
            ]
          },
          "metadata": {
            "tags": []
          },
          "execution_count": 57
        }
      ]
    },
    {
      "cell_type": "code",
      "metadata": {
        "colab": {
          "base_uri": "https://localhost:8080/"
        },
        "id": "fTDTqKuXMSa5",
        "outputId": "e35e95b0-cf6b-4326-8d61-2ffaa644c5d0"
      },
      "source": [
        "## replace GLY_CD, OLIG_OCCU_CD, OLIG_PROTE_CD (~2008) max to OLIG_PROTE_CD (2009~)\n",
        "for i in range(len(gj)):\n",
        "  gj['OLIG_PROTE_CD'][i] = max(gj['GLY_CD'][i], gj['OLIG_OCCU_CD'][i], gj['OLIG_PROTE_CD'][i])"
      ],
      "execution_count": 4,
      "outputs": [
        {
          "output_type": "stream",
          "text": [
            "/usr/local/lib/python3.6/dist-packages/ipykernel_launcher.py:3: SettingWithCopyWarning: \n",
            "A value is trying to be set on a copy of a slice from a DataFrame\n",
            "\n",
            "See the caveats in the documentation: https://pandas.pydata.org/pandas-docs/stable/user_guide/indexing.html#returning-a-view-versus-a-copy\n",
            "  This is separate from the ipykernel package so we can avoid doing imports until\n"
          ],
          "name": "stderr"
        }
      ]
    },
    {
      "cell_type": "code",
      "metadata": {
        "colab": {
          "base_uri": "https://localhost:8080/"
        },
        "id": "j3JjAJ4pbocs",
        "outputId": "455bc065-1e8c-4035-c98c-5c3502643c69"
      },
      "source": [
        "print(gj['PAST_DSQTY_RSPS_CD'].unique())"
      ],
      "execution_count": 60,
      "outputs": [
        {
          "output_type": "stream",
          "text": [
            "[nan  3. 10. 40. 20.  5. 30. 15. 60.  7.  1.  2.  6.  4. 25.  8. 18. 11.\n",
            " 50. 70. 12. 35. 14. 24.  9. 48. 17. 21. 13. 54. 19. 16. 80. 45. 29. 23.\n",
            " 22. 26. 28. 90. 65. 43. 32. 42. 37. 75. 36. 55. 69. 33. 44. 46. 38. 27.]\n"
          ],
          "name": "stdout"
        }
      ]
    },
    {
      "cell_type": "code",
      "metadata": {
        "colab": {
          "base_uri": "https://localhost:8080/"
        },
        "id": "TuMCUvZodbtk",
        "outputId": "8eedae21-79ba-4fc9-e270-c188624fc596"
      },
      "source": [
        "## PAST_SMK_TERM_RSPS_CD, CUR_SMK_TERM_RSPS_CD to SMK_TERM_RSPS_CD\n",
        "for i in range(len(gj)):\n",
        "  if gj['CUR_SMK_TERM_RSPS_CD'][i] > 0:\n",
        "    gj['SMK_TERM_RSPS_CD'][i] = gj['CUR_SMK_TERM_RSPS_CD'][i]\n",
        "  else:\n",
        "    if gj['PAST_SMK_TERM_RSPS_CD'][i] > 0:\n",
        "      gj['SMK_TERM_RSPS_CD'][i] = gj['PAST_SMK_TERM_RSPS_CD'][i]\n",
        "    else:\n",
        "      pass"
      ],
      "execution_count": 5,
      "outputs": [
        {
          "output_type": "stream",
          "text": [
            "/usr/local/lib/python3.6/dist-packages/ipykernel_launcher.py:4: SettingWithCopyWarning: \n",
            "A value is trying to be set on a copy of a slice from a DataFrame\n",
            "\n",
            "See the caveats in the documentation: https://pandas.pydata.org/pandas-docs/stable/user_guide/indexing.html#returning-a-view-versus-a-copy\n",
            "  after removing the cwd from sys.path.\n",
            "/usr/local/lib/python3.6/dist-packages/ipykernel_launcher.py:7: SettingWithCopyWarning: \n",
            "A value is trying to be set on a copy of a slice from a DataFrame\n",
            "\n",
            "See the caveats in the documentation: https://pandas.pydata.org/pandas-docs/stable/user_guide/indexing.html#returning-a-view-versus-a-copy\n",
            "  import sys\n"
          ],
          "name": "stderr"
        }
      ]
    },
    {
      "cell_type": "code",
      "metadata": {
        "colab": {
          "base_uri": "https://localhost:8080/"
        },
        "id": "yN6x_epHeh1J",
        "outputId": "afacc8a1-f7ed-4d2a-ee40-cfa4350f69fa"
      },
      "source": [
        "gj['SMK_TERM_RSPS_CD'].isnull()"
      ],
      "execution_count": 72,
      "outputs": [
        {
          "output_type": "execute_result",
          "data": {
            "text/plain": [
              "0           True\n",
              "1           True\n",
              "2          False\n",
              "3           True\n",
              "4           True\n",
              "           ...  \n",
              "1091177     True\n",
              "1091178     True\n",
              "1091179     True\n",
              "1091180     True\n",
              "1091181    False\n",
              "Name: SMK_TERM_RSPS_CD, Length: 1091182, dtype: bool"
            ]
          },
          "metadata": {
            "tags": []
          },
          "execution_count": 72
        }
      ]
    },
    {
      "cell_type": "code",
      "metadata": {
        "colab": {
          "base_uri": "https://localhost:8080/"
        },
        "id": "yio4-eVXhBbd",
        "outputId": "939587c4-8f0f-449c-ab9b-989b4d1477b3"
      },
      "source": [
        "## SMK_TERM_RSPS_CD NaN to 0\n",
        "for i in range(len(gj)):\n",
        "  if not gj['SMK_TERM_RSPS_CD'][i] > 0:\n",
        "    gj['SMK_TERM_RSPS_CD'][i] = 0"
      ],
      "execution_count": 6,
      "outputs": [
        {
          "output_type": "stream",
          "text": [
            "/usr/local/lib/python3.6/dist-packages/ipykernel_launcher.py:4: SettingWithCopyWarning: \n",
            "A value is trying to be set on a copy of a slice from a DataFrame\n",
            "\n",
            "See the caveats in the documentation: https://pandas.pydata.org/pandas-docs/stable/user_guide/indexing.html#returning-a-view-versus-a-copy\n",
            "  after removing the cwd from sys.path.\n"
          ],
          "name": "stderr"
        }
      ]
    },
    {
      "cell_type": "code",
      "metadata": {
        "colab": {
          "base_uri": "https://localhost:8080/"
        },
        "id": "I0itrfAuhcVT",
        "outputId": "de8c7e87-df3d-4fc3-9055-1ca81b94403a"
      },
      "source": [
        "## PAST_DSQTY_RSPS_CD, CUR_DSQTY_RSPS_CD to DSQTY_RSPS_CD\n",
        "def change(x): ## 개비 -> 갑\n",
        "  if x < 10:\n",
        "    result = 1\n",
        "  elif x < 20:\n",
        "    result = 2\n",
        "  elif x < 40:\n",
        "    result = 3\n",
        "  else:\n",
        "    result = 4\n",
        "  return result\n",
        "\n",
        "for i in range(len(gj)):\n",
        "  if gj['CUR_DSQTY_RSPS_CD'][i] > 0:\n",
        "    gj['DSQTY_RSPS_CD'][i] = change(gj['CUR_DSQTY_RSPS_CD'][i])\n",
        "  else:\n",
        "    if gj['PAST_DSQTY_RSPS_CD'][i] > 0:\n",
        "      gj['DSQTY_RSPS_CD'][i] = change(gj['PAST_DSQTY_RSPS_CD'][i])\n",
        "    else:\n",
        "      pass"
      ],
      "execution_count": 7,
      "outputs": [
        {
          "output_type": "stream",
          "text": [
            "/usr/local/lib/python3.6/dist-packages/ipykernel_launcher.py:15: SettingWithCopyWarning: \n",
            "A value is trying to be set on a copy of a slice from a DataFrame\n",
            "\n",
            "See the caveats in the documentation: https://pandas.pydata.org/pandas-docs/stable/user_guide/indexing.html#returning-a-view-versus-a-copy\n",
            "  from ipykernel import kernelapp as app\n",
            "/usr/local/lib/python3.6/dist-packages/ipykernel_launcher.py:18: SettingWithCopyWarning: \n",
            "A value is trying to be set on a copy of a slice from a DataFrame\n",
            "\n",
            "See the caveats in the documentation: https://pandas.pydata.org/pandas-docs/stable/user_guide/indexing.html#returning-a-view-versus-a-copy\n"
          ],
          "name": "stderr"
        }
      ]
    },
    {
      "cell_type": "code",
      "metadata": {
        "colab": {
          "base_uri": "https://localhost:8080/"
        },
        "id": "E8mGEuSkhwE8",
        "outputId": "aac768bd-e0d8-404d-e982-ca0994fed49a"
      },
      "source": [
        "## DSQTY_RSPS_CD NaN to 0\n",
        "for i in range(len(gj)):\n",
        "  if not gj['DSQTY_RSPS_CD'][i] > 0:\n",
        "    gj['DSQTY_RSPS_CD'][i] = 0"
      ],
      "execution_count": 8,
      "outputs": [
        {
          "output_type": "stream",
          "text": [
            "/usr/local/lib/python3.6/dist-packages/ipykernel_launcher.py:4: SettingWithCopyWarning: \n",
            "A value is trying to be set on a copy of a slice from a DataFrame\n",
            "\n",
            "See the caveats in the documentation: https://pandas.pydata.org/pandas-docs/stable/user_guide/indexing.html#returning-a-view-versus-a-copy\n",
            "  after removing the cwd from sys.path.\n"
          ],
          "name": "stderr"
        }
      ]
    },
    {
      "cell_type": "code",
      "metadata": {
        "colab": {
          "base_uri": "https://localhost:8080/"
        },
        "id": "QCShe5jhk3gh",
        "outputId": "75519221-9d86-47f2-c848-9198f9b458d0"
      },
      "source": [
        "## change DRNK_HABIT_RSPS_CD(2009~)\n",
        "change_dic = {1:1,2:2,3:3,4:4,5:4,6:5,7:5,8:5}\n",
        "for i in range(len(gj)):\n",
        "  if gj['HCHK_YEAR'][i] > 2008:\n",
        "    if gj['DRNK_HABIT_RSPS_CD'][i] in change_dic:\n",
        "      gj['DRNK_HABIT_RSPS_CD'][i] = change_dic[gj['DRNK_HABIT_RSPS_CD'][i]]\n",
        "    else:\n",
        "      gj['DRNK_HABIT_RSPS_CD'][i] = 3 ## average"
      ],
      "execution_count": 9,
      "outputs": [
        {
          "output_type": "stream",
          "text": [
            "/usr/local/lib/python3.6/dist-packages/ipykernel_launcher.py:6: SettingWithCopyWarning: \n",
            "A value is trying to be set on a copy of a slice from a DataFrame\n",
            "\n",
            "See the caveats in the documentation: https://pandas.pydata.org/pandas-docs/stable/user_guide/indexing.html#returning-a-view-versus-a-copy\n",
            "  \n",
            "/usr/local/lib/python3.6/dist-packages/ipykernel_launcher.py:8: SettingWithCopyWarning: \n",
            "A value is trying to be set on a copy of a slice from a DataFrame\n",
            "\n",
            "See the caveats in the documentation: https://pandas.pydata.org/pandas-docs/stable/user_guide/indexing.html#returning-a-view-versus-a-copy\n",
            "  \n"
          ],
          "name": "stderr"
        }
      ]
    },
    {
      "cell_type": "code",
      "metadata": {
        "colab": {
          "base_uri": "https://localhost:8080/"
        },
        "id": "-HQuOowWk-Up",
        "outputId": "f2b0786d-d1bb-44a3-d095-0088ee0ad5c2"
      },
      "source": [
        "## change TM1_DRKQTY_RSPS_CD(2009~)\n",
        "def change(x): ## 잔 -> 병\n",
        "  if x <= 3.5:\n",
        "    result = 1\n",
        "  elif x <= 7:\n",
        "    result = 2\n",
        "  elif x <= 10.5:\n",
        "    result = 3\n",
        "  else:\n",
        "    result = 4\n",
        "  return result\n",
        "\n",
        "for i in range(len(gj)):\n",
        "  if gj['HCHK_YEAR'][i] > 2008:\n",
        "    if gj['DRNK_HABIT_RSPS_CD'][i] > 0:\n",
        "      gj['DRNK_HABIT_RSPS_CD'][i] = change(gj['DRNK_HABIT_RSPS_CD'][i])\n",
        "    else:\n",
        "      gj['DRNK_HABIT_RSPS_CD'][i] = 2 ## average"
      ],
      "execution_count": 10,
      "outputs": [
        {
          "output_type": "stream",
          "text": [
            "/usr/local/lib/python3.6/dist-packages/ipykernel_launcher.py:16: SettingWithCopyWarning: \n",
            "A value is trying to be set on a copy of a slice from a DataFrame\n",
            "\n",
            "See the caveats in the documentation: https://pandas.pydata.org/pandas-docs/stable/user_guide/indexing.html#returning-a-view-versus-a-copy\n",
            "  app.launch_new_instance()\n"
          ],
          "name": "stderr"
        }
      ]
    },
    {
      "cell_type": "code",
      "metadata": {
        "colab": {
          "base_uri": "https://localhost:8080/"
        },
        "id": "5iyxoQBJmeOG",
        "outputId": "56317c86-a296-4823-d943-303210056d6f"
      },
      "source": [
        "## MOV20_WEK_FREQ_ID,MOV30_WEK_FREQ_ID,WLK30_WEK_FREQ_ID average to EXERCI_FREQ_RSPS_CD\n",
        "def change(x): ## average and change, x is list\n",
        "  total = 0\n",
        "  for mov in x:\n",
        "    total += (mov-1)\n",
        "  avg = total/len(x)\n",
        "  if avg < 0.5:\n",
        "    result = 1\n",
        "  elif avg < 2.5:\n",
        "    result = 2\n",
        "  elif avg < 4.5:\n",
        "    result = 3\n",
        "  elif avg < 6.5:\n",
        "    result = 4\n",
        "  else:\n",
        "    result = 5\n",
        "\n",
        "for i in range(len(gj)):\n",
        "  if gj['HCHK_YEAR'][i] > 2008:\n",
        "    if not gj['MOV20_WEK_FREQ_ID'][i] > 0:\n",
        "      gj['MOV20_WEK_FREQ_ID'][i] = 2\n",
        "    if not gj['MOV30_WEK_FREQ_ID'][i] > 0:\n",
        "      gj['MOV20_WEK_FREQ_ID'][i] = 2\n",
        "    if not gj['WLK30_WEK_FREQ_ID'][i] > 0:\n",
        "      gj['MOV20_WEK_FREQ_ID'][i] = 2\n",
        "    gj['EXERCI_FREQ_RSPS_CD'][i] = change([gj['MOV20_WEK_FREQ_ID'][i],gj['MOV30_WEK_FREQ_ID'][i],gj['WLK30_WEK_FREQ_ID'][i]])"
      ],
      "execution_count": 11,
      "outputs": [
        {
          "output_type": "stream",
          "text": [
            "/usr/local/lib/python3.6/dist-packages/ipykernel_launcher.py:26: SettingWithCopyWarning: \n",
            "A value is trying to be set on a copy of a slice from a DataFrame\n",
            "\n",
            "See the caveats in the documentation: https://pandas.pydata.org/pandas-docs/stable/user_guide/indexing.html#returning-a-view-versus-a-copy\n",
            "/usr/local/lib/python3.6/dist-packages/ipykernel_launcher.py:23: SettingWithCopyWarning: \n",
            "A value is trying to be set on a copy of a slice from a DataFrame\n",
            "\n",
            "See the caveats in the documentation: https://pandas.pydata.org/pandas-docs/stable/user_guide/indexing.html#returning-a-view-versus-a-copy\n",
            "/usr/local/lib/python3.6/dist-packages/ipykernel_launcher.py:21: SettingWithCopyWarning: \n",
            "A value is trying to be set on a copy of a slice from a DataFrame\n",
            "\n",
            "See the caveats in the documentation: https://pandas.pydata.org/pandas-docs/stable/user_guide/indexing.html#returning-a-view-versus-a-copy\n",
            "/usr/local/lib/python3.6/dist-packages/ipykernel_launcher.py:25: SettingWithCopyWarning: \n",
            "A value is trying to be set on a copy of a slice from a DataFrame\n",
            "\n",
            "See the caveats in the documentation: https://pandas.pydata.org/pandas-docs/stable/user_guide/indexing.html#returning-a-view-versus-a-copy\n"
          ],
          "name": "stderr"
        }
      ]
    },
    {
      "cell_type": "code",
      "metadata": {
        "colab": {
          "base_uri": "https://localhost:8080/"
        },
        "id": "S93fOAXOqGIW",
        "outputId": "a3a9a5e9-d178-40f1-abaf-534003d014a4"
      },
      "source": [
        "##가족력 ~2008을 2009~ 기준으로\n",
        "for i in range(len(gj)):\n",
        "  if gj['HCHK_YEAR'][i] < 2009:\n",
        "    for dis in ['FMLY_HPRTS_PATIEN_YN','FMLY_APOP_PATIEN_YN','FMLY_HDISE_PATIEN_YN','FMLY_DIABML_PATIEN_YN','FMLY_CANCER_PATIEN_YN']:\n",
        "      if not gj[dis][i] > 0:\n",
        "        gj[dis][i] = 1\n",
        "      gj[dis][i] -= 1"
      ],
      "execution_count": 12,
      "outputs": [
        {
          "output_type": "stream",
          "text": [
            "/usr/local/lib/python3.6/dist-packages/ipykernel_launcher.py:7: SettingWithCopyWarning: \n",
            "A value is trying to be set on a copy of a slice from a DataFrame\n",
            "\n",
            "See the caveats in the documentation: https://pandas.pydata.org/pandas-docs/stable/user_guide/indexing.html#returning-a-view-versus-a-copy\n",
            "  import sys\n",
            "/usr/local/lib/python3.6/dist-packages/ipykernel_launcher.py:6: SettingWithCopyWarning: \n",
            "A value is trying to be set on a copy of a slice from a DataFrame\n",
            "\n",
            "See the caveats in the documentation: https://pandas.pydata.org/pandas-docs/stable/user_guide/indexing.html#returning-a-view-versus-a-copy\n",
            "  \n"
          ],
          "name": "stderr"
        }
      ]
    },
    {
      "cell_type": "code",
      "metadata": {
        "colab": {
          "base_uri": "https://localhost:8080/"
        },
        "id": "lseQI7_ytFAm",
        "outputId": "c11dd969-a155-495f-a450-8fe28e2d127f"
      },
      "source": [
        "print(gj.columns)"
      ],
      "execution_count": 92,
      "outputs": [
        {
          "output_type": "stream",
          "text": [
            "Index(['Unnamed: 0', 'HCHK_YEAR', 'PERSON_ID', 'HEIGHT', 'WEIGHT', 'BP_HIGH',\n",
            "       'BP_LWST', 'BLDS', 'TOT_CHOLE', 'HMG', 'GLY_CD', 'OLIG_OCCU_CD',\n",
            "       'OLIG_PH', 'OLIG_PROTE_CD', 'SGOT_AST', 'SGPT_ALT', 'GAMMA_GTP',\n",
            "       'HCHK_PMH_CD1', 'HCHK_PMH_CD2', 'HCHK_PMH_CD3',\n",
            "       'FMLY_LIVER_DISE_PATIEN_YN', 'FMLY_HPRTS_PATIEN_YN',\n",
            "       'FMLY_APOP_PATIEN_YN', 'FMLY_HDISE_PATIEN_YN', 'FMLY_DIABML_PATIEN_YN',\n",
            "       'FMLY_CANCER_PATIEN_YN', 'SMK_STAT_TYPE_RSPS_CD', 'SMK_TERM_RSPS_CD',\n",
            "       'DSQTY_RSPS_CD', 'DRNK_HABIT_RSPS_CD', 'TM1_DRKQTY_RSPS_CD',\n",
            "       'EXERCI_FREQ_RSPS_CD', 'WAIST', 'TRIGLYCERIDE', 'HDL_CHOLE',\n",
            "       'LDL_CHOLE', 'CREATININE', 'HCHK_APOP_PMH_YN', 'HCHK_HDISE_PMH_YN',\n",
            "       'HCHK_HPRTS_PMH_YN', 'HCHK_DIABML_PMH_YN', 'HCHK_HPLPDM_PMH_YN',\n",
            "       'HCHK_ETCDSE_PMH_YN', 'PAST_SMK_TERM_RSPS_CD', 'PAST_DSQTY_RSPS_CD',\n",
            "       'CUR_SMK_TERM_RSPS_CD', 'CUR_DSQTY_RSPS_CD', 'MOV20_WEK_FREQ_ID',\n",
            "       'MOV30_WEK_FREQ_ID', 'WLK30_WEK_FREQ_ID', 'KDSQ_C', 'KDSQ_C_1',\n",
            "       'KDSQ_C_2', 'KDSQ_C_3', 'KDSQ_C_4', 'KDSQ_C_5', 'HCHK_PHSS_PMH_YN'],\n",
            "      dtype='object')\n"
          ],
          "name": "stdout"
        }
      ]
    },
    {
      "cell_type": "code",
      "metadata": {
        "id": "rMh_RvS5v4fz"
      },
      "source": [
        "gj_v2 = gj[['HCHK_YEAR', 'PERSON_ID', 'HEIGHT', 'WEIGHT', 'BP_HIGH',\n",
        "       'BP_LWST', 'BLDS', 'TOT_CHOLE', 'HMG', 'OLIG_PROTE_CD', 'SGOT_AST', 'SGPT_ALT', 'GAMMA_GTP', 'FMLY_HPRTS_PATIEN_YN',\n",
        "       'FMLY_APOP_PATIEN_YN', 'FMLY_HDISE_PATIEN_YN', 'FMLY_DIABML_PATIEN_YN',\n",
        "       'FMLY_CANCER_PATIEN_YN', 'SMK_STAT_TYPE_RSPS_CD', 'SMK_TERM_RSPS_CD',\n",
        "       'DSQTY_RSPS_CD', 'DRNK_HABIT_RSPS_CD', 'TM1_DRKQTY_RSPS_CD',\n",
        "       'EXERCI_FREQ_RSPS_CD', 'HCHK_APOP_PMH_YN', 'HCHK_HDISE_PMH_YN',\n",
        "       'HCHK_HPRTS_PMH_YN', 'HCHK_DIABML_PMH_YN', 'HCHK_HPLPDM_PMH_YN',\n",
        "       'HCHK_ETCDSE_PMH_YN', 'HCHK_PHSS_PMH_YN']]"
      ],
      "execution_count": 13,
      "outputs": []
    },
    {
      "cell_type": "code",
      "metadata": {
        "colab": {
          "base_uri": "https://localhost:8080/",
          "height": 224
        },
        "id": "WOsnU9i1xLAi",
        "outputId": "7162bb7c-9b4c-4838-ad60-f3e8c3de04cf"
      },
      "source": [
        "gj_v2.head()"
      ],
      "execution_count": 94,
      "outputs": [
        {
          "output_type": "execute_result",
          "data": {
            "text/html": [
              "<div>\n",
              "<style scoped>\n",
              "    .dataframe tbody tr th:only-of-type {\n",
              "        vertical-align: middle;\n",
              "    }\n",
              "\n",
              "    .dataframe tbody tr th {\n",
              "        vertical-align: top;\n",
              "    }\n",
              "\n",
              "    .dataframe thead th {\n",
              "        text-align: right;\n",
              "    }\n",
              "</style>\n",
              "<table border=\"1\" class=\"dataframe\">\n",
              "  <thead>\n",
              "    <tr style=\"text-align: right;\">\n",
              "      <th></th>\n",
              "      <th>HCHK_YEAR</th>\n",
              "      <th>PERSON_ID</th>\n",
              "      <th>HEIGHT</th>\n",
              "      <th>WEIGHT</th>\n",
              "      <th>BP_HIGH</th>\n",
              "      <th>BP_LWST</th>\n",
              "      <th>BLDS</th>\n",
              "      <th>TOT_CHOLE</th>\n",
              "      <th>HMG</th>\n",
              "      <th>OLIG_PROTE_CD</th>\n",
              "      <th>SGOT_AST</th>\n",
              "      <th>SGPT_ALT</th>\n",
              "      <th>GAMMA_GTP</th>\n",
              "      <th>FMLY_HPRTS_PATIEN_YN</th>\n",
              "      <th>FMLY_APOP_PATIEN_YN</th>\n",
              "      <th>FMLY_HDISE_PATIEN_YN</th>\n",
              "      <th>FMLY_DIABML_PATIEN_YN</th>\n",
              "      <th>FMLY_CANCER_PATIEN_YN</th>\n",
              "      <th>SMK_STAT_TYPE_RSPS_CD</th>\n",
              "      <th>SMK_TERM_RSPS_CD</th>\n",
              "      <th>DSQTY_RSPS_CD</th>\n",
              "      <th>DRNK_HABIT_RSPS_CD</th>\n",
              "      <th>TM1_DRKQTY_RSPS_CD</th>\n",
              "      <th>EXERCI_FREQ_RSPS_CD</th>\n",
              "      <th>HCHK_APOP_PMH_YN</th>\n",
              "      <th>HCHK_HDISE_PMH_YN</th>\n",
              "      <th>HCHK_HPRTS_PMH_YN</th>\n",
              "      <th>HCHK_DIABML_PMH_YN</th>\n",
              "      <th>HCHK_HPLPDM_PMH_YN</th>\n",
              "      <th>HCHK_ETCDSE_PMH_YN</th>\n",
              "      <th>HCHK_PHSS_PMH_YN</th>\n",
              "    </tr>\n",
              "  </thead>\n",
              "  <tbody>\n",
              "    <tr>\n",
              "      <th>0</th>\n",
              "      <td>2002</td>\n",
              "      <td>10040729</td>\n",
              "      <td>143.0</td>\n",
              "      <td>46.0</td>\n",
              "      <td>117.0</td>\n",
              "      <td>69.0</td>\n",
              "      <td>90.0</td>\n",
              "      <td>142.0</td>\n",
              "      <td>12.099609</td>\n",
              "      <td>1.0</td>\n",
              "      <td>28.0</td>\n",
              "      <td>26.0</td>\n",
              "      <td>13.0</td>\n",
              "      <td>0.0</td>\n",
              "      <td>0.0</td>\n",
              "      <td>0.0</td>\n",
              "      <td>0.0</td>\n",
              "      <td>0.0</td>\n",
              "      <td>1.0</td>\n",
              "      <td>0.0</td>\n",
              "      <td>0.0</td>\n",
              "      <td>1.0</td>\n",
              "      <td>NaN</td>\n",
              "      <td>1.0</td>\n",
              "      <td>NaN</td>\n",
              "      <td>NaN</td>\n",
              "      <td>NaN</td>\n",
              "      <td>NaN</td>\n",
              "      <td>NaN</td>\n",
              "      <td>NaN</td>\n",
              "      <td>NaN</td>\n",
              "    </tr>\n",
              "    <tr>\n",
              "      <th>1</th>\n",
              "      <td>2002</td>\n",
              "      <td>10081483</td>\n",
              "      <td>133.0</td>\n",
              "      <td>33.0</td>\n",
              "      <td>151.0</td>\n",
              "      <td>75.0</td>\n",
              "      <td>105.0</td>\n",
              "      <td>176.0</td>\n",
              "      <td>11.500000</td>\n",
              "      <td>1.0</td>\n",
              "      <td>13.0</td>\n",
              "      <td>8.0</td>\n",
              "      <td>20.0</td>\n",
              "      <td>0.0</td>\n",
              "      <td>0.0</td>\n",
              "      <td>0.0</td>\n",
              "      <td>0.0</td>\n",
              "      <td>0.0</td>\n",
              "      <td>1.0</td>\n",
              "      <td>0.0</td>\n",
              "      <td>0.0</td>\n",
              "      <td>1.0</td>\n",
              "      <td>NaN</td>\n",
              "      <td>1.0</td>\n",
              "      <td>NaN</td>\n",
              "      <td>NaN</td>\n",
              "      <td>NaN</td>\n",
              "      <td>NaN</td>\n",
              "      <td>NaN</td>\n",
              "      <td>NaN</td>\n",
              "      <td>NaN</td>\n",
              "    </tr>\n",
              "    <tr>\n",
              "      <th>2</th>\n",
              "      <td>2002</td>\n",
              "      <td>10088025</td>\n",
              "      <td>164.0</td>\n",
              "      <td>47.0</td>\n",
              "      <td>130.0</td>\n",
              "      <td>80.0</td>\n",
              "      <td>106.0</td>\n",
              "      <td>135.0</td>\n",
              "      <td>11.699219</td>\n",
              "      <td>1.0</td>\n",
              "      <td>26.0</td>\n",
              "      <td>11.0</td>\n",
              "      <td>12.0</td>\n",
              "      <td>0.0</td>\n",
              "      <td>0.0</td>\n",
              "      <td>0.0</td>\n",
              "      <td>0.0</td>\n",
              "      <td>0.0</td>\n",
              "      <td>3.0</td>\n",
              "      <td>5.0</td>\n",
              "      <td>1.0</td>\n",
              "      <td>1.0</td>\n",
              "      <td>NaN</td>\n",
              "      <td>1.0</td>\n",
              "      <td>NaN</td>\n",
              "      <td>NaN</td>\n",
              "      <td>NaN</td>\n",
              "      <td>NaN</td>\n",
              "      <td>NaN</td>\n",
              "      <td>NaN</td>\n",
              "      <td>NaN</td>\n",
              "    </tr>\n",
              "    <tr>\n",
              "      <th>3</th>\n",
              "      <td>2002</td>\n",
              "      <td>10151226</td>\n",
              "      <td>146.0</td>\n",
              "      <td>65.0</td>\n",
              "      <td>150.0</td>\n",
              "      <td>70.0</td>\n",
              "      <td>69.0</td>\n",
              "      <td>162.0</td>\n",
              "      <td>12.000000</td>\n",
              "      <td>1.0</td>\n",
              "      <td>32.0</td>\n",
              "      <td>33.0</td>\n",
              "      <td>15.0</td>\n",
              "      <td>0.0</td>\n",
              "      <td>0.0</td>\n",
              "      <td>0.0</td>\n",
              "      <td>0.0</td>\n",
              "      <td>0.0</td>\n",
              "      <td>1.0</td>\n",
              "      <td>0.0</td>\n",
              "      <td>0.0</td>\n",
              "      <td>1.0</td>\n",
              "      <td>NaN</td>\n",
              "      <td>1.0</td>\n",
              "      <td>NaN</td>\n",
              "      <td>1.0</td>\n",
              "      <td>1.0</td>\n",
              "      <td>NaN</td>\n",
              "      <td>NaN</td>\n",
              "      <td>NaN</td>\n",
              "      <td>NaN</td>\n",
              "    </tr>\n",
              "    <tr>\n",
              "      <th>4</th>\n",
              "      <td>2002</td>\n",
              "      <td>10174763</td>\n",
              "      <td>133.0</td>\n",
              "      <td>29.0</td>\n",
              "      <td>140.0</td>\n",
              "      <td>90.0</td>\n",
              "      <td>99.0</td>\n",
              "      <td>178.0</td>\n",
              "      <td>13.000000</td>\n",
              "      <td>1.0</td>\n",
              "      <td>40.0</td>\n",
              "      <td>20.0</td>\n",
              "      <td>8.0</td>\n",
              "      <td>0.0</td>\n",
              "      <td>0.0</td>\n",
              "      <td>0.0</td>\n",
              "      <td>0.0</td>\n",
              "      <td>0.0</td>\n",
              "      <td>1.0</td>\n",
              "      <td>0.0</td>\n",
              "      <td>0.0</td>\n",
              "      <td>1.0</td>\n",
              "      <td>NaN</td>\n",
              "      <td>1.0</td>\n",
              "      <td>NaN</td>\n",
              "      <td>NaN</td>\n",
              "      <td>NaN</td>\n",
              "      <td>NaN</td>\n",
              "      <td>NaN</td>\n",
              "      <td>NaN</td>\n",
              "      <td>NaN</td>\n",
              "    </tr>\n",
              "  </tbody>\n",
              "</table>\n",
              "</div>"
            ],
            "text/plain": [
              "   HCHK_YEAR  PERSON_ID  ...  HCHK_ETCDSE_PMH_YN  HCHK_PHSS_PMH_YN\n",
              "0       2002   10040729  ...                 NaN               NaN\n",
              "1       2002   10081483  ...                 NaN               NaN\n",
              "2       2002   10088025  ...                 NaN               NaN\n",
              "3       2002   10151226  ...                 NaN               NaN\n",
              "4       2002   10174763  ...                 NaN               NaN\n",
              "\n",
              "[5 rows x 31 columns]"
            ]
          },
          "metadata": {
            "tags": []
          },
          "execution_count": 94
        }
      ]
    },
    {
      "cell_type": "code",
      "metadata": {
        "colab": {
          "base_uri": "https://localhost:8080/"
        },
        "id": "rmWmdm5HxPzH",
        "outputId": "55d6a416-28eb-4a83-c3f6-567e9fbdc399"
      },
      "source": [
        "## replace NaN to 2\n",
        "for i in range(len(gj)):\n",
        "  if not gj_v2['TM1_DRKQTY_RSPS_CD'][i] > 0:\n",
        "    gj_v2['TM1_DRKQTY_RSPS_CD'][i] = 2"
      ],
      "execution_count": 14,
      "outputs": [
        {
          "output_type": "stream",
          "text": [
            "/usr/local/lib/python3.6/dist-packages/ipykernel_launcher.py:3: SettingWithCopyWarning: \n",
            "A value is trying to be set on a copy of a slice from a DataFrame\n",
            "\n",
            "See the caveats in the documentation: https://pandas.pydata.org/pandas-docs/stable/user_guide/indexing.html#returning-a-view-versus-a-copy\n",
            "  This is separate from the ipykernel package so we can avoid doing imports until\n",
            "/usr/local/lib/python3.6/dist-packages/IPython/core/interactiveshell.py:2882: SettingWithCopyWarning: \n",
            "A value is trying to be set on a copy of a slice from a DataFrame\n",
            "\n",
            "See the caveats in the documentation: https://pandas.pydata.org/pandas-docs/stable/user_guide/indexing.html#returning-a-view-versus-a-copy\n",
            "  exec(code_obj, self.user_global_ns, self.user_ns)\n"
          ],
          "name": "stderr"
        }
      ]
    },
    {
      "cell_type": "code",
      "metadata": {
        "colab": {
          "base_uri": "https://localhost:8080/"
        },
        "id": "ZNyu8WC7x2xU",
        "outputId": "8fc3832b-7403-4fc9-dd6c-9a494c99562a"
      },
      "source": [
        "## replace NaN to 0 in past disease\n",
        "dis = ['HCHK_APOP_PMH_YN', 'HCHK_HDISE_PMH_YN', 'HCHK_HPRTS_PMH_YN', 'HCHK_DIABML_PMH_YN', 'HCHK_HPLPDM_PMH_YN', 'HCHK_ETCDSE_PMH_YN', 'HCHK_PHSS_PMH_YN']\n",
        "for i in range(len(gj)):\n",
        "  for d in dis:\n",
        "    if not gj_v2[d][i] > 0:\n",
        "      gj_v2[d][i] = 0"
      ],
      "execution_count": 15,
      "outputs": [
        {
          "output_type": "stream",
          "text": [
            "/usr/local/lib/python3.6/dist-packages/ipykernel_launcher.py:5: SettingWithCopyWarning: \n",
            "A value is trying to be set on a copy of a slice from a DataFrame\n",
            "\n",
            "See the caveats in the documentation: https://pandas.pydata.org/pandas-docs/stable/user_guide/indexing.html#returning-a-view-versus-a-copy\n",
            "  \"\"\"\n",
            "/usr/local/lib/python3.6/dist-packages/IPython/core/interactiveshell.py:2882: SettingWithCopyWarning: \n",
            "A value is trying to be set on a copy of a slice from a DataFrame\n",
            "\n",
            "See the caveats in the documentation: https://pandas.pydata.org/pandas-docs/stable/user_guide/indexing.html#returning-a-view-versus-a-copy\n",
            "  exec(code_obj, self.user_global_ns, self.user_ns)\n"
          ],
          "name": "stderr"
        }
      ]
    },
    {
      "cell_type": "code",
      "metadata": {
        "colab": {
          "base_uri": "https://localhost:8080/",
          "height": 224
        },
        "id": "DBsothR5yMjx",
        "outputId": "1987f8fa-f0ba-491f-c84e-36acf0232bdb"
      },
      "source": [
        "gj_v2.head()"
      ],
      "execution_count": 97,
      "outputs": [
        {
          "output_type": "execute_result",
          "data": {
            "text/html": [
              "<div>\n",
              "<style scoped>\n",
              "    .dataframe tbody tr th:only-of-type {\n",
              "        vertical-align: middle;\n",
              "    }\n",
              "\n",
              "    .dataframe tbody tr th {\n",
              "        vertical-align: top;\n",
              "    }\n",
              "\n",
              "    .dataframe thead th {\n",
              "        text-align: right;\n",
              "    }\n",
              "</style>\n",
              "<table border=\"1\" class=\"dataframe\">\n",
              "  <thead>\n",
              "    <tr style=\"text-align: right;\">\n",
              "      <th></th>\n",
              "      <th>HCHK_YEAR</th>\n",
              "      <th>PERSON_ID</th>\n",
              "      <th>HEIGHT</th>\n",
              "      <th>WEIGHT</th>\n",
              "      <th>BP_HIGH</th>\n",
              "      <th>BP_LWST</th>\n",
              "      <th>BLDS</th>\n",
              "      <th>TOT_CHOLE</th>\n",
              "      <th>HMG</th>\n",
              "      <th>OLIG_PROTE_CD</th>\n",
              "      <th>SGOT_AST</th>\n",
              "      <th>SGPT_ALT</th>\n",
              "      <th>GAMMA_GTP</th>\n",
              "      <th>FMLY_HPRTS_PATIEN_YN</th>\n",
              "      <th>FMLY_APOP_PATIEN_YN</th>\n",
              "      <th>FMLY_HDISE_PATIEN_YN</th>\n",
              "      <th>FMLY_DIABML_PATIEN_YN</th>\n",
              "      <th>FMLY_CANCER_PATIEN_YN</th>\n",
              "      <th>SMK_STAT_TYPE_RSPS_CD</th>\n",
              "      <th>SMK_TERM_RSPS_CD</th>\n",
              "      <th>DSQTY_RSPS_CD</th>\n",
              "      <th>DRNK_HABIT_RSPS_CD</th>\n",
              "      <th>TM1_DRKQTY_RSPS_CD</th>\n",
              "      <th>EXERCI_FREQ_RSPS_CD</th>\n",
              "      <th>HCHK_APOP_PMH_YN</th>\n",
              "      <th>HCHK_HDISE_PMH_YN</th>\n",
              "      <th>HCHK_HPRTS_PMH_YN</th>\n",
              "      <th>HCHK_DIABML_PMH_YN</th>\n",
              "      <th>HCHK_HPLPDM_PMH_YN</th>\n",
              "      <th>HCHK_ETCDSE_PMH_YN</th>\n",
              "      <th>HCHK_PHSS_PMH_YN</th>\n",
              "    </tr>\n",
              "  </thead>\n",
              "  <tbody>\n",
              "    <tr>\n",
              "      <th>0</th>\n",
              "      <td>2002</td>\n",
              "      <td>10040729</td>\n",
              "      <td>143.0</td>\n",
              "      <td>46.0</td>\n",
              "      <td>117.0</td>\n",
              "      <td>69.0</td>\n",
              "      <td>90.0</td>\n",
              "      <td>142.0</td>\n",
              "      <td>12.099609</td>\n",
              "      <td>1.0</td>\n",
              "      <td>28.0</td>\n",
              "      <td>26.0</td>\n",
              "      <td>13.0</td>\n",
              "      <td>0.0</td>\n",
              "      <td>0.0</td>\n",
              "      <td>0.0</td>\n",
              "      <td>0.0</td>\n",
              "      <td>0.0</td>\n",
              "      <td>1.0</td>\n",
              "      <td>0.0</td>\n",
              "      <td>0.0</td>\n",
              "      <td>1.0</td>\n",
              "      <td>2.0</td>\n",
              "      <td>1.0</td>\n",
              "      <td>0.0</td>\n",
              "      <td>0.0</td>\n",
              "      <td>0.0</td>\n",
              "      <td>0.0</td>\n",
              "      <td>0.0</td>\n",
              "      <td>0.0</td>\n",
              "      <td>0.0</td>\n",
              "    </tr>\n",
              "    <tr>\n",
              "      <th>1</th>\n",
              "      <td>2002</td>\n",
              "      <td>10081483</td>\n",
              "      <td>133.0</td>\n",
              "      <td>33.0</td>\n",
              "      <td>151.0</td>\n",
              "      <td>75.0</td>\n",
              "      <td>105.0</td>\n",
              "      <td>176.0</td>\n",
              "      <td>11.500000</td>\n",
              "      <td>1.0</td>\n",
              "      <td>13.0</td>\n",
              "      <td>8.0</td>\n",
              "      <td>20.0</td>\n",
              "      <td>0.0</td>\n",
              "      <td>0.0</td>\n",
              "      <td>0.0</td>\n",
              "      <td>0.0</td>\n",
              "      <td>0.0</td>\n",
              "      <td>1.0</td>\n",
              "      <td>0.0</td>\n",
              "      <td>0.0</td>\n",
              "      <td>1.0</td>\n",
              "      <td>2.0</td>\n",
              "      <td>1.0</td>\n",
              "      <td>0.0</td>\n",
              "      <td>0.0</td>\n",
              "      <td>0.0</td>\n",
              "      <td>0.0</td>\n",
              "      <td>0.0</td>\n",
              "      <td>0.0</td>\n",
              "      <td>0.0</td>\n",
              "    </tr>\n",
              "    <tr>\n",
              "      <th>2</th>\n",
              "      <td>2002</td>\n",
              "      <td>10088025</td>\n",
              "      <td>164.0</td>\n",
              "      <td>47.0</td>\n",
              "      <td>130.0</td>\n",
              "      <td>80.0</td>\n",
              "      <td>106.0</td>\n",
              "      <td>135.0</td>\n",
              "      <td>11.699219</td>\n",
              "      <td>1.0</td>\n",
              "      <td>26.0</td>\n",
              "      <td>11.0</td>\n",
              "      <td>12.0</td>\n",
              "      <td>0.0</td>\n",
              "      <td>0.0</td>\n",
              "      <td>0.0</td>\n",
              "      <td>0.0</td>\n",
              "      <td>0.0</td>\n",
              "      <td>3.0</td>\n",
              "      <td>5.0</td>\n",
              "      <td>1.0</td>\n",
              "      <td>1.0</td>\n",
              "      <td>2.0</td>\n",
              "      <td>1.0</td>\n",
              "      <td>0.0</td>\n",
              "      <td>0.0</td>\n",
              "      <td>0.0</td>\n",
              "      <td>0.0</td>\n",
              "      <td>0.0</td>\n",
              "      <td>0.0</td>\n",
              "      <td>0.0</td>\n",
              "    </tr>\n",
              "    <tr>\n",
              "      <th>3</th>\n",
              "      <td>2002</td>\n",
              "      <td>10151226</td>\n",
              "      <td>146.0</td>\n",
              "      <td>65.0</td>\n",
              "      <td>150.0</td>\n",
              "      <td>70.0</td>\n",
              "      <td>69.0</td>\n",
              "      <td>162.0</td>\n",
              "      <td>12.000000</td>\n",
              "      <td>1.0</td>\n",
              "      <td>32.0</td>\n",
              "      <td>33.0</td>\n",
              "      <td>15.0</td>\n",
              "      <td>0.0</td>\n",
              "      <td>0.0</td>\n",
              "      <td>0.0</td>\n",
              "      <td>0.0</td>\n",
              "      <td>0.0</td>\n",
              "      <td>1.0</td>\n",
              "      <td>0.0</td>\n",
              "      <td>0.0</td>\n",
              "      <td>1.0</td>\n",
              "      <td>2.0</td>\n",
              "      <td>1.0</td>\n",
              "      <td>0.0</td>\n",
              "      <td>1.0</td>\n",
              "      <td>1.0</td>\n",
              "      <td>0.0</td>\n",
              "      <td>0.0</td>\n",
              "      <td>0.0</td>\n",
              "      <td>0.0</td>\n",
              "    </tr>\n",
              "    <tr>\n",
              "      <th>4</th>\n",
              "      <td>2002</td>\n",
              "      <td>10174763</td>\n",
              "      <td>133.0</td>\n",
              "      <td>29.0</td>\n",
              "      <td>140.0</td>\n",
              "      <td>90.0</td>\n",
              "      <td>99.0</td>\n",
              "      <td>178.0</td>\n",
              "      <td>13.000000</td>\n",
              "      <td>1.0</td>\n",
              "      <td>40.0</td>\n",
              "      <td>20.0</td>\n",
              "      <td>8.0</td>\n",
              "      <td>0.0</td>\n",
              "      <td>0.0</td>\n",
              "      <td>0.0</td>\n",
              "      <td>0.0</td>\n",
              "      <td>0.0</td>\n",
              "      <td>1.0</td>\n",
              "      <td>0.0</td>\n",
              "      <td>0.0</td>\n",
              "      <td>1.0</td>\n",
              "      <td>2.0</td>\n",
              "      <td>1.0</td>\n",
              "      <td>0.0</td>\n",
              "      <td>0.0</td>\n",
              "      <td>0.0</td>\n",
              "      <td>0.0</td>\n",
              "      <td>0.0</td>\n",
              "      <td>0.0</td>\n",
              "      <td>0.0</td>\n",
              "    </tr>\n",
              "  </tbody>\n",
              "</table>\n",
              "</div>"
            ],
            "text/plain": [
              "   HCHK_YEAR  PERSON_ID  ...  HCHK_ETCDSE_PMH_YN  HCHK_PHSS_PMH_YN\n",
              "0       2002   10040729  ...                 0.0               0.0\n",
              "1       2002   10081483  ...                 0.0               0.0\n",
              "2       2002   10088025  ...                 0.0               0.0\n",
              "3       2002   10151226  ...                 0.0               0.0\n",
              "4       2002   10174763  ...                 0.0               0.0\n",
              "\n",
              "[5 rows x 31 columns]"
            ]
          },
          "metadata": {
            "tags": []
          },
          "execution_count": 97
        }
      ]
    },
    {
      "cell_type": "code",
      "metadata": {
        "colab": {
          "base_uri": "https://localhost:8080/",
          "height": 439
        },
        "id": "kqaJCoHlyPXp",
        "outputId": "d8b2ea01-bdf8-41d5-a0d6-1ee21ddf6060"
      },
      "source": [
        "pd.isnull(gj_v2)"
      ],
      "execution_count": 100,
      "outputs": [
        {
          "output_type": "execute_result",
          "data": {
            "text/html": [
              "<div>\n",
              "<style scoped>\n",
              "    .dataframe tbody tr th:only-of-type {\n",
              "        vertical-align: middle;\n",
              "    }\n",
              "\n",
              "    .dataframe tbody tr th {\n",
              "        vertical-align: top;\n",
              "    }\n",
              "\n",
              "    .dataframe thead th {\n",
              "        text-align: right;\n",
              "    }\n",
              "</style>\n",
              "<table border=\"1\" class=\"dataframe\">\n",
              "  <thead>\n",
              "    <tr style=\"text-align: right;\">\n",
              "      <th></th>\n",
              "      <th>HCHK_YEAR</th>\n",
              "      <th>PERSON_ID</th>\n",
              "      <th>HEIGHT</th>\n",
              "      <th>WEIGHT</th>\n",
              "      <th>BP_HIGH</th>\n",
              "      <th>BP_LWST</th>\n",
              "      <th>BLDS</th>\n",
              "      <th>TOT_CHOLE</th>\n",
              "      <th>HMG</th>\n",
              "      <th>OLIG_PROTE_CD</th>\n",
              "      <th>SGOT_AST</th>\n",
              "      <th>SGPT_ALT</th>\n",
              "      <th>GAMMA_GTP</th>\n",
              "      <th>FMLY_HPRTS_PATIEN_YN</th>\n",
              "      <th>FMLY_APOP_PATIEN_YN</th>\n",
              "      <th>FMLY_HDISE_PATIEN_YN</th>\n",
              "      <th>FMLY_DIABML_PATIEN_YN</th>\n",
              "      <th>FMLY_CANCER_PATIEN_YN</th>\n",
              "      <th>SMK_STAT_TYPE_RSPS_CD</th>\n",
              "      <th>SMK_TERM_RSPS_CD</th>\n",
              "      <th>DSQTY_RSPS_CD</th>\n",
              "      <th>DRNK_HABIT_RSPS_CD</th>\n",
              "      <th>TM1_DRKQTY_RSPS_CD</th>\n",
              "      <th>EXERCI_FREQ_RSPS_CD</th>\n",
              "      <th>HCHK_APOP_PMH_YN</th>\n",
              "      <th>HCHK_HDISE_PMH_YN</th>\n",
              "      <th>HCHK_HPRTS_PMH_YN</th>\n",
              "      <th>HCHK_DIABML_PMH_YN</th>\n",
              "      <th>HCHK_HPLPDM_PMH_YN</th>\n",
              "      <th>HCHK_ETCDSE_PMH_YN</th>\n",
              "      <th>HCHK_PHSS_PMH_YN</th>\n",
              "    </tr>\n",
              "  </thead>\n",
              "  <tbody>\n",
              "    <tr>\n",
              "      <th>0</th>\n",
              "      <td>False</td>\n",
              "      <td>False</td>\n",
              "      <td>False</td>\n",
              "      <td>False</td>\n",
              "      <td>False</td>\n",
              "      <td>False</td>\n",
              "      <td>False</td>\n",
              "      <td>False</td>\n",
              "      <td>False</td>\n",
              "      <td>False</td>\n",
              "      <td>False</td>\n",
              "      <td>False</td>\n",
              "      <td>False</td>\n",
              "      <td>False</td>\n",
              "      <td>False</td>\n",
              "      <td>False</td>\n",
              "      <td>False</td>\n",
              "      <td>False</td>\n",
              "      <td>False</td>\n",
              "      <td>False</td>\n",
              "      <td>False</td>\n",
              "      <td>False</td>\n",
              "      <td>False</td>\n",
              "      <td>False</td>\n",
              "      <td>False</td>\n",
              "      <td>False</td>\n",
              "      <td>False</td>\n",
              "      <td>False</td>\n",
              "      <td>False</td>\n",
              "      <td>False</td>\n",
              "      <td>False</td>\n",
              "    </tr>\n",
              "    <tr>\n",
              "      <th>1</th>\n",
              "      <td>False</td>\n",
              "      <td>False</td>\n",
              "      <td>False</td>\n",
              "      <td>False</td>\n",
              "      <td>False</td>\n",
              "      <td>False</td>\n",
              "      <td>False</td>\n",
              "      <td>False</td>\n",
              "      <td>False</td>\n",
              "      <td>False</td>\n",
              "      <td>False</td>\n",
              "      <td>False</td>\n",
              "      <td>False</td>\n",
              "      <td>False</td>\n",
              "      <td>False</td>\n",
              "      <td>False</td>\n",
              "      <td>False</td>\n",
              "      <td>False</td>\n",
              "      <td>False</td>\n",
              "      <td>False</td>\n",
              "      <td>False</td>\n",
              "      <td>False</td>\n",
              "      <td>False</td>\n",
              "      <td>False</td>\n",
              "      <td>False</td>\n",
              "      <td>False</td>\n",
              "      <td>False</td>\n",
              "      <td>False</td>\n",
              "      <td>False</td>\n",
              "      <td>False</td>\n",
              "      <td>False</td>\n",
              "    </tr>\n",
              "    <tr>\n",
              "      <th>2</th>\n",
              "      <td>False</td>\n",
              "      <td>False</td>\n",
              "      <td>False</td>\n",
              "      <td>False</td>\n",
              "      <td>False</td>\n",
              "      <td>False</td>\n",
              "      <td>False</td>\n",
              "      <td>False</td>\n",
              "      <td>False</td>\n",
              "      <td>False</td>\n",
              "      <td>False</td>\n",
              "      <td>False</td>\n",
              "      <td>False</td>\n",
              "      <td>False</td>\n",
              "      <td>False</td>\n",
              "      <td>False</td>\n",
              "      <td>False</td>\n",
              "      <td>False</td>\n",
              "      <td>False</td>\n",
              "      <td>False</td>\n",
              "      <td>False</td>\n",
              "      <td>False</td>\n",
              "      <td>False</td>\n",
              "      <td>False</td>\n",
              "      <td>False</td>\n",
              "      <td>False</td>\n",
              "      <td>False</td>\n",
              "      <td>False</td>\n",
              "      <td>False</td>\n",
              "      <td>False</td>\n",
              "      <td>False</td>\n",
              "    </tr>\n",
              "    <tr>\n",
              "      <th>3</th>\n",
              "      <td>False</td>\n",
              "      <td>False</td>\n",
              "      <td>False</td>\n",
              "      <td>False</td>\n",
              "      <td>False</td>\n",
              "      <td>False</td>\n",
              "      <td>False</td>\n",
              "      <td>False</td>\n",
              "      <td>False</td>\n",
              "      <td>False</td>\n",
              "      <td>False</td>\n",
              "      <td>False</td>\n",
              "      <td>False</td>\n",
              "      <td>False</td>\n",
              "      <td>False</td>\n",
              "      <td>False</td>\n",
              "      <td>False</td>\n",
              "      <td>False</td>\n",
              "      <td>False</td>\n",
              "      <td>False</td>\n",
              "      <td>False</td>\n",
              "      <td>False</td>\n",
              "      <td>False</td>\n",
              "      <td>False</td>\n",
              "      <td>False</td>\n",
              "      <td>False</td>\n",
              "      <td>False</td>\n",
              "      <td>False</td>\n",
              "      <td>False</td>\n",
              "      <td>False</td>\n",
              "      <td>False</td>\n",
              "    </tr>\n",
              "    <tr>\n",
              "      <th>4</th>\n",
              "      <td>False</td>\n",
              "      <td>False</td>\n",
              "      <td>False</td>\n",
              "      <td>False</td>\n",
              "      <td>False</td>\n",
              "      <td>False</td>\n",
              "      <td>False</td>\n",
              "      <td>False</td>\n",
              "      <td>False</td>\n",
              "      <td>False</td>\n",
              "      <td>False</td>\n",
              "      <td>False</td>\n",
              "      <td>False</td>\n",
              "      <td>False</td>\n",
              "      <td>False</td>\n",
              "      <td>False</td>\n",
              "      <td>False</td>\n",
              "      <td>False</td>\n",
              "      <td>False</td>\n",
              "      <td>False</td>\n",
              "      <td>False</td>\n",
              "      <td>False</td>\n",
              "      <td>False</td>\n",
              "      <td>False</td>\n",
              "      <td>False</td>\n",
              "      <td>False</td>\n",
              "      <td>False</td>\n",
              "      <td>False</td>\n",
              "      <td>False</td>\n",
              "      <td>False</td>\n",
              "      <td>False</td>\n",
              "    </tr>\n",
              "    <tr>\n",
              "      <th>...</th>\n",
              "      <td>...</td>\n",
              "      <td>...</td>\n",
              "      <td>...</td>\n",
              "      <td>...</td>\n",
              "      <td>...</td>\n",
              "      <td>...</td>\n",
              "      <td>...</td>\n",
              "      <td>...</td>\n",
              "      <td>...</td>\n",
              "      <td>...</td>\n",
              "      <td>...</td>\n",
              "      <td>...</td>\n",
              "      <td>...</td>\n",
              "      <td>...</td>\n",
              "      <td>...</td>\n",
              "      <td>...</td>\n",
              "      <td>...</td>\n",
              "      <td>...</td>\n",
              "      <td>...</td>\n",
              "      <td>...</td>\n",
              "      <td>...</td>\n",
              "      <td>...</td>\n",
              "      <td>...</td>\n",
              "      <td>...</td>\n",
              "      <td>...</td>\n",
              "      <td>...</td>\n",
              "      <td>...</td>\n",
              "      <td>...</td>\n",
              "      <td>...</td>\n",
              "      <td>...</td>\n",
              "      <td>...</td>\n",
              "    </tr>\n",
              "    <tr>\n",
              "      <th>1091177</th>\n",
              "      <td>False</td>\n",
              "      <td>False</td>\n",
              "      <td>False</td>\n",
              "      <td>False</td>\n",
              "      <td>False</td>\n",
              "      <td>False</td>\n",
              "      <td>False</td>\n",
              "      <td>False</td>\n",
              "      <td>False</td>\n",
              "      <td>True</td>\n",
              "      <td>False</td>\n",
              "      <td>False</td>\n",
              "      <td>False</td>\n",
              "      <td>False</td>\n",
              "      <td>False</td>\n",
              "      <td>False</td>\n",
              "      <td>False</td>\n",
              "      <td>False</td>\n",
              "      <td>False</td>\n",
              "      <td>False</td>\n",
              "      <td>False</td>\n",
              "      <td>False</td>\n",
              "      <td>False</td>\n",
              "      <td>True</td>\n",
              "      <td>False</td>\n",
              "      <td>False</td>\n",
              "      <td>False</td>\n",
              "      <td>False</td>\n",
              "      <td>False</td>\n",
              "      <td>False</td>\n",
              "      <td>False</td>\n",
              "    </tr>\n",
              "    <tr>\n",
              "      <th>1091178</th>\n",
              "      <td>False</td>\n",
              "      <td>False</td>\n",
              "      <td>False</td>\n",
              "      <td>False</td>\n",
              "      <td>False</td>\n",
              "      <td>False</td>\n",
              "      <td>False</td>\n",
              "      <td>False</td>\n",
              "      <td>False</td>\n",
              "      <td>True</td>\n",
              "      <td>False</td>\n",
              "      <td>False</td>\n",
              "      <td>False</td>\n",
              "      <td>True</td>\n",
              "      <td>True</td>\n",
              "      <td>True</td>\n",
              "      <td>True</td>\n",
              "      <td>True</td>\n",
              "      <td>False</td>\n",
              "      <td>False</td>\n",
              "      <td>False</td>\n",
              "      <td>False</td>\n",
              "      <td>False</td>\n",
              "      <td>True</td>\n",
              "      <td>False</td>\n",
              "      <td>False</td>\n",
              "      <td>False</td>\n",
              "      <td>False</td>\n",
              "      <td>False</td>\n",
              "      <td>False</td>\n",
              "      <td>False</td>\n",
              "    </tr>\n",
              "    <tr>\n",
              "      <th>1091179</th>\n",
              "      <td>False</td>\n",
              "      <td>False</td>\n",
              "      <td>False</td>\n",
              "      <td>False</td>\n",
              "      <td>False</td>\n",
              "      <td>False</td>\n",
              "      <td>False</td>\n",
              "      <td>False</td>\n",
              "      <td>False</td>\n",
              "      <td>True</td>\n",
              "      <td>False</td>\n",
              "      <td>False</td>\n",
              "      <td>False</td>\n",
              "      <td>False</td>\n",
              "      <td>False</td>\n",
              "      <td>False</td>\n",
              "      <td>False</td>\n",
              "      <td>False</td>\n",
              "      <td>False</td>\n",
              "      <td>False</td>\n",
              "      <td>False</td>\n",
              "      <td>False</td>\n",
              "      <td>False</td>\n",
              "      <td>True</td>\n",
              "      <td>False</td>\n",
              "      <td>False</td>\n",
              "      <td>False</td>\n",
              "      <td>False</td>\n",
              "      <td>False</td>\n",
              "      <td>False</td>\n",
              "      <td>False</td>\n",
              "    </tr>\n",
              "    <tr>\n",
              "      <th>1091180</th>\n",
              "      <td>False</td>\n",
              "      <td>False</td>\n",
              "      <td>False</td>\n",
              "      <td>False</td>\n",
              "      <td>False</td>\n",
              "      <td>False</td>\n",
              "      <td>False</td>\n",
              "      <td>False</td>\n",
              "      <td>False</td>\n",
              "      <td>True</td>\n",
              "      <td>False</td>\n",
              "      <td>False</td>\n",
              "      <td>False</td>\n",
              "      <td>True</td>\n",
              "      <td>True</td>\n",
              "      <td>True</td>\n",
              "      <td>True</td>\n",
              "      <td>True</td>\n",
              "      <td>False</td>\n",
              "      <td>False</td>\n",
              "      <td>False</td>\n",
              "      <td>False</td>\n",
              "      <td>False</td>\n",
              "      <td>True</td>\n",
              "      <td>False</td>\n",
              "      <td>False</td>\n",
              "      <td>False</td>\n",
              "      <td>False</td>\n",
              "      <td>False</td>\n",
              "      <td>False</td>\n",
              "      <td>False</td>\n",
              "    </tr>\n",
              "    <tr>\n",
              "      <th>1091181</th>\n",
              "      <td>False</td>\n",
              "      <td>False</td>\n",
              "      <td>False</td>\n",
              "      <td>False</td>\n",
              "      <td>False</td>\n",
              "      <td>False</td>\n",
              "      <td>False</td>\n",
              "      <td>False</td>\n",
              "      <td>False</td>\n",
              "      <td>True</td>\n",
              "      <td>False</td>\n",
              "      <td>False</td>\n",
              "      <td>False</td>\n",
              "      <td>False</td>\n",
              "      <td>False</td>\n",
              "      <td>False</td>\n",
              "      <td>False</td>\n",
              "      <td>False</td>\n",
              "      <td>False</td>\n",
              "      <td>False</td>\n",
              "      <td>False</td>\n",
              "      <td>False</td>\n",
              "      <td>False</td>\n",
              "      <td>True</td>\n",
              "      <td>False</td>\n",
              "      <td>False</td>\n",
              "      <td>False</td>\n",
              "      <td>False</td>\n",
              "      <td>False</td>\n",
              "      <td>False</td>\n",
              "      <td>False</td>\n",
              "    </tr>\n",
              "  </tbody>\n",
              "</table>\n",
              "<p>1091182 rows × 31 columns</p>\n",
              "</div>"
            ],
            "text/plain": [
              "         HCHK_YEAR  PERSON_ID  ...  HCHK_ETCDSE_PMH_YN  HCHK_PHSS_PMH_YN\n",
              "0            False      False  ...               False             False\n",
              "1            False      False  ...               False             False\n",
              "2            False      False  ...               False             False\n",
              "3            False      False  ...               False             False\n",
              "4            False      False  ...               False             False\n",
              "...            ...        ...  ...                 ...               ...\n",
              "1091177      False      False  ...               False             False\n",
              "1091178      False      False  ...               False             False\n",
              "1091179      False      False  ...               False             False\n",
              "1091180      False      False  ...               False             False\n",
              "1091181      False      False  ...               False             False\n",
              "\n",
              "[1091182 rows x 31 columns]"
            ]
          },
          "metadata": {
            "tags": []
          },
          "execution_count": 100
        }
      ]
    },
    {
      "cell_type": "code",
      "metadata": {
        "colab": {
          "base_uri": "https://localhost:8080/"
        },
        "id": "Ao4t_22Z1eUV",
        "outputId": "820cbdea-3ad6-4207-c455-d7a8d6bcd9d4"
      },
      "source": [
        "for i in range(len(gj)):\n",
        "  if not gj_v2['OLIG_PROTE_CD'][i] > 0:\n",
        "    gj_v2['OLIG_PROTE_CD'][i] = 1"
      ],
      "execution_count": 16,
      "outputs": [
        {
          "output_type": "stream",
          "text": [
            "/usr/local/lib/python3.6/dist-packages/ipykernel_launcher.py:3: SettingWithCopyWarning: \n",
            "A value is trying to be set on a copy of a slice from a DataFrame\n",
            "\n",
            "See the caveats in the documentation: https://pandas.pydata.org/pandas-docs/stable/user_guide/indexing.html#returning-a-view-versus-a-copy\n",
            "  This is separate from the ipykernel package so we can avoid doing imports until\n",
            "/usr/local/lib/python3.6/dist-packages/IPython/core/interactiveshell.py:2882: SettingWithCopyWarning: \n",
            "A value is trying to be set on a copy of a slice from a DataFrame\n",
            "\n",
            "See the caveats in the documentation: https://pandas.pydata.org/pandas-docs/stable/user_guide/indexing.html#returning-a-view-versus-a-copy\n",
            "  exec(code_obj, self.user_global_ns, self.user_ns)\n"
          ],
          "name": "stderr"
        }
      ]
    },
    {
      "cell_type": "code",
      "metadata": {
        "id": "B6D-HCZ91z0h"
      },
      "source": [
        "def check_null(df):\n",
        "  for col in df.columns:\n",
        "    if len((pd.isnull(df[col]).unique())) !=1:\n",
        "      print(col,pd.isnull(df[col]).unique())"
      ],
      "execution_count": 17,
      "outputs": []
    },
    {
      "cell_type": "code",
      "metadata": {
        "colab": {
          "base_uri": "https://localhost:8080/"
        },
        "id": "AjJzC4Ou44w0",
        "outputId": "58f06995-740d-44b8-dbb2-18aec98d1ab4"
      },
      "source": [
        "check_null(gj_v2)"
      ],
      "execution_count": 18,
      "outputs": [
        {
          "output_type": "stream",
          "text": [
            "HEIGHT [False  True]\n",
            "WEIGHT [False  True]\n",
            "BP_HIGH [False  True]\n",
            "BP_LWST [False  True]\n",
            "BLDS [False  True]\n",
            "TOT_CHOLE [False  True]\n",
            "HMG [False  True]\n",
            "SGOT_AST [False  True]\n",
            "SGPT_ALT [False  True]\n",
            "GAMMA_GTP [False  True]\n",
            "FMLY_HPRTS_PATIEN_YN [False  True]\n",
            "FMLY_APOP_PATIEN_YN [False  True]\n",
            "FMLY_HDISE_PATIEN_YN [False  True]\n",
            "FMLY_DIABML_PATIEN_YN [False  True]\n",
            "FMLY_CANCER_PATIEN_YN [False  True]\n",
            "SMK_STAT_TYPE_RSPS_CD [False  True]\n",
            "DRNK_HABIT_RSPS_CD [False  True]\n",
            "EXERCI_FREQ_RSPS_CD [False  True]\n"
          ],
          "name": "stdout"
        }
      ]
    },
    {
      "cell_type": "code",
      "metadata": {
        "colab": {
          "base_uri": "https://localhost:8080/"
        },
        "id": "J1y1A-aU47v1",
        "outputId": "82a9cedb-017f-4de1-9070-6f4458fc482f"
      },
      "source": [
        "gj_v2.isnull().sum()"
      ],
      "execution_count": 19,
      "outputs": [
        {
          "output_type": "execute_result",
          "data": {
            "text/plain": [
              "HCHK_YEAR                     0\n",
              "PERSON_ID                     0\n",
              "HEIGHT                     1064\n",
              "WEIGHT                     1066\n",
              "BP_HIGH                     611\n",
              "BP_LWST                     643\n",
              "BLDS                       1213\n",
              "TOT_CHOLE                  1570\n",
              "HMG                        1210\n",
              "OLIG_PROTE_CD                 0\n",
              "SGOT_AST                   1345\n",
              "SGPT_ALT                   1337\n",
              "GAMMA_GTP                  1161\n",
              "FMLY_HPRTS_PATIEN_YN     216631\n",
              "FMLY_APOP_PATIEN_YN      220085\n",
              "FMLY_HDISE_PATIEN_YN     223089\n",
              "FMLY_DIABML_PATIEN_YN    220075\n",
              "FMLY_CANCER_PATIEN_YN    216808\n",
              "SMK_STAT_TYPE_RSPS_CD     34108\n",
              "SMK_TERM_RSPS_CD              0\n",
              "DSQTY_RSPS_CD                 0\n",
              "DRNK_HABIT_RSPS_CD        13891\n",
              "TM1_DRKQTY_RSPS_CD            0\n",
              "EXERCI_FREQ_RSPS_CD      520385\n",
              "HCHK_APOP_PMH_YN              0\n",
              "HCHK_HDISE_PMH_YN             0\n",
              "HCHK_HPRTS_PMH_YN             0\n",
              "HCHK_DIABML_PMH_YN            0\n",
              "HCHK_HPLPDM_PMH_YN            0\n",
              "HCHK_ETCDSE_PMH_YN            0\n",
              "HCHK_PHSS_PMH_YN              0\n",
              "dtype: int64"
            ]
          },
          "metadata": {
            "tags": []
          },
          "execution_count": 19
        }
      ]
    },
    {
      "cell_type": "code",
      "metadata": {
        "colab": {
          "base_uri": "https://localhost:8080/"
        },
        "id": "3fMNpdIZbDpN",
        "outputId": "528ef81e-cc5c-4c0c-cfd6-934a38f95260"
      },
      "source": [
        "gj_v2.isnull().sum()/len(gj_v2)*100"
      ],
      "execution_count": 20,
      "outputs": [
        {
          "output_type": "execute_result",
          "data": {
            "text/plain": [
              "HCHK_YEAR                 0.000000\n",
              "PERSON_ID                 0.000000\n",
              "HEIGHT                    0.097509\n",
              "WEIGHT                    0.097692\n",
              "BP_HIGH                   0.055994\n",
              "BP_LWST                   0.058927\n",
              "BLDS                      0.111164\n",
              "TOT_CHOLE                 0.143881\n",
              "HMG                       0.110889\n",
              "OLIG_PROTE_CD             0.000000\n",
              "SGOT_AST                  0.123261\n",
              "SGPT_ALT                  0.122528\n",
              "GAMMA_GTP                 0.106398\n",
              "FMLY_HPRTS_PATIEN_YN     19.852875\n",
              "FMLY_APOP_PATIEN_YN      20.169413\n",
              "FMLY_HDISE_PATIEN_YN     20.444710\n",
              "FMLY_DIABML_PATIEN_YN    20.168496\n",
              "FMLY_CANCER_PATIEN_YN    19.869096\n",
              "SMK_STAT_TYPE_RSPS_CD     3.125785\n",
              "SMK_TERM_RSPS_CD          0.000000\n",
              "DSQTY_RSPS_CD             0.000000\n",
              "DRNK_HABIT_RSPS_CD        1.273023\n",
              "TM1_DRKQTY_RSPS_CD        0.000000\n",
              "EXERCI_FREQ_RSPS_CD      47.690028\n",
              "HCHK_APOP_PMH_YN          0.000000\n",
              "HCHK_HDISE_PMH_YN         0.000000\n",
              "HCHK_HPRTS_PMH_YN         0.000000\n",
              "HCHK_DIABML_PMH_YN        0.000000\n",
              "HCHK_HPLPDM_PMH_YN        0.000000\n",
              "HCHK_ETCDSE_PMH_YN        0.000000\n",
              "HCHK_PHSS_PMH_YN          0.000000\n",
              "dtype: float64"
            ]
          },
          "metadata": {
            "tags": []
          },
          "execution_count": 20
        }
      ]
    },
    {
      "cell_type": "code",
      "metadata": {
        "colab": {
          "base_uri": "https://localhost:8080/"
        },
        "id": "df_t06OYbV_7",
        "outputId": "22a71275-994e-4437-c9be-91f2951bae88"
      },
      "source": [
        "## replace NaN to 0 in Family disease\n",
        "dis = ['FMLY_HPRTS_PATIEN_YN', 'FMLY_APOP_PATIEN_YN', 'FMLY_HDISE_PATIEN_YN', 'FMLY_DIABML_PATIEN_YN', 'FMLY_CANCER_PATIEN_YN']\n",
        "for i in range(len(gj)):\n",
        "  for d in dis:\n",
        "    if not gj_v2[d][i] > 0:\n",
        "      gj_v2[d][i] = 0"
      ],
      "execution_count": 21,
      "outputs": [
        {
          "output_type": "stream",
          "text": [
            "/usr/local/lib/python3.6/dist-packages/ipykernel_launcher.py:5: SettingWithCopyWarning: \n",
            "A value is trying to be set on a copy of a slice from a DataFrame\n",
            "\n",
            "See the caveats in the documentation: https://pandas.pydata.org/pandas-docs/stable/user_guide/indexing.html#returning-a-view-versus-a-copy\n",
            "  \"\"\"\n",
            "/usr/local/lib/python3.6/dist-packages/IPython/core/interactiveshell.py:2882: SettingWithCopyWarning: \n",
            "A value is trying to be set on a copy of a slice from a DataFrame\n",
            "\n",
            "See the caveats in the documentation: https://pandas.pydata.org/pandas-docs/stable/user_guide/indexing.html#returning-a-view-versus-a-copy\n",
            "  exec(code_obj, self.user_global_ns, self.user_ns)\n"
          ],
          "name": "stderr"
        }
      ]
    },
    {
      "cell_type": "code",
      "metadata": {
        "id": "vA2pwyMycW53"
      },
      "source": [
        "## remove exercise column\n",
        "gj_v2 = gj_v2[['HCHK_YEAR', 'PERSON_ID', 'HEIGHT', 'WEIGHT', 'BP_HIGH',\n",
        "       'BP_LWST', 'BLDS', 'TOT_CHOLE', 'HMG', 'OLIG_PROTE_CD', 'SGOT_AST', 'SGPT_ALT', 'GAMMA_GTP', 'FMLY_HPRTS_PATIEN_YN',\n",
        "       'FMLY_APOP_PATIEN_YN', 'FMLY_HDISE_PATIEN_YN', 'FMLY_DIABML_PATIEN_YN',\n",
        "       'FMLY_CANCER_PATIEN_YN', 'SMK_STAT_TYPE_RSPS_CD', 'SMK_TERM_RSPS_CD',\n",
        "       'DSQTY_RSPS_CD', 'DRNK_HABIT_RSPS_CD', 'TM1_DRKQTY_RSPS_CD',\n",
        "       'HCHK_APOP_PMH_YN', 'HCHK_HDISE_PMH_YN',\n",
        "       'HCHK_HPRTS_PMH_YN', 'HCHK_DIABML_PMH_YN', 'HCHK_HPLPDM_PMH_YN',\n",
        "       'HCHK_ETCDSE_PMH_YN', 'HCHK_PHSS_PMH_YN']]"
      ],
      "execution_count": 22,
      "outputs": []
    },
    {
      "cell_type": "code",
      "metadata": {
        "id": "T1fx0Gyacr1J"
      },
      "source": [
        "## remove row with NaN\n",
        "gj_v3 = gj_v2.dropna(axis=0)"
      ],
      "execution_count": 23,
      "outputs": []
    },
    {
      "cell_type": "code",
      "metadata": {
        "id": "t2VH6YaUc8Sh"
      },
      "source": [
        "check_null(gj_v3)"
      ],
      "execution_count": 24,
      "outputs": []
    },
    {
      "cell_type": "code",
      "metadata": {
        "colab": {
          "base_uri": "https://localhost:8080/",
          "height": 17
        },
        "id": "_fL0MLqmfO2L",
        "outputId": "5954c986-ac04-4536-8419-0eafc25b1da1"
      },
      "source": [
        "from google.colab import files\n",
        "gj_v3.to_csv('gj_clean.csv', sep=',', na_rep='NaN')\n",
        "files.download('gj_clean.csv')"
      ],
      "execution_count": 25,
      "outputs": [
        {
          "output_type": "display_data",
          "data": {
            "application/javascript": [
              "\n",
              "    async function download(id, filename, size) {\n",
              "      if (!google.colab.kernel.accessAllowed) {\n",
              "        return;\n",
              "      }\n",
              "      const div = document.createElement('div');\n",
              "      const label = document.createElement('label');\n",
              "      label.textContent = `Downloading \"${filename}\": `;\n",
              "      div.appendChild(label);\n",
              "      const progress = document.createElement('progress');\n",
              "      progress.max = size;\n",
              "      div.appendChild(progress);\n",
              "      document.body.appendChild(div);\n",
              "\n",
              "      const buffers = [];\n",
              "      let downloaded = 0;\n",
              "\n",
              "      const channel = await google.colab.kernel.comms.open(id);\n",
              "      // Send a message to notify the kernel that we're ready.\n",
              "      channel.send({})\n",
              "\n",
              "      for await (const message of channel.messages) {\n",
              "        // Send a message to notify the kernel that we're ready.\n",
              "        channel.send({})\n",
              "        if (message.buffers) {\n",
              "          for (const buffer of message.buffers) {\n",
              "            buffers.push(buffer);\n",
              "            downloaded += buffer.byteLength;\n",
              "            progress.value = downloaded;\n",
              "          }\n",
              "        }\n",
              "      }\n",
              "      const blob = new Blob(buffers, {type: 'application/binary'});\n",
              "      const a = document.createElement('a');\n",
              "      a.href = window.URL.createObjectURL(blob);\n",
              "      a.download = filename;\n",
              "      div.appendChild(a);\n",
              "      a.click();\n",
              "      div.remove();\n",
              "    }\n",
              "  "
            ],
            "text/plain": [
              "<IPython.core.display.Javascript object>"
            ]
          },
          "metadata": {
            "tags": []
          }
        },
        {
          "output_type": "display_data",
          "data": {
            "application/javascript": [
              "download(\"download_1c2684b1-031c-440e-984c-88e6ee63f42d\", \"gj_clean.csv\", 159938589)"
            ],
            "text/plain": [
              "<IPython.core.display.Javascript object>"
            ]
          },
          "metadata": {
            "tags": []
          }
        }
      ]
    },
    {
      "cell_type": "code",
      "metadata": {
        "colab": {
          "base_uri": "https://localhost:8080/",
          "height": 258
        },
        "id": "JAWjXJEWfhVJ",
        "outputId": "6ffe67a2-23b2-44a6-fdf9-813297081f0f"
      },
      "source": [
        "jk=pd.read_csv('/gdrive/My Drive/Disease Prediction/01.jk/jk_filtered.csv')\n",
        "jk.head()"
      ],
      "execution_count": 42,
      "outputs": [
        {
          "output_type": "stream",
          "text": [
            "/usr/local/lib/python3.6/dist-packages/IPython/core/interactiveshell.py:2718: DtypeWarning: Columns (6,7) have mixed types.Specify dtype option on import or set low_memory=False.\n",
            "  interactivity=interactivity, compiler=compiler, result=result)\n"
          ],
          "name": "stderr"
        },
        {
          "output_type": "execute_result",
          "data": {
            "text/html": [
              "<div>\n",
              "<style scoped>\n",
              "    .dataframe tbody tr th:only-of-type {\n",
              "        vertical-align: middle;\n",
              "    }\n",
              "\n",
              "    .dataframe tbody tr th {\n",
              "        vertical-align: top;\n",
              "    }\n",
              "\n",
              "    .dataframe thead th {\n",
              "        text-align: right;\n",
              "    }\n",
              "</style>\n",
              "<table border=\"1\" class=\"dataframe\">\n",
              "  <thead>\n",
              "    <tr style=\"text-align: right;\">\n",
              "      <th></th>\n",
              "      <th>Unnamed: 0</th>\n",
              "      <th>STND_Y</th>\n",
              "      <th>PERSON_ID</th>\n",
              "      <th>SEX</th>\n",
              "      <th>AGE</th>\n",
              "      <th>DTH_MDY</th>\n",
              "      <th>DTH_CODE1</th>\n",
              "      <th>DTH_CODE2</th>\n",
              "      <th>DFAB_GRD_CD</th>\n",
              "      <th>DFAB_PTN_CD</th>\n",
              "    </tr>\n",
              "  </thead>\n",
              "  <tbody>\n",
              "    <tr>\n",
              "      <th>0</th>\n",
              "      <td>0</td>\n",
              "      <td>2002</td>\n",
              "      <td>10000244</td>\n",
              "      <td>2</td>\n",
              "      <td>102.0</td>\n",
              "      <td>NaN</td>\n",
              "      <td>NaN</td>\n",
              "      <td>NaN</td>\n",
              "      <td>0</td>\n",
              "      <td>0</td>\n",
              "    </tr>\n",
              "    <tr>\n",
              "      <th>1</th>\n",
              "      <td>1</td>\n",
              "      <td>2002</td>\n",
              "      <td>10000284</td>\n",
              "      <td>2</td>\n",
              "      <td>102.0</td>\n",
              "      <td>NaN</td>\n",
              "      <td>NaN</td>\n",
              "      <td>NaN</td>\n",
              "      <td>0</td>\n",
              "      <td>0</td>\n",
              "    </tr>\n",
              "    <tr>\n",
              "      <th>2</th>\n",
              "      <td>2</td>\n",
              "      <td>2002</td>\n",
              "      <td>10000309</td>\n",
              "      <td>2</td>\n",
              "      <td>102.0</td>\n",
              "      <td>NaN</td>\n",
              "      <td>NaN</td>\n",
              "      <td>NaN</td>\n",
              "      <td>0</td>\n",
              "      <td>0</td>\n",
              "    </tr>\n",
              "    <tr>\n",
              "      <th>3</th>\n",
              "      <td>3</td>\n",
              "      <td>2002</td>\n",
              "      <td>10000325</td>\n",
              "      <td>2</td>\n",
              "      <td>102.0</td>\n",
              "      <td>NaN</td>\n",
              "      <td>NaN</td>\n",
              "      <td>NaN</td>\n",
              "      <td>0</td>\n",
              "      <td>0</td>\n",
              "    </tr>\n",
              "    <tr>\n",
              "      <th>4</th>\n",
              "      <td>4</td>\n",
              "      <td>2002</td>\n",
              "      <td>10000439</td>\n",
              "      <td>2</td>\n",
              "      <td>102.0</td>\n",
              "      <td>NaN</td>\n",
              "      <td>NaN</td>\n",
              "      <td>NaN</td>\n",
              "      <td>0</td>\n",
              "      <td>0</td>\n",
              "    </tr>\n",
              "  </tbody>\n",
              "</table>\n",
              "</div>"
            ],
            "text/plain": [
              "   Unnamed: 0  STND_Y  PERSON_ID  ...  DTH_CODE2  DFAB_GRD_CD  DFAB_PTN_CD\n",
              "0           0    2002   10000244  ...        NaN            0            0\n",
              "1           1    2002   10000284  ...        NaN            0            0\n",
              "2           2    2002   10000309  ...        NaN            0            0\n",
              "3           3    2002   10000325  ...        NaN            0            0\n",
              "4           4    2002   10000439  ...        NaN            0            0\n",
              "\n",
              "[5 rows x 10 columns]"
            ]
          },
          "metadata": {
            "tags": []
          },
          "execution_count": 42
        }
      ]
    },
    {
      "cell_type": "code",
      "metadata": {
        "colab": {
          "base_uri": "https://localhost:8080/"
        },
        "id": "SaoHhnqGg-eP",
        "outputId": "493648ff-8c4c-4f12-da13-9d25b36f9185"
      },
      "source": [
        "jk.columns"
      ],
      "execution_count": 28,
      "outputs": [
        {
          "output_type": "execute_result",
          "data": {
            "text/plain": [
              "Index(['Unnamed: 0', 'STND_Y', 'PERSON_ID', 'SEX', 'AGE', 'DTH_MDY',\n",
              "       'DTH_CODE1', 'DTH_CODE2', 'DFAB_GRD_CD', 'DFAB_PTN_CD'],\n",
              "      dtype='object')"
            ]
          },
          "metadata": {
            "tags": []
          },
          "execution_count": 28
        }
      ]
    },
    {
      "cell_type": "code",
      "metadata": {
        "id": "fVa760SAhAvr"
      },
      "source": [
        "jk = jk[['STND_Y', 'PERSON_ID', 'SEX', 'AGE', 'DFAB_GRD_CD', 'DFAB_PTN_CD']]"
      ],
      "execution_count": 44,
      "outputs": []
    },
    {
      "cell_type": "code",
      "metadata": {
        "colab": {
          "base_uri": "https://localhost:8080/",
          "height": 204
        },
        "id": "QiZe4ZVriKJ3",
        "outputId": "55ba67e7-aeec-43e5-d68c-1c0e035f314e"
      },
      "source": [
        "jk.head()"
      ],
      "execution_count": 45,
      "outputs": [
        {
          "output_type": "execute_result",
          "data": {
            "text/html": [
              "<div>\n",
              "<style scoped>\n",
              "    .dataframe tbody tr th:only-of-type {\n",
              "        vertical-align: middle;\n",
              "    }\n",
              "\n",
              "    .dataframe tbody tr th {\n",
              "        vertical-align: top;\n",
              "    }\n",
              "\n",
              "    .dataframe thead th {\n",
              "        text-align: right;\n",
              "    }\n",
              "</style>\n",
              "<table border=\"1\" class=\"dataframe\">\n",
              "  <thead>\n",
              "    <tr style=\"text-align: right;\">\n",
              "      <th></th>\n",
              "      <th>STND_Y</th>\n",
              "      <th>PERSON_ID</th>\n",
              "      <th>SEX</th>\n",
              "      <th>AGE</th>\n",
              "      <th>DFAB_GRD_CD</th>\n",
              "      <th>DFAB_PTN_CD</th>\n",
              "    </tr>\n",
              "  </thead>\n",
              "  <tbody>\n",
              "    <tr>\n",
              "      <th>0</th>\n",
              "      <td>2002</td>\n",
              "      <td>10000244</td>\n",
              "      <td>2</td>\n",
              "      <td>102.0</td>\n",
              "      <td>0</td>\n",
              "      <td>0</td>\n",
              "    </tr>\n",
              "    <tr>\n",
              "      <th>1</th>\n",
              "      <td>2002</td>\n",
              "      <td>10000284</td>\n",
              "      <td>2</td>\n",
              "      <td>102.0</td>\n",
              "      <td>0</td>\n",
              "      <td>0</td>\n",
              "    </tr>\n",
              "    <tr>\n",
              "      <th>2</th>\n",
              "      <td>2002</td>\n",
              "      <td>10000309</td>\n",
              "      <td>2</td>\n",
              "      <td>102.0</td>\n",
              "      <td>0</td>\n",
              "      <td>0</td>\n",
              "    </tr>\n",
              "    <tr>\n",
              "      <th>3</th>\n",
              "      <td>2002</td>\n",
              "      <td>10000325</td>\n",
              "      <td>2</td>\n",
              "      <td>102.0</td>\n",
              "      <td>0</td>\n",
              "      <td>0</td>\n",
              "    </tr>\n",
              "    <tr>\n",
              "      <th>4</th>\n",
              "      <td>2002</td>\n",
              "      <td>10000439</td>\n",
              "      <td>2</td>\n",
              "      <td>102.0</td>\n",
              "      <td>0</td>\n",
              "      <td>0</td>\n",
              "    </tr>\n",
              "  </tbody>\n",
              "</table>\n",
              "</div>"
            ],
            "text/plain": [
              "   STND_Y  PERSON_ID  SEX    AGE  DFAB_GRD_CD  DFAB_PTN_CD\n",
              "0    2002   10000244    2  102.0            0            0\n",
              "1    2002   10000284    2  102.0            0            0\n",
              "2    2002   10000309    2  102.0            0            0\n",
              "3    2002   10000325    2  102.0            0            0\n",
              "4    2002   10000439    2  102.0            0            0"
            ]
          },
          "metadata": {
            "tags": []
          },
          "execution_count": 45
        }
      ]
    },
    {
      "cell_type": "code",
      "metadata": {
        "colab": {
          "base_uri": "https://localhost:8080/"
        },
        "id": "piRdWIpuiOfs",
        "outputId": "f5072f75-1191-4626-b45c-f81603b73844"
      },
      "source": [
        "jk.isnull().sum()"
      ],
      "execution_count": 34,
      "outputs": [
        {
          "output_type": "execute_result",
          "data": {
            "text/plain": [
              "STND_Y         0\n",
              "PERSON_ID      0\n",
              "SEX            0\n",
              "AGE            0\n",
              "DFAB_GRD_CD    0\n",
              "DFAB_PTN_CD    0\n",
              "dtype: int64"
            ]
          },
          "metadata": {
            "tags": []
          },
          "execution_count": 34
        }
      ]
    },
    {
      "cell_type": "code",
      "metadata": {
        "colab": {
          "base_uri": "https://localhost:8080/"
        },
        "id": "GqguZuyDj4DH",
        "outputId": "d5f0761f-fe81-4b37-8e62-8baa317c55d7"
      },
      "source": [
        "jk['PERSON_ID'].isnull().sum()"
      ],
      "execution_count": 39,
      "outputs": [
        {
          "output_type": "execute_result",
          "data": {
            "text/plain": [
              "0"
            ]
          },
          "metadata": {
            "tags": []
          },
          "execution_count": 39
        }
      ]
    },
    {
      "cell_type": "code",
      "metadata": {
        "colab": {
          "base_uri": "https://localhost:8080/"
        },
        "id": "a-BX_R9ViUG2",
        "outputId": "7222cc2f-53ff-48a3-cb81-6eeb71bbd72b"
      },
      "source": [
        "jk['DFAB_PTN_CD'].unique()"
      ],
      "execution_count": 35,
      "outputs": [
        {
          "output_type": "execute_result",
          "data": {
            "text/plain": [
              "array([0, 1, 4, 5, 2, 3, 9, 6, 7])"
            ]
          },
          "metadata": {
            "tags": []
          },
          "execution_count": 35
        }
      ]
    },
    {
      "cell_type": "code",
      "metadata": {
        "id": "txKF1fXCp5Kv"
      },
      "source": [
        "jk['DFAB_1']=0\n",
        "jk['DFAB_2']=0\n",
        "jk['DFAB_3']=0\n",
        "jk['DFAB_4']=0\n",
        "jk['DFAB_5']=0\n",
        "jk['DFAB_6']=0\n",
        "jk['DFAB_7']=0\n",
        "jk['DFAB_9']=0"
      ],
      "execution_count": 49,
      "outputs": []
    },
    {
      "cell_type": "code",
      "metadata": {
        "colab": {
          "base_uri": "https://localhost:8080/"
        },
        "id": "AtYVxx-0jDS6",
        "outputId": "872d8476-c59b-42c2-9213-deac2173b577"
      },
      "source": [
        "jk.duplicated().sum()"
      ],
      "execution_count": 38,
      "outputs": [
        {
          "output_type": "execute_result",
          "data": {
            "text/plain": [
              "0"
            ]
          },
          "metadata": {
            "tags": []
          },
          "execution_count": 38
        }
      ]
    },
    {
      "cell_type": "code",
      "metadata": {
        "colab": {
          "base_uri": "https://localhost:8080/"
        },
        "id": "GqCAUygBitec",
        "outputId": "7961036d-2819-47f8-e9ff-7f9fc888cc92"
      },
      "source": [
        "for i in range(len(jk)):\n",
        "  if jk['DFAB_GRD_CD'][i] != 0:\n",
        "    jk['DFAB_'+str(jk['DFAB_PTN_CD'][i])][i] = float(1/jk['DFAB_GRD_CD'][i])"
      ],
      "execution_count": 50,
      "outputs": [
        {
          "output_type": "stream",
          "text": [
            "/usr/local/lib/python3.6/dist-packages/ipykernel_launcher.py:3: SettingWithCopyWarning: \n",
            "A value is trying to be set on a copy of a slice from a DataFrame\n",
            "\n",
            "See the caveats in the documentation: https://pandas.pydata.org/pandas-docs/stable/user_guide/indexing.html#returning-a-view-versus-a-copy\n",
            "  This is separate from the ipykernel package so we can avoid doing imports until\n"
          ],
          "name": "stderr"
        }
      ]
    },
    {
      "cell_type": "code",
      "metadata": {
        "colab": {
          "base_uri": "https://localhost:8080/",
          "height": 204
        },
        "id": "qWEOzSt6kXtv",
        "outputId": "988c87a2-15af-440f-cd83-61309f1dd73b"
      },
      "source": [
        "jk.head()"
      ],
      "execution_count": 51,
      "outputs": [
        {
          "output_type": "execute_result",
          "data": {
            "text/html": [
              "<div>\n",
              "<style scoped>\n",
              "    .dataframe tbody tr th:only-of-type {\n",
              "        vertical-align: middle;\n",
              "    }\n",
              "\n",
              "    .dataframe tbody tr th {\n",
              "        vertical-align: top;\n",
              "    }\n",
              "\n",
              "    .dataframe thead th {\n",
              "        text-align: right;\n",
              "    }\n",
              "</style>\n",
              "<table border=\"1\" class=\"dataframe\">\n",
              "  <thead>\n",
              "    <tr style=\"text-align: right;\">\n",
              "      <th></th>\n",
              "      <th>STND_Y</th>\n",
              "      <th>PERSON_ID</th>\n",
              "      <th>SEX</th>\n",
              "      <th>AGE</th>\n",
              "      <th>DFAB_GRD_CD</th>\n",
              "      <th>DFAB_PTN_CD</th>\n",
              "      <th>DFAB_1</th>\n",
              "      <th>DFAB_2</th>\n",
              "      <th>DFAB_3</th>\n",
              "      <th>DFAB_4</th>\n",
              "      <th>DFAB_5</th>\n",
              "      <th>DFAB_6</th>\n",
              "      <th>DFAB_7</th>\n",
              "      <th>DFAB_9</th>\n",
              "    </tr>\n",
              "  </thead>\n",
              "  <tbody>\n",
              "    <tr>\n",
              "      <th>0</th>\n",
              "      <td>2002</td>\n",
              "      <td>10000244</td>\n",
              "      <td>2</td>\n",
              "      <td>102.0</td>\n",
              "      <td>0</td>\n",
              "      <td>0</td>\n",
              "      <td>0</td>\n",
              "      <td>0</td>\n",
              "      <td>0</td>\n",
              "      <td>0</td>\n",
              "      <td>0</td>\n",
              "      <td>0</td>\n",
              "      <td>0</td>\n",
              "      <td>0</td>\n",
              "    </tr>\n",
              "    <tr>\n",
              "      <th>1</th>\n",
              "      <td>2002</td>\n",
              "      <td>10000284</td>\n",
              "      <td>2</td>\n",
              "      <td>102.0</td>\n",
              "      <td>0</td>\n",
              "      <td>0</td>\n",
              "      <td>0</td>\n",
              "      <td>0</td>\n",
              "      <td>0</td>\n",
              "      <td>0</td>\n",
              "      <td>0</td>\n",
              "      <td>0</td>\n",
              "      <td>0</td>\n",
              "      <td>0</td>\n",
              "    </tr>\n",
              "    <tr>\n",
              "      <th>2</th>\n",
              "      <td>2002</td>\n",
              "      <td>10000309</td>\n",
              "      <td>2</td>\n",
              "      <td>102.0</td>\n",
              "      <td>0</td>\n",
              "      <td>0</td>\n",
              "      <td>0</td>\n",
              "      <td>0</td>\n",
              "      <td>0</td>\n",
              "      <td>0</td>\n",
              "      <td>0</td>\n",
              "      <td>0</td>\n",
              "      <td>0</td>\n",
              "      <td>0</td>\n",
              "    </tr>\n",
              "    <tr>\n",
              "      <th>3</th>\n",
              "      <td>2002</td>\n",
              "      <td>10000325</td>\n",
              "      <td>2</td>\n",
              "      <td>102.0</td>\n",
              "      <td>0</td>\n",
              "      <td>0</td>\n",
              "      <td>0</td>\n",
              "      <td>0</td>\n",
              "      <td>0</td>\n",
              "      <td>0</td>\n",
              "      <td>0</td>\n",
              "      <td>0</td>\n",
              "      <td>0</td>\n",
              "      <td>0</td>\n",
              "    </tr>\n",
              "    <tr>\n",
              "      <th>4</th>\n",
              "      <td>2002</td>\n",
              "      <td>10000439</td>\n",
              "      <td>2</td>\n",
              "      <td>102.0</td>\n",
              "      <td>0</td>\n",
              "      <td>0</td>\n",
              "      <td>0</td>\n",
              "      <td>0</td>\n",
              "      <td>0</td>\n",
              "      <td>0</td>\n",
              "      <td>0</td>\n",
              "      <td>0</td>\n",
              "      <td>0</td>\n",
              "      <td>0</td>\n",
              "    </tr>\n",
              "  </tbody>\n",
              "</table>\n",
              "</div>"
            ],
            "text/plain": [
              "   STND_Y  PERSON_ID  SEX    AGE  ...  DFAB_5  DFAB_6  DFAB_7  DFAB_9\n",
              "0    2002   10000244    2  102.0  ...       0       0       0       0\n",
              "1    2002   10000284    2  102.0  ...       0       0       0       0\n",
              "2    2002   10000309    2  102.0  ...       0       0       0       0\n",
              "3    2002   10000325    2  102.0  ...       0       0       0       0\n",
              "4    2002   10000439    2  102.0  ...       0       0       0       0\n",
              "\n",
              "[5 rows x 14 columns]"
            ]
          },
          "metadata": {
            "tags": []
          },
          "execution_count": 51
        }
      ]
    },
    {
      "cell_type": "code",
      "metadata": {
        "colab": {
          "base_uri": "https://localhost:8080/"
        },
        "id": "klwpgtINopZV",
        "outputId": "4e836e5d-5672-458e-9f29-f3ef56bcab16"
      },
      "source": [
        "jk.columns"
      ],
      "execution_count": 52,
      "outputs": [
        {
          "output_type": "execute_result",
          "data": {
            "text/plain": [
              "Index(['STND_Y', 'PERSON_ID', 'SEX', 'AGE', 'DFAB_GRD_CD', 'DFAB_PTN_CD',\n",
              "       'DFAB_1', 'DFAB_2', 'DFAB_3', 'DFAB_4', 'DFAB_5', 'DFAB_6', 'DFAB_7',\n",
              "       'DFAB_9'],\n",
              "      dtype='object')"
            ]
          },
          "metadata": {
            "tags": []
          },
          "execution_count": 52
        }
      ]
    },
    {
      "cell_type": "code",
      "metadata": {
        "id": "lcUIlpPxqiiY"
      },
      "source": [
        "jk = jk[['STND_Y', 'PERSON_ID', 'SEX', 'AGE',\n",
        "       'DFAB_1', 'DFAB_2', 'DFAB_3', 'DFAB_4', 'DFAB_5', 'DFAB_6', 'DFAB_7',\n",
        "       'DFAB_9']]"
      ],
      "execution_count": 53,
      "outputs": []
    },
    {
      "cell_type": "code",
      "metadata": {
        "colab": {
          "base_uri": "https://localhost:8080/",
          "height": 204
        },
        "id": "x08oVsDGqm5l",
        "outputId": "873a2248-4d29-409e-f5ed-b8ac092101ee"
      },
      "source": [
        "jk.head()"
      ],
      "execution_count": 54,
      "outputs": [
        {
          "output_type": "execute_result",
          "data": {
            "text/html": [
              "<div>\n",
              "<style scoped>\n",
              "    .dataframe tbody tr th:only-of-type {\n",
              "        vertical-align: middle;\n",
              "    }\n",
              "\n",
              "    .dataframe tbody tr th {\n",
              "        vertical-align: top;\n",
              "    }\n",
              "\n",
              "    .dataframe thead th {\n",
              "        text-align: right;\n",
              "    }\n",
              "</style>\n",
              "<table border=\"1\" class=\"dataframe\">\n",
              "  <thead>\n",
              "    <tr style=\"text-align: right;\">\n",
              "      <th></th>\n",
              "      <th>STND_Y</th>\n",
              "      <th>PERSON_ID</th>\n",
              "      <th>SEX</th>\n",
              "      <th>AGE</th>\n",
              "      <th>DFAB_1</th>\n",
              "      <th>DFAB_2</th>\n",
              "      <th>DFAB_3</th>\n",
              "      <th>DFAB_4</th>\n",
              "      <th>DFAB_5</th>\n",
              "      <th>DFAB_6</th>\n",
              "      <th>DFAB_7</th>\n",
              "      <th>DFAB_9</th>\n",
              "    </tr>\n",
              "  </thead>\n",
              "  <tbody>\n",
              "    <tr>\n",
              "      <th>0</th>\n",
              "      <td>2002</td>\n",
              "      <td>10000244</td>\n",
              "      <td>2</td>\n",
              "      <td>102.0</td>\n",
              "      <td>0</td>\n",
              "      <td>0</td>\n",
              "      <td>0</td>\n",
              "      <td>0</td>\n",
              "      <td>0</td>\n",
              "      <td>0</td>\n",
              "      <td>0</td>\n",
              "      <td>0</td>\n",
              "    </tr>\n",
              "    <tr>\n",
              "      <th>1</th>\n",
              "      <td>2002</td>\n",
              "      <td>10000284</td>\n",
              "      <td>2</td>\n",
              "      <td>102.0</td>\n",
              "      <td>0</td>\n",
              "      <td>0</td>\n",
              "      <td>0</td>\n",
              "      <td>0</td>\n",
              "      <td>0</td>\n",
              "      <td>0</td>\n",
              "      <td>0</td>\n",
              "      <td>0</td>\n",
              "    </tr>\n",
              "    <tr>\n",
              "      <th>2</th>\n",
              "      <td>2002</td>\n",
              "      <td>10000309</td>\n",
              "      <td>2</td>\n",
              "      <td>102.0</td>\n",
              "      <td>0</td>\n",
              "      <td>0</td>\n",
              "      <td>0</td>\n",
              "      <td>0</td>\n",
              "      <td>0</td>\n",
              "      <td>0</td>\n",
              "      <td>0</td>\n",
              "      <td>0</td>\n",
              "    </tr>\n",
              "    <tr>\n",
              "      <th>3</th>\n",
              "      <td>2002</td>\n",
              "      <td>10000325</td>\n",
              "      <td>2</td>\n",
              "      <td>102.0</td>\n",
              "      <td>0</td>\n",
              "      <td>0</td>\n",
              "      <td>0</td>\n",
              "      <td>0</td>\n",
              "      <td>0</td>\n",
              "      <td>0</td>\n",
              "      <td>0</td>\n",
              "      <td>0</td>\n",
              "    </tr>\n",
              "    <tr>\n",
              "      <th>4</th>\n",
              "      <td>2002</td>\n",
              "      <td>10000439</td>\n",
              "      <td>2</td>\n",
              "      <td>102.0</td>\n",
              "      <td>0</td>\n",
              "      <td>0</td>\n",
              "      <td>0</td>\n",
              "      <td>0</td>\n",
              "      <td>0</td>\n",
              "      <td>0</td>\n",
              "      <td>0</td>\n",
              "      <td>0</td>\n",
              "    </tr>\n",
              "  </tbody>\n",
              "</table>\n",
              "</div>"
            ],
            "text/plain": [
              "   STND_Y  PERSON_ID  SEX    AGE  ...  DFAB_5  DFAB_6  DFAB_7  DFAB_9\n",
              "0    2002   10000244    2  102.0  ...       0       0       0       0\n",
              "1    2002   10000284    2  102.0  ...       0       0       0       0\n",
              "2    2002   10000309    2  102.0  ...       0       0       0       0\n",
              "3    2002   10000325    2  102.0  ...       0       0       0       0\n",
              "4    2002   10000439    2  102.0  ...       0       0       0       0\n",
              "\n",
              "[5 rows x 12 columns]"
            ]
          },
          "metadata": {
            "tags": []
          },
          "execution_count": 54
        }
      ]
    },
    {
      "cell_type": "code",
      "metadata": {
        "colab": {
          "base_uri": "https://localhost:8080/",
          "height": 204
        },
        "id": "aunGfbDiqoDH",
        "outputId": "1d917636-4a59-44dd-e12a-78b6bbd8d941"
      },
      "source": [
        "jk.tail()"
      ],
      "execution_count": 55,
      "outputs": [
        {
          "output_type": "execute_result",
          "data": {
            "text/html": [
              "<div>\n",
              "<style scoped>\n",
              "    .dataframe tbody tr th:only-of-type {\n",
              "        vertical-align: middle;\n",
              "    }\n",
              "\n",
              "    .dataframe tbody tr th {\n",
              "        vertical-align: top;\n",
              "    }\n",
              "\n",
              "    .dataframe thead th {\n",
              "        text-align: right;\n",
              "    }\n",
              "</style>\n",
              "<table border=\"1\" class=\"dataframe\">\n",
              "  <thead>\n",
              "    <tr style=\"text-align: right;\">\n",
              "      <th></th>\n",
              "      <th>STND_Y</th>\n",
              "      <th>PERSON_ID</th>\n",
              "      <th>SEX</th>\n",
              "      <th>AGE</th>\n",
              "      <th>DFAB_1</th>\n",
              "      <th>DFAB_2</th>\n",
              "      <th>DFAB_3</th>\n",
              "      <th>DFAB_4</th>\n",
              "      <th>DFAB_5</th>\n",
              "      <th>DFAB_6</th>\n",
              "      <th>DFAB_7</th>\n",
              "      <th>DFAB_9</th>\n",
              "    </tr>\n",
              "  </thead>\n",
              "  <tbody>\n",
              "    <tr>\n",
              "      <th>5743768</th>\n",
              "      <td>2013</td>\n",
              "      <td>99986977</td>\n",
              "      <td>2</td>\n",
              "      <td>122.0</td>\n",
              "      <td>0</td>\n",
              "      <td>0</td>\n",
              "      <td>0</td>\n",
              "      <td>0</td>\n",
              "      <td>0</td>\n",
              "      <td>0</td>\n",
              "      <td>0</td>\n",
              "      <td>0</td>\n",
              "    </tr>\n",
              "    <tr>\n",
              "      <th>5743769</th>\n",
              "      <td>2013</td>\n",
              "      <td>99987991</td>\n",
              "      <td>2</td>\n",
              "      <td>120.0</td>\n",
              "      <td>0</td>\n",
              "      <td>0</td>\n",
              "      <td>0</td>\n",
              "      <td>0</td>\n",
              "      <td>0</td>\n",
              "      <td>0</td>\n",
              "      <td>0</td>\n",
              "      <td>0</td>\n",
              "    </tr>\n",
              "    <tr>\n",
              "      <th>5743770</th>\n",
              "      <td>2013</td>\n",
              "      <td>99988001</td>\n",
              "      <td>2</td>\n",
              "      <td>119.0</td>\n",
              "      <td>0</td>\n",
              "      <td>0</td>\n",
              "      <td>0</td>\n",
              "      <td>0</td>\n",
              "      <td>0</td>\n",
              "      <td>0</td>\n",
              "      <td>0</td>\n",
              "      <td>0</td>\n",
              "    </tr>\n",
              "    <tr>\n",
              "      <th>5743771</th>\n",
              "      <td>2013</td>\n",
              "      <td>99989723</td>\n",
              "      <td>2</td>\n",
              "      <td>116.0</td>\n",
              "      <td>0</td>\n",
              "      <td>0</td>\n",
              "      <td>0</td>\n",
              "      <td>0</td>\n",
              "      <td>0</td>\n",
              "      <td>0</td>\n",
              "      <td>0</td>\n",
              "      <td>0</td>\n",
              "    </tr>\n",
              "    <tr>\n",
              "      <th>5743772</th>\n",
              "      <td>2013</td>\n",
              "      <td>99989993</td>\n",
              "      <td>2</td>\n",
              "      <td>116.0</td>\n",
              "      <td>0</td>\n",
              "      <td>0</td>\n",
              "      <td>0</td>\n",
              "      <td>0</td>\n",
              "      <td>0</td>\n",
              "      <td>0</td>\n",
              "      <td>0</td>\n",
              "      <td>0</td>\n",
              "    </tr>\n",
              "  </tbody>\n",
              "</table>\n",
              "</div>"
            ],
            "text/plain": [
              "         STND_Y  PERSON_ID  SEX    AGE  ...  DFAB_5  DFAB_6  DFAB_7  DFAB_9\n",
              "5743768    2013   99986977    2  122.0  ...       0       0       0       0\n",
              "5743769    2013   99987991    2  120.0  ...       0       0       0       0\n",
              "5743770    2013   99988001    2  119.0  ...       0       0       0       0\n",
              "5743771    2013   99989723    2  116.0  ...       0       0       0       0\n",
              "5743772    2013   99989993    2  116.0  ...       0       0       0       0\n",
              "\n",
              "[5 rows x 12 columns]"
            ]
          },
          "metadata": {
            "tags": []
          },
          "execution_count": 55
        }
      ]
    },
    {
      "cell_type": "code",
      "metadata": {
        "colab": {
          "base_uri": "https://localhost:8080/",
          "height": 17
        },
        "id": "3APgP5sxqqMv",
        "outputId": "52e628ae-ec8c-4a0b-c63c-6f4363ba709c"
      },
      "source": [
        "from google.colab import files\n",
        "jk.to_csv('jk_clean.csv', sep=',', na_rep='NaN')\n",
        "files.download('jk_clean.csv')"
      ],
      "execution_count": 57,
      "outputs": [
        {
          "output_type": "display_data",
          "data": {
            "application/javascript": [
              "\n",
              "    async function download(id, filename, size) {\n",
              "      if (!google.colab.kernel.accessAllowed) {\n",
              "        return;\n",
              "      }\n",
              "      const div = document.createElement('div');\n",
              "      const label = document.createElement('label');\n",
              "      label.textContent = `Downloading \"${filename}\": `;\n",
              "      div.appendChild(label);\n",
              "      const progress = document.createElement('progress');\n",
              "      progress.max = size;\n",
              "      div.appendChild(progress);\n",
              "      document.body.appendChild(div);\n",
              "\n",
              "      const buffers = [];\n",
              "      let downloaded = 0;\n",
              "\n",
              "      const channel = await google.colab.kernel.comms.open(id);\n",
              "      // Send a message to notify the kernel that we're ready.\n",
              "      channel.send({})\n",
              "\n",
              "      for await (const message of channel.messages) {\n",
              "        // Send a message to notify the kernel that we're ready.\n",
              "        channel.send({})\n",
              "        if (message.buffers) {\n",
              "          for (const buffer of message.buffers) {\n",
              "            buffers.push(buffer);\n",
              "            downloaded += buffer.byteLength;\n",
              "            progress.value = downloaded;\n",
              "          }\n",
              "        }\n",
              "      }\n",
              "      const blob = new Blob(buffers, {type: 'application/binary'});\n",
              "      const a = document.createElement('a');\n",
              "      a.href = window.URL.createObjectURL(blob);\n",
              "      a.download = filename;\n",
              "      div.appendChild(a);\n",
              "      a.click();\n",
              "      div.remove();\n",
              "    }\n",
              "  "
            ],
            "text/plain": [
              "<IPython.core.display.Javascript object>"
            ]
          },
          "metadata": {
            "tags": []
          }
        },
        {
          "output_type": "display_data",
          "data": {
            "application/javascript": [
              "download(\"download_fa962538-1b46-48cd-9c9d-319e4c2ee22d\", \"jk_clean.csv\", 257362393)"
            ],
            "text/plain": [
              "<IPython.core.display.Javascript object>"
            ]
          },
          "metadata": {
            "tags": []
          }
        }
      ]
    },
    {
      "cell_type": "code",
      "metadata": {
        "colab": {
          "base_uri": "https://localhost:8080/",
          "height": 204
        },
        "id": "n7jYH6s2qwdZ",
        "outputId": "27c60647-155e-4115-cd46-1c2ade25b8e7"
      },
      "source": [
        "t1=pd.read_csv('/gdrive/My Drive/Disease Prediction/02.T120/T1_filtered_v2.csv')\n",
        "t1.head()"
      ],
      "execution_count": 58,
      "outputs": [
        {
          "output_type": "execute_result",
          "data": {
            "text/html": [
              "<div>\n",
              "<style scoped>\n",
              "    .dataframe tbody tr th:only-of-type {\n",
              "        vertical-align: middle;\n",
              "    }\n",
              "\n",
              "    .dataframe tbody tr th {\n",
              "        vertical-align: top;\n",
              "    }\n",
              "\n",
              "    .dataframe thead th {\n",
              "        text-align: right;\n",
              "    }\n",
              "</style>\n",
              "<table border=\"1\" class=\"dataframe\">\n",
              "  <thead>\n",
              "    <tr style=\"text-align: right;\">\n",
              "      <th></th>\n",
              "      <th>PERSON_ID</th>\n",
              "      <th>MAIN_SICK</th>\n",
              "      <th>SUB_SICK</th>\n",
              "      <th>RECN</th>\n",
              "      <th>VSCN</th>\n",
              "    </tr>\n",
              "  </thead>\n",
              "  <tbody>\n",
              "    <tr>\n",
              "      <th>0</th>\n",
              "      <td>99672344</td>\n",
              "      <td>I63</td>\n",
              "      <td>K70</td>\n",
              "      <td>1.0</td>\n",
              "      <td>1.0</td>\n",
              "    </tr>\n",
              "    <tr>\n",
              "      <th>1</th>\n",
              "      <td>99494563</td>\n",
              "      <td>S2230</td>\n",
              "      <td>NaN</td>\n",
              "      <td>4.0</td>\n",
              "      <td>1.0</td>\n",
              "    </tr>\n",
              "    <tr>\n",
              "      <th>2</th>\n",
              "      <td>99879986</td>\n",
              "      <td>E11</td>\n",
              "      <td>E78</td>\n",
              "      <td>1.0</td>\n",
              "      <td>1.0</td>\n",
              "    </tr>\n",
              "    <tr>\n",
              "      <th>3</th>\n",
              "      <td>99672344</td>\n",
              "      <td>I63</td>\n",
              "      <td>K70</td>\n",
              "      <td>2.0</td>\n",
              "      <td>2.0</td>\n",
              "    </tr>\n",
              "    <tr>\n",
              "      <th>4</th>\n",
              "      <td>99672344</td>\n",
              "      <td>G409</td>\n",
              "      <td>I639</td>\n",
              "      <td>22.0</td>\n",
              "      <td>8.0</td>\n",
              "    </tr>\n",
              "  </tbody>\n",
              "</table>\n",
              "</div>"
            ],
            "text/plain": [
              "   PERSON_ID MAIN_SICK SUB_SICK  RECN  VSCN\n",
              "0   99672344       I63      K70   1.0   1.0\n",
              "1   99494563     S2230      NaN   4.0   1.0\n",
              "2   99879986       E11      E78   1.0   1.0\n",
              "3   99672344       I63      K70   2.0   2.0\n",
              "4   99672344      G409     I639  22.0   8.0"
            ]
          },
          "metadata": {
            "tags": []
          },
          "execution_count": 58
        }
      ]
    },
    {
      "cell_type": "code",
      "metadata": {
        "colab": {
          "base_uri": "https://localhost:8080/"
        },
        "id": "bbkZwp6GsGd5",
        "outputId": "724b028c-d05b-47a9-9af9-7bdf9079736e"
      },
      "source": [
        "check_null(t1)"
      ],
      "execution_count": 59,
      "outputs": [
        {
          "output_type": "stream",
          "text": [
            "MAIN_SICK [False  True]\n",
            "SUB_SICK [False  True]\n"
          ],
          "name": "stdout"
        }
      ]
    },
    {
      "cell_type": "code",
      "metadata": {
        "colab": {
          "base_uri": "https://localhost:8080/"
        },
        "id": "UGOiicr3sKPI",
        "outputId": "a5e78ba2-2bef-479c-8120-cfa6be677ed7"
      },
      "source": [
        "t1.columns"
      ],
      "execution_count": 60,
      "outputs": [
        {
          "output_type": "execute_result",
          "data": {
            "text/plain": [
              "Index(['PERSON_ID', 'MAIN_SICK', 'SUB_SICK', 'RECN', 'VSCN'], dtype='object')"
            ]
          },
          "metadata": {
            "tags": []
          },
          "execution_count": 60
        }
      ]
    },
    {
      "cell_type": "code",
      "metadata": {
        "id": "y0xd6CtOse6E"
      },
      "source": [
        "t1 = t1[['PERSON_ID', 'MAIN_SICK', 'SUB_SICK']]"
      ],
      "execution_count": 61,
      "outputs": []
    },
    {
      "cell_type": "code",
      "metadata": {
        "id": "4T0TpeYhsi2s"
      },
      "source": [
        ""
      ],
      "execution_count": null,
      "outputs": []
    }
  ]
}